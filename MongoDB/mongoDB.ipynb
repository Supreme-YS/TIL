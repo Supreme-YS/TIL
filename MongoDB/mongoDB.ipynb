{
 "cells": [
  {
   "cell_type": "markdown",
   "metadata": {},
   "source": [
    "- Not Only SQL(NoSQL)\n",
    "- 정해진 규칙이 없다. (Schema X)\n",
    "- JOIN 구문 사용 불가\n",
    "- key / value 이루어진 데이터를 담는다\n",
    "- Database - Collection(table) - Document(row)"
   ]
  },
  {
   "cell_type": "markdown",
   "metadata": {},
   "source": [
    "### db.user.find( {condition} , {column list} ) \n",
    "\n",
    "- db.user.find() - select * from user\n",
    "\n",
    "- db.user.find({}, { user_id : 1, _id : 0 })- select user_id from user  # 1은 visible, 2는 invisible\n",
    "\n",
    "- db.user.find({gender : 'f'}, {} ) - select * from user where XXXXXX\n",
    "\n",
    "- db.user.find({user_id : 'supreme-ys', gender : 'm'}, { }) - select * from user where user_id = xxx and gender = xxx\n",
    "\n",
    "- db.user.find( { $or :  [ {user_id : 'supreme-ys'} , {gender : 'm'} ] } , { }) - select * from user where user_id = xxx or gender = xxx"
   ]
  },
  {
   "cell_type": "markdown",
   "metadata": {},
   "source": [
    "### 만약 수정하고 싶다면?\n",
    "- db.collection_name.updateOne({condition}, {set})\n",
    "- db.collection_name.updateMany()\n",
    "- 예시)\n",
    "- update user\n",
    "  set gender = 'f'\n",
    "  where user_id = 'supreme-ys'\n",
    "\n",
    "- db.user.updateOne({ user_id : 'supreme-ys'}, {$set : {gender: 'f'} })"
   ]
  },
  {
   "cell_type": "markdown",
   "metadata": {},
   "source": [
    "### 만약 삭제하고 싶다면?\n",
    "- db.user.removeOne({where})\n",
    "- db.user.removeMany({where})\n",
    "- DBMS) delete from table\n",
    "where condition ;"
   ]
  },
  {
   "cell_type": "markdown",
   "metadata": {},
   "source": [
    "### 만약 입력하고 싶다면?\n",
    "- db.collection_name.insertOne({key : value})\n",
    "- db.collection_name.insertMany([{key : value}]) 리스트안에 딕셔너리 형태를 만들어서 넣는다."
   ]
  },
  {
   "cell_type": "code",
   "execution_count": 3,
   "metadata": {},
   "outputs": [],
   "source": [
    "# pip install pymongo"
   ]
  },
  {
   "cell_type": "code",
   "execution_count": 12,
   "metadata": {},
   "outputs": [],
   "source": [
    "import pymongo as mongo"
   ]
  },
  {
   "cell_type": "markdown",
   "metadata": {},
   "source": [
    "- 1. connection mongodb"
   ]
  },
  {
   "cell_type": "code",
   "execution_count": 15,
   "metadata": {},
   "outputs": [],
   "source": [
    "# local\n",
    "conn = mongo.MongoClient()\n",
    "\n",
    "# remote\n",
    "# conn = mongo.MongoClient(server, 27017)"
   ]
  },
  {
   "cell_type": "markdown",
   "metadata": {},
   "source": [
    "- 2. Database create"
   ]
  },
  {
   "cell_type": "code",
   "execution_count": 19,
   "metadata": {},
   "outputs": [
    {
     "name": "stdout",
     "output_type": "stream",
     "text": [
      "Database(MongoClient(host=['localhost:27017'], document_class=dict, tz_aware=False, connect=True), 'articleDB')\n"
     ]
    }
   ],
   "source": [
    "articleDB = conn.articleDB\n",
    "print(articleDB)"
   ]
  },
  {
   "cell_type": "code",
   "execution_count": 20,
   "metadata": {},
   "outputs": [
    {
     "name": "stdout",
     "output_type": "stream",
     "text": [
      "Collection(Database(MongoClient(host=['localhost:27017'], document_class=dict, tz_aware=False, connect=True), 'articleDB'), 'article')\n"
     ]
    }
   ],
   "source": [
    "articleCollection = articleDB['article']\n",
    "print(articleCollection)"
   ]
  },
  {
   "cell_type": "markdown",
   "metadata": {},
   "source": [
    "- 3. Document Insert\n",
    "- insert_one()(pymongo 방식) - insertOne()(mongo shell 방식)\n",
    "- insert_many()(pymongo 방식) - insertMany()(mongo shell 방식)"
   ]
  },
  {
   "cell_type": "code",
   "execution_count": 21,
   "metadata": {},
   "outputs": [],
   "source": [
    "doc01 = {'author' : 'yssim',\n",
    "         'subject' : 'MongoDB',\n",
    "         'content' : 'SO EASY', \n",
    "         'tags' : ['mongodb', 'python', 'pymongo'],\n",
    "         'view' : 50}"
   ]
  },
  {
   "cell_type": "code",
   "execution_count": 22,
   "metadata": {},
   "outputs": [
    {
     "data": {
      "text/plain": [
       "<pymongo.results.InsertOneResult at 0x1d329043d00>"
      ]
     },
     "execution_count": 22,
     "metadata": {},
     "output_type": "execute_result"
    }
   ],
   "source": [
    "articleCollection.insert_one(doc01)"
   ]
  },
  {
   "cell_type": "markdown",
   "metadata": {},
   "source": [
    "- 4. Document Find\n",
    "- find_one()\n",
    "- find() - 전체를 가져올 때"
   ]
  },
  {
   "cell_type": "code",
   "execution_count": 25,
   "metadata": {},
   "outputs": [
    {
     "data": {
      "text/plain": [
       "{'_id': ObjectId('6046fab13435c03992181fa9'),\n",
       " 'author': 'yssim',\n",
       " 'subject': 'MongoDB',\n",
       " 'content': 'SO EASY',\n",
       " 'tags': ['mongodb', 'python', 'pymongo'],\n",
       " 'view': 50}"
      ]
     },
     "execution_count": 25,
     "metadata": {},
     "output_type": "execute_result"
    }
   ],
   "source": [
    "articleCollection.find_one()"
   ]
  },
  {
   "cell_type": "code",
   "execution_count": 26,
   "metadata": {},
   "outputs": [],
   "source": [
    "doc02 = {'author' : 'youngseok',\n",
    "         'subject' : 'MongoDataBase',\n",
    "         'content' : 'SO DIFFICULT', \n",
    "         'tags' : ['mongo', 'python', 'pymongo'],\n",
    "         'view' : 100}"
   ]
  },
  {
   "cell_type": "code",
   "execution_count": 28,
   "metadata": {},
   "outputs": [
    {
     "data": {
      "text/plain": [
       "<pymongo.results.InsertOneResult at 0x1d3290612c0>"
      ]
     },
     "execution_count": 28,
     "metadata": {},
     "output_type": "execute_result"
    }
   ],
   "source": [
    "articleCollection.insert_one(doc02)"
   ]
  },
  {
   "cell_type": "code",
   "execution_count": 30,
   "metadata": {},
   "outputs": [
    {
     "data": {
      "text/plain": [
       "{'_id': ObjectId('6046fab13435c03992181fa9'),\n",
       " 'author': 'yssim',\n",
       " 'subject': 'MongoDB',\n",
       " 'content': 'SO EASY',\n",
       " 'tags': ['mongodb', 'python', 'pymongo'],\n",
       " 'view': 50}"
      ]
     },
     "execution_count": 30,
     "metadata": {},
     "output_type": "execute_result"
    }
   ],
   "source": [
    "articleCollection.find_one() # 가장 먼저 만나는 행을 가져오기 때문에 doc01이 출력이 된다."
   ]
  },
  {
   "cell_type": "code",
   "execution_count": 31,
   "metadata": {},
   "outputs": [
    {
     "data": {
      "text/plain": [
       "{'_id': ObjectId('6046fb763435c03992181faa'),\n",
       " 'author': 'youngseok',\n",
       " 'subject': 'MongoDataBase',\n",
       " 'content': 'SO DIFFICULT',\n",
       " 'tags': ['mongo', 'python', 'pymongo'],\n",
       " 'view': 100}"
      ]
     },
     "execution_count": 31,
     "metadata": {},
     "output_type": "execute_result"
    }
   ],
   "source": [
    "articleCollection.find_one({'author' : 'youngseok'}) # 조건을 넣어서 특정 데이터를 추출한다."
   ]
  },
  {
   "cell_type": "code",
   "execution_count": 35,
   "metadata": {},
   "outputs": [
    {
     "name": "stdout",
     "output_type": "stream",
     "text": [
      "{'_id': ObjectId('6046fb763435c03992181faa'), 'author': 'youngseok', 'subject': 'MongoDataBase', 'content': 'SO DIFFICULT', 'tags': ['mongo', 'python', 'pymongo'], 'view': 100}\n"
     ]
    }
   ],
   "source": [
    "cursor = articleCollection.find({'author' : 'youngseok'})\n",
    "for doc in cursor:\n",
    "    print(doc) # 전체를 가져오려면 단순히 find를 쓰는 것이 아니라 loop를 돌려서 가져와야한다. "
   ]
  },
  {
   "cell_type": "code",
   "execution_count": null,
   "metadata": {},
   "outputs": [],
   "source": []
  },
  {
   "cell_type": "code",
   "execution_count": null,
   "metadata": {},
   "outputs": [],
   "source": []
  },
  {
   "cell_type": "code",
   "execution_count": null,
   "metadata": {},
   "outputs": [],
   "source": []
  },
  {
   "cell_type": "code",
   "execution_count": null,
   "metadata": {},
   "outputs": [],
   "source": []
  },
  {
   "cell_type": "code",
   "execution_count": null,
   "metadata": {},
   "outputs": [],
   "source": []
  },
  {
   "cell_type": "code",
   "execution_count": null,
   "metadata": {},
   "outputs": [],
   "source": []
  }
 ],
 "metadata": {
  "kernelspec": {
   "display_name": "Python 3",
   "language": "python",
   "name": "python3"
  },
  "language_info": {
   "codemirror_mode": {
    "name": "ipython",
    "version": 3
   },
   "file_extension": ".py",
   "mimetype": "text/x-python",
   "name": "python",
   "nbconvert_exporter": "python",
   "pygments_lexer": "ipython3",
   "version": "3.8.5"
  }
 },
 "nbformat": 4,
 "nbformat_minor": 4
}
