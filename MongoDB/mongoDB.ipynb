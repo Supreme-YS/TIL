{
 "cells": [
  {
   "cell_type": "markdown",
   "metadata": {},
   "source": [
    "- Not Only SQL(NoSQL)\n",
    "- 정해진 규칙이 없다. (Schema X)\n",
    "- JOIN 구문 사용 불가\n",
    "- key / value 이루어진 데이터를 담는다\n",
    "- Database - Collection(table) - Document(row)"
   ]
  },
  {
   "cell_type": "markdown",
   "metadata": {},
   "source": [
    "### db.user.find( {condition} , {column list} ) \n",
    "\n",
    "- db.user.find() - select * from user\n",
    "\n",
    "- db.user.find({}, { user_id : 1, _id : 0 })- select user_id from user  # 1은 visible, 2는 invisible\n",
    "\n",
    "- db.user.find({gender : 'f'}, {} ) - select * from user where XXXXXX\n",
    "\n",
    "- db.user.find({user_id : 'supreme-ys', gender : 'm'}, { }) - select * from user where user_id = xxx and gender = xxx\n",
    "\n",
    "- db.user.find( { $or :  [ {user_id : 'supreme-ys'} , {gender : 'm'} ] } , { }) - select * from user where user_id = xxx or gender = xxx\n",
    "\n"
   ]
  },
  {
   "cell_type": "code",
   "execution_count": null,
   "metadata": {},
   "outputs": [],
   "source": []
  }
 ],
 "metadata": {
  "kernelspec": {
   "display_name": "Python 3",
   "language": "python",
   "name": "python3"
  },
  "language_info": {
   "codemirror_mode": {
    "name": "ipython",
    "version": 3
   },
   "file_extension": ".py",
   "mimetype": "text/x-python",
   "name": "python",
   "nbconvert_exporter": "python",
   "pygments_lexer": "ipython3",
   "version": "3.8.5"
  }
 },
 "nbformat": 4,
 "nbformat_minor": 4
}
