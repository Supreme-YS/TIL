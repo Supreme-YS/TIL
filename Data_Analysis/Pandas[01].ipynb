{
 "cells": [
  {
   "cell_type": "markdown",
   "metadata": {},
   "source": [
    "### Pandas\n",
    "- Series and Dataframe\n",
    "- 분석을 위한 전처리"
   ]
  },
  {
   "cell_type": "code",
   "execution_count": 1,
   "metadata": {},
   "outputs": [
    {
     "name": "stdout",
     "output_type": "stream",
     "text": [
      "1.19.2\n",
      "1.1.3\n"
     ]
    }
   ],
   "source": [
    "import numpy as np\n",
    "import pandas as pd\n",
    "import matplotlib.pyplot as plt\n",
    "\n",
    "import warnings\n",
    "warnings.filterwarnings(action=\"ignore\")\n",
    "\n",
    "print(np.__version__)\n",
    "print(pd.__version__)"
   ]
  },
  {
   "cell_type": "markdown",
   "metadata": {},
   "source": [
    "### Series 클래스\n",
    "- 넘파이 1차원 배열과 비슷\n",
    "- series = index + value"
   ]
  },
  {
   "cell_type": "code",
   "execution_count": 5,
   "metadata": {},
   "outputs": [
    {
     "name": "stdout",
     "output_type": "stream",
     "text": [
      "[1 2 3 4 'ruby']\n",
      "object\n"
     ]
    }
   ],
   "source": [
    "# numpy vector\n",
    "ary = np.array([1,2,3,4,'ruby'], dtype=np.object)\n",
    "print(ary)\n",
    "print(ary.dtype)"
   ]
  },
  {
   "cell_type": "code",
   "execution_count": 13,
   "metadata": {},
   "outputs": [
    {
     "name": "stdout",
     "output_type": "stream",
     "text": [
      "0       1\n",
      "1       2\n",
      "2       3\n",
      "3       4\n",
      "4    ruby\n",
      "dtype: object\n",
      "[1 2 3 4 'ruby']\n",
      "<class 'numpy.ndarray'>\n",
      "RangeIndex(start=0, stop=5, step=1)\n",
      "<class 'pandas.core.indexes.range.RangeIndex'>\n"
     ]
    }
   ],
   "source": [
    "# pandas series\n",
    "ary = pd.Series([1,2,3,4,'ruby'], dtype=np.object)\n",
    "print(ary)\n",
    "print(ary.values)\n",
    "print(type(ary.values))\n",
    "print(ary.index)\n",
    "print(type(ary.index))"
   ]
  },
  {
   "cell_type": "code",
   "execution_count": 21,
   "metadata": {},
   "outputs": [],
   "source": [
    "def seriesInfo(ary) :\n",
    "    print('index + value : \\n', ary)\n",
    "    print('value : ', ary.values)\n",
    "    print('value type : ', type(ary.values))\n",
    "    print('index : ', ary.index)\n",
    "    print('index type : ', type(ary.index))"
   ]
  },
  {
   "cell_type": "markdown",
   "metadata": {},
   "source": [
    "- 인덱스의 라벨은 정수, 문자, 날짜, 시간으로 변경 가능"
   ]
  },
  {
   "cell_type": "code",
   "execution_count": 22,
   "metadata": {},
   "outputs": [],
   "source": [
    "ary = pd.Series([1,2,3,4,5], dtype=np.int32, index=['강남','서초','방배','동작','사당'])"
   ]
  },
  {
   "cell_type": "code",
   "execution_count": 23,
   "metadata": {},
   "outputs": [
    {
     "name": "stdout",
     "output_type": "stream",
     "text": [
      "index + value : \n",
      " 강남    1\n",
      "서초    2\n",
      "방배    3\n",
      "동작    4\n",
      "사당    5\n",
      "dtype: int32\n",
      "value :  [1 2 3 4 5]\n",
      "value type :  <class 'numpy.ndarray'>\n",
      "index :  Index(['강남', '서초', '방배', '동작', '사당'], dtype='object')\n",
      "index type :  <class 'pandas.core.indexes.base.Index'>\n"
     ]
    }
   ],
   "source": [
    "seriesInfo(ary)"
   ]
  },
  {
   "cell_type": "code",
   "execution_count": 24,
   "metadata": {},
   "outputs": [
    {
     "name": "stdout",
     "output_type": "stream",
     "text": [
      "index + value : \n",
      " 구별\n",
      "강남    1\n",
      "서초    2\n",
      "방배    3\n",
      "동작    4\n",
      "사당    5\n",
      "dtype: int32\n",
      "value :  [1 2 3 4 5]\n",
      "value type :  <class 'numpy.ndarray'>\n",
      "index :  Index(['강남', '서초', '방배', '동작', '사당'], dtype='object', name='구별')\n",
      "index type :  <class 'pandas.core.indexes.base.Index'>\n"
     ]
    }
   ],
   "source": [
    "# head추가\n",
    "ary.index.name='구별'\n",
    "seriesInfo(ary)"
   ]
  },
  {
   "cell_type": "code",
   "execution_count": 27,
   "metadata": {},
   "outputs": [
    {
     "name": "stdout",
     "output_type": "stream",
     "text": [
      "2\n",
      "구별\n",
      "강남    1\n",
      "방배    3\n",
      "dtype: int32\n"
     ]
    }
   ],
   "source": [
    "# 두개 이상의 인덱스 [[]]\n",
    "print(ary['서초'])\n",
    "print(ary[['강남', '방배']])"
   ]
  },
  {
   "cell_type": "code",
   "execution_count": 28,
   "metadata": {},
   "outputs": [
    {
     "name": "stdout",
     "output_type": "stream",
     "text": [
      "idx : 강남, value : 1\n",
      "idx : 서초, value : 2\n",
      "idx : 방배, value : 3\n",
      "idx : 동작, value : 4\n",
      "idx : 사당, value : 5\n"
     ]
    }
   ],
   "source": [
    "# index, values 모두 가져올 때\n",
    "for idx, value in ary.items():\n",
    "    print('idx : {}, value : {}'.format(idx, value))"
   ]
  },
  {
   "cell_type": "code",
   "execution_count": 29,
   "metadata": {},
   "outputs": [
    {
     "name": "stdout",
     "output_type": "stream",
     "text": [
      "idx : 강남\n",
      "idx : 서초\n",
      "idx : 방배\n",
      "idx : 동작\n",
      "idx : 사당\n"
     ]
    }
   ],
   "source": [
    "# index만 가져올 때\n",
    "for idx in ary.keys():\n",
    "    print('idx : {}'.format(idx))"
   ]
  },
  {
   "cell_type": "code",
   "execution_count": 36,
   "metadata": {},
   "outputs": [
    {
     "name": "stdout",
     "output_type": "stream",
     "text": [
      "value : 1.0\n",
      "value : 2.0\n",
      "value : 4.0\n"
     ]
    }
   ],
   "source": [
    "# value만 가져올 때\n",
    "for value in ary.values:\n",
    "    print('value : {}'.format(value))"
   ]
  },
  {
   "cell_type": "code",
   "execution_count": 31,
   "metadata": {},
   "outputs": [
    {
     "name": "stdout",
     "output_type": "stream",
     "text": [
      "index + value : \n",
      " 0    10\n",
      "1    12\n",
      "2    14\n",
      "3    16\n",
      "4    18\n",
      "5    20\n",
      "dtype: int64\n",
      "value :  [10 12 14 16 18 20]\n",
      "value type :  <class 'numpy.ndarray'>\n",
      "index :  RangeIndex(start=0, stop=6, step=1)\n",
      "index type :  <class 'pandas.core.indexes.range.RangeIndex'>\n"
     ]
    }
   ],
   "source": [
    "ary = pd.Series(range(10, 21,2))\n",
    "seriesInfo(ary)"
   ]
  },
  {
   "cell_type": "code",
   "execution_count": 37,
   "metadata": {},
   "outputs": [
    {
     "name": "stdout",
     "output_type": "stream",
     "text": [
      "index + value : \n",
      " c     1.0\n",
      "b     5.0\n",
      "a    -8.0\n",
      "k    10.0\n",
      "dtype: float64\n",
      "value :  [ 1.  5. -8. 10.]\n",
      "value type :  <class 'numpy.ndarray'>\n",
      "index :  Index(['c', 'b', 'a', 'k'], dtype='object')\n",
      "index type :  <class 'pandas.core.indexes.base.Index'>\n"
     ]
    }
   ],
   "source": [
    "# dict형태로 series만들기\n",
    "ary = pd.Series({'c' : 1, 'b' : 5, 'a' : -8, 'k' : 10}, dtype=np.float64)\n",
    "seriesInfo(ary)"
   ]
  },
  {
   "cell_type": "code",
   "execution_count": 38,
   "metadata": {},
   "outputs": [
    {
     "data": {
      "text/plain": [
       "c     10.0\n",
       "b     50.0\n",
       "a    -80.0\n",
       "k    100.0\n",
       "dtype: float64"
      ]
     },
     "execution_count": 38,
     "metadata": {},
     "output_type": "execute_result"
    }
   ],
   "source": [
    "# 연산이 되더라도 index는 변함없음\n",
    "ary*10"
   ]
  },
  {
   "cell_type": "markdown",
   "metadata": {},
   "source": [
    "- fancy indexing & boolean indexing"
   ]
  },
  {
   "cell_type": "code",
   "execution_count": 41,
   "metadata": {},
   "outputs": [
    {
     "name": "stdout",
     "output_type": "stream",
     "text": [
      "fancy [0,2] indexing : \n",
      "c    1.0\n",
      "a   -8.0\n",
      "dtype: float64\n"
     ]
    }
   ],
   "source": [
    "print('fancy [0,2] indexing : \\n{}'.format(ary[[0,2]]))"
   ]
  },
  {
   "cell_type": "code",
   "execution_count": 46,
   "metadata": {},
   "outputs": [
    {
     "name": "stdout",
     "output_type": "stream",
     "text": [
      "boolean ary % 2 == 0 :\n",
      "a    -8.0\n",
      "k    10.0\n",
      "dtype: float64\n"
     ]
    }
   ],
   "source": [
    "# 2의 배수\n",
    "print('boolean ary % 2 == 0 :\\n{}'.format(ary[ary % 2 == 0]))"
   ]
  },
  {
   "cell_type": "markdown",
   "metadata": {},
   "source": [
    "### 시간, 날짜 불러오기"
   ]
  },
  {
   "cell_type": "code",
   "execution_count": 54,
   "metadata": {},
   "outputs": [],
   "source": [
    "from datetime import date, datetime, timedelta\n",
    "from dateutil.parser import parse"
   ]
  },
  {
   "cell_type": "code",
   "execution_count": 103,
   "metadata": {},
   "outputs": [
    {
     "name": "stdout",
     "output_type": "stream",
     "text": [
      "2021-02-25 00:00:00\n",
      "2021-02-26 00:00:00\n"
     ]
    }
   ],
   "source": [
    "strDate = datetime(2021,2,25)\n",
    "print(strDate)\n",
    "print(strDate + timedelta(days=1))"
   ]
  },
  {
   "cell_type": "code",
   "execution_count": 104,
   "metadata": {},
   "outputs": [
    {
     "name": "stdout",
     "output_type": "stream",
     "text": [
      "index + value : \n",
      " 2021-02-25    40\n",
      "2021-02-26    51\n",
      "2021-02-27    57\n",
      "2021-02-28    54\n",
      "2021-03-01    46\n",
      "2021-03-02    58\n",
      "2021-03-03    49\n",
      "2021-03-04    46\n",
      "2021-03-05    51\n",
      "2021-03-06    51\n",
      "dtype: int64\n",
      "value :  [40 51 57 54 46 58 49 46 51 51]\n",
      "value type :  <class 'numpy.ndarray'>\n",
      "index :  DatetimeIndex(['2021-02-25', '2021-02-26', '2021-02-27', '2021-02-28',\n",
      "               '2021-03-01', '2021-03-02', '2021-03-03', '2021-03-04',\n",
      "               '2021-03-05', '2021-03-06'],\n",
      "              dtype='datetime64[ns]', freq=None)\n",
      "index type :  <class 'pandas.core.indexes.datetimes.DatetimeIndex'>\n"
     ]
    }
   ],
   "source": [
    "# 평균이 50이고 편차가 5인 정규분포 데이터를 10일간 만들기\n",
    "fac01 = pd.Series([int(x) for x in np.random.normal(50, 5, (10))], index=[strDate + timedelta(days=day) for day in range(10)])\n",
    "seriesInfo(fac01)"
   ]
  },
  {
   "cell_type": "code",
   "execution_count": 105,
   "metadata": {},
   "outputs": [
    {
     "name": "stdout",
     "output_type": "stream",
     "text": [
      "index + value : \n",
      " 2021-02-25    59\n",
      "2021-02-26    74\n",
      "2021-02-27    67\n",
      "2021-02-28    82\n",
      "2021-03-01    61\n",
      "2021-03-02    73\n",
      "2021-03-03    57\n",
      "2021-03-04    63\n",
      "2021-03-05    63\n",
      "2021-03-06    80\n",
      "dtype: int64\n",
      "value :  [59 74 67 82 61 73 57 63 63 80]\n",
      "value type :  <class 'numpy.ndarray'>\n",
      "index :  DatetimeIndex(['2021-02-25', '2021-02-26', '2021-02-27', '2021-02-28',\n",
      "               '2021-03-01', '2021-03-02', '2021-03-03', '2021-03-04',\n",
      "               '2021-03-05', '2021-03-06'],\n",
      "              dtype='datetime64[ns]', freq=None)\n",
      "index type :  <class 'pandas.core.indexes.datetimes.DatetimeIndex'>\n"
     ]
    }
   ],
   "source": [
    "# 평균이 70이고 편차가 8인 정규분포 데이터를 10일간 만들기\n",
    "fac02 = pd.Series([int(x) for x in np.random.normal(70, 8, (10))], index=[strDate + timedelta(days=day) for day in range(10)])\n",
    "seriesInfo(fac02)"
   ]
  },
  {
   "cell_type": "code",
   "execution_count": 106,
   "metadata": {},
   "outputs": [
    {
     "data": {
      "text/plain": [
       "2021-02-25     99\n",
       "2021-02-26    125\n",
       "2021-02-27    124\n",
       "2021-02-28    136\n",
       "2021-03-01    107\n",
       "2021-03-02    131\n",
       "2021-03-03    106\n",
       "2021-03-04    109\n",
       "2021-03-05    114\n",
       "2021-03-06    131\n",
       "dtype: int64"
      ]
     },
     "execution_count": 106,
     "metadata": {},
     "output_type": "execute_result"
    }
   ],
   "source": [
    "fac01 + fac02"
   ]
  },
  {
   "cell_type": "code",
   "execution_count": 107,
   "metadata": {},
   "outputs": [
    {
     "name": "stdout",
     "output_type": "stream",
     "text": [
      "{Timestamp('2021-03-02 00:00:00'), Timestamp('2021-03-06 00:00:00'), Timestamp('2021-03-04 00:00:00'), Timestamp('2021-03-05 00:00:00'), Timestamp('2021-02-28 00:00:00'), Timestamp('2021-02-26 00:00:00'), Timestamp('2021-03-03 00:00:00'), Timestamp('2021-03-01 00:00:00'), Timestamp('2021-02-25 00:00:00'), Timestamp('2021-02-27 00:00:00')}\n",
      "[Timestamp('2021-02-25 00:00:00'), Timestamp('2021-02-26 00:00:00'), Timestamp('2021-02-27 00:00:00'), Timestamp('2021-02-28 00:00:00'), Timestamp('2021-03-01 00:00:00'), Timestamp('2021-03-02 00:00:00'), Timestamp('2021-03-03 00:00:00'), Timestamp('2021-03-04 00:00:00'), Timestamp('2021-03-05 00:00:00'), Timestamp('2021-03-06 00:00:00')]\n"
     ]
    }
   ],
   "source": [
    "# casting\n",
    "print(set(fac01.index))\n",
    "print(list(fac01.index))"
   ]
  },
  {
   "cell_type": "code",
   "execution_count": 108,
   "metadata": {},
   "outputs": [
    {
     "name": "stdout",
     "output_type": "stream",
     "text": [
      "2021-02-25 00:00:00\n",
      "2021-02-26 00:00:00\n",
      "2021-02-27 00:00:00\n",
      "2021-02-28 00:00:00\n",
      "2021-03-01 00:00:00\n",
      "2021-03-02 00:00:00\n",
      "2021-03-03 00:00:00\n",
      "2021-03-04 00:00:00\n",
      "2021-03-05 00:00:00\n",
      "2021-03-06 00:00:00\n"
     ]
    }
   ],
   "source": [
    "for idx in fac01.index :\n",
    "    print(idx)"
   ]
  },
  {
   "cell_type": "markdown",
   "metadata": {},
   "source": [
    "- Series indexing"
   ]
  },
  {
   "cell_type": "code",
   "execution_count": 109,
   "metadata": {},
   "outputs": [
    {
     "data": {
      "text/plain": [
       "2021-02-25    40\n",
       "2021-02-26    51\n",
       "2021-02-27    57\n",
       "2021-02-28    54\n",
       "2021-03-01    46\n",
       "2021-03-02    58\n",
       "2021-03-03    49\n",
       "2021-03-04    46\n",
       "2021-03-05    51\n",
       "2021-03-06    51\n",
       "dtype: int64"
      ]
     },
     "execution_count": 109,
     "metadata": {},
     "output_type": "execute_result"
    }
   ],
   "source": [
    "fac01"
   ]
  },
  {
   "cell_type": "code",
   "execution_count": 110,
   "metadata": {},
   "outputs": [
    {
     "data": {
      "text/plain": [
       "51"
      ]
     },
     "execution_count": 110,
     "metadata": {},
     "output_type": "execute_result"
    }
   ],
   "source": [
    "fac01[1]"
   ]
  },
  {
   "cell_type": "code",
   "execution_count": 112,
   "metadata": {},
   "outputs": [
    {
     "data": {
      "text/plain": [
       "40"
      ]
     },
     "execution_count": 112,
     "metadata": {},
     "output_type": "execute_result"
    }
   ],
   "source": [
    "fac01[datetime.strptime('2021-02-25', '%Y-%m-%d')]"
   ]
  },
  {
   "cell_type": "code",
   "execution_count": 113,
   "metadata": {},
   "outputs": [
    {
     "name": "stdout",
     "output_type": "stream",
     "text": [
      "index + value : \n",
      " a    4000\n",
      "b    3000\n",
      "c    3500\n",
      "d    2000\n",
      "dtype: int64\n",
      "value :  [4000 3000 3500 2000]\n",
      "value type :  <class 'numpy.ndarray'>\n",
      "index :  Index(['a', 'b', 'c', 'd'], dtype='object')\n",
      "index type :  <class 'pandas.core.indexes.base.Index'>\n"
     ]
    }
   ],
   "source": [
    "price_series = pd.Series([4000, 3000, 3500, 2000], index=['a', 'b', 'c', 'd'])\n",
    "seriesInfo(price_series)"
   ]
  },
  {
   "cell_type": "code",
   "execution_count": 116,
   "metadata": {},
   "outputs": [
    {
     "name": "stdout",
     "output_type": "stream",
     "text": [
      "index + value : \n",
      " a    5000\n",
      "b    3000\n",
      "c    3500\n",
      "d    2000\n",
      "dtype: int64\n",
      "value :  [5000 3000 3500 2000]\n",
      "value type :  <class 'numpy.ndarray'>\n",
      "index :  Index(['a', 'b', 'c', 'd'], dtype='object')\n",
      "index type :  <class 'pandas.core.indexes.base.Index'>\n",
      "None\n",
      "index + value : \n",
      " a    6000\n",
      "b    3000\n",
      "c    3500\n",
      "d    2000\n",
      "dtype: int64\n",
      "value :  [6000 3000 3500 2000]\n",
      "value type :  <class 'numpy.ndarray'>\n",
      "index :  Index(['a', 'b', 'c', 'd'], dtype='object')\n",
      "index type :  <class 'pandas.core.indexes.base.Index'>\n",
      "None\n"
     ]
    }
   ],
   "source": [
    "# value값 바꾸기\n",
    "price_series['a']=5000\n",
    "print(seriesInfo(price_series))\n",
    "price_series[0] = 6000\n",
    "print(seriesInfo(price_series))"
   ]
  },
  {
   "cell_type": "code",
   "execution_count": 117,
   "metadata": {},
   "outputs": [
    {
     "name": "stdout",
     "output_type": "stream",
     "text": [
      "index + value : \n",
      " a    6000\n",
      "b    3000\n",
      "c    3500\n",
      "d    2000\n",
      "e    1000\n",
      "dtype: int64\n",
      "value :  [6000 3000 3500 2000 1000]\n",
      "value type :  <class 'numpy.ndarray'>\n",
      "index :  Index(['a', 'b', 'c', 'd', 'e'], dtype='object')\n",
      "index type :  <class 'pandas.core.indexes.base.Index'>\n"
     ]
    }
   ],
   "source": [
    "# index, value값 추가\n",
    "price_series['e'] = 1000\n",
    "seriesInfo(price_series)"
   ]
  },
  {
   "cell_type": "code",
   "execution_count": 118,
   "metadata": {},
   "outputs": [
    {
     "name": "stdout",
     "output_type": "stream",
     "text": [
      "index + value : \n",
      " a    6000\n",
      "b    3000\n",
      "c    3500\n",
      "d    2000\n",
      "dtype: int64\n",
      "value :  [6000 3000 3500 2000]\n",
      "value type :  <class 'numpy.ndarray'>\n",
      "index :  Index(['a', 'b', 'c', 'd'], dtype='object')\n",
      "index type :  <class 'pandas.core.indexes.base.Index'>\n"
     ]
    }
   ],
   "source": [
    "# index, value값 삭제\n",
    "del price_series['e']\n",
    "seriesInfo(price_series)"
   ]
  },
  {
   "cell_type": "code",
   "execution_count": 120,
   "metadata": {},
   "outputs": [
    {
     "name": "stdout",
     "output_type": "stream",
     "text": [
      "index + value : \n",
      " a    6000.0\n",
      "b    3000.0\n",
      "c    3500.0\n",
      "d    2000.0\n",
      "e       NaN\n",
      "dtype: float64\n",
      "value :  [6000. 3000. 3500. 2000.   nan]\n",
      "value type :  <class 'numpy.ndarray'>\n",
      "index :  Index(['a', 'b', 'c', 'd', 'e'], dtype='object')\n",
      "index type :  <class 'pandas.core.indexes.base.Index'>\n"
     ]
    }
   ],
   "source": [
    "# null값 추가\n",
    "price_series['e'] = np.NaN\n",
    "seriesInfo(price_series)"
   ]
  },
  {
   "cell_type": "code",
   "execution_count": 121,
   "metadata": {},
   "outputs": [
    {
     "data": {
      "text/plain": [
       "a    False\n",
       "b    False\n",
       "c    False\n",
       "d    False\n",
       "e     True\n",
       "dtype: bool"
      ]
     },
     "execution_count": 121,
     "metadata": {},
     "output_type": "execute_result"
    }
   ],
   "source": [
    "# null o --> True\n",
    "pd.isnull(price_series)"
   ]
  },
  {
   "cell_type": "code",
   "execution_count": 126,
   "metadata": {},
   "outputs": [],
   "source": [
    "ser01 = pd.Series([100, 200, 300, 400], index=['a','b','c','d'])\n",
    "ser02 = pd.Series([500, 600, 700, 800], index=['a','b','e','d'])"
   ]
  },
  {
   "cell_type": "code",
   "execution_count": 129,
   "metadata": {},
   "outputs": [
    {
     "data": {
      "text/plain": [
       "a     600.0\n",
       "b     800.0\n",
       "c       NaN\n",
       "d    1200.0\n",
       "e       NaN\n",
       "dtype: float64"
      ]
     },
     "execution_count": 129,
     "metadata": {},
     "output_type": "execute_result"
    }
   ],
   "source": [
    "# 연산--> +\n",
    "ser03 = ser01 + ser02\n",
    "ser03"
   ]
  },
  {
   "cell_type": "code",
   "execution_count": 130,
   "metadata": {},
   "outputs": [
    {
     "data": {
      "text/plain": [
       "a     600.0\n",
       "b     800.0\n",
       "c     300.0\n",
       "d    1200.0\n",
       "e     700.0\n",
       "dtype: float64"
      ]
     },
     "execution_count": 130,
     "metadata": {},
     "output_type": "execute_result"
    }
   ],
   "source": [
    "# 연산--> .add\n",
    "ser04 = ser01.add(ser02, fill_value=0)\n",
    "ser04"
   ]
  },
  {
   "cell_type": "code",
   "execution_count": 135,
   "metadata": {},
   "outputs": [
    {
     "name": "stdout",
     "output_type": "stream",
     "text": [
      "index + value : \n",
      " a     600.0\n",
      "b     800.0\n",
      "c       0.0\n",
      "d    1200.0\n",
      "e       0.0\n",
      "dtype: float64\n",
      "value :  [ 600.  800.    0. 1200.    0.]\n",
      "value type :  <class 'numpy.ndarray'>\n",
      "index :  Index(['a', 'b', 'c', 'd', 'e'], dtype='object')\n",
      "index type :  <class 'pandas.core.indexes.base.Index'>\n",
      "None\n",
      "index + value : \n",
      " a     600.000000\n",
      "b     800.000000\n",
      "c     866.666667\n",
      "d    1200.000000\n",
      "e     866.666667\n",
      "dtype: float64\n",
      "value :  [ 600.          800.          866.66666667 1200.          866.66666667]\n",
      "value type :  <class 'numpy.ndarray'>\n",
      "index :  Index(['a', 'b', 'c', 'd', 'e'], dtype='object')\n",
      "index type :  <class 'pandas.core.indexes.base.Index'>\n",
      "None\n"
     ]
    }
   ],
   "source": [
    "# 결측값\n",
    "zser = ser03.fillna(0)\n",
    "print(seriesInfo(zser))\n",
    "zser = ser03.fillna(ser03.mean())\n",
    "print(seriesInfo(zser))"
   ]
  },
  {
   "cell_type": "code",
   "execution_count": 140,
   "metadata": {},
   "outputs": [
    {
     "name": "stdout",
     "output_type": "stream",
     "text": [
      "a    False\n",
      "b    False\n",
      "c     True\n",
      "d    False\n",
      "e     True\n",
      "dtype: bool\n"
     ]
    },
    {
     "data": {
      "text/plain": [
       "c   NaN\n",
       "e   NaN\n",
       "dtype: float64"
      ]
     },
     "execution_count": 140,
     "metadata": {},
     "output_type": "execute_result"
    }
   ],
   "source": [
    "# subset\n",
    "print(pd.isnull(ser03))\n",
    "subset = ser03[pd.isnull(ser03)]\n",
    "subset"
   ]
  },
  {
   "cell_type": "code",
   "execution_count": 139,
   "metadata": {},
   "outputs": [
    {
     "name": "stdout",
     "output_type": "stream",
     "text": [
      "a     True\n",
      "b     True\n",
      "c    False\n",
      "d     True\n",
      "e    False\n",
      "dtype: bool\n"
     ]
    },
    {
     "data": {
      "text/plain": [
       "a     600.0\n",
       "b     800.0\n",
       "d    1200.0\n",
       "dtype: float64"
      ]
     },
     "execution_count": 139,
     "metadata": {},
     "output_type": "execute_result"
    }
   ],
   "source": [
    "print(pd.notnull(ser03))\n",
    "subset = ser03[pd.notnull(ser03)]\n",
    "subset"
   ]
  },
  {
   "cell_type": "code",
   "execution_count": 155,
   "metadata": {},
   "outputs": [
    {
     "name": "stdout",
     "output_type": "stream",
     "text": [
      "index + value : \n",
      " a     600.0\n",
      "b     800.0\n",
      "c     300.0\n",
      "d    1200.0\n",
      "e     700.0\n",
      "dtype: float64\n",
      "value :  [ 600.  800.  300. 1200.  700.]\n",
      "value type :  <class 'numpy.ndarray'>\n",
      "index :  Index(['a', 'b', 'c', 'd', 'e'], dtype='object')\n",
      "index type :  <class 'pandas.core.indexes.base.Index'>\n",
      "None\n",
      "a    600.0\n",
      "b    800.0\n",
      "dtype: float64\n",
      "a    600.0\n",
      "c    300.0\n",
      "dtype: float64\n",
      "c    300.0\n",
      "a    600.0\n",
      "dtype: float64\n",
      "a    600.0\n",
      "b    800.0\n",
      "c    300.0\n",
      "dtype: float64\n",
      "d    1200.0\n",
      "b     800.0\n",
      "dtype: float64\n"
     ]
    }
   ],
   "source": [
    "print(seriesInfo(ser04))\n",
    "# 배열인덱싱\n",
    "print(ser04[0:2])\n",
    "# 라벨인덱싱\n",
    "print(ser04[['a', 'c']])\n",
    "print(ser04[['c', 'a']])\n",
    "print(ser04['a':'c'])\n",
    "print(ser04[[3,1]])"
   ]
  },
  {
   "cell_type": "code",
   "execution_count": 156,
   "metadata": {},
   "outputs": [
    {
     "data": {
      "text/plain": [
       "0    10\n",
       "1    20\n",
       "2    30\n",
       "3    40\n",
       "dtype: int64"
      ]
     },
     "execution_count": 156,
     "metadata": {},
     "output_type": "execute_result"
    }
   ],
   "source": [
    "tuple_ser = pd.Series((10, 20, 30, 40))\n",
    "tuple_ser"
   ]
  },
  {
   "cell_type": "code",
   "execution_count": 159,
   "metadata": {},
   "outputs": [
    {
     "data": {
      "text/plain": [
       "0    40\n",
       "1    10\n",
       "2    20\n",
       "3    30\n",
       "dtype: int64"
      ]
     },
     "execution_count": 159,
     "metadata": {},
     "output_type": "execute_result"
    }
   ],
   "source": [
    "# set은 순서가 없기때문에 list로 형변환을 시켜 순서를 넣어줘야 함\n",
    "set_ser = pd.Series(list({10, 20, 30, 40}))\n",
    "set_ser"
   ]
  },
  {
   "cell_type": "markdown",
   "metadata": {},
   "source": [
    "### DataFrame"
   ]
  },
  {
   "cell_type": "code",
   "execution_count": 162,
   "metadata": {},
   "outputs": [
    {
     "data": {
      "text/html": [
       "<div>\n",
       "<style scoped>\n",
       "    .dataframe tbody tr th:only-of-type {\n",
       "        vertical-align: middle;\n",
       "    }\n",
       "\n",
       "    .dataframe tbody tr th {\n",
       "        vertical-align: top;\n",
       "    }\n",
       "\n",
       "    .dataframe thead th {\n",
       "        text-align: right;\n",
       "    }\n",
       "</style>\n",
       "<table border=\"1\" class=\"dataframe\">\n",
       "  <thead>\n",
       "    <tr style=\"text-align: right;\">\n",
       "      <th></th>\n",
       "      <th>name</th>\n",
       "      <th>birth</th>\n",
       "    </tr>\n",
       "  </thead>\n",
       "  <tbody>\n",
       "    <tr>\n",
       "      <th>0</th>\n",
       "      <td>ruby</td>\n",
       "      <td>2000</td>\n",
       "    </tr>\n",
       "    <tr>\n",
       "      <th>1</th>\n",
       "      <td>dia</td>\n",
       "      <td>2001</td>\n",
       "    </tr>\n",
       "    <tr>\n",
       "      <th>2</th>\n",
       "      <td>은영</td>\n",
       "      <td>2002</td>\n",
       "    </tr>\n",
       "    <tr>\n",
       "      <th>3</th>\n",
       "      <td>녕</td>\n",
       "      <td>2003</td>\n",
       "    </tr>\n",
       "    <tr>\n",
       "      <th>4</th>\n",
       "      <td>jslim</td>\n",
       "      <td>2004</td>\n",
       "    </tr>\n",
       "  </tbody>\n",
       "</table>\n",
       "</div>"
      ],
      "text/plain": [
       "    name  birth\n",
       "0   ruby   2000\n",
       "1    dia   2001\n",
       "2     은영   2002\n",
       "3      녕   2003\n",
       "4  jslim   2004"
      ]
     },
     "metadata": {},
     "output_type": "display_data"
    }
   ],
   "source": [
    "data = {'name' : ['ruby', 'dia', '은영', '녕', 'jslim'], 'birth' : [2000,2001,2002,2003,2004]}\n",
    "userDF = pd.DataFrame(data)\n",
    "display(userDF)"
   ]
  },
  {
   "cell_type": "code",
   "execution_count": 178,
   "metadata": {},
   "outputs": [
    {
     "name": "stdout",
     "output_type": "stream",
     "text": [
      "(5, 2)\n",
      "10\n",
      "2\n",
      "RangeIndex(start=0, stop=5, step=1)\n",
      "Index(['name', 'birth'], dtype='object')\n",
      "[['ruby' 2000]\n",
      " ['dia' 2001]\n",
      " ['은영' 2002]\n",
      " ['녕' 2003]\n",
      " ['jslim' 2004]]\n",
      "<class 'numpy.ndarray'>\n"
     ]
    }
   ],
   "source": [
    "print(userDF.shape)\n",
    "print(userDF.size)\n",
    "print(userDF.ndim)\n",
    "print(userDF.index)\n",
    "print(userDF.columns)\n",
    "print(userDF.values)\n",
    "print(type(userDF.values))"
   ]
  },
  {
   "cell_type": "code",
   "execution_count": 175,
   "metadata": {},
   "outputs": [],
   "source": [
    "def frameInfo(df) :\n",
    "    print('shape : {}'.format(df.shape))\n",
    "    print('size : {}'.format(df.size))\n",
    "    print('ndim : {}'.format(df.ndim))\n",
    "    print('index : {}'.format(df.index))\n",
    "    print('index type : {}'.format(type(df.index)))\n",
    "    print('columns : {}'.format(df.columns))\n",
    "    print('columns type : {}'.format(type(df.columns)))"
   ]
  },
  {
   "cell_type": "code",
   "execution_count": 183,
   "metadata": {},
   "outputs": [],
   "source": [
    "data = {\n",
    "    \"2021\" : [9910293, 8384050, 2938485, 1203948],\n",
    "    \"2018\" : [8910293, 7384050, 5938485, 3203948],\n",
    "    \"2016\" : [7910293, 5384050, 7938485, 6203948],\n",
    "    \"2014\" : [5910293, 3384050, 4938485, 4203948],\n",
    "    \"지역\" : ['수도권' , '경상권' , '수도권' , '경상권'],\n",
    "    \"증가율\" : [0.2343 , 0.0434 , 0.0944 , 0.0034]\n",
    "}"
   ]
  },
  {
   "cell_type": "code",
   "execution_count": 186,
   "metadata": {},
   "outputs": [
    {
     "data": {
      "text/html": [
       "<div>\n",
       "<style scoped>\n",
       "    .dataframe tbody tr th:only-of-type {\n",
       "        vertical-align: middle;\n",
       "    }\n",
       "\n",
       "    .dataframe tbody tr th {\n",
       "        vertical-align: top;\n",
       "    }\n",
       "\n",
       "    .dataframe thead th {\n",
       "        text-align: right;\n",
       "    }\n",
       "</style>\n",
       "<table border=\"1\" class=\"dataframe\">\n",
       "  <thead>\n",
       "    <tr style=\"text-align: right;\">\n",
       "      <th></th>\n",
       "      <th>지역</th>\n",
       "      <th>2014</th>\n",
       "      <th>2016</th>\n",
       "      <th>2018</th>\n",
       "      <th>2021</th>\n",
       "      <th>증가율</th>\n",
       "    </tr>\n",
       "  </thead>\n",
       "  <tbody>\n",
       "    <tr>\n",
       "      <th>서울</th>\n",
       "      <td>수도권</td>\n",
       "      <td>5910293</td>\n",
       "      <td>7910293</td>\n",
       "      <td>8910293</td>\n",
       "      <td>9910293</td>\n",
       "      <td>0.2343</td>\n",
       "    </tr>\n",
       "    <tr>\n",
       "      <th>부산</th>\n",
       "      <td>경상권</td>\n",
       "      <td>3384050</td>\n",
       "      <td>5384050</td>\n",
       "      <td>7384050</td>\n",
       "      <td>8384050</td>\n",
       "      <td>0.0434</td>\n",
       "    </tr>\n",
       "    <tr>\n",
       "      <th>경기</th>\n",
       "      <td>수도권</td>\n",
       "      <td>4938485</td>\n",
       "      <td>7938485</td>\n",
       "      <td>5938485</td>\n",
       "      <td>2938485</td>\n",
       "      <td>0.0944</td>\n",
       "    </tr>\n",
       "    <tr>\n",
       "      <th>대구</th>\n",
       "      <td>경상권</td>\n",
       "      <td>4203948</td>\n",
       "      <td>6203948</td>\n",
       "      <td>3203948</td>\n",
       "      <td>1203948</td>\n",
       "      <td>0.0034</td>\n",
       "    </tr>\n",
       "  </tbody>\n",
       "</table>\n",
       "</div>"
      ],
      "text/plain": [
       "     지역     2014     2016     2018     2021     증가율\n",
       "서울  수도권  5910293  7910293  8910293  9910293  0.2343\n",
       "부산  경상권  3384050  5384050  7384050  8384050  0.0434\n",
       "경기  수도권  4938485  7938485  5938485  2938485  0.0944\n",
       "대구  경상권  4203948  6203948  3203948  1203948  0.0034"
      ]
     },
     "execution_count": 186,
     "metadata": {},
     "output_type": "execute_result"
    }
   ],
   "source": [
    "columns = [\"지역\",\"2014\",\"2016\",\"2018\",\"2021\",\"증가율\",]\n",
    "popDF = pd.DataFrame(data, index=[\"서울\",\"부산\",\"경기\",\"대구\"], columns = columns)\n",
    "popDF"
   ]
  },
  {
   "cell_type": "code",
   "execution_count": 187,
   "metadata": {},
   "outputs": [
    {
     "name": "stdout",
     "output_type": "stream",
     "text": [
      "shape : (4, 6)\n",
      "size : 24\n",
      "ndim : 2\n",
      "index : Index(['서울', '부산', '경기', '대구'], dtype='object')\n",
      "index type : <class 'pandas.core.indexes.base.Index'>\n",
      "columns : Index(['지역', '2014', '2016', '2018', '2021', '증가율'], dtype='object')\n",
      "columns type : <class 'pandas.core.indexes.base.Index'>\n"
     ]
    }
   ],
   "source": [
    "frameInfo(popDF)"
   ]
  },
  {
   "cell_type": "code",
   "execution_count": 189,
   "metadata": {},
   "outputs": [
    {
     "data": {
      "text/plain": [
       "Index(['서울', '부산', '경기', '대구'], dtype='object')"
      ]
     },
     "execution_count": 189,
     "metadata": {},
     "output_type": "execute_result"
    }
   ],
   "source": [
    "popDF.index"
   ]
  },
  {
   "cell_type": "code",
   "execution_count": 192,
   "metadata": {},
   "outputs": [
    {
     "data": {
      "text/plain": [
       "Index(['지역', '2014', '2016', '2018', '2021', '증가율'], dtype='object')"
      ]
     },
     "execution_count": 192,
     "metadata": {},
     "output_type": "execute_result"
    }
   ],
   "source": [
    "popDF.columns"
   ]
  },
  {
   "cell_type": "code",
   "execution_count": 198,
   "metadata": {},
   "outputs": [
    {
     "data": {
      "text/html": [
       "<div>\n",
       "<style scoped>\n",
       "    .dataframe tbody tr th:only-of-type {\n",
       "        vertical-align: middle;\n",
       "    }\n",
       "\n",
       "    .dataframe tbody tr th {\n",
       "        vertical-align: top;\n",
       "    }\n",
       "\n",
       "    .dataframe thead th {\n",
       "        text-align: right;\n",
       "    }\n",
       "</style>\n",
       "<table border=\"1\" class=\"dataframe\">\n",
       "  <thead>\n",
       "    <tr style=\"text-align: right;\">\n",
       "      <th>feature</th>\n",
       "      <th>지역</th>\n",
       "      <th>2014</th>\n",
       "      <th>2016</th>\n",
       "      <th>2018</th>\n",
       "      <th>2021</th>\n",
       "      <th>증가율</th>\n",
       "    </tr>\n",
       "    <tr>\n",
       "      <th>city</th>\n",
       "      <th></th>\n",
       "      <th></th>\n",
       "      <th></th>\n",
       "      <th></th>\n",
       "      <th></th>\n",
       "      <th></th>\n",
       "    </tr>\n",
       "  </thead>\n",
       "  <tbody>\n",
       "    <tr>\n",
       "      <th>서울</th>\n",
       "      <td>수도권</td>\n",
       "      <td>5910293</td>\n",
       "      <td>7910293</td>\n",
       "      <td>8910293</td>\n",
       "      <td>9910293</td>\n",
       "      <td>0.2343</td>\n",
       "    </tr>\n",
       "    <tr>\n",
       "      <th>부산</th>\n",
       "      <td>경상권</td>\n",
       "      <td>3384050</td>\n",
       "      <td>5384050</td>\n",
       "      <td>7384050</td>\n",
       "      <td>8384050</td>\n",
       "      <td>0.0434</td>\n",
       "    </tr>\n",
       "    <tr>\n",
       "      <th>경기</th>\n",
       "      <td>수도권</td>\n",
       "      <td>4938485</td>\n",
       "      <td>7938485</td>\n",
       "      <td>5938485</td>\n",
       "      <td>2938485</td>\n",
       "      <td>0.0944</td>\n",
       "    </tr>\n",
       "    <tr>\n",
       "      <th>대구</th>\n",
       "      <td>경상권</td>\n",
       "      <td>4203948</td>\n",
       "      <td>6203948</td>\n",
       "      <td>3203948</td>\n",
       "      <td>1203948</td>\n",
       "      <td>0.0034</td>\n",
       "    </tr>\n",
       "  </tbody>\n",
       "</table>\n",
       "</div>"
      ],
      "text/plain": [
       "feature   지역     2014     2016     2018     2021     증가율\n",
       "city                                                    \n",
       "서울       수도권  5910293  7910293  8910293  9910293  0.2343\n",
       "부산       경상권  3384050  5384050  7384050  8384050  0.0434\n",
       "경기       수도권  4938485  7938485  5938485  2938485  0.0944\n",
       "대구       경상권  4203948  6203948  3203948  1203948  0.0034"
      ]
     },
     "metadata": {},
     "output_type": "display_data"
    },
    {
     "data": {
      "text/html": [
       "<div>\n",
       "<style scoped>\n",
       "    .dataframe tbody tr th:only-of-type {\n",
       "        vertical-align: middle;\n",
       "    }\n",
       "\n",
       "    .dataframe tbody tr th {\n",
       "        vertical-align: top;\n",
       "    }\n",
       "\n",
       "    .dataframe thead th {\n",
       "        text-align: right;\n",
       "    }\n",
       "</style>\n",
       "<table border=\"1\" class=\"dataframe\">\n",
       "  <thead>\n",
       "    <tr style=\"text-align: right;\">\n",
       "      <th>city</th>\n",
       "      <th>서울</th>\n",
       "      <th>부산</th>\n",
       "      <th>경기</th>\n",
       "      <th>대구</th>\n",
       "    </tr>\n",
       "    <tr>\n",
       "      <th>feature</th>\n",
       "      <th></th>\n",
       "      <th></th>\n",
       "      <th></th>\n",
       "      <th></th>\n",
       "    </tr>\n",
       "  </thead>\n",
       "  <tbody>\n",
       "    <tr>\n",
       "      <th>지역</th>\n",
       "      <td>수도권</td>\n",
       "      <td>경상권</td>\n",
       "      <td>수도권</td>\n",
       "      <td>경상권</td>\n",
       "    </tr>\n",
       "    <tr>\n",
       "      <th>2014</th>\n",
       "      <td>5910293</td>\n",
       "      <td>3384050</td>\n",
       "      <td>4938485</td>\n",
       "      <td>4203948</td>\n",
       "    </tr>\n",
       "    <tr>\n",
       "      <th>2016</th>\n",
       "      <td>7910293</td>\n",
       "      <td>5384050</td>\n",
       "      <td>7938485</td>\n",
       "      <td>6203948</td>\n",
       "    </tr>\n",
       "    <tr>\n",
       "      <th>2018</th>\n",
       "      <td>8910293</td>\n",
       "      <td>7384050</td>\n",
       "      <td>5938485</td>\n",
       "      <td>3203948</td>\n",
       "    </tr>\n",
       "    <tr>\n",
       "      <th>2021</th>\n",
       "      <td>9910293</td>\n",
       "      <td>8384050</td>\n",
       "      <td>2938485</td>\n",
       "      <td>1203948</td>\n",
       "    </tr>\n",
       "    <tr>\n",
       "      <th>증가율</th>\n",
       "      <td>0.2343</td>\n",
       "      <td>0.0434</td>\n",
       "      <td>0.0944</td>\n",
       "      <td>0.0034</td>\n",
       "    </tr>\n",
       "  </tbody>\n",
       "</table>\n",
       "</div>"
      ],
      "text/plain": [
       "city          서울       부산       경기       대구\n",
       "feature                                    \n",
       "지역           수도권      경상권      수도권      경상권\n",
       "2014     5910293  3384050  4938485  4203948\n",
       "2016     7910293  5384050  7938485  6203948\n",
       "2018     8910293  7384050  5938485  3203948\n",
       "2021     9910293  8384050  2938485  1203948\n",
       "증가율       0.2343   0.0434   0.0944   0.0034"
      ]
     },
     "metadata": {},
     "output_type": "display_data"
    }
   ],
   "source": [
    "# index의 name 설정\n",
    "popDF.index.name=\"city\"\n",
    "popDF.columns.name = \"feature\"\n",
    "display(popDF)\n",
    "display(popDF.T)"
   ]
  },
  {
   "cell_type": "markdown",
   "metadata": {},
   "source": [
    "### 다음 조건을 만족하는 임의의 데이터프레임을 만들어보자\n",
    "- 열의 갯수와 행의 갯수가 각각 5개 이상이여야 한다.\n",
    "- 열에는 정수, 문자열, 실수, 날짜 데이터가 각각 1개 이상 포함되어야 한다."
   ]
  },
  {
   "cell_type": "code",
   "execution_count": 199,
   "metadata": {},
   "outputs": [],
   "source": [
    "# 정수컬럼\n",
    "random_int = np.random.randint(1, 100, 10)\n",
    "# 실수컬럼(표준정규분포)\n",
    "random_gao = np.random.randn(10)\n",
    "# 실수 컬럼\n",
    "random_uni = np.random.rand(10)\n",
    "# 날짜 컬럼\n",
    "startDay = datetime(2021,2,25)\n",
    "years = [startDay + timedelta(day) for day in range(0, 10)]\n",
    "# 문자 컬럼\n",
    "random_moon = [\"apple\", \"banana\", \"mango\", \"berry\", \"melon\", \"cherry\", \"pineapple\", \"peach\", \"blueberry\", \"avocado\"]"
   ]
  },
  {
   "cell_type": "code",
   "execution_count": 202,
   "metadata": {},
   "outputs": [
    {
     "data": {
      "text/html": [
       "<div>\n",
       "<style scoped>\n",
       "    .dataframe tbody tr th:only-of-type {\n",
       "        vertical-align: middle;\n",
       "    }\n",
       "\n",
       "    .dataframe tbody tr th {\n",
       "        vertical-align: top;\n",
       "    }\n",
       "\n",
       "    .dataframe thead th {\n",
       "        text-align: right;\n",
       "    }\n",
       "</style>\n",
       "<table border=\"1\" class=\"dataframe\">\n",
       "  <thead>\n",
       "    <tr style=\"text-align: right;\">\n",
       "      <th></th>\n",
       "      <th>정수</th>\n",
       "      <th>실수1</th>\n",
       "      <th>실수2</th>\n",
       "      <th>문자</th>\n",
       "      <th>날짜</th>\n",
       "    </tr>\n",
       "  </thead>\n",
       "  <tbody>\n",
       "    <tr>\n",
       "      <th>0</th>\n",
       "      <td>6</td>\n",
       "      <td>-0.523359</td>\n",
       "      <td>0.659371</td>\n",
       "      <td>apple</td>\n",
       "      <td>2021-02-25</td>\n",
       "    </tr>\n",
       "    <tr>\n",
       "      <th>1</th>\n",
       "      <td>48</td>\n",
       "      <td>-0.403826</td>\n",
       "      <td>0.925632</td>\n",
       "      <td>banana</td>\n",
       "      <td>2021-02-26</td>\n",
       "    </tr>\n",
       "    <tr>\n",
       "      <th>2</th>\n",
       "      <td>36</td>\n",
       "      <td>-0.089557</td>\n",
       "      <td>0.258317</td>\n",
       "      <td>mango</td>\n",
       "      <td>2021-02-27</td>\n",
       "    </tr>\n",
       "    <tr>\n",
       "      <th>3</th>\n",
       "      <td>23</td>\n",
       "      <td>0.254172</td>\n",
       "      <td>0.488167</td>\n",
       "      <td>berry</td>\n",
       "      <td>2021-02-28</td>\n",
       "    </tr>\n",
       "    <tr>\n",
       "      <th>4</th>\n",
       "      <td>54</td>\n",
       "      <td>0.222466</td>\n",
       "      <td>0.301571</td>\n",
       "      <td>melon</td>\n",
       "      <td>2021-03-01</td>\n",
       "    </tr>\n",
       "    <tr>\n",
       "      <th>5</th>\n",
       "      <td>59</td>\n",
       "      <td>0.381257</td>\n",
       "      <td>0.801714</td>\n",
       "      <td>cherry</td>\n",
       "      <td>2021-03-02</td>\n",
       "    </tr>\n",
       "    <tr>\n",
       "      <th>6</th>\n",
       "      <td>87</td>\n",
       "      <td>0.259845</td>\n",
       "      <td>0.772216</td>\n",
       "      <td>pineapple</td>\n",
       "      <td>2021-03-03</td>\n",
       "    </tr>\n",
       "    <tr>\n",
       "      <th>7</th>\n",
       "      <td>54</td>\n",
       "      <td>-0.198669</td>\n",
       "      <td>0.909934</td>\n",
       "      <td>peach</td>\n",
       "      <td>2021-03-04</td>\n",
       "    </tr>\n",
       "    <tr>\n",
       "      <th>8</th>\n",
       "      <td>15</td>\n",
       "      <td>-0.126438</td>\n",
       "      <td>0.138101</td>\n",
       "      <td>blueberry</td>\n",
       "      <td>2021-03-05</td>\n",
       "    </tr>\n",
       "    <tr>\n",
       "      <th>9</th>\n",
       "      <td>45</td>\n",
       "      <td>-0.320419</td>\n",
       "      <td>0.940905</td>\n",
       "      <td>avocado</td>\n",
       "      <td>2021-03-06</td>\n",
       "    </tr>\n",
       "  </tbody>\n",
       "</table>\n",
       "</div>"
      ],
      "text/plain": [
       "   정수       실수1       실수2         문자         날짜\n",
       "0   6 -0.523359  0.659371      apple 2021-02-25\n",
       "1  48 -0.403826  0.925632     banana 2021-02-26\n",
       "2  36 -0.089557  0.258317      mango 2021-02-27\n",
       "3  23  0.254172  0.488167      berry 2021-02-28\n",
       "4  54  0.222466  0.301571      melon 2021-03-01\n",
       "5  59  0.381257  0.801714     cherry 2021-03-02\n",
       "6  87  0.259845  0.772216  pineapple 2021-03-03\n",
       "7  54 -0.198669  0.909934      peach 2021-03-04\n",
       "8  15 -0.126438  0.138101  blueberry 2021-03-05\n",
       "9  45 -0.320419  0.940905    avocado 2021-03-06"
      ]
     },
     "execution_count": 202,
     "metadata": {},
     "output_type": "execute_result"
    }
   ],
   "source": [
    "data = {\n",
    "    '정수' : random_int,\n",
    "    '실수1': random_gao,\n",
    "    '실수2':random_uni,\n",
    "    '문자': random_moon,\n",
    "    '날짜': years,\n",
    "}\n",
    "\n",
    "testDF = pd.DataFrame(data)\n",
    "testDF"
   ]
  },
  {
   "cell_type": "code",
   "execution_count": 209,
   "metadata": {},
   "outputs": [
    {
     "data": {
      "text/html": [
       "<div>\n",
       "<style scoped>\n",
       "    .dataframe tbody tr th:only-of-type {\n",
       "        vertical-align: middle;\n",
       "    }\n",
       "\n",
       "    .dataframe tbody tr th {\n",
       "        vertical-align: top;\n",
       "    }\n",
       "\n",
       "    .dataframe thead th {\n",
       "        text-align: right;\n",
       "    }\n",
       "</style>\n",
       "<table border=\"1\" class=\"dataframe\">\n",
       "  <thead>\n",
       "    <tr style=\"text-align: right;\">\n",
       "      <th>feature</th>\n",
       "      <th>지역</th>\n",
       "      <th>2014</th>\n",
       "      <th>2016</th>\n",
       "      <th>2018</th>\n",
       "      <th>2021</th>\n",
       "      <th>증가율</th>\n",
       "      <th>2014-2016 증가율</th>\n",
       "    </tr>\n",
       "    <tr>\n",
       "      <th>city</th>\n",
       "      <th></th>\n",
       "      <th></th>\n",
       "      <th></th>\n",
       "      <th></th>\n",
       "      <th></th>\n",
       "      <th></th>\n",
       "      <th></th>\n",
       "    </tr>\n",
       "  </thead>\n",
       "  <tbody>\n",
       "    <tr>\n",
       "      <th>서울</th>\n",
       "      <td>수도권</td>\n",
       "      <td>5910293</td>\n",
       "      <td>7910293</td>\n",
       "      <td>8910293</td>\n",
       "      <td>9910293</td>\n",
       "      <td>0.2343</td>\n",
       "      <td>33.84</td>\n",
       "    </tr>\n",
       "    <tr>\n",
       "      <th>부산</th>\n",
       "      <td>경상권</td>\n",
       "      <td>3384050</td>\n",
       "      <td>5384050</td>\n",
       "      <td>7384050</td>\n",
       "      <td>8384050</td>\n",
       "      <td>0.0434</td>\n",
       "      <td>59.10</td>\n",
       "    </tr>\n",
       "    <tr>\n",
       "      <th>경기</th>\n",
       "      <td>수도권</td>\n",
       "      <td>4938485</td>\n",
       "      <td>7938485</td>\n",
       "      <td>5938485</td>\n",
       "      <td>2938485</td>\n",
       "      <td>0.0944</td>\n",
       "      <td>60.75</td>\n",
       "    </tr>\n",
       "    <tr>\n",
       "      <th>대구</th>\n",
       "      <td>경상권</td>\n",
       "      <td>4203948</td>\n",
       "      <td>6203948</td>\n",
       "      <td>3203948</td>\n",
       "      <td>1203948</td>\n",
       "      <td>0.0034</td>\n",
       "      <td>47.57</td>\n",
       "    </tr>\n",
       "  </tbody>\n",
       "</table>\n",
       "</div>"
      ],
      "text/plain": [
       "feature   지역     2014     2016     2018     2021     증가율  2014-2016 증가율\n",
       "city                                                                   \n",
       "서울       수도권  5910293  7910293  8910293  9910293  0.2343          33.84\n",
       "부산       경상권  3384050  5384050  7384050  8384050  0.0434          59.10\n",
       "경기       수도권  4938485  7938485  5938485  2938485  0.0944          60.75\n",
       "대구       경상권  4203948  6203948  3203948  1203948  0.0034          47.57"
      ]
     },
     "execution_count": 209,
     "metadata": {},
     "output_type": "execute_result"
    }
   ],
   "source": [
    "# 새로운 컬럼 추가\n",
    "popDF['2014-2016 증가율'] = ((popDF['2016'] - popDF['2014']) / popDF['2014'] * 100).round(2)\n",
    "popDF"
   ]
  },
  {
   "cell_type": "code",
   "execution_count": 210,
   "metadata": {},
   "outputs": [
    {
     "data": {
      "text/html": [
       "<div>\n",
       "<style scoped>\n",
       "    .dataframe tbody tr th:only-of-type {\n",
       "        vertical-align: middle;\n",
       "    }\n",
       "\n",
       "    .dataframe tbody tr th {\n",
       "        vertical-align: top;\n",
       "    }\n",
       "\n",
       "    .dataframe thead th {\n",
       "        text-align: right;\n",
       "    }\n",
       "</style>\n",
       "<table border=\"1\" class=\"dataframe\">\n",
       "  <thead>\n",
       "    <tr style=\"text-align: right;\">\n",
       "      <th>feature</th>\n",
       "      <th>지역</th>\n",
       "      <th>2014</th>\n",
       "      <th>2016</th>\n",
       "      <th>2018</th>\n",
       "      <th>2021</th>\n",
       "      <th>증가율</th>\n",
       "    </tr>\n",
       "    <tr>\n",
       "      <th>city</th>\n",
       "      <th></th>\n",
       "      <th></th>\n",
       "      <th></th>\n",
       "      <th></th>\n",
       "      <th></th>\n",
       "      <th></th>\n",
       "    </tr>\n",
       "  </thead>\n",
       "  <tbody>\n",
       "    <tr>\n",
       "      <th>서울</th>\n",
       "      <td>수도권</td>\n",
       "      <td>5910293</td>\n",
       "      <td>7910293</td>\n",
       "      <td>8910293</td>\n",
       "      <td>9910293</td>\n",
       "      <td>0.2343</td>\n",
       "    </tr>\n",
       "    <tr>\n",
       "      <th>부산</th>\n",
       "      <td>경상권</td>\n",
       "      <td>3384050</td>\n",
       "      <td>5384050</td>\n",
       "      <td>7384050</td>\n",
       "      <td>8384050</td>\n",
       "      <td>0.0434</td>\n",
       "    </tr>\n",
       "    <tr>\n",
       "      <th>경기</th>\n",
       "      <td>수도권</td>\n",
       "      <td>4938485</td>\n",
       "      <td>7938485</td>\n",
       "      <td>5938485</td>\n",
       "      <td>2938485</td>\n",
       "      <td>0.0944</td>\n",
       "    </tr>\n",
       "    <tr>\n",
       "      <th>대구</th>\n",
       "      <td>경상권</td>\n",
       "      <td>4203948</td>\n",
       "      <td>6203948</td>\n",
       "      <td>3203948</td>\n",
       "      <td>1203948</td>\n",
       "      <td>0.0034</td>\n",
       "    </tr>\n",
       "  </tbody>\n",
       "</table>\n",
       "</div>"
      ],
      "text/plain": [
       "feature   지역     2014     2016     2018     2021     증가율\n",
       "city                                                    \n",
       "서울       수도권  5910293  7910293  8910293  9910293  0.2343\n",
       "부산       경상권  3384050  5384050  7384050  8384050  0.0434\n",
       "경기       수도권  4938485  7938485  5938485  2938485  0.0944\n",
       "대구       경상권  4203948  6203948  3203948  1203948  0.0034"
      ]
     },
     "execution_count": 210,
     "metadata": {},
     "output_type": "execute_result"
    }
   ],
   "source": [
    "# 컬럼 삭제\n",
    "del popDF['2014-2016 증가율']\n",
    "popDF"
   ]
  },
  {
   "cell_type": "code",
   "execution_count": 219,
   "metadata": {},
   "outputs": [
    {
     "name": "stdout",
     "output_type": "stream",
     "text": [
      "<class 'pandas.core.frame.DataFrame'>\n",
      "<class 'pandas.core.series.Series'>\n",
      "<class 'numpy.ndarray'>\n"
     ]
    }
   ],
   "source": [
    "print(type(popDF[['지역', '증가율']]))\n",
    "print(type(popDF['지역']))\n",
    "print(type(popDF['지역'].values))"
   ]
  },
  {
   "cell_type": "markdown",
   "metadata": {},
   "source": [
    "- 행(row) indexing\n",
    "- 슬라이싱만 가능\n",
    "- 배열 인덱스, 라벨인덱스 가능"
   ]
  },
  {
   "cell_type": "code",
   "execution_count": 222,
   "metadata": {},
   "outputs": [
    {
     "data": {
      "text/html": [
       "<div>\n",
       "<style scoped>\n",
       "    .dataframe tbody tr th:only-of-type {\n",
       "        vertical-align: middle;\n",
       "    }\n",
       "\n",
       "    .dataframe tbody tr th {\n",
       "        vertical-align: top;\n",
       "    }\n",
       "\n",
       "    .dataframe thead th {\n",
       "        text-align: right;\n",
       "    }\n",
       "</style>\n",
       "<table border=\"1\" class=\"dataframe\">\n",
       "  <thead>\n",
       "    <tr style=\"text-align: right;\">\n",
       "      <th>feature</th>\n",
       "      <th>지역</th>\n",
       "      <th>2014</th>\n",
       "      <th>2016</th>\n",
       "      <th>2018</th>\n",
       "      <th>2021</th>\n",
       "      <th>증가율</th>\n",
       "    </tr>\n",
       "    <tr>\n",
       "      <th>city</th>\n",
       "      <th></th>\n",
       "      <th></th>\n",
       "      <th></th>\n",
       "      <th></th>\n",
       "      <th></th>\n",
       "      <th></th>\n",
       "    </tr>\n",
       "  </thead>\n",
       "  <tbody>\n",
       "    <tr>\n",
       "      <th>서울</th>\n",
       "      <td>수도권</td>\n",
       "      <td>5910293</td>\n",
       "      <td>7910293</td>\n",
       "      <td>8910293</td>\n",
       "      <td>9910293</td>\n",
       "      <td>0.2343</td>\n",
       "    </tr>\n",
       "    <tr>\n",
       "      <th>부산</th>\n",
       "      <td>경상권</td>\n",
       "      <td>3384050</td>\n",
       "      <td>5384050</td>\n",
       "      <td>7384050</td>\n",
       "      <td>8384050</td>\n",
       "      <td>0.0434</td>\n",
       "    </tr>\n",
       "    <tr>\n",
       "      <th>경기</th>\n",
       "      <td>수도권</td>\n",
       "      <td>4938485</td>\n",
       "      <td>7938485</td>\n",
       "      <td>5938485</td>\n",
       "      <td>2938485</td>\n",
       "      <td>0.0944</td>\n",
       "    </tr>\n",
       "    <tr>\n",
       "      <th>대구</th>\n",
       "      <td>경상권</td>\n",
       "      <td>4203948</td>\n",
       "      <td>6203948</td>\n",
       "      <td>3203948</td>\n",
       "      <td>1203948</td>\n",
       "      <td>0.0034</td>\n",
       "    </tr>\n",
       "  </tbody>\n",
       "</table>\n",
       "</div>"
      ],
      "text/plain": [
       "feature   지역     2014     2016     2018     2021     증가율\n",
       "city                                                    \n",
       "서울       수도권  5910293  7910293  8910293  9910293  0.2343\n",
       "부산       경상권  3384050  5384050  7384050  8384050  0.0434\n",
       "경기       수도권  4938485  7938485  5938485  2938485  0.0944\n",
       "대구       경상권  4203948  6203948  3203948  1203948  0.0034"
      ]
     },
     "execution_count": 222,
     "metadata": {},
     "output_type": "execute_result"
    }
   ],
   "source": [
    "popDF"
   ]
  },
  {
   "cell_type": "code",
   "execution_count": 231,
   "metadata": {},
   "outputs": [
    {
     "data": {
      "text/html": [
       "<div>\n",
       "<style scoped>\n",
       "    .dataframe tbody tr th:only-of-type {\n",
       "        vertical-align: middle;\n",
       "    }\n",
       "\n",
       "    .dataframe tbody tr th {\n",
       "        vertical-align: top;\n",
       "    }\n",
       "\n",
       "    .dataframe thead th {\n",
       "        text-align: right;\n",
       "    }\n",
       "</style>\n",
       "<table border=\"1\" class=\"dataframe\">\n",
       "  <thead>\n",
       "    <tr style=\"text-align: right;\">\n",
       "      <th>feature</th>\n",
       "      <th>지역</th>\n",
       "      <th>2014</th>\n",
       "      <th>2016</th>\n",
       "      <th>2018</th>\n",
       "      <th>2021</th>\n",
       "      <th>증가율</th>\n",
       "    </tr>\n",
       "    <tr>\n",
       "      <th>city</th>\n",
       "      <th></th>\n",
       "      <th></th>\n",
       "      <th></th>\n",
       "      <th></th>\n",
       "      <th></th>\n",
       "      <th></th>\n",
       "    </tr>\n",
       "  </thead>\n",
       "  <tbody>\n",
       "    <tr>\n",
       "      <th>서울</th>\n",
       "      <td>수도권</td>\n",
       "      <td>5910293</td>\n",
       "      <td>7910293</td>\n",
       "      <td>8910293</td>\n",
       "      <td>9910293</td>\n",
       "      <td>0.2343</td>\n",
       "    </tr>\n",
       "  </tbody>\n",
       "</table>\n",
       "</div>"
      ],
      "text/plain": [
       "feature   지역     2014     2016     2018     2021     증가율\n",
       "city                                                    \n",
       "서울       수도권  5910293  7910293  8910293  9910293  0.2343"
      ]
     },
     "metadata": {},
     "output_type": "display_data"
    },
    {
     "data": {
      "text/html": [
       "<div>\n",
       "<style scoped>\n",
       "    .dataframe tbody tr th:only-of-type {\n",
       "        vertical-align: middle;\n",
       "    }\n",
       "\n",
       "    .dataframe tbody tr th {\n",
       "        vertical-align: top;\n",
       "    }\n",
       "\n",
       "    .dataframe thead th {\n",
       "        text-align: right;\n",
       "    }\n",
       "</style>\n",
       "<table border=\"1\" class=\"dataframe\">\n",
       "  <thead>\n",
       "    <tr style=\"text-align: right;\">\n",
       "      <th>feature</th>\n",
       "      <th>지역</th>\n",
       "      <th>2014</th>\n",
       "      <th>2016</th>\n",
       "      <th>2018</th>\n",
       "      <th>2021</th>\n",
       "      <th>증가율</th>\n",
       "    </tr>\n",
       "    <tr>\n",
       "      <th>city</th>\n",
       "      <th></th>\n",
       "      <th></th>\n",
       "      <th></th>\n",
       "      <th></th>\n",
       "      <th></th>\n",
       "      <th></th>\n",
       "    </tr>\n",
       "  </thead>\n",
       "  <tbody>\n",
       "    <tr>\n",
       "      <th>서울</th>\n",
       "      <td>수도권</td>\n",
       "      <td>5910293</td>\n",
       "      <td>7910293</td>\n",
       "      <td>8910293</td>\n",
       "      <td>9910293</td>\n",
       "      <td>0.2343</td>\n",
       "    </tr>\n",
       "  </tbody>\n",
       "</table>\n",
       "</div>"
      ],
      "text/plain": [
       "feature   지역     2014     2016     2018     2021     증가율\n",
       "city                                                    \n",
       "서울       수도권  5910293  7910293  8910293  9910293  0.2343"
      ]
     },
     "metadata": {},
     "output_type": "display_data"
    }
   ],
   "source": [
    "# 배열인덱싱\n",
    "display(popDF[:1])\n",
    "# 라벨인덱싱\n",
    "display(popDF[: '서울'])"
   ]
  },
  {
   "cell_type": "code",
   "execution_count": 236,
   "metadata": {},
   "outputs": [
    {
     "data": {
      "text/html": [
       "<div>\n",
       "<style scoped>\n",
       "    .dataframe tbody tr th:only-of-type {\n",
       "        vertical-align: middle;\n",
       "    }\n",
       "\n",
       "    .dataframe tbody tr th {\n",
       "        vertical-align: top;\n",
       "    }\n",
       "\n",
       "    .dataframe thead th {\n",
       "        text-align: right;\n",
       "    }\n",
       "</style>\n",
       "<table border=\"1\" class=\"dataframe\">\n",
       "  <thead>\n",
       "    <tr style=\"text-align: right;\">\n",
       "      <th>feature</th>\n",
       "      <th>지역</th>\n",
       "      <th>2014</th>\n",
       "      <th>2016</th>\n",
       "      <th>2018</th>\n",
       "      <th>2021</th>\n",
       "      <th>증가율</th>\n",
       "    </tr>\n",
       "    <tr>\n",
       "      <th>city</th>\n",
       "      <th></th>\n",
       "      <th></th>\n",
       "      <th></th>\n",
       "      <th></th>\n",
       "      <th></th>\n",
       "      <th></th>\n",
       "    </tr>\n",
       "  </thead>\n",
       "  <tbody>\n",
       "    <tr>\n",
       "      <th>서울</th>\n",
       "      <td>수도권</td>\n",
       "      <td>5910293</td>\n",
       "      <td>7910293</td>\n",
       "      <td>8910293</td>\n",
       "      <td>9910293</td>\n",
       "      <td>0.2343</td>\n",
       "    </tr>\n",
       "    <tr>\n",
       "      <th>부산</th>\n",
       "      <td>경상권</td>\n",
       "      <td>3384050</td>\n",
       "      <td>5384050</td>\n",
       "      <td>7384050</td>\n",
       "      <td>8384050</td>\n",
       "      <td>0.0434</td>\n",
       "    </tr>\n",
       "    <tr>\n",
       "      <th>경기</th>\n",
       "      <td>수도권</td>\n",
       "      <td>4938485</td>\n",
       "      <td>7938485</td>\n",
       "      <td>5938485</td>\n",
       "      <td>2938485</td>\n",
       "      <td>0.0944</td>\n",
       "    </tr>\n",
       "  </tbody>\n",
       "</table>\n",
       "</div>"
      ],
      "text/plain": [
       "feature   지역     2014     2016     2018     2021     증가율\n",
       "city                                                    \n",
       "서울       수도권  5910293  7910293  8910293  9910293  0.2343\n",
       "부산       경상권  3384050  5384050  7384050  8384050  0.0434\n",
       "경기       수도권  4938485  7938485  5938485  2938485  0.0944"
      ]
     },
     "metadata": {},
     "output_type": "display_data"
    },
    {
     "data": {
      "text/html": [
       "<div>\n",
       "<style scoped>\n",
       "    .dataframe tbody tr th:only-of-type {\n",
       "        vertical-align: middle;\n",
       "    }\n",
       "\n",
       "    .dataframe tbody tr th {\n",
       "        vertical-align: top;\n",
       "    }\n",
       "\n",
       "    .dataframe thead th {\n",
       "        text-align: right;\n",
       "    }\n",
       "</style>\n",
       "<table border=\"1\" class=\"dataframe\">\n",
       "  <thead>\n",
       "    <tr style=\"text-align: right;\">\n",
       "      <th>feature</th>\n",
       "      <th>지역</th>\n",
       "      <th>2014</th>\n",
       "      <th>2016</th>\n",
       "      <th>2018</th>\n",
       "      <th>2021</th>\n",
       "      <th>증가율</th>\n",
       "    </tr>\n",
       "    <tr>\n",
       "      <th>city</th>\n",
       "      <th></th>\n",
       "      <th></th>\n",
       "      <th></th>\n",
       "      <th></th>\n",
       "      <th></th>\n",
       "      <th></th>\n",
       "    </tr>\n",
       "  </thead>\n",
       "  <tbody>\n",
       "    <tr>\n",
       "      <th>서울</th>\n",
       "      <td>수도권</td>\n",
       "      <td>5910293</td>\n",
       "      <td>7910293</td>\n",
       "      <td>8910293</td>\n",
       "      <td>9910293</td>\n",
       "      <td>0.2343</td>\n",
       "    </tr>\n",
       "    <tr>\n",
       "      <th>부산</th>\n",
       "      <td>경상권</td>\n",
       "      <td>3384050</td>\n",
       "      <td>5384050</td>\n",
       "      <td>7384050</td>\n",
       "      <td>8384050</td>\n",
       "      <td>0.0434</td>\n",
       "    </tr>\n",
       "    <tr>\n",
       "      <th>경기</th>\n",
       "      <td>수도권</td>\n",
       "      <td>4938485</td>\n",
       "      <td>7938485</td>\n",
       "      <td>5938485</td>\n",
       "      <td>2938485</td>\n",
       "      <td>0.0944</td>\n",
       "    </tr>\n",
       "  </tbody>\n",
       "</table>\n",
       "</div>"
      ],
      "text/plain": [
       "feature   지역     2014     2016     2018     2021     증가율\n",
       "city                                                    \n",
       "서울       수도권  5910293  7910293  8910293  9910293  0.2343\n",
       "부산       경상권  3384050  5384050  7384050  8384050  0.0434\n",
       "경기       수도권  4938485  7938485  5938485  2938485  0.0944"
      ]
     },
     "metadata": {},
     "output_type": "display_data"
    }
   ],
   "source": [
    "# 배열인덱싱\n",
    "display(popDF[0:3])\n",
    "# 라벨인덱싱\n",
    "display(popDF['서울': '경기'])"
   ]
  },
  {
   "cell_type": "markdown",
   "metadata": {},
   "source": [
    "- 개별 인덱싱 : 특정 행에 대한 특정 컬럼"
   ]
  },
  {
   "cell_type": "code",
   "execution_count": 244,
   "metadata": {},
   "outputs": [
    {
     "name": "stdout",
     "output_type": "stream",
     "text": [
      "9910293\n",
      "city\n",
      "서울    9910293\n",
      "Name: 2021, dtype: int64\n",
      "<class 'numpy.int64'>\n",
      "<class 'pandas.core.series.Series'>\n"
     ]
    }
   ],
   "source": [
    "print(popDF['2021']['서울'])\n",
    "print(popDF['2021'][:'서울'])\n",
    "print(type(popDF['2021']['서울']))\n",
    "print(type(popDF['2021'][:'서울']))"
   ]
  },
  {
   "cell_type": "code",
   "execution_count": 243,
   "metadata": {},
   "outputs": [
    {
     "data": {
      "text/plain": [
       "city\n",
       "서울    9910293\n",
       "대구    1203948\n",
       "Name: 2021, dtype: int64"
      ]
     },
     "execution_count": 243,
     "metadata": {},
     "output_type": "execute_result"
    }
   ],
   "source": [
    "popDF['2021'][['서울', '대구']]"
   ]
  },
  {
   "cell_type": "code",
   "execution_count": 2,
   "metadata": {},
   "outputs": [
    {
     "data": {
      "text/html": [
       "<div>\n",
       "<style scoped>\n",
       "    .dataframe tbody tr th:only-of-type {\n",
       "        vertical-align: middle;\n",
       "    }\n",
       "\n",
       "    .dataframe tbody tr th {\n",
       "        vertical-align: top;\n",
       "    }\n",
       "\n",
       "    .dataframe thead th {\n",
       "        text-align: right;\n",
       "    }\n",
       "</style>\n",
       "<table border=\"1\" class=\"dataframe\">\n",
       "  <thead>\n",
       "    <tr style=\"text-align: right;\">\n",
       "      <th></th>\n",
       "      <th>kor</th>\n",
       "      <th>eng</th>\n",
       "      <th>math</th>\n",
       "    </tr>\n",
       "  </thead>\n",
       "  <tbody>\n",
       "    <tr>\n",
       "      <th>김지은</th>\n",
       "      <td>80</td>\n",
       "      <td>90</td>\n",
       "      <td>90</td>\n",
       "    </tr>\n",
       "    <tr>\n",
       "      <th>황인범</th>\n",
       "      <td>90</td>\n",
       "      <td>70</td>\n",
       "      <td>60</td>\n",
       "    </tr>\n",
       "    <tr>\n",
       "      <th>김정수</th>\n",
       "      <td>70</td>\n",
       "      <td>60</td>\n",
       "      <td>90</td>\n",
       "    </tr>\n",
       "    <tr>\n",
       "      <th>최호진</th>\n",
       "      <td>30</td>\n",
       "      <td>40</td>\n",
       "      <td>70</td>\n",
       "    </tr>\n",
       "  </tbody>\n",
       "</table>\n",
       "</div>"
      ],
      "text/plain": [
       "     kor  eng  math\n",
       "김지은   80   90    90\n",
       "황인범   90   70    60\n",
       "김정수   70   60    90\n",
       "최호진   30   40    70"
      ]
     },
     "execution_count": 2,
     "metadata": {},
     "output_type": "execute_result"
    }
   ],
   "source": [
    "score_data = {\n",
    "    'kor'  : [80,90,70,30],\n",
    "    'eng'  : [90,70,60,40],\n",
    "    'math' : [90,60,90,70] \n",
    "}\n",
    "columns = ['kor','eng','math']\n",
    "index   = ['김지은', '황인범', '김정수', '최호진']\n",
    "\n",
    "exec_df = pd.DataFrame(score_data , index=index , columns=columns)\n",
    "exec_df"
   ]
  },
  {
   "cell_type": "code",
   "execution_count": 3,
   "metadata": {},
   "outputs": [],
   "source": [
    "# 위 데이터를 보고 모든 학생의 수학 점수를 시리즈로 출력하라\n",
    "# 모든 학생의 국어와 영어 점수를 데이터 프레임으로  만들어라\n",
    "# 모든 학생의 각 과목 평균 점수를 새로운 열로 추가하라\n",
    "# 최호진 학생의 영어 점수를 90점으로 수정하고 평균 점수도 다시 계산하라\n",
    "# 김지은 학생의 점수를 데이터 프레임으로 만들어라\n",
    "# 김정수 학생의 점수를 시리즈로 출력하라\n",
    "# 황인범 학생의 국어점수와 수학점수를 100점으로 수정하고 평균 점수도 다시 계산하라"
   ]
  },
  {
   "cell_type": "code",
   "execution_count": null,
   "metadata": {},
   "outputs": [],
   "source": []
  },
  {
   "cell_type": "code",
   "execution_count": null,
   "metadata": {},
   "outputs": [],
   "source": []
  },
  {
   "cell_type": "code",
   "execution_count": null,
   "metadata": {},
   "outputs": [],
   "source": []
  },
  {
   "cell_type": "code",
   "execution_count": null,
   "metadata": {},
   "outputs": [],
   "source": []
  },
  {
   "cell_type": "code",
   "execution_count": null,
   "metadata": {},
   "outputs": [],
   "source": []
  }
 ],
 "metadata": {
  "kernelspec": {
   "display_name": "Python 3",
   "language": "python",
   "name": "python3"
  },
  "language_info": {
   "codemirror_mode": {
    "name": "ipython",
    "version": 3
   },
   "file_extension": ".py",
   "mimetype": "text/x-python",
   "name": "python",
   "nbconvert_exporter": "python",
   "pygments_lexer": "ipython3",
   "version": "3.8.5"
  }
 },
 "nbformat": 4,
 "nbformat_minor": 4
}
