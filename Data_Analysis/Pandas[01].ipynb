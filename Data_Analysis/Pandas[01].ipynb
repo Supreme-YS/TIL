{
 "cells": [
  {
   "cell_type": "markdown",
   "metadata": {},
   "source": [
    "### Pandas\n",
    "- Series and Dataframe\n",
    "- 분석을 위한 전처리"
   ]
  },
  {
   "cell_type": "code",
   "execution_count": 1,
   "metadata": {},
   "outputs": [
    {
     "name": "stdout",
     "output_type": "stream",
     "text": [
      "1.19.2\n",
      "1.1.3\n"
     ]
    }
   ],
   "source": [
    "import numpy as np\n",
    "import pandas as pd\n",
    "import matplotlib.pyplot as plt\n",
    "\n",
    "import warnings\n",
    "warnings.filterwarnings(action=\"ignore\")\n",
    "\n",
    "print(np.__version__)\n",
    "print(pd.__version__)"
   ]
  },
  {
   "cell_type": "markdown",
   "metadata": {},
   "source": [
    "### Series 클래스\n",
    "- 넘파이 1차원 배열과 비슷\n",
    "- series = index + value"
   ]
  },
  {
   "cell_type": "code",
   "execution_count": 2,
   "metadata": {},
   "outputs": [
    {
     "name": "stdout",
     "output_type": "stream",
     "text": [
      "[1 2 3 4 'ruby']\n",
      "object\n"
     ]
    }
   ],
   "source": [
    "# numpy vector\n",
    "ary = np.array([1,2,3,4,'ruby'], dtype=np.object)\n",
    "print(ary)\n",
    "print(ary.dtype)"
   ]
  },
  {
   "cell_type": "code",
   "execution_count": 3,
   "metadata": {},
   "outputs": [
    {
     "name": "stdout",
     "output_type": "stream",
     "text": [
      "0       1\n",
      "1       2\n",
      "2       3\n",
      "3       4\n",
      "4    ruby\n",
      "dtype: object\n",
      "[1 2 3 4 'ruby']\n",
      "<class 'numpy.ndarray'>\n",
      "RangeIndex(start=0, stop=5, step=1)\n",
      "<class 'pandas.core.indexes.range.RangeIndex'>\n"
     ]
    }
   ],
   "source": [
    "# pandas series\n",
    "ary = pd.Series([1,2,3,4,'ruby'], dtype=np.object)\n",
    "print(ary)\n",
    "print(ary.values)\n",
    "print(type(ary.values))\n",
    "print(ary.index)\n",
    "print(type(ary.index))"
   ]
  },
  {
   "cell_type": "code",
   "execution_count": 4,
   "metadata": {},
   "outputs": [],
   "source": [
    "def seriesInfo(ary) :\n",
    "    print('index + value : \\n', ary)\n",
    "    print('value : ', ary.values)\n",
    "    print('value type : ', type(ary.values))\n",
    "    print('index : ', ary.index)\n",
    "    print('index type : ', type(ary.index))"
   ]
  },
  {
   "cell_type": "markdown",
   "metadata": {},
   "source": [
    "- 인덱스의 라벨은 정수, 문자, 날짜, 시간으로 변경 가능"
   ]
  },
  {
   "cell_type": "code",
   "execution_count": 5,
   "metadata": {},
   "outputs": [],
   "source": [
    "ary = pd.Series([1,2,3,4,5], dtype=np.int32, index=['강남','서초','방배','동작','사당'])"
   ]
  },
  {
   "cell_type": "code",
   "execution_count": 6,
   "metadata": {},
   "outputs": [
    {
     "name": "stdout",
     "output_type": "stream",
     "text": [
      "index + value : \n",
      " 강남    1\n",
      "서초    2\n",
      "방배    3\n",
      "동작    4\n",
      "사당    5\n",
      "dtype: int32\n",
      "value :  [1 2 3 4 5]\n",
      "value type :  <class 'numpy.ndarray'>\n",
      "index :  Index(['강남', '서초', '방배', '동작', '사당'], dtype='object')\n",
      "index type :  <class 'pandas.core.indexes.base.Index'>\n"
     ]
    }
   ],
   "source": [
    "seriesInfo(ary)"
   ]
  },
  {
   "cell_type": "code",
   "execution_count": 7,
   "metadata": {},
   "outputs": [
    {
     "name": "stdout",
     "output_type": "stream",
     "text": [
      "index + value : \n",
      " 구별\n",
      "강남    1\n",
      "서초    2\n",
      "방배    3\n",
      "동작    4\n",
      "사당    5\n",
      "dtype: int32\n",
      "value :  [1 2 3 4 5]\n",
      "value type :  <class 'numpy.ndarray'>\n",
      "index :  Index(['강남', '서초', '방배', '동작', '사당'], dtype='object', name='구별')\n",
      "index type :  <class 'pandas.core.indexes.base.Index'>\n"
     ]
    }
   ],
   "source": [
    "# head추가\n",
    "ary.index.name='구별'\n",
    "seriesInfo(ary)"
   ]
  },
  {
   "cell_type": "code",
   "execution_count": 8,
   "metadata": {},
   "outputs": [
    {
     "name": "stdout",
     "output_type": "stream",
     "text": [
      "2\n",
      "구별\n",
      "강남    1\n",
      "방배    3\n",
      "dtype: int32\n"
     ]
    }
   ],
   "source": [
    "# 두개 이상의 인덱스 [[]]\n",
    "print(ary['서초'])\n",
    "print(ary[['강남', '방배']])"
   ]
  },
  {
   "cell_type": "code",
   "execution_count": 9,
   "metadata": {},
   "outputs": [
    {
     "name": "stdout",
     "output_type": "stream",
     "text": [
      "idx : 강남, value : 1\n",
      "idx : 서초, value : 2\n",
      "idx : 방배, value : 3\n",
      "idx : 동작, value : 4\n",
      "idx : 사당, value : 5\n"
     ]
    }
   ],
   "source": [
    "# index, values 모두 가져올 때\n",
    "for idx, value in ary.items():\n",
    "    print('idx : {}, value : {}'.format(idx, value))"
   ]
  },
  {
   "cell_type": "code",
   "execution_count": 10,
   "metadata": {},
   "outputs": [
    {
     "name": "stdout",
     "output_type": "stream",
     "text": [
      "idx : 강남\n",
      "idx : 서초\n",
      "idx : 방배\n",
      "idx : 동작\n",
      "idx : 사당\n"
     ]
    }
   ],
   "source": [
    "# index만 가져올 때\n",
    "for idx in ary.keys():\n",
    "    print('idx : {}'.format(idx))"
   ]
  },
  {
   "cell_type": "code",
   "execution_count": 11,
   "metadata": {},
   "outputs": [
    {
     "name": "stdout",
     "output_type": "stream",
     "text": [
      "value : 1\n",
      "value : 2\n",
      "value : 3\n",
      "value : 4\n",
      "value : 5\n"
     ]
    }
   ],
   "source": [
    "# value만 가져올 때\n",
    "for value in ary.values:\n",
    "    print('value : {}'.format(value))"
   ]
  },
  {
   "cell_type": "code",
   "execution_count": 12,
   "metadata": {},
   "outputs": [
    {
     "name": "stdout",
     "output_type": "stream",
     "text": [
      "index + value : \n",
      " 0    10\n",
      "1    12\n",
      "2    14\n",
      "3    16\n",
      "4    18\n",
      "5    20\n",
      "dtype: int64\n",
      "value :  [10 12 14 16 18 20]\n",
      "value type :  <class 'numpy.ndarray'>\n",
      "index :  RangeIndex(start=0, stop=6, step=1)\n",
      "index type :  <class 'pandas.core.indexes.range.RangeIndex'>\n"
     ]
    }
   ],
   "source": [
    "ary = pd.Series(range(10, 21,2))\n",
    "seriesInfo(ary)"
   ]
  },
  {
   "cell_type": "code",
   "execution_count": 13,
   "metadata": {},
   "outputs": [
    {
     "name": "stdout",
     "output_type": "stream",
     "text": [
      "index + value : \n",
      " c     1.0\n",
      "b     5.0\n",
      "a    -8.0\n",
      "k    10.0\n",
      "dtype: float64\n",
      "value :  [ 1.  5. -8. 10.]\n",
      "value type :  <class 'numpy.ndarray'>\n",
      "index :  Index(['c', 'b', 'a', 'k'], dtype='object')\n",
      "index type :  <class 'pandas.core.indexes.base.Index'>\n"
     ]
    }
   ],
   "source": [
    "# dict형태로 series만들기\n",
    "ary = pd.Series({'c' : 1, 'b' : 5, 'a' : -8, 'k' : 10}, dtype=np.float64)\n",
    "seriesInfo(ary)"
   ]
  },
  {
   "cell_type": "code",
   "execution_count": 14,
   "metadata": {},
   "outputs": [
    {
     "data": {
      "text/plain": [
       "c     10.0\n",
       "b     50.0\n",
       "a    -80.0\n",
       "k    100.0\n",
       "dtype: float64"
      ]
     },
     "execution_count": 14,
     "metadata": {},
     "output_type": "execute_result"
    }
   ],
   "source": [
    "# 연산이 되더라도 index는 변함없음\n",
    "ary*10"
   ]
  },
  {
   "cell_type": "markdown",
   "metadata": {},
   "source": [
    "- fancy indexing & boolean indexing"
   ]
  },
  {
   "cell_type": "code",
   "execution_count": 15,
   "metadata": {},
   "outputs": [
    {
     "name": "stdout",
     "output_type": "stream",
     "text": [
      "fancy [0,2] indexing : \n",
      "c    1.0\n",
      "a   -8.0\n",
      "dtype: float64\n"
     ]
    }
   ],
   "source": [
    "print('fancy [0,2] indexing : \\n{}'.format(ary[[0,2]]))"
   ]
  },
  {
   "cell_type": "code",
   "execution_count": 16,
   "metadata": {},
   "outputs": [
    {
     "name": "stdout",
     "output_type": "stream",
     "text": [
      "boolean ary % 2 == 0 :\n",
      "a    -8.0\n",
      "k    10.0\n",
      "dtype: float64\n"
     ]
    }
   ],
   "source": [
    "# 2의 배수\n",
    "print('boolean ary % 2 == 0 :\\n{}'.format(ary[ary % 2 == 0]))"
   ]
  },
  {
   "cell_type": "markdown",
   "metadata": {},
   "source": [
    "### 시간, 날짜 불러오기"
   ]
  },
  {
   "cell_type": "code",
   "execution_count": 17,
   "metadata": {},
   "outputs": [],
   "source": [
    "from datetime import date, datetime, timedelta\n",
    "from dateutil.parser import parse"
   ]
  },
  {
   "cell_type": "code",
   "execution_count": 18,
   "metadata": {},
   "outputs": [
    {
     "name": "stdout",
     "output_type": "stream",
     "text": [
      "2021-02-25 00:00:00\n",
      "2021-02-26 00:00:00\n"
     ]
    }
   ],
   "source": [
    "strDate = datetime(2021,2,25)\n",
    "print(strDate)\n",
    "print(strDate + timedelta(days=1))"
   ]
  },
  {
   "cell_type": "code",
   "execution_count": 19,
   "metadata": {},
   "outputs": [
    {
     "name": "stdout",
     "output_type": "stream",
     "text": [
      "index + value : \n",
      " 2021-02-25    50\n",
      "2021-02-26    52\n",
      "2021-02-27    51\n",
      "2021-02-28    51\n",
      "2021-03-01    53\n",
      "2021-03-02    57\n",
      "2021-03-03    53\n",
      "2021-03-04    44\n",
      "2021-03-05    59\n",
      "2021-03-06    57\n",
      "dtype: int64\n",
      "value :  [50 52 51 51 53 57 53 44 59 57]\n",
      "value type :  <class 'numpy.ndarray'>\n",
      "index :  DatetimeIndex(['2021-02-25', '2021-02-26', '2021-02-27', '2021-02-28',\n",
      "               '2021-03-01', '2021-03-02', '2021-03-03', '2021-03-04',\n",
      "               '2021-03-05', '2021-03-06'],\n",
      "              dtype='datetime64[ns]', freq=None)\n",
      "index type :  <class 'pandas.core.indexes.datetimes.DatetimeIndex'>\n"
     ]
    }
   ],
   "source": [
    "# 평균이 50이고 편차가 5인 정규분포 데이터를 10일간 만들기\n",
    "fac01 = pd.Series([int(x) for x in np.random.normal(50, 5, (10))], index=[strDate + timedelta(days=day) for day in range(10)])\n",
    "seriesInfo(fac01)"
   ]
  },
  {
   "cell_type": "code",
   "execution_count": 20,
   "metadata": {},
   "outputs": [
    {
     "name": "stdout",
     "output_type": "stream",
     "text": [
      "index + value : \n",
      " 2021-02-25    58\n",
      "2021-02-26    58\n",
      "2021-02-27    71\n",
      "2021-02-28    76\n",
      "2021-03-01    77\n",
      "2021-03-02    75\n",
      "2021-03-03    63\n",
      "2021-03-04    69\n",
      "2021-03-05    68\n",
      "2021-03-06    68\n",
      "dtype: int64\n",
      "value :  [58 58 71 76 77 75 63 69 68 68]\n",
      "value type :  <class 'numpy.ndarray'>\n",
      "index :  DatetimeIndex(['2021-02-25', '2021-02-26', '2021-02-27', '2021-02-28',\n",
      "               '2021-03-01', '2021-03-02', '2021-03-03', '2021-03-04',\n",
      "               '2021-03-05', '2021-03-06'],\n",
      "              dtype='datetime64[ns]', freq=None)\n",
      "index type :  <class 'pandas.core.indexes.datetimes.DatetimeIndex'>\n"
     ]
    }
   ],
   "source": [
    "# 평균이 70이고 편차가 8인 정규분포 데이터를 10일간 만들기\n",
    "fac02 = pd.Series([int(x) for x in np.random.normal(70, 8, (10))], index=[strDate + timedelta(days=day) for day in range(10)])\n",
    "seriesInfo(fac02)"
   ]
  },
  {
   "cell_type": "code",
   "execution_count": 21,
   "metadata": {},
   "outputs": [
    {
     "data": {
      "text/plain": [
       "2021-02-25    108\n",
       "2021-02-26    110\n",
       "2021-02-27    122\n",
       "2021-02-28    127\n",
       "2021-03-01    130\n",
       "2021-03-02    132\n",
       "2021-03-03    116\n",
       "2021-03-04    113\n",
       "2021-03-05    127\n",
       "2021-03-06    125\n",
       "dtype: int64"
      ]
     },
     "execution_count": 21,
     "metadata": {},
     "output_type": "execute_result"
    }
   ],
   "source": [
    "fac01 + fac02"
   ]
  },
  {
   "cell_type": "code",
   "execution_count": 22,
   "metadata": {},
   "outputs": [
    {
     "name": "stdout",
     "output_type": "stream",
     "text": [
      "{Timestamp('2021-03-04 00:00:00'), Timestamp('2021-03-03 00:00:00'), Timestamp('2021-02-25 00:00:00'), Timestamp('2021-02-28 00:00:00'), Timestamp('2021-03-02 00:00:00'), Timestamp('2021-02-27 00:00:00'), Timestamp('2021-02-26 00:00:00'), Timestamp('2021-03-01 00:00:00'), Timestamp('2021-03-06 00:00:00'), Timestamp('2021-03-05 00:00:00')}\n",
      "[Timestamp('2021-02-25 00:00:00'), Timestamp('2021-02-26 00:00:00'), Timestamp('2021-02-27 00:00:00'), Timestamp('2021-02-28 00:00:00'), Timestamp('2021-03-01 00:00:00'), Timestamp('2021-03-02 00:00:00'), Timestamp('2021-03-03 00:00:00'), Timestamp('2021-03-04 00:00:00'), Timestamp('2021-03-05 00:00:00'), Timestamp('2021-03-06 00:00:00')]\n"
     ]
    }
   ],
   "source": [
    "# casting\n",
    "print(set(fac01.index))\n",
    "print(list(fac01.index))"
   ]
  },
  {
   "cell_type": "code",
   "execution_count": 23,
   "metadata": {},
   "outputs": [
    {
     "name": "stdout",
     "output_type": "stream",
     "text": [
      "2021-02-25 00:00:00\n",
      "2021-02-26 00:00:00\n",
      "2021-02-27 00:00:00\n",
      "2021-02-28 00:00:00\n",
      "2021-03-01 00:00:00\n",
      "2021-03-02 00:00:00\n",
      "2021-03-03 00:00:00\n",
      "2021-03-04 00:00:00\n",
      "2021-03-05 00:00:00\n",
      "2021-03-06 00:00:00\n"
     ]
    }
   ],
   "source": [
    "for idx in fac01.index :\n",
    "    print(idx)"
   ]
  },
  {
   "cell_type": "markdown",
   "metadata": {},
   "source": [
    "- Series indexing"
   ]
  },
  {
   "cell_type": "code",
   "execution_count": 24,
   "metadata": {},
   "outputs": [
    {
     "data": {
      "text/plain": [
       "2021-02-25    50\n",
       "2021-02-26    52\n",
       "2021-02-27    51\n",
       "2021-02-28    51\n",
       "2021-03-01    53\n",
       "2021-03-02    57\n",
       "2021-03-03    53\n",
       "2021-03-04    44\n",
       "2021-03-05    59\n",
       "2021-03-06    57\n",
       "dtype: int64"
      ]
     },
     "execution_count": 24,
     "metadata": {},
     "output_type": "execute_result"
    }
   ],
   "source": [
    "fac01"
   ]
  },
  {
   "cell_type": "code",
   "execution_count": 25,
   "metadata": {},
   "outputs": [
    {
     "data": {
      "text/plain": [
       "52"
      ]
     },
     "execution_count": 25,
     "metadata": {},
     "output_type": "execute_result"
    }
   ],
   "source": [
    "fac01[1]"
   ]
  },
  {
   "cell_type": "code",
   "execution_count": 26,
   "metadata": {},
   "outputs": [
    {
     "data": {
      "text/plain": [
       "50"
      ]
     },
     "execution_count": 26,
     "metadata": {},
     "output_type": "execute_result"
    }
   ],
   "source": [
    "fac01[datetime.strptime('2021-02-25', '%Y-%m-%d')]"
   ]
  },
  {
   "cell_type": "code",
   "execution_count": 27,
   "metadata": {},
   "outputs": [
    {
     "name": "stdout",
     "output_type": "stream",
     "text": [
      "index + value : \n",
      " a    4000\n",
      "b    3000\n",
      "c    3500\n",
      "d    2000\n",
      "dtype: int64\n",
      "value :  [4000 3000 3500 2000]\n",
      "value type :  <class 'numpy.ndarray'>\n",
      "index :  Index(['a', 'b', 'c', 'd'], dtype='object')\n",
      "index type :  <class 'pandas.core.indexes.base.Index'>\n"
     ]
    }
   ],
   "source": [
    "price_series = pd.Series([4000, 3000, 3500, 2000], index=['a', 'b', 'c', 'd'])\n",
    "seriesInfo(price_series)"
   ]
  },
  {
   "cell_type": "code",
   "execution_count": 28,
   "metadata": {},
   "outputs": [
    {
     "name": "stdout",
     "output_type": "stream",
     "text": [
      "index + value : \n",
      " a    5000\n",
      "b    3000\n",
      "c    3500\n",
      "d    2000\n",
      "dtype: int64\n",
      "value :  [5000 3000 3500 2000]\n",
      "value type :  <class 'numpy.ndarray'>\n",
      "index :  Index(['a', 'b', 'c', 'd'], dtype='object')\n",
      "index type :  <class 'pandas.core.indexes.base.Index'>\n",
      "None\n",
      "index + value : \n",
      " a    6000\n",
      "b    3000\n",
      "c    3500\n",
      "d    2000\n",
      "dtype: int64\n",
      "value :  [6000 3000 3500 2000]\n",
      "value type :  <class 'numpy.ndarray'>\n",
      "index :  Index(['a', 'b', 'c', 'd'], dtype='object')\n",
      "index type :  <class 'pandas.core.indexes.base.Index'>\n",
      "None\n"
     ]
    }
   ],
   "source": [
    "# value값 바꾸기\n",
    "price_series['a']=5000\n",
    "print(seriesInfo(price_series))\n",
    "price_series[0] = 6000\n",
    "print(seriesInfo(price_series))"
   ]
  },
  {
   "cell_type": "code",
   "execution_count": 29,
   "metadata": {},
   "outputs": [
    {
     "name": "stdout",
     "output_type": "stream",
     "text": [
      "index + value : \n",
      " a    6000\n",
      "b    3000\n",
      "c    3500\n",
      "d    2000\n",
      "e    1000\n",
      "dtype: int64\n",
      "value :  [6000 3000 3500 2000 1000]\n",
      "value type :  <class 'numpy.ndarray'>\n",
      "index :  Index(['a', 'b', 'c', 'd', 'e'], dtype='object')\n",
      "index type :  <class 'pandas.core.indexes.base.Index'>\n"
     ]
    }
   ],
   "source": [
    "# index, value값 추가\n",
    "price_series['e'] = 1000\n",
    "seriesInfo(price_series)"
   ]
  },
  {
   "cell_type": "code",
   "execution_count": 30,
   "metadata": {},
   "outputs": [
    {
     "name": "stdout",
     "output_type": "stream",
     "text": [
      "index + value : \n",
      " a    6000\n",
      "b    3000\n",
      "c    3500\n",
      "d    2000\n",
      "dtype: int64\n",
      "value :  [6000 3000 3500 2000]\n",
      "value type :  <class 'numpy.ndarray'>\n",
      "index :  Index(['a', 'b', 'c', 'd'], dtype='object')\n",
      "index type :  <class 'pandas.core.indexes.base.Index'>\n"
     ]
    }
   ],
   "source": [
    "# index, value값 삭제\n",
    "del price_series['e']\n",
    "seriesInfo(price_series)"
   ]
  },
  {
   "cell_type": "code",
   "execution_count": 31,
   "metadata": {},
   "outputs": [
    {
     "name": "stdout",
     "output_type": "stream",
     "text": [
      "index + value : \n",
      " a    6000.0\n",
      "b    3000.0\n",
      "c    3500.0\n",
      "d    2000.0\n",
      "e       NaN\n",
      "dtype: float64\n",
      "value :  [6000. 3000. 3500. 2000.   nan]\n",
      "value type :  <class 'numpy.ndarray'>\n",
      "index :  Index(['a', 'b', 'c', 'd', 'e'], dtype='object')\n",
      "index type :  <class 'pandas.core.indexes.base.Index'>\n"
     ]
    }
   ],
   "source": [
    "# null값 추가\n",
    "price_series['e'] = np.NaN\n",
    "seriesInfo(price_series)"
   ]
  },
  {
   "cell_type": "code",
   "execution_count": 32,
   "metadata": {},
   "outputs": [
    {
     "data": {
      "text/plain": [
       "a    False\n",
       "b    False\n",
       "c    False\n",
       "d    False\n",
       "e     True\n",
       "dtype: bool"
      ]
     },
     "execution_count": 32,
     "metadata": {},
     "output_type": "execute_result"
    }
   ],
   "source": [
    "# null o --> True\n",
    "pd.isnull(price_series)"
   ]
  },
  {
   "cell_type": "code",
   "execution_count": 33,
   "metadata": {},
   "outputs": [],
   "source": [
    "ser01 = pd.Series([100, 200, 300, 400], index=['a','b','c','d'])\n",
    "ser02 = pd.Series([500, 600, 700, 800], index=['a','b','e','d'])"
   ]
  },
  {
   "cell_type": "code",
   "execution_count": 34,
   "metadata": {},
   "outputs": [
    {
     "data": {
      "text/plain": [
       "a     600.0\n",
       "b     800.0\n",
       "c       NaN\n",
       "d    1200.0\n",
       "e       NaN\n",
       "dtype: float64"
      ]
     },
     "execution_count": 34,
     "metadata": {},
     "output_type": "execute_result"
    }
   ],
   "source": [
    "# 연산--> +\n",
    "ser03 = ser01 + ser02\n",
    "ser03"
   ]
  },
  {
   "cell_type": "code",
   "execution_count": 35,
   "metadata": {},
   "outputs": [
    {
     "data": {
      "text/plain": [
       "a     600.0\n",
       "b     800.0\n",
       "c     300.0\n",
       "d    1200.0\n",
       "e     700.0\n",
       "dtype: float64"
      ]
     },
     "execution_count": 35,
     "metadata": {},
     "output_type": "execute_result"
    }
   ],
   "source": [
    "# 연산--> .add\n",
    "ser04 = ser01.add(ser02, fill_value=0)\n",
    "ser04"
   ]
  },
  {
   "cell_type": "code",
   "execution_count": 36,
   "metadata": {},
   "outputs": [
    {
     "name": "stdout",
     "output_type": "stream",
     "text": [
      "index + value : \n",
      " a     600.0\n",
      "b     800.0\n",
      "c       0.0\n",
      "d    1200.0\n",
      "e       0.0\n",
      "dtype: float64\n",
      "value :  [ 600.  800.    0. 1200.    0.]\n",
      "value type :  <class 'numpy.ndarray'>\n",
      "index :  Index(['a', 'b', 'c', 'd', 'e'], dtype='object')\n",
      "index type :  <class 'pandas.core.indexes.base.Index'>\n",
      "None\n",
      "index + value : \n",
      " a     600.000000\n",
      "b     800.000000\n",
      "c     866.666667\n",
      "d    1200.000000\n",
      "e     866.666667\n",
      "dtype: float64\n",
      "value :  [ 600.          800.          866.66666667 1200.          866.66666667]\n",
      "value type :  <class 'numpy.ndarray'>\n",
      "index :  Index(['a', 'b', 'c', 'd', 'e'], dtype='object')\n",
      "index type :  <class 'pandas.core.indexes.base.Index'>\n",
      "None\n"
     ]
    }
   ],
   "source": [
    "# 결측값\n",
    "zser = ser03.fillna(0)\n",
    "print(seriesInfo(zser))\n",
    "zser = ser03.fillna(ser03.mean())\n",
    "print(seriesInfo(zser))"
   ]
  },
  {
   "cell_type": "code",
   "execution_count": 37,
   "metadata": {},
   "outputs": [
    {
     "name": "stdout",
     "output_type": "stream",
     "text": [
      "a    False\n",
      "b    False\n",
      "c     True\n",
      "d    False\n",
      "e     True\n",
      "dtype: bool\n"
     ]
    },
    {
     "data": {
      "text/plain": [
       "c   NaN\n",
       "e   NaN\n",
       "dtype: float64"
      ]
     },
     "execution_count": 37,
     "metadata": {},
     "output_type": "execute_result"
    }
   ],
   "source": [
    "# subset\n",
    "print(pd.isnull(ser03))\n",
    "subset = ser03[pd.isnull(ser03)]\n",
    "subset"
   ]
  },
  {
   "cell_type": "code",
   "execution_count": 38,
   "metadata": {},
   "outputs": [
    {
     "name": "stdout",
     "output_type": "stream",
     "text": [
      "a     True\n",
      "b     True\n",
      "c    False\n",
      "d     True\n",
      "e    False\n",
      "dtype: bool\n"
     ]
    },
    {
     "data": {
      "text/plain": [
       "a     600.0\n",
       "b     800.0\n",
       "d    1200.0\n",
       "dtype: float64"
      ]
     },
     "execution_count": 38,
     "metadata": {},
     "output_type": "execute_result"
    }
   ],
   "source": [
    "print(pd.notnull(ser03))\n",
    "subset = ser03[pd.notnull(ser03)]\n",
    "subset"
   ]
  },
  {
   "cell_type": "code",
   "execution_count": 39,
   "metadata": {},
   "outputs": [
    {
     "name": "stdout",
     "output_type": "stream",
     "text": [
      "index + value : \n",
      " a     600.0\n",
      "b     800.0\n",
      "c     300.0\n",
      "d    1200.0\n",
      "e     700.0\n",
      "dtype: float64\n",
      "value :  [ 600.  800.  300. 1200.  700.]\n",
      "value type :  <class 'numpy.ndarray'>\n",
      "index :  Index(['a', 'b', 'c', 'd', 'e'], dtype='object')\n",
      "index type :  <class 'pandas.core.indexes.base.Index'>\n",
      "None\n",
      "a    600.0\n",
      "b    800.0\n",
      "dtype: float64\n",
      "a    600.0\n",
      "c    300.0\n",
      "dtype: float64\n",
      "c    300.0\n",
      "a    600.0\n",
      "dtype: float64\n",
      "a    600.0\n",
      "b    800.0\n",
      "c    300.0\n",
      "dtype: float64\n",
      "d    1200.0\n",
      "b     800.0\n",
      "dtype: float64\n"
     ]
    }
   ],
   "source": [
    "print(seriesInfo(ser04))\n",
    "# 배열인덱싱\n",
    "print(ser04[0:2])\n",
    "# 라벨인덱싱\n",
    "print(ser04[['a', 'c']])\n",
    "print(ser04[['c', 'a']])\n",
    "print(ser04['a':'c'])\n",
    "print(ser04[[3,1]])"
   ]
  },
  {
   "cell_type": "code",
   "execution_count": 40,
   "metadata": {},
   "outputs": [
    {
     "data": {
      "text/plain": [
       "0    10\n",
       "1    20\n",
       "2    30\n",
       "3    40\n",
       "dtype: int64"
      ]
     },
     "execution_count": 40,
     "metadata": {},
     "output_type": "execute_result"
    }
   ],
   "source": [
    "tuple_ser = pd.Series((10, 20, 30, 40))\n",
    "tuple_ser"
   ]
  },
  {
   "cell_type": "code",
   "execution_count": 41,
   "metadata": {},
   "outputs": [
    {
     "data": {
      "text/plain": [
       "0    40\n",
       "1    10\n",
       "2    20\n",
       "3    30\n",
       "dtype: int64"
      ]
     },
     "execution_count": 41,
     "metadata": {},
     "output_type": "execute_result"
    }
   ],
   "source": [
    "# set은 순서가 없기때문에 list로 형변환을 시켜 순서를 넣어줘야 함\n",
    "set_ser = pd.Series(list({10, 20, 30, 40}))\n",
    "set_ser"
   ]
  },
  {
   "cell_type": "markdown",
   "metadata": {},
   "source": [
    "### DataFrame"
   ]
  },
  {
   "cell_type": "code",
   "execution_count": 42,
   "metadata": {},
   "outputs": [
    {
     "data": {
      "text/html": [
       "<div>\n",
       "<style scoped>\n",
       "    .dataframe tbody tr th:only-of-type {\n",
       "        vertical-align: middle;\n",
       "    }\n",
       "\n",
       "    .dataframe tbody tr th {\n",
       "        vertical-align: top;\n",
       "    }\n",
       "\n",
       "    .dataframe thead th {\n",
       "        text-align: right;\n",
       "    }\n",
       "</style>\n",
       "<table border=\"1\" class=\"dataframe\">\n",
       "  <thead>\n",
       "    <tr style=\"text-align: right;\">\n",
       "      <th></th>\n",
       "      <th>name</th>\n",
       "      <th>birth</th>\n",
       "    </tr>\n",
       "  </thead>\n",
       "  <tbody>\n",
       "    <tr>\n",
       "      <th>0</th>\n",
       "      <td>ruby</td>\n",
       "      <td>2000</td>\n",
       "    </tr>\n",
       "    <tr>\n",
       "      <th>1</th>\n",
       "      <td>dia</td>\n",
       "      <td>2001</td>\n",
       "    </tr>\n",
       "    <tr>\n",
       "      <th>2</th>\n",
       "      <td>은영</td>\n",
       "      <td>2002</td>\n",
       "    </tr>\n",
       "    <tr>\n",
       "      <th>3</th>\n",
       "      <td>녕</td>\n",
       "      <td>2003</td>\n",
       "    </tr>\n",
       "    <tr>\n",
       "      <th>4</th>\n",
       "      <td>jslim</td>\n",
       "      <td>2004</td>\n",
       "    </tr>\n",
       "  </tbody>\n",
       "</table>\n",
       "</div>"
      ],
      "text/plain": [
       "    name  birth\n",
       "0   ruby   2000\n",
       "1    dia   2001\n",
       "2     은영   2002\n",
       "3      녕   2003\n",
       "4  jslim   2004"
      ]
     },
     "metadata": {},
     "output_type": "display_data"
    }
   ],
   "source": [
    "data = {'name' : ['ruby', 'dia', '은영', '녕', 'jslim'], 'birth' : [2000,2001,2002,2003,2004]}\n",
    "userDF = pd.DataFrame(data)\n",
    "display(userDF)"
   ]
  },
  {
   "cell_type": "code",
   "execution_count": 43,
   "metadata": {},
   "outputs": [
    {
     "name": "stdout",
     "output_type": "stream",
     "text": [
      "(5, 2)\n",
      "10\n",
      "2\n",
      "RangeIndex(start=0, stop=5, step=1)\n",
      "Index(['name', 'birth'], dtype='object')\n",
      "[['ruby' 2000]\n",
      " ['dia' 2001]\n",
      " ['은영' 2002]\n",
      " ['녕' 2003]\n",
      " ['jslim' 2004]]\n",
      "<class 'numpy.ndarray'>\n"
     ]
    }
   ],
   "source": [
    "print(userDF.shape)\n",
    "print(userDF.size)\n",
    "print(userDF.ndim)\n",
    "print(userDF.index)\n",
    "print(userDF.columns)\n",
    "print(userDF.values)\n",
    "print(type(userDF.values))"
   ]
  },
  {
   "cell_type": "code",
   "execution_count": 44,
   "metadata": {},
   "outputs": [],
   "source": [
    "def frameInfo(df) :\n",
    "    print('shape : {}'.format(df.shape))\n",
    "    print('size : {}'.format(df.size))\n",
    "    print('ndim : {}'.format(df.ndim))\n",
    "    print('index : {}'.format(df.index))\n",
    "    print('index type : {}'.format(type(df.index)))\n",
    "    print('columns : {}'.format(df.columns))\n",
    "    print('columns type : {}'.format(type(df.columns)))"
   ]
  },
  {
   "cell_type": "code",
   "execution_count": 45,
   "metadata": {},
   "outputs": [],
   "source": [
    "data = {\n",
    "    \"2021\" : [9910293, 8384050, 2938485, 1203948],\n",
    "    \"2018\" : [8910293, 7384050, 5938485, 3203948],\n",
    "    \"2016\" : [7910293, 5384050, 7938485, 6203948],\n",
    "    \"2014\" : [5910293, 3384050, 4938485, 4203948],\n",
    "    \"지역\" : ['수도권' , '경상권' , '수도권' , '경상권'],\n",
    "    \"증가율\" : [0.2343 , 0.0434 , 0.0944 , 0.0034]\n",
    "}"
   ]
  },
  {
   "cell_type": "code",
   "execution_count": 46,
   "metadata": {},
   "outputs": [
    {
     "data": {
      "text/html": [
       "<div>\n",
       "<style scoped>\n",
       "    .dataframe tbody tr th:only-of-type {\n",
       "        vertical-align: middle;\n",
       "    }\n",
       "\n",
       "    .dataframe tbody tr th {\n",
       "        vertical-align: top;\n",
       "    }\n",
       "\n",
       "    .dataframe thead th {\n",
       "        text-align: right;\n",
       "    }\n",
       "</style>\n",
       "<table border=\"1\" class=\"dataframe\">\n",
       "  <thead>\n",
       "    <tr style=\"text-align: right;\">\n",
       "      <th></th>\n",
       "      <th>지역</th>\n",
       "      <th>2014</th>\n",
       "      <th>2016</th>\n",
       "      <th>2018</th>\n",
       "      <th>2021</th>\n",
       "      <th>증가율</th>\n",
       "    </tr>\n",
       "  </thead>\n",
       "  <tbody>\n",
       "    <tr>\n",
       "      <th>서울</th>\n",
       "      <td>수도권</td>\n",
       "      <td>5910293</td>\n",
       "      <td>7910293</td>\n",
       "      <td>8910293</td>\n",
       "      <td>9910293</td>\n",
       "      <td>0.2343</td>\n",
       "    </tr>\n",
       "    <tr>\n",
       "      <th>부산</th>\n",
       "      <td>경상권</td>\n",
       "      <td>3384050</td>\n",
       "      <td>5384050</td>\n",
       "      <td>7384050</td>\n",
       "      <td>8384050</td>\n",
       "      <td>0.0434</td>\n",
       "    </tr>\n",
       "    <tr>\n",
       "      <th>경기</th>\n",
       "      <td>수도권</td>\n",
       "      <td>4938485</td>\n",
       "      <td>7938485</td>\n",
       "      <td>5938485</td>\n",
       "      <td>2938485</td>\n",
       "      <td>0.0944</td>\n",
       "    </tr>\n",
       "    <tr>\n",
       "      <th>대구</th>\n",
       "      <td>경상권</td>\n",
       "      <td>4203948</td>\n",
       "      <td>6203948</td>\n",
       "      <td>3203948</td>\n",
       "      <td>1203948</td>\n",
       "      <td>0.0034</td>\n",
       "    </tr>\n",
       "  </tbody>\n",
       "</table>\n",
       "</div>"
      ],
      "text/plain": [
       "     지역     2014     2016     2018     2021     증가율\n",
       "서울  수도권  5910293  7910293  8910293  9910293  0.2343\n",
       "부산  경상권  3384050  5384050  7384050  8384050  0.0434\n",
       "경기  수도권  4938485  7938485  5938485  2938485  0.0944\n",
       "대구  경상권  4203948  6203948  3203948  1203948  0.0034"
      ]
     },
     "execution_count": 46,
     "metadata": {},
     "output_type": "execute_result"
    }
   ],
   "source": [
    "columns = [\"지역\",\"2014\",\"2016\",\"2018\",\"2021\",\"증가율\",]\n",
    "popDF = pd.DataFrame(data, index=[\"서울\",\"부산\",\"경기\",\"대구\"], columns = columns)\n",
    "popDF"
   ]
  },
  {
   "cell_type": "code",
   "execution_count": 47,
   "metadata": {},
   "outputs": [
    {
     "name": "stdout",
     "output_type": "stream",
     "text": [
      "shape : (4, 6)\n",
      "size : 24\n",
      "ndim : 2\n",
      "index : Index(['서울', '부산', '경기', '대구'], dtype='object')\n",
      "index type : <class 'pandas.core.indexes.base.Index'>\n",
      "columns : Index(['지역', '2014', '2016', '2018', '2021', '증가율'], dtype='object')\n",
      "columns type : <class 'pandas.core.indexes.base.Index'>\n"
     ]
    }
   ],
   "source": [
    "frameInfo(popDF)"
   ]
  },
  {
   "cell_type": "code",
   "execution_count": 48,
   "metadata": {},
   "outputs": [
    {
     "data": {
      "text/plain": [
       "Index(['서울', '부산', '경기', '대구'], dtype='object')"
      ]
     },
     "execution_count": 48,
     "metadata": {},
     "output_type": "execute_result"
    }
   ],
   "source": [
    "popDF.index"
   ]
  },
  {
   "cell_type": "code",
   "execution_count": 49,
   "metadata": {},
   "outputs": [
    {
     "data": {
      "text/plain": [
       "Index(['지역', '2014', '2016', '2018', '2021', '증가율'], dtype='object')"
      ]
     },
     "execution_count": 49,
     "metadata": {},
     "output_type": "execute_result"
    }
   ],
   "source": [
    "popDF.columns"
   ]
  },
  {
   "cell_type": "code",
   "execution_count": 50,
   "metadata": {},
   "outputs": [
    {
     "data": {
      "text/html": [
       "<div>\n",
       "<style scoped>\n",
       "    .dataframe tbody tr th:only-of-type {\n",
       "        vertical-align: middle;\n",
       "    }\n",
       "\n",
       "    .dataframe tbody tr th {\n",
       "        vertical-align: top;\n",
       "    }\n",
       "\n",
       "    .dataframe thead th {\n",
       "        text-align: right;\n",
       "    }\n",
       "</style>\n",
       "<table border=\"1\" class=\"dataframe\">\n",
       "  <thead>\n",
       "    <tr style=\"text-align: right;\">\n",
       "      <th>feature</th>\n",
       "      <th>지역</th>\n",
       "      <th>2014</th>\n",
       "      <th>2016</th>\n",
       "      <th>2018</th>\n",
       "      <th>2021</th>\n",
       "      <th>증가율</th>\n",
       "    </tr>\n",
       "    <tr>\n",
       "      <th>city</th>\n",
       "      <th></th>\n",
       "      <th></th>\n",
       "      <th></th>\n",
       "      <th></th>\n",
       "      <th></th>\n",
       "      <th></th>\n",
       "    </tr>\n",
       "  </thead>\n",
       "  <tbody>\n",
       "    <tr>\n",
       "      <th>서울</th>\n",
       "      <td>수도권</td>\n",
       "      <td>5910293</td>\n",
       "      <td>7910293</td>\n",
       "      <td>8910293</td>\n",
       "      <td>9910293</td>\n",
       "      <td>0.2343</td>\n",
       "    </tr>\n",
       "    <tr>\n",
       "      <th>부산</th>\n",
       "      <td>경상권</td>\n",
       "      <td>3384050</td>\n",
       "      <td>5384050</td>\n",
       "      <td>7384050</td>\n",
       "      <td>8384050</td>\n",
       "      <td>0.0434</td>\n",
       "    </tr>\n",
       "    <tr>\n",
       "      <th>경기</th>\n",
       "      <td>수도권</td>\n",
       "      <td>4938485</td>\n",
       "      <td>7938485</td>\n",
       "      <td>5938485</td>\n",
       "      <td>2938485</td>\n",
       "      <td>0.0944</td>\n",
       "    </tr>\n",
       "    <tr>\n",
       "      <th>대구</th>\n",
       "      <td>경상권</td>\n",
       "      <td>4203948</td>\n",
       "      <td>6203948</td>\n",
       "      <td>3203948</td>\n",
       "      <td>1203948</td>\n",
       "      <td>0.0034</td>\n",
       "    </tr>\n",
       "  </tbody>\n",
       "</table>\n",
       "</div>"
      ],
      "text/plain": [
       "feature   지역     2014     2016     2018     2021     증가율\n",
       "city                                                    \n",
       "서울       수도권  5910293  7910293  8910293  9910293  0.2343\n",
       "부산       경상권  3384050  5384050  7384050  8384050  0.0434\n",
       "경기       수도권  4938485  7938485  5938485  2938485  0.0944\n",
       "대구       경상권  4203948  6203948  3203948  1203948  0.0034"
      ]
     },
     "metadata": {},
     "output_type": "display_data"
    },
    {
     "data": {
      "text/html": [
       "<div>\n",
       "<style scoped>\n",
       "    .dataframe tbody tr th:only-of-type {\n",
       "        vertical-align: middle;\n",
       "    }\n",
       "\n",
       "    .dataframe tbody tr th {\n",
       "        vertical-align: top;\n",
       "    }\n",
       "\n",
       "    .dataframe thead th {\n",
       "        text-align: right;\n",
       "    }\n",
       "</style>\n",
       "<table border=\"1\" class=\"dataframe\">\n",
       "  <thead>\n",
       "    <tr style=\"text-align: right;\">\n",
       "      <th>city</th>\n",
       "      <th>서울</th>\n",
       "      <th>부산</th>\n",
       "      <th>경기</th>\n",
       "      <th>대구</th>\n",
       "    </tr>\n",
       "    <tr>\n",
       "      <th>feature</th>\n",
       "      <th></th>\n",
       "      <th></th>\n",
       "      <th></th>\n",
       "      <th></th>\n",
       "    </tr>\n",
       "  </thead>\n",
       "  <tbody>\n",
       "    <tr>\n",
       "      <th>지역</th>\n",
       "      <td>수도권</td>\n",
       "      <td>경상권</td>\n",
       "      <td>수도권</td>\n",
       "      <td>경상권</td>\n",
       "    </tr>\n",
       "    <tr>\n",
       "      <th>2014</th>\n",
       "      <td>5910293</td>\n",
       "      <td>3384050</td>\n",
       "      <td>4938485</td>\n",
       "      <td>4203948</td>\n",
       "    </tr>\n",
       "    <tr>\n",
       "      <th>2016</th>\n",
       "      <td>7910293</td>\n",
       "      <td>5384050</td>\n",
       "      <td>7938485</td>\n",
       "      <td>6203948</td>\n",
       "    </tr>\n",
       "    <tr>\n",
       "      <th>2018</th>\n",
       "      <td>8910293</td>\n",
       "      <td>7384050</td>\n",
       "      <td>5938485</td>\n",
       "      <td>3203948</td>\n",
       "    </tr>\n",
       "    <tr>\n",
       "      <th>2021</th>\n",
       "      <td>9910293</td>\n",
       "      <td>8384050</td>\n",
       "      <td>2938485</td>\n",
       "      <td>1203948</td>\n",
       "    </tr>\n",
       "    <tr>\n",
       "      <th>증가율</th>\n",
       "      <td>0.2343</td>\n",
       "      <td>0.0434</td>\n",
       "      <td>0.0944</td>\n",
       "      <td>0.0034</td>\n",
       "    </tr>\n",
       "  </tbody>\n",
       "</table>\n",
       "</div>"
      ],
      "text/plain": [
       "city          서울       부산       경기       대구\n",
       "feature                                    \n",
       "지역           수도권      경상권      수도권      경상권\n",
       "2014     5910293  3384050  4938485  4203948\n",
       "2016     7910293  5384050  7938485  6203948\n",
       "2018     8910293  7384050  5938485  3203948\n",
       "2021     9910293  8384050  2938485  1203948\n",
       "증가율       0.2343   0.0434   0.0944   0.0034"
      ]
     },
     "metadata": {},
     "output_type": "display_data"
    }
   ],
   "source": [
    "# index의 name 설정\n",
    "popDF.index.name=\"city\"\n",
    "popDF.columns.name = \"feature\"\n",
    "display(popDF)\n",
    "display(popDF.T)"
   ]
  },
  {
   "cell_type": "markdown",
   "metadata": {},
   "source": [
    "### 다음 조건을 만족하는 임의의 데이터프레임을 만들어보자\n",
    "- 열의 갯수와 행의 갯수가 각각 5개 이상이여야 한다.\n",
    "- 열에는 정수, 문자열, 실수, 날짜 데이터가 각각 1개 이상 포함되어야 한다."
   ]
  },
  {
   "cell_type": "code",
   "execution_count": 51,
   "metadata": {},
   "outputs": [],
   "source": [
    "# 정수컬럼\n",
    "random_int = np.random.randint(1, 100, 10)\n",
    "# 실수컬럼(표준정규분포)\n",
    "random_gao = np.random.randn(10)\n",
    "# 실수 컬럼\n",
    "random_uni = np.random.rand(10)\n",
    "# 날짜 컬럼\n",
    "startDay = datetime(2021,2,25)\n",
    "years = [startDay + timedelta(day) for day in range(0, 10)]\n",
    "# 문자 컬럼\n",
    "random_moon = [\"apple\", \"banana\", \"mango\", \"berry\", \"melon\", \"cherry\", \"pineapple\", \"peach\", \"blueberry\", \"avocado\"]"
   ]
  },
  {
   "cell_type": "code",
   "execution_count": 52,
   "metadata": {},
   "outputs": [
    {
     "data": {
      "text/html": [
       "<div>\n",
       "<style scoped>\n",
       "    .dataframe tbody tr th:only-of-type {\n",
       "        vertical-align: middle;\n",
       "    }\n",
       "\n",
       "    .dataframe tbody tr th {\n",
       "        vertical-align: top;\n",
       "    }\n",
       "\n",
       "    .dataframe thead th {\n",
       "        text-align: right;\n",
       "    }\n",
       "</style>\n",
       "<table border=\"1\" class=\"dataframe\">\n",
       "  <thead>\n",
       "    <tr style=\"text-align: right;\">\n",
       "      <th></th>\n",
       "      <th>정수</th>\n",
       "      <th>실수1</th>\n",
       "      <th>실수2</th>\n",
       "      <th>문자</th>\n",
       "      <th>날짜</th>\n",
       "    </tr>\n",
       "  </thead>\n",
       "  <tbody>\n",
       "    <tr>\n",
       "      <th>0</th>\n",
       "      <td>24</td>\n",
       "      <td>1.543061</td>\n",
       "      <td>0.152280</td>\n",
       "      <td>apple</td>\n",
       "      <td>2021-02-25</td>\n",
       "    </tr>\n",
       "    <tr>\n",
       "      <th>1</th>\n",
       "      <td>33</td>\n",
       "      <td>-0.484514</td>\n",
       "      <td>0.658957</td>\n",
       "      <td>banana</td>\n",
       "      <td>2021-02-26</td>\n",
       "    </tr>\n",
       "    <tr>\n",
       "      <th>2</th>\n",
       "      <td>17</td>\n",
       "      <td>1.274822</td>\n",
       "      <td>0.407525</td>\n",
       "      <td>mango</td>\n",
       "      <td>2021-02-27</td>\n",
       "    </tr>\n",
       "    <tr>\n",
       "      <th>3</th>\n",
       "      <td>16</td>\n",
       "      <td>-0.954644</td>\n",
       "      <td>0.663351</td>\n",
       "      <td>berry</td>\n",
       "      <td>2021-02-28</td>\n",
       "    </tr>\n",
       "    <tr>\n",
       "      <th>4</th>\n",
       "      <td>74</td>\n",
       "      <td>0.544376</td>\n",
       "      <td>0.680719</td>\n",
       "      <td>melon</td>\n",
       "      <td>2021-03-01</td>\n",
       "    </tr>\n",
       "    <tr>\n",
       "      <th>5</th>\n",
       "      <td>95</td>\n",
       "      <td>2.563510</td>\n",
       "      <td>0.828082</td>\n",
       "      <td>cherry</td>\n",
       "      <td>2021-03-02</td>\n",
       "    </tr>\n",
       "    <tr>\n",
       "      <th>6</th>\n",
       "      <td>56</td>\n",
       "      <td>-0.575368</td>\n",
       "      <td>0.428636</td>\n",
       "      <td>pineapple</td>\n",
       "      <td>2021-03-03</td>\n",
       "    </tr>\n",
       "    <tr>\n",
       "      <th>7</th>\n",
       "      <td>98</td>\n",
       "      <td>0.759926</td>\n",
       "      <td>0.708370</td>\n",
       "      <td>peach</td>\n",
       "      <td>2021-03-04</td>\n",
       "    </tr>\n",
       "    <tr>\n",
       "      <th>8</th>\n",
       "      <td>4</td>\n",
       "      <td>-0.388827</td>\n",
       "      <td>0.337552</td>\n",
       "      <td>blueberry</td>\n",
       "      <td>2021-03-05</td>\n",
       "    </tr>\n",
       "    <tr>\n",
       "      <th>9</th>\n",
       "      <td>69</td>\n",
       "      <td>0.462060</td>\n",
       "      <td>0.003603</td>\n",
       "      <td>avocado</td>\n",
       "      <td>2021-03-06</td>\n",
       "    </tr>\n",
       "  </tbody>\n",
       "</table>\n",
       "</div>"
      ],
      "text/plain": [
       "   정수       실수1       실수2         문자         날짜\n",
       "0  24  1.543061  0.152280      apple 2021-02-25\n",
       "1  33 -0.484514  0.658957     banana 2021-02-26\n",
       "2  17  1.274822  0.407525      mango 2021-02-27\n",
       "3  16 -0.954644  0.663351      berry 2021-02-28\n",
       "4  74  0.544376  0.680719      melon 2021-03-01\n",
       "5  95  2.563510  0.828082     cherry 2021-03-02\n",
       "6  56 -0.575368  0.428636  pineapple 2021-03-03\n",
       "7  98  0.759926  0.708370      peach 2021-03-04\n",
       "8   4 -0.388827  0.337552  blueberry 2021-03-05\n",
       "9  69  0.462060  0.003603    avocado 2021-03-06"
      ]
     },
     "execution_count": 52,
     "metadata": {},
     "output_type": "execute_result"
    }
   ],
   "source": [
    "data = {\n",
    "    '정수' : random_int,\n",
    "    '실수1': random_gao,\n",
    "    '실수2':random_uni,\n",
    "    '문자': random_moon,\n",
    "    '날짜': years,\n",
    "}\n",
    "\n",
    "testDF = pd.DataFrame(data)\n",
    "testDF"
   ]
  },
  {
   "cell_type": "code",
   "execution_count": 53,
   "metadata": {},
   "outputs": [
    {
     "data": {
      "text/html": [
       "<div>\n",
       "<style scoped>\n",
       "    .dataframe tbody tr th:only-of-type {\n",
       "        vertical-align: middle;\n",
       "    }\n",
       "\n",
       "    .dataframe tbody tr th {\n",
       "        vertical-align: top;\n",
       "    }\n",
       "\n",
       "    .dataframe thead th {\n",
       "        text-align: right;\n",
       "    }\n",
       "</style>\n",
       "<table border=\"1\" class=\"dataframe\">\n",
       "  <thead>\n",
       "    <tr style=\"text-align: right;\">\n",
       "      <th>feature</th>\n",
       "      <th>지역</th>\n",
       "      <th>2014</th>\n",
       "      <th>2016</th>\n",
       "      <th>2018</th>\n",
       "      <th>2021</th>\n",
       "      <th>증가율</th>\n",
       "      <th>2014-2016 증가율</th>\n",
       "    </tr>\n",
       "    <tr>\n",
       "      <th>city</th>\n",
       "      <th></th>\n",
       "      <th></th>\n",
       "      <th></th>\n",
       "      <th></th>\n",
       "      <th></th>\n",
       "      <th></th>\n",
       "      <th></th>\n",
       "    </tr>\n",
       "  </thead>\n",
       "  <tbody>\n",
       "    <tr>\n",
       "      <th>서울</th>\n",
       "      <td>수도권</td>\n",
       "      <td>5910293</td>\n",
       "      <td>7910293</td>\n",
       "      <td>8910293</td>\n",
       "      <td>9910293</td>\n",
       "      <td>0.2343</td>\n",
       "      <td>33.84</td>\n",
       "    </tr>\n",
       "    <tr>\n",
       "      <th>부산</th>\n",
       "      <td>경상권</td>\n",
       "      <td>3384050</td>\n",
       "      <td>5384050</td>\n",
       "      <td>7384050</td>\n",
       "      <td>8384050</td>\n",
       "      <td>0.0434</td>\n",
       "      <td>59.10</td>\n",
       "    </tr>\n",
       "    <tr>\n",
       "      <th>경기</th>\n",
       "      <td>수도권</td>\n",
       "      <td>4938485</td>\n",
       "      <td>7938485</td>\n",
       "      <td>5938485</td>\n",
       "      <td>2938485</td>\n",
       "      <td>0.0944</td>\n",
       "      <td>60.75</td>\n",
       "    </tr>\n",
       "    <tr>\n",
       "      <th>대구</th>\n",
       "      <td>경상권</td>\n",
       "      <td>4203948</td>\n",
       "      <td>6203948</td>\n",
       "      <td>3203948</td>\n",
       "      <td>1203948</td>\n",
       "      <td>0.0034</td>\n",
       "      <td>47.57</td>\n",
       "    </tr>\n",
       "  </tbody>\n",
       "</table>\n",
       "</div>"
      ],
      "text/plain": [
       "feature   지역     2014     2016     2018     2021     증가율  2014-2016 증가율\n",
       "city                                                                   \n",
       "서울       수도권  5910293  7910293  8910293  9910293  0.2343          33.84\n",
       "부산       경상권  3384050  5384050  7384050  8384050  0.0434          59.10\n",
       "경기       수도권  4938485  7938485  5938485  2938485  0.0944          60.75\n",
       "대구       경상권  4203948  6203948  3203948  1203948  0.0034          47.57"
      ]
     },
     "execution_count": 53,
     "metadata": {},
     "output_type": "execute_result"
    }
   ],
   "source": [
    "# 새로운 컬럼 추가\n",
    "popDF['2014-2016 증가율'] = ((popDF['2016'] - popDF['2014']) / popDF['2014'] * 100).round(2)\n",
    "popDF"
   ]
  },
  {
   "cell_type": "code",
   "execution_count": 54,
   "metadata": {},
   "outputs": [
    {
     "data": {
      "text/html": [
       "<div>\n",
       "<style scoped>\n",
       "    .dataframe tbody tr th:only-of-type {\n",
       "        vertical-align: middle;\n",
       "    }\n",
       "\n",
       "    .dataframe tbody tr th {\n",
       "        vertical-align: top;\n",
       "    }\n",
       "\n",
       "    .dataframe thead th {\n",
       "        text-align: right;\n",
       "    }\n",
       "</style>\n",
       "<table border=\"1\" class=\"dataframe\">\n",
       "  <thead>\n",
       "    <tr style=\"text-align: right;\">\n",
       "      <th>feature</th>\n",
       "      <th>지역</th>\n",
       "      <th>2014</th>\n",
       "      <th>2016</th>\n",
       "      <th>2018</th>\n",
       "      <th>2021</th>\n",
       "      <th>증가율</th>\n",
       "    </tr>\n",
       "    <tr>\n",
       "      <th>city</th>\n",
       "      <th></th>\n",
       "      <th></th>\n",
       "      <th></th>\n",
       "      <th></th>\n",
       "      <th></th>\n",
       "      <th></th>\n",
       "    </tr>\n",
       "  </thead>\n",
       "  <tbody>\n",
       "    <tr>\n",
       "      <th>서울</th>\n",
       "      <td>수도권</td>\n",
       "      <td>5910293</td>\n",
       "      <td>7910293</td>\n",
       "      <td>8910293</td>\n",
       "      <td>9910293</td>\n",
       "      <td>0.2343</td>\n",
       "    </tr>\n",
       "    <tr>\n",
       "      <th>부산</th>\n",
       "      <td>경상권</td>\n",
       "      <td>3384050</td>\n",
       "      <td>5384050</td>\n",
       "      <td>7384050</td>\n",
       "      <td>8384050</td>\n",
       "      <td>0.0434</td>\n",
       "    </tr>\n",
       "    <tr>\n",
       "      <th>경기</th>\n",
       "      <td>수도권</td>\n",
       "      <td>4938485</td>\n",
       "      <td>7938485</td>\n",
       "      <td>5938485</td>\n",
       "      <td>2938485</td>\n",
       "      <td>0.0944</td>\n",
       "    </tr>\n",
       "    <tr>\n",
       "      <th>대구</th>\n",
       "      <td>경상권</td>\n",
       "      <td>4203948</td>\n",
       "      <td>6203948</td>\n",
       "      <td>3203948</td>\n",
       "      <td>1203948</td>\n",
       "      <td>0.0034</td>\n",
       "    </tr>\n",
       "  </tbody>\n",
       "</table>\n",
       "</div>"
      ],
      "text/plain": [
       "feature   지역     2014     2016     2018     2021     증가율\n",
       "city                                                    \n",
       "서울       수도권  5910293  7910293  8910293  9910293  0.2343\n",
       "부산       경상권  3384050  5384050  7384050  8384050  0.0434\n",
       "경기       수도권  4938485  7938485  5938485  2938485  0.0944\n",
       "대구       경상권  4203948  6203948  3203948  1203948  0.0034"
      ]
     },
     "execution_count": 54,
     "metadata": {},
     "output_type": "execute_result"
    }
   ],
   "source": [
    "# 컬럼 삭제\n",
    "del popDF['2014-2016 증가율']\n",
    "popDF"
   ]
  },
  {
   "cell_type": "code",
   "execution_count": 55,
   "metadata": {},
   "outputs": [
    {
     "name": "stdout",
     "output_type": "stream",
     "text": [
      "<class 'pandas.core.frame.DataFrame'>\n",
      "<class 'pandas.core.series.Series'>\n",
      "<class 'numpy.ndarray'>\n"
     ]
    }
   ],
   "source": [
    "print(type(popDF[['지역', '증가율']]))\n",
    "print(type(popDF['지역']))\n",
    "print(type(popDF['지역'].values))"
   ]
  },
  {
   "cell_type": "markdown",
   "metadata": {},
   "source": [
    "- 행(row) indexing\n",
    "- 슬라이싱만 가능\n",
    "- 배열 인덱스, 라벨인덱스 가능"
   ]
  },
  {
   "cell_type": "code",
   "execution_count": 56,
   "metadata": {},
   "outputs": [
    {
     "data": {
      "text/html": [
       "<div>\n",
       "<style scoped>\n",
       "    .dataframe tbody tr th:only-of-type {\n",
       "        vertical-align: middle;\n",
       "    }\n",
       "\n",
       "    .dataframe tbody tr th {\n",
       "        vertical-align: top;\n",
       "    }\n",
       "\n",
       "    .dataframe thead th {\n",
       "        text-align: right;\n",
       "    }\n",
       "</style>\n",
       "<table border=\"1\" class=\"dataframe\">\n",
       "  <thead>\n",
       "    <tr style=\"text-align: right;\">\n",
       "      <th>feature</th>\n",
       "      <th>지역</th>\n",
       "      <th>2014</th>\n",
       "      <th>2016</th>\n",
       "      <th>2018</th>\n",
       "      <th>2021</th>\n",
       "      <th>증가율</th>\n",
       "    </tr>\n",
       "    <tr>\n",
       "      <th>city</th>\n",
       "      <th></th>\n",
       "      <th></th>\n",
       "      <th></th>\n",
       "      <th></th>\n",
       "      <th></th>\n",
       "      <th></th>\n",
       "    </tr>\n",
       "  </thead>\n",
       "  <tbody>\n",
       "    <tr>\n",
       "      <th>서울</th>\n",
       "      <td>수도권</td>\n",
       "      <td>5910293</td>\n",
       "      <td>7910293</td>\n",
       "      <td>8910293</td>\n",
       "      <td>9910293</td>\n",
       "      <td>0.2343</td>\n",
       "    </tr>\n",
       "    <tr>\n",
       "      <th>부산</th>\n",
       "      <td>경상권</td>\n",
       "      <td>3384050</td>\n",
       "      <td>5384050</td>\n",
       "      <td>7384050</td>\n",
       "      <td>8384050</td>\n",
       "      <td>0.0434</td>\n",
       "    </tr>\n",
       "    <tr>\n",
       "      <th>경기</th>\n",
       "      <td>수도권</td>\n",
       "      <td>4938485</td>\n",
       "      <td>7938485</td>\n",
       "      <td>5938485</td>\n",
       "      <td>2938485</td>\n",
       "      <td>0.0944</td>\n",
       "    </tr>\n",
       "    <tr>\n",
       "      <th>대구</th>\n",
       "      <td>경상권</td>\n",
       "      <td>4203948</td>\n",
       "      <td>6203948</td>\n",
       "      <td>3203948</td>\n",
       "      <td>1203948</td>\n",
       "      <td>0.0034</td>\n",
       "    </tr>\n",
       "  </tbody>\n",
       "</table>\n",
       "</div>"
      ],
      "text/plain": [
       "feature   지역     2014     2016     2018     2021     증가율\n",
       "city                                                    \n",
       "서울       수도권  5910293  7910293  8910293  9910293  0.2343\n",
       "부산       경상권  3384050  5384050  7384050  8384050  0.0434\n",
       "경기       수도권  4938485  7938485  5938485  2938485  0.0944\n",
       "대구       경상권  4203948  6203948  3203948  1203948  0.0034"
      ]
     },
     "execution_count": 56,
     "metadata": {},
     "output_type": "execute_result"
    }
   ],
   "source": [
    "popDF"
   ]
  },
  {
   "cell_type": "code",
   "execution_count": 57,
   "metadata": {},
   "outputs": [
    {
     "data": {
      "text/html": [
       "<div>\n",
       "<style scoped>\n",
       "    .dataframe tbody tr th:only-of-type {\n",
       "        vertical-align: middle;\n",
       "    }\n",
       "\n",
       "    .dataframe tbody tr th {\n",
       "        vertical-align: top;\n",
       "    }\n",
       "\n",
       "    .dataframe thead th {\n",
       "        text-align: right;\n",
       "    }\n",
       "</style>\n",
       "<table border=\"1\" class=\"dataframe\">\n",
       "  <thead>\n",
       "    <tr style=\"text-align: right;\">\n",
       "      <th>feature</th>\n",
       "      <th>지역</th>\n",
       "      <th>2014</th>\n",
       "      <th>2016</th>\n",
       "      <th>2018</th>\n",
       "      <th>2021</th>\n",
       "      <th>증가율</th>\n",
       "    </tr>\n",
       "    <tr>\n",
       "      <th>city</th>\n",
       "      <th></th>\n",
       "      <th></th>\n",
       "      <th></th>\n",
       "      <th></th>\n",
       "      <th></th>\n",
       "      <th></th>\n",
       "    </tr>\n",
       "  </thead>\n",
       "  <tbody>\n",
       "    <tr>\n",
       "      <th>서울</th>\n",
       "      <td>수도권</td>\n",
       "      <td>5910293</td>\n",
       "      <td>7910293</td>\n",
       "      <td>8910293</td>\n",
       "      <td>9910293</td>\n",
       "      <td>0.2343</td>\n",
       "    </tr>\n",
       "  </tbody>\n",
       "</table>\n",
       "</div>"
      ],
      "text/plain": [
       "feature   지역     2014     2016     2018     2021     증가율\n",
       "city                                                    \n",
       "서울       수도권  5910293  7910293  8910293  9910293  0.2343"
      ]
     },
     "metadata": {},
     "output_type": "display_data"
    },
    {
     "data": {
      "text/html": [
       "<div>\n",
       "<style scoped>\n",
       "    .dataframe tbody tr th:only-of-type {\n",
       "        vertical-align: middle;\n",
       "    }\n",
       "\n",
       "    .dataframe tbody tr th {\n",
       "        vertical-align: top;\n",
       "    }\n",
       "\n",
       "    .dataframe thead th {\n",
       "        text-align: right;\n",
       "    }\n",
       "</style>\n",
       "<table border=\"1\" class=\"dataframe\">\n",
       "  <thead>\n",
       "    <tr style=\"text-align: right;\">\n",
       "      <th>feature</th>\n",
       "      <th>지역</th>\n",
       "      <th>2014</th>\n",
       "      <th>2016</th>\n",
       "      <th>2018</th>\n",
       "      <th>2021</th>\n",
       "      <th>증가율</th>\n",
       "    </tr>\n",
       "    <tr>\n",
       "      <th>city</th>\n",
       "      <th></th>\n",
       "      <th></th>\n",
       "      <th></th>\n",
       "      <th></th>\n",
       "      <th></th>\n",
       "      <th></th>\n",
       "    </tr>\n",
       "  </thead>\n",
       "  <tbody>\n",
       "    <tr>\n",
       "      <th>서울</th>\n",
       "      <td>수도권</td>\n",
       "      <td>5910293</td>\n",
       "      <td>7910293</td>\n",
       "      <td>8910293</td>\n",
       "      <td>9910293</td>\n",
       "      <td>0.2343</td>\n",
       "    </tr>\n",
       "  </tbody>\n",
       "</table>\n",
       "</div>"
      ],
      "text/plain": [
       "feature   지역     2014     2016     2018     2021     증가율\n",
       "city                                                    \n",
       "서울       수도권  5910293  7910293  8910293  9910293  0.2343"
      ]
     },
     "metadata": {},
     "output_type": "display_data"
    }
   ],
   "source": [
    "# 배열인덱싱\n",
    "display(popDF[:1])\n",
    "# 라벨인덱싱\n",
    "display(popDF[: '서울'])"
   ]
  },
  {
   "cell_type": "code",
   "execution_count": 58,
   "metadata": {},
   "outputs": [
    {
     "data": {
      "text/html": [
       "<div>\n",
       "<style scoped>\n",
       "    .dataframe tbody tr th:only-of-type {\n",
       "        vertical-align: middle;\n",
       "    }\n",
       "\n",
       "    .dataframe tbody tr th {\n",
       "        vertical-align: top;\n",
       "    }\n",
       "\n",
       "    .dataframe thead th {\n",
       "        text-align: right;\n",
       "    }\n",
       "</style>\n",
       "<table border=\"1\" class=\"dataframe\">\n",
       "  <thead>\n",
       "    <tr style=\"text-align: right;\">\n",
       "      <th>feature</th>\n",
       "      <th>지역</th>\n",
       "      <th>2014</th>\n",
       "      <th>2016</th>\n",
       "      <th>2018</th>\n",
       "      <th>2021</th>\n",
       "      <th>증가율</th>\n",
       "    </tr>\n",
       "    <tr>\n",
       "      <th>city</th>\n",
       "      <th></th>\n",
       "      <th></th>\n",
       "      <th></th>\n",
       "      <th></th>\n",
       "      <th></th>\n",
       "      <th></th>\n",
       "    </tr>\n",
       "  </thead>\n",
       "  <tbody>\n",
       "    <tr>\n",
       "      <th>서울</th>\n",
       "      <td>수도권</td>\n",
       "      <td>5910293</td>\n",
       "      <td>7910293</td>\n",
       "      <td>8910293</td>\n",
       "      <td>9910293</td>\n",
       "      <td>0.2343</td>\n",
       "    </tr>\n",
       "    <tr>\n",
       "      <th>부산</th>\n",
       "      <td>경상권</td>\n",
       "      <td>3384050</td>\n",
       "      <td>5384050</td>\n",
       "      <td>7384050</td>\n",
       "      <td>8384050</td>\n",
       "      <td>0.0434</td>\n",
       "    </tr>\n",
       "    <tr>\n",
       "      <th>경기</th>\n",
       "      <td>수도권</td>\n",
       "      <td>4938485</td>\n",
       "      <td>7938485</td>\n",
       "      <td>5938485</td>\n",
       "      <td>2938485</td>\n",
       "      <td>0.0944</td>\n",
       "    </tr>\n",
       "  </tbody>\n",
       "</table>\n",
       "</div>"
      ],
      "text/plain": [
       "feature   지역     2014     2016     2018     2021     증가율\n",
       "city                                                    \n",
       "서울       수도권  5910293  7910293  8910293  9910293  0.2343\n",
       "부산       경상권  3384050  5384050  7384050  8384050  0.0434\n",
       "경기       수도권  4938485  7938485  5938485  2938485  0.0944"
      ]
     },
     "metadata": {},
     "output_type": "display_data"
    },
    {
     "data": {
      "text/html": [
       "<div>\n",
       "<style scoped>\n",
       "    .dataframe tbody tr th:only-of-type {\n",
       "        vertical-align: middle;\n",
       "    }\n",
       "\n",
       "    .dataframe tbody tr th {\n",
       "        vertical-align: top;\n",
       "    }\n",
       "\n",
       "    .dataframe thead th {\n",
       "        text-align: right;\n",
       "    }\n",
       "</style>\n",
       "<table border=\"1\" class=\"dataframe\">\n",
       "  <thead>\n",
       "    <tr style=\"text-align: right;\">\n",
       "      <th>feature</th>\n",
       "      <th>지역</th>\n",
       "      <th>2014</th>\n",
       "      <th>2016</th>\n",
       "      <th>2018</th>\n",
       "      <th>2021</th>\n",
       "      <th>증가율</th>\n",
       "    </tr>\n",
       "    <tr>\n",
       "      <th>city</th>\n",
       "      <th></th>\n",
       "      <th></th>\n",
       "      <th></th>\n",
       "      <th></th>\n",
       "      <th></th>\n",
       "      <th></th>\n",
       "    </tr>\n",
       "  </thead>\n",
       "  <tbody>\n",
       "    <tr>\n",
       "      <th>서울</th>\n",
       "      <td>수도권</td>\n",
       "      <td>5910293</td>\n",
       "      <td>7910293</td>\n",
       "      <td>8910293</td>\n",
       "      <td>9910293</td>\n",
       "      <td>0.2343</td>\n",
       "    </tr>\n",
       "    <tr>\n",
       "      <th>부산</th>\n",
       "      <td>경상권</td>\n",
       "      <td>3384050</td>\n",
       "      <td>5384050</td>\n",
       "      <td>7384050</td>\n",
       "      <td>8384050</td>\n",
       "      <td>0.0434</td>\n",
       "    </tr>\n",
       "    <tr>\n",
       "      <th>경기</th>\n",
       "      <td>수도권</td>\n",
       "      <td>4938485</td>\n",
       "      <td>7938485</td>\n",
       "      <td>5938485</td>\n",
       "      <td>2938485</td>\n",
       "      <td>0.0944</td>\n",
       "    </tr>\n",
       "  </tbody>\n",
       "</table>\n",
       "</div>"
      ],
      "text/plain": [
       "feature   지역     2014     2016     2018     2021     증가율\n",
       "city                                                    \n",
       "서울       수도권  5910293  7910293  8910293  9910293  0.2343\n",
       "부산       경상권  3384050  5384050  7384050  8384050  0.0434\n",
       "경기       수도권  4938485  7938485  5938485  2938485  0.0944"
      ]
     },
     "metadata": {},
     "output_type": "display_data"
    }
   ],
   "source": [
    "# 배열인덱싱\n",
    "display(popDF[0:3])\n",
    "# 라벨인덱싱\n",
    "display(popDF['서울': '경기'])"
   ]
  },
  {
   "cell_type": "markdown",
   "metadata": {},
   "source": [
    "- 개별 인덱싱 : 특정 행에 대한 특정 컬럼"
   ]
  },
  {
   "cell_type": "code",
   "execution_count": 59,
   "metadata": {},
   "outputs": [
    {
     "name": "stdout",
     "output_type": "stream",
     "text": [
      "9910293\n",
      "city\n",
      "서울    9910293\n",
      "Name: 2021, dtype: int64\n",
      "<class 'numpy.int64'>\n",
      "<class 'pandas.core.series.Series'>\n"
     ]
    }
   ],
   "source": [
    "print(popDF['2021']['서울'])\n",
    "print(popDF['2021'][:'서울'])\n",
    "print(type(popDF['2021']['서울']))\n",
    "print(type(popDF['2021'][:'서울']))"
   ]
  },
  {
   "cell_type": "code",
   "execution_count": 60,
   "metadata": {},
   "outputs": [
    {
     "data": {
      "text/plain": [
       "city\n",
       "서울    9910293\n",
       "대구    1203948\n",
       "Name: 2021, dtype: int64"
      ]
     },
     "execution_count": 60,
     "metadata": {},
     "output_type": "execute_result"
    }
   ],
   "source": [
    "popDF['2021'][['서울', '대구']]"
   ]
  },
  {
   "cell_type": "code",
   "execution_count": 61,
   "metadata": {},
   "outputs": [
    {
     "data": {
      "text/html": [
       "<div>\n",
       "<style scoped>\n",
       "    .dataframe tbody tr th:only-of-type {\n",
       "        vertical-align: middle;\n",
       "    }\n",
       "\n",
       "    .dataframe tbody tr th {\n",
       "        vertical-align: top;\n",
       "    }\n",
       "\n",
       "    .dataframe thead th {\n",
       "        text-align: right;\n",
       "    }\n",
       "</style>\n",
       "<table border=\"1\" class=\"dataframe\">\n",
       "  <thead>\n",
       "    <tr style=\"text-align: right;\">\n",
       "      <th></th>\n",
       "      <th>kor</th>\n",
       "      <th>eng</th>\n",
       "      <th>math</th>\n",
       "    </tr>\n",
       "  </thead>\n",
       "  <tbody>\n",
       "    <tr>\n",
       "      <th>김지은</th>\n",
       "      <td>80</td>\n",
       "      <td>90</td>\n",
       "      <td>90</td>\n",
       "    </tr>\n",
       "    <tr>\n",
       "      <th>황인범</th>\n",
       "      <td>90</td>\n",
       "      <td>70</td>\n",
       "      <td>60</td>\n",
       "    </tr>\n",
       "    <tr>\n",
       "      <th>김정수</th>\n",
       "      <td>70</td>\n",
       "      <td>60</td>\n",
       "      <td>90</td>\n",
       "    </tr>\n",
       "    <tr>\n",
       "      <th>최호진</th>\n",
       "      <td>30</td>\n",
       "      <td>40</td>\n",
       "      <td>70</td>\n",
       "    </tr>\n",
       "  </tbody>\n",
       "</table>\n",
       "</div>"
      ],
      "text/plain": [
       "     kor  eng  math\n",
       "김지은   80   90    90\n",
       "황인범   90   70    60\n",
       "김정수   70   60    90\n",
       "최호진   30   40    70"
      ]
     },
     "execution_count": 61,
     "metadata": {},
     "output_type": "execute_result"
    }
   ],
   "source": [
    "score_data = {\n",
    "    'kor'  : [80,90,70,30],\n",
    "    'eng'  : [90,70,60,40],\n",
    "    'math' : [90,60,90,70] \n",
    "}\n",
    "columns = ['kor','eng','math']\n",
    "index   = ['김지은', '황인범', '김정수', '최호진']\n",
    "\n",
    "exec_df = pd.DataFrame(score_data , index=index , columns=columns)\n",
    "exec_df"
   ]
  },
  {
   "cell_type": "code",
   "execution_count": 62,
   "metadata": {},
   "outputs": [],
   "source": [
    "# 위 데이터를 보고 모든 학생의 수학 점수를 시리즈로 출력하라\n",
    "# 모든 학생의 국어와 영어 점수를 데이터 프레임으로  만들어라\n",
    "# 모든 학생의 각 과목 평균 점수를 새로운 열로 추가하라\n",
    "# 최호진 학생의 영어 점수를 90점으로 수정하고 평균 점수도 다시 계산하라\n",
    "# 김지은 학생의 점수를 데이터 프레임으로 만들어라\n",
    "# 김정수 학생의 점수를 시리즈로 출력하라\n",
    "# 황인범 학생의 국어점수와 수학점수를 100점으로 수정하고 평균 점수도 다시 계산하라"
   ]
  },
  {
   "cell_type": "markdown",
   "metadata": {},
   "source": [
    "### pandas 문자함수\n",
    "- 함수 앞에 str 을 붙여주면 된다."
   ]
  },
  {
   "cell_type": "code",
   "execution_count": 66,
   "metadata": {},
   "outputs": [
    {
     "data": {
      "text/html": [
       "<div>\n",
       "<style scoped>\n",
       "    .dataframe tbody tr th:only-of-type {\n",
       "        vertical-align: middle;\n",
       "    }\n",
       "\n",
       "    .dataframe tbody tr th {\n",
       "        vertical-align: top;\n",
       "    }\n",
       "\n",
       "    .dataframe thead th {\n",
       "        text-align: right;\n",
       "    }\n",
       "</style>\n",
       "<table border=\"1\" class=\"dataframe\">\n",
       "  <thead>\n",
       "    <tr style=\"text-align: right;\">\n",
       "      <th></th>\n",
       "      <th>정수</th>\n",
       "      <th>실수1</th>\n",
       "      <th>실수2</th>\n",
       "      <th>문자</th>\n",
       "      <th>날짜</th>\n",
       "    </tr>\n",
       "  </thead>\n",
       "  <tbody>\n",
       "    <tr>\n",
       "      <th>0</th>\n",
       "      <td>24</td>\n",
       "      <td>1.543061</td>\n",
       "      <td>0.152280</td>\n",
       "      <td>apple</td>\n",
       "      <td>2021-02-25</td>\n",
       "    </tr>\n",
       "    <tr>\n",
       "      <th>1</th>\n",
       "      <td>33</td>\n",
       "      <td>-0.484514</td>\n",
       "      <td>0.658957</td>\n",
       "      <td>banana</td>\n",
       "      <td>2021-02-26</td>\n",
       "    </tr>\n",
       "    <tr>\n",
       "      <th>2</th>\n",
       "      <td>17</td>\n",
       "      <td>1.274822</td>\n",
       "      <td>0.407525</td>\n",
       "      <td>mango</td>\n",
       "      <td>2021-02-27</td>\n",
       "    </tr>\n",
       "    <tr>\n",
       "      <th>3</th>\n",
       "      <td>16</td>\n",
       "      <td>-0.954644</td>\n",
       "      <td>0.663351</td>\n",
       "      <td>berry</td>\n",
       "      <td>2021-02-28</td>\n",
       "    </tr>\n",
       "    <tr>\n",
       "      <th>4</th>\n",
       "      <td>74</td>\n",
       "      <td>0.544376</td>\n",
       "      <td>0.680719</td>\n",
       "      <td>melon</td>\n",
       "      <td>2021-03-01</td>\n",
       "    </tr>\n",
       "    <tr>\n",
       "      <th>5</th>\n",
       "      <td>95</td>\n",
       "      <td>2.563510</td>\n",
       "      <td>0.828082</td>\n",
       "      <td>cherry</td>\n",
       "      <td>2021-03-02</td>\n",
       "    </tr>\n",
       "    <tr>\n",
       "      <th>6</th>\n",
       "      <td>56</td>\n",
       "      <td>-0.575368</td>\n",
       "      <td>0.428636</td>\n",
       "      <td>pineapple</td>\n",
       "      <td>2021-03-03</td>\n",
       "    </tr>\n",
       "    <tr>\n",
       "      <th>7</th>\n",
       "      <td>98</td>\n",
       "      <td>0.759926</td>\n",
       "      <td>0.708370</td>\n",
       "      <td>peach</td>\n",
       "      <td>2021-03-04</td>\n",
       "    </tr>\n",
       "    <tr>\n",
       "      <th>8</th>\n",
       "      <td>4</td>\n",
       "      <td>-0.388827</td>\n",
       "      <td>0.337552</td>\n",
       "      <td>blueberry</td>\n",
       "      <td>2021-03-05</td>\n",
       "    </tr>\n",
       "    <tr>\n",
       "      <th>9</th>\n",
       "      <td>69</td>\n",
       "      <td>0.462060</td>\n",
       "      <td>0.003603</td>\n",
       "      <td>avocado</td>\n",
       "      <td>2021-03-06</td>\n",
       "    </tr>\n",
       "  </tbody>\n",
       "</table>\n",
       "</div>"
      ],
      "text/plain": [
       "   정수       실수1       실수2         문자         날짜\n",
       "0  24  1.543061  0.152280      apple 2021-02-25\n",
       "1  33 -0.484514  0.658957     banana 2021-02-26\n",
       "2  17  1.274822  0.407525      mango 2021-02-27\n",
       "3  16 -0.954644  0.663351      berry 2021-02-28\n",
       "4  74  0.544376  0.680719      melon 2021-03-01\n",
       "5  95  2.563510  0.828082     cherry 2021-03-02\n",
       "6  56 -0.575368  0.428636  pineapple 2021-03-03\n",
       "7  98  0.759926  0.708370      peach 2021-03-04\n",
       "8   4 -0.388827  0.337552  blueberry 2021-03-05\n",
       "9  69  0.462060  0.003603    avocado 2021-03-06"
      ]
     },
     "execution_count": 66,
     "metadata": {},
     "output_type": "execute_result"
    }
   ],
   "source": [
    "testDF"
   ]
  },
  {
   "cell_type": "code",
   "execution_count": 70,
   "metadata": {},
   "outputs": [
    {
     "data": {
      "text/html": [
       "<div>\n",
       "<style scoped>\n",
       "    .dataframe tbody tr th:only-of-type {\n",
       "        vertical-align: middle;\n",
       "    }\n",
       "\n",
       "    .dataframe tbody tr th {\n",
       "        vertical-align: top;\n",
       "    }\n",
       "\n",
       "    .dataframe thead th {\n",
       "        text-align: right;\n",
       "    }\n",
       "</style>\n",
       "<table border=\"1\" class=\"dataframe\">\n",
       "  <thead>\n",
       "    <tr style=\"text-align: right;\">\n",
       "      <th></th>\n",
       "      <th>법정동코드</th>\n",
       "      <th>법정동명</th>\n",
       "      <th>폐지여부</th>\n",
       "    </tr>\n",
       "  </thead>\n",
       "  <tbody>\n",
       "    <tr>\n",
       "      <th>0</th>\n",
       "      <td>1100000000</td>\n",
       "      <td>서울특별시</td>\n",
       "      <td>존재</td>\n",
       "    </tr>\n",
       "    <tr>\n",
       "      <th>1</th>\n",
       "      <td>1111000000</td>\n",
       "      <td>서울특별시 종로구</td>\n",
       "      <td>존재</td>\n",
       "    </tr>\n",
       "    <tr>\n",
       "      <th>2</th>\n",
       "      <td>1111010100</td>\n",
       "      <td>서울특별시 종로구 청운동</td>\n",
       "      <td>존재</td>\n",
       "    </tr>\n",
       "    <tr>\n",
       "      <th>3</th>\n",
       "      <td>1111010200</td>\n",
       "      <td>서울특별시 종로구 신교동</td>\n",
       "      <td>존재</td>\n",
       "    </tr>\n",
       "    <tr>\n",
       "      <th>4</th>\n",
       "      <td>1111010300</td>\n",
       "      <td>서울특별시 종로구 궁정동</td>\n",
       "      <td>존재</td>\n",
       "    </tr>\n",
       "  </tbody>\n",
       "</table>\n",
       "</div>"
      ],
      "text/plain": [
       "        법정동코드           법정동명 폐지여부\n",
       "0  1100000000          서울특별시   존재\n",
       "1  1111000000      서울특별시 종로구   존재\n",
       "2  1111010100  서울특별시 종로구 청운동   존재\n",
       "3  1111010200  서울특별시 종로구 신교동   존재\n",
       "4  1111010300  서울특별시 종로구 궁정동   존재"
      ]
     },
     "execution_count": 70,
     "metadata": {},
     "output_type": "execute_result"
    }
   ],
   "source": [
    "courtDF = pd.read_csv('./data/court_code.txt', sep='\\t', encoding='cp949')\n",
    "courtDF.head()"
   ]
  },
  {
   "cell_type": "code",
   "execution_count": 72,
   "metadata": {},
   "outputs": [
    {
     "data": {
      "text/html": [
       "<div>\n",
       "<style scoped>\n",
       "    .dataframe tbody tr th:only-of-type {\n",
       "        vertical-align: middle;\n",
       "    }\n",
       "\n",
       "    .dataframe tbody tr th {\n",
       "        vertical-align: top;\n",
       "    }\n",
       "\n",
       "    .dataframe thead th {\n",
       "        text-align: right;\n",
       "    }\n",
       "</style>\n",
       "<table border=\"1\" class=\"dataframe\">\n",
       "  <thead>\n",
       "    <tr style=\"text-align: right;\">\n",
       "      <th></th>\n",
       "      <th>법정동코드</th>\n",
       "      <th>법정동명</th>\n",
       "      <th>폐지여부</th>\n",
       "    </tr>\n",
       "  </thead>\n",
       "  <tbody>\n",
       "    <tr>\n",
       "      <th>89</th>\n",
       "      <td>1111090100</td>\n",
       "      <td>서울특별시 종로구 창신1동</td>\n",
       "      <td>폐지</td>\n",
       "    </tr>\n",
       "    <tr>\n",
       "      <th>90</th>\n",
       "      <td>1111090200</td>\n",
       "      <td>서울특별시 종로구 창신2동</td>\n",
       "      <td>폐지</td>\n",
       "    </tr>\n",
       "    <tr>\n",
       "      <th>91</th>\n",
       "      <td>1111090300</td>\n",
       "      <td>서울특별시 종로구 창신3동</td>\n",
       "      <td>폐지</td>\n",
       "    </tr>\n",
       "    <tr>\n",
       "      <th>92</th>\n",
       "      <td>1111090400</td>\n",
       "      <td>서울특별시 종로구 숭인1동</td>\n",
       "      <td>폐지</td>\n",
       "    </tr>\n",
       "    <tr>\n",
       "      <th>93</th>\n",
       "      <td>1111090500</td>\n",
       "      <td>서울특별시 종로구 숭인2동</td>\n",
       "      <td>폐지</td>\n",
       "    </tr>\n",
       "    <tr>\n",
       "      <th>...</th>\n",
       "      <td>...</td>\n",
       "      <td>...</td>\n",
       "      <td>...</td>\n",
       "    </tr>\n",
       "    <tr>\n",
       "      <th>45962</th>\n",
       "      <td>4972032025</td>\n",
       "      <td>제주도 남제주군 표선면 세화리</td>\n",
       "      <td>폐지</td>\n",
       "    </tr>\n",
       "    <tr>\n",
       "      <th>45963</th>\n",
       "      <td>4972032026</td>\n",
       "      <td>제주도 남제주군 표선면 토산리</td>\n",
       "      <td>폐지</td>\n",
       "    </tr>\n",
       "    <tr>\n",
       "      <th>46025</th>\n",
       "      <td>5011025305</td>\n",
       "      <td>제주특별자치도 제주시 애월읍 귀일리</td>\n",
       "      <td>폐지</td>\n",
       "    </tr>\n",
       "    <tr>\n",
       "      <th>46026</th>\n",
       "      <td>5011025306</td>\n",
       "      <td>제주특별자치도 제주시 애월읍 어도리</td>\n",
       "      <td>폐지</td>\n",
       "    </tr>\n",
       "    <tr>\n",
       "      <th>46027</th>\n",
       "      <td>5011025307</td>\n",
       "      <td>제주특별자치도 제주시 애월읍 동귀리</td>\n",
       "      <td>폐지</td>\n",
       "    </tr>\n",
       "  </tbody>\n",
       "</table>\n",
       "<p>25636 rows × 3 columns</p>\n",
       "</div>"
      ],
      "text/plain": [
       "            법정동코드                 법정동명 폐지여부\n",
       "89     1111090100       서울특별시 종로구 창신1동   폐지\n",
       "90     1111090200       서울특별시 종로구 창신2동   폐지\n",
       "91     1111090300       서울특별시 종로구 창신3동   폐지\n",
       "92     1111090400       서울특별시 종로구 숭인1동   폐지\n",
       "93     1111090500       서울특별시 종로구 숭인2동   폐지\n",
       "...           ...                  ...  ...\n",
       "45962  4972032025     제주도 남제주군 표선면 세화리   폐지\n",
       "45963  4972032026     제주도 남제주군 표선면 토산리   폐지\n",
       "46025  5011025305  제주특별자치도 제주시 애월읍 귀일리   폐지\n",
       "46026  5011025306  제주특별자치도 제주시 애월읍 어도리   폐지\n",
       "46027  5011025307  제주특별자치도 제주시 애월읍 동귀리   폐지\n",
       "\n",
       "[25636 rows x 3 columns]"
      ]
     },
     "execution_count": 72,
     "metadata": {},
     "output_type": "execute_result"
    }
   ],
   "source": [
    "court_subset_df = courtDF[ courtDF['폐지여부'] == '폐지' ]\n",
    "court_subset_df"
   ]
  },
  {
   "cell_type": "code",
   "execution_count": 73,
   "metadata": {},
   "outputs": [
    {
     "data": {
      "text/html": [
       "<div>\n",
       "<style scoped>\n",
       "    .dataframe tbody tr th:only-of-type {\n",
       "        vertical-align: middle;\n",
       "    }\n",
       "\n",
       "    .dataframe tbody tr th {\n",
       "        vertical-align: top;\n",
       "    }\n",
       "\n",
       "    .dataframe thead th {\n",
       "        text-align: right;\n",
       "    }\n",
       "</style>\n",
       "<table border=\"1\" class=\"dataframe\">\n",
       "  <thead>\n",
       "    <tr style=\"text-align: right;\">\n",
       "      <th></th>\n",
       "      <th>법정동코드</th>\n",
       "      <th>법정동명</th>\n",
       "      <th>폐지여부</th>\n",
       "    </tr>\n",
       "  </thead>\n",
       "  <tbody>\n",
       "    <tr>\n",
       "      <th>0</th>\n",
       "      <td>1100000000</td>\n",
       "      <td>서울특별시</td>\n",
       "      <td>존재</td>\n",
       "    </tr>\n",
       "    <tr>\n",
       "      <th>1</th>\n",
       "      <td>1111000000</td>\n",
       "      <td>서울특별시 종로구</td>\n",
       "      <td>존재</td>\n",
       "    </tr>\n",
       "    <tr>\n",
       "      <th>2</th>\n",
       "      <td>1111010100</td>\n",
       "      <td>서울특별시 종로구 청운동</td>\n",
       "      <td>존재</td>\n",
       "    </tr>\n",
       "    <tr>\n",
       "      <th>3</th>\n",
       "      <td>1111010200</td>\n",
       "      <td>서울특별시 종로구 신교동</td>\n",
       "      <td>존재</td>\n",
       "    </tr>\n",
       "    <tr>\n",
       "      <th>4</th>\n",
       "      <td>1111010300</td>\n",
       "      <td>서울특별시 종로구 궁정동</td>\n",
       "      <td>존재</td>\n",
       "    </tr>\n",
       "  </tbody>\n",
       "</table>\n",
       "</div>"
      ],
      "text/plain": [
       "        법정동코드           법정동명 폐지여부\n",
       "0  1100000000          서울특별시   존재\n",
       "1  1111000000      서울특별시 종로구   존재\n",
       "2  1111010100  서울특별시 종로구 청운동   존재\n",
       "3  1111010200  서울특별시 종로구 신교동   존재\n",
       "4  1111010300  서울특별시 종로구 궁정동   존재"
      ]
     },
     "execution_count": 73,
     "metadata": {},
     "output_type": "execute_result"
    }
   ],
   "source": [
    "courtDF.head()"
   ]
  },
  {
   "cell_type": "code",
   "execution_count": 79,
   "metadata": {},
   "outputs": [
    {
     "data": {
      "text/html": [
       "<div>\n",
       "<style scoped>\n",
       "    .dataframe tbody tr th:only-of-type {\n",
       "        vertical-align: middle;\n",
       "    }\n",
       "\n",
       "    .dataframe tbody tr th {\n",
       "        vertical-align: top;\n",
       "    }\n",
       "\n",
       "    .dataframe thead th {\n",
       "        text-align: right;\n",
       "    }\n",
       "</style>\n",
       "<table border=\"1\" class=\"dataframe\">\n",
       "  <thead>\n",
       "    <tr style=\"text-align: right;\">\n",
       "      <th></th>\n",
       "      <th>법정동코드</th>\n",
       "      <th>법정동명</th>\n",
       "      <th>폐지여부</th>\n",
       "    </tr>\n",
       "  </thead>\n",
       "  <tbody>\n",
       "    <tr>\n",
       "      <th>0</th>\n",
       "      <td>1100000000</td>\n",
       "      <td>서울특별시</td>\n",
       "      <td>존재</td>\n",
       "    </tr>\n",
       "    <tr>\n",
       "      <th>1</th>\n",
       "      <td>1111000000</td>\n",
       "      <td>서울특별시 종로구</td>\n",
       "      <td>존재</td>\n",
       "    </tr>\n",
       "    <tr>\n",
       "      <th>2</th>\n",
       "      <td>1111010100</td>\n",
       "      <td>서울특별시 종로구 청운동</td>\n",
       "      <td>존재</td>\n",
       "    </tr>\n",
       "    <tr>\n",
       "      <th>3</th>\n",
       "      <td>1111010200</td>\n",
       "      <td>서울특별시 종로구 신교동</td>\n",
       "      <td>존재</td>\n",
       "    </tr>\n",
       "    <tr>\n",
       "      <th>4</th>\n",
       "      <td>1111010300</td>\n",
       "      <td>서울특별시 종로구 궁정동</td>\n",
       "      <td>존재</td>\n",
       "    </tr>\n",
       "    <tr>\n",
       "      <th>...</th>\n",
       "      <td>...</td>\n",
       "      <td>...</td>\n",
       "      <td>...</td>\n",
       "    </tr>\n",
       "    <tr>\n",
       "      <th>1107</th>\n",
       "      <td>1174010600</td>\n",
       "      <td>서울특별시 강동구 둔촌동</td>\n",
       "      <td>존재</td>\n",
       "    </tr>\n",
       "    <tr>\n",
       "      <th>1108</th>\n",
       "      <td>1174010700</td>\n",
       "      <td>서울특별시 강동구 암사동</td>\n",
       "      <td>존재</td>\n",
       "    </tr>\n",
       "    <tr>\n",
       "      <th>1109</th>\n",
       "      <td>1174010800</td>\n",
       "      <td>서울특별시 강동구 성내동</td>\n",
       "      <td>존재</td>\n",
       "    </tr>\n",
       "    <tr>\n",
       "      <th>1110</th>\n",
       "      <td>1174010900</td>\n",
       "      <td>서울특별시 강동구 천호동</td>\n",
       "      <td>존재</td>\n",
       "    </tr>\n",
       "    <tr>\n",
       "      <th>1111</th>\n",
       "      <td>1174011000</td>\n",
       "      <td>서울특별시 강동구 강일동</td>\n",
       "      <td>존재</td>\n",
       "    </tr>\n",
       "  </tbody>\n",
       "</table>\n",
       "<p>1112 rows × 3 columns</p>\n",
       "</div>"
      ],
      "text/plain": [
       "           법정동코드           법정동명 폐지여부\n",
       "0     1100000000          서울특별시   존재\n",
       "1     1111000000      서울특별시 종로구   존재\n",
       "2     1111010100  서울특별시 종로구 청운동   존재\n",
       "3     1111010200  서울특별시 종로구 신교동   존재\n",
       "4     1111010300  서울특별시 종로구 궁정동   존재\n",
       "...          ...            ...  ...\n",
       "1107  1174010600  서울특별시 강동구 둔촌동   존재\n",
       "1108  1174010700  서울특별시 강동구 암사동   존재\n",
       "1109  1174010800  서울특별시 강동구 성내동   존재\n",
       "1110  1174010900  서울특별시 강동구 천호동   존재\n",
       "1111  1174011000  서울특별시 강동구 강일동   존재\n",
       "\n",
       "[1112 rows x 3 columns]"
      ]
     },
     "execution_count": 79,
     "metadata": {},
     "output_type": "execute_result"
    }
   ],
   "source": [
    "court_subset_df = courtDF[ courtDF['법정동명'].str[ : 5] == '서울특별시'] # '서울특별시' 다섯글자 가져오기\n",
    "court_subset_df"
   ]
  },
  {
   "cell_type": "markdown",
   "metadata": {},
   "source": [
    "- 분할 str.split()"
   ]
  },
  {
   "cell_type": "code",
   "execution_count": 88,
   "metadata": {},
   "outputs": [
    {
     "data": {
      "text/html": [
       "<div>\n",
       "<style scoped>\n",
       "    .dataframe tbody tr th:only-of-type {\n",
       "        vertical-align: middle;\n",
       "    }\n",
       "\n",
       "    .dataframe tbody tr th {\n",
       "        vertical-align: top;\n",
       "    }\n",
       "\n",
       "    .dataframe thead th {\n",
       "        text-align: right;\n",
       "    }\n",
       "</style>\n",
       "<table border=\"1\" class=\"dataframe\">\n",
       "  <thead>\n",
       "    <tr style=\"text-align: right;\">\n",
       "      <th></th>\n",
       "      <th>0</th>\n",
       "      <th>1</th>\n",
       "      <th>2</th>\n",
       "      <th>3</th>\n",
       "      <th>4</th>\n",
       "    </tr>\n",
       "  </thead>\n",
       "  <tbody>\n",
       "    <tr>\n",
       "      <th>0</th>\n",
       "      <td>서울특별시</td>\n",
       "      <td>None</td>\n",
       "      <td>None</td>\n",
       "      <td>None</td>\n",
       "      <td>None</td>\n",
       "    </tr>\n",
       "    <tr>\n",
       "      <th>1</th>\n",
       "      <td>서울특별시</td>\n",
       "      <td>종로구</td>\n",
       "      <td>None</td>\n",
       "      <td>None</td>\n",
       "      <td>None</td>\n",
       "    </tr>\n",
       "    <tr>\n",
       "      <th>2</th>\n",
       "      <td>서울특별시</td>\n",
       "      <td>종로구</td>\n",
       "      <td>청운동</td>\n",
       "      <td>None</td>\n",
       "      <td>None</td>\n",
       "    </tr>\n",
       "    <tr>\n",
       "      <th>3</th>\n",
       "      <td>서울특별시</td>\n",
       "      <td>종로구</td>\n",
       "      <td>신교동</td>\n",
       "      <td>None</td>\n",
       "      <td>None</td>\n",
       "    </tr>\n",
       "    <tr>\n",
       "      <th>4</th>\n",
       "      <td>서울특별시</td>\n",
       "      <td>종로구</td>\n",
       "      <td>궁정동</td>\n",
       "      <td>None</td>\n",
       "      <td>None</td>\n",
       "    </tr>\n",
       "    <tr>\n",
       "      <th>...</th>\n",
       "      <td>...</td>\n",
       "      <td>...</td>\n",
       "      <td>...</td>\n",
       "      <td>...</td>\n",
       "      <td>...</td>\n",
       "    </tr>\n",
       "    <tr>\n",
       "      <th>46175</th>\n",
       "      <td>제주특별자치도</td>\n",
       "      <td>서귀포시</td>\n",
       "      <td>표선면</td>\n",
       "      <td>하천리</td>\n",
       "      <td>None</td>\n",
       "    </tr>\n",
       "    <tr>\n",
       "      <th>46176</th>\n",
       "      <td>제주특별자치도</td>\n",
       "      <td>서귀포시</td>\n",
       "      <td>표선면</td>\n",
       "      <td>성읍리</td>\n",
       "      <td>None</td>\n",
       "    </tr>\n",
       "    <tr>\n",
       "      <th>46177</th>\n",
       "      <td>제주특별자치도</td>\n",
       "      <td>서귀포시</td>\n",
       "      <td>표선면</td>\n",
       "      <td>가시리</td>\n",
       "      <td>None</td>\n",
       "    </tr>\n",
       "    <tr>\n",
       "      <th>46178</th>\n",
       "      <td>제주특별자치도</td>\n",
       "      <td>서귀포시</td>\n",
       "      <td>표선면</td>\n",
       "      <td>세화리</td>\n",
       "      <td>None</td>\n",
       "    </tr>\n",
       "    <tr>\n",
       "      <th>46179</th>\n",
       "      <td>제주특별자치도</td>\n",
       "      <td>서귀포시</td>\n",
       "      <td>표선면</td>\n",
       "      <td>토산리</td>\n",
       "      <td>None</td>\n",
       "    </tr>\n",
       "  </tbody>\n",
       "</table>\n",
       "<p>46180 rows × 5 columns</p>\n",
       "</div>"
      ],
      "text/plain": [
       "             0     1     2     3     4\n",
       "0        서울특별시  None  None  None  None\n",
       "1        서울특별시   종로구  None  None  None\n",
       "2        서울특별시   종로구   청운동  None  None\n",
       "3        서울특별시   종로구   신교동  None  None\n",
       "4        서울특별시   종로구   궁정동  None  None\n",
       "...        ...   ...   ...   ...   ...\n",
       "46175  제주특별자치도  서귀포시   표선면   하천리  None\n",
       "46176  제주특별자치도  서귀포시   표선면   성읍리  None\n",
       "46177  제주특별자치도  서귀포시   표선면   가시리  None\n",
       "46178  제주특별자치도  서귀포시   표선면   세화리  None\n",
       "46179  제주특별자치도  서귀포시   표선면   토산리  None\n",
       "\n",
       "[46180 rows x 5 columns]"
      ]
     },
     "execution_count": 88,
     "metadata": {},
     "output_type": "execute_result"
    }
   ],
   "source": [
    "# 공백으로 분리해보기 리스트로 값이 넘어오는데 expand = True 옵션을 사용하면 DF 형식으로 받는다.\n",
    "court_subset_df = courtDF['법정동명'].str.split(\" \", expand = True)\n",
    "court_subset_df"
   ]
  },
  {
   "cell_type": "markdown",
   "metadata": {},
   "source": [
    "- str.startswith() : 특정 문자로 시작하는 것\n",
    "- str.endswith() : 특정 문자로 끝나는 것\n",
    "- str.contains() : 특정 문자를 담고 있는가\n",
    "- str.replace() : 특정 문자를 대체"
   ]
  },
  {
   "cell_type": "code",
   "execution_count": 98,
   "metadata": {},
   "outputs": [
    {
     "data": {
      "text/plain": [
       "0                       서울특별시\n",
       "1                   서울특별시-종로구\n",
       "2               서울특별시-종로구-청운동\n",
       "3               서울특별시-종로구-신교동\n",
       "4               서울특별시-종로구-궁정동\n",
       "                 ...         \n",
       "46175    제주특별자치도-서귀포시-표선면-하천리\n",
       "46176    제주특별자치도-서귀포시-표선면-성읍리\n",
       "46177    제주특별자치도-서귀포시-표선면-가시리\n",
       "46178    제주특별자치도-서귀포시-표선면-세화리\n",
       "46179    제주특별자치도-서귀포시-표선면-토산리\n",
       "Name: 법정동명, Length: 46180, dtype: object"
      ]
     },
     "execution_count": 98,
     "metadata": {},
     "output_type": "execute_result"
    }
   ],
   "source": [
    "# Series의 boolean masking 된 형태기에 DF에 다시 담아주어야 원하는 결과값 출력\n",
    "court_subset_df = courtDF[ courtDF['법정동명'].str.startswith('서울') ]\n",
    "court_subset_df = courtDF[ courtDF['법정동명'].str.endswith('시') ]\n",
    "court_subset_df = courtDF[ courtDF['법정동명'].str.contains('강서') & courtDF['법정동명'].str.contains('부산')  ]\n",
    "court_subset_df = courtDF['법정동명'].str.replace(' ', '-')\n",
    "court_subset_df"
   ]
  },
  {
   "cell_type": "markdown",
   "metadata": {},
   "source": [
    "- str.strip()\n",
    "- str.lstrip()\n",
    "- str.rstrip()\n",
    "- str.lower()\n",
    "- str.upper()\n",
    "- str.swapcase()\n"
   ]
  },
  {
   "cell_type": "code",
   "execution_count": 99,
   "metadata": {},
   "outputs": [],
   "source": [
    "emptyDF = pd.DataFrame({\n",
    "    'col01' : ['abcd   ' , ' FFFght '  , 'abCCe    '],\n",
    "    'col02' : ['   fjHij' , ' ffght '  , 'Ibcce    '],\n",
    "        \n",
    "})\n"
   ]
  },
  {
   "cell_type": "code",
   "execution_count": 109,
   "metadata": {},
   "outputs": [
    {
     "name": "stdout",
     "output_type": "stream",
     "text": [
      "0      abcd\n",
      "1    FFFght\n",
      "2     abCCe\n",
      "Name: col01, dtype: object\n",
      "0      abcd   \n",
      "1      FFFght \n",
      "2    abCCe    \n",
      "Name: col01, dtype: object\n",
      "0       abcd\n",
      "1     FFFght\n",
      "2      abCCe\n",
      "Name: col01, dtype: object\n",
      "0      abcd   \n",
      "1      fffght \n",
      "2    abcce    \n",
      "Name: col01, dtype: object\n",
      "0      ABCD   \n",
      "1      FFFGHT \n",
      "2    ABCCE    \n",
      "Name: col01, dtype: object\n",
      "0      ABCD   \n",
      "1      fffGHT \n",
      "2    ABccE    \n",
      "Name: col01, dtype: object\n"
     ]
    }
   ],
   "source": [
    "print(emptyDF['col01'].str.strip())\n",
    "print(emptyDF['col01'].str.lstrip())\n",
    "print(emptyDF['col01'].str.rstrip())\n",
    "print(emptyDF['col01'].str.lower())\n",
    "print(emptyDF['col01'].str.upper())\n",
    "print(emptyDF['col01'].str.swapcase())"
   ]
  },
  {
   "cell_type": "code",
   "execution_count": null,
   "metadata": {},
   "outputs": [],
   "source": []
  }
 ],
 "metadata": {
  "kernelspec": {
   "display_name": "Python 3",
   "language": "python",
   "name": "python3"
  },
  "language_info": {
   "codemirror_mode": {
    "name": "ipython",
    "version": 3
   },
   "file_extension": ".py",
   "mimetype": "text/x-python",
   "name": "python",
   "nbconvert_exporter": "python",
   "pygments_lexer": "ipython3",
   "version": "3.8.5"
  }
 },
 "nbformat": 4,
 "nbformat_minor": 4
}
