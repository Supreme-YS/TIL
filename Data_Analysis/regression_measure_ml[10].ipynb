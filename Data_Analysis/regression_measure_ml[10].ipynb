{
 "cells": [
  {
   "cell_type": "markdown",
   "metadata": {},
   "source": [
    "#### 학습목표\n",
    "- 기울기 (w)\n",
    "- 절편 (b)\n",
    "- 회귀 평가 방법\n",
    "- 피처, 타겟의 스케일링\n",
    "- 캐글데이터를 활용한 실습"
   ]
  },
  {
   "cell_type": "code",
   "execution_count": 1,
   "metadata": {},
   "outputs": [],
   "source": [
    "from sklearn.linear_model import LinearRegression \n",
    "from sklearn.model_selection import train_test_split \n",
    "\n",
    "import pandas as pd\n",
    "import numpy  as np\n",
    "import matplotlib.pyplot as plt\n",
    "import seaborn as sns\n",
    "\n",
    "import missingno as ms\n",
    "%matplotlib inline\n",
    "\n",
    "import warnings\n",
    "warnings.filterwarnings('ignore')\n"
   ]
  },
  {
   "cell_type": "code",
   "execution_count": 2,
   "metadata": {},
   "outputs": [],
   "source": [
    "# 기울기\n",
    "\n",
    "X = [8.70153760, 3.90825773, 1.89362433, 3.28730045, 7.39333004, 2.98984649, 2.25757240, 9.84450732, 9.94589513, 5.48321616]\n",
    "Y = [5.64413093, 3.75876583, 3.87233310, 4.40990425, 6.43845020, 4.02827829, 2.26105955, 7.15768995, 6.29097441, 5.19692852]"
   ]
  },
  {
   "cell_type": "code",
   "execution_count": 14,
   "metadata": {},
   "outputs": [
    {
     "data": {
      "image/png": "[encoded data removed]",
      "text/plain": [
       "<Figure size 432x288 with 1 Axes>"
      ]
     },
     "metadata": {
      "needs_background": "light"
     },
     "output_type": "display_data"
    }
   ],
   "source": [
    "# 경사하강법으로 최적화된 결과값이 도출됨\n",
    "# f(x) = w*x + b -->cost(w,b)\n",
    "\n",
    "\n",
    "w = 0.6\n",
    "b = 1\n",
    "\n",
    "plt.figure()\n",
    "plt.scatter(X,Y)\n",
    "plt.plot([0,10], [b, 10*w + b], c='red')\n",
    "\n",
    "plt.xlim(0,10)\n",
    "plt.ylim(0,10)\n",
    "\n",
    "plt.show()\n",
    "plt.close()"
   ]
  },
  {
   "cell_type": "code",
   "execution_count": 22,
   "metadata": {},
   "outputs": [],
   "source": [
    "# w * x.T + b\n",
    "def prediction(a, b, x):\n",
    "    result = x*a.T + b\n",
    "    return result"
   ]
  },
  {
   "cell_type": "code",
   "execution_count": 27,
   "metadata": {},
   "outputs": [],
   "source": [
    "def update_ab(a, b, x, error, Ir):\n",
    "    a_delta = -(Ir * (2/len(error)) * (np.dot(x.T, error)) )\n",
    "    b_delta = -(Ir * (2/len(error)) * np.sum(error) )\n",
    "    return a_delta , b_delta"
   ]
  },
  {
   "cell_type": "code",
   "execution_count": 28,
   "metadata": {},
   "outputs": [],
   "source": [
    "def gradient_descent(x, y, iters):\n",
    "    a = np.zeros((1,1))\n",
    "    b = np.zeros((1,1))\n",
    "    \n",
    "    for idx in range(iters):\n",
    "        error = y - prediction(a, b, x)\n",
    "        a_delta, b_delta = update_ab(a, b, x, error, Ir=learning_rate)\n",
    "        a -= a_delta\n",
    "        b -= b_delta\n",
    "    return a, b"
   ]
  },
  {
   "cell_type": "code",
   "execution_count": 34,
   "metadata": {},
   "outputs": [],
   "source": [
    "def plotting_graph(x, y, a, b):\n",
    "    y_pred = a[0,0] * x + b\n",
    "    \n",
    "    plt.figure()\n",
    "    plt.scatter(x, y)\n",
    "    plt.plot(x, y_pred, c='green')\n",
    "    \n",
    "    \n",
    "    \n",
    "    plt.show()\n",
    "    plt.close()"
   ]
  },
  {
   "cell_type": "code",
   "execution_count": 35,
   "metadata": {},
   "outputs": [
    {
     "name": "stdout",
     "output_type": "stream",
     "text": [
      "weight :  [[3.34845331]] bias : [[1.30802168]]\n"
     ]
    },
    {
     "data": {
      "image/png": "[encoded data removed]",
      "text/plain": [
       "<Figure size 432x288 with 1 Axes>"
      ]
     },
     "metadata": {
      "needs_background": "light"
     },
     "output_type": "display_data"
    }
   ],
   "source": [
    "learning_rate = 0.005 \n",
    "\n",
    "x = 5*np.random.rand(100, 1)\n",
    "y = 3*x + 5*np.random.rand(100, 1)\n",
    "w, b = gradient_descent(x, y, iters=100)\n",
    "\n",
    "print('weight : ', w, 'bias :' , b)\n",
    "\n",
    "plotting_graph(x, y, w, b)"
   ]
  },
  {
   "cell_type": "code",
   "execution_count": 20,
   "metadata": {},
   "outputs": [
    {
     "data": {
      "text/plain": [
       "array([[0.]])"
      ]
     },
     "execution_count": 20,
     "metadata": {},
     "output_type": "execute_result"
    }
   ],
   "source": []
  },
  {
   "cell_type": "code",
   "execution_count": null,
   "metadata": {},
   "outputs": [],
   "source": []
  }
 ],
 "metadata": {
  "kernelspec": {
   "display_name": "Python 3",
   "language": "python",
   "name": "python3"
  },
  "language_info": {
   "codemirror_mode": {
    "name": "ipython",
    "version": 3
   },
   "file_extension": ".py",
   "mimetype": "text/x-python",
   "name": "python",
   "nbconvert_exporter": "python",
   "pygments_lexer": "ipython3",
   "version": "3.8.5"
  }
 },
 "nbformat": 4,
 "nbformat_minor": 4
}
