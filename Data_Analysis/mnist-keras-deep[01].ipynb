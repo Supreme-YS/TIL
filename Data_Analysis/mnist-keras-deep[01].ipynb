{
 "cells": [
  {
   "cell_type": "code",
   "execution_count": 1,
   "id": "wicked-worcester",
   "metadata": {},
   "outputs": [
    {
     "name": "stdout",
     "output_type": "stream",
     "text": [
      "2.2.0\n",
      "2.3.0-tf\n"
     ]
    }
   ],
   "source": [
    "from tensorflow import keras\n",
    "import tensorflow as tf\n",
    "\n",
    "print(tf.__version__)\n",
    "print(keras.__version__)"
   ]
  },
  {
   "cell_type": "code",
   "execution_count": 2,
   "id": "dated-operator",
   "metadata": {},
   "outputs": [],
   "source": [
    "import numpy as np\n",
    "import pandas as pd"
   ]
  },
  {
   "cell_type": "markdown",
   "id": "automatic-concord",
   "metadata": {},
   "source": [
    "#### 데이터 로드"
   ]
  },
  {
   "cell_type": "code",
   "execution_count": 3,
   "id": "smooth-means",
   "metadata": {},
   "outputs": [],
   "source": [
    "(x_train, y_train) , (x_test, y_test) = keras.datasets.mnist.load_data()"
   ]
  },
  {
   "cell_type": "code",
   "execution_count": 4,
   "id": "prescription-spray",
   "metadata": {},
   "outputs": [
    {
     "data": {
      "text/plain": [
       "((60000, 28, 28), (60000,), (10000, 28, 28), (10000,))"
      ]
     },
     "execution_count": 4,
     "metadata": {},
     "output_type": "execute_result"
    }
   ],
   "source": [
    "x_train.shape, y_train.shape, x_test.shape, y_test.shape"
   ]
  },
  {
   "cell_type": "code",
   "execution_count": 5,
   "id": "comfortable-christmas",
   "metadata": {},
   "outputs": [
    {
     "name": "stdout",
     "output_type": "stream",
     "text": [
      "5\n",
      "0\n",
      "4\n",
      "1\n",
      "9\n",
      "2\n",
      "1\n",
      "3\n",
      "1\n",
      "4\n"
     ]
    }
   ],
   "source": [
    "for idx in range(10):\n",
    "    print(y_train[idx])"
   ]
  },
  {
   "cell_type": "code",
   "execution_count": 6,
   "id": "associate-interstate",
   "metadata": {},
   "outputs": [],
   "source": [
    "y_train = keras.utils.to_categorical(y_train, 10)\n",
    "y_test = keras.utils.to_categorical(y_test, 10)"
   ]
  },
  {
   "cell_type": "code",
   "execution_count": 7,
   "id": "minor-evolution",
   "metadata": {},
   "outputs": [
    {
     "name": "stdout",
     "output_type": "stream",
     "text": [
      "[0. 0. 0. 0. 0. 1. 0. 0. 0. 0.]\n",
      "[1. 0. 0. 0. 0. 0. 0. 0. 0. 0.]\n",
      "[0. 0. 0. 0. 1. 0. 0. 0. 0. 0.]\n",
      "[0. 1. 0. 0. 0. 0. 0. 0. 0. 0.]\n",
      "[0. 0. 0. 0. 0. 0. 0. 0. 0. 1.]\n",
      "[0. 0. 1. 0. 0. 0. 0. 0. 0. 0.]\n",
      "[0. 1. 0. 0. 0. 0. 0. 0. 0. 0.]\n",
      "[0. 0. 0. 1. 0. 0. 0. 0. 0. 0.]\n",
      "[0. 1. 0. 0. 0. 0. 0. 0. 0. 0.]\n",
      "[0. 0. 0. 0. 1. 0. 0. 0. 0. 0.]\n"
     ]
    }
   ],
   "source": [
    "for idx in range(10):\n",
    "    print(y_train[idx])"
   ]
  },
  {
   "cell_type": "code",
   "execution_count": 8,
   "id": "suspended-texas",
   "metadata": {},
   "outputs": [],
   "source": [
    "x_train = x_train.reshape(60000, 784)\n",
    "x_test = x_test.reshape(10000, 784)"
   ]
  },
  {
   "cell_type": "code",
   "execution_count": 9,
   "id": "tired-surge",
   "metadata": {},
   "outputs": [
    {
     "data": {
      "text/plain": [
       "((60000, 784), (60000, 10), (10000, 784), (10000, 10))"
      ]
     },
     "execution_count": 9,
     "metadata": {},
     "output_type": "execute_result"
    }
   ],
   "source": [
    "x_train.shape, y_train.shape, x_test.shape, y_test.shape"
   ]
  },
  {
   "cell_type": "markdown",
   "id": "national-passing",
   "metadata": {},
   "source": [
    "#### 모델 만들기"
   ]
  },
  {
   "cell_type": "code",
   "execution_count": 10,
   "id": "animal-national",
   "metadata": {},
   "outputs": [],
   "source": [
    "# 첫 번째 모델 생성\n",
    "model = keras.Sequential() # 시퀀스 객체에 Dense 층을 넣어준다."
   ]
  },
  {
   "cell_type": "code",
   "execution_count": 11,
   "id": "coated-flesh",
   "metadata": {},
   "outputs": [],
   "source": [
    "model.add( keras.layers.Dense(256 , activation='sigmoid', input_shape=(784, ), name='input') ) # input layer\n",
    "\n",
    "model.add( keras.layers.Dense(128 , activation='sigmoid', name='hidden1') ) # hidden layer\n",
    "model.add( keras.layers.Dense(64 , activation='sigmoid', name='hidden2') )\n",
    "model.add( keras.layers.Dense(32 , activation='sigmoid', name='hidden3') )\n",
    "\n",
    "model.add( keras.layers.Dense(10 , activation='softmax', name='output') ) # output layer , softmax-다중분류, sigmoid-이진분류"
   ]
  },
  {
   "cell_type": "code",
   "execution_count": 12,
   "id": "normal-issue",
   "metadata": {},
   "outputs": [
    {
     "name": "stdout",
     "output_type": "stream",
     "text": [
      "Model: \"sequential\"\n",
      "_________________________________________________________________\n",
      "Layer (type)                 Output Shape              Param #   \n",
      "=================================================================\n",
      "input (Dense)                (None, 256)               200960    \n",
      "_________________________________________________________________\n",
      "hidden1 (Dense)              (None, 128)               32896     \n",
      "_________________________________________________________________\n",
      "hidden2 (Dense)              (None, 64)                8256      \n",
      "_________________________________________________________________\n",
      "hidden3 (Dense)              (None, 32)                2080      \n",
      "_________________________________________________________________\n",
      "output (Dense)               (None, 10)                330       \n",
      "=================================================================\n",
      "Total params: 244,522\n",
      "Trainable params: 244,522\n",
      "Non-trainable params: 0\n",
      "_________________________________________________________________\n"
     ]
    }
   ],
   "source": [
    "model.summary()"
   ]
  },
  {
   "cell_type": "markdown",
   "id": "intelligent-mailman",
   "metadata": {},
   "source": [
    "#### 모델 컴파일"
   ]
  },
  {
   "cell_type": "code",
   "execution_count": 13,
   "id": "seventh-entry",
   "metadata": {},
   "outputs": [
    {
     "name": "stdout",
     "output_type": "stream",
     "text": [
      "Model: \"sequential\"\n",
      "_________________________________________________________________\n",
      "Layer (type)                 Output Shape              Param #   \n",
      "=================================================================\n",
      "input (Dense)                (None, 256)               200960    \n",
      "_________________________________________________________________\n",
      "hidden1 (Dense)              (None, 128)               32896     \n",
      "_________________________________________________________________\n",
      "hidden2 (Dense)              (None, 64)                8256      \n",
      "_________________________________________________________________\n",
      "hidden3 (Dense)              (None, 32)                2080      \n",
      "_________________________________________________________________\n",
      "output (Dense)               (None, 10)                330       \n",
      "=================================================================\n",
      "Total params: 244,522\n",
      "Trainable params: 244,522\n",
      "Non-trainable params: 0\n",
      "_________________________________________________________________\n"
     ]
    }
   ],
   "source": [
    "optimizer = keras.optimizers.SGD(learning_rate=0.01)\n",
    "model.compile(optimizer = optimizer,\n",
    "              loss      = 'categorical_crossentropy',\n",
    "              metrics   = ['accuracy'])\n",
    "model.summary()"
   ]
  },
  {
   "cell_type": "markdown",
   "id": "infectious-squad",
   "metadata": {},
   "source": [
    "#### 학습"
   ]
  },
  {
   "cell_type": "code",
   "execution_count": 14,
   "id": "round-albuquerque",
   "metadata": {},
   "outputs": [
    {
     "name": "stdout",
     "output_type": "stream",
     "text": [
      "Epoch 1/10\n",
      "469/469 [==============================] - 2s 4ms/step - loss: 2.3141 - accuracy: 0.1121 - val_loss: 2.2952 - val_accuracy: 0.1135\n",
      "Epoch 2/10\n",
      "469/469 [==============================] - 1s 3ms/step - loss: 2.2929 - accuracy: 0.1138 - val_loss: 2.2892 - val_accuracy: 0.1135\n",
      "Epoch 3/10\n",
      "469/469 [==============================] - 1s 3ms/step - loss: 2.2869 - accuracy: 0.1159 - val_loss: 2.2830 - val_accuracy: 0.1330\n",
      "Epoch 4/10\n",
      "469/469 [==============================] - 2s 4ms/step - loss: 2.2799 - accuracy: 0.1352 - val_loss: 2.2752 - val_accuracy: 0.1592\n",
      "Epoch 5/10\n",
      "469/469 [==============================] - 2s 3ms/step - loss: 2.2712 - accuracy: 0.1724 - val_loss: 2.2651 - val_accuracy: 0.1504\n",
      "Epoch 6/10\n",
      "469/469 [==============================] - 2s 3ms/step - loss: 2.2594 - accuracy: 0.2119 - val_loss: 2.2511 - val_accuracy: 0.2263\n",
      "Epoch 7/10\n",
      "469/469 [==============================] - 1s 3ms/step - loss: 2.2427 - accuracy: 0.2739 - val_loss: 2.2303 - val_accuracy: 0.2910\n",
      "Epoch 8/10\n",
      "469/469 [==============================] - 1s 3ms/step - loss: 2.2175 - accuracy: 0.3199 - val_loss: 2.1985 - val_accuracy: 0.3393\n",
      "Epoch 9/10\n",
      "469/469 [==============================] - 2s 3ms/step - loss: 2.1773 - accuracy: 0.3647 - val_loss: 2.1466 - val_accuracy: 0.3656\n",
      "Epoch 10/10\n",
      "469/469 [==============================] - 1s 3ms/step - loss: 2.1125 - accuracy: 0.3864 - val_loss: 2.0649 - val_accuracy: 0.3942\n"
     ]
    }
   ],
   "source": [
    "# unseen 데이터를 validation_data로 써본다. 현업에선 이렇게 하면 안됨\n",
    "# model.fit(x_train, y_train, batch_size = 6000, epochs = 50, validation_data=(x_test, y_test) )\n",
    "\n",
    "history = model.fit(x_train, y_train, batch_size = 128, epochs = 10, validation_data=(x_test, y_test) )"
   ]
  },
  {
   "cell_type": "code",
   "execution_count": 15,
   "id": "rapid-prisoner",
   "metadata": {},
   "outputs": [
    {
     "data": {
      "text/plain": [
       "dict_keys(['loss', 'accuracy', 'val_loss', 'val_accuracy'])"
      ]
     },
     "execution_count": 15,
     "metadata": {},
     "output_type": "execute_result"
    }
   ],
   "source": [
    "history.history.keys()"
   ]
  },
  {
   "cell_type": "markdown",
   "id": "minute-principal",
   "metadata": {},
   "source": [
    "#### 평가"
   ]
  },
  {
   "cell_type": "code",
   "execution_count": 16,
   "id": "neither-south",
   "metadata": {},
   "outputs": [
    {
     "name": "stdout",
     "output_type": "stream",
     "text": [
      "313/313 [==============================] - 0s 1ms/step - loss: 2.0649 - accuracy: 0.3942\n"
     ]
    },
    {
     "data": {
      "text/plain": [
       "[2.064884662628174, 0.39419999718666077]"
      ]
     },
     "execution_count": 16,
     "metadata": {},
     "output_type": "execute_result"
    }
   ],
   "source": [
    "model.evaluate(x_test, y_test) # unseen data 로 평가"
   ]
  },
  {
   "cell_type": "markdown",
   "id": "compatible-range",
   "metadata": {},
   "source": [
    "#### 시각화"
   ]
  },
  {
   "cell_type": "code",
   "execution_count": 17,
   "id": "indian-albert",
   "metadata": {},
   "outputs": [
    {
     "data": {
      "image/png": "[encoded data removed]",
      "text/plain": [
       "<Figure size 432x288 with 1 Axes>"
      ]
     },
     "metadata": {
      "needs_background": "light"
     },
     "output_type": "display_data"
    }
   ],
   "source": [
    "import matplotlib.pyplot as plt\n",
    "\n",
    "x_train = x_train.reshape(60000, 28, 28)\n",
    "\n",
    "plt.figure()\n",
    "plt.imshow(x_train[0], cmap=plt.cm.binary)\n",
    "# plt.colorbar()\n",
    "plt.grid(False)\n",
    "plt.axis('off')\n",
    "plt.show()"
   ]
  },
  {
   "cell_type": "code",
   "execution_count": 38,
   "id": "expired-distribution",
   "metadata": {},
   "outputs": [
    {
     "data": {
      "text/plain": [
       "((60000, 28, 28), (60000,), (10000, 28, 28), (10000,))"
      ]
     },
     "execution_count": 38,
     "metadata": {},
     "output_type": "execute_result"
    }
   ],
   "source": [
    "# 데이터 로드 다시 하기\n",
    "(x_train, y_train) , (x_test, y_test) = keras.datasets.mnist.load_data()\n",
    "x_train.shape, y_train.shape, x_test.shape, y_test.shape"
   ]
  },
  {
   "cell_type": "code",
   "execution_count": 39,
   "id": "liable-leader",
   "metadata": {},
   "outputs": [],
   "source": [
    "y_train = keras.utils.to_categorical(y_train, 10)\n",
    "y_test = keras.utils.to_categorical(y_test, 10)"
   ]
  },
  {
   "cell_type": "code",
   "execution_count": 40,
   "id": "moderate-boost",
   "metadata": {},
   "outputs": [],
   "source": [
    "x_train = x_train.reshape(60000, 784)\n",
    "x_test = x_test.reshape(10000, 784)"
   ]
  },
  {
   "cell_type": "code",
   "execution_count": 41,
   "id": "negative-weapon",
   "metadata": {},
   "outputs": [
    {
     "data": {
      "text/plain": [
       "((60000, 784), (60000, 10), (10000, 784), (10000, 10))"
      ]
     },
     "execution_count": 41,
     "metadata": {},
     "output_type": "execute_result"
    }
   ],
   "source": [
    "x_train.shape, y_train.shape, x_test.shape, y_test.shape"
   ]
  },
  {
   "cell_type": "code",
   "execution_count": 42,
   "id": "unlimited-trouble",
   "metadata": {
    "scrolled": true
   },
   "outputs": [],
   "source": [
    "from sklearn.model_selection import train_test_split\n",
    "\n",
    "x_train, x_val, y_train, y_val = train_test_split(x_train, y_train,\n",
    "                                                  test_size = 0.3,\n",
    "                                                  random_state = 100)"
   ]
  },
  {
   "cell_type": "code",
   "execution_count": 43,
   "id": "minute-photography",
   "metadata": {},
   "outputs": [
    {
     "data": {
      "text/plain": [
       "((42000, 784), (42000, 10), (10000, 784), (10000, 10))"
      ]
     },
     "execution_count": 43,
     "metadata": {},
     "output_type": "execute_result"
    }
   ],
   "source": [
    "x_train.shape, y_train.shape, x_test.shape, y_test.shape"
   ]
  },
  {
   "cell_type": "markdown",
   "id": "minus-musician",
   "metadata": {},
   "source": [
    "#### 모델을 구성하는 두 번째 방법\n",
    "- 함수형 API"
   ]
  },
  {
   "cell_type": "code",
   "execution_count": 44,
   "id": "light-mandate",
   "metadata": {},
   "outputs": [],
   "source": [
    "from tensorflow.keras.layers import Input, Dense\n",
    "from tensorflow.keras.models import Sequential, Model\n",
    "\n",
    "input = keras.layers.Input(shape=(784,), name='input')\n",
    "\n",
    "# model.add( keras.layers.Dense(256 , activation='sigmoid', input_shape=(784, ), name='input') ) # input layer\n",
    "\n",
    "hidden1 = Dense(256, activation='sigmoid', name='hidden1')(input)\n",
    "hidden2 = Dense(128, activation='sigmoid', name='hidden2')(hidden1)\n",
    "hidden3 = Dense(64, activation='sigmoid', name='hidden3')(hidden2)\n",
    "hidden4 = Dense(32, activation='sigmoid', name='hidden4')(hidden3)\n",
    "\n",
    "output  = Dense(10, activation='softmax', name='output')(hidden4)\n",
    "\n",
    "model = Model(inputs=[input] , outputs=[output])"
   ]
  },
  {
   "cell_type": "code",
   "execution_count": 45,
   "id": "lesser-message",
   "metadata": {},
   "outputs": [
    {
     "name": "stdout",
     "output_type": "stream",
     "text": [
      "Model: \"model_3\"\n",
      "_________________________________________________________________\n",
      "Layer (type)                 Output Shape              Param #   \n",
      "=================================================================\n",
      "input (InputLayer)           [(None, 784)]             0         \n",
      "_________________________________________________________________\n",
      "hidden1 (Dense)              (None, 256)               200960    \n",
      "_________________________________________________________________\n",
      "hidden2 (Dense)              (None, 128)               32896     \n",
      "_________________________________________________________________\n",
      "hidden3 (Dense)              (None, 64)                8256      \n",
      "_________________________________________________________________\n",
      "hidden4 (Dense)              (None, 32)                2080      \n",
      "_________________________________________________________________\n",
      "output (Dense)               (None, 10)                330       \n",
      "=================================================================\n",
      "Total params: 244,522\n",
      "Trainable params: 244,522\n",
      "Non-trainable params: 0\n",
      "_________________________________________________________________\n"
     ]
    }
   ],
   "source": [
    "model.summary()"
   ]
  },
  {
   "cell_type": "code",
   "execution_count": 46,
   "id": "cooperative-debut",
   "metadata": {},
   "outputs": [],
   "source": [
    "from tensorflow.keras.optimizers import SGD\n",
    "\n",
    "optimizer = SGD(learning_rate=0.01)\n",
    "model.compile(optimizer = optimizer,\n",
    "              loss = 'categorical_crossentropy',\n",
    "              metrics = ['accuracy'] ) "
   ]
  },
  {
   "cell_type": "code",
   "execution_count": 65,
   "id": "southeast-spectacular",
   "metadata": {},
   "outputs": [
    {
     "name": "stdout",
     "output_type": "stream",
     "text": [
      "Epoch 1/10\n",
      "329/329 [==============================] - 1s 4ms/step - loss: 0.1368 - accuracy: 0.9726 - val_loss: 0.2379 - val_accuracy: 0.9370\n",
      "Epoch 2/10\n",
      "329/329 [==============================] - 1s 3ms/step - loss: 0.1335 - accuracy: 0.9735 - val_loss: 0.2398 - val_accuracy: 0.9379\n",
      "Epoch 3/10\n",
      "329/329 [==============================] - 1s 3ms/step - loss: 0.1296 - accuracy: 0.9744 - val_loss: 0.2341 - val_accuracy: 0.9380\n",
      "Epoch 4/10\n",
      "329/329 [==============================] - 1s 3ms/step - loss: 0.1268 - accuracy: 0.9755 - val_loss: 0.2316 - val_accuracy: 0.9383\n",
      "Epoch 5/10\n",
      "329/329 [==============================] - 1s 4ms/step - loss: 0.1241 - accuracy: 0.9762 - val_loss: 0.2341 - val_accuracy: 0.9376\n",
      "Epoch 6/10\n",
      "329/329 [==============================] - 1s 3ms/step - loss: 0.1216 - accuracy: 0.9767 - val_loss: 0.2304 - val_accuracy: 0.9379\n",
      "Epoch 7/10\n",
      "329/329 [==============================] - 1s 3ms/step - loss: 0.1147 - accuracy: 0.9784 - val_loss: 0.2334 - val_accuracy: 0.9375\n",
      "Epoch 8/10\n",
      "329/329 [==============================] - 1s 4ms/step - loss: 0.1151 - accuracy: 0.9779 - val_loss: 0.2284 - val_accuracy: 0.9389\n",
      "Epoch 9/10\n",
      "329/329 [==============================] - 1s 3ms/step - loss: 0.1124 - accuracy: 0.9787 - val_loss: 0.2302 - val_accuracy: 0.9392\n",
      "Epoch 10/10\n",
      "329/329 [==============================] - 1s 4ms/step - loss: 0.1094 - accuracy: 0.9794 - val_loss: 0.2254 - val_accuracy: 0.9389\n"
     ]
    }
   ],
   "source": [
    "history = model.fit(x_train, y_train, batch_size = 128, epochs=10, validation_data=(x_val, y_val))"
   ]
  },
  {
   "cell_type": "code",
   "execution_count": 48,
   "id": "genuine-secondary",
   "metadata": {},
   "outputs": [
    {
     "data": {
      "text/plain": [
       "dict_keys(['loss', 'accuracy', 'val_loss', 'val_accuracy'])"
      ]
     },
     "execution_count": 48,
     "metadata": {},
     "output_type": "execute_result"
    }
   ],
   "source": [
    "history.history.keys()"
   ]
  },
  {
   "cell_type": "code",
   "execution_count": 49,
   "id": "accepting-crime",
   "metadata": {},
   "outputs": [],
   "source": [
    "history_dict = history.history\n",
    "loss = history_dict['loss']\n",
    "val_loss = history_dict['val_loss']"
   ]
  },
  {
   "cell_type": "code",
   "execution_count": 55,
   "id": "institutional-legislature",
   "metadata": {},
   "outputs": [
    {
     "data": {
      "text/plain": [
       "<matplotlib.legend.Legend at 0x217933a97c0>"
      ]
     },
     "execution_count": 55,
     "metadata": {},
     "output_type": "execute_result"
    },
    {
     "data": {
      "image/png": "[encoded data removed]",
      "text/plain": [
       "<Figure size 432x288 with 2 Axes>"
      ]
     },
     "metadata": {
      "needs_background": "light"
     },
     "output_type": "display_data"
    }
   ],
   "source": [
    "fig = plt.figure()\n",
    "ax01 = fig.add_subplot(1, 2, 1)\n",
    "ax02 = fig.add_subplot(1, 2, 2)\n",
    "\n",
    "epochs = range(1, len(loss)+1)\n",
    "\n",
    "ax01.plot(epochs, loss, color='blue', label='train loss')\n",
    "ax01.plot(epochs, val_loss, color='yellow', label='val loss')\n",
    "ax01.set_xlabel('Epoch')\n",
    "ax01.set_ylabel('loss')\n",
    "ax01.grid()\n",
    "ax01.legend()\n",
    "\n",
    "acc = history_dict['accuracy']\n",
    "val_acc = history_dict['val_accuracy']\n",
    "\n",
    "ax02.plot(epochs, acc, color='blue', label='train acc')\n",
    "ax02.plot(epochs, val_acc, color='yellow', label='val acc')\n",
    "ax02.set_xlabel('Epoch')\n",
    "ax02.set_ylabel('Acc')\n",
    "ax02.grid()\n",
    "ax02.legend()"
   ]
  },
  {
   "cell_type": "code",
   "execution_count": 56,
   "id": "standard-latter",
   "metadata": {},
   "outputs": [
    {
     "name": "stdout",
     "output_type": "stream",
     "text": [
      "313/313 [==============================] - 0s 1ms/step - loss: 2.2273 - accuracy: 0.2765\n"
     ]
    },
    {
     "data": {
      "text/plain": [
       "[2.2272989749908447, 0.27649998664855957]"
      ]
     },
     "execution_count": 56,
     "metadata": {},
     "output_type": "execute_result"
    }
   ],
   "source": [
    "model.evaluate(x_test, y_test)"
   ]
  },
  {
   "cell_type": "code",
   "execution_count": null,
   "id": "strong-winter",
   "metadata": {},
   "outputs": [],
   "source": []
  }
 ],
 "metadata": {
  "kernelspec": {
   "display_name": "Python 3",
   "language": "python",
   "name": "python3"
  },
  "language_info": {
   "codemirror_mode": {
    "name": "ipython",
    "version": 3
   },
   "file_extension": ".py",
   "mimetype": "text/x-python",
   "name": "python",
   "nbconvert_exporter": "python",
   "pygments_lexer": "ipython3",
   "version": "3.8.8"
  }
 },
 "nbformat": 4,
 "nbformat_minor": 5
}
