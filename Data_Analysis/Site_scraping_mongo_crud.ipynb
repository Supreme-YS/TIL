{
 "cells": [
  {
   "cell_type": "code",
   "execution_count": 1,
   "metadata": {},
   "outputs": [],
   "source": [
    "from bs4 import BeautifulSoup\n",
    "from urllib.request import urlopen\n",
    "from urllib.error   import HTTPError\n",
    "from urllib.request import URLError\n",
    "import numpy as np\n",
    "import pandas as pd\n",
    "from selenium import webdriver"
   ]
  },
  {
   "cell_type": "code",
   "execution_count": 2,
   "metadata": {
    "collapsed": true
   },
   "outputs": [
    {
     "data": {
      "text/plain": [
       "'<!DOCTYPE html>\\r\\n<html lang=\"ko\">\\r\\n<head>\\r\\n<!--[if lte IE 8]>\\r\\n<script>\\r\\n  location.replace(\\'/support/explorer_upgrade.html\\');\\r\\n</script>\\r\\n<![endif]-->\\r\\n<meta charset=\"utf-8\"/>\\r\\n<title>한빛출판네트워크</title>\\r\\n<link rel=\"shortcut icon\" href=\"https://www.hanbit.co.kr/images/common/hanbit.ico\"> \\r\\n<meta http-equiv=\"X-UA-Compatible\" content=\"IE=Edge\" />\\r\\n<meta property=\"og:type\" content=\"website\"/>\\r\\n<meta property=\"og:title\" content=\"한빛출판네트워크\"/>\\r\\n<meta property=\"og:description\" content=\"더 넓은 세상, 더 나은 미래를 위한 아시아 출판 네트워크 :: 한빛미디어, 한빛아카데미, 한빛비즈, 한빛라이프, 한빛에듀\"/>\\r\\n<meta property=\"og:image\" content=\"https://www.hanbit.co.kr/images/hanbitpubnet_logo.jpg\" />\\r\\n<meta property=\"og:url\" content=\"https://www.hanbit.co.kr/store/books/full_book_list.html\"/>\\r\\n<link rel=\"canonical\" href=\"https://www.hanbit.co.kr/store/books/full_book_list.html\" />\\r\\n<meta name=\"keywords\" content=\"한빛미디어,한빛아카데미,한빛비즈,한빛라이프,한빛에듀,리얼타임,대관서비스,책,출판사,IT전문서,IT활용서,대학교재,경제경영,어린이/유아,실용/여행,전자책,자격증,교육,세미나,강의,ebook,정보교과서\" />\\r\\n<meta name=\"description\" content=\"더 넓은 세상, 더 나은 미래를 위한 아시아 출판 네트워크 :: 한빛미디어, 한빛아카데미, 한빛비즈, 한빛라이프, 한빛에듀\" />\\r\\n<meta name=\"viewport\" content=\"width=device-width,initial-scale=1.0,minimum-scale=1.0,maximum-scale=1.0\">\\r\\n<meta name=\"viewport\" content=\"width=1260\">\\r\\n<meta name=\"apple-mobile-web-app-capable\" content=\"yes\" />\\r\\n<meta name=\"naver-site-verification\" content=\"01c29ed1852aecca7a48ac0c3e0869627bc512d8\"/>\\r\\n<link rel=\"stylesheet\" href=\"/css/common.css?20190625102532\" />\\r\\n<link href=\"/css/hover.css\" rel=\"stylesheet\" media=\"all\">\\r\\n<link rel=\"stylesheet\" href=\"/js/jquery.raty.css\" />\\r\\n<script type=\"text/javascript\" src=\"/js/jquery-latest.js\"></script>\\r\\n<script type=\"text/javascript\" src=\"/js/jquery-ui.js\"></script>\\r\\n<script type=\"text/javascript\" src=\"/js/jquery.event.drag-1.5.min.js\"></script>\\r\\n<script type=\"text/javascript\" src=\"/js/jquery.touchSlider.js\"></script>\\r\\n<script type=\"text/javascript\" src=\"/js/jquery.raty.js\"></script>\\r\\n<script type=\"text/javascript\" src=\"/js/main.js\"></script>\\r\\n<script type=\"text/javascript\" src=\"/lib/cheditor/cheditor.js\"></script>\\r\\n<script type=\"text/javascript\" src=\"/js/jquery.ui.datepicker-ko.js\"></script>\\r\\n<script type=\"text/javascript\" src=\"/js/engine.js\"></script>\\r\\n<script type=\"text/javascript\" src=\"/js/vue.js\"></script>\\r\\n\\r\\n<!-- Google Analytics -->\\r\\n<script>\\r\\n(function(i,s,o,g,r,a,m){i[\\'GoogleAnalyticsObject\\']=r;i[r]=i[r]||function(){\\r\\n(i[r].q=i[r].q||[]).push(arguments)},i[r].l=1*new Date();a=s.createElement(o),\\r\\nm=s.getElementsByTagName(o)[0];a.async=1;a.src=g;m.parentNode.insertBefore(a,m)\\r\\n})(window,document,\\'script\\',\\'//www.google-analytics.com/analytics.js\\',\\'ga\\');\\r\\nga(\\'create\\', \\'UA-47080738-1\\', \\'hanbit.co.kr\\');\\r\\nga(\\'require\\', \\'linkid\\', \\'linkid.js\\');\\r\\nga(\\'send\\', \\'pageview\\');\\r\\n</script>\\r\\n<!-- Google Analytics -->\\r\\n\\r\\n<!-- Facebook Pixel Code -->\\r\\n<script>\\r\\n  !function(f,b,e,v,n,t,s)\\r\\n  {if(f.fbq)return;n=f.fbq=function(){n.callMethod?\\r\\n  n.callMethod.apply(n,arguments):n.queue.push(arguments)};\\r\\n  if(!f._fbq)f._fbq=n;n.push=n;n.loaded=!0;n.version=\\'2.0\\';\\r\\n  n.queue=[];t=b.createElement(e);t.async=!0;\\r\\n  t.src=v;s=b.getElementsByTagName(e)[0];\\r\\n  s.parentNode.insertBefore(t,s)}(window, document,\\'script\\',\\r\\n  \\'https://connect.facebook.net/en_US/fbevents.js\\');\\r\\n  fbq(\\'init\\', \\'406459623338891\\');\\r\\n  fbq(\\'track\\', \\'PageView\\');\\r\\n</script>\\r\\n<noscript><img height=\"1\" width=\"1\" style=\"display:none\"\\r\\n  src=\"https://www.facebook.com/tr?id=406459623338891&ev=PageView&noscript=1\"\\r\\n/></noscript>\\r\\n<!-- End Facebook Pixel Code -->\\r\\n\\r\\n<!-- Kakao Pixel Code -->\\r\\n<script type=\"text/javascript\" charset=\"UTF-8\" src=\"//t1.daumcdn.net/adfit/static/kp.js\"></script>\\r\\n<script type=\"text/javascript\">\\r\\n  kakaoPixel(\\'3011392806152551233\\').pageView();\\r\\n</script>\\r\\n<!-- //Kakao Pixel Code -->\\r\\n</head>\\r\\n<body>\\r\\n<!-- Google Tag Manager (noscript) -->\\r\\n<noscript><iframe src=\"https://www.googletagmanager.com/ns.html?id=GTM-W9D5PM3\"\\r\\nheight=\"0\" width=\"0\" style=\"display:none;visibility:hidden\"></iframe></noscript>\\r\\n<!-- End Google Tag Manager (noscript) -->\\r\\n<link rel=\"stylesheet\" href=\"/css/layout-hanbit.css?20191130\" />\\r\\n<link rel=\"stylesheet\" href=\"/css/layout-member.css\" />\\r\\n<link rel=\"stylesheet\" href=\"/css/layout-network.css\" />\\r\\n<link rel=\"stylesheet\" href=\"/css/layout-store.css\" />\\r\\n<link rel=\"stylesheet\" href=\"/css/layout-myhanbit.css\" />\\r\\n<link rel=\"stylesheet\" href=\"/css/layout-event.css\" />\\r\\n<!-- 메뉴 바로가기 -->\\r\\n<div id=\"quick_skip_menu\">\\r\\n  <a href=\"#gnb\" onclick=\"document.getElementById(\\'gnb\\').tabIndex = -1;document.getElementById(\\'gnb\\').focus();return false;\"><span>메뉴 바로가기</span></a>\\r\\n  <a href=\"#top_search\" onclick=\"view_hover(\\'main_search_area\\',\\'\\',\\'show\\'), document.getElementById(\\'top_search\\').tabIndex = -1;document.getElementById(\\'top_search\\').focus();return false;\"><span>검색 및 카테고리 바로가기</span></a>\\r\\n    <a href=\"#container\" onclick=\"document.getElementById(\\'container\\').tabIndex = -1;document.getElementById(\\'container\\').focus();return false;\"><span>본문 바로가기</span></a>\\r\\n  </div>\\r\\n<!-- //메뉴 바로가기 -->\\r\\n\\r\\n<!-- header -->\\r\\n<header>\\r\\n  <!-- top menu -->\\r\\n  \\t<nav>\\r\\n\\t\\t<div id=\"wrap_nav\">\\r\\n\\t\\t\\t<ul class=\"top_brand\">\\r\\n\\t\\t\\t\\t<li><a href=\"https://www.hanbit.co.kr/index.html\" name=\"hanbit_network\"><span>HOME</span></a></li>\\r\\n\\t\\t\\t\\t<li><a href=\"https://www.hanbit.co.kr/media/\">한빛미디어</a></li>\\r\\n\\t\\t\\t\\t<li><a href=\"https://www.hanbit.co.kr/academy/\">한빛아카데미</a></li>\\r\\n\\t\\t\\t\\t<li><a href=\"https://www.hanbit.co.kr/biz/\">한빛비즈</a></li>\\r\\n\\t\\t\\t\\t<li><a href=\"https://www.hanbit.co.kr/life/\">한빛라이프</a></li>\\r\\n\\t\\t\\t\\t<li><a href=\"https://www.hanbit.co.kr/edu/\">한빛에듀</a></li>\\r\\n\\t\\t\\t\\t<li><a href=\"https://www.hanbit.co.kr/realtime/\">리얼타임</a></li>\\r\\n\\t\\t\\t\\t<li><a href=\"https://www.hanbit.co.kr/textbook/\" target=\"_blank\">한빛정보교과서</a></li>\\r\\n        <li><a href=\"https://www.hanbit.co.kr/rent/\" target=\"_blank\">한빛대관서비스</a></li>\\r\\n\\t\\t\\t</ul>\\r\\n\\t\\t\\t\\r\\n\\t\\t\\t<ul class=\"top_menu\">\\r\\n                        \\t<li><a href=\"https://www.hanbit.co.kr/member/login.html\" class=\"login\">로그인</a></li>\\r\\n\\t\\t\\t\\t<li><a href=\"https://www.hanbit.co.kr/member/member_agree.html\" class=\"join\">회원가입</a></li>\\r\\n\\t\\t\\t\\t<li><a href=\"https://www.hanbit.co.kr/myhanbit/myhanbit.html\" class=\"myhanbit\">마이한빛</a></li>\\r\\n\\t\\t\\t\\t<li><a href=\"https://www.hanbit.co.kr/myhanbit/cart.html\" class=\"cart\">장바구니</a></li>\\r\\n            \\t\\t\\t\\t<li class=\"top_menu_store\"><a href=\"https://www.hanbit.co.kr/publisher/foreignrights.html?lang=e\" target=\"_blank\">ENGLISH</a></li>\\r\\n\\t\\t\\t</ul>\\r\\n\\t\\t</div>\\r\\n\\t</nav>  <!-- //top menu -->\\r\\n\\r\\n  <div id=\"wrap_gnb\">\\r\\n    <!-- logo -->\\r\\n    <h1><a href=\"https://www.hanbit.co.kr/index.html\">한빛출판네트워크</a></h1>\\r\\n    <!-- //logo -->\\r\\n\\r\\n    <!-- Menu -->\\r\\n    <div id=\"gnb\" name=\"gnb\">\\r\\n      <ul>\\r\\n        <li><a href=\"https://www.hanbit.co.kr/brand/brand_submain.html\" class=\"\">BRAND</a></li>\\r\\n        <li><a href=\"https://www.hanbit.co.kr/channel/channel_submain.html\" class=\"\">Channel.H</a></li>\\r\\n        <li><a href=\"https://www.hanbit.co.kr/store/store_submain.html\" class=\"curr\">STORE</a></li>\\r\\n        <li><a href=\"https://www.hanbit.co.kr/support/help_info.html\" class=\"\">SUPPORT</a></li>\\r\\n        <li><a href=\"https://www.hanbit.co.kr/event/current/current_event_list.html\" class=\"\">EVENT</a></li>\\r\\n        \\r\\n        <li><a href=\"https://www.hanbit.co.kr/publisher/foreignrights.html?lang=e\" class=\"\" target=\"_blank\">RIGHTS</a></li>\\r\\n        \\r\\n        <li id=\"top_search\" class=\"search\"><a href=\"javascript:;\" onClick=\"view_hover(\\'main_search_area\\',\\'\\',\\'show\\'); $(\\'#keyword_str\\').focus();\"><span>SERACH</span></a></li>\\r\\n      </ul>\\r\\n    </div>\\r\\n    <!-- //Menu -->\\r\\n    \\r\\n    <!-- lnb -->\\r\\n    <div class=\"lnb\" style=\"top:92px;\">\\r\\n      <div class=\"lnb_area\">\\r\\n      <!-- BRAND -->\\r\\n            <ul class=\"lnb_depth1_category\">\\r\\n        <li onmouseover=\"view_hover(\\'category_store\\',\\'\\',\\'show\\')\" onMouseOut=\"view_hover(\\'category_store\\',\\'\\',\\'hide\\')\"><a href=\"#\" onFocus=\"view_hover(\\'category_store\\',\\'\\',\\'show\\')\" class=\"gnb_category\">카테고리</a>\\r\\n          <ul id=\"category_store\">\\r\\n\\r\\n                          <li onmouseover=\"view_hover(\\'category_store1\\',\\'\\',\\'show\\')\" onMouseOut=\"view_hover(\\'category_store1\\',\\'\\',\\'hide\\')\"><a href=\"/store/books/category_list.html?cate_cd=001\" onFocus=\"view_hover(\\'category_store1\\',\\'\\',\\'show\\')\">IT/모바일</a>\\r\\n                <ul id=\"category_store1\">\\r\\n                              <li><a href=\"/store/books/category_list.html?cate_cd=001001\">프로그래밍</a></li>      \\r\\n                              <li><a href=\"/store/books/category_list.html?cate_cd=001002\">웹</a></li>      \\r\\n                              <li><a href=\"/store/books/category_list.html?cate_cd=001003\">모바일/스마트기기</a></li>      \\r\\n                              <li><a href=\"/store/books/category_list.html?cate_cd=001013\">데이터베이스</a></li>      \\r\\n                              <li><a href=\"/store/books/category_list.html?cate_cd=001005\">운영체제</a></li>      \\r\\n                              <li><a href=\"/store/books/category_list.html?cate_cd=001014\">하드웨어</a></li>      \\r\\n                              <li><a href=\"/store/books/category_list.html?cate_cd=001015\">시스템/네트워크</a></li>      \\r\\n                              <li><a href=\"/store/books/category_list.html?cate_cd=001016\">보안</a></li>      \\r\\n                              <li><a href=\"/store/books/category_list.html?cate_cd=001009\">비즈니스/문화</a></li>      \\r\\n                              <li><a href=\"/store/books/category_list.html?cate_cd=001010\">게임</a></li>      \\r\\n                              <li><a href=\"/store/books/category_list.html?cate_cd=001017\">IT에세이</a></li>      \\r\\n                              <li><a href=\"/store/books/category_list.html?cate_cd=001012\">자격증</a></li>      \\r\\n                              <li><a href=\"/store/books/category_list.html?cate_cd=001018\">인공지능/데이터과학</a></li>      \\r\\n              </ul></li>              <li onmouseover=\"view_hover(\\'category_store2\\',\\'\\',\\'show\\')\" onMouseOut=\"view_hover(\\'category_store2\\',\\'\\',\\'hide\\')\"><a href=\"/store/books/category_list.html?cate_cd=002\" onFocus=\"view_hover(\\'category_store2\\',\\'\\',\\'show\\')\">MAKE</a>\\r\\n                <ul id=\"category_store2\">\\r\\n                              <li><a href=\"/store/books/category_list.html?cate_cd=002001\">Make 매거진</a></li>      \\r\\n                              <li><a href=\"/store/books/category_list.html?cate_cd=002002\">Make 프로젝트 북</a></li>      \\r\\n              </ul></li>              <li onmouseover=\"view_hover(\\'category_store3\\',\\'\\',\\'show\\')\" onMouseOut=\"view_hover(\\'category_store3\\',\\'\\',\\'hide\\')\"><a href=\"/store/books/category_list.html?cate_cd=003\" onFocus=\"view_hover(\\'category_store3\\',\\'\\',\\'show\\')\">IT활용</a>\\r\\n                <ul id=\"category_store3\">\\r\\n                              <li><a href=\"/store/books/category_list.html?cate_cd=003001\">오피스/OA</a></li>      \\r\\n                              <li><a href=\"/store/books/category_list.html?cate_cd=003002\">그래픽/멀티미디어</a></li>      \\r\\n                              <li><a href=\"/store/books/category_list.html?cate_cd=003003\">사진/예술</a></li>      \\r\\n                              <li><a href=\"/store/books/category_list.html?cate_cd=003004\">컴퓨터입문/IT교양</a></li>      \\r\\n              </ul></li>              <li onmouseover=\"view_hover(\\'category_store4\\',\\'\\',\\'show\\')\" onMouseOut=\"view_hover(\\'category_store4\\',\\'\\',\\'hide\\')\"><a href=\"/store/books/category_list.html?cate_cd=004\" onFocus=\"view_hover(\\'category_store4\\',\\'\\',\\'show\\')\">대학교재</a>\\r\\n                <ul id=\"category_store4\">\\r\\n                              <li><a href=\"/store/books/category_list.html?cate_cd=004007\">컴퓨터공학</a></li>      \\r\\n                              <li><a href=\"/store/books/category_list.html?cate_cd=004008\">정보통신/전기/전자</a></li>      \\r\\n                              <li><a href=\"/store/books/category_list.html?cate_cd=004003\">수학/과학/공학</a></li>      \\r\\n                              <li><a href=\"/store/books/category_list.html?cate_cd=004004\">프로그래밍/웹</a></li>      \\r\\n                              <li><a href=\"/store/books/category_list.html?cate_cd=004005\">그래픽/디자인</a></li>      \\r\\n                              <li><a href=\"/store/books/category_list.html?cate_cd=004006\">OA/활용</a></li>      \\r\\n                              <li><a href=\"/store/books/category_list.html?cate_cd=004009\">수험서/자격증</a></li>      \\r\\n              </ul></li>              <li onmouseover=\"view_hover(\\'category_store5\\',\\'\\',\\'show\\')\" onMouseOut=\"view_hover(\\'category_store5\\',\\'\\',\\'hide\\')\"><a href=\"/store/books/category_list.html?cate_cd=006\" onFocus=\"view_hover(\\'category_store5\\',\\'\\',\\'show\\')\">실용서</a>\\r\\n                <ul id=\"category_store5\">\\r\\n                              <li><a href=\"/store/books/category_list.html?cate_cd=006001\">취미/실용</a></li>      \\r\\n                              <li><a href=\"/store/books/category_list.html?cate_cd=006002\">여행</a></li>      \\r\\n                              <li><a href=\"/store/books/category_list.html?cate_cd=006003\">건강</a></li>      \\r\\n                              <li><a href=\"/store/books/category_list.html?cate_cd=006004\">유아/육아</a></li>      \\r\\n              </ul></li>              <li onmouseover=\"view_hover(\\'category_store6\\',\\'\\',\\'show\\')\" onMouseOut=\"view_hover(\\'category_store6\\',\\'\\',\\'hide\\')\"><a href=\"/store/books/category_list.html?cate_cd=007\" onFocus=\"view_hover(\\'category_store6\\',\\'\\',\\'show\\')\">경제/경영/인문</a>\\r\\n                <ul id=\"category_store6\">\\r\\n                              <li><a href=\"/store/books/category_list.html?cate_cd=007001\">경제/경영</a></li>      \\r\\n                              <li><a href=\"/store/books/category_list.html?cate_cd=007002\">자기계발</a></li>      \\r\\n                              <li><a href=\"/store/books/category_list.html?cate_cd=007003\">인문/교양</a></li>      \\r\\n                              <li><a href=\"/store/books/category_list.html?cate_cd=007004\">마케팅</a></li>      \\r\\n                              <li><a href=\"/store/books/category_list.html?cate_cd=007005\">에세이</a></li>      \\r\\n              </ul></li>              <li onmouseover=\"view_hover(\\'category_store7\\',\\'\\',\\'show\\')\" onMouseOut=\"view_hover(\\'category_store7\\',\\'\\',\\'hide\\')\"><a href=\"/store/books/category_list.html?cate_cd=008\" onFocus=\"view_hover(\\'category_store7\\',\\'\\',\\'show\\')\">유아/어린이/초등</a>\\r\\n                <ul id=\"category_store7\">\\r\\n                              <li><a href=\"/store/books/category_list.html?cate_cd=008001\">4~6세</a></li>      \\r\\n                              <li><a href=\"/store/books/category_list.html?cate_cd=008002\">5~7세</a></li>      \\r\\n                              <li><a href=\"/store/books/category_list.html?cate_cd=008003\">예비초등</a></li>      \\r\\n                              <li><a href=\"/store/books/category_list.html?cate_cd=008004\">초등교과연계 1~12영역</a></li>      \\r\\n                              <li><a href=\"/store/books/category_list.html?cate_cd=008005\">초등 전학년</a></li>      \\r\\n              </ul></li>            \\r\\n          <!-- 항상 노출 메뉴 -->          \\r\\n          <li class=\"gnb_category_series\"><a href=\"https://www.hanbit.co.kr/store/books/series_list.html\">시리즈</a></li>\\r\\n          <li class=\"gnb_category_reservations\"><a href=\"https://www.hanbit.co.kr/store/books/reservations_list.html\">예약도서</a></li>\\r\\n          <!--\\r\\n          <li class=\"gnb_category_full\"><a href=\"https://www.hanbit.co.kr/store/books/full_book_list.html\">전체도서목록</a></li>\\r\\n          -->\\r\\n          <!--/li-->\\r\\n        </ul>\\r\\n      </ul>\\r\\n      <!--/li-->        \\r\\n      <!--/ul-->\\r\\n\\r\\n      <ul class=\"lnb_depth1\">\\r\\n        <li><a href=\"https://www.hanbit.co.kr/store/books/new_book_list.html\">새로나온 책</a></li><span>l</span>\\r\\n        <li><a href=\"https://www.hanbit.co.kr/store/books/bestseller_list.html\">베스트셀러</a></li><span>l</span>\\r\\n        <li><a href=\"https://www.hanbit.co.kr/store/books/full_book_list.html\">전체도서목록</a></li><span>l</span>\\r\\n        <li><a href=\"https://www.hanbit.co.kr/store/education/edu_list.html\">교육</a></li><span>l</span>\\r\\n        <li><a href=\"https://www.hanbit.co.kr/store/item/item_list.html\">Item &amp; Maker Shed</a></li>\\r\\n      </ul>\\r\\n      \\r\\n      <!-- SUPPORT -->\\r\\n          </div>\\r\\n    </div>\\r\\n    <!--// lnb -->\\r\\n  </div>\\r\\n</header>\\r\\n<!-- //header -->\\r\\n\\r\\n<!-- 메인 검색 및 카테고리 영역 -->\\r\\n<div id=\"main_search_area\" class=\"fixed\" style=\"display:none;\">\\n  <div class=\"msa_wrap\">\\n\\n    <!-- 검색 -->\\n    <div class=\"msa_srch_wrap\">\\n      <form onsubmit=\"return false;\">\\n      <fieldset class=\"msa_srch_field\">\\n        <legend>한빛출판네트워크 검색</legend>\\n        <input title=\"검색어\" autocomplete=\"off\" class=\"srch_keyword\" accesskey=\"s\" type=\"text\" name=\"keyword_str\" id=\"keyword_str\" v-model=\"keyword\" @input=\"typeKeyword\">\\n        <input type=\"submit\" class=\"srch_btn\" style=\"cursor:pointer;\" @click=\"clickSearch\">\\n      </fieldset>\\n      </form>\\n    </div>\\n    <!-- //검색 -->\\n\\n    <!-- ① 인기검색어 -->\\n    <div class=\"msa_srch_polular\" v-if=\"showPopularKeyword === true\">\\n      <h2 class=\"tit\">인기 검색어 <span>(최근 1개월간)</span></h2>\\n        <div class=\"popula_box\">\\n          <ul class=\"left\">\\n            <li v-for=\"keyword in leftPopularKeywordList\">\\n              <a :class=\"keyword.bold\" @click=\"clickPopularKeyword(keyword)\">\\n                  {{ keyword.number }} {{ keyword.bookName }}\\n              </a>\\n            </li>\\n          </ul>\\n          <ul class=\"right\">\\n            <li v-for=\"keyword in rightPopularKeywordList\">\\n              <a :class=\"keyword.bold\" @click=\"clickPopularKeyword(keyword)\">\\n                  {{ keyword.number }} {{ keyword.bookName }}\\n              </a>\\n            </li>\\n          </ul>\\n        </div>\\n    </div>\\n    <!-- ① 인기검색어 -->\\n\\n    <!-- ② 검색결과/검색서제스쳔 -->\\n    <div class=\"msa_srch_suggestion\" v-if=\"showPopularKeyword === false\">\\n      <div class=\"sugg_left\" v-if=\"bookList.length !== 0\">\\n        <h3 class=\"tit\">BOOK</h3>\\n        <ul class=\"books_list\">\\n          <li v-for=\"book in bookList\" @mouseover=\"mouseOverBook(book.id)\"><a @click=\"clickBookKeyword(book)\"><p v-html=\"book.name\"></p></a></li>\\n        </ul>\\n      </div>\\n\\n      <div class=\"sugg_right\">\\n        <div class=\"sugg_book\" v-if=\"bookList.length !== 0\">\\n          <table class=\"sugg_book_detail\">\\n            <tr>\\n              <td class=\"cover\">\\n                <a @click=\"clickBookKeyword(bookSummary)\">\\n                  <img :src=\"bookSummary.imgUrl\" class=\"b_cover\">\\n                </a>\\n              </td>\\n              <td class=\"draft\">\\n                <a @click=\"clickBookKeyword(bookSummary)\" class=\"b_title\"><strong v-html=\"bookSummary.originName\"></strong></a>\\n                <p class=\"b_int\">\\n                {{ bookSummary.author }} 지음<br />\\n                {{ bookSummary.publishingCompany }} | {{ bookSummary.date }}\\n                </p>\\n                <p class=\"b_type\">\\n                <span>{{ bookSummary.bookType }}</span>\\n                </p>\\n              </td>\\n            </tr>\\n          </table>\\n        </div>\\n\\n        <div class=\"sugg_edu\" v-if=\"educationList.length !== 0\">\\n          <h3 class=\"tit\">EDUCATION</h3>\\n          <ul class=\"edu_list\">\\n            <li v-for=\"education in educationList\">&#149; <a @click=\"clickEducationKeyword(education)\"><span v-html=\"education.title\"></span></a></li>\\n          </ul>\\n        </div>\\n\\n        <div class=\"sugg_cont\" v-if=\"contentList.length !== 0\">\\n          <h3 class=\"tit\">CONTENTS</h3>\\n          <ul class=\"cont_list\">\\n            <li v-for=\"content in contentList\">&#149; <a @click=\"clickContentKeyword(content)\"><span v-html=\"content.title\"></span></a></li>\\n          </ul>\\n        </div>\\n      </div>\\n    </div>\\n    <!-- //② 검색결과/검색서제스쳔 -->\\n\\n  <!-- 닫기 -->\\n  <div class=\"msa_wrap_close\">\\n    <a href=\"javascript:;\" onclick=\"view_hover(\\'main_search_area\\',\\'\\',\\'hide\\')\">닫기</a>\\n  </div>\\n  <!-- //닫기 -->\\n\\n  </div>\\n</div>\\n\\n<!-- old // 구현시 필요없으면 삭제해도 됩니다.\\n<script type=\"text/javascript\">\\n  function sch_smit(){\\n    if(!$.trim($(\"#keyword_str\").val()).length) {\\n      alert(\"검색어를 입력해주세요\");\\n      $(\"#keyword_str\").focus();\\n      return false;\\n    }else{\\n      $(\"#gnbsearchfrm\").attr(\"action\",\"/search/search_list.html\");\\n      $(\"#gnbsearchfrm\").submit(); \\n    }\\n  }\\n</script>\\n-->\\n\\n<script type=\"text/javascript\">\\n    \"use strict\";\\n\\n    var common_top_search_vue = new Vue({\\n        el: \\'#main_search_area\\',\\n        data: {\\n            //검색엔진 URL\\n            searchProxyURL: \"https://search.hanbit.co.kr\",\\n            //인기 검색어 show 여부\\n            showPopularKeyword: true,\\n            //사용자 검색 키워드\\n            keyword: \\'\\',\\n            //인기 검색어 리스트\\n            popularKeywordList: [],\\n            // 인기 검색어 리스트 (왼쪽)\\n            leftPopularKeywordList: [],\\n            // 인기 검색어 리스트 (오른쪽)\\n            rightPopularKeywordList: [],\\n            // 자동완성에서의 책 리스트\\n            bookList: [],\\n            // 자동완성에서의 책 정보\\n            bookSummary: {\\n                \\'imgUrl\\': \\'\\',\\n                \\'link\\': \\'\\',\\n                \\'name\\': \\'\\',\\n                \\'author\\': \\'\\',\\n                \\'publishingCompany\\': \\'\\',\\n                \\'date\\': \\'\\',\\n                \\'bookType\\': \\'\\'\\n            },\\n            //에듀케이션 리스트\\n            educationList: [],\\n            //컨텐츠 리스트\\n            contentList: []\\n        },\\n        created: function created() {\\n            // 인기 검색어 조회\\n            this.getPopularKeyword();\\n        },\\n        methods: {\\n            /**\\n             * 사용자가 검색 키워드를 입력할때 발생하는 이벤트\\n             */\\n            typeKeyword: function typeKeyword() {\\n                var self = this;\\n                var keyword = $(\"#keyword_str\").val();\\n\\n                if (keyword.length !== 0) {\\n                    //자동완성어\\n                    this.findAutocompleteResult(keyword);\\n                } else {\\n                    //인기검색어\\n                    self.showPopularKeyword = true;\\n                }\\n            },\\n\\n            /**\\n             * 인기검색어 조회\\n             */\\n            getPopularKeyword: function getPopularKeyword() {\\n                var self = this;\\n                this.popularKeywordList = [];\\n                $.get(this.searchProxyURL + \"/querylog/popularKeyword\").done(function (data) {\\n                    if (data != null) {\\n                        self.drawPopularKeyword(data);\\n                    }\\n                });\\n            },\\n\\n            /**\\n             * 인기 검색어 그리기\\n             */\\n            drawPopularKeyword: function drawPopularKeyword(popularBooks) {\\n                var self = this;\\n                popularBooks.forEach(function (item) {\\n                    var popularBook = {\\n                        bookName: item.keyword\\n                    };\\n                    self.popularKeywordList.push(popularBook);\\n                });\\n                var number = 0;\\n\\n                for (var _iterator = this.popularKeywordList, _isArray = Array.isArray(_iterator), _i = 0, _iterator = _isArray ? _iterator : _iterator[Symbol.iterator]();;) {\\n                    var _ref;\\n\\n                    if (_isArray) {\\n                        if (_i >= _iterator.length) break;\\n                        _ref = _iterator[_i++];\\n                    } else {\\n                        _i = _iterator.next();\\n                        if (_i.done) break;\\n                        _ref = _i.value;\\n                    }\\n\\n                    var keyword = _ref;\\n                    number = number + 1;\\n                    keyword.number = number.toString().length < 2 ? \"0\" + number : number;\\n\\n                    if (number > 5) {\\n                        keyword.direction = \"right\";\\n                        self.rightPopularKeywordList.push(keyword);\\n                    } else {\\n                        keyword.direction = \"left\";\\n\\n                        if (number < 4) {\\n                            keyword.bold = \\'active\\';\\n                        }\\n\\n                        self.leftPopularKeywordList.push(keyword);\\n                    }\\n                }\\n            },\\n\\n            /**\\n             * 자동완성 검색 결과\\n             */\\n            findAutocompleteResult: function findAutocompleteResult(keyword) {\\n                var self = this;\\n                var param = {\\n                    q: keyword,\\n                    types: \"education,book,contents\",\\n                    fq: keyword\\n                };\\n                $.post(this.searchProxyURL + \"/autocomplete/search\", param).done(function (data) {\\n                    if (data != null) {\\n                        var bookResult = data.booksResults;\\n                        self.changeBookList(keyword, bookResult);\\n                        var contentResult = data.contentsResults;\\n                        self.changeContentList(keyword, contentResult);\\n                        var educationResult = data.educationResults;\\n                        self.changeEducationList(keyword, educationResult);\\n                    }\\n                });\\n                this.showPopularKeyword = false;\\n            },\\n\\n            /**\\n             * 자동완성어에서 BOOK 부분에서 마우스를 올렸을 시에 발생하는 이벤트\\n             * @param bookId\\n             */\\n            mouseOverBook: function mouseOverBook(bookId) {\\n                var currentBook = this.bookList.filter(function (book) {\\n                    return book.id === bookId;\\n                });\\n                this.changeBookSummary(currentBook[0]);\\n            },\\n\\n            /**\\n             * 책 소개 변경\\n             * @param book\\n             */\\n            changeBookSummary: function changeBookSummary(book) {\\n                if (book !== {}) {\\n                    this.bookSummary.name = book.name;\\n                    this.bookSummary.originName = book.originName;\\n                    this.bookSummary.author = book.author;\\n                    this.bookSummary.bookType = book.bookType;\\n                    this.bookSummary.imgUrl = book.imgUrl;\\n                    this.bookSummary.link = book.link;\\n                    this.bookSummary.publishingCompany = book.publishingCompany;\\n                    this.bookSummary.date = book.date;\\n                    this.bookSummary.bookType = book.bookType;\\n                }\\n            },\\n\\n            /**\\n             * BOOK 리스트 변경\\n             */\\n            changeBookList: function changeBookList(keyword, bookResultList) {\\n                var self = this;\\n                self.bookList = [];\\n                var index = 0;\\n\\n                if (bookResultList != null) {\\n                    for (var _iterator2 = bookResultList, _isArray2 = Array.isArray(_iterator2), _i2 = 0, _iterator2 = _isArray2 ? _iterator2 : _iterator2[Symbol.iterator]();;) {\\n                        var _ref2;\\n\\n                        if (_isArray2) {\\n                            if (_i2 >= _iterator2.length) break;\\n                            _ref2 = _iterator2[_i2++];\\n                        } else {\\n                            _i2 = _iterator2.next();\\n                            if (_i2.done) break;\\n                            _ref2 = _i2.value;\\n                        }\\n\\n                        var result = _ref2;\\n\\n                        if (index < 10) {\\n                            var book = {};\\n                            book.id = result.code;\\n                            book.originName = result.title;\\n                            book.name = JSON.parse(JSON.stringify(self.replaceHighlightWord(result.title, keyword)));\\n                            book.link = result.code;\\n                            book.imgUrl = self.getBookImageURL(result.code);\\n                            book.author = result.author;\\n                            book.publishingCompany = result.brand;\\n                            book.date = result.pubDate;\\n                            book.bookType = result.bookType;\\n                            self.bookList.push(book); //책 미리보기 변경\\n\\n                            self.changeBookSummary(self.bookList[0]);\\n                        }\\n                    }\\n                } else {\\n                    self.initBookSummary();\\n                }\\n            },\\n\\n            /**\\n             * 책 이미지 주소 가져오기\\n             */\\n            getBookImageURL: function getBookImageURL(bookCode) {\\n                var imgURL;\\n\\n                if (bookCode.substr(0, 1) === \"E\") {\\n                    imgURL = \\'/data/ebook/\\' + bookCode + \\'_m.jpg\\';\\n                } else {\\n                    imgURL = \\'/data/books/\\' + bookCode + \"_m.jpg\";\\n                }\\n\\n                return imgURL;\\n            },\\n\\n            /**\\n             * 검색 결과가 없을 경우 책 미리보기 초기화\\n             */\\n            initBookSummary: function initBookSummary() {\\n                this.bookSummary = {\\n                    \\'imgUrl\\': \\'\\',\\n                    \\'link\\': \\'\\',\\n                    \\'name\\': \\'\\',\\n                    \\'author\\': \\'\\',\\n                    \\'publishingCompany\\': \\'\\',\\n                    \\'date\\': \\'\\',\\n                    \\'bookType\\': \\'\\'\\n                };\\n            },\\n\\n            /**\\n             * education 리스트 변경\\n             */\\n            changeEducationList: function changeEducationList(keyword, educationResultList) {\\n                var self = this;\\n                self.educationList = [];\\n                var index = 0;\\n\\n                if (educationResultList != null) {\\n                    for (var _iterator3 = educationResultList, _isArray3 = Array.isArray(_iterator3), _i3 = 0, _iterator3 = _isArray3 ? _iterator3 : _iterator3[Symbol.iterator]();;) {\\n                        var _ref3;\\n\\n                        if (_isArray3) {\\n                            if (_i3 >= _iterator3.length) break;\\n                            _ref3 = _iterator3[_i3++];\\n                        } else {\\n                            _i3 = _iterator3.next();\\n                            if (_i3.done) break;\\n                            _ref3 = _i3.value;\\n                        }\\n\\n                        var result = _ref3;\\n\\n                        if (index < 3) {\\n                            var content = {};\\n                            content.title = JSON.parse(JSON.stringify(self.replaceHighlightWord(result.title, keyword)));\\n                            content.link = result.code;\\n                            self.educationList.push(content);\\n                            index = index + 1;\\n                        }\\n                    }\\n                }\\n            },\\n\\n            /**\\n             * contents 리스트 변경\\n             */\\n            changeContentList: function changeContentList(keyword, contentResult) {\\n                var self = this;\\n                self.contentList = [];\\n                var index = 0;\\n\\n                if (contentResult != null) {\\n                    for (var _iterator4 = contentResult, _isArray4 = Array.isArray(_iterator4), _i4 = 0, _iterator4 = _isArray4 ? _iterator4 : _iterator4[Symbol.iterator]();;) {\\n                        var _ref4;\\n\\n                        if (_isArray4) {\\n                            if (_i4 >= _iterator4.length) break;\\n                            _ref4 = _iterator4[_i4++];\\n                        } else {\\n                            _i4 = _iterator4.next();\\n                            if (_i4.done) break;\\n                            _ref4 = _i4.value;\\n                        }\\n\\n                        var result = _ref4;\\n\\n                        if (index < 3) {\\n                            var content = {};\\n                            content.title = JSON.parse(JSON.stringify(self.replaceHighlightWord(result.title, keyword)));\\n                            content.link = result.code;\\n                            self.contentList.push(content);\\n                            index = index + 1;\\n                        }\\n                    }\\n                }\\n            },\\n\\n            /**\\n             * 하이라이트 표시\\n             */\\n            replaceHighlightWord: function replaceHighlightWord(str, highlightKeyword) {\\n                var replaceHighlightKeyword = highlightKeyword.replace(/[^a-z0-9가-힣_ ]/gi, \\'\\');\\n                var regEx = new RegExp(replaceHighlightKeyword, \"gi\");\\n                str = str.replace(regEx, function (a) {\\n                    return \\'<span class=\"keysel\">\\' + a + \\'</span>\\';\\n                });\\n                return str;\\n            },\\n\\n            /**\\n             * 검색 버튼 클릭 시\\n             * @param e\\n             */\\n            clickSearch: function clickSearch(e) {\\n                if (!this.keyword || this.keyword.length === 0) {\\n                    alert(\"검색어를 입력하세요\");\\n                    $(\"#keyword_str\").focus();\\n                    e.preventDefault();\\n                } else {\\n                    location.href = \"/search/search_list.html?keyword=\" + this.keyword;\\n                }\\n            },\\n\\n            /**\\n             * 인기 검색어 클릭시\\n             * @param book\\n             */\\n            clickPopularKeyword: function clickPopularKeyword(book) {\\n                var searchKeyword = book.bookName;\\n                location.href = \"/search/search_list.html?keyword=\" + searchKeyword;\\n            },\\n\\n            /**\\n             * 책 검색어 클릭시 책 상세로 이동\\n             * @param book\\n             */\\n            clickBookKeyword: function clickBookKeyword(book) {\\n                location.href = \"/store/books/look.php?p_code=\" + book.link;\\n            },\\n\\n            /**\\n             * 교육 클릭시 교육 상세로 이동\\n             * @param education\\n             */\\n            clickEducationKeyword: function clickEducationKeyword(education) {\\n                location.href = \"/store/education/edu_view.html?p_code=\" + education.link;\\n            },\\n\\n            /**\\n             * 컨텐츠 클릭시 컨텐츠 상세로 이동\\n             * @param contents\\n             */\\n            clickContentKeyword: function clickContentKeyword(content) {\\n                location.href = \"/channel/category/category_view.html?cms_code=\" + content.link;\\n            }\\n        }\\n    });\\n</script>\\n<!-- //메인 검색 및 카테고리 영역 -->\\r\\n\\r\\n<!-- Contents -->\\r\\n<div id=\"container\">\\r\\n\\t<div class=\"docu_title\">\\r\\n\\t\\t<h2>전체도서목록</h2>\\r\\n\\t</div>\\r\\n\\t\\r\\n\\t<!-- 전체도서목록 wrap -->\\r\\n\\t<div class=\"full_book_list_wrap\">\\r\\n\\t\\t<!-- 브랜드 정렬 버튼 -->\\r\\n\\t\\t\\r\\n        <div class=\"btn_brand_area\">       \\r\\n\\t\\t\\t<ul>\\r\\n\\t\\t\\t\\t<li class=\"curr\">\\r\\n                \\t<a href=\"/store/books/full_book_list.html\">\\r\\n                    \\t                    <span class=\"name_full\">전체</span>\\r\\n                                        </a>\\r\\n                    \\r\\n                </li>\\r\\n\\t\\t\\t\\t<li >\\r\\n\\t\\t\\t\\t\\t<a href=\"/store/books/full_book_list.html?brand=HM\">\\r\\n                                        \\t<span class=\"name_abbr\">M</span>\\r\\n                    \\t\\t\\t\\t\\t</a>\\r\\n\\t\\t\\t\\t</li>\\r\\n\\r\\n\\t\\t\\t\\t<li >\\r\\n                \\t<a href=\"/store/books/full_book_list.html?brand=HA\">\\r\\n                                        \\t<span class=\"name_abbr\">A</span>\\r\\n                    \\t\\t\\t\\t\\t</a>\\r\\n                </li>\\r\\n\\t\\t\\t\\t<li >\\r\\n                \\t<a href=\"/store/books/full_book_list.html?brand=HB\">\\r\\n                                        \\t<span class=\"name_abbr\">B</span>\\r\\n                    \\t\\t\\t\\t\\t</a>\\r\\n                </li>\\r\\n\\t\\t\\t\\t<li >\\r\\n                \\t<a href=\"/store/books/full_book_list.html?brand=HL\">\\r\\n                                        \\t<span class=\"name_abbr\">L</span>\\r\\n                    \\t\\t\\t\\t\\t</a>\\r\\n                </li>\\r\\n\\t\\t\\t\\t<li >\\r\\n                \\t<a href=\"/store/books/full_book_list.html?brand=HE\">\\r\\n                                        \\t<span class=\"name_abbr\">E</span>\\r\\n                    \\t\\t\\t\\t\\t</a>\\r\\n                </li>\\r\\n\\t\\t\\t\\t<li >\\r\\n                \\t<a href=\"/store/books/full_book_list.html?brand=HR\">\\r\\n                                        \\t<span class=\"name_abbr\">R</span>\\r\\n                    \\t\\t\\t\\t\\t</a>\\r\\n                </li>\\r\\n\\t\\t\\t\\t<li >\\r\\n                \\t<a href=\"/store/books/full_book_list.html?brand=MK\">\\r\\n                                        \\t<span class=\"name_abbr\">MK</span>\\r\\n                    \\t\\t\\t\\t\\t</a>\\r\\n                </li>\\r\\n\\t\\t\\t\\t\\r\\n\\t\\t\\t</ul>\\r\\n\\t\\t</div>\\r\\n\\r\\n\\r\\n\\r\\n\\t\\t<!-- //브랜드 정렬 버튼 -->\\r\\n\\t\\t\\r\\n\\t\\t<!-- 출간일/도서명 순-->\\r\\n\\t\\t<div class=\"series_lineup\">\\r\\n\\t\\t\\t<ul>\\r\\n\\t\\t\\t\\t<li><a href=\"/store/books/full_book_list.html?srt=p_pub_date&brand=\"  class=\"curr\" >출간일 순</a></li>\\r\\n\\t\\t\\t\\t<li><a href=\"/store/books/full_book_list.html?srt=p_title&brand=\" >도서명 순</a></li>\\r\\n\\t\\t\\t</ul>\\r\\n\\t\\t</div>\\r\\n\\t\\t<!-- //출간일/도서명 순-->\\r\\n\\t\\t\\r\\n\\t\\t<!-- 전체 목록 다운로드 버튼-->\\r\\n\\t\\t<div class=\"btn_full_list\"><a href=\"javascript:document.frm.submit();\">전체 목록 다운로드</a></div>\\r\\n\\t\\t\\r\\n\\t\\t<!-- 책 리스트 -->\\r\\n\\t\\t<div class=\"table_area\">\\r\\n\\t\\t\\t<table class=\"tbl_type_list\" border=\"0\" cellspacing=\"0\" summary=\"전체목록 리스트 테이블\">\\r\\n\\t\\t\\t\\t<caption>전체목록 리스트</caption>\\r\\n\\t\\t\\t\\t<colgroup>\\r\\n\\t\\t\\t\\t<col width=\"180px\">\\r\\n\\t\\t\\t\\t<col width=\"\">\\r\\n\\t\\t\\t\\t<col width=\"160px\">\\r\\n\\t\\t\\t\\t<col width=\"134px\">\\r\\n\\t\\t\\t\\t<col width=\"130px\">\\r\\n\\t\\t\\t\\t</colgroup>\\r\\n\\t\\t\\t\\t<thead>\\r\\n\\t\\t\\t\\t\\t<tr>\\r\\n\\t\\t\\t\\t\\t\\t<th scope=\"col\">브랜드</th>\\r\\n\\t\\t\\t\\t\\t\\t<th scope=\"col\">도서명</th>\\r\\n\\t\\t\\t\\t\\t\\t<th scope=\"col\">저자</th>\\r\\n\\t\\t\\t\\t\\t\\t<th scope=\"col\">발행일</th>\\r\\n\\t\\t\\t\\t\\t\\t<th scope=\"col\">정가</th>\\r\\n\\t\\t\\t\\t\\t</tr>\\r\\n\\t\\t\\t\\t</thead>\\r\\n\\t\\t\\t\\t<tbody>\\r\\n\\t\\t\\t\\t\\t\\t\\t\\t\\t<tr>\\r\\n\\t\\t\\t\\t\\t\\t<td class=\"brd_b\">한빛비즈</td>\\r\\n\\t\\t\\t\\t\\t\\t<td class=\"left\"><a href=\"/store/books/look.php?p_code=B1057946120\">기술의 시대</a></td>\\r\\n\\t\\t\\t\\t\\t\\t\\t\\t\\t\\t\\t\\t\\t<td class=\"left\">브래드 스미스 외 1명  </td>\\r\\n\\t\\t\\t\\t\\t\\t\\t\\t\\t\\t\\t\\t<td>2021-03-15</td>\\r\\n\\t\\t\\t\\t\\t\\t<td class=\"right\">25,000원</td>\\r\\n\\t\\t\\t\\t\\t</tr>\\r\\n\\r\\n\\t\\t\\t\\t\\t\\t\\t\\t\\t\\t<tr>\\r\\n\\t\\t\\t\\t\\t\\t<td class=\"brd_m\">한빛미디어</td>\\r\\n\\t\\t\\t\\t\\t\\t<td class=\"left\"><a href=\"/store/books/look.php?p_code=B4734841062\">맛있는 디자인 프리미어 프로 CC 2021</a></td>\\r\\n\\t\\t\\t\\t\\t\\t\\t\\t\\t\\t\\t\\t\\t<td class=\"left\">정지원 외 3명  </td>\\r\\n\\t\\t\\t\\t\\t\\t\\t\\t\\t\\t\\t\\t<td>2021-03-12</td>\\r\\n\\t\\t\\t\\t\\t\\t<td class=\"right\">24,000원</td>\\r\\n\\t\\t\\t\\t\\t</tr>\\r\\n\\r\\n\\t\\t\\t\\t\\t\\t\\t\\t\\t\\t<tr>\\r\\n\\t\\t\\t\\t\\t\\t<td class=\"brd_m\">한빛미디어</td>\\r\\n\\t\\t\\t\\t\\t\\t<td class=\"left\"><a href=\"/store/books/look.php?p_code=B9417661237\">GAN 첫걸음</a></td>\\r\\n\\t\\t\\t\\t\\t\\t\\t\\t\\t\\t\\t\\t\\t<td class=\"left\">타리크 라시드   </td>\\r\\n\\t\\t\\t\\t\\t\\t\\t\\t\\t\\t\\t\\t<td>2021-03-10</td>\\r\\n\\t\\t\\t\\t\\t\\t<td class=\"right\">25,000원</td>\\r\\n\\t\\t\\t\\t\\t</tr>\\r\\n\\r\\n\\t\\t\\t\\t\\t\\t\\t\\t\\t\\t<tr>\\r\\n\\t\\t\\t\\t\\t\\t<td class=\"brd_m\">한빛미디어</td>\\r\\n\\t\\t\\t\\t\\t\\t<td class=\"left\"><a href=\"/store/books/look.php?p_code=B8371133122\">디노 첫걸음</a></td>\\r\\n\\t\\t\\t\\t\\t\\t\\t\\t\\t\\t\\t\\t\\t<td class=\"left\">페르난도 돌리오   </td>\\r\\n\\t\\t\\t\\t\\t\\t\\t\\t\\t\\t\\t\\t<td>2021-03-10</td>\\r\\n\\t\\t\\t\\t\\t\\t<td class=\"right\">17,000원</td>\\r\\n\\t\\t\\t\\t\\t</tr>\\r\\n\\r\\n\\t\\t\\t\\t\\t\\t\\t\\t\\t\\t<tr>\\r\\n\\t\\t\\t\\t\\t\\t<td class=\"brd_m\">한빛미디어</td>\\r\\n\\t\\t\\t\\t\\t\\t<td class=\"left\"><a href=\"/store/books/look.php?p_code=B4979866790\">맛있는 디자인 일러스트레이터 CC 2021</a></td>\\r\\n\\t\\t\\t\\t\\t\\t\\t\\t\\t\\t\\t\\t\\t<td class=\"left\">빨간고래(박정아)   </td>\\r\\n\\t\\t\\t\\t\\t\\t\\t\\t\\t\\t\\t\\t<td>2021-03-09</td>\\r\\n\\t\\t\\t\\t\\t\\t<td class=\"right\">24,000원</td>\\r\\n\\t\\t\\t\\t\\t</tr>\\r\\n\\r\\n\\t\\t\\t\\t\\t\\t\\t\\t\\t\\t<tr>\\r\\n\\t\\t\\t\\t\\t\\t<td class=\"brd_a\">한빛아카데미</td>\\r\\n\\t\\t\\t\\t\\t\\t<td class=\"left\"><a href=\"/store/books/look.php?p_code=B6808882615\">4차 산업혁명 시대를 위한 e-비즈니스 개론&#40;4판&#41;</a></td>\\r\\n\\t\\t\\t\\t\\t\\t\\t\\t\\t\\t\\t\\t\\t<td class=\"left\">이동훈   </td>\\r\\n\\t\\t\\t\\t\\t\\t\\t\\t\\t\\t\\t\\t<td>2021-03-07</td>\\r\\n\\t\\t\\t\\t\\t\\t<td class=\"right\">27,000원</td>\\r\\n\\t\\t\\t\\t\\t</tr>\\r\\n\\r\\n\\t\\t\\t\\t\\t\\t\\t\\t\\t\\t<tr>\\r\\n\\t\\t\\t\\t\\t\\t<td class=\"brd_l\">한빛라이프</td>\\r\\n\\t\\t\\t\\t\\t\\t<td class=\"left\"><a href=\"/store/books/look.php?p_code=B3104313168\">사실은 사랑받고 싶었어</a></td>\\r\\n\\t\\t\\t\\t\\t\\t\\t\\t\\t\\t\\t\\t\\t<td class=\"left\">박재연 외 1명  </td>\\r\\n\\t\\t\\t\\t\\t\\t\\t\\t\\t\\t\\t\\t<td>2021-03-05</td>\\r\\n\\t\\t\\t\\t\\t\\t<td class=\"right\">14,800원</td>\\r\\n\\t\\t\\t\\t\\t</tr>\\r\\n\\r\\n\\t\\t\\t\\t\\t\\t\\t\\t\\t\\t<tr>\\r\\n\\t\\t\\t\\t\\t\\t<td class=\"brd_b\">한빛비즈</td>\\r\\n\\t\\t\\t\\t\\t\\t<td class=\"left\"><a href=\"/store/books/look.php?p_code=B6068039583\">대한민국 부동산 미래지도</a></td>\\r\\n\\t\\t\\t\\t\\t\\t\\t\\t\\t\\t\\t\\t\\t<td class=\"left\">김학렬(빠숑)   </td>\\r\\n\\t\\t\\t\\t\\t\\t\\t\\t\\t\\t\\t\\t<td>2021-03-04</td>\\r\\n\\t\\t\\t\\t\\t\\t<td class=\"right\">33,500원</td>\\r\\n\\t\\t\\t\\t\\t</tr>\\r\\n\\r\\n\\t\\t\\t\\t\\t\\t\\t\\t\\t\\t<tr>\\r\\n\\t\\t\\t\\t\\t\\t<td class=\"brd_m\">한빛미디어</td>\\r\\n\\t\\t\\t\\t\\t\\t<td class=\"left\"><a href=\"/store/books/look.php?p_code=B1925383546\">맛있는 디자인 포토샵 CC 2021</a></td>\\r\\n\\t\\t\\t\\t\\t\\t\\t\\t\\t\\t\\t\\t\\t<td class=\"left\">윤이사라(포완카) 외 1명  </td>\\r\\n\\t\\t\\t\\t\\t\\t\\t\\t\\t\\t\\t\\t<td>2021-03-03</td>\\r\\n\\t\\t\\t\\t\\t\\t<td class=\"right\">21,000원</td>\\r\\n\\t\\t\\t\\t\\t</tr>\\r\\n\\r\\n\\t\\t\\t\\t\\t\\t\\t\\t\\t\\t<tr>\\r\\n\\t\\t\\t\\t\\t\\t<td class=\"brd_m\">한빛미디어</td>\\r\\n\\t\\t\\t\\t\\t\\t<td class=\"left\"><a href=\"/store/books/look.php?p_code=B1863505588\">맛있는 디자인 애프터 이펙트 CC 2021</a></td>\\r\\n\\t\\t\\t\\t\\t\\t\\t\\t\\t\\t\\t\\t\\t<td class=\"left\">이수정   </td>\\r\\n\\t\\t\\t\\t\\t\\t\\t\\t\\t\\t\\t\\t<td>2021-03-03</td>\\r\\n\\t\\t\\t\\t\\t\\t<td class=\"right\">24,000원</td>\\r\\n\\t\\t\\t\\t\\t</tr>\\r\\n\\r\\n\\t\\t\\t\\t\\t\\t\\t\\t\\t\\t<tr>\\r\\n\\t\\t\\t\\t\\t\\t<td class=\"brd_m\">한빛미디어</td>\\r\\n\\t\\t\\t\\t\\t\\t<td class=\"left\"><a href=\"/store/books/look.php?p_code=B3866059305\">친절한 딥러닝 수학</a></td>\\r\\n\\t\\t\\t\\t\\t\\t\\t\\t\\t\\t\\t\\t\\t<td class=\"left\">다테이시 겐고   </td>\\r\\n\\t\\t\\t\\t\\t\\t\\t\\t\\t\\t\\t\\t<td>2021-03-02</td>\\r\\n\\t\\t\\t\\t\\t\\t<td class=\"right\">28,000원</td>\\r\\n\\t\\t\\t\\t\\t</tr>\\r\\n\\r\\n\\t\\t\\t\\t\\t\\t\\t\\t\\t\\t<tr>\\r\\n\\t\\t\\t\\t\\t\\t<td class=\"brd_m\">한빛미디어</td>\\r\\n\\t\\t\\t\\t\\t\\t<td class=\"left\"><a href=\"/store/books/look.php?p_code=B3136457679\">이것이 안드로이드다 with 코틀린&#40;개정판&#41;</a></td>\\r\\n\\t\\t\\t\\t\\t\\t\\t\\t\\t\\t\\t\\t\\t<td class=\"left\">고돈호   </td>\\r\\n\\t\\t\\t\\t\\t\\t\\t\\t\\t\\t\\t\\t<td>2021-03-02</td>\\r\\n\\t\\t\\t\\t\\t\\t<td class=\"right\">34,000원</td>\\r\\n\\t\\t\\t\\t\\t</tr>\\r\\n\\r\\n\\t\\t\\t\\t\\t\\t\\t\\t\\t\\t<tr>\\r\\n\\t\\t\\t\\t\\t\\t<td class=\"brd_b\">한빛비즈</td>\\r\\n\\t\\t\\t\\t\\t\\t<td class=\"left\"><a href=\"/store/books/look.php?p_code=B5204105767\">상위 1% 아이가 하고 있는 서울대 아빠식 문해력 독서법</a></td>\\r\\n\\t\\t\\t\\t\\t\\t\\t\\t\\t\\t\\t\\t\\t<td class=\"left\">이재익 외 1명  </td>\\r\\n\\t\\t\\t\\t\\t\\t\\t\\t\\t\\t\\t\\t<td>2021-03-02</td>\\r\\n\\t\\t\\t\\t\\t\\t<td class=\"right\">16,800원</td>\\r\\n\\t\\t\\t\\t\\t</tr>\\r\\n\\r\\n\\t\\t\\t\\t\\t\\t\\t\\t\\t\\t<tr>\\r\\n\\t\\t\\t\\t\\t\\t<td class=\"brd_b\">한빛비즈</td>\\r\\n\\t\\t\\t\\t\\t\\t<td class=\"left\"><a href=\"/store/books/look.php?p_code=B3906016843\">누구 먼저 살려야 할까</a></td>\\r\\n\\t\\t\\t\\t\\t\\t\\t\\t\\t\\t\\t\\t\\t<td class=\"left\">제이콥 M. 애펠   </td>\\r\\n\\t\\t\\t\\t\\t\\t\\t\\t\\t\\t\\t\\t<td>2021-02-28</td>\\r\\n\\t\\t\\t\\t\\t\\t<td class=\"right\">17,800원</td>\\r\\n\\t\\t\\t\\t\\t</tr>\\r\\n\\r\\n\\t\\t\\t\\t\\t\\t\\t\\t\\t\\t<tr>\\r\\n\\t\\t\\t\\t\\t\\t<td class=\"brd_m\">한빛미디어</td>\\r\\n\\t\\t\\t\\t\\t\\t<td class=\"left\"><a href=\"/store/books/look.php?p_code=B9469058200\">모션 그래픽&영상 디자인 강의 with 애프터 이펙트&#40;10년차 디자이너에게 1:1로 배우는&#41;</a></td>\\r\\n\\t\\t\\t\\t\\t\\t\\t\\t\\t\\t\\t\\t\\t<td class=\"left\">장유민   </td>\\r\\n\\t\\t\\t\\t\\t\\t\\t\\t\\t\\t\\t\\t<td>2021-02-25</td>\\r\\n\\t\\t\\t\\t\\t\\t<td class=\"right\">26,000원</td>\\r\\n\\t\\t\\t\\t\\t</tr>\\r\\n\\r\\n\\t\\t\\t\\t\\t\\t\\t\\t\\t\\t<tr>\\r\\n\\t\\t\\t\\t\\t\\t<td class=\"brd_a\">한빛아카데미</td>\\r\\n\\t\\t\\t\\t\\t\\t<td class=\"left\"><a href=\"/store/books/look.php?p_code=B9718869266\">IT CookBook, C 언어 일취월장&#40;2판&#41;</a></td>\\r\\n\\t\\t\\t\\t\\t\\t\\t\\t\\t\\t\\t\\t\\t<td class=\"left\">신윤환   </td>\\r\\n\\t\\t\\t\\t\\t\\t\\t\\t\\t\\t\\t\\t<td>2021-02-24</td>\\r\\n\\t\\t\\t\\t\\t\\t<td class=\"right\">28,000원</td>\\r\\n\\t\\t\\t\\t\\t</tr>\\r\\n\\r\\n\\t\\t\\t\\t\\t\\t\\t\\t\\t\\t<tr>\\r\\n\\t\\t\\t\\t\\t\\t<td class=\"brd_e\">한빛에듀</td>\\r\\n\\t\\t\\t\\t\\t\\t<td class=\"left\"><a href=\"/store/books/look.php?p_code=B9215599842\">재미있고 빠른 어휘력 동화 – 두근두근 이 마음은 뭘까</a></td>\\r\\n\\t\\t\\t\\t\\t\\t\\t\\t\\t\\t\\t\\t\\t<td class=\"left\">김세실 외 1명  </td>\\r\\n\\t\\t\\t\\t\\t\\t\\t\\t\\t\\t\\t\\t<td>2021-02-20</td>\\r\\n\\t\\t\\t\\t\\t\\t<td class=\"right\">12,000원</td>\\r\\n\\t\\t\\t\\t\\t</tr>\\r\\n\\r\\n\\t\\t\\t\\t\\t\\t\\t\\t\\t\\t<tr>\\r\\n\\t\\t\\t\\t\\t\\t<td class=\"brd_e\">한빛에듀</td>\\r\\n\\t\\t\\t\\t\\t\\t<td class=\"left\"><a href=\"/store/books/look.php?p_code=B3011560884\">재미있고 빠른 어휘력 동화 – 키득키득 재밌는 의성어 의태어</a></td>\\r\\n\\t\\t\\t\\t\\t\\t\\t\\t\\t\\t\\t\\t\\t<td class=\"left\">김예실 외 1명  </td>\\r\\n\\t\\t\\t\\t\\t\\t\\t\\t\\t\\t\\t\\t<td>2021-02-20</td>\\r\\n\\t\\t\\t\\t\\t\\t<td class=\"right\">12,000원</td>\\r\\n\\t\\t\\t\\t\\t</tr>\\r\\n\\r\\n\\t\\t\\t\\t\\t\\t\\t\\t\\t\\t<tr>\\r\\n\\t\\t\\t\\t\\t\\t<td class=\"brd_m\">한빛미디어</td>\\r\\n\\t\\t\\t\\t\\t\\t<td class=\"left\"><a href=\"/store/books/look.php?p_code=B3641625998\">웹 애플리케이션 보안</a></td>\\r\\n\\t\\t\\t\\t\\t\\t\\t\\t\\t\\t\\t\\t\\t<td class=\"left\">앤드루 호프먼   </td>\\r\\n\\t\\t\\t\\t\\t\\t\\t\\t\\t\\t\\t\\t<td>2021-02-19</td>\\r\\n\\t\\t\\t\\t\\t\\t<td class=\"right\">30,000원</td>\\r\\n\\t\\t\\t\\t\\t</tr>\\r\\n\\r\\n\\t\\t\\t\\t\\t\\t\\t\\t\\t\\t<tr>\\r\\n\\t\\t\\t\\t\\t\\t<td class=\"brd_a\">한빛아카데미</td>\\r\\n\\t\\t\\t\\t\\t\\t<td class=\"left\"><a href=\"/store/books/look.php?p_code=B4024148490\">IT CookBook, SQL Server로 배우는 데이터베이스 개론과 실습&#40;2판&#41;</a></td>\\r\\n\\t\\t\\t\\t\\t\\t\\t\\t\\t\\t\\t\\t\\t<td class=\"left\">박우창 외 2명  </td>\\r\\n\\t\\t\\t\\t\\t\\t\\t\\t\\t\\t\\t\\t<td>2021-02-10</td>\\r\\n\\t\\t\\t\\t\\t\\t<td class=\"right\">29,000원</td>\\r\\n\\t\\t\\t\\t\\t</tr>\\r\\n\\r\\n\\t\\t\\t\\t\\t\\t\\t\\t\\t\\t<tr>\\r\\n\\t\\t\\t\\t\\t\\t<td class=\"brd_e\">한빛에듀</td>\\r\\n\\t\\t\\t\\t\\t\\t<td class=\"left\"><a href=\"/store/books/look.php?p_code=B7570034357\">한글 재미 그림책 – 펭토벤과 아야어여</a></td>\\r\\n\\t\\t\\t\\t\\t\\t\\t\\t\\t\\t\\t\\t\\t<td class=\"left\">김세실 외 1명  </td>\\r\\n\\t\\t\\t\\t\\t\\t\\t\\t\\t\\t\\t\\t<td>2021-02-10</td>\\r\\n\\t\\t\\t\\t\\t\\t<td class=\"right\">11,000원</td>\\r\\n\\t\\t\\t\\t\\t</tr>\\r\\n\\r\\n\\t\\t\\t\\t\\t\\t\\t\\t\\t\\t<tr>\\r\\n\\t\\t\\t\\t\\t\\t<td class=\"brd_e\">한빛에듀</td>\\r\\n\\t\\t\\t\\t\\t\\t<td class=\"left\"><a href=\"/store/books/look.php?p_code=B6650499832\">한글 재미 그림책 – 변신! ㄱㄴㄷ</a></td>\\r\\n\\t\\t\\t\\t\\t\\t\\t\\t\\t\\t\\t\\t\\t<td class=\"left\">김세실 외 1명  </td>\\r\\n\\t\\t\\t\\t\\t\\t\\t\\t\\t\\t\\t\\t<td>2021-02-10</td>\\r\\n\\t\\t\\t\\t\\t\\t<td class=\"right\">11,000원</td>\\r\\n\\t\\t\\t\\t\\t</tr>\\r\\n\\r\\n\\t\\t\\t\\t\\t\\t\\t\\t\\t\\t<tr>\\r\\n\\t\\t\\t\\t\\t\\t<td class=\"brd_e\">한빛에듀</td>\\r\\n\\t\\t\\t\\t\\t\\t<td class=\"left\"><a href=\"/store/books/look.php?p_code=B2031975723\">한글 재미 그림책 – 놀자! 가나다</a></td>\\r\\n\\t\\t\\t\\t\\t\\t\\t\\t\\t\\t\\t\\t\\t<td class=\"left\">김세실 외 1명  </td>\\r\\n\\t\\t\\t\\t\\t\\t\\t\\t\\t\\t\\t\\t<td>2021-02-10</td>\\r\\n\\t\\t\\t\\t\\t\\t<td class=\"right\">11,000원</td>\\r\\n\\t\\t\\t\\t\\t</tr>\\r\\n\\r\\n\\t\\t\\t\\t\\t\\t\\t\\t\\t\\t<tr>\\r\\n\\t\\t\\t\\t\\t\\t<td class=\"brd_e\">한빛에듀</td>\\r\\n\\t\\t\\t\\t\\t\\t<td class=\"left\"><a href=\"/store/books/look.php?p_code=B8021870889\">한글 재미 그림책 3권 세트</a></td>\\r\\n\\t\\t\\t\\t\\t\\t\\t\\t\\t\\t\\t\\t\\t<td class=\"left\">김세실 외 3명  </td>\\r\\n\\t\\t\\t\\t\\t\\t\\t\\t\\t\\t\\t\\t<td>2021-02-10</td>\\r\\n\\t\\t\\t\\t\\t\\t<td class=\"right\">29,000원</td>\\r\\n\\t\\t\\t\\t\\t</tr>\\r\\n\\r\\n\\t\\t\\t\\t\\t\\t\\t\\t\\t\\t<tr>\\r\\n\\t\\t\\t\\t\\t\\t<td class=\"brd_m\">한빛미디어</td>\\r\\n\\t\\t\\t\\t\\t\\t<td class=\"left\"><a href=\"/store/books/look.php?p_code=B5929683476\">사토시의 서</a></td>\\r\\n\\t\\t\\t\\t\\t\\t\\t\\t\\t\\t\\t\\t\\t<td class=\"left\">필 샴페인   </td>\\r\\n\\t\\t\\t\\t\\t\\t\\t\\t\\t\\t\\t\\t<td>2021-02-05</td>\\r\\n\\t\\t\\t\\t\\t\\t<td class=\"right\">25,000원</td>\\r\\n\\t\\t\\t\\t\\t</tr>\\r\\n\\r\\n\\t\\t\\t\\t\\t\\t\\t\\t\\t\\t<tr>\\r\\n\\t\\t\\t\\t\\t\\t<td class=\"brd_m\">한빛미디어</td>\\r\\n\\t\\t\\t\\t\\t\\t<td class=\"left\"><a href=\"/store/books/look.php?p_code=B8383749156\">컨테이너 보안</a></td>\\r\\n\\t\\t\\t\\t\\t\\t\\t\\t\\t\\t\\t\\t\\t<td class=\"left\">리즈 라이스   </td>\\r\\n\\t\\t\\t\\t\\t\\t\\t\\t\\t\\t\\t\\t<td>2021-02-01</td>\\r\\n\\t\\t\\t\\t\\t\\t<td class=\"right\">24,000원</td>\\r\\n\\t\\t\\t\\t\\t</tr>\\r\\n\\r\\n\\t\\t\\t\\t\\t\\t\\t\\t\\t\\t<tr>\\r\\n\\t\\t\\t\\t\\t\\t<td class=\"brd_m\">한빛미디어</td>\\r\\n\\t\\t\\t\\t\\t\\t<td class=\"left\"><a href=\"/store/books/look.php?p_code=B5225420272\">자바스크립트는 모든 곳에 존재한다</a></td>\\r\\n\\t\\t\\t\\t\\t\\t\\t\\t\\t\\t\\t\\t\\t<td class=\"left\">애덤 스콧   </td>\\r\\n\\t\\t\\t\\t\\t\\t\\t\\t\\t\\t\\t\\t<td>2021-02-01</td>\\r\\n\\t\\t\\t\\t\\t\\t<td class=\"right\">30,000원</td>\\r\\n\\t\\t\\t\\t\\t</tr>\\r\\n\\r\\n\\t\\t\\t\\t\\t\\t\\t\\t\\t\\t<tr>\\r\\n\\t\\t\\t\\t\\t\\t<td class=\"brd_m\">한빛미디어</td>\\r\\n\\t\\t\\t\\t\\t\\t<td class=\"left\"><a href=\"/store/books/look.php?p_code=B6928806254\">플러터 인 액션</a></td>\\r\\n\\t\\t\\t\\t\\t\\t\\t\\t\\t\\t\\t\\t\\t<td class=\"left\">에릭 윈드밀   </td>\\r\\n\\t\\t\\t\\t\\t\\t\\t\\t\\t\\t\\t\\t<td>2021-02-01</td>\\r\\n\\t\\t\\t\\t\\t\\t<td class=\"right\">33,000원</td>\\r\\n\\t\\t\\t\\t\\t</tr>\\r\\n\\r\\n\\t\\t\\t\\t\\t\\t\\t\\t\\t\\t<tr>\\r\\n\\t\\t\\t\\t\\t\\t<td class=\"brd_m\">한빛미디어</td>\\r\\n\\t\\t\\t\\t\\t\\t<td class=\"left\"><a href=\"/store/books/look.php?p_code=B8811528616\">처음 배우는 리액트 네이티브</a></td>\\r\\n\\t\\t\\t\\t\\t\\t\\t\\t\\t\\t\\t\\t\\t<td class=\"left\">김범준   </td>\\r\\n\\t\\t\\t\\t\\t\\t\\t\\t\\t\\t\\t\\t<td>2021-02-01</td>\\r\\n\\t\\t\\t\\t\\t\\t<td class=\"right\">29,000원</td>\\r\\n\\t\\t\\t\\t\\t</tr>\\r\\n\\r\\n\\t\\t\\t\\t\\t\\t\\t\\t\\t\\t<tr>\\r\\n\\t\\t\\t\\t\\t\\t<td class=\"brd_m\">한빛미디어</td>\\r\\n\\t\\t\\t\\t\\t\\t<td class=\"left\"><a href=\"/store/books/look.php?p_code=B9171469683\">처음 배우는 셸 스크립트</a></td>\\r\\n\\t\\t\\t\\t\\t\\t\\t\\t\\t\\t\\t\\t\\t<td class=\"left\">장현정   </td>\\r\\n\\t\\t\\t\\t\\t\\t\\t\\t\\t\\t\\t\\t<td>2021-02-01</td>\\r\\n\\t\\t\\t\\t\\t\\t<td class=\"right\">30,000원</td>\\r\\n\\t\\t\\t\\t\\t</tr>\\r\\n\\r\\n\\t\\t\\t\\t\\t\\t\\t\\t\\t\\t<tr>\\r\\n\\t\\t\\t\\t\\t\\t<td class=\"brd_m\">한빛미디어</td>\\r\\n\\t\\t\\t\\t\\t\\t<td class=\"left\"><a href=\"/store/books/look.php?p_code=B6988001706\">맛있는 디자인 프리미어 프로&애프터 이펙트 CC 2021</a></td>\\r\\n\\t\\t\\t\\t\\t\\t\\t\\t\\t\\t\\t\\t\\t<td class=\"left\">김덕영 외 4명  </td>\\r\\n\\t\\t\\t\\t\\t\\t\\t\\t\\t\\t\\t\\t<td>2021-01-31</td>\\r\\n\\t\\t\\t\\t\\t\\t<td class=\"right\">23,000원</td>\\r\\n\\t\\t\\t\\t\\t</tr>\\r\\n\\r\\n\\t\\t\\t\\t\\t\\t\\t\\t\\t\\t<tr>\\r\\n\\t\\t\\t\\t\\t\\t<td class=\"brd_b\">한빛비즈</td>\\r\\n\\t\\t\\t\\t\\t\\t<td class=\"left\"><a href=\"/store/books/look.php?p_code=B2629473094\">부시파일럿, 나는 길이 없는 곳으로 간다</a></td>\\r\\n\\t\\t\\t\\t\\t\\t\\t\\t\\t\\t\\t\\t\\t<td class=\"left\">오현호   </td>\\r\\n\\t\\t\\t\\t\\t\\t\\t\\t\\t\\t\\t\\t<td>2021-01-30</td>\\r\\n\\t\\t\\t\\t\\t\\t<td class=\"right\">14,500원</td>\\r\\n\\t\\t\\t\\t\\t</tr>\\r\\n\\r\\n\\t\\t\\t\\t\\t\\t\\t\\t\\t\\t<tr>\\r\\n\\t\\t\\t\\t\\t\\t<td class=\"brd_m\">한빛미디어</td>\\r\\n\\t\\t\\t\\t\\t\\t<td class=\"left\"><a href=\"/store/books/look.php?p_code=B2649943562\">진지한 파이썬</a></td>\\r\\n\\t\\t\\t\\t\\t\\t\\t\\t\\t\\t\\t\\t\\t<td class=\"left\">쥘리앵 당주   </td>\\r\\n\\t\\t\\t\\t\\t\\t\\t\\t\\t\\t\\t\\t<td>2021-01-25</td>\\r\\n\\t\\t\\t\\t\\t\\t<td class=\"right\">28,000원</td>\\r\\n\\t\\t\\t\\t\\t</tr>\\r\\n\\r\\n\\t\\t\\t\\t\\t\\t\\t\\t\\t\\t<tr>\\r\\n\\t\\t\\t\\t\\t\\t<td class=\"brd_b\">한빛비즈</td>\\r\\n\\t\\t\\t\\t\\t\\t<td class=\"left\"><a href=\"/store/books/look.php?p_code=B3175219262\">자본주의는 왜 멈추는가?</a></td>\\r\\n\\t\\t\\t\\t\\t\\t\\t\\t\\t\\t\\t\\t\\t<td class=\"left\">한지원   </td>\\r\\n\\t\\t\\t\\t\\t\\t\\t\\t\\t\\t\\t\\t<td>2021-01-25</td>\\r\\n\\t\\t\\t\\t\\t\\t<td class=\"right\">18,500원</td>\\r\\n\\t\\t\\t\\t\\t</tr>\\r\\n\\r\\n\\t\\t\\t\\t\\t\\t\\t\\t\\t\\t<tr>\\r\\n\\t\\t\\t\\t\\t\\t<td class=\"brd_a\">한빛아카데미</td>\\r\\n\\t\\t\\t\\t\\t\\t<td class=\"left\"><a href=\"/store/books/look.php?p_code=B4186876690\">IT CookBook, 파이썬 자료구조와 알고리즘 for Beginner</a></td>\\r\\n\\t\\t\\t\\t\\t\\t\\t\\t\\t\\t\\t\\t\\t<td class=\"left\">우재남   </td>\\r\\n\\t\\t\\t\\t\\t\\t\\t\\t\\t\\t\\t\\t<td>2021-01-23</td>\\r\\n\\t\\t\\t\\t\\t\\t<td class=\"right\">27,000원</td>\\r\\n\\t\\t\\t\\t\\t</tr>\\r\\n\\r\\n\\t\\t\\t\\t\\t\\t\\t\\t\\t\\t<tr>\\r\\n\\t\\t\\t\\t\\t\\t<td class=\"brd_b\">한빛비즈</td>\\r\\n\\t\\t\\t\\t\\t\\t<td class=\"left\"><a href=\"/store/books/look.php?p_code=B8985164707\">뉴로제너레이션</a></td>\\r\\n\\t\\t\\t\\t\\t\\t\\t\\t\\t\\t\\t\\t\\t<td class=\"left\">탠 리   </td>\\r\\n\\t\\t\\t\\t\\t\\t\\t\\t\\t\\t\\t\\t<td>2021-01-23</td>\\r\\n\\t\\t\\t\\t\\t\\t<td class=\"right\">18,800원</td>\\r\\n\\t\\t\\t\\t\\t</tr>\\r\\n\\r\\n\\t\\t\\t\\t\\t\\t\\t\\t\\t\\t<tr>\\r\\n\\t\\t\\t\\t\\t\\t<td class=\"brd_a\">한빛아카데미</td>\\r\\n\\t\\t\\t\\t\\t\\t<td class=\"left\"><a href=\"/store/books/look.php?p_code=B8497885322\">IT CookBook, 손에 잡히는 데이터 통신</a></td>\\r\\n\\t\\t\\t\\t\\t\\t\\t\\t\\t\\t\\t\\t\\t<td class=\"left\">임석구   </td>\\r\\n\\t\\t\\t\\t\\t\\t\\t\\t\\t\\t\\t\\t<td>2021-01-23</td>\\r\\n\\t\\t\\t\\t\\t\\t<td class=\"right\">29,000원</td>\\r\\n\\t\\t\\t\\t\\t</tr>\\r\\n\\r\\n\\t\\t\\t\\t\\t\\t\\t\\t\\t\\t<tr>\\r\\n\\t\\t\\t\\t\\t\\t<td class=\"brd_a\">한빛아카데미</td>\\r\\n\\t\\t\\t\\t\\t\\t<td class=\"left\"><a href=\"/store/books/look.php?p_code=B3532160882\">STEM CookBook, 재료역학&#40;2판&#41;</a></td>\\r\\n\\t\\t\\t\\t\\t\\t\\t\\t\\t\\t\\t\\t\\t<td class=\"left\">Anthony Bedford 외 1명  </td>\\r\\n\\t\\t\\t\\t\\t\\t\\t\\t\\t\\t\\t\\t<td>2021-01-20</td>\\r\\n\\t\\t\\t\\t\\t\\t<td class=\"right\">38,000원</td>\\r\\n\\t\\t\\t\\t\\t</tr>\\r\\n\\r\\n\\t\\t\\t\\t\\t\\t\\t\\t\\t\\t<tr>\\r\\n\\t\\t\\t\\t\\t\\t<td class=\"brd_a\">한빛아카데미</td>\\r\\n\\t\\t\\t\\t\\t\\t<td class=\"left\"><a href=\"/store/books/look.php?p_code=B5747914873\">STEM CookBook, 대학물리학&#40;5판&#41;</a></td>\\r\\n\\t\\t\\t\\t\\t\\t\\t\\t\\t\\t\\t\\t\\t<td class=\"left\">Alan Giambattista   </td>\\r\\n\\t\\t\\t\\t\\t\\t\\t\\t\\t\\t\\t\\t<td>2021-01-20</td>\\r\\n\\t\\t\\t\\t\\t\\t<td class=\"right\">43,000원</td>\\r\\n\\t\\t\\t\\t\\t</tr>\\r\\n\\r\\n\\t\\t\\t\\t\\t\\t\\t\\t\\t\\t<tr>\\r\\n\\t\\t\\t\\t\\t\\t<td class=\"brd_m\">한빛미디어</td>\\r\\n\\t\\t\\t\\t\\t\\t<td class=\"left\"><a href=\"/store/books/look.php?p_code=B6673972966\">이것이 C#이다&#40;개정판&#41;</a></td>\\r\\n\\t\\t\\t\\t\\t\\t\\t\\t\\t\\t\\t\\t\\t<td class=\"left\">박상현   </td>\\r\\n\\t\\t\\t\\t\\t\\t\\t\\t\\t\\t\\t\\t<td>2021-01-18</td>\\r\\n\\t\\t\\t\\t\\t\\t<td class=\"right\">34,000원</td>\\r\\n\\t\\t\\t\\t\\t</tr>\\r\\n\\r\\n\\t\\t\\t\\t\\t\\t\\t\\t\\t\\t<tr>\\r\\n\\t\\t\\t\\t\\t\\t<td class=\"brd_m\">한빛미디어</td>\\r\\n\\t\\t\\t\\t\\t\\t<td class=\"left\"><a href=\"/store/books/look.php?p_code=B8157413773\">맛있는 디자인 포토샵&일러스트레이터 CC 2021</a></td>\\r\\n\\t\\t\\t\\t\\t\\t\\t\\t\\t\\t\\t\\t\\t<td class=\"left\">빨간고래(박정아) 외 1명  </td>\\r\\n\\t\\t\\t\\t\\t\\t\\t\\t\\t\\t\\t\\t<td>2021-01-18</td>\\r\\n\\t\\t\\t\\t\\t\\t<td class=\"right\">22,000원</td>\\r\\n\\t\\t\\t\\t\\t</tr>\\r\\n\\r\\n\\t\\t\\t\\t\\t\\t\\t\\t\\t\\t<tr>\\r\\n\\t\\t\\t\\t\\t\\t<td class=\"brd_a\">한빛아카데미</td>\\r\\n\\t\\t\\t\\t\\t\\t<td class=\"left\"><a href=\"/store/books/look.php?p_code=B7259300237\">IT CookBook, 디지털 회로 실험 with PSpice</a></td>\\r\\n\\t\\t\\t\\t\\t\\t\\t\\t\\t\\t\\t\\t\\t<td class=\"left\">홍순관   </td>\\r\\n\\t\\t\\t\\t\\t\\t\\t\\t\\t\\t\\t\\t<td>2021-01-15</td>\\r\\n\\t\\t\\t\\t\\t\\t<td class=\"right\">22,000원</td>\\r\\n\\t\\t\\t\\t\\t</tr>\\r\\n\\r\\n\\t\\t\\t\\t\\t\\t\\t\\r\\n\\t\\t\\t\\t\\t<tr class=\"sold_out\">\\r\\n\\t\\t\\t\\t\\t\\t<td class=\"brd_a sold_out\">한빛아카데미</td>\\r\\n\\t\\t\\t\\t\\t\\t<td class=\"left sold_out\"><img src=\"/images/store/icon_soldout.png\" alt=\"품절\" class=\"ic_soldout\" /><a href=\"/store/books/look.php?p_code=B5613504631\">한번에 통과하는 논문 세트</a></td>\\r\\n\\t\\t\\t\\t\\t\\t\\t\\t\\t\\t\\t\\t\\t<td class=\"sold_out left\">히든그레이스 논문통계팀   </td>\\r\\n\\t\\t\\t\\t\\t\\t\\t\\t\\t\\t\\t\\t<td class=\"sold_out\">2021-01-08</td>\\r\\n\\t\\t\\t\\t\\t\\t<td class=\"sold_out right\">85,000원</td>\\r\\n\\t\\t\\t\\t\\t</tr>\\t\\t\\t\\t\\t\\t\\t\\t\\t\\t\\r\\n\\t\\t\\t\\t\\t\\t\\t\\t\\t\\t<tr>\\r\\n\\t\\t\\t\\t\\t\\t<td class=\"brd_a\">한빛아카데미</td>\\r\\n\\t\\t\\t\\t\\t\\t<td class=\"left\"><a href=\"/store/books/look.php?p_code=B5373816298\">제대로 시작하는 기초 통계학 : Excel 활용 &#40;2판&#41;</a></td>\\r\\n\\t\\t\\t\\t\\t\\t\\t\\t\\t\\t\\t\\t\\t<td class=\"left\">노경섭   </td>\\r\\n\\t\\t\\t\\t\\t\\t\\t\\t\\t\\t\\t\\t<td>2021-01-06</td>\\r\\n\\t\\t\\t\\t\\t\\t<td class=\"right\">25,000원</td>\\r\\n\\t\\t\\t\\t\\t</tr>\\r\\n\\r\\n\\t\\t\\t\\t\\t\\t\\t\\t\\t\\t<tr>\\r\\n\\t\\t\\t\\t\\t\\t<td class=\"brd_a\">한빛아카데미</td>\\r\\n\\t\\t\\t\\t\\t\\t<td class=\"left\"><a href=\"/store/books/look.php?p_code=B2312495638\">데이터 과학을 위한 기초수학 with 파이썬</a></td>\\r\\n\\t\\t\\t\\t\\t\\t\\t\\t\\t\\t\\t\\t\\t<td class=\"left\">이병준   </td>\\r\\n\\t\\t\\t\\t\\t\\t\\t\\t\\t\\t\\t\\t<td>2021-01-06</td>\\r\\n\\t\\t\\t\\t\\t\\t<td class=\"right\">26,000원</td>\\r\\n\\t\\t\\t\\t\\t</tr>\\r\\n\\r\\n\\t\\t\\t\\t\\t\\t\\t\\t\\t\\t<tr>\\r\\n\\t\\t\\t\\t\\t\\t<td class=\"brd_a\">한빛아카데미</td>\\r\\n\\t\\t\\t\\t\\t\\t<td class=\"left\"><a href=\"/store/books/look.php?p_code=B2976231938\">친절한 미분적분학</a></td>\\r\\n\\t\\t\\t\\t\\t\\t\\t\\t\\t\\t\\t\\t\\t<td class=\"left\">캐럴 애시외 1명  </td>\\r\\n\\t\\t\\t\\t\\t\\t\\t\\t\\t\\t\\t\\t<td>2021-01-06</td>\\r\\n\\t\\t\\t\\t\\t\\t<td class=\"right\">32,000원</td>\\r\\n\\t\\t\\t\\t\\t</tr>\\r\\n\\r\\n\\t\\t\\t\\t\\t\\t\\t\\t\\t\\t<tr>\\r\\n\\t\\t\\t\\t\\t\\t<td class=\"brd_a\">한빛아카데미</td>\\r\\n\\t\\t\\t\\t\\t\\t<td class=\"left\"><a href=\"/store/books/look.php?p_code=B3331792777\">미분적분학 : 대학수학의 첫걸음</a></td>\\r\\n\\t\\t\\t\\t\\t\\t\\t\\t\\t\\t\\t\\t\\t<td class=\"left\">수학교재편찬위원회   </td>\\r\\n\\t\\t\\t\\t\\t\\t\\t\\t\\t\\t\\t\\t<td>2021-01-06</td>\\r\\n\\t\\t\\t\\t\\t\\t<td class=\"right\">28,000원</td>\\r\\n\\t\\t\\t\\t\\t</tr>\\r\\n\\r\\n\\t\\t\\t\\t\\t\\t\\t\\t\\t\\t<tr>\\r\\n\\t\\t\\t\\t\\t\\t<td class=\"brd_m\">한빛미디어</td>\\r\\n\\t\\t\\t\\t\\t\\t<td class=\"left\"><a href=\"/store/books/look.php?p_code=B5030061985\">소프트웨어 스펙의 모든 것</a></td>\\r\\n\\t\\t\\t\\t\\t\\t\\t\\t\\t\\t\\t\\t\\t<td class=\"left\">김익환 외 1명  </td>\\r\\n\\t\\t\\t\\t\\t\\t\\t\\t\\t\\t\\t\\t<td>2021-01-05</td>\\r\\n\\t\\t\\t\\t\\t\\t<td class=\"right\">22,000원</td>\\r\\n\\t\\t\\t\\t\\t</tr>\\r\\n\\r\\n\\t\\t\\t\\t\\t\\t\\t\\t\\t\\t<tr>\\r\\n\\t\\t\\t\\t\\t\\t<td class=\"brd_a\">한빛아카데미</td>\\r\\n\\t\\t\\t\\t\\t\\t<td class=\"left\"><a href=\"/store/books/look.php?p_code=B3737758364\">IT CookBook, 4차 산업혁명과 정보통신의 이해</a></td>\\r\\n\\t\\t\\t\\t\\t\\t\\t\\t\\t\\t\\t\\t\\t<td class=\"left\">김정섭 외 2명  </td>\\r\\n\\t\\t\\t\\t\\t\\t\\t\\t\\t\\t\\t\\t<td>2021-01-05</td>\\r\\n\\t\\t\\t\\t\\t\\t<td class=\"right\">25,000원</td>\\r\\n\\t\\t\\t\\t\\t</tr>\\r\\n\\r\\n\\t\\t\\t\\t\\t\\t\\t\\t\\t\\t<tr>\\r\\n\\t\\t\\t\\t\\t\\t<td class=\"brd_a\">한빛아카데미</td>\\r\\n\\t\\t\\t\\t\\t\\t<td class=\"left\"><a href=\"/store/books/look.php?p_code=B2903514322\">IT CookBook, 난생처음 R 코딩 & 데이터 분석</a></td>\\r\\n\\t\\t\\t\\t\\t\\t\\t\\t\\t\\t\\t\\t\\t<td class=\"left\">오세종 외 1명  </td>\\r\\n\\t\\t\\t\\t\\t\\t\\t\\t\\t\\t\\t\\t<td>2021-01-05</td>\\r\\n\\t\\t\\t\\t\\t\\t<td class=\"right\">25,000원</td>\\r\\n\\t\\t\\t\\t\\t</tr>\\r\\n\\r\\n\\t\\t\\t\\t\\t\\t\\t\\t\\t\\r\\n\\t\\t\\t\\t</tbody>\\r\\n\\t\\t\\t</table>\\r\\n\\t\\t</div>\\r\\n\\t\\t<!-- //책 리스트 -->\\r\\n\\t\\t\\r\\n\\t\\t<!-- 페이징 -->\\r\\n\\t\\t<div class=\"paginate bdr_no\">\\r\\n\\t\\t\\t<strong>1</strong>\\n<a href=\"/store/books/full_book_list.html?page=2&srt=p_pub_date&brand=\">2</a>\\n<a href=\"/store/books/full_book_list.html?page=3&srt=p_pub_date&brand=\">3</a>\\n<a href=\"/store/books/full_book_list.html?page=4&srt=p_pub_date&brand=\">4</a>\\n<a href=\"/store/books/full_book_list.html?page=5&srt=p_pub_date&brand=\">5</a>\\n<a href=\"/store/books/full_book_list.html?page=6&srt=p_pub_date&brand=\">6</a>\\n<a href=\"/store/books/full_book_list.html?page=7&srt=p_pub_date&brand=\">7</a>\\n<a href=\"/store/books/full_book_list.html?page=8&srt=p_pub_date&brand=\">8</a>\\n<a href=\"/store/books/full_book_list.html?page=9&srt=p_pub_date&brand=\">9</a>\\n<a href=\"/store/books/full_book_list.html?page=10&srt=p_pub_date&brand=\">10</a>\\n<a href=\"/store/books/full_book_list.html?page=11&srt=p_pub_date&brand=\" class=\"next\"><span>&gt;</span></a>\\n\\t\\t</div>\\r\\n\\t\\t<!-- //페이징 -->\\r\\n\\t\\t\\r\\n\\t\\t<!-- 전체 목록 다운로드 버튼-->\\r\\n\\t\\t<div class=\"btn_full_list mt40\"><a href=\"javascript:document.frm.submit();\">전체 목록 다운로드</a></div>\\r\\n\\t\\r\\n\\t</div>\\r\\n\\t<!-- //전체도서목록 wrap -->\\t\\r\\n\\t\\r\\n</div>\\r\\n<!-- //Contents -->\\r\\n<form name=\"frm\" id=\"frm\" method=\"post\" action=\"./full_book_list_down.php\">\\r\\n<input type=\"hidden\" name=\"brand\" id=\"brand\" value=\"\">\\r\\n<input type=\"hidden\" name=\"srt\" id=\"srt\" value=\"p_pub_date\">\\r\\n</form>\\r\\n<!-- Footer -->\\r\\n<footer>\\r\\n  <!-- 공지사항 -->\\r\\n  <div class=\"foot_notice\">\\r\\n      </div>\\r\\n  <!-- //공지사항 -->\\r\\n  \\r\\n  <div class=\"foot_contents\">\\r\\n    <!-- 하단 메뉴 -->\\r\\n    <div class=\"foot_menu\">\\r\\n      <!-- added by coffin -->\\r\\n            <ul>\\r\\n        <li><a href=\"https://www.hanbit.co.kr/publisher/index.html\" target=\"_blank\">회사소개</a>(<a href=\"https://www.hanbit.co.kr/publisher/index.html\" target=\"_blank\">KOR</a> | <a href=\"https://www.hanbit.co.kr/publisher/index.html?lang=e\" target=\"_blank\">ENG</a>) &#149; <a href=\"https://www.hanbit.co.kr/publisher/contact.html?lang=k\" target=\"_blank\">약도</a></li>\\r\\n        <li><a href=\"https://www.hanbit.co.kr/publisher/write.html\" target=\"_blank\">기획 및 원고 모집</a></li>\\r\\n        <li><a href=\"https://www.hanbit.co.kr/publisher/foreignrights.html\" target=\"_blank\">FOREIGN RIGHTS</a></li>\\r\\n        <li><a href=\"https://www.hanbit.co.kr/member/use_agreement.html\">이용약관</a></li>\\r\\n        <li><a href=\"https://www.hanbit.co.kr/member/privacy_policy.html\"><strong>개인정보취급방침</strong></a></li>\\r\\n        <li><a href=\"https://www.hanbit.co.kr/sitemap/sitemap.html\">사이트맵</a></li>\\r\\n      </ul>\\r\\n          </div>\\r\\n    <!-- //하단 메뉴 -->\\r\\n\\r\\n    <!-- SNS -->\\r\\n    <div class=\"foot_sns\">\\r\\n            \\r\\n      <ul>\\r\\n        <li class=\"foot_facebook\"><a href=\"https://www.facebook.com/hanbitmedia\" target=\"_blank\"><span>페이스북</span></a></li>\\r\\n        <!-- <li class=\"foot_googleplus\"><a href=\"https://plus.google.com/u/0/+HanbitCoKr/posts\" target=\"_blank\"><span>구글플러스</span></a></li> -->\\r\\n        <li class=\"foot_twitter\"><a href=\"https://twitter.com/hanbit\" target=\"_blank\"><span>트위터</span></a></li>\\r\\n        <li class=\"foot_youtube\"><a href=\"https://www.youtube.com/user/HanbitMedia93\" target=\"_blank\"><span>유튜브</span></a></li>\\r\\n        <li class=\"foot_bolg\"><a href=\"http://blog.hanbit.co.kr/\" target=\"_blank\"><span>블로그</span></a></li>\\r\\n        <li class=\"foot_naverpost\"><a href=\"https://m.post.naver.com/hanbitstory\" target=\"_blank\"><span>네이버포스트</span></a></li>\\r\\n      </ul>\\r\\n      \\r\\n      \\r\\n        <fieldset class=\"foot_srch\">\\r\\n          <legend>하단 검색영역</legend>\\r\\n          <input title=\"검색어\" class=\"foot_srch_keyword\" accesskey=\"s\" type=\"text\" value=\"\"  id=\"foot_keyword_str\" style=\"font-size:16px;\">\\r\\n          <input type=\"button\" alt=\"\" class=\"foot_srch_btn\" onclick=\"foot_sch_smit();\" style=\"cursor: pointer;\">\\r\\n        </fieldset>\\r\\n\\r\\n      \\r\\n      <script>\\r\\n        // 검색 리스트  \\r\\n        $(document).ready(function() {       \\r\\n          $(\\'#foot_keyword_str\\').keyup(function(e) {\\r\\n            if (e.keyCode == 13) \\r\\n              foot_sch_smit();\\r\\n          });        \\r\\n        });\\r\\n\\r\\n        function foot_sch_smit(){            \\r\\n          var foot_keyword_str = $(\"#foot_keyword_str\").val();      \\r\\n          var searchUrl = \"/search/search_list.html?keyword=\"+foot_keyword_str;\\r\\n\\r\\n          if(!foot_keyword_str){\\r\\n            alert(\"검색어를 입력해주세요\");\\r\\n            $(\"#foot_keyword_str\").focus();\\r\\n          }else{\\r\\n            location.href = searchUrl;\\r\\n          }\\r\\n        }\\r\\n      </script>  \\r\\n      \\r\\n    </div>\\r\\n    <!-- //SNS -->\\r\\n    \\r\\n    <!-- 한빛 정보 -->\\r\\n    <div class=\"foot_about\">\\r\\n      <div class=\"foot_about_area\">\\r\\n        \\r\\n\\r\\n        <p><strong>한빛미디어㈜ &#149; 한빛아카데미㈜ &#149; 한빛비즈㈜</strong></p>\\r\\n        <p>(03785) 서울 서대문구 연희로2길 62</p>\\r\\n        <p>EMAIL : support@hanbit.co.kr</p>\\r\\n        <p>대표이사 : 김태헌</p>\\r\\n        <p>사업자등록번호 : 220-81-05665 <a href=\"http://www.ftc.go.kr/bizCommPop.do?wrkr_no=2208105665\" target=\"_blank\">[확인]</a></p>\\r\\n        <p>통신판매업신고 : 2017-서울서대문-0671호</p>\\r\\n        <p>호스팅제공자 : (주)누리호스팅</p>\\r\\n        \\r\\n\\r\\n      </div>\\r\\n    </div>\\r\\n    <!-- //한빛 정보 -->\\r\\n  </div>\\r\\n  \\r\\n  <div class=\"copyright\">&copy;1993-2021 Hanbit Publishing Network, Inc. All rights reserved.</div>\\r\\n</footer>\\r\\n<!-- //푸터 -->\\r\\n<div class=\"foot_download_btn\"><a href=\"https://www.hanbit.co.kr/support/supplement_list.html\">자료실</a></div>\\r\\n\\r\\n<!-- 공통 JS 호출 -->\\r\\n<script type=\"text/javascript\" src=\"/js/common.js\"></script>\\r\\n<!-- //공통 JS 호출 -->\\r\\n\\r\\n</body>\\r\\n</html>\\r\\n'"
      ]
     },
     "execution_count": 2,
     "metadata": {},
     "output_type": "execute_result"
    }
   ],
   "source": [
    "try : \n",
    "    html = urlopen('https://www.hanbit.co.kr/store/books/full_book_list.html')\n",
    "except HTTPError as he :\n",
    "    print('http error')\n",
    "except URLError as ue :\n",
    "    print('url error')\n",
    "else :\n",
    "    encoding = html.info().get_content_charset('utf8')\n",
    "    txt = html.read().decode(encoding)\n",
    "txt"
   ]
  },
  {
   "cell_type": "code",
   "execution_count": null,
   "metadata": {},
   "outputs": [],
   "source": [
    "//*[@id=\"container\"]/div[2]/div[4]/table/tbody/tr[1]/td[2]/a\n",
    "//*[@id=\"container\"]/div[2]/div[4]/table/tbody/tr[2]/td[2]/a"
   ]
  },
  {
   "cell_type": "markdown",
   "metadata": {},
   "source": [
    "### json\n",
    "- json.dumps() : 데이터를 제이슨형태로 인코딩(문자열)\n",
    "- json.dump() : 데이터를 제이슨형태로 인코딩하여 파일에 저장할때(파일) "
   ]
  },
  {
   "cell_type": "markdown",
   "metadata": {},
   "source": [
    "### 메타문자\n",
    "- [] : 대괄호 사이의 문자와 매치\n",
    "- [from - to] : 사이의 모든 문자\n",
    "- \\d : 숫자[0-9]\n",
    "- \\D : 숫자가 아닌것[^0-9]\n",
    "- \\s : 공백[\\n/\\t/\\r/\\f/\\v]\n",
    "- \\S : 공백이 아닌것[^\\n/\\t/\\r/\\f/\\v]\n",
    "- \\w : 문자 + 숫자 + 언더바(_)[a-zA-Z0-9_]\n",
    "- \\W : 문자 + 숫자 + 언더바(_)가 아닌것[^a-zA-Z0-9_]\n",
    "- [^] : 부정\n",
    "- ^[] : 시작문자 매치\n",
    "- $[] : 끝 문자 매치\n",
    "- * : 반복(0 ~ 무한대)\n",
    "- + : 반복(1 ~ 무한대)\n",
    "- ? : 있어도되고 없어도 된다(0, 1)\n",
    "- {cnt} : cnt반복\n",
    "- {x,y} : x~y번 반복\n",
    "- .     : 개행문자(\\n)를 제외한 모든 문자를 의미"
   ]
  },
  {
   "cell_type": "code",
   "execution_count": 3,
   "metadata": {},
   "outputs": [],
   "source": [
    "import json, re"
   ]
  },
  {
   "cell_type": "markdown",
   "metadata": {},
   "source": [
    "- apple 매치"
   ]
  },
  {
   "cell_type": "code",
   "execution_count": 4,
   "metadata": {},
   "outputs": [
    {
     "data": {
      "text/plain": [
       "re.compile(r'[apple]', re.UNICODE)"
      ]
     },
     "execution_count": 4,
     "metadata": {},
     "output_type": "execute_result"
    }
   ],
   "source": [
    "com = re.compile('[apple]')\n",
    "com"
   ]
  },
  {
   "cell_type": "code",
   "execution_count": 5,
   "metadata": {},
   "outputs": [
    {
     "data": {
      "text/plain": [
       "['a', 'e', 'a', 'p', 'p', 'l', 'e']"
      ]
     },
     "execution_count": 5,
     "metadata": {},
     "output_type": "execute_result"
    }
   ],
   "source": [
    "com.findall('I ate apple')"
   ]
  },
  {
   "cell_type": "markdown",
   "metadata": {},
   "source": [
    "- 1부터 3까지 매치"
   ]
  },
  {
   "cell_type": "code",
   "execution_count": 6,
   "metadata": {},
   "outputs": [
    {
     "data": {
      "text/plain": [
       "re.compile(r'[1-3]', re.UNICODE)"
      ]
     },
     "execution_count": 6,
     "metadata": {},
     "output_type": "execute_result"
    }
   ],
   "source": [
    "com = re.compile('[1-3]')\n",
    "com"
   ]
  },
  {
   "cell_type": "code",
   "execution_count": 7,
   "metadata": {},
   "outputs": [
    {
     "data": {
      "text/plain": [
       "['1', '2', '3']"
      ]
     },
     "execution_count": 7,
     "metadata": {},
     "output_type": "execute_result"
    }
   ],
   "source": [
    "com.findall('1234567890')"
   ]
  },
  {
   "cell_type": "markdown",
   "metadata": {},
   "source": [
    "- a부터 e까지 매치"
   ]
  },
  {
   "cell_type": "code",
   "execution_count": 8,
   "metadata": {},
   "outputs": [
    {
     "data": {
      "text/plain": [
       "re.compile(r'[a-e]', re.UNICODE)"
      ]
     },
     "execution_count": 8,
     "metadata": {},
     "output_type": "execute_result"
    }
   ],
   "source": [
    "com = re.compile('[a-e]')\n",
    "com"
   ]
  },
  {
   "cell_type": "code",
   "execution_count": 9,
   "metadata": {},
   "outputs": [
    {
     "data": {
      "text/plain": [
       "['a', 'd', 'a', 'e']"
      ]
     },
     "execution_count": 9,
     "metadata": {},
     "output_type": "execute_result"
    }
   ],
   "source": [
    "com.findall('asldufhaljetn')"
   ]
  },
  {
   "cell_type": "markdown",
   "metadata": {},
   "source": [
    "- 숫자와 매치"
   ]
  },
  {
   "cell_type": "code",
   "execution_count": 10,
   "metadata": {},
   "outputs": [
    {
     "data": {
      "text/plain": [
       "re.compile(r'[\\d]', re.UNICODE)"
      ]
     },
     "execution_count": 10,
     "metadata": {},
     "output_type": "execute_result"
    }
   ],
   "source": [
    "com = re.compile('[\\d]')\n",
    "com"
   ]
  },
  {
   "cell_type": "code",
   "execution_count": 11,
   "metadata": {},
   "outputs": [
    {
     "data": {
      "text/plain": [
       "['2', '0', '2', '1']"
      ]
     },
     "execution_count": 11,
     "metadata": {},
     "output_type": "execute_result"
    }
   ],
   "source": [
    "com.findall('year 2021')"
   ]
  },
  {
   "cell_type": "markdown",
   "metadata": {},
   "source": [
    "- 숫자가 아닌것들과 매치"
   ]
  },
  {
   "cell_type": "code",
   "execution_count": 12,
   "metadata": {},
   "outputs": [
    {
     "data": {
      "text/plain": [
       "re.compile(r'[\\D]', re.UNICODE)"
      ]
     },
     "execution_count": 12,
     "metadata": {},
     "output_type": "execute_result"
    }
   ],
   "source": [
    "com = re.compile('[\\D]')\n",
    "com"
   ]
  },
  {
   "cell_type": "code",
   "execution_count": 13,
   "metadata": {},
   "outputs": [
    {
     "data": {
      "text/plain": [
       "['y', 'e', 'a', 'r', ' ']"
      ]
     },
     "execution_count": 13,
     "metadata": {},
     "output_type": "execute_result"
    }
   ],
   "source": [
    "com.findall('year 2021')"
   ]
  },
  {
   "cell_type": "markdown",
   "metadata": {},
   "source": [
    "- 공백과 매치"
   ]
  },
  {
   "cell_type": "code",
   "execution_count": 14,
   "metadata": {},
   "outputs": [
    {
     "data": {
      "text/plain": [
       "re.compile(r'[\\s]', re.UNICODE)"
      ]
     },
     "execution_count": 14,
     "metadata": {},
     "output_type": "execute_result"
    }
   ],
   "source": [
    "com = re.compile('[\\s]')\n",
    "com"
   ]
  },
  {
   "cell_type": "code",
   "execution_count": 15,
   "metadata": {},
   "outputs": [
    {
     "data": {
      "text/plain": [
       "[' ']"
      ]
     },
     "execution_count": 15,
     "metadata": {},
     "output_type": "execute_result"
    }
   ],
   "source": [
    "com.findall('year 2021')"
   ]
  },
  {
   "cell_type": "markdown",
   "metadata": {},
   "source": [
    "- 문자열 검색 & 치환\n",
    "- match()   : 문자의 처음부터 정규식 매치되는지 검색\n",
    "- search()  : 문자 전체에서 정규식 매치되는 부분이 있는지를 검색\n",
    "- findall() : 정규식과 매치되는 모든 문자를 찾아서 리스트로 반환 \n",
    "- finditer(): 정규식과 매치되는 모든 문자를 반복 가능한 객체로 반환\n",
    "- sub()     : 정규식과 매치되는 부분을 치환"
   ]
  },
  {
   "cell_type": "code",
   "execution_count": 42,
   "metadata": {
    "collapsed": true
   },
   "outputs": [
    {
     "name": "stdout",
     "output_type": "stream",
     "text": [
      "기술의 시대\n",
      "맛있는 디자인 프리미어 프로 CC 2021\n",
      "GAN 첫걸음\n",
      "디노 첫걸음\n",
      "맛있는 디자인 일러스트레이터 CC 2021\n",
      "4차 산업혁명 시대를 위한 e-비즈니스 개론&#40;4판&#41;\n",
      "사실은 사랑받고 싶었어\n",
      "대한민국 부동산 미래지도\n",
      "맛있는 디자인 포토샵 CC 2021\n",
      "맛있는 디자인 애프터 이펙트 CC 2021\n",
      "친절한 딥러닝 수학\n",
      "이것이 안드로이드다 with 코틀린&#40;개정판&#41;\n",
      "상위 1% 아이가 하고 있는 서울대 아빠식 문해력 독서법\n",
      "누구 먼저 살려야 할까\n",
      "모션 그래픽&영상 디자인 강의 with 애프터 이펙트&#40;10년차 디자이너에게 1:1로 배우는&#41;\n",
      "IT CookBook, C 언어 일취월장&#40;2판&#41;\n",
      "재미있고 빠른 어휘력 동화 – 두근두근 이 마음은 뭘까\n",
      "재미있고 빠른 어휘력 동화 – 키득키득 재밌는 의성어 의태어\n",
      "웹 애플리케이션 보안\n",
      "IT CookBook, SQL Server로 배우는 데이터베이스 개론과 실습&#40;2판&#41;\n",
      "한글 재미 그림책 – 펭토벤과 아야어여\n",
      "한글 재미 그림책 – 변신! ㄱㄴㄷ\n",
      "한글 재미 그림책 – 놀자! 가나다\n",
      "한글 재미 그림책 3권 세트\n",
      "사토시의 서\n",
      "컨테이너 보안\n",
      "자바스크립트는 모든 곳에 존재한다\n",
      "플러터 인 액션\n",
      "처음 배우는 리액트 네이티브\n",
      "처음 배우는 셸 스크립트\n",
      "맛있는 디자인 프리미어 프로&애프터 이펙트 CC 2021\n",
      "부시파일럿, 나는 길이 없는 곳으로 간다\n",
      "진지한 파이썬\n",
      "자본주의는 왜 멈추는가?\n",
      "IT CookBook, 파이썬 자료구조와 알고리즘 for Beginner\n",
      "뉴로제너레이션\n",
      "IT CookBook, 손에 잡히는 데이터 통신\n",
      "STEM CookBook, 재료역학&#40;2판&#41;\n",
      "STEM CookBook, 대학물리학&#40;5판&#41;\n",
      "이것이 C#이다&#40;개정판&#41;\n",
      "맛있는 디자인 포토샵&일러스트레이터 CC 2021\n",
      "IT CookBook, 디지털 회로 실험 with PSpice\n",
      "제대로 시작하는 기초 통계학 : Excel 활용 &#40;2판&#41;\n",
      "데이터 과학을 위한 기초수학 with 파이썬\n",
      "친절한 미분적분학\n",
      "미분적분학 : 대학수학의 첫걸음\n",
      "소프트웨어 스펙의 모든 것\n",
      "IT CookBook, 4차 산업혁명과 정보통신의 이해\n",
      "IT CookBook, 난생처음 R 코딩 & 데이터 분석\n"
     ]
    }
   ],
   "source": [
    "# findall(pattern, text)\n",
    "# tds = re.findall(r'<td class=\"left\"><a.*?</td>' , txt)\n",
    "for partial in re.findall(r'<td class=\"left\"><a.*?</td>' , txt):\n",
    "    #print(partial)\n",
    "#     #print(partial)\n",
    "#     searchUrl = re.search(r'<a href=\"(.*?)\">' , partial).group(1)\n",
    "#     url = 'https://www.hanbit.co.kr/'+searchUrl\n",
    "#     print(url)\n",
    "    title = re.sub(r'<.*?>', '', partial) # <>로 시작하는 모든 문자들을 공백으로 치환\n",
    "    print(title)"
   ]
  },
  {
   "cell_type": "code",
   "execution_count": 47,
   "metadata": {},
   "outputs": [],
   "source": [
    "with open('./booklist_json.json', mode='w', encoding='utf-8') as file:\n",
    "    data = []\n",
    "    for partial in re.findall(r'<td class=\"left\"><a.*?</td>' , txt):\n",
    "        searchUrl = re.search(r'<a href=\"(.*?)\">' , partial).group(1)\n",
    "        url = 'https://www.hanbit.co.kr/'+searchUrl\n",
    "        title = re.sub(r'<.*?>', '', partial)\n",
    "        data.append({'title' : title, 'link' : url})\n",
    "        \n",
    "    json.dump(data , file , ensure_ascii=False, indent=2) #indent는 딕셔너리 요소의 갯수\n",
    "    "
   ]
  },
  {
   "cell_type": "code",
   "execution_count": 48,
   "metadata": {},
   "outputs": [],
   "source": [
    "with open('./booklist_json.json', mode='r', encoding='utf-8') as file:\n",
    "    json_data = json.load(file)"
   ]
  },
  {
   "cell_type": "code",
   "execution_count": 52,
   "metadata": {},
   "outputs": [
    {
     "data": {
      "text/plain": [
       "'기술의 시대'"
      ]
     },
     "execution_count": 52,
     "metadata": {},
     "output_type": "execute_result"
    }
   ],
   "source": [
    "json_data[0]['title']"
   ]
  },
  {
   "cell_type": "code",
   "execution_count": null,
   "metadata": {},
   "outputs": [],
   "source": []
  }
 ],
 "metadata": {
  "kernelspec": {
   "display_name": "Python 3",
   "language": "python",
   "name": "python3"
  },
  "language_info": {
   "codemirror_mode": {
    "name": "ipython",
    "version": 3
   },
   "file_extension": ".py",
   "mimetype": "text/x-python",
   "name": "python",
   "nbconvert_exporter": "python",
   "pygments_lexer": "ipython3",
   "version": "3.8.5"
  }
 },
 "nbformat": 4,
 "nbformat_minor": 4
}
