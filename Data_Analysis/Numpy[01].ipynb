{
 "cells": [
  {
   "cell_type": "markdown",
   "metadata": {},
   "source": [
    "# Numpy"
   ]
  },
  {
   "cell_type": "markdown",
   "metadata": {},
   "source": [
    "## 학습목표 : 배열과 리스트의 차이점을 배워보자"
   ]
  },
  {
   "cell_type": "code",
   "execution_count": 7,
   "metadata": {},
   "outputs": [],
   "source": [
    "import numpy as np"
   ]
  },
  {
   "cell_type": "code",
   "execution_count": 8,
   "metadata": {},
   "outputs": [
    {
     "data": {
      "text/plain": [
       "'1.19.2'"
      ]
     },
     "execution_count": 8,
     "metadata": {},
     "output_type": "execute_result"
    }
   ],
   "source": [
    "np.__version__"
   ]
  },
  {
   "cell_type": "markdown",
   "metadata": {},
   "source": [
    "### 배열 자료구조 클래스인 ndarray - vector , matrix\n",
    "### 배열의 차원과 크기 - ndim , shape"
   ]
  },
  {
   "cell_type": "code",
   "execution_count": 12,
   "metadata": {},
   "outputs": [],
   "source": [
    "def aryInfo(arr) :\n",
    "    print(\"type : {}\".format(type(arr)))\n",
    "    print(\"shape : {} , dimension : {} , dtype : {}\".format(arr.shape , arr.ndim, arr.dtype))\n",
    "    print(\"Array's Data : \\n\" , arr)"
   ]
  },
  {
   "cell_type": "markdown",
   "metadata": {},
   "source": [
    "### 1차원 배열 만들기"
   ]
  },
  {
   "cell_type": "code",
   "execution_count": 13,
   "metadata": {},
   "outputs": [
    {
     "data": {
      "text/plain": [
       "array([0, 1, 2, 3, 4, 5, 6, 7, 8, 9])"
      ]
     },
     "execution_count": 13,
     "metadata": {},
     "output_type": "execute_result"
    }
   ],
   "source": [
    "ary = np.array([0,1,2,3,4,5,6,7,8,9])\n",
    "ary"
   ]
  },
  {
   "cell_type": "code",
   "execution_count": 17,
   "metadata": {},
   "outputs": [
    {
     "name": "stdout",
     "output_type": "stream",
     "text": [
      "type : <class 'numpy.ndarray'>\n",
      "shape : (10,) , dimension : 1 , dtype : int32\n",
      "Array's Data : \n",
      " [0 1 2 3 4 5 6 7 8 9]\n"
     ]
    }
   ],
   "source": [
    "aryInfo(ary)"
   ]
  },
  {
   "cell_type": "markdown",
   "metadata": {},
   "source": [
    "### Vectorized Operation( 벡터화 연산 )"
   ]
  },
  {
   "cell_type": "code",
   "execution_count": 23,
   "metadata": {},
   "outputs": [
    {
     "data": {
      "text/plain": [
       "[0, 1, 2, 3, 4, 5, 6, 7, 8, 9, 0, 1, 2, 3, 4, 5, 6, 7, 8, 9]"
      ]
     },
     "execution_count": 23,
     "metadata": {},
     "output_type": "execute_result"
    }
   ],
   "source": [
    "data = [0,1,2,3,4,5,6,7,8,9]\n",
    "data * 2 # 리스트 자체로는 계산이 불가능하다. list comprehension 이나 for loop 활용해야 한다. "
   ]
  },
  {
   "cell_type": "code",
   "execution_count": 32,
   "metadata": {},
   "outputs": [
    {
     "name": "stdout",
     "output_type": "stream",
     "text": [
      "[0, 2, 4, 6, 8, 10, 12, 14, 16, 18] <class 'list'>\n"
     ]
    }
   ],
   "source": [
    "# for 문을 활용한 의도한 계산법\n",
    "answer = []\n",
    "for d in data :\n",
    "    answer.append(d * 2)\n",
    "print(answer, type(data))"
   ]
  },
  {
   "cell_type": "code",
   "execution_count": 28,
   "metadata": {},
   "outputs": [
    {
     "name": "stdout",
     "output_type": "stream",
     "text": [
      "[0, 2, 4, 6, 8, 10, 12, 14, 16, 18] <class 'list'>\n"
     ]
    }
   ],
   "source": [
    "# list comprehension을 이용한 계싼법\n",
    "data2 = [i*2 for i in data]\n",
    "print(data2, type(data2))"
   ]
  },
  {
   "cell_type": "code",
   "execution_count": 27,
   "metadata": {},
   "outputs": [
    {
     "name": "stdout",
     "output_type": "stream",
     "text": [
      "[0 1 2 3 4 5 6 7 8 9] <class 'numpy.ndarray'>\n"
     ]
    }
   ],
   "source": [
    "# 벡터화 연산을 이용한 빠른 연산이 가능하다. 반복을 사용했을 때 보다 수행의 속도가 빠르고 메모리 절감!\n",
    "x = np.array(data)\n",
    "x * 2\n",
    "print(x, type(x))"
   ]
  },
  {
   "cell_type": "markdown",
   "metadata": {},
   "source": [
    "### 비교연산, 논리연산"
   ]
  },
  {
   "cell_type": "code",
   "execution_count": 33,
   "metadata": {},
   "outputs": [
    {
     "data": {
      "text/plain": [
       "array([11, 22, 33])"
      ]
     },
     "execution_count": 33,
     "metadata": {},
     "output_type": "execute_result"
    }
   ],
   "source": [
    "oneAry = np.array([1,2,3])\n",
    "twoAry = np.array([10,20,30])\n",
    "oneAry + twoAry"
   ]
  },
  {
   "cell_type": "code",
   "execution_count": 34,
   "metadata": {},
   "outputs": [
    {
     "data": {
      "text/plain": [
       "array([21, 42, 63])"
      ]
     },
     "execution_count": 34,
     "metadata": {},
     "output_type": "execute_result"
    }
   ],
   "source": [
    "oneAry + twoAry * 2"
   ]
  },
  {
   "cell_type": "code",
   "execution_count": 35,
   "metadata": {},
   "outputs": [
    {
     "data": {
      "text/plain": [
       "array([False,  True, False])"
      ]
     },
     "execution_count": 35,
     "metadata": {},
     "output_type": "execute_result"
    }
   ],
   "source": [
    "# boolean 형식으로 값이 들어있는지 확인가능 boolean masking\n",
    "oneAry == 2"
   ]
  },
  {
   "cell_type": "code",
   "execution_count": 36,
   "metadata": {},
   "outputs": [
    {
     "data": {
      "text/plain": [
       "array([False,  True,  True])"
      ]
     },
     "execution_count": 36,
     "metadata": {},
     "output_type": "execute_result"
    }
   ],
   "source": [
    "twoAry > 10"
   ]
  },
  {
   "cell_type": "code",
   "execution_count": 37,
   "metadata": {},
   "outputs": [
    {
     "data": {
      "text/plain": [
       "array([False,  True, False])"
      ]
     },
     "execution_count": 37,
     "metadata": {},
     "output_type": "execute_result"
    }
   ],
   "source": [
    "(oneAry == 2) & (twoAry > 10)"
   ]
  },
  {
   "cell_type": "markdown",
   "metadata": {},
   "source": [
    "### 2차원 배열 (행렬, matrix)"
   ]
  },
  {
   "cell_type": "code",
   "execution_count": 38,
   "metadata": {},
   "outputs": [
    {
     "name": "stdout",
     "output_type": "stream",
     "text": [
      "type : <class 'numpy.ndarray'>\n",
      "shape : (2, 3) , dimension : 2 , dtype : int32\n",
      "Array's Data : \n",
      " [[0 1 2]\n",
      " [3 4 5]]\n"
     ]
    }
   ],
   "source": [
    "matrix = np.array([[0,1,2], [3,4,5]])\n",
    "aryInfo(matrix)"
   ]
  },
  {
   "cell_type": "code",
   "execution_count": 40,
   "metadata": {},
   "outputs": [
    {
     "name": "stdout",
     "output_type": "stream",
     "text": [
      "행의 갯수 :  2\n",
      "열의 갯수 :  3\n"
     ]
    }
   ],
   "source": [
    "print('행의 갯수 : ', len(matrix))\n",
    "print('열의 갯수 : ', len(matrix[0]))"
   ]
  },
  {
   "cell_type": "markdown",
   "metadata": {},
   "source": [
    "### 3차원 배열"
   ]
  },
  {
   "cell_type": "code",
   "execution_count": 46,
   "metadata": {},
   "outputs": [],
   "source": [
    "threeDimAry = np.array([[[1,2,3,4],\n",
    "                        [5,6,7,8],\n",
    "                        [9,10,11,12]],\n",
    "                        [[11,12,13,14],\n",
    "                        [15,16,17,18],\n",
    "                        [19,20,21,22]]])"
   ]
  },
  {
   "cell_type": "code",
   "execution_count": 47,
   "metadata": {},
   "outputs": [
    {
     "name": "stdout",
     "output_type": "stream",
     "text": [
      "type : <class 'numpy.ndarray'>\n",
      "shape : (2, 3, 4) , dimension : 3 , dtype : int32\n",
      "Array's Data : \n",
      " [[[ 1  2  3  4]\n",
      "  [ 5  6  7  8]\n",
      "  [ 9 10 11 12]]\n",
      "\n",
      " [[11 12 13 14]\n",
      "  [15 16 17 18]\n",
      "  [19 20 21 22]]]\n"
     ]
    }
   ],
   "source": [
    "aryInfo(threeDimAry)"
   ]
  },
  {
   "cell_type": "code",
   "execution_count": 51,
   "metadata": {},
   "outputs": [
    {
     "name": "stdout",
     "output_type": "stream",
     "text": [
      "2 3 4\n"
     ]
    }
   ],
   "source": [
    "print( len(threeDimAry) , len(threeDimAry[0]) , len(threeDimAry[0][0]))"
   ]
  },
  {
   "cell_type": "code",
   "execution_count": 55,
   "metadata": {},
   "outputs": [
    {
     "name": "stdout",
     "output_type": "stream",
     "text": [
      "array ['100' 'hello' '3.14']\n",
      "type <class 'numpy.ndarray'>\n",
      "x.type <U11\n",
      "x[0] type <class 'numpy.str_'>\n"
     ]
    }
   ],
   "source": [
    "x = np.array([100, 'hello', 3.14])\n",
    "x\n",
    "# <U11 type은 문자열이라고 생각하면 된다.\n",
    "print('array {}'.format(x))\n",
    "print('type {}'.format(type(x)))\n",
    "print('x.type {}'.format(x.dtype))\n",
    "print('x[0] type {}'.format(type(x[0])))"
   ]
  },
  {
   "cell_type": "markdown",
   "metadata": {},
   "source": [
    "### indexing를 알아보자"
   ]
  },
  {
   "cell_type": "code",
   "execution_count": 54,
   "metadata": {},
   "outputs": [
    {
     "name": "stdout",
     "output_type": "stream",
     "text": [
      "type : <class 'numpy.ndarray'>\n",
      "shape : (6,) , dimension : 1 , dtype : int32\n",
      "Array's Data : \n",
      " [0 1 2 3 4 5]\n"
     ]
    }
   ],
   "source": [
    "data = np.array([0,1,2,3,4,5])\n",
    "aryInfo(data)"
   ]
  },
  {
   "cell_type": "code",
   "execution_count": 56,
   "metadata": {},
   "outputs": [
    {
     "data": {
      "text/plain": [
       "2"
      ]
     },
     "execution_count": 56,
     "metadata": {},
     "output_type": "execute_result"
    }
   ],
   "source": [
    "data[2]"
   ]
  },
  {
   "cell_type": "code",
   "execution_count": 58,
   "metadata": {},
   "outputs": [
    {
     "data": {
      "text/plain": [
       "5"
      ]
     },
     "execution_count": 58,
     "metadata": {},
     "output_type": "execute_result"
    }
   ],
   "source": [
    "data[-1]"
   ]
  },
  {
   "cell_type": "code",
   "execution_count": 59,
   "metadata": {},
   "outputs": [
    {
     "name": "stdout",
     "output_type": "stream",
     "text": [
      "type : <class 'numpy.ndarray'>\n",
      "shape : (2, 3) , dimension : 2 , dtype : int32\n",
      "Array's Data : \n",
      " [[0 1 2]\n",
      " [3 4 5]]\n"
     ]
    }
   ],
   "source": [
    "matrix = np.array([[0,1,2], [3,4,5]])\n",
    "aryInfo(matrix)"
   ]
  },
  {
   "cell_type": "code",
   "execution_count": 74,
   "metadata": {},
   "outputs": [
    {
     "data": {
      "text/plain": [
       "5"
      ]
     },
     "execution_count": 74,
     "metadata": {},
     "output_type": "execute_result"
    }
   ],
   "source": [
    "matrix[-1,-1]\n",
    "matrix[1, -1]\n",
    "matrix[1, 2]"
   ]
  },
  {
   "cell_type": "markdown",
   "metadata": {},
   "source": [
    "### Slicing을 알아보자"
   ]
  },
  {
   "cell_type": "code",
   "execution_count": null,
   "metadata": {},
   "outputs": [],
   "source": [
    "matrix = np.array([[0,1,2], [3,4,5]])"
   ]
  },
  {
   "cell_type": "code",
   "execution_count": 85,
   "metadata": {},
   "outputs": [
    {
     "name": "stdout",
     "output_type": "stream",
     "text": [
      "[0 1 2]\n",
      "[0 1 2]\n"
     ]
    }
   ],
   "source": [
    "# 첫번째 행의 전체\n",
    "print(matrix[0,])\n",
    "print(matrix[0, :])"
   ]
  },
  {
   "cell_type": "code",
   "execution_count": 90,
   "metadata": {},
   "outputs": [
    {
     "name": "stdout",
     "output_type": "stream",
     "text": [
      "[1 4]\n"
     ]
    }
   ],
   "source": [
    "# 두번째 열의 전체\n",
    "print(matrix[ : , 1])"
   ]
  },
  {
   "cell_type": "code",
   "execution_count": 89,
   "metadata": {},
   "outputs": [
    {
     "name": "stdout",
     "output_type": "stream",
     "text": [
      "[4 5]\n"
     ]
    }
   ],
   "source": [
    "# 두번째 행의 두번째 열부터 끝열까지\n",
    "print(matrix[ 1 , 1 :])"
   ]
  },
  {
   "cell_type": "code",
   "execution_count": 91,
   "metadata": {},
   "outputs": [],
   "source": [
    "m = np.array([[ 0,  1,  2,  3,  4],\n",
    "            [ 5,  6,  7,  8,  9],\n",
    "            [10, 11, 12, 13, 14]])"
   ]
  },
  {
   "cell_type": "code",
   "execution_count": 93,
   "metadata": {},
   "outputs": [
    {
     "name": "stdout",
     "output_type": "stream",
     "text": [
      "type : <class 'numpy.ndarray'>\n",
      "shape : (3, 5) , dimension : 2 , dtype : int32\n",
      "Array's Data : \n",
      " [[ 0  1  2  3  4]\n",
      " [ 5  6  7  8  9]\n",
      " [10 11 12 13 14]]\n"
     ]
    }
   ],
   "source": [
    "aryInfo(m)"
   ]
  },
  {
   "cell_type": "code",
   "execution_count": 97,
   "metadata": {},
   "outputs": [
    {
     "name": "stdout",
     "output_type": "stream",
     "text": [
      "7\n",
      "14\n",
      "14\n",
      "14\n",
      "14\n"
     ]
    }
   ],
   "source": [
    "# 값 7을 인덱싱하라\n",
    "print(m[1, 2])"
   ]
  },
  {
   "cell_type": "code",
   "execution_count": 98,
   "metadata": {},
   "outputs": [
    {
     "name": "stdout",
     "output_type": "stream",
     "text": [
      "14\n",
      "14\n",
      "14\n",
      "14\n"
     ]
    }
   ],
   "source": [
    "# 값 14를 인덱싱하라\n",
    "print(m[2, 4])\n",
    "print(m[2, -1])\n",
    "print(m[-1, -1])\n",
    "print(m[-1, 4])"
   ]
  },
  {
   "cell_type": "code",
   "execution_count": 102,
   "metadata": {},
   "outputs": [
    {
     "name": "stdout",
     "output_type": "stream",
     "text": [
      "[6 7]\n"
     ]
    }
   ],
   "source": [
    "# 배열 [6, 7]을 슬라이싱하라\n",
    "print(m[1, 1:3])"
   ]
  },
  {
   "cell_type": "code",
   "execution_count": 126,
   "metadata": {},
   "outputs": [
    {
     "name": "stdout",
     "output_type": "stream",
     "text": [
      "[ 7 12]\n",
      "[ 7 12]\n"
     ]
    }
   ],
   "source": [
    "# 배열 [7, 12]를 슬라이싱하라\n",
    "print(m[1:3 , 2])\n",
    "print(m[1:,2])"
   ]
  },
  {
   "cell_type": "code",
   "execution_count": 112,
   "metadata": {},
   "outputs": [
    {
     "name": "stdout",
     "output_type": "stream",
     "text": [
      "[[3 4]\n",
      " [8 9]]\n"
     ]
    }
   ],
   "source": [
    "# 배열[[3,4], [8,9]]를 슬라이싱하라\n",
    "\n",
    "print(m[:2, 3:5])"
   ]
  },
  {
   "cell_type": "markdown",
   "metadata": {},
   "source": [
    "### boolean indexing"
   ]
  },
  {
   "cell_type": "code",
   "execution_count": 129,
   "metadata": {},
   "outputs": [
    {
     "name": "stdout",
     "output_type": "stream",
     "text": [
      "type : <class 'numpy.ndarray'>\n",
      "shape : (10,) , dimension : 1 , dtype : int32\n",
      "Array's Data : \n",
      " [0 1 2 3 4 5 6 7 8 9]\n"
     ]
    }
   ],
   "source": [
    "odd_even = np.array([0,1,2,3,4,5,6,7,8,9])\n",
    "idx = np.array([True, False, True, False, True, False, True, False, True, False])\n",
    "aryInfo(odd_even)"
   ]
  },
  {
   "cell_type": "code",
   "execution_count": 130,
   "metadata": {},
   "outputs": [
    {
     "data": {
      "text/plain": [
       "array([0, 2, 4, 6, 8])"
      ]
     },
     "execution_count": 130,
     "metadata": {},
     "output_type": "execute_result"
    }
   ],
   "source": [
    "odd_even[idx] # True로 매칭되는 데이터만 출력"
   ]
  },
  {
   "cell_type": "code",
   "execution_count": 135,
   "metadata": {},
   "outputs": [
    {
     "data": {
      "text/plain": [
       "array([0, 2, 4, 6, 8])"
      ]
     },
     "execution_count": 135,
     "metadata": {},
     "output_type": "execute_result"
    }
   ],
   "source": [
    "odd_even[odd_even % 2 == 0]"
   ]
  },
  {
   "cell_type": "code",
   "execution_count": 136,
   "metadata": {},
   "outputs": [
    {
     "data": {
      "text/plain": [
       "array([ True, False,  True, False,  True, False,  True, False,  True,\n",
       "       False])"
      ]
     },
     "execution_count": 136,
     "metadata": {},
     "output_type": "execute_result"
    }
   ],
   "source": [
    "odd_even % 2 == 0"
   ]
  },
  {
   "cell_type": "markdown",
   "metadata": {},
   "source": [
    "### fancing Indexing"
   ]
  },
  {
   "cell_type": "code",
   "execution_count": 137,
   "metadata": {},
   "outputs": [
    {
     "data": {
      "text/plain": [
       "array([1, 3, 5, 7, 9])"
      ]
     },
     "execution_count": 137,
     "metadata": {},
     "output_type": "execute_result"
    }
   ],
   "source": [
    "data = np.array([1,2,3,4,5,6,7,8,9])\n",
    "idx = np.array([0, 2, 4, 6, 8]) #index의 번지수를 의미\n",
    "data[idx]"
   ]
  },
  {
   "cell_type": "code",
   "execution_count": 138,
   "metadata": {},
   "outputs": [
    {
     "data": {
      "text/plain": [
       "array([1, 1, 1, 2, 2, 2, 3, 3, 3])"
      ]
     },
     "execution_count": 138,
     "metadata": {},
     "output_type": "execute_result"
    }
   ],
   "source": [
    "idx = np.array([0,0,0,1,1,1,2,2,2]) #배열 요소의 크기와 상관이 없음\n",
    "data[idx]"
   ]
  },
  {
   "cell_type": "code",
   "execution_count": 139,
   "metadata": {},
   "outputs": [
    {
     "name": "stdout",
     "output_type": "stream",
     "text": [
      "type : <class 'numpy.ndarray'>\n",
      "shape : (3, 4) , dimension : 2 , dtype : int32\n",
      "Array's Data : \n",
      " [[ 1  2  3  4]\n",
      " [ 5  6  7  8]\n",
      " [ 9 10 11 12]]\n"
     ]
    }
   ],
   "source": [
    "n_dim_ary = np.array([[1,2,3,4],[5,6,7,8],[9,10,11,12]])\n",
    "aryInfo(n_dim_ary)"
   ]
  },
  {
   "cell_type": "code",
   "execution_count": 146,
   "metadata": {},
   "outputs": [
    {
     "data": {
      "text/plain": [
       "array([[ 1,  4],\n",
       "       [ 5,  8],\n",
       "       [ 9, 12]])"
      ]
     },
     "execution_count": 146,
     "metadata": {},
     "output_type": "execute_result"
    }
   ],
   "source": [
    "n_dim_ary[:, [0, 3]] #배열 indexing 이용하여 가져올 수도 있다."
   ]
  },
  {
   "cell_type": "code",
   "execution_count": 149,
   "metadata": {},
   "outputs": [
    {
     "data": {
      "text/plain": [
       "array([[ 1,  4],\n",
       "       [ 5,  8],\n",
       "       [ 9, 12]])"
      ]
     },
     "execution_count": 149,
     "metadata": {},
     "output_type": "execute_result"
    }
   ],
   "source": [
    "n_dim_ary[: , [True, False, False, True]] #boolean indexing을 이용한 방법"
   ]
  },
  {
   "cell_type": "code",
   "execution_count": 150,
   "metadata": {},
   "outputs": [
    {
     "data": {
      "text/plain": [
       "array([[ 1,  4],\n",
       "       [ 5,  8],\n",
       "       [ 9, 12]])"
      ]
     },
     "execution_count": 150,
     "metadata": {},
     "output_type": "execute_result"
    }
   ],
   "source": [
    "idx = np.array([0, 3])\n",
    "n_dim_ary[: , idx]"
   ]
  },
  {
   "cell_type": "code",
   "execution_count": 154,
   "metadata": {},
   "outputs": [
    {
     "data": {
      "text/plain": [
       "array([[ 9, 10, 11, 12],\n",
       "       [ 1,  2,  3,  4],\n",
       "       [ 5,  6,  7,  8]])"
      ]
     },
     "execution_count": 154,
     "metadata": {},
     "output_type": "execute_result"
    }
   ],
   "source": [
    "n_dim_ary[[-1, 0, 1], :]"
   ]
  },
  {
   "cell_type": "code",
   "execution_count": 155,
   "metadata": {},
   "outputs": [],
   "source": [
    "x = np.array([1, 2, 3, 4, 5, 6, 7, 8, 9, 10,\n",
    "             11, 12, 13, 14, 15, 16, 17, 18, 19, 20])"
   ]
  },
  {
   "cell_type": "code",
   "execution_count": 156,
   "metadata": {},
   "outputs": [
    {
     "name": "stdout",
     "output_type": "stream",
     "text": [
      "type : <class 'numpy.ndarray'>\n",
      "shape : (20,) , dimension : 1 , dtype : int32\n",
      "Array's Data : \n",
      " [ 1  2  3  4  5  6  7  8  9 10 11 12 13 14 15 16 17 18 19 20]\n"
     ]
    }
   ],
   "source": [
    "aryInfo(x)"
   ]
  },
  {
   "cell_type": "code",
   "execution_count": 165,
   "metadata": {},
   "outputs": [
    {
     "name": "stdout",
     "output_type": "stream",
     "text": [
      "[ 3  6  9 12 15 18]\n",
      "[ 1  5  9 13 17]\n",
      "[9] <class 'numpy.ndarray'>\n"
     ]
    }
   ],
   "source": [
    "# 3의 배수를 찾아라\n",
    "print(x[x % 3 == 0])\n",
    "# 4로 나눴을 때 나머지가 1인 수를 찾아라\n",
    "print(x[x % 4 == 1])\n",
    "# 3으로 나누면 나누어지고 4로 나누면 1이 남는 수를 찾아라\n",
    "print(x[(x % 3 == 0) & (x % 4 == 1)], type(x[(x % 3 == 0) & (x % 4 == 1)])) # [9]가 list가 아님, ndarray이 타입이다."
   ]
  },
  {
   "cell_type": "markdown",
   "metadata": {},
   "source": [
    "###  배열의 생성과 변형"
   ]
  },
  {
   "cell_type": "code",
   "execution_count": 172,
   "metadata": {},
   "outputs": [
    {
     "name": "stdout",
     "output_type": "stream",
     "text": [
      "type : <class 'numpy.ndarray'>\n",
      "shape : (3, 4) , dimension : 2 , dtype : int32\n",
      "Array's Data : \n",
      " [[ 0  1  2  3]\n",
      " [ 4  5  6  7]\n",
      " [ 8  9 10 11]]\n"
     ]
    }
   ],
   "source": [
    "ary = np.arange(0,12,1).reshape(3,4) # arange는 1차원 배열을 만드는데 reshape을 통해 원하는 형태로 배열을 만들 수 있다.\n",
    "aryInfo(ary)"
   ]
  },
  {
   "cell_type": "code",
   "execution_count": 179,
   "metadata": {},
   "outputs": [
    {
     "name": "stdout",
     "output_type": "stream",
     "text": [
      "10 <class 'numpy.int32'>\n",
      "6 <class 'numpy.int32'>\n",
      "[6] <class 'numpy.ndarray'>\n",
      "[[5]] <class 'numpy.ndarray'>\n"
     ]
    }
   ],
   "source": [
    "# 10을 찾고자 한다면..?\n",
    "print(ary[2, 2], type(ary[2,2]))\n",
    "\n",
    "# 6을 찾고자 한다면..?\n",
    "print(ary[1, 2], type(ary[1,2]))\n",
    "print(ary[1:2, 2], type(ary[1:2, 2]))\n",
    "\n",
    "# 5를 찾고자 한다면..?\n",
    "print(ary[1:2, 1:2], type(ary[1:2, 1:2]))"
   ]
  },
  {
   "cell_type": "markdown",
   "metadata": {},
   "source": [
    "ndarray가 포함하고 있는 것\n",
    "- vector(1차원 - 배열) - pandas(Series)\n",
    "- Matrix(N차원 - 행렬) - pandas(DataFrame)"
   ]
  },
  {
   "cell_type": "code",
   "execution_count": 185,
   "metadata": {},
   "outputs": [
    {
     "name": "stdout",
     "output_type": "stream",
     "text": [
      "[[ 0  2]\n",
      " [ 4  6]\n",
      " [ 8 10]] <class 'numpy.ndarray'>\n"
     ]
    }
   ],
   "source": [
    "print(ary[ : , [0, 2]], type(ary[ : , [0, 2]]))"
   ]
  },
  {
   "cell_type": "code",
   "execution_count": 190,
   "metadata": {},
   "outputs": [
    {
     "name": "stdout",
     "output_type": "stream",
     "text": [
      "type : <class 'numpy.ndarray'>\n",
      "shape : (2,) , dimension : 1 , dtype : int32\n",
      "Array's Data : \n",
      " [ 2 10]\n",
      "type : <class 'numpy.ndarray'>\n",
      "shape : (2, 1) , dimension : 2 , dtype : int32\n",
      "Array's Data : \n",
      " [[ 2]\n",
      " [10]]\n"
     ]
    }
   ],
   "source": [
    "# 2 와 10을 가져와보고 싶다? --> 결과값은 똑같지만 출력 결과 차원이 다르다.\n",
    "aryInfo(ary[[0,2] , 2]) # 1차원 출력\n",
    "aryInfo(ary[[0,2] , 2:3]) # 2차원 출력"
   ]
  },
  {
   "cell_type": "code",
   "execution_count": 234,
   "metadata": {},
   "outputs": [
    {
     "name": "stdout",
     "output_type": "stream",
     "text": [
      "type : <class 'numpy.ndarray'>\n",
      "shape : (2,) , dimension : 1 , dtype : int32\n",
      "Array's Data : \n",
      " [ 0 10]\n",
      "None\n",
      "**************************************************\n",
      "np.ix_() --->\n",
      "[[ 0  2]\n",
      " [ 8 10]]\n",
      "**************************************************\n",
      "rowIdx :  [0 2]\n",
      "colIdx :  [0 2]\n",
      "**************************************************\n",
      "[[ 0  1  2  3]\n",
      " [ 8  9 10 11]]\n",
      "**************************************************\n",
      "[[ 0  2]\n",
      " [ 8 10]]\n"
     ]
    },
    {
     "name": "stderr",
     "output_type": "stream",
     "text": [
      "<ipython-input-234-d12ce9c011ad>:20: FutureWarning: Using a non-tuple sequence for multidimensional indexing is deprecated; use `arr[tuple(seq)]` instead of `arr[seq]`. In the future this will be interpreted as an array index, `arr[np.array(seq)]`, which will result either in an error or a different result.\n",
      "  print(ary[[rowIdx]])\n",
      "<ipython-input-234-d12ce9c011ad>:22: FutureWarning: Using a non-tuple sequence for multidimensional indexing is deprecated; use `arr[tuple(seq)]` instead of `arr[seq]`. In the future this will be interpreted as an array index, `arr[np.array(seq)]`, which will result either in an error or a different result.\n",
      "  print(ary[[rowIdx]] [: , colIdx])\n"
     ]
    }
   ],
   "source": [
    "# 0, 8 , 2, 10을 2차원의 배열 형식으로 가져온다면?\n",
    "# [[0 2]\n",
    "#  [8 10]]\n",
    "\n",
    "print(aryInfo(ary[[0, 2], [0, 2]])) # 초기 생각 --> 원하는 결과가 나오지 않음\n",
    "print('*'*50)\n",
    "\n",
    "# np.ix_ 를 이용한 해결 즉, 인덱스를 활용했을 때\n",
    "print('np.ix_() --->')\n",
    "print(ary[ np.ix_([0,2], [0,2])])\n",
    "print('*'*50)\n",
    "\n",
    "rowIdx = np.array([0,2])\n",
    "print('rowIdx : ', rowIdx)\n",
    "colIdx = np.array([0,2])\n",
    "print('colIdx : ', colIdx)\n",
    "print('*'*50)\n",
    "\n",
    "\n",
    "print(ary[[rowIdx]])\n",
    "print('*'*50)\n",
    "print(ary[[rowIdx]] [: , colIdx])"
   ]
  },
  {
   "cell_type": "code",
   "execution_count": 228,
   "metadata": {},
   "outputs": [
    {
     "name": "stdout",
     "output_type": "stream",
     "text": [
      "**************************************************\n",
      "type : <class 'numpy.ndarray'>\n",
      "shape : (2, 2) , dimension : 2 , dtype : int32\n",
      "Array's Data : \n",
      " [[ 0  2]\n",
      " [ 8 10]]\n",
      "None\n"
     ]
    }
   ],
   "source": [
    "print('*'*50)\n",
    "print(aryInfo(ary[[0, 2] , ::2]))"
   ]
  },
  {
   "cell_type": "code",
   "execution_count": 235,
   "metadata": {},
   "outputs": [
    {
     "name": "stdout",
     "output_type": "stream",
     "text": [
      "type : <class 'numpy.ndarray'>\n",
      "shape : (3,) , dimension : 1 , dtype : <U1\n",
      "Array's Data : \n",
      " ['1' '2' '3']\n"
     ]
    }
   ],
   "source": [
    "x = np.array([1,2,3] , dtype='U')\n",
    "aryInfo(x)"
   ]
  },
  {
   "cell_type": "code",
   "execution_count": 236,
   "metadata": {},
   "outputs": [
    {
     "data": {
      "text/plain": [
       "'12'"
      ]
     },
     "execution_count": 236,
     "metadata": {},
     "output_type": "execute_result"
    }
   ],
   "source": [
    "x[0] + x[1] # 문자열로 형 변환을 했기 때문에 1과 2를 붙인 12가 출력"
   ]
  },
  {
   "cell_type": "code",
   "execution_count": 237,
   "metadata": {},
   "outputs": [
    {
     "name": "stdout",
     "output_type": "stream",
     "text": [
      "type : <class 'numpy.ndarray'>\n",
      "shape : (3,) , dimension : 1 , dtype : float32\n",
      "Array's Data : \n",
      " [1. 2. 3.]\n"
     ]
    }
   ],
   "source": [
    "x = np.array([1,2,3] , dtype='f')\n",
    "aryInfo(x)"
   ]
  },
  {
   "cell_type": "code",
   "execution_count": 240,
   "metadata": {},
   "outputs": [
    {
     "data": {
      "text/plain": [
       "3.0"
      ]
     },
     "execution_count": 240,
     "metadata": {},
     "output_type": "execute_result"
    }
   ],
   "source": [
    "x[0] + x[1] # float로 형변환을 했기 때문에 3.0 출력"
   ]
  },
  {
   "cell_type": "markdown",
   "metadata": {},
   "source": [
    "표현 속성\n",
    "- inf : 무한대를 표현할 때 쓰는 속성 (np.innf(infinity))\n",
    "- NaN : 정의할 수 없는 숫자 (np.nan(not a number))"
   ]
  },
  {
   "cell_type": "code",
   "execution_count": 241,
   "metadata": {},
   "outputs": [
    {
     "name": "stderr",
     "output_type": "stream",
     "text": [
      "<ipython-input-241-6ab12ec6e7a4>:1: RuntimeWarning: divide by zero encountered in true_divide\n",
      "  np.array([0, 1, -1, 0]) / np.array([1, 0, 0, 0])\n",
      "<ipython-input-241-6ab12ec6e7a4>:1: RuntimeWarning: invalid value encountered in true_divide\n",
      "  np.array([0, 1, -1, 0]) / np.array([1, 0, 0, 0])\n"
     ]
    },
    {
     "data": {
      "text/plain": [
       "array([  0.,  inf, -inf,  nan])"
      ]
     },
     "execution_count": 241,
     "metadata": {},
     "output_type": "execute_result"
    }
   ],
   "source": [
    "np.array([0, 1, -1, 0]) / np.array([1, 0, 0, 0])"
   ]
  },
  {
   "cell_type": "markdown",
   "metadata": {},
   "source": [
    "### 배열 생성시 사용할 수 있는 함수\n",
    "- array()\n",
    "- arange()\n",
    "- zeros(), ones()\n",
    "- zeros_like(), ones_like()\n",
    "- empty()\n",
    "- linspace"
   ]
  },
  {
   "cell_type": "code",
   "execution_count": 247,
   "metadata": {},
   "outputs": [
    {
     "name": "stdout",
     "output_type": "stream",
     "text": [
      "type : <class 'numpy.ndarray'>\n",
      "shape : (5,) , dimension : 1 , dtype : float64\n",
      "Array's Data : \n",
      " [0. 0. 0. 0. 0.]\n"
     ]
    }
   ],
   "source": [
    "z = np.zeros(5)\n",
    "aryInfo(z)"
   ]
  },
  {
   "cell_type": "code",
   "execution_count": 250,
   "metadata": {},
   "outputs": [
    {
     "name": "stdout",
     "output_type": "stream",
     "text": [
      "type : <class 'numpy.ndarray'>\n",
      "shape : (5, 2) , dimension : 2 , dtype : int32\n",
      "Array's Data : \n",
      " [[0 0]\n",
      " [0 0]\n",
      " [0 0]\n",
      " [0 0]\n",
      " [0 0]]\n"
     ]
    }
   ],
   "source": [
    "z = np.zeros((5,2), dtype='i')\n",
    "aryInfo(z)"
   ]
  },
  {
   "cell_type": "code",
   "execution_count": 252,
   "metadata": {},
   "outputs": [
    {
     "name": "stdout",
     "output_type": "stream",
     "text": [
      "type : <class 'numpy.ndarray'>\n",
      "shape : (2, 3, 4) , dimension : 3 , dtype : int32\n",
      "Array's Data : \n",
      " [[[1 1 1 1]\n",
      "  [1 1 1 1]\n",
      "  [1 1 1 1]]\n",
      "\n",
      " [[1 1 1 1]\n",
      "  [1 1 1 1]\n",
      "  [1 1 1 1]]]\n"
     ]
    }
   ],
   "source": [
    "o = np.ones((2, 3 ,4), dtype = 'i')\n",
    "aryInfo(o)"
   ]
  },
  {
   "cell_type": "code",
   "execution_count": 254,
   "metadata": {},
   "outputs": [
    {
     "name": "stdout",
     "output_type": "stream",
     "text": [
      "type : <class 'numpy.ndarray'>\n",
      "shape : (5, 2) , dimension : 2 , dtype : float32\n",
      "Array's Data : \n",
      " [[0. 0.]\n",
      " [0. 0.]\n",
      " [0. 0.]\n",
      " [0. 0.]\n",
      " [0. 0.]]\n"
     ]
    }
   ],
   "source": [
    "zl = np.zeros_like(z, dtype='f')\n",
    "aryInfo(zl)"
   ]
  },
  {
   "cell_type": "code",
   "execution_count": 257,
   "metadata": {},
   "outputs": [
    {
     "name": "stdout",
     "output_type": "stream",
     "text": [
      "type : <class 'numpy.ndarray'>\n",
      "shape : (5, 2) , dimension : 2 , dtype : float32\n",
      "Array's Data : \n",
      " [[1. 1.]\n",
      " [1. 1.]\n",
      " [1. 1.]\n",
      " [1. 1.]\n",
      " [1. 1.]]\n"
     ]
    }
   ],
   "source": [
    "zl = np.ones_like(z, dtype='f')\n",
    "aryInfo(zl)"
   ]
  },
  {
   "cell_type": "code",
   "execution_count": 261,
   "metadata": {},
   "outputs": [
    {
     "name": "stdout",
     "output_type": "stream",
     "text": [
      "type : <class 'numpy.ndarray'>\n",
      "shape : (4, 3) , dimension : 2 , dtype : float64\n",
      "Array's Data : \n",
      " [[0. 0. 0.]\n",
      " [0. 0. 0.]\n",
      " [0. 0. 0.]\n",
      " [0. 0. 0.]]\n"
     ]
    }
   ],
   "source": [
    "e = np.empty((4,3))\n",
    "aryInfo(e)"
   ]
  },
  {
   "cell_type": "code",
   "execution_count": 262,
   "metadata": {},
   "outputs": [
    {
     "data": {
      "text/plain": [
       "array([0, 1, 2, 3, 4, 5, 6, 7, 8, 9])"
      ]
     },
     "execution_count": 262,
     "metadata": {},
     "output_type": "execute_result"
    }
   ],
   "source": [
    "np.arange(10) # 0....n-1 까지 값 출력"
   ]
  },
  {
   "cell_type": "code",
   "execution_count": 264,
   "metadata": {},
   "outputs": [
    {
     "data": {
      "text/plain": [
       "array([ 3,  5,  7,  9, 11, 13, 15, 17, 19])"
      ]
     },
     "execution_count": 264,
     "metadata": {},
     "output_type": "execute_result"
    }
   ],
   "source": [
    "np.arange(3, 21, 2) # 시작, 끝(포함하지 않는다), 단계"
   ]
  },
  {
   "cell_type": "code",
   "execution_count": 265,
   "metadata": {},
   "outputs": [
    {
     "data": {
      "text/plain": [
       "array([  0.,  25.,  50.,  75., 100.])"
      ]
     },
     "execution_count": 265,
     "metadata": {},
     "output_type": "execute_result"
    }
   ],
   "source": [
    "np.linspace(0, 100, 5) # 100을 5개의 구간으로 분리하겠다.\n"
   ]
  },
  {
   "cell_type": "markdown",
   "metadata": {},
   "source": [
    "- 전치행렬(transpose matrix)\n",
    "- 행렬의 행은 열로, 열은 행으로 바꾼 행렬을 의미한다.\n",
    "- T (속성)"
   ]
  },
  {
   "cell_type": "code",
   "execution_count": 266,
   "metadata": {},
   "outputs": [],
   "source": [
    "ary = np.array([ [1,2,3] , [4,5,6] ])"
   ]
  },
  {
   "cell_type": "code",
   "execution_count": 268,
   "metadata": {},
   "outputs": [
    {
     "name": "stdout",
     "output_type": "stream",
     "text": [
      "type : <class 'numpy.ndarray'>\n",
      "shape : (3, 2) , dimension : 2 , dtype : int32\n",
      "Array's Data : \n",
      " [[1 4]\n",
      " [2 5]\n",
      " [3 6]]\n"
     ]
    }
   ],
   "source": [
    "ary_t = ary.T\n",
    "aryInfo(ary_t)"
   ]
  },
  {
   "cell_type": "code",
   "execution_count": 278,
   "metadata": {},
   "outputs": [
    {
     "name": "stdout",
     "output_type": "stream",
     "text": [
      "type : <class 'numpy.ndarray'>\n",
      "shape : (10,) , dimension : 1 , dtype : int32\n",
      "Array's Data : \n",
      " [0 1 2 3 4 5 6 7 8 9]\n",
      "**************************************************\n",
      "type : <class 'numpy.ndarray'>\n",
      "shape : (10,) , dimension : 1 , dtype : int32\n",
      "Array's Data : \n",
      " [0 1 2 3 4 5 6 7 8 9]\n",
      "**************************************************\n",
      "type : <class 'numpy.ndarray'>\n",
      "shape : (10, 1) , dimension : 2 , dtype : int32\n",
      "Array's Data : \n",
      " [[0]\n",
      " [1]\n",
      " [2]\n",
      " [3]\n",
      " [4]\n",
      " [5]\n",
      " [6]\n",
      " [7]\n",
      " [8]\n",
      " [9]]\n"
     ]
    }
   ],
   "source": [
    "# vector 에 transpose가 가능할까?\n",
    "vec = np.arange(10)\n",
    "aryInfo(vec)\n",
    "print('*'*50)\n",
    "\n",
    "vec_t = vec.T\n",
    "aryInfo(vec_t)\n",
    "print('*'*50)\n",
    "\n",
    "vec_r_t = vec.reshape(1, 10).T\n",
    "aryInfo(vec_r_t)"
   ]
  },
  {
   "cell_type": "markdown",
   "metadata": {},
   "source": [
    "### 크기 변형\n"
   ]
  },
  {
   "cell_type": "code",
   "execution_count": 280,
   "metadata": {},
   "outputs": [
    {
     "name": "stdout",
     "output_type": "stream",
     "text": [
      "type : <class 'numpy.ndarray'>\n",
      "shape : (3, 4) , dimension : 2 , dtype : int32\n",
      "Array's Data : \n",
      " [[ 0  1  2  3]\n",
      " [ 4  5  6  7]\n",
      " [ 8  9 10 11]]\n"
     ]
    }
   ],
   "source": [
    "x = np.arange(12)\n",
    "aryInfo(x)"
   ]
  },
  {
   "cell_type": "code",
   "execution_count": 283,
   "metadata": {},
   "outputs": [
    {
     "name": "stdout",
     "output_type": "stream",
     "text": [
      "type : <class 'numpy.ndarray'>\n",
      "shape : (3, 4) , dimension : 2 , dtype : int32\n",
      "Array's Data : \n",
      " [[ 0  1  2  3]\n",
      " [ 4  5  6  7]\n",
      " [ 8  9 10 11]]\n"
     ]
    }
   ],
   "source": [
    "xx = x.reshape(3,4)\n",
    "aryInfo(xx)"
   ]
  },
  {
   "cell_type": "code",
   "execution_count": 291,
   "metadata": {},
   "outputs": [
    {
     "name": "stdout",
     "output_type": "stream",
     "text": [
      "type : <class 'numpy.ndarray'>\n",
      "shape : (2, 2, 3) , dimension : 3 , dtype : int32\n",
      "Array's Data : \n",
      " [[[ 0  1  2]\n",
      "  [ 3  4  5]]\n",
      "\n",
      " [[ 6  7  8]\n",
      "  [ 9 10 11]]]\n"
     ]
    }
   ],
   "source": [
    "x_reshape = x.reshape(2, -1) #row가 결정이 됐으면 내부 요소에 따라서 col이 알아서 맞춰준다.\n",
    "aryInfo(x_reshape)"
   ]
  },
  {
   "cell_type": "code",
   "execution_count": 292,
   "metadata": {},
   "outputs": [
    {
     "name": "stdout",
     "output_type": "stream",
     "text": [
      "type : <class 'numpy.ndarray'>\n",
      "shape : (2, 3, 2) , dimension : 3 , dtype : int32\n",
      "Array's Data : \n",
      " [[[ 0  1]\n",
      "  [ 2  3]\n",
      "  [ 4  5]]\n",
      "\n",
      " [[ 6  7]\n",
      "  [ 8  9]\n",
      "  [10 11]]]\n"
     ]
    }
   ],
   "source": [
    "x_reshape = x.reshape(2, -1, 2) # (depth, row, col)\n",
    "aryInfo(x_reshape)"
   ]
  },
  {
   "cell_type": "code",
   "execution_count": null,
   "metadata": {},
   "outputs": [],
   "source": []
  }
 ],
 "metadata": {
  "kernelspec": {
   "display_name": "Python 3",
   "language": "python",
   "name": "python3"
  },
  "language_info": {
   "codemirror_mode": {
    "name": "ipython",
    "version": 3
   },
   "file_extension": ".py",
   "mimetype": "text/x-python",
   "name": "python",
   "nbconvert_exporter": "python",
   "pygments_lexer": "ipython3",
   "version": "3.8.5"
  }
 },
 "nbformat": 4,
 "nbformat_minor": 4
}
