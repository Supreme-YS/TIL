{
 "cells": [
  {
   "cell_type": "markdown",
   "metadata": {},
   "source": [
    "### 학습목표\n",
    "- 왜 크롤링이 필요한지?\n",
    "- 페이지 처리하는 방법\n",
    "- json scraping"
   ]
  },
  {
   "cell_type": "code",
   "execution_count": 1,
   "metadata": {},
   "outputs": [],
   "source": [
    "# conda install -c conda-forge selenium"
   ]
  },
  {
   "cell_type": "code",
   "execution_count": 181,
   "metadata": {},
   "outputs": [],
   "source": [
    "from urllib.request import urlopen\n",
    "from bs4 import BeautifulSoup\n",
    "from urllib.error import HTTPError\n",
    "from urllib.error import URLError\n",
    "\n",
    "import numpy as np\n",
    "import pandas as pd\n",
    "from selenium import webdriver\n",
    "import time"
   ]
  },
  {
   "cell_type": "code",
   "execution_count": 182,
   "metadata": {},
   "outputs": [
    {
     "data": {
      "text/plain": [
       "<selenium.webdriver.chrome.webdriver.WebDriver (session=\"0a7c934ea57827fdcc6d37fc76b793fc\")>"
      ]
     },
     "execution_count": 182,
     "metadata": {},
     "output_type": "execute_result"
    }
   ],
   "source": [
    "path = './driver/chromedriver.exe'\n",
    "driver = webdriver.Chrome(path) # 제어할 수 있는 웹 창 띄우기\n",
    "driver"
   ]
  },
  {
   "cell_type": "code",
   "execution_count": 26,
   "metadata": {},
   "outputs": [],
   "source": [
    "driver.get('https://python.org')"
   ]
  },
  {
   "cell_type": "markdown",
   "metadata": {},
   "source": [
    "- find_element_*()\n",
    "- find_elements_*()\n",
    "\n",
    "- find_element_by_id()\n",
    "- find_element_by_name()\n",
    "- find_element_by_css_selector()\n",
    "- find_element_by_tag_name()"
   ]
  },
  {
   "cell_type": "code",
   "execution_count": 27,
   "metadata": {},
   "outputs": [
    {
     "data": {
      "text/plain": [
       "'Docs'"
      ]
     },
     "execution_count": 27,
     "metadata": {},
     "output_type": "execute_result"
    }
   ],
   "source": [
    "# 후손 선택자\n",
    "menus = driver.find_elements_by_css_selector('#top ul.menu li') #id가 top -> ul 태그 -> 클래스 menu -> ul 태그\n",
    "menus[2].text"
   ]
  },
  {
   "cell_type": "code",
   "execution_count": 28,
   "metadata": {},
   "outputs": [],
   "source": [
    "clickMenu = None\n",
    "for li in menus :\n",
    "    if li.text == 'Docs':\n",
    "        clickMenu = li\n",
    "\n",
    "clickMenu.click()\n",
    "time.sleep(5)\n",
    "driver.close()"
   ]
  },
  {
   "cell_type": "code",
   "execution_count": 31,
   "metadata": {},
   "outputs": [],
   "source": [
    "# naver 쇼핑인사이트\n",
    "\n",
    "driver.get('https://datalab.naver.com/shoppingInsight/sCategory.naver')"
   ]
  },
  {
   "cell_type": "code",
   "execution_count": 33,
   "metadata": {},
   "outputs": [
    {
     "data": {
      "text/plain": [
       "'1\\n트위드자켓\\n2\\n원피스\\n3\\n트렌치코트\\n4\\n여성경량패딩\\n5\\n나이키바람막이\\n6\\n블라우스\\n7\\n쥬시쥬디\\n8\\n여성트레이닝세트\\n9\\n후드집업\\n10\\n써스데이아일랜드원피스\\n11\\n핸드메이드코트\\n12\\n반팔티\\n13\\n잠옷\\n14\\n바람막이\\n15\\n맨투맨\\n16\\n롱원피스\\n17\\n나이키맨투맨\\n18\\n여성자켓\\n19\\n남자경량패딩\\n20\\n여성가디건'"
      ]
     },
     "execution_count": 33,
     "metadata": {},
     "output_type": "execute_result"
    }
   ],
   "source": [
    "ul_tag = driver.find_element_by_css_selector('.rank_top1000_list')\n",
    "ul_tag"
   ]
  },
  {
   "cell_type": "code",
   "execution_count": 45,
   "metadata": {},
   "outputs": [
    {
     "data": {
      "text/plain": [
       "'1\\n트위드자켓'"
      ]
     },
     "execution_count": 45,
     "metadata": {},
     "output_type": "execute_result"
    }
   ],
   "source": [
    "li_tags = ul_tag.find_elements_by_tag_name('li')\n",
    "li_tags[0].text"
   ]
  },
  {
   "cell_type": "code",
   "execution_count": 49,
   "metadata": {
    "collapsed": true
   },
   "outputs": [
    {
     "name": "stdout",
     "output_type": "stream",
     "text": [
      "트위드자켓\n",
      "원피스\n",
      "트렌치코트\n",
      "여성경량패딩\n",
      "나이키바람막이\n",
      "블라우스\n",
      "쥬시쥬디\n",
      "여성트레이닝세트\n",
      "후드집업\n",
      "써스데이아일랜드원피스\n",
      "핸드메이드코트\n",
      "반팔티\n",
      "잠옷\n",
      "바람막이\n",
      "맨투맨\n",
      "롱원피스\n",
      "나이키맨투맨\n",
      "여성자켓\n",
      "남자경량패딩\n",
      "여성가디건\n"
     ]
    }
   ],
   "source": [
    "for li in li_tags:\n",
    "    print(li.text.split('\\n')[1])"
   ]
  },
  {
   "cell_type": "code",
   "execution_count": 183,
   "metadata": {},
   "outputs": [],
   "source": [
    "# 자동차 제조사 전체 페이지 클릭 [실습]\n",
    "driver.get('https://auto.naver.com/car/mainList.nhn')"
   ]
  },
  {
   "cell_type": "code",
   "execution_count": 184,
   "metadata": {},
   "outputs": [],
   "source": [
    "# 자손 선택자\n",
    "carElementBtn = driver.find_element_by_css_selector('#container > div.spot_main > div.spot_aside > div.tit > a')\n",
    "carElementBtn.click()"
   ]
  },
  {
   "cell_type": "code",
   "execution_count": 185,
   "metadata": {},
   "outputs": [],
   "source": [
    "time.sleep(3)"
   ]
  },
  {
   "cell_type": "code",
   "execution_count": 90,
   "metadata": {
    "collapsed": true
   },
   "outputs": [
    {
     "name": "stdout",
     "output_type": "stream",
     "text": [
      "현대\n",
      "기아\n",
      "제네시스\n",
      "르노삼성\n",
      "쌍용\n",
      "폭스바겐\n",
      "벤츠\n",
      "BMW\n",
      "아우디\n",
      "렉서스\n",
      "토요타\n",
      "혼다\n",
      "볼보\n",
      "미니\n",
      "재규어\n",
      "랜드로버\n",
      "포드\n",
      "링컨\n",
      "쉐보레\n",
      "캐딜락\n",
      "테슬라\n",
      "지프\n",
      "르노\n",
      "푸조\n",
      "시트로엥\n",
      "DS\n",
      "마세라티\n",
      "포르쉐\n",
      "람보르기니\n",
      "페라리\n",
      "맥라렌\n",
      "부가티\n",
      "애스턴마틴\n",
      "마이바흐\n",
      "롤스로이스\n",
      "벤틀리\n",
      "닛산\n",
      "로터스\n",
      "마쯔다\n",
      "미쓰비시\n",
      "복스홀\n",
      "뷰익\n",
      "\n",
      "\n",
      "\n",
      "\n",
      "\n",
      "\n",
      "\n",
      "\n",
      "\n",
      "\n",
      "\n",
      "\n",
      "\n",
      "\n",
      "\n",
      "\n",
      "\n",
      "\n",
      "\n",
      "\n",
      "\n",
      "\n",
      "\n",
      "\n",
      "\n",
      "\n",
      "\n",
      "\n",
      "\n",
      "\n",
      "\n",
      "\n",
      "\n",
      "\n",
      "\n",
      "\n",
      "\n",
      "\n",
      "\n",
      "\n",
      "\n",
      "\n",
      "\n",
      "\n",
      "\n",
      "\n",
      "\n",
      "\n",
      "\n",
      "\n",
      "\n",
      "\n",
      "\n",
      "\n",
      "\n",
      "\n",
      "\n",
      "\n",
      "\n",
      "\n",
      "\n",
      "\n",
      "\n",
      "\n",
      "\n",
      "\n",
      "\n",
      "\n",
      "\n",
      "\n",
      "\n",
      "\n",
      "\n",
      "\n",
      "\n",
      "\n",
      "\n",
      "\n",
      "\n",
      "\n",
      "\n",
      "\n",
      "\n",
      "\n",
      "\n",
      "\n",
      "\n",
      "\n",
      "\n",
      "\n",
      "\n",
      "\n",
      "\n",
      "\n",
      "\n",
      "\n",
      "\n",
      "\n",
      "\n",
      "\n",
      "\n",
      "\n",
      "\n",
      "\n",
      "\n",
      "\n",
      "\n",
      "\n",
      "\n",
      "\n",
      "\n",
      "\n",
      "\n",
      "\n",
      "\n",
      "\n",
      "\n",
      "\n",
      "\n",
      "\n",
      "\n",
      "\n",
      "\n",
      "\n",
      "\n",
      "\n",
      "\n",
      "\n",
      "\n",
      "\n",
      "\n",
      "\n",
      "\n",
      "\n",
      "\n",
      "\n",
      "\n",
      "\n",
      "\n",
      "\n",
      "\n",
      "\n",
      "https://imgauto-phinf.pstatic.net/20180529_88/auto_1527592677868AxMTJ_PNG/20180529201748_nbVe4EOk.png?type=f30_30\n",
      "https://imgauto-phinf.pstatic.net/20210107_250/auto_16099798594392UWMl_PNG/20210107093730_Bmgw8HVj.png?type=f30_30\n",
      "https://imgauto-phinf.pstatic.net/20210302_296/auto_1614669701772Y34jY_PNG/20210302162133_MyAzBxsu.png?type=f30_30\n",
      "https://imgauto-phinf.pstatic.net/20170707_188/auto_14994089761732i2AM_PNG/20170707152934_4UQVPJ4f.png?type=f30_30\n",
      "https://imgauto-phinf.pstatic.net/20170707_290/auto_14994089867715m7Kc_PNG/20170707152945_ov1NwuMf.png?type=f30_30\n",
      "https://imgauto-phinf.pstatic.net/20200422_10/auto_15875288567367G6VE_PNG/20200422131406_lmRMWJht.png?type=f30_30\n",
      "https://imgauto-phinf.pstatic.net/20170707_151/auto_1499404806991Xuw2o_PNG/20170707142004_4ANaTv3h.png?type=f30_30\n",
      "https://imgauto-phinf.pstatic.net/20200310_214/auto_1583815678479PKzIr_PNG/20200310134752_3hMT5CTc.png?type=f30_30\n",
      "https://imgauto-phinf.pstatic.net/20170707_207/auto_1499404828979BICft_PNG/20170707142026_ovRGcdML.png?type=f30_30\n",
      "https://imgauto-phinf.pstatic.net/20170707_52/auto_14994086479909zBvg_PNG/20170707152405_Q81trl9v.png?type=f30_30\n",
      "https://imgauto-phinf.pstatic.net/20210106_265/auto_16098924526573ov6n_PNG/20210106092042_1U9hpa8L.png?type=f30_30\n",
      "https://imgauto-phinf.pstatic.net/20170707_163/auto_1499412516283v1k4a_PNG/20170707162834_NTGXoypb.png?type=f30_30\n",
      "https://imgauto-phinf.pstatic.net/20170707_20/auto_1499407892646zwj3j_PNG/20170707151130_ECGx0tRI.png?type=f30_30\n",
      "https://imgauto-phinf.pstatic.net/20170718_248/auto_1500352107292eUlzC_PNG/20170718132824_jfupLnkX.png?type=f30_30\n",
      "https://imgauto-phinf.pstatic.net/20200210_83/auto_1581307501553E0yRR_PNG/20200210130456_nFc7LE10.png?type=f30_30\n",
      "https://imgauto-phinf.pstatic.net/20170707_56/auto_1499407965482n6u8s_PNG/20170707151243_JgB80ept.png?type=f30_30\n",
      "https://imgauto-phinf.pstatic.net/20210105_233/auto_1609826474487Qo1XI_PNG/20210105150107_0owl8Al4.png?type=f30_30\n",
      "https://imgauto-phinf.pstatic.net/20200210_259/auto_1581306902625KDGxC_PNG/20200210125456_MTfaDdcX.png?type=f30_30\n",
      "https://imgauto-phinf.pstatic.net/20200210_175/auto_15813076774623FdaV_PNG/20200210130752_EvOsbnkP.png?type=f30_30\n",
      "https://imgauto-phinf.pstatic.net/20200210_173/auto_1581307884356S76fk_PNG/20200210131119_926jfS5j.png?type=f30_30\n",
      "https://imgauto-phinf.pstatic.net/20200207_106/auto_1581062693327I8zB8_PNG/20200207170452_onbaYnni.png?type=f30_30\n",
      "https://imgauto-phinf.pstatic.net/20210105_78/auto_1609827518081uIbLF_PNG/20210105151828_vhnCFC3o.png?type=f30_30\n",
      "https://imgauto-phinf.pstatic.net/20170707_144/auto_1499408879255Wd6hc_PNG/20170707152757_lWFu4xfw.png?type=f30_30\n",
      "https://imgauto-phinf.pstatic.net/20210226_26/auto_1614310028069dFaSb_PNG/20210226122657_FXxr6OOE.png?type=f30_30\n",
      "https://imgauto-phinf.pstatic.net/20181108_18/auto_1541652035025xL7p3_PNG/20181108133955_yc5nqMrw.png?type=f30_30\n",
      "https://imgauto-phinf.pstatic.net/20190107_113/auto_1546853570990Bvdb4_PNG/20190107182820_B7nzxr1b.png?type=f30_30\n",
      "https://imgauto-phinf.pstatic.net/20200204_64/auto_15807923347514cszg_PNG/20200204135847_DtWGDHvi.png?type=f30_30\n",
      "https://imgauto-phinf.pstatic.net/20170707_204/auto_1499412493946IUcqn_PNG/20170707162812_UHBa49m6.png?type=f30_30\n",
      "https://imgauto-phinf.pstatic.net/20170707_125/auto_14994122235148asnx_PNG/20170707162341_CqMN8SjK.png?type=f30_30\n",
      "https://imgauto-phinf.pstatic.net/20170707_281/auto_1499408535368ecSNr_PNG/20170707152213_nyTypfsh.png?type=f30_30\n",
      "https://imgauto-phinf.pstatic.net/20190926_229/auto_15694874534572Fs1o_PNG/20190926174407_RwH9JfF9.png?type=f30_30\n",
      "https://imgauto-phinf.pstatic.net/20170707_285/auto_1499408935383JGknW_PNG/20170707152853_4k680tvB.png?type=f30_30\n",
      "https://imgauto-phinf.pstatic.net/20170707_46/auto_1499408032205ouvHE_PNG/20170707151349_r4p7RZOj.png?type=f30_30\n",
      "https://imgauto-phinf.pstatic.net/20170707_277/auto_1499412250805hiM8q_PNG/20170707162409_mSzWlZ24.png?type=f30_30\n",
      "https://imgauto-phinf.pstatic.net/20170707_262/auto_14994080191477VFT5_PNG/20170707151337_vgZPLDwZ.png?type=f30_30\n",
      "https://imgauto-phinf.pstatic.net/20170707_290/auto_1499408006740euBhj_PNG/20170707151324_gQBpIQqz.png?type=f30_30\n",
      "https://imgauto-phinf.pstatic.net/20210105_89/auto_1609825595273uqmlr_PNG/20210105144621_ezZp9kFk.png?type=f30_30\n",
      "https://imgauto-phinf.pstatic.net/20170707_97/auto_1499408040746dxIos_PNG/20170707151359_E4SArp8Q.png?type=f30_30\n",
      "https://imgauto-phinf.pstatic.net/20170707_140/auto_14994122738541Fk5N_PNG/20170707162432_2Lw7mMJS.png?type=f30_30\n",
      "https://imgauto-phinf.pstatic.net/20200207_201/auto_1581062586549FXM8u_PNG/20200207170304_BOBWwF1a.png?type=f30_30\n",
      "https://imgauto-phinf.pstatic.net/20200821_129/auto_1597968282651s2erz_PNG/20200821090431_zWaArvD8.png?type=f30_30\n",
      "https://imgauto-phinf.pstatic.net/20170707_147/auto_1499405021719vSD1c_PNG/20170707142339_e4H9pYvp.png?type=f30_30\n",
      "https://imgauto-phinf.pstatic.net/20170707_104/auto_1499408712743NKvWH_PNG/20170707152511_ryy1kewy.png?type=f30_30\n",
      "https://imgauto-phinf.pstatic.net/20170707_104/auto_1499408712743NKvWH_PNG/20170707152511_ryy1kewy.png?type=f30_30\n",
      "https://imgauto-phinf.pstatic.net/20200207_163/auto_15810627550811c9O0_PNG/20200207170554_u2ARHCzH.png?type=f30_30\n",
      "https://imgauto-phinf.pstatic.net/20170707_11/auto_1499412387959bLCns_PNG/20170707162626_tK89GYDm.png?type=f30_30\n",
      "https://imgauto-phinf.pstatic.net/20170707_53/auto_1499408737373X0jWs_PNG/20170707152535_JntJMtf5.png?type=f30_30\n",
      "https://imgauto-phinf.pstatic.net/20200207_20/auto_1581062642483UKzQM_PNG/20200207170400_zM4G637d.png?type=f30_30\n",
      "https://imgauto-phinf.pstatic.net/20170707_150/auto_1499409123559KOzYn_PNG/20170707153201_QTep1YX5.png?type=f30_30\n",
      "https://imgauto-phinf.pstatic.net/20170707_72/auto_1499412427706Bg9cs_PNG/20170707162706_q48366un.png?type=f30_30\n",
      "https://imgauto-phinf.pstatic.net/20170707_284/auto_1499408560120UeF0n_PNG/20170707152238_x4VSc2sG.png?type=f30_30\n",
      "https://imgauto-phinf.pstatic.net/20200207_266/auto_1581063148320nIs7s_PNG/20200207171226_NieCim6p.png?type=f30_30\n",
      "https://imgauto-phinf.pstatic.net/20170707_139/auto_1499404932486f2IVY_PNG/20170707142209_v15S9fSs.png?type=f30_30\n",
      "https://imgauto-phinf.pstatic.net/20200210_95/auto_1581306674631SNMPJ_PNG/20200210125113_R4XO3cwu.png?type=f30_30\n",
      "https://imgauto-phinf.pstatic.net/20200208_258/auto_1581173119469UkwfB_PNG/20200208234517_BGkBiNBO.png?type=f30_30\n",
      "https://imgauto-phinf.pstatic.net/20170707_102/auto_1499404969175Xt4tE_PNG/20170707142247_LMjIk1J9.png?type=f30_30\n",
      "https://imgauto-phinf.pstatic.net/20170707_123/auto_1499408573816xLBii_PNG/20170707152251_YZhObKPq.png?type=f30_30\n",
      "https://imgauto-phinf.pstatic.net/20170707_25/auto_1499407659377incPJ_PNG/20170707150737_vzt0sswp.png?type=f30_30\n",
      "https://imgauto-phinf.pstatic.net/20170707_102/auto_1499408515665IoYW8_PNG/20170707152153_lT2taJjm.png?type=f30_30\n",
      "https://imgauto-phinf.pstatic.net/20170707_87/auto_1499409036592sgrr4_PNG/20170707153024_cFwSSgXp.png?type=f30_30\n",
      "https://imgauto-phinf.pstatic.net/20170707_34/auto_1499409073844BSOi5_PNG/20170707153111_zS5x8t26.png?type=f30_30\n",
      "https://imgauto-phinf.pstatic.net/20170707_145/auto_14994081868771CjUP_PNG/20170707151624_0ll1rGdd.png?type=f30_30\n",
      "https://imgauto-phinf.pstatic.net/20200221_156/auto_1582269327003zeu6J_PNG/20200221161520_hAspAqiG.png?type=f30_30\n",
      "https://imgauto-phinf.pstatic.net/20170707_217/auto_1499407860297jPlVx_PNG/20170707151058_g6AySSnH.png?type=f30_30\n",
      "https://imgauto-phinf.pstatic.net/20191015_121/auto_1571113942694yscFv_PNG/20191015133051_08UeK0y5.png?type=f30_30\n",
      "https://imgauto-phinf.pstatic.net/20170707_136/auto_1499404895918stvJX_PNG/20170707142134_UnVNmOpp.png?type=f30_30\n",
      "https://imgauto-phinf.pstatic.net/20191210_236/auto_15759571204243pMHG_PNG/20191210145154_NhwFWaoj.png?type=f30_30\n",
      "https://imgauto-phinf.pstatic.net/20170707_259/auto_1499408490287wjnJT_PNG/20170707152128_cdRaC8Hv.png?type=f30_30\n",
      "https://imgauto-phinf.pstatic.net/20200210_105/auto_15813228750495qUsB_PNG/20200210172110_KNyIgytv.png?type=f30_30\n",
      "https://imgauto-phinf.pstatic.net/20170707_278/auto_1499409390581ih8Ux_PNG/20170707153628_29h29Juu.png?type=f30_30\n",
      "https://imgauto-phinf.pstatic.net/20170707_126/auto_1499409049125MmfI6_PNG/20170707153046_XIwvROpo.png?type=f30_30\n",
      "https://imgauto-phinf.pstatic.net/20170707_262/auto_1499412122760yPNng_PNG/20170707162159_VucVLh3A.png?type=f30_30\n",
      "https://imgauto-phinf.pstatic.net/20170707_184/auto_14994094318289evvG_PNG/20170707153709_NNvc9JqZ.png?type=f30_30\n",
      "https://imgauto-phinf.pstatic.net/20200210_67/auto_1581307292040nlaFe_PNG/20200210130127_4DLUwYq7.png?type=f30_30\n",
      "https://imgauto-phinf.pstatic.net/20170707_20/auto_1499408818108xNPO1_PNG/20170707152655_zUq7kRTi.png?type=f30_30\n",
      "https://imgauto-phinf.pstatic.net/20170707_136/auto_1499412181497NFM0N_PNG/20170707162259_xFu5fJ2b.png?type=f30_30\n",
      "https://imgauto-phinf.pstatic.net/20170707_247/auto_14994087703157QSFA_PNG/20170707152608_zhwkXiDy.png?type=f30_30\n",
      "https://imgauto-phinf.pstatic.net/20210105_277/auto_1609827398528yEWd8_PNG/20210105151631_ymLlexSR.png?type=f30_30\n",
      "https://imgauto-phinf.pstatic.net/20180115_79/auto_1515992936257HdgOO_PNG/20180115140756_FF47C8Fz.png?type=f30_30\n",
      "https://imgauto-phinf.pstatic.net/20170707_173/auto_1499409329500eXpKA_PNG/20170707153527_mT1ZRk2W.png?type=f30_30\n",
      "https://imgauto-phinf.pstatic.net/20200207_13/auto_1581062071323CFRWD_PNG/20200207165426_pwEs6dqJ.png?type=f30_30\n",
      "https://imgauto-phinf.pstatic.net/20170707_103/auto_14994078109468oio4_PNG/20170707151007_1SxxnbDM.png?type=f30_30\n",
      "https://imgauto-phinf.pstatic.net/20170707_284/auto_1499412213684oeybM_PNG/20170707162331_zEYA1l6B.png?type=f30_30\n",
      "https://imgauto-phinf.pstatic.net/20200207_18/auto_15810820933670zvR8_PNG/20200207222811_07OYz9qa.png?type=f30_30\n",
      "https://imgauto-phinf.pstatic.net/20170831_269/auto_1504156295058lcqIu_PNG/20170831141108_1340zNJM.png?type=f30_30\n",
      "https://imgauto-phinf.pstatic.net/20200207_198/auto_1581082216671z9LYw_PNG/20200207223015_ST3Q21EG.png?type=f30_30\n",
      "https://imgauto-phinf.pstatic.net/20200207_198/auto_1581082216671z9LYw_PNG/20200207223015_ST3Q21EG.png?type=f30_30\n"
     ]
    },
    {
     "name": "stdout",
     "output_type": "stream",
     "text": [
      "https://imgauto-phinf.pstatic.net/20200312_130/auto_1583985867996twYPj_PNG/20200312130422_dJr47S7m.png?type=f30_30\n",
      "https://imgauto-phinf.pstatic.net/20170707_278/auto_1499407767513qTUh8_PNG/20170707150925_HkonkERy.png?type=f30_30\n",
      "https://imgauto-phinf.pstatic.net/20200214_45/auto_1581662472808bbu6I_PNG/20200214154056_NmDVDpS1.png?type=f30_30\n",
      "https://imgauto-phinf.pstatic.net/20181207_216/auto_1544164747830l97hA_PNG/20181207153647_fY4SlFv8.png?type=f30_30\n",
      "https://imgauto-phinf.pstatic.net/20200209_278/auto_1581249022448r3n1E_PNG/20200209205006_ynXI1Nh6.png?type=f30_30\n",
      "https://imgauto-phinf.pstatic.net/20170707_263/auto_1499412238171gGBOt_PNG/20170707162356_bBOVNdQr.png?type=f30_30\n",
      "https://imgauto-phinf.pstatic.net/20191121_297/auto_1574308680552c6zfL_PNG/20191121125758_6rcj9qlJ.png?type=f30_30\n",
      "https://imgauto-phinf.pstatic.net/20201123_230/auto_16060951075607XfsI_PNG/20201123103114_usoMoOke.png?type=f30_30\n",
      "https://imgauto-phinf.pstatic.net/20170707_147/auto_14994122638154gTdf_PNG/20170707162422_U0aBgPib.png?type=f30_30\n",
      "https://imgauto-phinf.pstatic.net/20170707_254/auto_14994092090669QVOe_PNG/20170707153326_FHFsm6IC.png?type=f30_30\n",
      "https://imgauto-phinf.pstatic.net/20170707_241/auto_1499404977610t00DP_PNG/20170707142255_B8NGbV0Z.png?type=f30_30\n",
      "https://imgauto-phinf.pstatic.net/20170707_300/auto_1499408478876tNryq_PNG/20170707152116_iWrNEnI9.png?type=f30_30\n",
      "https://imgauto-phinf.pstatic.net/20200210_96/auto_1581314081266Cnkmu_PNG/20200210145439_yICsWt0E.png?type=f30_30\n",
      "https://imgauto-phinf.pstatic.net/20170707_208/auto_1499408784547bOY03_PNG/20170707152619_tSg7f29y.png?type=f30_30\n",
      "https://imgauto-phinf.pstatic.net/20200210_128/auto_1581308277567kECML_PNG/20200210131753_N42CAcjC.png?type=f30_30\n",
      "https://imgauto-phinf.pstatic.net/20200207_281/auto_1581061657698LIroH_PNG/20200207164734_ftVkkxra.png?type=f30_30\n",
      "https://imgauto-phinf.pstatic.net/20170707_259/auto_1499409319931Wzd1y_PNG/20170707153518_As5AXS3O.png?type=f30_30\n",
      "https://imgauto-phinf.pstatic.net/20180411_60/auto_1523430450978ODcne_PNG/20180411160617_YV0ErKZJ.png?type=f30_30\n",
      "https://imgauto-phinf.pstatic.net/20191029_66/auto_15723090139964eX49_PNG/20191029093004_Q5go4Ym6.png?type=f30_30\n",
      "https://imgauto-phinf.pstatic.net/20170707_278/auto_1499412355131I11Su_PNG/20170707162553_KjlhrdTz.png?type=f30_30\n",
      "https://imgauto-phinf.pstatic.net/20170707_206/auto_14994079093786h64f_PNG/20170707151147_LW68pfwx.png?type=f30_30\n",
      "https://imgauto-phinf.pstatic.net/20200210_192/auto_15813080566119WWqJ_PNG/20200210131415_alQOF3Z1.png?type=f30_30\n",
      "https://imgauto-phinf.pstatic.net/20200210_231/auto_1581308022985FVq5P_PNG/20200210131341_xtnvGtat.png?type=f30_30\n",
      "https://imgauto-phinf.pstatic.net/20170707_139/auto_1499412378772VBuxw_PNG/20170707162616_i28urvPw.png?type=f30_30\n",
      "https://imgauto-phinf.pstatic.net/20171117_6/auto_15108944213012sqek_PNG/20171117135337_okhoX9yu.png?type=f30_30\n",
      "https://imgauto-phinf.pstatic.net/20210215_215/auto_1613355243080bYu7b_PNG/20210215111354_luSuSHxK.png?type=f30_30\n",
      "https://imgauto-phinf.pstatic.net/20170707_90/auto_1499409373521LXDcm_PNG/20170707153611_FnqvTDwz.png?type=f30_30\n",
      "https://imgauto-phinf.pstatic.net/20200207_219/auto_1581061907075C3A9D_PNG/20200207165144_B2uiQdnu.png?type=f30_30\n",
      "https://imgauto-phinf.pstatic.net/20170707_152/auto_1499404907190011zV_PNG/20170707142144_sZXlSGzG.png?type=f30_30\n",
      "https://imgauto-phinf.pstatic.net/20200207_75/auto_15810622219719PsSv_PNG/20200207165656_n8G3TrSE.png?type=f30_30\n",
      "https://imgauto-phinf.pstatic.net/20170707_86/auto_14994078796102jgdw_PNG/20170707151117_n3C9UdnT.png?type=f30_30\n",
      "https://imgauto-phinf.pstatic.net/20200207_187/auto_1581082403368QwPlF_PNG/20200207223317_jkneS4lC.png?type=f30_30\n",
      "https://imgauto-phinf.pstatic.net/20200207_53/auto_1581061534878IUMU2_PNG/20200207164530_tSFvxXxA.png?type=f30_30\n",
      "https://imgauto-phinf.pstatic.net/20170707_171/auto_1499407850262MO9EF_PNG/20170707151047_o3L0uC3I.png?type=f30_30\n",
      "https://imgauto-phinf.pstatic.net/20170707_281/auto_1499408795036YUKA0_PNG/20170707152632_M70yu1HH.png?type=f30_30\n",
      "https://imgauto-phinf.pstatic.net/20170707_185/auto_1499412472207SHb04_PNG/20170707162750_FYueOIIh.png?type=f30_30\n",
      "https://imgauto-phinf.pstatic.net/20170707_40/auto_1499408122405isThH_PNG/20170707151517_mKpxBHbh.png?type=f30_30\n",
      "https://imgauto-phinf.pstatic.net/20170707_172/auto_1499407733495f9h1v_PNG/20170707150852_81y9Zbd2.png?type=f30_30\n",
      "https://imgauto-phinf.pstatic.net/20170707_168/auto_14994048865712vBdd_PNG/20170707142124_1ZCHfhGr.png?type=f30_30\n",
      "https://imgauto-phinf.pstatic.net/20200506_109/auto_1588724884664zxm0D_PNG/20200506092756_ZmDUrrQ5.png?type=f30_30\n",
      "https://imgauto-phinf.pstatic.net/20170707_203/auto_1499408172479pfXCm_PNG/20170707151609_5SLg7Ccm.png?type=f30_30\n",
      "https://imgauto-phinf.pstatic.net/20200207_89/auto_1581062298298mDf5R_PNG/20200207165816_cpg005iI.png?type=f30_30\n",
      "https://imgauto-phinf.pstatic.net/20200207_89/auto_1581062298298mDf5R_PNG/20200207165816_cpg005iI.png?type=f30_30\n",
      "https://imgauto-phinf.pstatic.net/20200716_253/auto_1594870288409Helod_PNG/20200716123120_lCLHGuIn.png?type=f30_30\n",
      "https://imgauto-phinf.pstatic.net/20170707_165/auto_1499409219972GfEf7_PNG/20170707153337_ypgNVkjS.png?type=f30_30\n",
      "https://imgauto-phinf.pstatic.net/20170707_255/auto_1499408906940EhbHM_PNG/20170707152824_opUWeC4x.png?type=f30_30\n",
      "https://imgauto-phinf.pstatic.net/20200210_248/auto_15813089075977HJf1_PNG/20200210132826_i8membdE.png?type=f30_30\n",
      "https://imgauto-phinf.pstatic.net/20200207_136/auto_1581062359494tIpCT_PNG/20200207165918_VjTRqeiZ.png?type=f30_30\n",
      "https://imgauto-phinf.pstatic.net/20200208_16/auto_1581173456036UXIlA_PNG/20200208235052_JEAGtGDd.png?type=f30_30\n",
      "https://imgauto-phinf.pstatic.net/20200207_201/auto_1581061763900rF5JS_PNG/20200207164920_zr8qFFvD.png?type=f30_30\n",
      "https://imgauto-phinf.pstatic.net/20200210_208/auto_1581308667478aNBMh_PNG/20200210132422_yEAMEysy.png?type=f30_30\n",
      "https://imgauto-phinf.pstatic.net/20170707_94/auto_14994050320266mg45_PNG/20170707142350_qLeEljDY.png?type=f30_30\n",
      "https://imgauto-phinf.pstatic.net/20170707_169/auto_1499407754688i03C0_PNG/20170707150913_Df3Tadx3.png?type=f30_30\n",
      "https://imgauto-phinf.pstatic.net/20200208_292/auto_1581173567722Hvd35_PNG/20200208235243_SYFzO73h.png?type=f30_30\n",
      "https://ssl.pstatic.net/static/blank.gif\n",
      "https://ssl.pstatic.net/static/blank.gif\n",
      "https://ssl.pstatic.net/static/blank.gif\n",
      "https://ssl.pstatic.net/static/blank.gif\n",
      "https://ssl.pstatic.net/static/blank.gif\n",
      "https://ssl.pstatic.net/static/blank.gif\n",
      "https://ssl.pstatic.net/static/blank.gif\n",
      "https://ssl.pstatic.net/static/blank.gif\n",
      "https://ssl.pstatic.net/static/blank.gif\n",
      "https://ssl.pstatic.net/static/blank.gif\n",
      "https://ssl.pstatic.net/static/blank.gif\n",
      "https://ssl.pstatic.net/static/blank.gif\n",
      "https://ssl.pstatic.net/static/blank.gif\n",
      "https://ssl.pstatic.net/static/blank.gif\n",
      "https://ssl.pstatic.net/static/blank.gif\n",
      "https://ssl.pstatic.net/static/blank.gif\n",
      "https://ssl.pstatic.net/static/blank.gif\n",
      "https://ssl.pstatic.net/static/blank.gif\n",
      "https://ssl.pstatic.net/static/blank.gif\n",
      "https://ssl.pstatic.net/static/blank.gif\n",
      "https://ssl.pstatic.net/static/blank.gif\n",
      "https://ssl.pstatic.net/static/blank.gif\n",
      "https://ssl.pstatic.net/static/blank.gif\n",
      "https://ssl.pstatic.net/static/blank.gif\n",
      "https://ssl.pstatic.net/static/blank.gif\n",
      "https://ssl.pstatic.net/static/blank.gif\n",
      "https://ssl.pstatic.net/static/blank.gif\n",
      "https://ssl.pstatic.net/static/blank.gif\n",
      "https://ssl.pstatic.net/static/blank.gif\n",
      "https://ssl.pstatic.net/static/blank.gif\n",
      "https://ssl.pstatic.net/static/blank.gif\n",
      "https://ssl.pstatic.net/static/blank.gif\n",
      "https://ssl.pstatic.net/static/blank.gif\n",
      "https://ssl.pstatic.net/static/blank.gif\n",
      "https://ssl.pstatic.net/static/blank.gif\n",
      "https://ssl.pstatic.net/static/blank.gif\n",
      "https://ssl.pstatic.net/static/blank.gif\n",
      "https://ssl.pstatic.net/static/blank.gif\n",
      "https://ssl.pstatic.net/static/blank.gif\n",
      "https://ssl.pstatic.net/static/blank.gif\n",
      "https://ssl.pstatic.net/static/blank.gif\n",
      "https://ssl.pstatic.net/static/blank.gif\n",
      "https://ssl.pstatic.net/static/blank.gif\n"
     ]
    }
   ],
   "source": [
    "# 자동차 브랜드의 리스트를 가져오고 싶다면?\n",
    "# attrs(src) - BS 방식\n",
    "# get_attribute('src') - Selenium 방식\n",
    "carList = driver.find_elements_by_css_selector('div.maker_group > div.emblem_area > ul > li > a > span')\n",
    "carUrl = driver.find_elements_by_css_selector('div.maker_group > div.emblem_area > ul > li > a > img')\n",
    "\n",
    "for name in carList:\n",
    "    print(name.text)\n",
    "\n",
    "for url in carUrl:\n",
    "    print(url.get_attribute('src'))\n",
    "    "
   ]
  },
  {
   "cell_type": "code",
   "execution_count": 186,
   "metadata": {
    "collapsed": true
   },
   "outputs": [
    {
     "data": {
      "text/plain": [
       "[<selenium.webdriver.remote.webelement.WebElement (session=\"0a7c934ea57827fdcc6d37fc76b793fc\", element=\"da3bd1cf-23c2-43e9-aa0c-5b7b30e2997b\")>,\n",
       " <selenium.webdriver.remote.webelement.WebElement (session=\"0a7c934ea57827fdcc6d37fc76b793fc\", element=\"ee4a7637-092d-4e29-960a-eec412a63759\")>,\n",
       " <selenium.webdriver.remote.webelement.WebElement (session=\"0a7c934ea57827fdcc6d37fc76b793fc\", element=\"37689148-7930-4e70-b682-69ee908165d9\")>,\n",
       " <selenium.webdriver.remote.webelement.WebElement (session=\"0a7c934ea57827fdcc6d37fc76b793fc\", element=\"cd40d4a4-c25a-4c2a-afc8-4f707b64ab70\")>,\n",
       " <selenium.webdriver.remote.webelement.WebElement (session=\"0a7c934ea57827fdcc6d37fc76b793fc\", element=\"2003e325-8941-4831-a15f-8985bf5f6601\")>,\n",
       " <selenium.webdriver.remote.webelement.WebElement (session=\"0a7c934ea57827fdcc6d37fc76b793fc\", element=\"244d34ff-1add-4371-a0ec-3b4c07a70d2d\")>,\n",
       " <selenium.webdriver.remote.webelement.WebElement (session=\"0a7c934ea57827fdcc6d37fc76b793fc\", element=\"e97211d9-249f-4e76-a17a-5436336490fe\")>,\n",
       " <selenium.webdriver.remote.webelement.WebElement (session=\"0a7c934ea57827fdcc6d37fc76b793fc\", element=\"85cfc79f-f9d9-4f1e-9003-232b9ee0bc85\")>,\n",
       " <selenium.webdriver.remote.webelement.WebElement (session=\"0a7c934ea57827fdcc6d37fc76b793fc\", element=\"0206448b-abff-418c-a7ae-6520fd74d266\")>,\n",
       " <selenium.webdriver.remote.webelement.WebElement (session=\"0a7c934ea57827fdcc6d37fc76b793fc\", element=\"76aa2d12-8332-4ccb-945d-19dff1bf9fbf\")>,\n",
       " <selenium.webdriver.remote.webelement.WebElement (session=\"0a7c934ea57827fdcc6d37fc76b793fc\", element=\"5f8c6f08-c85e-428c-8a93-ee0757c7d659\")>,\n",
       " <selenium.webdriver.remote.webelement.WebElement (session=\"0a7c934ea57827fdcc6d37fc76b793fc\", element=\"4a3c2af1-847c-40d8-9a8a-86650d719c14\")>,\n",
       " <selenium.webdriver.remote.webelement.WebElement (session=\"0a7c934ea57827fdcc6d37fc76b793fc\", element=\"70ab07d5-ee85-4b31-a94e-8ea39154cc7c\")>,\n",
       " <selenium.webdriver.remote.webelement.WebElement (session=\"0a7c934ea57827fdcc6d37fc76b793fc\", element=\"72e9ba0c-01c7-4265-a70e-48132a8633d8\")>,\n",
       " <selenium.webdriver.remote.webelement.WebElement (session=\"0a7c934ea57827fdcc6d37fc76b793fc\", element=\"4db163e5-05b0-4d11-af90-139e8107d8b1\")>,\n",
       " <selenium.webdriver.remote.webelement.WebElement (session=\"0a7c934ea57827fdcc6d37fc76b793fc\", element=\"d82b664e-fbc6-4ecd-8086-21b7f0620fe1\")>,\n",
       " <selenium.webdriver.remote.webelement.WebElement (session=\"0a7c934ea57827fdcc6d37fc76b793fc\", element=\"0c595d42-3170-4e85-8df1-cba41a08028b\")>,\n",
       " <selenium.webdriver.remote.webelement.WebElement (session=\"0a7c934ea57827fdcc6d37fc76b793fc\", element=\"38614b5a-c579-49f4-aa90-af03e7656bc0\")>,\n",
       " <selenium.webdriver.remote.webelement.WebElement (session=\"0a7c934ea57827fdcc6d37fc76b793fc\", element=\"3c21ecb3-6e2d-45e5-ba37-a3b40c4240e0\")>,\n",
       " <selenium.webdriver.remote.webelement.WebElement (session=\"0a7c934ea57827fdcc6d37fc76b793fc\", element=\"78640520-4fb1-4697-988c-477b39b231a5\")>,\n",
       " <selenium.webdriver.remote.webelement.WebElement (session=\"0a7c934ea57827fdcc6d37fc76b793fc\", element=\"2cc38154-e2e1-44ef-a1de-37f27eedaf28\")>,\n",
       " <selenium.webdriver.remote.webelement.WebElement (session=\"0a7c934ea57827fdcc6d37fc76b793fc\", element=\"a087feca-ec3b-47ad-8219-c71cf0c07bcf\")>,\n",
       " <selenium.webdriver.remote.webelement.WebElement (session=\"0a7c934ea57827fdcc6d37fc76b793fc\", element=\"8c360071-10aa-4d3e-aee4-90617e7274a8\")>,\n",
       " <selenium.webdriver.remote.webelement.WebElement (session=\"0a7c934ea57827fdcc6d37fc76b793fc\", element=\"4a0597b8-dd3b-44f5-afcf-3e25f83a8585\")>,\n",
       " <selenium.webdriver.remote.webelement.WebElement (session=\"0a7c934ea57827fdcc6d37fc76b793fc\", element=\"740993e2-784d-4c61-a4c2-e00118d3fdf2\")>,\n",
       " <selenium.webdriver.remote.webelement.WebElement (session=\"0a7c934ea57827fdcc6d37fc76b793fc\", element=\"deea9ff8-694b-49ab-bd48-ac61248f8cb4\")>,\n",
       " <selenium.webdriver.remote.webelement.WebElement (session=\"0a7c934ea57827fdcc6d37fc76b793fc\", element=\"1bd1ea07-ccb2-4c98-b92c-dd8014b1e73c\")>,\n",
       " <selenium.webdriver.remote.webelement.WebElement (session=\"0a7c934ea57827fdcc6d37fc76b793fc\", element=\"7f5c7b3e-aace-4135-9ebe-d4513ae3427f\")>,\n",
       " <selenium.webdriver.remote.webelement.WebElement (session=\"0a7c934ea57827fdcc6d37fc76b793fc\", element=\"03a6613e-148e-45ba-b42e-6d642f27cdab\")>,\n",
       " <selenium.webdriver.remote.webelement.WebElement (session=\"0a7c934ea57827fdcc6d37fc76b793fc\", element=\"363d3b74-66c2-453c-a190-825b8f1b6ea8\")>,\n",
       " <selenium.webdriver.remote.webelement.WebElement (session=\"0a7c934ea57827fdcc6d37fc76b793fc\", element=\"d3ddeed1-b4dd-4ad9-b47f-bd0ff6dfbeca\")>,\n",
       " <selenium.webdriver.remote.webelement.WebElement (session=\"0a7c934ea57827fdcc6d37fc76b793fc\", element=\"4ec67d4c-64d3-4770-96e5-e9cbbee8e25b\")>,\n",
       " <selenium.webdriver.remote.webelement.WebElement (session=\"0a7c934ea57827fdcc6d37fc76b793fc\", element=\"2d51be84-0019-45af-8bee-4d35c188f906\")>,\n",
       " <selenium.webdriver.remote.webelement.WebElement (session=\"0a7c934ea57827fdcc6d37fc76b793fc\", element=\"717410f3-8a77-48b9-a290-abd5e2b80093\")>,\n",
       " <selenium.webdriver.remote.webelement.WebElement (session=\"0a7c934ea57827fdcc6d37fc76b793fc\", element=\"2974f6a6-f9be-40c1-98c5-7f3e8e234c15\")>,\n",
       " <selenium.webdriver.remote.webelement.WebElement (session=\"0a7c934ea57827fdcc6d37fc76b793fc\", element=\"e892e57c-9c25-4c9b-8a17-b8a4f9da1ec6\")>,\n",
       " <selenium.webdriver.remote.webelement.WebElement (session=\"0a7c934ea57827fdcc6d37fc76b793fc\", element=\"3680021d-6769-46cb-8f4f-dbcd0fc32b42\")>,\n",
       " <selenium.webdriver.remote.webelement.WebElement (session=\"0a7c934ea57827fdcc6d37fc76b793fc\", element=\"e73f8357-6680-4229-a1e5-41ae7d6c3921\")>,\n",
       " <selenium.webdriver.remote.webelement.WebElement (session=\"0a7c934ea57827fdcc6d37fc76b793fc\", element=\"1bc4ae87-41dc-4f29-b515-33b39746361a\")>,\n",
       " <selenium.webdriver.remote.webelement.WebElement (session=\"0a7c934ea57827fdcc6d37fc76b793fc\", element=\"9064c825-3bf8-4c34-8f57-a0d0dff9ef3c\")>,\n",
       " <selenium.webdriver.remote.webelement.WebElement (session=\"0a7c934ea57827fdcc6d37fc76b793fc\", element=\"89cebc41-0745-45d2-88a0-83d5ef298b76\")>,\n",
       " <selenium.webdriver.remote.webelement.WebElement (session=\"0a7c934ea57827fdcc6d37fc76b793fc\", element=\"781163fb-3a89-40c5-b5df-ee0695756a37\")>,\n",
       " <selenium.webdriver.remote.webelement.WebElement (session=\"0a7c934ea57827fdcc6d37fc76b793fc\", element=\"4e4aed33-5826-45a4-8999-090ea31cc0ab\")>,\n",
       " <selenium.webdriver.remote.webelement.WebElement (session=\"0a7c934ea57827fdcc6d37fc76b793fc\", element=\"9d070b4e-c7cd-4570-8e47-06eb6087adb1\")>,\n",
       " <selenium.webdriver.remote.webelement.WebElement (session=\"0a7c934ea57827fdcc6d37fc76b793fc\", element=\"3ad259bd-4e40-46ba-b26e-1688000c3e68\")>,\n",
       " <selenium.webdriver.remote.webelement.WebElement (session=\"0a7c934ea57827fdcc6d37fc76b793fc\", element=\"ffab4525-a239-4fbc-937a-9bda9470b81f\")>,\n",
       " <selenium.webdriver.remote.webelement.WebElement (session=\"0a7c934ea57827fdcc6d37fc76b793fc\", element=\"2b73e643-9fff-4db2-b456-efa46a487bc0\")>,\n",
       " <selenium.webdriver.remote.webelement.WebElement (session=\"0a7c934ea57827fdcc6d37fc76b793fc\", element=\"0be4475a-379b-4595-935f-16fb99e495cf\")>,\n",
       " <selenium.webdriver.remote.webelement.WebElement (session=\"0a7c934ea57827fdcc6d37fc76b793fc\", element=\"56740fda-728d-4b8c-b1ed-9efa0ed9ed3c\")>,\n",
       " <selenium.webdriver.remote.webelement.WebElement (session=\"0a7c934ea57827fdcc6d37fc76b793fc\", element=\"55cb8512-08ff-47e2-bc9b-36dde63dcc5a\")>,\n",
       " <selenium.webdriver.remote.webelement.WebElement (session=\"0a7c934ea57827fdcc6d37fc76b793fc\", element=\"5da42646-ef9b-44ec-950c-d16cbae0bcbb\")>,\n",
       " <selenium.webdriver.remote.webelement.WebElement (session=\"0a7c934ea57827fdcc6d37fc76b793fc\", element=\"bcb2c654-fe75-4085-8248-66113123e4e8\")>,\n",
       " <selenium.webdriver.remote.webelement.WebElement (session=\"0a7c934ea57827fdcc6d37fc76b793fc\", element=\"a1f0c6bd-fd48-4e52-ac69-a5170d3a777c\")>,\n",
       " <selenium.webdriver.remote.webelement.WebElement (session=\"0a7c934ea57827fdcc6d37fc76b793fc\", element=\"c286ac7d-fde5-491f-845f-d22bc826a29a\")>,\n",
       " <selenium.webdriver.remote.webelement.WebElement (session=\"0a7c934ea57827fdcc6d37fc76b793fc\", element=\"082296a7-1e4d-4b32-82b6-0c7765603c42\")>,\n",
       " <selenium.webdriver.remote.webelement.WebElement (session=\"0a7c934ea57827fdcc6d37fc76b793fc\", element=\"2991e758-76dc-45df-9524-1ae24e6ef936\")>,\n",
       " <selenium.webdriver.remote.webelement.WebElement (session=\"0a7c934ea57827fdcc6d37fc76b793fc\", element=\"f8041faf-2cf6-490f-a758-00dcde58984c\")>,\n",
       " <selenium.webdriver.remote.webelement.WebElement (session=\"0a7c934ea57827fdcc6d37fc76b793fc\", element=\"f58ae622-d394-419d-a5bd-8c640d381b0e\")>,\n",
       " <selenium.webdriver.remote.webelement.WebElement (session=\"0a7c934ea57827fdcc6d37fc76b793fc\", element=\"054e2746-b730-4f50-b7ef-241d2fe4650b\")>,\n",
       " <selenium.webdriver.remote.webelement.WebElement (session=\"0a7c934ea57827fdcc6d37fc76b793fc\", element=\"18146fbe-1481-4fe6-83b7-55a31cc3bd0f\")>,\n",
       " <selenium.webdriver.remote.webelement.WebElement (session=\"0a7c934ea57827fdcc6d37fc76b793fc\", element=\"e40eaa96-7a7c-4c7d-bb3c-32915d8b4c5e\")>,\n",
       " <selenium.webdriver.remote.webelement.WebElement (session=\"0a7c934ea57827fdcc6d37fc76b793fc\", element=\"88911ad9-7154-4804-8418-b2f545824096\")>,\n",
       " <selenium.webdriver.remote.webelement.WebElement (session=\"0a7c934ea57827fdcc6d37fc76b793fc\", element=\"a3be5c42-cbdf-41c7-95ea-de66cf46cb70\")>,\n",
       " <selenium.webdriver.remote.webelement.WebElement (session=\"0a7c934ea57827fdcc6d37fc76b793fc\", element=\"35206c06-0558-4328-8d27-7a2101f87e48\")>,\n",
       " <selenium.webdriver.remote.webelement.WebElement (session=\"0a7c934ea57827fdcc6d37fc76b793fc\", element=\"6700fbc6-4b0c-4e25-b829-b4afe9566a85\")>,\n",
       " <selenium.webdriver.remote.webelement.WebElement (session=\"0a7c934ea57827fdcc6d37fc76b793fc\", element=\"a183baab-3ad2-473e-a4d1-ba32d2fa8ad5\")>,\n",
       " <selenium.webdriver.remote.webelement.WebElement (session=\"0a7c934ea57827fdcc6d37fc76b793fc\", element=\"0cb4ac18-c704-47de-93fb-458ae7d427c8\")>,\n",
       " <selenium.webdriver.remote.webelement.WebElement (session=\"0a7c934ea57827fdcc6d37fc76b793fc\", element=\"8e33569e-b933-42ed-be0d-696ceb5bf5fc\")>,\n",
       " <selenium.webdriver.remote.webelement.WebElement (session=\"0a7c934ea57827fdcc6d37fc76b793fc\", element=\"8beeeef9-0f74-4846-bf0d-53a7ea68d3bc\")>,\n",
       " <selenium.webdriver.remote.webelement.WebElement (session=\"0a7c934ea57827fdcc6d37fc76b793fc\", element=\"6c24e29d-3be4-4076-9248-69a2a35d1453\")>,\n",
       " <selenium.webdriver.remote.webelement.WebElement (session=\"0a7c934ea57827fdcc6d37fc76b793fc\", element=\"67747717-cadb-43d4-a1d7-82a5302cd0b1\")>,\n",
       " <selenium.webdriver.remote.webelement.WebElement (session=\"0a7c934ea57827fdcc6d37fc76b793fc\", element=\"10cd5592-497d-44e7-941d-f9d6604799e6\")>,\n",
       " <selenium.webdriver.remote.webelement.WebElement (session=\"0a7c934ea57827fdcc6d37fc76b793fc\", element=\"c20cd6aa-8680-4bd3-9ac4-77a948c92b82\")>,\n",
       " <selenium.webdriver.remote.webelement.WebElement (session=\"0a7c934ea57827fdcc6d37fc76b793fc\", element=\"a0d656d8-0bd1-4e52-bf15-faab3859bdc6\")>,\n",
       " <selenium.webdriver.remote.webelement.WebElement (session=\"0a7c934ea57827fdcc6d37fc76b793fc\", element=\"5d5757d0-cf2a-4837-bdb0-84c287a8f45b\")>,\n",
       " <selenium.webdriver.remote.webelement.WebElement (session=\"0a7c934ea57827fdcc6d37fc76b793fc\", element=\"3e57aad8-8da1-49d6-affb-f15abc49bf23\")>,\n",
       " <selenium.webdriver.remote.webelement.WebElement (session=\"0a7c934ea57827fdcc6d37fc76b793fc\", element=\"1fcd4578-53f8-4c22-aad1-d3c6782867e9\")>,\n",
       " <selenium.webdriver.remote.webelement.WebElement (session=\"0a7c934ea57827fdcc6d37fc76b793fc\", element=\"c052ae7f-a7d5-4cd5-90a4-2e167961e62b\")>,\n",
       " <selenium.webdriver.remote.webelement.WebElement (session=\"0a7c934ea57827fdcc6d37fc76b793fc\", element=\"8a462500-c386-4a03-ad04-77811209ed12\")>,\n",
       " <selenium.webdriver.remote.webelement.WebElement (session=\"0a7c934ea57827fdcc6d37fc76b793fc\", element=\"3e635465-2282-4e1b-ac1c-3902c040b99d\")>,\n",
       " <selenium.webdriver.remote.webelement.WebElement (session=\"0a7c934ea57827fdcc6d37fc76b793fc\", element=\"ceecb16a-7427-4ce6-a988-4b6d12c9e294\")>,\n",
       " <selenium.webdriver.remote.webelement.WebElement (session=\"0a7c934ea57827fdcc6d37fc76b793fc\", element=\"50893d79-4097-44c7-a88e-d4e2bb77253f\")>,\n",
       " <selenium.webdriver.remote.webelement.WebElement (session=\"0a7c934ea57827fdcc6d37fc76b793fc\", element=\"a841dcdc-ed25-41b2-9955-14aeb5493b73\")>,\n",
       " <selenium.webdriver.remote.webelement.WebElement (session=\"0a7c934ea57827fdcc6d37fc76b793fc\", element=\"4638d298-fa0c-497e-95a7-248a283ee745\")>,\n",
       " <selenium.webdriver.remote.webelement.WebElement (session=\"0a7c934ea57827fdcc6d37fc76b793fc\", element=\"976de1ff-0db0-45a7-aa8f-bdec9d2c6550\")>,\n",
       " <selenium.webdriver.remote.webelement.WebElement (session=\"0a7c934ea57827fdcc6d37fc76b793fc\", element=\"144d0640-e823-41a7-9863-e785a028ba12\")>,\n",
       " <selenium.webdriver.remote.webelement.WebElement (session=\"0a7c934ea57827fdcc6d37fc76b793fc\", element=\"40f6c2af-f5c2-4de6-93dd-78f270a25b19\")>,\n",
       " <selenium.webdriver.remote.webelement.WebElement (session=\"0a7c934ea57827fdcc6d37fc76b793fc\", element=\"e3cdd752-9efc-496b-813e-db96c1f429ca\")>,\n",
       " <selenium.webdriver.remote.webelement.WebElement (session=\"0a7c934ea57827fdcc6d37fc76b793fc\", element=\"4acff26a-a5d9-4c5b-8ccf-460d415b1644\")>,\n",
       " <selenium.webdriver.remote.webelement.WebElement (session=\"0a7c934ea57827fdcc6d37fc76b793fc\", element=\"e3a678ba-5a7e-405c-9e53-e9124cd6cae7\")>,\n",
       " <selenium.webdriver.remote.webelement.WebElement (session=\"0a7c934ea57827fdcc6d37fc76b793fc\", element=\"86abb7f9-7b5e-4b56-a93e-3a300ef72ece\")>,\n",
       " <selenium.webdriver.remote.webelement.WebElement (session=\"0a7c934ea57827fdcc6d37fc76b793fc\", element=\"9b58326c-7670-4f07-808d-9bfcb8bff4a3\")>,\n",
       " <selenium.webdriver.remote.webelement.WebElement (session=\"0a7c934ea57827fdcc6d37fc76b793fc\", element=\"901d9dbc-2ea2-4764-a922-c9cddbce9f9d\")>,\n",
       " <selenium.webdriver.remote.webelement.WebElement (session=\"0a7c934ea57827fdcc6d37fc76b793fc\", element=\"9d352e5e-6cc9-42b9-919b-51d6e2392c22\")>,\n",
       " <selenium.webdriver.remote.webelement.WebElement (session=\"0a7c934ea57827fdcc6d37fc76b793fc\", element=\"ea86ea5a-1d28-4ab9-80ed-9bc2a5376252\")>,\n",
       " <selenium.webdriver.remote.webelement.WebElement (session=\"0a7c934ea57827fdcc6d37fc76b793fc\", element=\"62e297c9-d7a4-4a06-a028-fcc09cf32615\")>,\n",
       " <selenium.webdriver.remote.webelement.WebElement (session=\"0a7c934ea57827fdcc6d37fc76b793fc\", element=\"1e2139ba-35e8-4b42-b2a9-dcb8a0d80a9f\")>,\n",
       " <selenium.webdriver.remote.webelement.WebElement (session=\"0a7c934ea57827fdcc6d37fc76b793fc\", element=\"0f6be74c-18d6-4ecc-9d4a-7c59b1e0273b\")>,\n",
       " <selenium.webdriver.remote.webelement.WebElement (session=\"0a7c934ea57827fdcc6d37fc76b793fc\", element=\"901e1ffd-948b-4989-8717-44050f673c30\")>,\n",
       " <selenium.webdriver.remote.webelement.WebElement (session=\"0a7c934ea57827fdcc6d37fc76b793fc\", element=\"98fc1556-9a90-4bd9-974c-6d29192f3975\")>,\n",
       " <selenium.webdriver.remote.webelement.WebElement (session=\"0a7c934ea57827fdcc6d37fc76b793fc\", element=\"1269ed72-4481-4d5c-8146-cb957a33be2a\")>,\n",
       " <selenium.webdriver.remote.webelement.WebElement (session=\"0a7c934ea57827fdcc6d37fc76b793fc\", element=\"522500e1-de13-4c95-a7f6-972d303293b5\")>,\n",
       " <selenium.webdriver.remote.webelement.WebElement (session=\"0a7c934ea57827fdcc6d37fc76b793fc\", element=\"f05f2cd8-c131-406e-badf-be85c0579391\")>,\n",
       " <selenium.webdriver.remote.webelement.WebElement (session=\"0a7c934ea57827fdcc6d37fc76b793fc\", element=\"312d4afb-fbdc-47ad-8fa7-a784c55fcf63\")>,\n",
       " <selenium.webdriver.remote.webelement.WebElement (session=\"0a7c934ea57827fdcc6d37fc76b793fc\", element=\"caacd389-e99f-4589-81dd-49f0380d174e\")>,\n",
       " <selenium.webdriver.remote.webelement.WebElement (session=\"0a7c934ea57827fdcc6d37fc76b793fc\", element=\"6bc673f2-b576-4071-a30d-fe100ce3096c\")>,\n",
       " <selenium.webdriver.remote.webelement.WebElement (session=\"0a7c934ea57827fdcc6d37fc76b793fc\", element=\"dcfe0cf0-b743-4cb7-925b-231a6d8b00e9\")>,\n",
       " <selenium.webdriver.remote.webelement.WebElement (session=\"0a7c934ea57827fdcc6d37fc76b793fc\", element=\"eea2c1ec-c79a-4236-912e-415d52555dad\")>,\n",
       " <selenium.webdriver.remote.webelement.WebElement (session=\"0a7c934ea57827fdcc6d37fc76b793fc\", element=\"bb68d19c-e034-4949-9c7b-d9fd81c8d133\")>,\n",
       " <selenium.webdriver.remote.webelement.WebElement (session=\"0a7c934ea57827fdcc6d37fc76b793fc\", element=\"02827981-9d69-45c3-a21a-82a72b684565\")>,\n",
       " <selenium.webdriver.remote.webelement.WebElement (session=\"0a7c934ea57827fdcc6d37fc76b793fc\", element=\"f1667e28-4b26-41ea-85f0-4d7f2ae93552\")>,\n",
       " <selenium.webdriver.remote.webelement.WebElement (session=\"0a7c934ea57827fdcc6d37fc76b793fc\", element=\"c52e0bfa-49e0-4ea6-b0f7-4d50c721a19f\")>,\n",
       " <selenium.webdriver.remote.webelement.WebElement (session=\"0a7c934ea57827fdcc6d37fc76b793fc\", element=\"74c851e9-e5ea-4a55-b708-7c5c68188aa2\")>,\n",
       " <selenium.webdriver.remote.webelement.WebElement (session=\"0a7c934ea57827fdcc6d37fc76b793fc\", element=\"44455a4b-68d0-4896-b0c2-6c694335a3a8\")>,\n",
       " <selenium.webdriver.remote.webelement.WebElement (session=\"0a7c934ea57827fdcc6d37fc76b793fc\", element=\"a4199b65-f6b2-4a03-8c31-626d16ce0311\")>,\n",
       " <selenium.webdriver.remote.webelement.WebElement (session=\"0a7c934ea57827fdcc6d37fc76b793fc\", element=\"bfe4ac9d-0bfe-43cc-a6fc-50ee18c8cf65\")>,\n",
       " <selenium.webdriver.remote.webelement.WebElement (session=\"0a7c934ea57827fdcc6d37fc76b793fc\", element=\"f0b18bd9-1dc5-4d5c-a30b-fd82ebf82b8b\")>,\n",
       " <selenium.webdriver.remote.webelement.WebElement (session=\"0a7c934ea57827fdcc6d37fc76b793fc\", element=\"e6949349-db29-44ce-8020-003e3ee85237\")>,\n",
       " <selenium.webdriver.remote.webelement.WebElement (session=\"0a7c934ea57827fdcc6d37fc76b793fc\", element=\"58ba9bb8-1eca-45ba-b8c3-b883d1e371f6\")>,\n",
       " <selenium.webdriver.remote.webelement.WebElement (session=\"0a7c934ea57827fdcc6d37fc76b793fc\", element=\"63a2e79d-ac39-4aa7-bd78-0f3141a43764\")>,\n",
       " <selenium.webdriver.remote.webelement.WebElement (session=\"0a7c934ea57827fdcc6d37fc76b793fc\", element=\"fe6805bf-0d72-4d80-a32c-962471ade7ae\")>,\n",
       " <selenium.webdriver.remote.webelement.WebElement (session=\"0a7c934ea57827fdcc6d37fc76b793fc\", element=\"1cd0272e-3c67-4b18-a828-c6428841deef\")>,\n",
       " <selenium.webdriver.remote.webelement.WebElement (session=\"0a7c934ea57827fdcc6d37fc76b793fc\", element=\"a5cd2a84-4ca8-489f-a9ff-21735d60d8de\")>,\n",
       " <selenium.webdriver.remote.webelement.WebElement (session=\"0a7c934ea57827fdcc6d37fc76b793fc\", element=\"9df018ab-7732-4d2d-980f-8db6e064a082\")>,\n",
       " <selenium.webdriver.remote.webelement.WebElement (session=\"0a7c934ea57827fdcc6d37fc76b793fc\", element=\"f9751d37-c35a-48ae-be8a-3a0516e40d42\")>,\n",
       " <selenium.webdriver.remote.webelement.WebElement (session=\"0a7c934ea57827fdcc6d37fc76b793fc\", element=\"a9798c05-8b4e-4169-8693-34a662922db2\")>,\n",
       " <selenium.webdriver.remote.webelement.WebElement (session=\"0a7c934ea57827fdcc6d37fc76b793fc\", element=\"cabe744a-61af-4e61-b852-f0b75d72aebe\")>,\n",
       " <selenium.webdriver.remote.webelement.WebElement (session=\"0a7c934ea57827fdcc6d37fc76b793fc\", element=\"ea22656c-504f-4305-91fa-9ce1cfbf1a10\")>,\n",
       " <selenium.webdriver.remote.webelement.WebElement (session=\"0a7c934ea57827fdcc6d37fc76b793fc\", element=\"2ffa91e2-227c-4dad-a3ea-857e9e5e0ed7\")>,\n",
       " <selenium.webdriver.remote.webelement.WebElement (session=\"0a7c934ea57827fdcc6d37fc76b793fc\", element=\"291c43c1-e88a-4c13-8de2-1b85909a5f57\")>,\n",
       " <selenium.webdriver.remote.webelement.WebElement (session=\"0a7c934ea57827fdcc6d37fc76b793fc\", element=\"f0fc6ff5-f415-4040-b677-8a35e68700ba\")>,\n",
       " <selenium.webdriver.remote.webelement.WebElement (session=\"0a7c934ea57827fdcc6d37fc76b793fc\", element=\"a1f8628a-de2b-4f3e-9e90-f95705766f9d\")>,\n",
       " <selenium.webdriver.remote.webelement.WebElement (session=\"0a7c934ea57827fdcc6d37fc76b793fc\", element=\"6f9382d4-7b73-4d47-87fd-58eabef7cc62\")>,\n",
       " <selenium.webdriver.remote.webelement.WebElement (session=\"0a7c934ea57827fdcc6d37fc76b793fc\", element=\"4e2f1ace-3249-4679-9f2a-8971ccecfb88\")>,\n",
       " <selenium.webdriver.remote.webelement.WebElement (session=\"0a7c934ea57827fdcc6d37fc76b793fc\", element=\"4b0de6a7-bfdc-4391-9281-a777b303654f\")>,\n",
       " <selenium.webdriver.remote.webelement.WebElement (session=\"0a7c934ea57827fdcc6d37fc76b793fc\", element=\"3f74af44-c1c8-420e-8289-e4b239016dbf\")>,\n",
       " <selenium.webdriver.remote.webelement.WebElement (session=\"0a7c934ea57827fdcc6d37fc76b793fc\", element=\"eccbda62-1b27-43f9-aff3-5c9657287341\")>,\n",
       " <selenium.webdriver.remote.webelement.WebElement (session=\"0a7c934ea57827fdcc6d37fc76b793fc\", element=\"51c531da-a74f-441b-a39b-7811fc4ae65e\")>,\n",
       " <selenium.webdriver.remote.webelement.WebElement (session=\"0a7c934ea57827fdcc6d37fc76b793fc\", element=\"0a086a4b-beed-4fad-8707-262d7539e060\")>,\n",
       " <selenium.webdriver.remote.webelement.WebElement (session=\"0a7c934ea57827fdcc6d37fc76b793fc\", element=\"d16e8454-7154-4301-9648-263cb0ee8da5\")>,\n",
       " <selenium.webdriver.remote.webelement.WebElement (session=\"0a7c934ea57827fdcc6d37fc76b793fc\", element=\"4bf203d9-24bb-4cbb-aaa6-5e2d0c3d9236\")>,\n",
       " <selenium.webdriver.remote.webelement.WebElement (session=\"0a7c934ea57827fdcc6d37fc76b793fc\", element=\"5655966f-7b83-4521-975e-6a8c5f8bd58e\")>,\n",
       " <selenium.webdriver.remote.webelement.WebElement (session=\"0a7c934ea57827fdcc6d37fc76b793fc\", element=\"bf8b7e8d-34f5-4583-a93c-58cf62c588e7\")>,\n",
       " <selenium.webdriver.remote.webelement.WebElement (session=\"0a7c934ea57827fdcc6d37fc76b793fc\", element=\"3fca29f4-df2e-417e-ae66-a559c9446fa4\")>,\n",
       " <selenium.webdriver.remote.webelement.WebElement (session=\"0a7c934ea57827fdcc6d37fc76b793fc\", element=\"48bcdd2c-61a7-4e70-892f-ad0253e391e7\")>,\n",
       " <selenium.webdriver.remote.webelement.WebElement (session=\"0a7c934ea57827fdcc6d37fc76b793fc\", element=\"b17cd6ba-4cc4-4e12-a2b4-fc17d707174f\")>,\n",
       " <selenium.webdriver.remote.webelement.WebElement (session=\"0a7c934ea57827fdcc6d37fc76b793fc\", element=\"b82259c5-816b-4ce6-b27d-8a7b89e287cd\")>,\n",
       " <selenium.webdriver.remote.webelement.WebElement (session=\"0a7c934ea57827fdcc6d37fc76b793fc\", element=\"fbd3e777-7b6d-4bb1-ab5d-dbed6e9728bb\")>,\n",
       " <selenium.webdriver.remote.webelement.WebElement (session=\"0a7c934ea57827fdcc6d37fc76b793fc\", element=\"9c5477cc-5672-42cb-97c1-4356de3edb99\")>,\n",
       " <selenium.webdriver.remote.webelement.WebElement (session=\"0a7c934ea57827fdcc6d37fc76b793fc\", element=\"65f55504-39bf-47a3-a030-8f2a560332ce\")>,\n",
       " <selenium.webdriver.remote.webelement.WebElement (session=\"0a7c934ea57827fdcc6d37fc76b793fc\", element=\"cf4f102c-0378-45c9-a0c0-ee3797970a97\")>,\n",
       " <selenium.webdriver.remote.webelement.WebElement (session=\"0a7c934ea57827fdcc6d37fc76b793fc\", element=\"b53d5ca2-b4f3-401a-8343-52776bfe7c79\")>,\n",
       " <selenium.webdriver.remote.webelement.WebElement (session=\"0a7c934ea57827fdcc6d37fc76b793fc\", element=\"010f3f4c-079c-4696-89ad-42c8cb38d306\")>,\n",
       " <selenium.webdriver.remote.webelement.WebElement (session=\"0a7c934ea57827fdcc6d37fc76b793fc\", element=\"3b371daf-572b-4a71-a2ce-18eb7c06fac1\")>,\n",
       " <selenium.webdriver.remote.webelement.WebElement (session=\"0a7c934ea57827fdcc6d37fc76b793fc\", element=\"487540fa-d12e-4096-aa32-05bf9a1043ce\")>,\n",
       " <selenium.webdriver.remote.webelement.WebElement (session=\"0a7c934ea57827fdcc6d37fc76b793fc\", element=\"1606e74b-17e4-44d5-8409-5fab9438617c\")>,\n",
       " <selenium.webdriver.remote.webelement.WebElement (session=\"0a7c934ea57827fdcc6d37fc76b793fc\", element=\"96b1e813-d1cb-439a-8543-02b4cccea5a8\")>,\n",
       " <selenium.webdriver.remote.webelement.WebElement (session=\"0a7c934ea57827fdcc6d37fc76b793fc\", element=\"878e2007-f592-49cd-a310-110837069c1a\")>,\n",
       " <selenium.webdriver.remote.webelement.WebElement (session=\"0a7c934ea57827fdcc6d37fc76b793fc\", element=\"3af05972-6dec-4487-9260-5495901f8f1e\")>,\n",
       " <selenium.webdriver.remote.webelement.WebElement (session=\"0a7c934ea57827fdcc6d37fc76b793fc\", element=\"8aa5e1ab-8f53-49d0-8a39-9833b7530f82\")>,\n",
       " <selenium.webdriver.remote.webelement.WebElement (session=\"0a7c934ea57827fdcc6d37fc76b793fc\", element=\"90263ba1-39d0-4caf-ad6d-4f049066f84e\")>,\n",
       " <selenium.webdriver.remote.webelement.WebElement (session=\"0a7c934ea57827fdcc6d37fc76b793fc\", element=\"4ab6d3f0-5b37-4a71-b3d3-2c7a320ae7f2\")>,\n",
       " <selenium.webdriver.remote.webelement.WebElement (session=\"0a7c934ea57827fdcc6d37fc76b793fc\", element=\"6430a74b-b396-4d2e-8aa1-455e6f107abc\")>,\n",
       " <selenium.webdriver.remote.webelement.WebElement (session=\"0a7c934ea57827fdcc6d37fc76b793fc\", element=\"b77fb5d4-ea24-4452-8ee6-67a54f798364\")>,\n",
       " <selenium.webdriver.remote.webelement.WebElement (session=\"0a7c934ea57827fdcc6d37fc76b793fc\", element=\"a877704b-4f30-460d-8eee-88291192bb3a\")>,\n",
       " <selenium.webdriver.remote.webelement.WebElement (session=\"0a7c934ea57827fdcc6d37fc76b793fc\", element=\"38a02a94-7055-4fda-86b1-461cac8dfe0b\")>,\n",
       " <selenium.webdriver.remote.webelement.WebElement (session=\"0a7c934ea57827fdcc6d37fc76b793fc\", element=\"d93c3500-28c5-4102-a217-c186d17d8f15\")>,\n",
       " <selenium.webdriver.remote.webelement.WebElement (session=\"0a7c934ea57827fdcc6d37fc76b793fc\", element=\"1ae2425a-7932-4e79-adc4-38b54e279d96\")>,\n",
       " <selenium.webdriver.remote.webelement.WebElement (session=\"0a7c934ea57827fdcc6d37fc76b793fc\", element=\"58fb03c2-947c-44c1-895b-14f8585648b6\")>,\n",
       " <selenium.webdriver.remote.webelement.WebElement (session=\"0a7c934ea57827fdcc6d37fc76b793fc\", element=\"c909ce1c-e66e-4286-9911-61bddb325eb8\")>,\n",
       " <selenium.webdriver.remote.webelement.WebElement (session=\"0a7c934ea57827fdcc6d37fc76b793fc\", element=\"246cfc3c-b875-4966-bf1c-0a0163c3b3cb\")>,\n",
       " <selenium.webdriver.remote.webelement.WebElement (session=\"0a7c934ea57827fdcc6d37fc76b793fc\", element=\"5ee17c0b-f1f7-4a35-a28a-235da6491984\")>,\n",
       " <selenium.webdriver.remote.webelement.WebElement (session=\"0a7c934ea57827fdcc6d37fc76b793fc\", element=\"1b5a6bd6-9507-4715-bec8-d29704373388\")>,\n",
       " <selenium.webdriver.remote.webelement.WebElement (session=\"0a7c934ea57827fdcc6d37fc76b793fc\", element=\"0b70a1c2-43c4-48c9-b352-9fcd37ffdcf2\")>,\n",
       " <selenium.webdriver.remote.webelement.WebElement (session=\"0a7c934ea57827fdcc6d37fc76b793fc\", element=\"532e3fd4-ecbf-4901-9d03-c0ff3a5e77cc\")>,\n",
       " <selenium.webdriver.remote.webelement.WebElement (session=\"0a7c934ea57827fdcc6d37fc76b793fc\", element=\"6a70416d-9368-47a4-99ea-9b3856b1d3bd\")>,\n",
       " <selenium.webdriver.remote.webelement.WebElement (session=\"0a7c934ea57827fdcc6d37fc76b793fc\", element=\"81e92038-60be-4826-8ed5-eaa31b74d071\")>,\n",
       " <selenium.webdriver.remote.webelement.WebElement (session=\"0a7c934ea57827fdcc6d37fc76b793fc\", element=\"cfbf1a50-6d66-4ed8-b608-8e4a9e7bdc01\")>,\n",
       " <selenium.webdriver.remote.webelement.WebElement (session=\"0a7c934ea57827fdcc6d37fc76b793fc\", element=\"67aa72f1-b155-4599-8e48-fed92822a8cf\")>,\n",
       " <selenium.webdriver.remote.webelement.WebElement (session=\"0a7c934ea57827fdcc6d37fc76b793fc\", element=\"d6a3257e-baf9-4adc-af76-24f10378e318\")>,\n",
       " <selenium.webdriver.remote.webelement.WebElement (session=\"0a7c934ea57827fdcc6d37fc76b793fc\", element=\"c92be06a-6f4e-44bb-9aec-07fb6ec1d9ce\")>,\n",
       " <selenium.webdriver.remote.webelement.WebElement (session=\"0a7c934ea57827fdcc6d37fc76b793fc\", element=\"99d4d469-a810-4071-bec1-63485dbf1e0f\")>,\n",
       " <selenium.webdriver.remote.webelement.WebElement (session=\"0a7c934ea57827fdcc6d37fc76b793fc\", element=\"52507d0a-5d09-45a4-b331-9369558de2e5\")>,\n",
       " <selenium.webdriver.remote.webelement.WebElement (session=\"0a7c934ea57827fdcc6d37fc76b793fc\", element=\"cf35d77c-e16e-4d89-8743-082810f6b4cb\")>]"
      ]
     },
     "execution_count": 186,
     "metadata": {},
     "output_type": "execute_result"
    }
   ],
   "source": [
    "makers = driver.find_elements_by_css_selector('div.maker_group > div.emblem_area > ul > li')\n",
    "makers"
   ]
  },
  {
   "cell_type": "code",
   "execution_count": 187,
   "metadata": {
    "collapsed": true
   },
   "outputs": [
    {
     "name": "stdout",
     "output_type": "stream",
     "text": [
      "현대\n",
      "https://imgauto-phinf.pstatic.net/20180529_88/auto_1527592677868AxMTJ_PNG/20180529201748_nbVe4EOk.png?type=f30_30\n",
      "https://auto.naver.com/company/main.nhn?mnfcoNo=16&importYn=N\n",
      "기아\n",
      "https://imgauto-phinf.pstatic.net/20210107_250/auto_16099798594392UWMl_PNG/20210107093730_Bmgw8HVj.png?type=f30_30\n",
      "https://auto.naver.com/company/main.nhn?mnfcoNo=12&importYn=N\n",
      "제네시스\n",
      "https://imgauto-phinf.pstatic.net/20210302_296/auto_1614669701772Y34jY_PNG/20210302162133_MyAzBxsu.png?type=f30_30\n",
      "https://auto.naver.com/company/main.nhn?mnfcoNo=61321&importYn=N\n",
      "르노삼성\n",
      "https://imgauto-phinf.pstatic.net/20170707_188/auto_14994089761732i2AM_PNG/20170707152934_4UQVPJ4f.png?type=f30_30\n",
      "https://auto.naver.com/company/main.nhn?mnfcoNo=15&importYn=N\n",
      "쌍용\n",
      "https://imgauto-phinf.pstatic.net/20170707_290/auto_14994089867715m7Kc_PNG/20170707152945_ov1NwuMf.png?type=f30_30\n",
      "https://auto.naver.com/company/main.nhn?mnfcoNo=13&importYn=N\n",
      "폭스바겐\n",
      "https://imgauto-phinf.pstatic.net/20200422_10/auto_15875288567367G6VE_PNG/20200422131406_lmRMWJht.png?type=f30_30\n",
      "https://auto.naver.com/company/main.nhn?mnfcoNo=20&importYn=Y\n",
      "벤츠\n",
      "https://imgauto-phinf.pstatic.net/20170707_151/auto_1499404806991Xuw2o_PNG/20170707142004_4ANaTv3h.png?type=f30_30\n",
      "https://auto.naver.com/company/main.nhn?mnfcoNo=21&importYn=Y\n",
      "BMW\n",
      "https://imgauto-phinf.pstatic.net/20200310_214/auto_1583815678479PKzIr_PNG/20200310134752_3hMT5CTc.png?type=f30_30\n",
      "https://auto.naver.com/company/main.nhn?mnfcoNo=23&importYn=Y\n",
      "아우디\n",
      "https://imgauto-phinf.pstatic.net/20170707_207/auto_1499404828979BICft_PNG/20170707142026_ovRGcdML.png?type=f30_30\n",
      "https://auto.naver.com/company/main.nhn?mnfcoNo=18&importYn=Y\n",
      "렉서스\n",
      "https://imgauto-phinf.pstatic.net/20170707_52/auto_14994086479909zBvg_PNG/20170707152405_Q81trl9v.png?type=f30_30\n",
      "https://auto.naver.com/company/main.nhn?mnfcoNo=22&importYn=Y\n",
      "토요타\n",
      "https://imgauto-phinf.pstatic.net/20210106_265/auto_16098924526573ov6n_PNG/20210106092042_1U9hpa8L.png?type=f30_30\n",
      "https://auto.naver.com/company/main.nhn?mnfcoNo=41&importYn=Y\n",
      "혼다\n",
      "https://imgauto-phinf.pstatic.net/20170707_163/auto_1499412516283v1k4a_PNG/20170707162834_NTGXoypb.png?type=f30_30\n",
      "https://auto.naver.com/company/main.nhn?mnfcoNo=31&importYn=Y\n",
      "볼보\n",
      "https://imgauto-phinf.pstatic.net/20170707_20/auto_1499407892646zwj3j_PNG/20170707151130_ECGx0tRI.png?type=f30_30\n",
      "https://auto.naver.com/company/main.nhn?mnfcoNo=24&importYn=Y\n",
      "미니\n",
      "https://imgauto-phinf.pstatic.net/20170718_248/auto_1500352107292eUlzC_PNG/20170718132824_jfupLnkX.png?type=f30_30\n",
      "https://auto.naver.com/company/main.nhn?mnfcoNo=6435&importYn=Y\n",
      "재규어\n",
      "https://imgauto-phinf.pstatic.net/20200210_83/auto_1581307501553E0yRR_PNG/20200210130456_nFc7LE10.png?type=f30_30\n",
      "https://auto.naver.com/company/main.nhn?mnfcoNo=25&importYn=Y\n",
      "랜드로버\n",
      "https://imgauto-phinf.pstatic.net/20170707_56/auto_1499407965482n6u8s_PNG/20170707151243_JgB80ept.png?type=f30_30\n",
      "https://auto.naver.com/company/main.nhn?mnfcoNo=39&importYn=Y\n",
      "포드\n",
      "https://imgauto-phinf.pstatic.net/20210105_233/auto_1609826474487Qo1XI_PNG/20210105150107_0owl8Al4.png?type=f30_30\n",
      "https://auto.naver.com/company/main.nhn?mnfcoNo=30&importYn=Y\n",
      "링컨\n",
      "https://imgauto-phinf.pstatic.net/20200210_259/auto_1581306902625KDGxC_PNG/20200210125456_MTfaDdcX.png?type=f30_30\n",
      "https://auto.naver.com/company/main.nhn?mnfcoNo=35&importYn=Y\n",
      "쉐보레\n",
      "https://imgauto-phinf.pstatic.net/20200210_175/auto_15813076774623FdaV_PNG/20200210130752_EvOsbnkP.png?type=f30_30\n",
      "https://auto.naver.com/company/main.nhn?mnfcoNo=48&importYn=Y\n",
      "캐딜락\n",
      "https://imgauto-phinf.pstatic.net/20200210_173/auto_1581307884356S76fk_PNG/20200210131119_926jfS5j.png?type=f30_30\n",
      "https://auto.naver.com/company/main.nhn?mnfcoNo=19&importYn=Y\n",
      "테슬라\n",
      "https://imgauto-phinf.pstatic.net/20200207_106/auto_1581062693327I8zB8_PNG/20200207170452_onbaYnni.png?type=f30_30\n",
      "https://auto.naver.com/company/main.nhn?mnfcoNo=29832&importYn=Y\n",
      "지프\n",
      "https://imgauto-phinf.pstatic.net/20210105_78/auto_1609827518081uIbLF_PNG/20210105151828_vhnCFC3o.png?type=f30_30\n",
      "https://auto.naver.com/company/main.nhn?mnfcoNo=40&importYn=Y\n",
      "르노\n",
      "https://imgauto-phinf.pstatic.net/20170707_144/auto_1499408879255Wd6hc_PNG/20170707152757_lWFu4xfw.png?type=f30_30\n",
      "https://auto.naver.com/company/main.nhn?mnfcoNo=3847&importYn=Y\n",
      "푸조\n",
      "https://imgauto-phinf.pstatic.net/20210226_26/auto_1614310028069dFaSb_PNG/20210226122657_FXxr6OOE.png?type=f30_30\n",
      "https://auto.naver.com/company/main.nhn?mnfcoNo=28&importYn=Y\n",
      "시트로엥\n",
      "https://imgauto-phinf.pstatic.net/20181108_18/auto_1541652035025xL7p3_PNG/20181108133955_yc5nqMrw.png?type=f30_30\n",
      "https://auto.naver.com/company/main.nhn?mnfcoNo=3848&importYn=Y\n",
      "DS\n",
      "https://imgauto-phinf.pstatic.net/20190107_113/auto_1546853570990Bvdb4_PNG/20190107182820_B7nzxr1b.png?type=f30_30\n",
      "https://auto.naver.com/company/main.nhn?mnfcoNo=128687&importYn=Y\n",
      "마세라티\n",
      "https://imgauto-phinf.pstatic.net/20200204_64/auto_15807923347514cszg_PNG/20200204135847_DtWGDHvi.png?type=f30_30\n",
      "https://auto.naver.com/company/main.nhn?mnfcoNo=3976&importYn=Y\n",
      "포르쉐\n",
      "https://imgauto-phinf.pstatic.net/20170707_204/auto_1499412493946IUcqn_PNG/20170707162812_UHBa49m6.png?type=f30_30\n",
      "https://auto.naver.com/company/main.nhn?mnfcoNo=3905&importYn=Y\n",
      "람보르기니\n",
      "https://imgauto-phinf.pstatic.net/20170707_125/auto_14994122235148asnx_PNG/20170707162341_CqMN8SjK.png?type=f30_30\n",
      "https://auto.naver.com/company/main.nhn?mnfcoNo=3814&importYn=Y\n",
      "페라리\n",
      "https://imgauto-phinf.pstatic.net/20170707_281/auto_1499408535368ecSNr_PNG/20170707152213_nyTypfsh.png?type=f30_30\n",
      "https://auto.naver.com/company/main.nhn?mnfcoNo=27&importYn=Y\n",
      "맥라렌\n",
      "https://imgauto-phinf.pstatic.net/20190926_229/auto_15694874534572Fs1o_PNG/20190926174407_RwH9JfF9.png?type=f30_30\n",
      "https://auto.naver.com/company/main.nhn?mnfcoNo=29978&importYn=Y\n",
      "부가티\n",
      "https://imgauto-phinf.pstatic.net/20170707_285/auto_1499408935383JGknW_PNG/20170707152853_4k680tvB.png?type=f30_30\n",
      "https://auto.naver.com/company/main.nhn?mnfcoNo=58745&importYn=Y\n",
      "애스턴마틴\n",
      "https://imgauto-phinf.pstatic.net/20170707_46/auto_1499408032205ouvHE_PNG/20170707151349_r4p7RZOj.png?type=f30_30\n",
      "https://auto.naver.com/company/main.nhn?mnfcoNo=3827&importYn=Y\n",
      "마이바흐\n",
      "https://imgauto-phinf.pstatic.net/20170707_277/auto_1499412250805hiM8q_PNG/20170707162409_mSzWlZ24.png?type=f30_30\n",
      "https://auto.naver.com/company/main.nhn?mnfcoNo=6434&importYn=Y\n",
      "롤스로이스\n",
      "https://imgauto-phinf.pstatic.net/20170707_262/auto_14994080191477VFT5_PNG/20170707151337_vgZPLDwZ.png?type=f30_30\n",
      "https://auto.naver.com/company/main.nhn?mnfcoNo=3824&importYn=Y\n",
      "벤틀리\n",
      "https://imgauto-phinf.pstatic.net/20170707_290/auto_1499408006740euBhj_PNG/20170707151324_gQBpIQqz.png?type=f30_30\n",
      "https://auto.naver.com/company/main.nhn?mnfcoNo=4129&importYn=Y\n",
      "닛산\n",
      "https://imgauto-phinf.pstatic.net/20210105_89/auto_1609825595273uqmlr_PNG/20210105144621_ezZp9kFk.png?type=f30_30\n",
      "https://auto.naver.com/company/main.nhn?mnfcoNo=33&importYn=Y\n",
      "로터스\n",
      "https://imgauto-phinf.pstatic.net/20170707_97/auto_1499408040746dxIos_PNG/20170707151359_E4SArp8Q.png?type=f30_30\n",
      "https://auto.naver.com/company/main.nhn?mnfcoNo=4040&importYn=Y\n",
      "마쯔다\n",
      "https://imgauto-phinf.pstatic.net/20170707_140/auto_14994122738541Fk5N_PNG/20170707162432_2Lw7mMJS.png?type=f30_30\n",
      "https://auto.naver.com/company/main.nhn?mnfcoNo=42&importYn=Y\n",
      "미쓰비시\n",
      "https://imgauto-phinf.pstatic.net/20200207_201/auto_1581062586549FXM8u_PNG/20200207170304_BOBWwF1a.png?type=f30_30\n",
      "https://auto.naver.com/company/main.nhn?mnfcoNo=37&importYn=Y\n",
      "복스홀\n",
      "https://imgauto-phinf.pstatic.net/20200821_129/auto_1597968282651s2erz_PNG/20200821090431_zWaArvD8.png?type=f30_30\n",
      "https://auto.naver.com/company/main.nhn?mnfcoNo=29989&importYn=Y\n",
      "뷰익\n",
      "https://imgauto-phinf.pstatic.net/20170707_147/auto_1499405021719vSD1c_PNG/20170707142339_e4H9pYvp.png?type=f30_30\n",
      "https://auto.naver.com/company/main.nhn?mnfcoNo=43&importYn=Y\n"
     ]
    }
   ],
   "source": [
    "for maker in makers:\n",
    "    brandName = maker.find_element_by_tag_name('span').text\n",
    "    # print(brandName)\n",
    "    if brandName != '' :\n",
    "        print(brandName.strip())\n",
    "        img = maker.find_element_by_tag_name('img').get_attribute('src')\n",
    "        print(img)\n",
    "        link = maker.find_element_by_tag_name('a').get_attribute('href')\n",
    "        print(link)"
   ]
  },
  {
   "cell_type": "code",
   "execution_count": 174,
   "metadata": {},
   "outputs": [],
   "source": [
    "# nextBtn\n",
    "\n",
    "nextBtn = driver.find_element_by_css_selector('div.maker_group > div.rolling_btn > button.next')\n",
    "isFlag = nextBtn.is_enabled()  # 버튼 비활성화 됐을 때"
   ]
  },
  {
   "cell_type": "code",
   "execution_count": 197,
   "metadata": {},
   "outputs": [
    {
     "name": "stdout",
     "output_type": "stream",
     "text": [
      "done\n",
      "True\n",
      "done\n",
      "True\n",
      "done\n",
      "True\n",
      "done\n",
      "False\n"
     ]
    }
   ],
   "source": [
    "car_data=[]\n",
    "isFlag = True \n",
    "\n",
    "while isFlag == True:\n",
    "    if isFlag == True:\n",
    "        for maker in makers:\n",
    "            brandName = maker.find_element_by_tag_name('span').text\n",
    "            img = maker.find_element_by_tag_name('img').get_attribute('src')\n",
    "            link = maker.find_element_by_tag_name('a').get_attribute('href')\n",
    "            car_data.append({'brand':brandName,\n",
    "                             'img':img,\n",
    "                             'link':link})\n",
    "        print('done')\n",
    "                \n",
    "        nextBtn = driver.find_element_by_css_selector('div.maker_group > div.rolling_btn > button.next')\n",
    "        isFlag = nextBtn.is_enabled()\n",
    "        time.sleep(2)\n",
    "        nextBtn.click()\n",
    "        print(isFlag)\n",
    "    \n",
    "    elif isFlag == False:\n",
    "        print('break')\n"
   ]
  },
  {
   "cell_type": "code",
   "execution_count": 202,
   "metadata": {},
   "outputs": [
    {
     "data": {
      "text/plain": [
       "dict"
      ]
     },
     "execution_count": 202,
     "metadata": {},
     "output_type": "execute_result"
    }
   ],
   "source": [
    "type(car_data[0])"
   ]
  },
  {
   "cell_type": "code",
   "execution_count": 233,
   "metadata": {},
   "outputs": [],
   "source": [
    "car_dataDF = pd.DataFrame(car_data)"
   ]
  },
  {
   "cell_type": "code",
   "execution_count": 234,
   "metadata": {},
   "outputs": [],
   "source": [
    "car_dataDF['brand'] = car_dataDF['brand'].replace('', np.nan)"
   ]
  },
  {
   "cell_type": "code",
   "execution_count": 235,
   "metadata": {},
   "outputs": [],
   "source": [
    "car_dataDF.dropna(inplace=True)"
   ]
  },
  {
   "cell_type": "code",
   "execution_count": 252,
   "metadata": {},
   "outputs": [],
   "source": [
    "car_dataDF['num'] = np.arange(138)\n",
    "car_dataDF = car_dataDF.drop(['num'], axis=1)"
   ]
  },
  {
   "cell_type": "code",
   "execution_count": 256,
   "metadata": {},
   "outputs": [],
   "source": [
    "car_dataDF = car_dataDF.reset_index()"
   ]
  },
  {
   "cell_type": "code",
   "execution_count": 259,
   "metadata": {
    "collapsed": true
   },
   "outputs": [
    {
     "ename": "KeyError",
     "evalue": "\"['index'] not found in axis\"",
     "output_type": "error",
     "traceback": [
      "\u001b[1;31m---------------------------------------------------------------------------\u001b[0m",
      "\u001b[1;31mKeyError\u001b[0m                                  Traceback (most recent call last)",
      "\u001b[1;32m<ipython-input-259-726fd094fb7a>\u001b[0m in \u001b[0;36m<module>\u001b[1;34m\u001b[0m\n\u001b[1;32m----> 1\u001b[1;33m \u001b[0mcar_dataDF\u001b[0m \u001b[1;33m=\u001b[0m \u001b[0mcar_dataDF\u001b[0m\u001b[1;33m.\u001b[0m\u001b[0mdrop\u001b[0m\u001b[1;33m(\u001b[0m\u001b[1;33m[\u001b[0m\u001b[1;34m'index'\u001b[0m\u001b[1;33m]\u001b[0m\u001b[1;33m,\u001b[0m \u001b[0maxis\u001b[0m\u001b[1;33m=\u001b[0m\u001b[1;36m1\u001b[0m\u001b[1;33m)\u001b[0m\u001b[1;33m\u001b[0m\u001b[1;33m\u001b[0m\u001b[0m\n\u001b[0m",
      "\u001b[1;32m~\\anaconda3\\lib\\site-packages\\pandas\\core\\frame.py\u001b[0m in \u001b[0;36mdrop\u001b[1;34m(self, labels, axis, index, columns, level, inplace, errors)\u001b[0m\n\u001b[0;32m   4161\u001b[0m                 \u001b[0mweight\u001b[0m  \u001b[1;36m1.0\u001b[0m     \u001b[1;36m0.8\u001b[0m\u001b[1;33m\u001b[0m\u001b[1;33m\u001b[0m\u001b[0m\n\u001b[0;32m   4162\u001b[0m         \"\"\"\n\u001b[1;32m-> 4163\u001b[1;33m         return super().drop(\n\u001b[0m\u001b[0;32m   4164\u001b[0m             \u001b[0mlabels\u001b[0m\u001b[1;33m=\u001b[0m\u001b[0mlabels\u001b[0m\u001b[1;33m,\u001b[0m\u001b[1;33m\u001b[0m\u001b[1;33m\u001b[0m\u001b[0m\n\u001b[0;32m   4165\u001b[0m             \u001b[0maxis\u001b[0m\u001b[1;33m=\u001b[0m\u001b[0maxis\u001b[0m\u001b[1;33m,\u001b[0m\u001b[1;33m\u001b[0m\u001b[1;33m\u001b[0m\u001b[0m\n",
      "\u001b[1;32m~\\anaconda3\\lib\\site-packages\\pandas\\core\\generic.py\u001b[0m in \u001b[0;36mdrop\u001b[1;34m(self, labels, axis, index, columns, level, inplace, errors)\u001b[0m\n\u001b[0;32m   3885\u001b[0m         \u001b[1;32mfor\u001b[0m \u001b[0maxis\u001b[0m\u001b[1;33m,\u001b[0m \u001b[0mlabels\u001b[0m \u001b[1;32min\u001b[0m \u001b[0maxes\u001b[0m\u001b[1;33m.\u001b[0m\u001b[0mitems\u001b[0m\u001b[1;33m(\u001b[0m\u001b[1;33m)\u001b[0m\u001b[1;33m:\u001b[0m\u001b[1;33m\u001b[0m\u001b[1;33m\u001b[0m\u001b[0m\n\u001b[0;32m   3886\u001b[0m             \u001b[1;32mif\u001b[0m \u001b[0mlabels\u001b[0m \u001b[1;32mis\u001b[0m \u001b[1;32mnot\u001b[0m \u001b[1;32mNone\u001b[0m\u001b[1;33m:\u001b[0m\u001b[1;33m\u001b[0m\u001b[1;33m\u001b[0m\u001b[0m\n\u001b[1;32m-> 3887\u001b[1;33m                 \u001b[0mobj\u001b[0m \u001b[1;33m=\u001b[0m \u001b[0mobj\u001b[0m\u001b[1;33m.\u001b[0m\u001b[0m_drop_axis\u001b[0m\u001b[1;33m(\u001b[0m\u001b[0mlabels\u001b[0m\u001b[1;33m,\u001b[0m \u001b[0maxis\u001b[0m\u001b[1;33m,\u001b[0m \u001b[0mlevel\u001b[0m\u001b[1;33m=\u001b[0m\u001b[0mlevel\u001b[0m\u001b[1;33m,\u001b[0m \u001b[0merrors\u001b[0m\u001b[1;33m=\u001b[0m\u001b[0merrors\u001b[0m\u001b[1;33m)\u001b[0m\u001b[1;33m\u001b[0m\u001b[1;33m\u001b[0m\u001b[0m\n\u001b[0m\u001b[0;32m   3888\u001b[0m \u001b[1;33m\u001b[0m\u001b[0m\n\u001b[0;32m   3889\u001b[0m         \u001b[1;32mif\u001b[0m \u001b[0minplace\u001b[0m\u001b[1;33m:\u001b[0m\u001b[1;33m\u001b[0m\u001b[1;33m\u001b[0m\u001b[0m\n",
      "\u001b[1;32m~\\anaconda3\\lib\\site-packages\\pandas\\core\\generic.py\u001b[0m in \u001b[0;36m_drop_axis\u001b[1;34m(self, labels, axis, level, errors)\u001b[0m\n\u001b[0;32m   3919\u001b[0m                 \u001b[0mnew_axis\u001b[0m \u001b[1;33m=\u001b[0m \u001b[0maxis\u001b[0m\u001b[1;33m.\u001b[0m\u001b[0mdrop\u001b[0m\u001b[1;33m(\u001b[0m\u001b[0mlabels\u001b[0m\u001b[1;33m,\u001b[0m \u001b[0mlevel\u001b[0m\u001b[1;33m=\u001b[0m\u001b[0mlevel\u001b[0m\u001b[1;33m,\u001b[0m \u001b[0merrors\u001b[0m\u001b[1;33m=\u001b[0m\u001b[0merrors\u001b[0m\u001b[1;33m)\u001b[0m\u001b[1;33m\u001b[0m\u001b[1;33m\u001b[0m\u001b[0m\n\u001b[0;32m   3920\u001b[0m             \u001b[1;32melse\u001b[0m\u001b[1;33m:\u001b[0m\u001b[1;33m\u001b[0m\u001b[1;33m\u001b[0m\u001b[0m\n\u001b[1;32m-> 3921\u001b[1;33m                 \u001b[0mnew_axis\u001b[0m \u001b[1;33m=\u001b[0m \u001b[0maxis\u001b[0m\u001b[1;33m.\u001b[0m\u001b[0mdrop\u001b[0m\u001b[1;33m(\u001b[0m\u001b[0mlabels\u001b[0m\u001b[1;33m,\u001b[0m \u001b[0merrors\u001b[0m\u001b[1;33m=\u001b[0m\u001b[0merrors\u001b[0m\u001b[1;33m)\u001b[0m\u001b[1;33m\u001b[0m\u001b[1;33m\u001b[0m\u001b[0m\n\u001b[0m\u001b[0;32m   3922\u001b[0m             \u001b[0mresult\u001b[0m \u001b[1;33m=\u001b[0m \u001b[0mself\u001b[0m\u001b[1;33m.\u001b[0m\u001b[0mreindex\u001b[0m\u001b[1;33m(\u001b[0m\u001b[1;33m**\u001b[0m\u001b[1;33m{\u001b[0m\u001b[0maxis_name\u001b[0m\u001b[1;33m:\u001b[0m \u001b[0mnew_axis\u001b[0m\u001b[1;33m}\u001b[0m\u001b[1;33m)\u001b[0m\u001b[1;33m\u001b[0m\u001b[1;33m\u001b[0m\u001b[0m\n\u001b[0;32m   3923\u001b[0m \u001b[1;33m\u001b[0m\u001b[0m\n",
      "\u001b[1;32m~\\anaconda3\\lib\\site-packages\\pandas\\core\\indexes\\base.py\u001b[0m in \u001b[0;36mdrop\u001b[1;34m(self, labels, errors)\u001b[0m\n\u001b[0;32m   5280\u001b[0m         \u001b[1;32mif\u001b[0m \u001b[0mmask\u001b[0m\u001b[1;33m.\u001b[0m\u001b[0many\u001b[0m\u001b[1;33m(\u001b[0m\u001b[1;33m)\u001b[0m\u001b[1;33m:\u001b[0m\u001b[1;33m\u001b[0m\u001b[1;33m\u001b[0m\u001b[0m\n\u001b[0;32m   5281\u001b[0m             \u001b[1;32mif\u001b[0m \u001b[0merrors\u001b[0m \u001b[1;33m!=\u001b[0m \u001b[1;34m\"ignore\"\u001b[0m\u001b[1;33m:\u001b[0m\u001b[1;33m\u001b[0m\u001b[1;33m\u001b[0m\u001b[0m\n\u001b[1;32m-> 5282\u001b[1;33m                 \u001b[1;32mraise\u001b[0m \u001b[0mKeyError\u001b[0m\u001b[1;33m(\u001b[0m\u001b[1;34mf\"{labels[mask]} not found in axis\"\u001b[0m\u001b[1;33m)\u001b[0m\u001b[1;33m\u001b[0m\u001b[1;33m\u001b[0m\u001b[0m\n\u001b[0m\u001b[0;32m   5283\u001b[0m             \u001b[0mindexer\u001b[0m \u001b[1;33m=\u001b[0m \u001b[0mindexer\u001b[0m\u001b[1;33m[\u001b[0m\u001b[1;33m~\u001b[0m\u001b[0mmask\u001b[0m\u001b[1;33m]\u001b[0m\u001b[1;33m\u001b[0m\u001b[1;33m\u001b[0m\u001b[0m\n\u001b[0;32m   5284\u001b[0m         \u001b[1;32mreturn\u001b[0m \u001b[0mself\u001b[0m\u001b[1;33m.\u001b[0m\u001b[0mdelete\u001b[0m\u001b[1;33m(\u001b[0m\u001b[0mindexer\u001b[0m\u001b[1;33m)\u001b[0m\u001b[1;33m\u001b[0m\u001b[1;33m\u001b[0m\u001b[0m\n",
      "\u001b[1;31mKeyError\u001b[0m: \"['index'] not found in axis\""
     ]
    }
   ],
   "source": [
    "car_dataDF = car_dataDF.drop(['index'], axis=1)"
   ]
  },
  {
   "cell_type": "code",
   "execution_count": 260,
   "metadata": {},
   "outputs": [
    {
     "data": {
      "text/html": [
       "<div>\n",
       "<style scoped>\n",
       "    .dataframe tbody tr th:only-of-type {\n",
       "        vertical-align: middle;\n",
       "    }\n",
       "\n",
       "    .dataframe tbody tr th {\n",
       "        vertical-align: top;\n",
       "    }\n",
       "\n",
       "    .dataframe thead th {\n",
       "        text-align: right;\n",
       "    }\n",
       "</style>\n",
       "<table border=\"1\" class=\"dataframe\">\n",
       "  <thead>\n",
       "    <tr style=\"text-align: right;\">\n",
       "      <th></th>\n",
       "      <th>brand</th>\n",
       "      <th>img</th>\n",
       "      <th>link</th>\n",
       "    </tr>\n",
       "  </thead>\n",
       "  <tbody>\n",
       "    <tr>\n",
       "      <th>0</th>\n",
       "      <td>현대</td>\n",
       "      <td>https://imgauto-phinf.pstatic.net/20180529_88/...</td>\n",
       "      <td>https://auto.naver.com/company/main.nhn?mnfcoN...</td>\n",
       "    </tr>\n",
       "    <tr>\n",
       "      <th>1</th>\n",
       "      <td>기아</td>\n",
       "      <td>https://imgauto-phinf.pstatic.net/20210107_250...</td>\n",
       "      <td>https://auto.naver.com/company/main.nhn?mnfcoN...</td>\n",
       "    </tr>\n",
       "    <tr>\n",
       "      <th>2</th>\n",
       "      <td>제네시스</td>\n",
       "      <td>https://imgauto-phinf.pstatic.net/20210302_296...</td>\n",
       "      <td>https://auto.naver.com/company/main.nhn?mnfcoN...</td>\n",
       "    </tr>\n",
       "    <tr>\n",
       "      <th>3</th>\n",
       "      <td>르노삼성</td>\n",
       "      <td>https://imgauto-phinf.pstatic.net/20170707_188...</td>\n",
       "      <td>https://auto.naver.com/company/main.nhn?mnfcoN...</td>\n",
       "    </tr>\n",
       "    <tr>\n",
       "      <th>4</th>\n",
       "      <td>쌍용</td>\n",
       "      <td>https://imgauto-phinf.pstatic.net/20170707_290...</td>\n",
       "      <td>https://auto.naver.com/company/main.nhn?mnfcoN...</td>\n",
       "    </tr>\n",
       "    <tr>\n",
       "      <th>...</th>\n",
       "      <td>...</td>\n",
       "      <td>...</td>\n",
       "      <td>...</td>\n",
       "    </tr>\n",
       "    <tr>\n",
       "      <th>133</th>\n",
       "      <td>폴스타</td>\n",
       "      <td>https://imgauto-phinf.pstatic.net/20200207_201...</td>\n",
       "      <td>https://auto.naver.com/company/main.nhn?mnfcoN...</td>\n",
       "    </tr>\n",
       "    <tr>\n",
       "      <th>134</th>\n",
       "      <td>피닌파리나</td>\n",
       "      <td>https://imgauto-phinf.pstatic.net/20200210_208...</td>\n",
       "      <td>https://auto.naver.com/company/main.nhn?mnfcoN...</td>\n",
       "    </tr>\n",
       "    <tr>\n",
       "      <th>135</th>\n",
       "      <td>허머</td>\n",
       "      <td>https://imgauto-phinf.pstatic.net/20170707_94/...</td>\n",
       "      <td>https://auto.naver.com/company/main.nhn?mnfcoN...</td>\n",
       "    </tr>\n",
       "    <tr>\n",
       "      <th>136</th>\n",
       "      <td>헤네시</td>\n",
       "      <td>https://imgauto-phinf.pstatic.net/20170707_169...</td>\n",
       "      <td>https://auto.naver.com/company/main.nhn?mnfcoN...</td>\n",
       "    </tr>\n",
       "    <tr>\n",
       "      <th>137</th>\n",
       "      <td>홍치</td>\n",
       "      <td>https://imgauto-phinf.pstatic.net/20200208_292...</td>\n",
       "      <td>https://auto.naver.com/company/main.nhn?mnfcoN...</td>\n",
       "    </tr>\n",
       "  </tbody>\n",
       "</table>\n",
       "<p>138 rows × 3 columns</p>\n",
       "</div>"
      ],
      "text/plain": [
       "     brand                                                img  \\\n",
       "0       현대  https://imgauto-phinf.pstatic.net/20180529_88/...   \n",
       "1       기아  https://imgauto-phinf.pstatic.net/20210107_250...   \n",
       "2     제네시스  https://imgauto-phinf.pstatic.net/20210302_296...   \n",
       "3     르노삼성  https://imgauto-phinf.pstatic.net/20170707_188...   \n",
       "4       쌍용  https://imgauto-phinf.pstatic.net/20170707_290...   \n",
       "..     ...                                                ...   \n",
       "133    폴스타  https://imgauto-phinf.pstatic.net/20200207_201...   \n",
       "134  피닌파리나  https://imgauto-phinf.pstatic.net/20200210_208...   \n",
       "135     허머  https://imgauto-phinf.pstatic.net/20170707_94/...   \n",
       "136    헤네시  https://imgauto-phinf.pstatic.net/20170707_169...   \n",
       "137     홍치  https://imgauto-phinf.pstatic.net/20200208_292...   \n",
       "\n",
       "                                                  link  \n",
       "0    https://auto.naver.com/company/main.nhn?mnfcoN...  \n",
       "1    https://auto.naver.com/company/main.nhn?mnfcoN...  \n",
       "2    https://auto.naver.com/company/main.nhn?mnfcoN...  \n",
       "3    https://auto.naver.com/company/main.nhn?mnfcoN...  \n",
       "4    https://auto.naver.com/company/main.nhn?mnfcoN...  \n",
       "..                                                 ...  \n",
       "133  https://auto.naver.com/company/main.nhn?mnfcoN...  \n",
       "134  https://auto.naver.com/company/main.nhn?mnfcoN...  \n",
       "135  https://auto.naver.com/company/main.nhn?mnfcoN...  \n",
       "136  https://auto.naver.com/company/main.nhn?mnfcoN...  \n",
       "137  https://auto.naver.com/company/main.nhn?mnfcoN...  \n",
       "\n",
       "[138 rows x 3 columns]"
      ]
     },
     "execution_count": 260,
     "metadata": {},
     "output_type": "execute_result"
    }
   ],
   "source": [
    "car_dataDF"
   ]
  },
  {
   "cell_type": "code",
   "execution_count": 261,
   "metadata": {},
   "outputs": [],
   "source": [
    "import pymongo as mongo"
   ]
  },
  {
   "cell_type": "code",
   "execution_count": 262,
   "metadata": {},
   "outputs": [],
   "source": [
    "conn = mongo.MongoClient()"
   ]
  },
  {
   "cell_type": "code",
   "execution_count": 263,
   "metadata": {},
   "outputs": [
    {
     "name": "stdout",
     "output_type": "stream",
     "text": [
      "Database(MongoClient(host=['localhost:27017'], document_class=dict, tz_aware=False, connect=True), 'carDB')\n"
     ]
    }
   ],
   "source": [
    "carDB = conn.carDB\n",
    "print(carDB)"
   ]
  },
  {
   "cell_type": "code",
   "execution_count": null,
   "metadata": {},
   "outputs": [],
   "source": []
  },
  {
   "cell_type": "code",
   "execution_count": null,
   "metadata": {},
   "outputs": [],
   "source": []
  },
  {
   "cell_type": "code",
   "execution_count": null,
   "metadata": {},
   "outputs": [],
   "source": []
  },
  {
   "cell_type": "code",
   "execution_count": null,
   "metadata": {},
   "outputs": [],
   "source": []
  },
  {
   "cell_type": "code",
   "execution_count": null,
   "metadata": {},
   "outputs": [],
   "source": []
  },
  {
   "cell_type": "code",
   "execution_count": null,
   "metadata": {},
   "outputs": [],
   "source": []
  },
  {
   "cell_type": "code",
   "execution_count": null,
   "metadata": {},
   "outputs": [],
   "source": []
  },
  {
   "cell_type": "code",
   "execution_count": null,
   "metadata": {},
   "outputs": [],
   "source": []
  },
  {
   "cell_type": "code",
   "execution_count": null,
   "metadata": {},
   "outputs": [],
   "source": []
  },
  {
   "cell_type": "code",
   "execution_count": null,
   "metadata": {},
   "outputs": [],
   "source": []
  },
  {
   "cell_type": "code",
   "execution_count": null,
   "metadata": {},
   "outputs": [],
   "source": []
  },
  {
   "cell_type": "code",
   "execution_count": null,
   "metadata": {},
   "outputs": [],
   "source": []
  },
  {
   "cell_type": "code",
   "execution_count": null,
   "metadata": {},
   "outputs": [],
   "source": []
  },
  {
   "cell_type": "code",
   "execution_count": null,
   "metadata": {},
   "outputs": [],
   "source": []
  },
  {
   "cell_type": "markdown",
   "metadata": {},
   "source": [
    "### Xpath\n",
    "- 절대경로를 이용한 노드 탐색\n",
    "- 노드를 선택하는 방법( nodename, /(루트) , //(현재) , . , ..(부모노드) , @(속성을 의미) ) \n",
    "\n",
    "- ```<div name='test'>```\n",
    "- driver.find_elements_by_xpath('//div[@name]' \n",
    "- //*[@id=\"_vendor_select_layer\"]/div/div[1]/div[5]/ul/li[7]/a\n",
    "- *(아스테리스크) 매칭되는 모든 요소를 의미, @* 매칭되는 모든 속성을 의미"
   ]
  },
  {
   "cell_type": "code",
   "execution_count": 265,
   "metadata": {},
   "outputs": [
    {
     "data": {
      "text/plain": [
       "<selenium.webdriver.chrome.webdriver.WebDriver (session=\"58290e3e154931e7c7a03d6ca7c0582c\")>"
      ]
     },
     "execution_count": 265,
     "metadata": {},
     "output_type": "execute_result"
    }
   ],
   "source": [
    "path = './driver/chromedriver.exe'\n",
    "driver = webdriver.Chrome(path) # 제어할 수 있는 웹 창 띄우기\n",
    "driver"
   ]
  },
  {
   "cell_type": "code",
   "execution_count": 266,
   "metadata": {},
   "outputs": [],
   "source": [
    "driver.get('http://deal.11st.co.kr/html/nc/deal/main.html')"
   ]
  },
  {
   "cell_type": "code",
   "execution_count": 274,
   "metadata": {
    "collapsed": true
   },
   "outputs": [
    {
     "name": "stdout",
     "output_type": "stream",
     "text": [
      "[상담완료고객 스벅 커피쿠폰증정]아라봄 신차 장기렌터카 무보증 0원 비교견적/수입차전차종/국산차전차종/BMW/더뉴그랜져/팰리세이드/아반떼\n",
      "239,000\n",
      "**************************************************\n",
      "[마니커F&G]바사삭치킨한마리 500g(2봉) + 바사삭순살치킨 400g/옛날통닭/너겟/통다리\n",
      "19,900\n",
      "**************************************************\n",
      "시디즈 베스트셀러 탭/링고/아이블/T25/T40/T50\n",
      "149,900\n",
      "**************************************************\n",
      "[프롬비기닝]~55% 3만원할인+1천원! 신상&인기업댓! 봄코디는 비기닝! 자켓/셔츠/팬츠/가디건/원피스\n",
      "16,200\n",
      "**************************************************\n",
      "[25%쿠폰][헤지스/닥스ACC 외] 시즌 BEST 단독 특가 행사! 가방/지갑/잡화 모음전\n",
      "31,200\n",
      "**************************************************\n",
      "삼성전자 그랑데 AI 올인원컨트롤 건조기+세탁기 세트 DV16T9720SW+WF21T9500KW\n",
      "2,079,000\n",
      "**************************************************\n",
      "아우라 건조기용 드라이시트120매x2개+증정20매\n",
      "30,900\n",
      "**************************************************\n",
      "[빈폴키즈][20%+5%더블쿠폰+무배] 신상의류 & 신학기 가방 득템찬스\n",
      "29,000\n",
      "**************************************************\n",
      "[\"15+5%쿠폰\"]\n",
      "125,910\n",
      "**************************************************\n",
      "[앤디애플]봄신상 BEST 모음/봄코디룩/등원룩/아동복/유아복/티셔츠/상하복/원피스/레깅스/스커트/점퍼\n",
      "8,800\n",
      "**************************************************\n",
      "[풀무원] 월간 핫도그(올바른/모짜렐라/탱글뽀득/체다모짜)+[증] 하인즈케첩460g\n",
      "23,310\n",
      "**************************************************\n",
      "[17%혜택+추가+상품권] 삼성 갤럭시워치3 41mm 45mm 블루투스 스마트워치 모음\n",
      "429,000\n",
      "**************************************************\n",
      "[15%+10%+T11%] 아모레퍼시픽 놓칠수 없는 기회! 라네즈/아이오페/한율/마몽드 BEST 전국민세일~50%\n",
      "21,000\n",
      "**************************************************\n",
      "코카콜라[본사직영] 코크제로 캔 355ml 24개\n",
      "18,310\n",
      "**************************************************\n",
      "[60%쿠폰+22%T][슈나이더]봄맞이 남녀 인기패션 아이템 아우터 티셔츠 팬츠 바지 자켓 베스트 맨투맨\n",
      "11,800\n",
      "**************************************************\n",
      "[15%+15%쿠폰][크록스본사]크록스 시즌 오픈! 신상 입고 십일절 최대 67%\n",
      "19,360\n",
      "**************************************************\n",
      "[슈마커]30%+11%,아디다스/푸마 신상 슬라이드 운동화 뮬 백팩\n",
      "17,000\n",
      "**************************************************\n",
      "갤럭시 탭 A7 64G\n",
      "214,000\n",
      "**************************************************\n",
      "[에이블루] 커블체어 자세교정 좌식의자 2+1 EVENT\n",
      "46,900\n",
      "**************************************************\n",
      "[조르지오 아르마니] 디자이너 리프트 파운데이션 세트 (+립 마에스트로 정품+컨실러 미니어처+기프트백)\n",
      "74,460\n",
      "**************************************************\n",
      "[ALL STANDARD] ECO 무라벨 생수 2L / 500ML\n",
      "3,300\n",
      "**************************************************\n",
      "[10%+33%+복수할인] 허니삭스 봄신상 페이크삭스/무지/캐릭터 패션양말 시즌 세일\n",
      "8,900\n",
      "**************************************************\n",
      "[최종구매가362,400원] 삼성 오디세이 G5 C32G54T QHD 144Hz 1ms 게이밍모니터\n",
      "419,000\n",
      "**************************************************\n",
      "[20%+10%]질레트 16입/10입 대용량 면도날+캠핑의자or면도기&미니거치대외 특별증정\n",
      "65,000\n",
      "**************************************************\n",
      "[20%+10%]헤드앤숄더 BEST 대용량 모음전\n",
      "15,250\n",
      "**************************************************\n",
      "3월 신데렐라 땡처리 아디다스 스니커즈 외 나이키 스포츠양말 인기 에어맥스 운동화 런닝화 신발\n",
      "10,000\n",
      "**************************************************\n",
      "100%국산자재 참조은 KF94 마스크 화이트 블랙 소형 대형 100매- 식약처인증 미세먼지 어린이\n",
      "27,800\n",
      "**************************************************\n",
      "[일룸] 링키 or 링키 스마트 책상 + 시디즈 링고 의자 / 정면 각도 조절 초등 학생 책상 의자 포함 세트\n",
      "319,000\n",
      "**************************************************\n",
      "노스페이스 남녀 SS 신상&이월 베스트 의류모음 등산 자켓/반팔티/후드/팬츠/쇼츠 외\n",
      "20,000\n",
      "**************************************************\n",
      "[선물하기 109.9만원+김치쿠폰증정] 21년형 딤채 스탠드 김치냉장고 SDT33EFRZDT (330L/3룸) 공식판매점\n",
      "1,129,000\n",
      "**************************************************\n"
     ]
    }
   ],
   "source": [
    "lis = driver.find_elements_by_css_selector('#emergencyPrd > div > ul > li')\n",
    "# len(lis)\n",
    "\n",
    "for li in lis :\n",
    "    title = li.find_element_by_css_selector('div > a > div.prd_info > p > span.fs_16')\n",
    "    price = li.find_element_by_css_selector('div > a > div.prd_info > div > span.price_detail > strong')\n",
    "    \n",
    "    print(title.text)\n",
    "    print(price.get_attribute('innerHTML')) # text로 데이터가 출력이 안될 때,\n",
    "    print('*' * 50)"
   ]
  },
  {
   "cell_type": "code",
   "execution_count": 305,
   "metadata": {},
   "outputs": [
    {
     "name": "stdout",
     "output_type": "stream",
     "text": [
      "[상담완료고객 스벅 커피쿠폰증정]아라봄 신차 장기렌터카 무보증 0원 비교견적/수입차전차종/국산차전차종/BMW/더뉴그랜져/팰리세이드/아반떼\n",
      "239,000\n",
      "**************************************************\n",
      "[마니커F&G]바사삭치킨한마리 500g(2봉) + 바사삭순살치킨 400g/옛날통닭/너겟/통다리\n",
      "19,900\n",
      "**************************************************\n"
     ]
    }
   ],
   "source": [
    "# 만약에 xpath로 가져온다면?\n",
    "lis = driver.find_elements_by_xpath('//*[@id=\"emergencyPrd\"]/div/ul/li[position() <= 2]')\n",
    "\n",
    "for li in lis :\n",
    "    title = li.find_element_by_xpath('div/a/div[3]/p/span[2]')\n",
    "    price = li.find_element_by_xpath('div/a/div[3]/div/span/strong')\n",
    "    print(title.text)\n",
    "    print(price.text)\n",
    "    print('*' * 50)\n",
    "    \n",
    "    \n",
    "    //*[@id=\"2848118547\"]/div/a/div[3]/p/span[2]\n"
   ]
  },
  {
   "cell_type": "markdown",
   "metadata": {},
   "source": [
    "### page 처리 (pagination)"
   ]
  },
  {
   "cell_type": "code",
   "execution_count": 306,
   "metadata": {},
   "outputs": [],
   "source": [
    "from time import sleep, time\n",
    "from random import randint\n",
    "from IPython.core.display import clear_output\n",
    "from requests import get"
   ]
  },
  {
   "cell_type": "code",
   "execution_count": 311,
   "metadata": {},
   "outputs": [
    {
     "name": "stdout",
     "output_type": "stream",
     "text": [
      "requests 5, time 0.41640751463198\n"
     ]
    }
   ],
   "source": [
    "start_time = time()\n",
    "requests = 0\n",
    "for i in range(5):\n",
    "    requests += 1\n",
    "    sleep(randint(1,3))\n",
    "    current_time = time()\n",
    "    delayed_time = current_time - start_time\n",
    "    print('requests {}, time {}'.format(requests, requests/delayed_time))\n",
    "    clear_output(wait=True)"
   ]
  },
  {
   "cell_type": "code",
   "execution_count": 312,
   "metadata": {},
   "outputs": [],
   "source": [
    "url = 'https://www.ildong.com/kor/product/list.id?page=1&halt=&prdDisease=&prdCategory=&searchVal=&searchOption=0'\n",
    "path = './driver/chromedriver.exe'\n",
    "driver = webdriver.Chrome(path)\n",
    "\n",
    "driver.get(url)"
   ]
  },
  {
   "cell_type": "code",
   "execution_count": 320,
   "metadata": {},
   "outputs": [
    {
     "name": "stdout",
     "output_type": "stream",
     "text": [
      "https://www.ildong.com/kor/product/view.id?prdSeq=1263\n",
      "https://www.ildong.com/kor/product/view.id?prdSeq=2875\n",
      "https://www.ildong.com/kor/product/view.id?prdSeq=2862\n",
      "https://www.ildong.com/kor/product/view.id?prdSeq=3082\n",
      "https://www.ildong.com/kor/product/view.id?prdSeq=2724\n",
      "https://www.ildong.com/kor/product/view.id?prdSeq=2865\n",
      "https://www.ildong.com/kor/product/view.id?prdSeq=2866\n",
      "https://www.ildong.com/kor/product/view.id?prdSeq=3007\n",
      "https://www.ildong.com/kor/product/view.id?prdSeq=2890\n"
     ]
    }
   ],
   "source": [
    "lis = driver.find_elements_by_css_selector('div.productBox > div.prCnt > div.prList > ul > li')\n",
    "for li in lis :\n",
    "    a_tag = li.find_element_by_tag_name('a')\n",
    "    print(a_tag.get_attribute('href'))"
   ]
  },
  {
   "cell_type": "code",
   "execution_count": 318,
   "metadata": {},
   "outputs": [
    {
     "ename": "NameError",
     "evalue": "name 'a' is not defined",
     "output_type": "error",
     "traceback": [
      "\u001b[1;31m---------------------------------------------------------------------------\u001b[0m",
      "\u001b[1;31mNameError\u001b[0m                                 Traceback (most recent call last)",
      "\u001b[1;32m<ipython-input-318-a5e07acbd7ca>\u001b[0m in \u001b[0;36m<module>\u001b[1;34m\u001b[0m\n\u001b[0;32m      1\u001b[0m \u001b[1;32mfor\u001b[0m \u001b[0mli\u001b[0m \u001b[1;32min\u001b[0m \u001b[0mlis\u001b[0m \u001b[1;33m:\u001b[0m\u001b[1;33m\u001b[0m\u001b[1;33m\u001b[0m\u001b[0m\n\u001b[0;32m      2\u001b[0m     \u001b[0ma_tag\u001b[0m \u001b[1;33m=\u001b[0m \u001b[0mli\u001b[0m\u001b[1;33m.\u001b[0m\u001b[0mfind_element_by_tag_name\u001b[0m\u001b[1;33m(\u001b[0m\u001b[1;34m'a'\u001b[0m\u001b[1;33m)\u001b[0m\u001b[1;33m\u001b[0m\u001b[1;33m\u001b[0m\u001b[0m\n\u001b[1;32m----> 3\u001b[1;33m     \u001b[0mprint\u001b[0m\u001b[1;33m(\u001b[0m\u001b[0ma\u001b[0m\u001b[1;33m)\u001b[0m\u001b[1;33m\u001b[0m\u001b[1;33m\u001b[0m\u001b[0m\n\u001b[0m",
      "\u001b[1;31mNameError\u001b[0m: name 'a' is not defined"
     ]
    }
   ],
   "source": []
  },
  {
   "cell_type": "code",
   "execution_count": null,
   "metadata": {},
   "outputs": [],
   "source": []
  }
 ],
 "metadata": {
  "kernelspec": {
   "display_name": "Python 3",
   "language": "python",
   "name": "python3"
  },
  "language_info": {
   "codemirror_mode": {
    "name": "ipython",
    "version": 3
   },
   "file_extension": ".py",
   "mimetype": "text/x-python",
   "name": "python",
   "nbconvert_exporter": "python",
   "pygments_lexer": "ipython3",
   "version": "3.8.5"
  }
 },
 "nbformat": 4,
 "nbformat_minor": 4
}
