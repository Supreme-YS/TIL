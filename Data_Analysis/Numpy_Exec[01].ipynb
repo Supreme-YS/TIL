{
 "cells": [
  {
   "cell_type": "code",
   "execution_count": 1,
   "metadata": {},
   "outputs": [],
   "source": [
    "import numpy as np"
   ]
  },
  {
   "cell_type": "markdown",
   "metadata": {},
   "source": [
    "### Exec 1"
   ]
  },
  {
   "cell_type": "code",
   "execution_count": 3,
   "metadata": {},
   "outputs": [],
   "source": [
    "# load data\n",
    "data = np.loadtxt('./data/ratings.dat' , delimiter = \"::\", dtype=np.int64)"
   ]
  },
  {
   "cell_type": "code",
   "execution_count": 6,
   "metadata": {},
   "outputs": [],
   "source": [
    "# check function ( type, shape, dimension ..etc)\n",
    "def aryInfo(arr) :\n",
    "    print('type : {}'.format(type(arr)))\n",
    "    print('shape : {}, dimension : {}, dtype : {}'.format(arr.shape, arr.ndim, arr.dtype))\n",
    "    print(\"Array's Data : \\n\", arr)"
   ]
  },
  {
   "cell_type": "code",
   "execution_count": 7,
   "metadata": {},
   "outputs": [
    {
     "data": {
      "text/plain": [
       "array([[        1,      1193,         5, 978300760],\n",
       "       [        1,       661,         3, 978302109],\n",
       "       [        1,       914,         3, 978301968],\n",
       "       [        1,      3408,         4, 978300275],\n",
       "       [        1,      2355,         5, 978824291]], dtype=int64)"
      ]
     },
     "execution_count": 7,
     "metadata": {},
     "output_type": "execute_result"
    }
   ],
   "source": [
    "# check first 5 lines\n",
    "data[:5, :]"
   ]
  },
  {
   "cell_type": "code",
   "execution_count": 8,
   "metadata": {},
   "outputs": [
    {
     "name": "stdout",
     "output_type": "stream",
     "text": [
      "type : <class 'numpy.ndarray'>\n",
      "shape : (1000209, 4), dimension : 2, dtype : int64\n",
      "Array's Data : \n",
      " [[        1      1193         5 978300760]\n",
      " [        1       661         3 978302109]\n",
      " [        1       914         3 978301968]\n",
      " ...\n",
      " [     6040       562         5 956704746]\n",
      " [     6040      1096         4 956715648]\n",
      " [     6040      1097         4 956715569]]\n"
     ]
    }
   ],
   "source": [
    "# check data informations by using aryInfo function\n",
    "aryInfo(data)"
   ]
  },
  {
   "cell_type": "code",
   "execution_count": 9,
   "metadata": {},
   "outputs": [
    {
     "data": {
      "text/plain": [
       "3.581564453029317"
      ]
     },
     "execution_count": 9,
     "metadata": {},
     "output_type": "execute_result"
    }
   ],
   "source": [
    "# mean\n",
    "data[:,2].mean()"
   ]
  },
  {
   "cell_type": "code",
   "execution_count": 11,
   "metadata": {},
   "outputs": [
    {
     "name": "stdout",
     "output_type": "stream",
     "text": [
      "[   1    2    3 ... 6038 6039 6040]\n"
     ]
    }
   ],
   "source": [
    "# unique(x) : 배열 내 중복된 원소 제거 후 유일한 원소를 정렬하여 반환\n",
    "user_ids = np.unique(data[:,0])\n",
    "print(user_ids)"
   ]
  },
  {
   "cell_type": "code",
   "execution_count": 16,
   "metadata": {},
   "outputs": [],
   "source": [
    "data_list = []\n",
    "\n",
    "for user_id in user_ids :\n",
    "    user = data[data[:,0] == user_id, : ]\n",
    "    user_avg = user[:, 2].mean() # 2번째 인덱스(평점)에 해당하는 값의 평균값\n",
    "    data_list.append([user_id, user_avg]) # 사용자 아이디와 평균값을 배열에 추가"
   ]
  },
  {
   "cell_type": "code",
   "execution_count": 17,
   "metadata": {},
   "outputs": [
    {
     "name": "stdout",
     "output_type": "stream",
     "text": [
      "type : <class 'numpy.ndarray'>\n",
      "shape : (6040, 2), dimension : 2, dtype : float64\n",
      "Array's Data : \n",
      " [[1.00000000e+00 4.18867925e+00]\n",
      " [2.00000000e+00 3.71317829e+00]\n",
      " [3.00000000e+00 3.90196078e+00]\n",
      " ...\n",
      " [6.03800000e+03 3.80000000e+00]\n",
      " [6.03900000e+03 3.87804878e+00]\n",
      " [6.04000000e+03 3.57771261e+00]]\n"
     ]
    }
   ],
   "source": [
    "# list transform to Numpy Array.\n",
    "user_avg = np.array(data_list)\n",
    "aryInfo(user_avg)"
   ]
  },
  {
   "cell_type": "code",
   "execution_count": 18,
   "metadata": {},
   "outputs": [
    {
     "name": "stdout",
     "output_type": "stream",
     "text": [
      "type : <class 'numpy.ndarray'>\n",
      "shape : (1544, 2), dimension : 2, dtype : float64\n",
      "Array's Data : \n",
      " [[1.00000000e+00 4.18867925e+00]\n",
      " [4.00000000e+00 4.19047619e+00]\n",
      " [7.00000000e+00 4.32258065e+00]\n",
      " ...\n",
      " [6.02700000e+03 4.25000000e+00]\n",
      " [6.03200000e+03 4.13461538e+00]\n",
      " [6.03400000e+03 4.09523810e+00]]\n"
     ]
    }
   ],
   "source": [
    "# 평점 4점이상인 유저만 출력\n",
    "high_avg = user_avg[user_avg[:, 1] >= 4]\n",
    "aryInfo(high_avg)"
   ]
  },
  {
   "cell_type": "code",
   "execution_count": 19,
   "metadata": {},
   "outputs": [],
   "source": [
    "np.savetxt('user_avg.csv', user_avg, fmt='%.1f', delimiter=',')"
   ]
  },
  {
   "cell_type": "markdown",
   "metadata": {},
   "source": [
    "### Exec 2"
   ]
  },
  {
   "cell_type": "markdown",
   "metadata": {},
   "source": [
    "1. 기상 관측 이래, 서울의 최고 기온이 가장 높았던 날은 언제였고, 몇도인가요?"
   ]
  },
  {
   "cell_type": "code",
   "execution_count": 20,
   "metadata": {},
   "outputs": [],
   "source": [
    "# load data\n",
    "seoul_data = np.loadtxt('./data/seoul.csv',delimiter=',',dtype=np.object,skiprows=1)\n",
    "daegu_data = np.loadtxt('./data/daegu.csv',delimiter=',',dtype=np.object,skiprows=1)"
   ]
  },
  {
   "cell_type": "code",
   "execution_count": 52,
   "metadata": {},
   "outputs": [
    {
     "name": "stdout",
     "output_type": "stream",
     "text": [
      "type : <class 'numpy.ndarray'>\n",
      "shape : (40819,), dimension : 1, dtype : object\n",
      "Array's Data : \n",
      " ['20.7' '22' '21.3' ... '27.5' '27.3' '24.4']\n"
     ]
    }
   ],
   "source": [
    "# 서울 기온이 가장 높은 날\n",
    "seoul_temp = seoul_data[:, 4]\n",
    "seoul_high_temp = seoul_temp[seoul_temp != ''].astype(np.float64)\n",
    "seoul_max = seoul_high_temp.max()\n",
    "aryInfo(seoul_temp)"
   ]
  },
  {
   "cell_type": "code",
   "execution_count": 42,
   "metadata": {},
   "outputs": [],
   "source": [
    "# 서울 기온이 가장 높은 날의 날짜\n",
    "seoul_date = seoul_data[:,0]\n",
    "seoul_high_date = seoul_date[seoul_temp==str(seoul_high_temp.max())]\n",
    "seoul_max_date = seoul_high_date\n"
   ]
  },
  {
   "cell_type": "code",
   "execution_count": 43,
   "metadata": {},
   "outputs": [
    {
     "name": "stdout",
     "output_type": "stream",
     "text": [
      "기온이 가장 높았던 날 ['2018-08-01'] 이고, 그 날의 기온은 39.6 입니다.\n"
     ]
    }
   ],
   "source": [
    "print('기온이 가장 높았던 날 {} 이고, 그 날의 기온은 {} 입니다.'.format(seoul_max_date, seoul_max))"
   ]
  },
  {
   "cell_type": "markdown",
   "metadata": {},
   "source": [
    "2. 역사적으로 일교차가 가장 큰 날짜는 몇년 몇월 몇일 인가요?"
   ]
  },
  {
   "cell_type": "code",
   "execution_count": 58,
   "metadata": {},
   "outputs": [
    {
     "name": "stdout",
     "output_type": "stream",
     "text": [
      "type : <class 'numpy.ndarray'>\n",
      "shape : (40819,), dimension : 1, dtype : float64\n",
      "Array's Data : \n",
      " [ 7.9  7.9 13.1 ... 19.9 19.2 19.5]\n"
     ]
    }
   ],
   "source": [
    "seoul_temp2 = seoul_data[:, -2]\n",
    "seoul_low_temp = seoul_temp2[seoul_temp2 != ''].astype(np.float64)\n",
    "aryInfo(seoul_low_temp)"
   ]
  },
  {
   "cell_type": "code",
   "execution_count": 59,
   "metadata": {},
   "outputs": [
    {
     "name": "stdout",
     "output_type": "stream",
     "text": [
      "0\n"
     ]
    }
   ],
   "source": [
    "# null value count & fill null count\n",
    "nullValue = 0\n",
    "\n",
    "for i in range(seoul_data.shape[0]) :\n",
    "    for j in range(seoul_data.shape[1]) :\n",
    "        if seoul_data[i][j] == '':\n",
    "            seoul_data[i][j] = -9999\n",
    "            nullValue += 1\n",
    "print(nullValue)"
   ]
  },
  {
   "cell_type": "code",
   "execution_count": 61,
   "metadata": {},
   "outputs": [
    {
     "name": "stdout",
     "output_type": "stream",
     "text": [
      "type : <class 'numpy.ndarray'>\n",
      "shape : (40819,), dimension : 1, dtype : float64\n",
      "Array's Data : \n",
      " [ 7.9  7.9 13.1 ... 19.9 19.2 19.5]\n"
     ]
    }
   ],
   "source": [
    "# 40xxx --> 40819 로 맞춰짐. 결측치를 -9999로 채웠기때문에\n",
    "aryInfo(seoul_low_temp)"
   ]
  },
  {
   "cell_type": "code",
   "execution_count": 66,
   "metadata": {},
   "outputs": [
    {
     "data": {
      "text/plain": [
       "array([[13.5,  7.9, 20.7],\n",
       "       [16.2,  7.9, 22. ],\n",
       "       [16.2, 13.1, 21.3],\n",
       "       ...,\n",
       "       [23.3, 19.9, 27.5],\n",
       "       [23.3, 19.2, 27.3],\n",
       "       [21.7, 19.5, 24.4]])"
      ]
     },
     "execution_count": 66,
     "metadata": {},
     "output_type": "execute_result"
    }
   ],
   "source": [
    "seoul_temp = seoul_data[:,2:].astype(np.float64)\n",
    "seoul_temp"
   ]
  },
  {
   "cell_type": "code",
   "execution_count": 69,
   "metadata": {},
   "outputs": [
    {
     "name": "stdout",
     "output_type": "stream",
     "text": [
      "type : <class 'numpy.ndarray'>\n",
      "shape : (40819, 8), dimension : 2, dtype : object\n",
      "Array's Data : \n",
      " [['1907-10-01' '108' '13.5' ... 13.5 7.9 20.7]\n",
      " ['1907-10-02' '108' '16.2' ... 16.2 7.9 22.0]\n",
      " ['1907-10-03' '108' '16.2' ... 16.2 13.1 21.3]\n",
      " ...\n",
      " ['2020-09-04' '108' '23.3' ... 23.3 19.9 27.5]\n",
      " ['2020-09-05' '108' '23.3' ... 23.3 19.2 27.3]\n",
      " ['2020-09-06' '108' '21.7' ... 21.7 19.5 24.4]]\n"
     ]
    }
   ],
   "source": [
    "temp = np.hstack([seoul_data, seoul_temp])\n",
    "aryInfo(temp)"
   ]
  },
  {
   "cell_type": "markdown",
   "metadata": {},
   "source": [
    "3. 1년 중 평균적으로 일교차가 가장 큰 날짜는 몇월 몇일 인가요?"
   ]
  },
  {
   "cell_type": "code",
   "execution_count": 70,
   "metadata": {},
   "outputs": [
    {
     "name": "stdout",
     "output_type": "stream",
     "text": [
      "1942-04-19\n"
     ]
    }
   ],
   "source": [
    "diff_temp = seoul_data[(temp[:,-1] - temp[:,-2,]).argmax()]\n",
    "print(diff_temp[0])"
   ]
  },
  {
   "cell_type": "markdown",
   "metadata": {},
   "source": [
    "4. 가장 덥다고 알려진 대구보다 서울이 더 더운날이 가장 많은 연도는 언제인가요?"
   ]
  },
  {
   "cell_type": "code",
   "execution_count": null,
   "metadata": {},
   "outputs": [],
   "source": []
  }
 ],
 "metadata": {
  "kernelspec": {
   "display_name": "Python 3",
   "language": "python",
   "name": "python3"
  },
  "language_info": {
   "codemirror_mode": {
    "name": "ipython",
    "version": 3
   },
   "file_extension": ".py",
   "mimetype": "text/x-python",
   "name": "python",
   "nbconvert_exporter": "python",
   "pygments_lexer": "ipython3",
   "version": "3.8.5"
  }
 },
 "nbformat": 4,
 "nbformat_minor": 4
}
