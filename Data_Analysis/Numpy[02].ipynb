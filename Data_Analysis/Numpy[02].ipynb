{
 "cells": [
  {
   "cell_type": "markdown",
   "metadata": {},
   "source": [
    "### 배열 확장\n",
    "- hstack : horizental stack\n",
    "- vstack : vertical stack\n",
    "- dstack : depth stack\n",
    "- stack\n",
    "- r_\n",
    "- c_\n",
    "- tile"
   ]
  },
  {
   "cell_type": "code",
   "execution_count": 1,
   "metadata": {},
   "outputs": [],
   "source": [
    "import numpy as np"
   ]
  },
  {
   "cell_type": "code",
   "execution_count": 2,
   "metadata": {},
   "outputs": [],
   "source": [
    "def aryInfo(arr) :\n",
    "    print(\"type : {}\".format(type(arr)))\n",
    "    print(\"shape : {} , dimension : {} , dtype : {}\".format(arr.shape , arr.ndim, arr.dtype))\n",
    "    print(\"Array's Data : \\n\" , arr)"
   ]
  },
  {
   "cell_type": "code",
   "execution_count": 7,
   "metadata": {},
   "outputs": [
    {
     "name": "stdout",
     "output_type": "stream",
     "text": [
      "type : <class 'numpy.ndarray'>\n",
      "shape : (2, 3) , dimension : 2 , dtype : float64\n",
      "Array's Data : \n",
      " [[1. 1. 1.]\n",
      " [1. 1. 1.]]\n"
     ]
    }
   ],
   "source": [
    "# hstack : col이 늘어나는 것이기 때문에 반드시 행의 숫자가 똑같아야만 한다.\n",
    "h_ary_01 = np.ones((2,3))\n",
    "aryInfo(h_ary_01)"
   ]
  },
  {
   "cell_type": "code",
   "execution_count": 8,
   "metadata": {},
   "outputs": [
    {
     "name": "stdout",
     "output_type": "stream",
     "text": [
      "type : <class 'numpy.ndarray'>\n",
      "shape : (2, 3) , dimension : 2 , dtype : int32\n",
      "Array's Data : \n",
      " [[1 1 1]\n",
      " [1 1 1]]\n"
     ]
    }
   ],
   "source": [
    "# astype() : 타입의 변화를 줄 때 사용하는 방법 중 하나, dtype=''도 있다. \n",
    "re_type = h_ary_01.astype(np.int32)\n",
    "aryInfo(re_type)"
   ]
  },
  {
   "cell_type": "code",
   "execution_count": 11,
   "metadata": {},
   "outputs": [
    {
     "name": "stdout",
     "output_type": "stream",
     "text": [
      "type : <class 'numpy.ndarray'>\n",
      "shape : (2, 3) , dimension : 2 , dtype : float64\n",
      "Array's Data : \n",
      " [[0. 0. 0.]\n",
      " [0. 0. 0.]]\n"
     ]
    }
   ],
   "source": [
    "h_ary_02 = np.zeros((2,3))\n",
    "aryInfo(h_ary_02)"
   ]
  },
  {
   "cell_type": "code",
   "execution_count": 15,
   "metadata": {},
   "outputs": [
    {
     "data": {
      "text/plain": [
       "array([[1., 1., 1., 0., 0., 0.],\n",
       "       [1., 1., 1., 0., 0., 0.]])"
      ]
     },
     "execution_count": 15,
     "metadata": {},
     "output_type": "execute_result"
    }
   ],
   "source": [
    "np.hstack([h_ary_01, h_ary_02])"
   ]
  },
  {
   "cell_type": "code",
   "execution_count": null,
   "metadata": {},
   "outputs": [],
   "source": [
    "# vstack : row가 늘어나는 것이기 때문에 반드시 열의 숫자가 똑같아야만 한다."
   ]
  },
  {
   "cell_type": "code",
   "execution_count": 14,
   "metadata": {},
   "outputs": [
    {
     "data": {
      "text/plain": [
       "array([[1., 1., 1.],\n",
       "       [1., 1., 1.],\n",
       "       [0., 0., 0.],\n",
       "       [0., 0., 0.]])"
      ]
     },
     "execution_count": 14,
     "metadata": {},
     "output_type": "execute_result"
    }
   ],
   "source": [
    "np.vstack([h_ary_01, h_ary_02]) "
   ]
  },
  {
   "cell_type": "code",
   "execution_count": 4,
   "metadata": {},
   "outputs": [
    {
     "name": "stdout",
     "output_type": "stream",
     "text": [
      "[[1. 1. 1. 1.]\n",
      " [1. 1. 1. 1.]\n",
      " [1. 1. 1. 1.]]\n",
      "[[0. 0. 0. 0.]\n",
      " [0. 0. 0. 0.]\n",
      " [0. 0. 0. 0.]]\n"
     ]
    }
   ],
   "source": [
    "# dstack : 깊이가 늘어나는 것\n",
    "d_ary_01 = np.ones((3,4))\n",
    "print(d_ary_01)\n",
    "d_ary_02 = np.zeros((3,4))\n",
    "print(d_ary_02)"
   ]
  },
  {
   "cell_type": "code",
   "execution_count": 22,
   "metadata": {},
   "outputs": [
    {
     "data": {
      "text/plain": [
       "array([[[1., 0.],\n",
       "        [1., 0.],\n",
       "        [1., 0.],\n",
       "        [1., 0.]],\n",
       "\n",
       "       [[1., 0.],\n",
       "        [1., 0.],\n",
       "        [1., 0.],\n",
       "        [1., 0.]],\n",
       "\n",
       "       [[1., 0.],\n",
       "        [1., 0.],\n",
       "        [1., 0.],\n",
       "        [1., 0.]]])"
      ]
     },
     "execution_count": 22,
     "metadata": {},
     "output_type": "execute_result"
    }
   ],
   "source": [
    "# (3 * 4) --> (3 * 4 * 2)\n",
    "np.dstack([d_ary_01, d_ary_02])"
   ]
  },
  {
   "cell_type": "code",
   "execution_count": 21,
   "metadata": {},
   "outputs": [
    {
     "name": "stdout",
     "output_type": "stream",
     "text": [
      "type : <class 'numpy.ndarray'>\n",
      "shape : (3, 4, 2) , dimension : 3 , dtype : float64\n",
      "Array's Data : \n",
      " [[[1. 0.]\n",
      "  [1. 0.]\n",
      "  [1. 0.]\n",
      "  [1. 0.]]\n",
      "\n",
      " [[1. 0.]\n",
      "  [1. 0.]\n",
      "  [1. 0.]\n",
      "  [1. 0.]]\n",
      "\n",
      " [[1. 0.]\n",
      "  [1. 0.]\n",
      "  [1. 0.]\n",
      "  [1. 0.]]]\n"
     ]
    }
   ],
   "source": [
    "aryInfo(np.dstack([d_ary_01, d_ary_02]))"
   ]
  },
  {
   "cell_type": "code",
   "execution_count": 29,
   "metadata": {},
   "outputs": [
    {
     "name": "stdout",
     "output_type": "stream",
     "text": [
      "type : <class 'numpy.ndarray'>\n",
      "shape : (2, 3, 4) , dimension : 3 , dtype : float64\n",
      "Array's Data : \n",
      " [[[1. 1. 1. 1.]\n",
      "  [1. 1. 1. 1.]\n",
      "  [1. 1. 1. 1.]]\n",
      "\n",
      " [[0. 0. 0. 0.]\n",
      "  [0. 0. 0. 0.]\n",
      "  [0. 0. 0. 0.]]]\n"
     ]
    }
   ],
   "source": [
    "# stack : 행과 열의 갯수가 똑같아야 한다.\n",
    "# (3 * 4) -> (2 * 3 * 4)\n",
    "s_ary = np.stack([d_ary_01, d_ary_02], axis=0)\n",
    "aryInfo(s_ary)"
   ]
  },
  {
   "cell_type": "code",
   "execution_count": 30,
   "metadata": {},
   "outputs": [
    {
     "name": "stdout",
     "output_type": "stream",
     "text": [
      "type : <class 'numpy.ndarray'>\n",
      "shape : (3, 2, 4) , dimension : 3 , dtype : float64\n",
      "Array's Data : \n",
      " [[[1. 1. 1. 1.]\n",
      "  [0. 0. 0. 0.]]\n",
      "\n",
      " [[1. 1. 1. 1.]\n",
      "  [0. 0. 0. 0.]]\n",
      "\n",
      " [[1. 1. 1. 1.]\n",
      "  [0. 0. 0. 0.]]]\n"
     ]
    }
   ],
   "source": [
    "# (3 * 4) -> (3 * 2 * 4)\n",
    "s_ary = np.stack([d_ary_01, d_ary_02], axis=1)\n",
    "aryInfo(s_ary)"
   ]
  },
  {
   "cell_type": "code",
   "execution_count": 31,
   "metadata": {},
   "outputs": [
    {
     "name": "stdout",
     "output_type": "stream",
     "text": [
      "type : <class 'numpy.ndarray'>\n",
      "shape : (3, 4, 2) , dimension : 3 , dtype : float64\n",
      "Array's Data : \n",
      " [[[1. 0.]\n",
      "  [1. 0.]\n",
      "  [1. 0.]\n",
      "  [1. 0.]]\n",
      "\n",
      " [[1. 0.]\n",
      "  [1. 0.]\n",
      "  [1. 0.]\n",
      "  [1. 0.]]\n",
      "\n",
      " [[1. 0.]\n",
      "  [1. 0.]\n",
      "  [1. 0.]\n",
      "  [1. 0.]]]\n"
     ]
    }
   ],
   "source": [
    "# (3 * 4) -> (3 * 4 * 2)\n",
    "s_ary = np.stack([d_ary_01, d_ary_02], axis=2)\n",
    "aryInfo(s_ary)"
   ]
  },
  {
   "cell_type": "code",
   "execution_count": 32,
   "metadata": {},
   "outputs": [
    {
     "data": {
      "text/plain": [
       "array([1, 2, 3, 4, 5, 6])"
      ]
     },
     "execution_count": 32,
     "metadata": {},
     "output_type": "execute_result"
    }
   ],
   "source": [
    "np.r_[ np.array([1,2,3]) , np.array([4,5,6])] # 1차원 벡터 두 개를 row bind"
   ]
  },
  {
   "cell_type": "code",
   "execution_count": 33,
   "metadata": {},
   "outputs": [
    {
     "data": {
      "text/plain": [
       "array([[1, 4],\n",
       "       [2, 5],\n",
       "       [3, 6]])"
      ]
     },
     "execution_count": 33,
     "metadata": {},
     "output_type": "execute_result"
    }
   ],
   "source": [
    "np.c_[ np.array([1,2,3]) , np.array([4,5,6])] # 1차원 벡터 두 개를 col bind"
   ]
  },
  {
   "cell_type": "code",
   "execution_count": 5,
   "metadata": {},
   "outputs": [
    {
     "data": {
      "text/plain": [
       "array([[1., 1., 1., 1.],\n",
       "       [1., 1., 1., 1.],\n",
       "       [1., 1., 1., 1.],\n",
       "       [0., 0., 0., 0.],\n",
       "       [0., 0., 0., 0.],\n",
       "       [0., 0., 0., 0.]])"
      ]
     },
     "execution_count": 5,
     "metadata": {},
     "output_type": "execute_result"
    }
   ],
   "source": [
    "np.r_[ d_ary_01 , d_ary_02 ]"
   ]
  },
  {
   "cell_type": "code",
   "execution_count": 6,
   "metadata": {},
   "outputs": [
    {
     "data": {
      "text/plain": [
       "array([[1., 1., 1., 1., 0., 0., 0., 0.],\n",
       "       [1., 1., 1., 1., 0., 0., 0., 0.],\n",
       "       [1., 1., 1., 1., 0., 0., 0., 0.]])"
      ]
     },
     "execution_count": 6,
     "metadata": {},
     "output_type": "execute_result"
    }
   ],
   "source": [
    "np.c_[ d_ary_01 , d_ary_02 ]"
   ]
  },
  {
   "cell_type": "markdown",
   "metadata": {},
   "source": [
    "- tile : 동일한 배열을 반복하여 연결시킬 때 사용한다."
   ]
  },
  {
   "cell_type": "code",
   "execution_count": 5,
   "metadata": {},
   "outputs": [],
   "source": [
    "t_ary = np.array([[1,2,3], [4,5,6]])"
   ]
  },
  {
   "cell_type": "code",
   "execution_count": 6,
   "metadata": {},
   "outputs": [
    {
     "data": {
      "text/plain": [
       "array([[1, 2, 3, 1, 2, 3, 1, 2, 3],\n",
       "       [4, 5, 6, 4, 5, 6, 4, 5, 6]])"
      ]
     },
     "execution_count": 6,
     "metadata": {},
     "output_type": "execute_result"
    }
   ],
   "source": [
    "np.tile(t_ary , 3 )"
   ]
  },
  {
   "cell_type": "code",
   "execution_count": 7,
   "metadata": {},
   "outputs": [
    {
     "data": {
      "text/plain": [
       "array([[1, 2, 3, 1, 2, 3],\n",
       "       [4, 5, 6, 4, 5, 6],\n",
       "       [1, 2, 3, 1, 2, 3],\n",
       "       [4, 5, 6, 4, 5, 6],\n",
       "       [1, 2, 3, 1, 2, 3],\n",
       "       [4, 5, 6, 4, 5, 6]])"
      ]
     },
     "execution_count": 7,
     "metadata": {},
     "output_type": "execute_result"
    }
   ],
   "source": [
    "np.tile(t_ary, (3,2))"
   ]
  },
  {
   "cell_type": "code",
   "execution_count": 15,
   "metadata": {},
   "outputs": [
    {
     "data": {
      "text/plain": [
       "array([[0., 0., 0., 1., 1.],\n",
       "       [0., 0., 0., 1., 1.],\n",
       "       [0., 0., 0., 1., 1.]])"
      ]
     },
     "execution_count": 15,
     "metadata": {},
     "output_type": "execute_result"
    }
   ],
   "source": [
    "a = np.zeros([3,3])\n",
    "b = np.ones([3,2])\n",
    "ab = np.hstack([a, b])\n",
    "ab"
   ]
  },
  {
   "cell_type": "code",
   "execution_count": 3,
   "metadata": {},
   "outputs": [
    {
     "data": {
      "text/plain": [
       "array([[  0.,   0.,   0.,   1.,   1.],\n",
       "       [  0.,   0.,   0.,   1.,   1.],\n",
       "       [  0.,   0.,   0.,   1.,   1.],\n",
       "       [ 10.,  20.,  30.,  40.,  50.],\n",
       "       [ 60.,  70.,  80.,  90., 100.],\n",
       "       [110., 120., 130., 140., 150.],\n",
       "       [  0.,   0.,   0.,   1.,   1.],\n",
       "       [  0.,   0.,   0.,   1.,   1.],\n",
       "       [  0.,   0.,   0.,   1.,   1.],\n",
       "       [ 10.,  20.,  30.,  40.,  50.],\n",
       "       [ 60.,  70.,  80.,  90., 100.],\n",
       "       [110., 120., 130., 140., 150.]])"
      ]
     },
     "execution_count": 3,
     "metadata": {},
     "output_type": "execute_result"
    }
   ],
   "source": [
    "a = np.zeros([3,3])\n",
    "b = np.ones([3,2])\n",
    "ab = np.hstack([a, b])\n",
    "c = np.array([[10,20,30,40,50], [60,70,80,90,100], [110,120,130,140,150]])\n",
    "abc = np.vstack([ab, c])\n",
    "np.tile(abc, (2,1))"
   ]
  },
  {
   "cell_type": "code",
   "execution_count": 3,
   "metadata": {},
   "outputs": [
    {
     "name": "stdout",
     "output_type": "stream",
     "text": [
      "type : <class 'numpy.ndarray'>\n",
      "shape : (3, 3) , dimension : 2 , dtype : float64\n",
      "Array's Data : \n",
      " [[0. 0. 0.]\n",
      " [0. 0. 0.]\n",
      " [0. 0. 0.]]\n",
      "None\n",
      "type : <class 'numpy.ndarray'>\n",
      "shape : (3, 2) , dimension : 2 , dtype : float64\n",
      "Array's Data : \n",
      " [[1. 1.]\n",
      " [1. 1.]\n",
      " [1. 1.]]\n",
      "None\n",
      "type : <class 'numpy.ndarray'>\n",
      "shape : (3, 5) , dimension : 2 , dtype : float64\n",
      "Array's Data : \n",
      " [[0. 0. 0. 1. 1.]\n",
      " [0. 0. 0. 1. 1.]\n",
      " [0. 0. 0. 1. 1.]]\n",
      "None\n",
      "type : <class 'numpy.ndarray'>\n",
      "shape : (3, 5) , dimension : 2 , dtype : int32\n",
      "Array's Data : \n",
      " [[ 10  20  30  40  50]\n",
      " [ 60  70  80  90 100]\n",
      " [110 120 130 140 150]]\n",
      "None\n",
      "type : <class 'numpy.ndarray'>\n",
      "shape : (6, 5) , dimension : 2 , dtype : float64\n",
      "Array's Data : \n",
      " [[  0.   0.   0.   1.   1.]\n",
      " [  0.   0.   0.   1.   1.]\n",
      " [  0.   0.   0.   1.   1.]\n",
      " [ 10.  20.  30.  40.  50.]\n",
      " [ 60.  70.  80.  90. 100.]\n",
      " [110. 120. 130. 140. 150.]]\n",
      "None\n",
      "[[  0.   0.   0.   1.   1.]\n",
      " [  0.   0.   0.   1.   1.]\n",
      " [  0.   0.   0.   1.   1.]\n",
      " [ 10.  20.  30.  40.  50.]\n",
      " [ 60.  70.  80.  90. 100.]\n",
      " [110. 120. 130. 140. 150.]\n",
      " [  0.   0.   0.   1.   1.]\n",
      " [  0.   0.   0.   1.   1.]\n",
      " [  0.   0.   0.   1.   1.]\n",
      " [ 10.  20.  30.  40.  50.]\n",
      " [ 60.  70.  80.  90. 100.]\n",
      " [110. 120. 130. 140. 150.]]\n"
     ]
    }
   ],
   "source": [
    "x = np.zeros((3,3))\n",
    "print(aryInfo(x))\n",
    "y = np.ones((3,2))\n",
    "print(aryInfo(y))\n",
    "xy = np.hstack([x,y])\n",
    "print(aryInfo(xy))\n",
    "z = np.arange(10, 160, 10).reshape((3,5))\n",
    "print(aryInfo(z))\n",
    "xyz = np.vstack([xy, z])\n",
    "print(aryInfo(xyz))\n",
    "answer = np.tile(xyz, (2,1))\n",
    "print(answer)"
   ]
  },
  {
   "cell_type": "markdown",
   "metadata": {},
   "source": [
    "### delete()\n",
    "- 행과 열을 삭제 : axis\n",
    "- row data는 변경하지 않고 새로운 배열을 리턴"
   ]
  },
  {
   "cell_type": "code",
   "execution_count": 12,
   "metadata": {},
   "outputs": [
    {
     "name": "stdout",
     "output_type": "stream",
     "text": [
      "type : <class 'numpy.ndarray'>\n",
      "shape : (3, 4) , dimension : 2 , dtype : int32\n",
      "Array's Data : \n",
      " [[2 4 4 6]\n",
      " [5 5 4 1]\n",
      " [1 9 2 6]]\n"
     ]
    }
   ],
   "source": [
    "ary = np.random.randint(0, 10, (3, 4))\n",
    "aryInfo(ary)"
   ]
  },
  {
   "cell_type": "code",
   "execution_count": 15,
   "metadata": {},
   "outputs": [
    {
     "name": "stdout",
     "output_type": "stream",
     "text": [
      "type : <class 'numpy.ndarray'>\n",
      "shape : (2, 4) , dimension : 2 , dtype : int32\n",
      "Array's Data : \n",
      " [[2 4 4 6]\n",
      " [1 9 2 6]]\n"
     ]
    }
   ],
   "source": [
    "result = np.delete(ary, 1, axis = 0)\n",
    "aryInfo(result)"
   ]
  },
  {
   "cell_type": "markdown",
   "metadata": {},
   "source": [
    "### loadtxt() - ndarray 형태로 리턴"
   ]
  },
  {
   "cell_type": "code",
   "execution_count": 23,
   "metadata": {},
   "outputs": [
    {
     "name": "stdout",
     "output_type": "stream",
     "text": [
      "type : <class 'numpy.ndarray'>\n",
      "shape : (31,) , dimension : 1 , dtype : object\n",
      "Array's Data : \n",
      " ['중부서,2,2,3,2,105,65,\"1,395\",477,\"1,355\",\"1,170\"'\n",
      " '종로서,3,3,6,5,115,98,\"1,070\",413,\"1,278\",\"1,070\"'\n",
      " '남대문서,1,0,6,4,65,46,\"1,153\",382,869,794'\n",
      " '서대문서,2,2,5,4,154,124,\"1,812\",738,\"2,056\",\"1,711\"'\n",
      " '혜화서,3,2,5,4,96,63,\"1,114\",424,\"1,015\",861'\n",
      " '용산서,5,5,14,14,194,173,\"1,557\",587,\"2,050\",\"1,704\"'\n",
      " '성북서,2,2,2,1,86,71,953,409,\"1,194\",\"1,015\"'\n",
      " '동대문서,5,5,13,13,173,146,\"1,981\",814,\"2,548\",\"2,227\"'\n",
      " '마포서,8,8,14,10,294,247,\"2,555\",813,\"2,983\",\"2,519\"'\n",
      " '영등포서,14,12,22,20,295,183,\"2,964\",978,\"3,572\",\"2,961\"'\n",
      " '성동서,4,4,9,8,126,119,\"1,607\",597,\"1,612\",\"1,395\"'\n",
      " '동작서,5,5,9,5,285,139,\"1,865\",661,\"1,910\",\"1,587\"'\n",
      " '광진서,4,4,14,26,240,220,\"3,026\",\"1,277\",\"2,625\",\"2,180\"'\n",
      " '서부서,2,2,2,1,70,59,819,293,\"1,192\",\"1,038\"'\n",
      " '강북서,7,8,14,13,153,126,\"1,434\",618,\"2,649\",\"2,348\"'\n",
      " '금천서,3,4,6,6,151,122,\"1,567\",888,\"2,054\",\"1,776\"'\n",
      " '중랑서,13,12,11,9,187,148,\"2,135\",829,\"2,847\",\"2,407\"'\n",
      " '강남서,3,3,15,12,300,225,\"2,411\",984,\"2,465\",\"2,146\"'\n",
      " '관악서,9,8,12,14,320,221,\"2,706\",827,\"3,298\",\"2,642\"'\n",
      " '강서서,7,8,13,13,262,191,\"2,096\",\"1,260\",\"3,207\",\"2,718\"'\n",
      " '강동서,4,3,6,8,156,123,\"2,366\",789,\"2,712\",\"2,248\"'\n",
      " '종암서,3,3,3,3,64,53,832,332,\"1,015\",840'\n",
      " '구로서,8,6,15,11,281,164,\"2,335\",889,\"3,007\",\"2,432\"'\n",
      " '서초서,7,4,8,5,334,193,\"1,982\",905,\"1,852\",\"1,607\"'\n",
      " '양천서,3,5,6,3,120,105,\"1,890\",672,\"2,509\",\"2,030\"'\n",
      " '송파서,11,10,13,10,220,178,\"3,239\",\"1,129\",\"3,295\",\"2,786\"'\n",
      " '노원서,10,10,7,7,197,121,\"2,193\",801,\"2,723\",\"2,329\"'\n",
      " '방배서,1,2,1,1,59,56,653,186,547,491'\n",
      " '은평서,1,1,7,5,96,82,\"1,095\",418,\"1,461\",\"1,268\"'\n",
      " '도봉서,3,3,9,10,102,106,\"1,063\",478,\"1,487\",\"1,303\"'\n",
      " '수서서,10,7,6,6,149,124,\"1,439\",666,\"1,819\",\"1,559\"']\n"
     ]
    }
   ],
   "source": [
    "row_data = np.loadtxt('./data/crime_in_Seoul.csv', delimiter='\\t', dtype=np.object, skiprows=1)\n",
    "aryInfo(row_data)"
   ]
  },
  {
   "cell_type": "markdown",
   "metadata": {},
   "source": [
    "### 벡터(1차원배열) 연산"
   ]
  },
  {
   "cell_type": "code",
   "execution_count": 24,
   "metadata": {},
   "outputs": [],
   "source": [
    "x = np.arange(1, 10001)\n",
    "y = np.arange(10001, 20001)"
   ]
  },
  {
   "cell_type": "code",
   "execution_count": 25,
   "metadata": {},
   "outputs": [
    {
     "name": "stdout",
     "output_type": "stream",
     "text": [
      "Wall time: 6.01 ms\n"
     ]
    }
   ],
   "source": [
    "%%time\n",
    "z = np.zeros_like(x)\n",
    "for i in range(10000) :\n",
    "    z[i] = x[i] + y[i]"
   ]
  },
  {
   "cell_type": "code",
   "execution_count": 26,
   "metadata": {},
   "outputs": [
    {
     "name": "stdout",
     "output_type": "stream",
     "text": [
      "Wall time: 0 ns\n"
     ]
    }
   ],
   "source": [
    "%%time\n",
    "z = x + y"
   ]
  },
  {
   "cell_type": "code",
   "execution_count": 32,
   "metadata": {},
   "outputs": [],
   "source": [
    "a = np.array([1,2,3,4])\n",
    "b = np.array([5,2,6,4])\n",
    "c = np.array([1,2,3,4])"
   ]
  },
  {
   "cell_type": "code",
   "execution_count": 28,
   "metadata": {},
   "outputs": [
    {
     "data": {
      "text/plain": [
       "array([False,  True, False,  True])"
      ]
     },
     "execution_count": 28,
     "metadata": {},
     "output_type": "execute_result"
    }
   ],
   "source": [
    "a == b # 각 index의 있는 값들을 비교"
   ]
  },
  {
   "cell_type": "code",
   "execution_count": 29,
   "metadata": {},
   "outputs": [
    {
     "data": {
      "text/plain": [
       "array([False,  True, False,  True])"
      ]
     },
     "execution_count": 29,
     "metadata": {},
     "output_type": "execute_result"
    }
   ],
   "source": [
    "a >= b"
   ]
  },
  {
   "cell_type": "code",
   "execution_count": 34,
   "metadata": {},
   "outputs": [
    {
     "data": {
      "text/plain": [
       "False"
      ]
     },
     "execution_count": 34,
     "metadata": {},
     "output_type": "execute_result"
    }
   ],
   "source": [
    "np.all(a == b)"
   ]
  },
  {
   "cell_type": "code",
   "execution_count": 35,
   "metadata": {},
   "outputs": [
    {
     "data": {
      "text/plain": [
       "True"
      ]
     },
     "execution_count": 35,
     "metadata": {},
     "output_type": "execute_result"
    }
   ],
   "source": [
    "np.all(a == c)"
   ]
  },
  {
   "cell_type": "code",
   "execution_count": 36,
   "metadata": {},
   "outputs": [
    {
     "data": {
      "text/plain": [
       "array([10, 20, 30, 40])"
      ]
     },
     "execution_count": 36,
     "metadata": {},
     "output_type": "execute_result"
    }
   ],
   "source": [
    "a * 10"
   ]
  },
  {
   "cell_type": "code",
   "execution_count": 37,
   "metadata": {},
   "outputs": [
    {
     "name": "stdout",
     "output_type": "stream",
     "text": [
      "[[   0  100  200  300]\n",
      " [ 400  500  600  700]\n",
      " [ 800  900 1000 1100]]\n"
     ]
    }
   ],
   "source": [
    "x = np.arange(12).reshape(3,4)\n",
    "print(x*100)"
   ]
  },
  {
   "cell_type": "markdown",
   "metadata": {},
   "source": [
    "### 브로드캐스팅 : 스칼라 + 벡터 , 스칼라 * 곱 등의 연산에서 스칼라 값이 벡터 혹은 행렬의 크기에 맞게 확장되는 것"
   ]
  },
  {
   "cell_type": "code",
   "execution_count": 40,
   "metadata": {},
   "outputs": [
    {
     "data": {
      "text/plain": [
       "array([1, 2, 3, 4, 5])"
      ]
     },
     "execution_count": 40,
     "metadata": {},
     "output_type": "execute_result"
    }
   ],
   "source": [
    "x = np.arange(5)"
   ]
  },
  {
   "cell_type": "code",
   "execution_count": 42,
   "metadata": {},
   "outputs": [
    {
     "data": {
      "text/plain": [
       "array([1, 1, 1, 1, 1])"
      ]
     },
     "execution_count": 42,
     "metadata": {},
     "output_type": "execute_result"
    }
   ],
   "source": [
    "y = np.ones_like(x)"
   ]
  },
  {
   "cell_type": "code",
   "execution_count": 45,
   "metadata": {},
   "outputs": [
    {
     "data": {
      "text/plain": [
       "array([ True,  True,  True,  True,  True])"
      ]
     },
     "execution_count": 45,
     "metadata": {},
     "output_type": "execute_result"
    }
   ],
   "source": [
    "x + y  == x + 1"
   ]
  },
  {
   "cell_type": "code",
   "execution_count": 59,
   "metadata": {},
   "outputs": [
    {
     "name": "stdout",
     "output_type": "stream",
     "text": [
      "type : <class 'numpy.ndarray'>\n",
      "shape : (5, 3) , dimension : 2 , dtype : int32\n",
      "Array's Data : \n",
      " [[0 1 2]\n",
      " [1 2 3]\n",
      " [2 3 4]\n",
      " [3 4 5]\n",
      " [4 5 6]]\n"
     ]
    }
   ],
   "source": [
    "a = np.arange(5)\n",
    "b = a + 1\n",
    "c = b + 1\n",
    "d = np.vstack([a,b,c])\n",
    "aryInfo(d.T)"
   ]
  },
  {
   "cell_type": "code",
   "execution_count": 67,
   "metadata": {},
   "outputs": [
    {
     "data": {
      "text/plain": [
       "array([[0, 1, 2],\n",
       "       [1, 2, 3],\n",
       "       [2, 3, 4],\n",
       "       [3, 4, 5],\n",
       "       [4, 5, 6]])"
      ]
     },
     "execution_count": 67,
     "metadata": {},
     "output_type": "execute_result"
    }
   ],
   "source": [
    "x = np.vstack([ range(7)[i : i + 3] for i in range(5) ])\n",
    "x"
   ]
  },
  {
   "cell_type": "code",
   "execution_count": 73,
   "metadata": {},
   "outputs": [
    {
     "data": {
      "text/plain": [
       "array([0, 1, 2, 3, 4])"
      ]
     },
     "execution_count": 73,
     "metadata": {},
     "output_type": "execute_result"
    }
   ],
   "source": [
    "# type이 벡터\n",
    "y = np.arange(5)\n",
    "y"
   ]
  },
  {
   "cell_type": "code",
   "execution_count": 74,
   "metadata": {},
   "outputs": [
    {
     "ename": "ValueError",
     "evalue": "operands could not be broadcast together with shapes (5,3) (5,) ",
     "output_type": "error",
     "traceback": [
      "\u001b[1;31m---------------------------------------------------------------------------\u001b[0m",
      "\u001b[1;31mValueError\u001b[0m                                Traceback (most recent call last)",
      "\u001b[1;32m<ipython-input-74-cd60f97aa77f>\u001b[0m in \u001b[0;36m<module>\u001b[1;34m\u001b[0m\n\u001b[1;32m----> 1\u001b[1;33m \u001b[0mx\u001b[0m \u001b[1;33m+\u001b[0m \u001b[0my\u001b[0m\u001b[1;33m\u001b[0m\u001b[1;33m\u001b[0m\u001b[0m\n\u001b[0m",
      "\u001b[1;31mValueError\u001b[0m: operands could not be broadcast together with shapes (5,3) (5,) "
     ]
    }
   ],
   "source": [
    "# 오류 발생, shape이 달라서 오류 발생 행렬 + 벡터는 브로드캐스팅을 통해서만 연산이 가능하다.\n",
    "x + y "
   ]
  },
  {
   "cell_type": "code",
   "execution_count": 72,
   "metadata": {},
   "outputs": [
    {
     "data": {
      "text/plain": [
       "array([[0],\n",
       "       [1],\n",
       "       [2],\n",
       "       [3],\n",
       "       [4]])"
      ]
     },
     "execution_count": 72,
     "metadata": {},
     "output_type": "execute_result"
    }
   ],
   "source": [
    "# type을 증가시킴 --> 행렬이 됨 즉, broadcasting을 한 것이다.\n",
    "y = np.arange(5)[ : , np.newaxis]\n",
    "y"
   ]
  },
  {
   "cell_type": "code",
   "execution_count": 75,
   "metadata": {},
   "outputs": [
    {
     "data": {
      "text/plain": [
       "array([0, 1, 2])"
      ]
     },
     "execution_count": 75,
     "metadata": {},
     "output_type": "execute_result"
    }
   ],
   "source": [
    "y = np.arange(3)\n",
    "y"
   ]
  },
  {
   "cell_type": "code",
   "execution_count": 76,
   "metadata": {},
   "outputs": [
    {
     "data": {
      "text/plain": [
       "array([[0, 2, 4],\n",
       "       [1, 3, 5],\n",
       "       [2, 4, 6],\n",
       "       [3, 5, 7],\n",
       "       [4, 6, 8]])"
      ]
     },
     "execution_count": 76,
     "metadata": {},
     "output_type": "execute_result"
    }
   ],
   "source": [
    "x + y"
   ]
  },
  {
   "cell_type": "markdown",
   "metadata": {},
   "source": [
    "### 차원 축소 <-> 브로드캐스팅의 반대\n",
    "- dimension reduction"
   ]
  },
  {
   "cell_type": "code",
   "execution_count": 78,
   "metadata": {},
   "outputs": [
    {
     "name": "stdout",
     "output_type": "stream",
     "text": [
      "type : <class 'numpy.ndarray'>\n",
      "shape : (4,) , dimension : 1 , dtype : int32\n",
      "Array's Data : \n",
      " [1 2 3 4]\n"
     ]
    }
   ],
   "source": [
    "x = np.array([1,2,3,4])\n",
    "aryInfo(x)"
   ]
  },
  {
   "cell_type": "code",
   "execution_count": 80,
   "metadata": {},
   "outputs": [
    {
     "name": "stdout",
     "output_type": "stream",
     "text": [
      "type : <class 'numpy.int32'>\n",
      "shape : () , dimension : 0 , dtype : int32\n",
      "Array's Data : \n",
      " 10\n"
     ]
    }
   ],
   "source": [
    "aryInfo(np.sum(x)) # 단일 값(스칼라 값)으로 축소"
   ]
  },
  {
   "cell_type": "code",
   "execution_count": 81,
   "metadata": {},
   "outputs": [
    {
     "data": {
      "text/plain": [
       "1"
      ]
     },
     "execution_count": 81,
     "metadata": {},
     "output_type": "execute_result"
    }
   ],
   "source": [
    "x.min()"
   ]
  },
  {
   "cell_type": "code",
   "execution_count": 82,
   "metadata": {},
   "outputs": [
    {
     "data": {
      "text/plain": [
       "4"
      ]
     },
     "execution_count": 82,
     "metadata": {},
     "output_type": "execute_result"
    }
   ],
   "source": [
    "x.max()"
   ]
  },
  {
   "cell_type": "code",
   "execution_count": 83,
   "metadata": {},
   "outputs": [
    {
     "data": {
      "text/plain": [
       "0"
      ]
     },
     "execution_count": 83,
     "metadata": {},
     "output_type": "execute_result"
    }
   ],
   "source": [
    "# 최소값의 위치 index를 리턴\n",
    "x.argmin()"
   ]
  },
  {
   "cell_type": "code",
   "execution_count": 84,
   "metadata": {},
   "outputs": [
    {
     "data": {
      "text/plain": [
       "3"
      ]
     },
     "execution_count": 84,
     "metadata": {},
     "output_type": "execute_result"
    }
   ],
   "source": [
    "# 최대값의 위치 index를 리턴\n",
    "x.argmax()"
   ]
  },
  {
   "cell_type": "code",
   "execution_count": 87,
   "metadata": {},
   "outputs": [
    {
     "data": {
      "text/plain": [
       "2.5"
      ]
     },
     "execution_count": 87,
     "metadata": {},
     "output_type": "execute_result"
    }
   ],
   "source": [
    "# 평균값을 리턴\n",
    "x.mean()"
   ]
  },
  {
   "cell_type": "code",
   "execution_count": 88,
   "metadata": {},
   "outputs": [
    {
     "name": "stdout",
     "output_type": "stream",
     "text": [
      "type : <class 'numpy.ndarray'>\n",
      "shape : (2, 4) , dimension : 2 , dtype : int32\n",
      "Array's Data : \n",
      " [[1 2 3 4]\n",
      " [5 6 7 8]]\n"
     ]
    }
   ],
   "source": [
    "x = np.array([[1,2,3,4], [5,6,7,8]])\n",
    "aryInfo(x)"
   ]
  },
  {
   "cell_type": "code",
   "execution_count": 92,
   "metadata": {},
   "outputs": [
    {
     "data": {
      "text/plain": [
       "array([ 6,  8, 10, 12])"
      ]
     },
     "execution_count": 92,
     "metadata": {},
     "output_type": "execute_result"
    }
   ],
   "source": [
    "x.sum(axis = 0)  # 각 열의 값의 특징을 알고 싶으면 axis = 0 행 고정 열 값 비교"
   ]
  },
  {
   "cell_type": "code",
   "execution_count": 94,
   "metadata": {},
   "outputs": [
    {
     "data": {
      "text/plain": [
       "array([10, 26])"
      ]
     },
     "execution_count": 94,
     "metadata": {},
     "output_type": "execute_result"
    }
   ],
   "source": [
    "x.sum(axis = 1) # 각 행의 값의 특징을 알고 싶으면 axis = 1 열 고정 행 값 비교"
   ]
  },
  {
   "cell_type": "markdown",
   "metadata": {},
   "source": [
    "실수로 이루어진 5 x 6 형태의 데이터 행렬을 만들고 이 데이터에 대해 다음과 같은 값을 구한다.\n",
    "\n",
    "- 전체의 최댓값\n",
    "- 각 행의 합\n",
    "- 각 행의 최댓값\n",
    "- 각 열의 평균\n",
    "- 각 열의 최솟값"
   ]
  },
  {
   "cell_type": "code",
   "execution_count": 107,
   "metadata": {},
   "outputs": [
    {
     "data": {
      "text/plain": [
       "array([[4, 1, 8, 2, 7, 5],\n",
       "       [1, 7, 9, 3, 4, 0],\n",
       "       [1, 9, 9, 7, 2, 6],\n",
       "       [7, 5, 0, 0, 5, 3],\n",
       "       [1, 5, 6, 0, 1, 5]])"
      ]
     },
     "execution_count": 107,
     "metadata": {},
     "output_type": "execute_result"
    }
   ],
   "source": [
    "ary = np.random.randint(0, 10, (5, 6))\n",
    "ary\n"
   ]
  },
  {
   "cell_type": "code",
   "execution_count": 112,
   "metadata": {},
   "outputs": [
    {
     "name": "stdout",
     "output_type": "stream",
     "text": [
      "9\n",
      "[27 24 34 20 18]\n",
      "[8 9 9 7 6]\n",
      "[2.8 5.4 6.4 2.4 3.8 3.8]\n",
      "[1 1 0 0 1 0]\n"
     ]
    }
   ],
   "source": [
    "print(ary.max())\n",
    "print(ary.sum(axis = 1))\n",
    "print(ary.max(axis = 1))\n",
    "print(ary.mean(axis = 0))\n",
    "print(ary.min(axis = 0))"
   ]
  },
  {
   "cell_type": "code",
   "execution_count": null,
   "metadata": {},
   "outputs": [],
   "source": []
  }
 ],
 "metadata": {
  "kernelspec": {
   "display_name": "Python 3",
   "language": "python",
   "name": "python3"
  },
  "language_info": {
   "codemirror_mode": {
    "name": "ipython",
    "version": 3
   },
   "file_extension": ".py",
   "mimetype": "text/x-python",
   "name": "python",
   "nbconvert_exporter": "python",
   "pygments_lexer": "ipython3",
   "version": "3.8.5"
  }
 },
 "nbformat": 4,
 "nbformat_minor": 4
}
