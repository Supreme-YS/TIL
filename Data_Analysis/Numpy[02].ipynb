{
 "cells": [
  {
   "cell_type": "markdown",
   "metadata": {},
   "source": [
    "### 배열 확장\n",
    "- hstack : horizental stack\n",
    "- vstack : vertical stack\n",
    "- dstack : depth stack\n",
    "- stack\n",
    "- r_\n",
    "- c_\n",
    "- tile"
   ]
  },
  {
   "cell_type": "code",
   "execution_count": 1,
   "metadata": {},
   "outputs": [],
   "source": [
    "import numpy as np"
   ]
  },
  {
   "cell_type": "code",
   "execution_count": 2,
   "metadata": {},
   "outputs": [],
   "source": [
    "def aryInfo(arr) :\n",
    "    print(\"type : {}\".format(type(arr)))\n",
    "    print(\"shape : {} , dimension : {} , dtype : {}\".format(arr.shape , arr.ndim, arr.dtype))\n",
    "    print(\"Array's Data : \\n\" , arr)"
   ]
  },
  {
   "cell_type": "code",
   "execution_count": 7,
   "metadata": {},
   "outputs": [
    {
     "name": "stdout",
     "output_type": "stream",
     "text": [
      "type : <class 'numpy.ndarray'>\n",
      "shape : (2, 3) , dimension : 2 , dtype : float64\n",
      "Array's Data : \n",
      " [[1. 1. 1.]\n",
      " [1. 1. 1.]]\n"
     ]
    }
   ],
   "source": [
    "# hstack : col이 늘어나는 것이기 때문에 반드시 행의 숫자가 똑같아야만 한다.\n",
    "h_ary_01 = np.ones((2,3))\n",
    "aryInfo(h_ary_01)"
   ]
  },
  {
   "cell_type": "code",
   "execution_count": 8,
   "metadata": {},
   "outputs": [
    {
     "name": "stdout",
     "output_type": "stream",
     "text": [
      "type : <class 'numpy.ndarray'>\n",
      "shape : (2, 3) , dimension : 2 , dtype : int32\n",
      "Array's Data : \n",
      " [[1 1 1]\n",
      " [1 1 1]]\n"
     ]
    }
   ],
   "source": [
    "# astype() : 타입의 변화를 줄 때 사용하는 방법 중 하나, dtype=''도 있다. \n",
    "re_type = h_ary_01.astype(np.int32)\n",
    "aryInfo(re_type)"
   ]
  },
  {
   "cell_type": "code",
   "execution_count": 11,
   "metadata": {},
   "outputs": [
    {
     "name": "stdout",
     "output_type": "stream",
     "text": [
      "type : <class 'numpy.ndarray'>\n",
      "shape : (2, 3) , dimension : 2 , dtype : float64\n",
      "Array's Data : \n",
      " [[0. 0. 0.]\n",
      " [0. 0. 0.]]\n"
     ]
    }
   ],
   "source": [
    "h_ary_02 = np.zeros((2,3))\n",
    "aryInfo(h_ary_02)"
   ]
  },
  {
   "cell_type": "code",
   "execution_count": 15,
   "metadata": {},
   "outputs": [
    {
     "data": {
      "text/plain": [
       "array([[1., 1., 1., 0., 0., 0.],\n",
       "       [1., 1., 1., 0., 0., 0.]])"
      ]
     },
     "execution_count": 15,
     "metadata": {},
     "output_type": "execute_result"
    }
   ],
   "source": [
    "np.hstack([h_ary_01, h_ary_02])"
   ]
  },
  {
   "cell_type": "code",
   "execution_count": null,
   "metadata": {},
   "outputs": [],
   "source": [
    "# vstack : row가 늘어나는 것이기 때문에 반드시 열의 숫자가 똑같아야만 한다."
   ]
  },
  {
   "cell_type": "code",
   "execution_count": 14,
   "metadata": {},
   "outputs": [
    {
     "data": {
      "text/plain": [
       "array([[1., 1., 1.],\n",
       "       [1., 1., 1.],\n",
       "       [0., 0., 0.],\n",
       "       [0., 0., 0.]])"
      ]
     },
     "execution_count": 14,
     "metadata": {},
     "output_type": "execute_result"
    }
   ],
   "source": [
    "np.vstack([h_ary_01, h_ary_02]) "
   ]
  },
  {
   "cell_type": "code",
   "execution_count": 4,
   "metadata": {},
   "outputs": [
    {
     "name": "stdout",
     "output_type": "stream",
     "text": [
      "[[1. 1. 1. 1.]\n",
      " [1. 1. 1. 1.]\n",
      " [1. 1. 1. 1.]]\n",
      "[[0. 0. 0. 0.]\n",
      " [0. 0. 0. 0.]\n",
      " [0. 0. 0. 0.]]\n"
     ]
    }
   ],
   "source": [
    "# dstack : 깊이가 늘어나는 것\n",
    "d_ary_01 = np.ones((3,4))\n",
    "print(d_ary_01)\n",
    "d_ary_02 = np.zeros((3,4))\n",
    "print(d_ary_02)"
   ]
  },
  {
   "cell_type": "code",
   "execution_count": 22,
   "metadata": {},
   "outputs": [
    {
     "data": {
      "text/plain": [
       "array([[[1., 0.],\n",
       "        [1., 0.],\n",
       "        [1., 0.],\n",
       "        [1., 0.]],\n",
       "\n",
       "       [[1., 0.],\n",
       "        [1., 0.],\n",
       "        [1., 0.],\n",
       "        [1., 0.]],\n",
       "\n",
       "       [[1., 0.],\n",
       "        [1., 0.],\n",
       "        [1., 0.],\n",
       "        [1., 0.]]])"
      ]
     },
     "execution_count": 22,
     "metadata": {},
     "output_type": "execute_result"
    }
   ],
   "source": [
    "# (3 * 4) --> (3 * 4 * 2)\n",
    "np.dstack([d_ary_01, d_ary_02])"
   ]
  },
  {
   "cell_type": "code",
   "execution_count": 21,
   "metadata": {},
   "outputs": [
    {
     "name": "stdout",
     "output_type": "stream",
     "text": [
      "type : <class 'numpy.ndarray'>\n",
      "shape : (3, 4, 2) , dimension : 3 , dtype : float64\n",
      "Array's Data : \n",
      " [[[1. 0.]\n",
      "  [1. 0.]\n",
      "  [1. 0.]\n",
      "  [1. 0.]]\n",
      "\n",
      " [[1. 0.]\n",
      "  [1. 0.]\n",
      "  [1. 0.]\n",
      "  [1. 0.]]\n",
      "\n",
      " [[1. 0.]\n",
      "  [1. 0.]\n",
      "  [1. 0.]\n",
      "  [1. 0.]]]\n"
     ]
    }
   ],
   "source": [
    "aryInfo(np.dstack([d_ary_01, d_ary_02]))"
   ]
  },
  {
   "cell_type": "code",
   "execution_count": 29,
   "metadata": {},
   "outputs": [
    {
     "name": "stdout",
     "output_type": "stream",
     "text": [
      "type : <class 'numpy.ndarray'>\n",
      "shape : (2, 3, 4) , dimension : 3 , dtype : float64\n",
      "Array's Data : \n",
      " [[[1. 1. 1. 1.]\n",
      "  [1. 1. 1. 1.]\n",
      "  [1. 1. 1. 1.]]\n",
      "\n",
      " [[0. 0. 0. 0.]\n",
      "  [0. 0. 0. 0.]\n",
      "  [0. 0. 0. 0.]]]\n"
     ]
    }
   ],
   "source": [
    "# stack : 행과 열의 갯수가 똑같아야 한다.\n",
    "# (3 * 4) -> (2 * 3 * 4)\n",
    "s_ary = np.stack([d_ary_01, d_ary_02], axis=0)\n",
    "aryInfo(s_ary)"
   ]
  },
  {
   "cell_type": "code",
   "execution_count": 30,
   "metadata": {},
   "outputs": [
    {
     "name": "stdout",
     "output_type": "stream",
     "text": [
      "type : <class 'numpy.ndarray'>\n",
      "shape : (3, 2, 4) , dimension : 3 , dtype : float64\n",
      "Array's Data : \n",
      " [[[1. 1. 1. 1.]\n",
      "  [0. 0. 0. 0.]]\n",
      "\n",
      " [[1. 1. 1. 1.]\n",
      "  [0. 0. 0. 0.]]\n",
      "\n",
      " [[1. 1. 1. 1.]\n",
      "  [0. 0. 0. 0.]]]\n"
     ]
    }
   ],
   "source": [
    "# (3 * 4) -> (3 * 2 * 4)\n",
    "s_ary = np.stack([d_ary_01, d_ary_02], axis=1)\n",
    "aryInfo(s_ary)"
   ]
  },
  {
   "cell_type": "code",
   "execution_count": 31,
   "metadata": {},
   "outputs": [
    {
     "name": "stdout",
     "output_type": "stream",
     "text": [
      "type : <class 'numpy.ndarray'>\n",
      "shape : (3, 4, 2) , dimension : 3 , dtype : float64\n",
      "Array's Data : \n",
      " [[[1. 0.]\n",
      "  [1. 0.]\n",
      "  [1. 0.]\n",
      "  [1. 0.]]\n",
      "\n",
      " [[1. 0.]\n",
      "  [1. 0.]\n",
      "  [1. 0.]\n",
      "  [1. 0.]]\n",
      "\n",
      " [[1. 0.]\n",
      "  [1. 0.]\n",
      "  [1. 0.]\n",
      "  [1. 0.]]]\n"
     ]
    }
   ],
   "source": [
    "# (3 * 4) -> (3 * 4 * 2)\n",
    "s_ary = np.stack([d_ary_01, d_ary_02], axis=2)\n",
    "aryInfo(s_ary)"
   ]
  },
  {
   "cell_type": "code",
   "execution_count": 32,
   "metadata": {},
   "outputs": [
    {
     "data": {
      "text/plain": [
       "array([1, 2, 3, 4, 5, 6])"
      ]
     },
     "execution_count": 32,
     "metadata": {},
     "output_type": "execute_result"
    }
   ],
   "source": [
    "np.r_[ np.array([1,2,3]) , np.array([4,5,6])] # 1차원 벡터 두 개를 row bind"
   ]
  },
  {
   "cell_type": "code",
   "execution_count": 33,
   "metadata": {},
   "outputs": [
    {
     "data": {
      "text/plain": [
       "array([[1, 4],\n",
       "       [2, 5],\n",
       "       [3, 6]])"
      ]
     },
     "execution_count": 33,
     "metadata": {},
     "output_type": "execute_result"
    }
   ],
   "source": [
    "np.c_[ np.array([1,2,3]) , np.array([4,5,6])] # 1차원 벡터 두 개를 col bind"
   ]
  },
  {
   "cell_type": "code",
   "execution_count": 5,
   "metadata": {},
   "outputs": [
    {
     "data": {
      "text/plain": [
       "array([[1., 1., 1., 1.],\n",
       "       [1., 1., 1., 1.],\n",
       "       [1., 1., 1., 1.],\n",
       "       [0., 0., 0., 0.],\n",
       "       [0., 0., 0., 0.],\n",
       "       [0., 0., 0., 0.]])"
      ]
     },
     "execution_count": 5,
     "metadata": {},
     "output_type": "execute_result"
    }
   ],
   "source": [
    "np.r_[ d_ary_01 , d_ary_02 ]"
   ]
  },
  {
   "cell_type": "code",
   "execution_count": 6,
   "metadata": {},
   "outputs": [
    {
     "data": {
      "text/plain": [
       "array([[1., 1., 1., 1., 0., 0., 0., 0.],\n",
       "       [1., 1., 1., 1., 0., 0., 0., 0.],\n",
       "       [1., 1., 1., 1., 0., 0., 0., 0.]])"
      ]
     },
     "execution_count": 6,
     "metadata": {},
     "output_type": "execute_result"
    }
   ],
   "source": [
    "np.c_[ d_ary_01 , d_ary_02 ]"
   ]
  },
  {
   "cell_type": "markdown",
   "metadata": {},
   "source": [
    "- tile : 동일한 배열을 반복하여 연결시킬 때 사용한다."
   ]
  },
  {
   "cell_type": "code",
   "execution_count": 5,
   "metadata": {},
   "outputs": [],
   "source": [
    "t_ary = np.array([[1,2,3], [4,5,6]])"
   ]
  },
  {
   "cell_type": "code",
   "execution_count": 6,
   "metadata": {},
   "outputs": [
    {
     "data": {
      "text/plain": [
       "array([[1, 2, 3, 1, 2, 3, 1, 2, 3],\n",
       "       [4, 5, 6, 4, 5, 6, 4, 5, 6]])"
      ]
     },
     "execution_count": 6,
     "metadata": {},
     "output_type": "execute_result"
    }
   ],
   "source": [
    "np.tile(t_ary , 3 )"
   ]
  },
  {
   "cell_type": "code",
   "execution_count": 7,
   "metadata": {},
   "outputs": [
    {
     "data": {
      "text/plain": [
       "array([[1, 2, 3, 1, 2, 3],\n",
       "       [4, 5, 6, 4, 5, 6],\n",
       "       [1, 2, 3, 1, 2, 3],\n",
       "       [4, 5, 6, 4, 5, 6],\n",
       "       [1, 2, 3, 1, 2, 3],\n",
       "       [4, 5, 6, 4, 5, 6]])"
      ]
     },
     "execution_count": 7,
     "metadata": {},
     "output_type": "execute_result"
    }
   ],
   "source": [
    "np.tile(t_ary, (3,2))"
   ]
  },
  {
   "cell_type": "code",
   "execution_count": 15,
   "metadata": {},
   "outputs": [
    {
     "data": {
      "text/plain": [
       "array([[0., 0., 0., 1., 1.],\n",
       "       [0., 0., 0., 1., 1.],\n",
       "       [0., 0., 0., 1., 1.]])"
      ]
     },
     "execution_count": 15,
     "metadata": {},
     "output_type": "execute_result"
    }
   ],
   "source": [
    "a = np.zeros([3,3])\n",
    "b = np.ones([3,2])\n",
    "ab = np.hstack([a, b])\n",
    "ab"
   ]
  },
  {
   "cell_type": "code",
   "execution_count": 16,
   "metadata": {},
   "outputs": [],
   "source": []
  },
  {
   "cell_type": "code",
   "execution_count": 17,
   "metadata": {},
   "outputs": [
    {
     "data": {
      "text/plain": [
       "array([[ 10,  20,  30,  40,  50],\n",
       "       [ 60,  70,  80,  90, 100],\n",
       "       [110, 120, 130, 140, 150]])"
      ]
     },
     "execution_count": 17,
     "metadata": {},
     "output_type": "execute_result"
    }
   ],
   "source": [
    "c"
   ]
  },
  {
   "cell_type": "code",
   "execution_count": 3,
   "metadata": {},
   "outputs": [
    {
     "data": {
      "text/plain": [
       "array([[  0.,   0.,   0.,   1.,   1.],\n",
       "       [  0.,   0.,   0.,   1.,   1.],\n",
       "       [  0.,   0.,   0.,   1.,   1.],\n",
       "       [ 10.,  20.,  30.,  40.,  50.],\n",
       "       [ 60.,  70.,  80.,  90., 100.],\n",
       "       [110., 120., 130., 140., 150.],\n",
       "       [  0.,   0.,   0.,   1.,   1.],\n",
       "       [  0.,   0.,   0.,   1.,   1.],\n",
       "       [  0.,   0.,   0.,   1.,   1.],\n",
       "       [ 10.,  20.,  30.,  40.,  50.],\n",
       "       [ 60.,  70.,  80.,  90., 100.],\n",
       "       [110., 120., 130., 140., 150.]])"
      ]
     },
     "execution_count": 3,
     "metadata": {},
     "output_type": "execute_result"
    }
   ],
   "source": [
    "a = np.zeros([3,3])\n",
    "b = np.ones([3,2])\n",
    "ab = np.hstack([a, b])\n",
    "c = np.array([[10,20,30,40,50], [60,70,80,90,100], [110,120,130,140,150]])\n",
    "abc = np.vstack([ab, c])\n",
    "np.tile(abc, (2,1))"
   ]
  },
  {
   "cell_type": "code",
   "execution_count": 3,
   "metadata": {},
   "outputs": [
    {
     "name": "stdout",
     "output_type": "stream",
     "text": [
      "type : <class 'numpy.ndarray'>\n",
      "shape : (3, 3) , dimension : 2 , dtype : float64\n",
      "Array's Data : \n",
      " [[0. 0. 0.]\n",
      " [0. 0. 0.]\n",
      " [0. 0. 0.]]\n",
      "None\n",
      "type : <class 'numpy.ndarray'>\n",
      "shape : (3, 2) , dimension : 2 , dtype : float64\n",
      "Array's Data : \n",
      " [[1. 1.]\n",
      " [1. 1.]\n",
      " [1. 1.]]\n",
      "None\n",
      "type : <class 'numpy.ndarray'>\n",
      "shape : (3, 5) , dimension : 2 , dtype : float64\n",
      "Array's Data : \n",
      " [[0. 0. 0. 1. 1.]\n",
      " [0. 0. 0. 1. 1.]\n",
      " [0. 0. 0. 1. 1.]]\n",
      "None\n",
      "type : <class 'numpy.ndarray'>\n",
      "shape : (3, 5) , dimension : 2 , dtype : int32\n",
      "Array's Data : \n",
      " [[ 10  20  30  40  50]\n",
      " [ 60  70  80  90 100]\n",
      " [110 120 130 140 150]]\n",
      "None\n",
      "type : <class 'numpy.ndarray'>\n",
      "shape : (6, 5) , dimension : 2 , dtype : float64\n",
      "Array's Data : \n",
      " [[  0.   0.   0.   1.   1.]\n",
      " [  0.   0.   0.   1.   1.]\n",
      " [  0.   0.   0.   1.   1.]\n",
      " [ 10.  20.  30.  40.  50.]\n",
      " [ 60.  70.  80.  90. 100.]\n",
      " [110. 120. 130. 140. 150.]]\n",
      "None\n",
      "[[  0.   0.   0.   1.   1.]\n",
      " [  0.   0.   0.   1.   1.]\n",
      " [  0.   0.   0.   1.   1.]\n",
      " [ 10.  20.  30.  40.  50.]\n",
      " [ 60.  70.  80.  90. 100.]\n",
      " [110. 120. 130. 140. 150.]\n",
      " [  0.   0.   0.   1.   1.]\n",
      " [  0.   0.   0.   1.   1.]\n",
      " [  0.   0.   0.   1.   1.]\n",
      " [ 10.  20.  30.  40.  50.]\n",
      " [ 60.  70.  80.  90. 100.]\n",
      " [110. 120. 130. 140. 150.]]\n"
     ]
    }
   ],
   "source": [
    "x = np.zeros((3,3))\n",
    "print(aryInfo(x))\n",
    "y = np.ones((3,2))\n",
    "print(aryInfo(y))\n",
    "xy = np.hstack([x,y])\n",
    "print(aryInfo(xy))\n",
    "z = np.arange(10, 160, 10).reshape((3,5))\n",
    "print(aryInfo(z))\n",
    "xyz = np.vstack([xy, z])\n",
    "print(aryInfo(xyz))\n",
    "answer = np.tile(xyz, (2,1))\n",
    "print(answer)"
   ]
  },
  {
   "cell_type": "markdown",
   "metadata": {},
   "source": [
    "### delete()\n",
    "- 행과 열을 삭제 : axis\n",
    "- row data는 변경하지 않고 새로운 배열을 리턴"
   ]
  },
  {
   "cell_type": "code",
   "execution_count": 4,
   "metadata": {},
   "outputs": [
    {
     "name": "stdout",
     "output_type": "stream",
     "text": [
      "type : <class 'numpy.ndarray'>\n",
      "shape : (3, 4) , dimension : 2 , dtype : int32\n",
      "Array's Data : \n",
      " [[0 4 5 3]\n",
      " [5 0 4 3]\n",
      " [8 2 7 7]]\n"
     ]
    }
   ],
   "source": [
    "ary = np.random.randint(0, 10, (3, 4))\n",
    "aryInfo(ary)"
   ]
  },
  {
   "cell_type": "code",
   "execution_count": 5,
   "metadata": {},
   "outputs": [
    {
     "name": "stdout",
     "output_type": "stream",
     "text": [
      "type : <class 'numpy.ndarray'>\n",
      "shape : (3, 3) , dimension : 2 , dtype : int32\n",
      "Array's Data : \n",
      " [[4 5 3]\n",
      " [0 4 3]\n",
      " [2 7 7]]\n"
     ]
    }
   ],
   "source": [
    "result = np.delete(ary, 0, axis = 1)\n",
    "aryInfo(result)"
   ]
  },
  {
   "cell_type": "code",
   "execution_count": null,
   "metadata": {},
   "outputs": [],
   "source": []
  }
 ],
 "metadata": {
  "kernelspec": {
   "display_name": "Python 3",
   "language": "python",
   "name": "python3"
  },
  "language_info": {
   "codemirror_mode": {
    "name": "ipython",
    "version": 3
   },
   "file_extension": ".py",
   "mimetype": "text/x-python",
   "name": "python",
   "nbconvert_exporter": "python",
   "pygments_lexer": "ipython3",
   "version": "3.8.5"
  }
 },
 "nbformat": 4,
 "nbformat_minor": 4
}
