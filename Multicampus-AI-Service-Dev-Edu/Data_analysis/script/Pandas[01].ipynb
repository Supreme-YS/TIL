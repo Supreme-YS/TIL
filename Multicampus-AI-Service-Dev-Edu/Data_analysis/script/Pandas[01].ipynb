{
 "cells": [
  {
   "cell_type": "markdown",
   "metadata": {},
   "source": [
    "### Pandas"
   ]
  },
  {
   "cell_type": "markdown",
   "metadata": {},
   "source": [
    "- 학습목표\n",
    "- Series 와 DataFrame\n",
    "- 분석을 위한 전처리"
   ]
  },
  {
   "cell_type": "code",
   "execution_count": 91,
   "metadata": {},
   "outputs": [
    {
     "name": "stdout",
     "output_type": "stream",
     "text": [
      "1.19.2\n",
      "1.1.3\n"
     ]
    }
   ],
   "source": [
    "import numpy  as np\n",
    "import pandas as pd\n",
    "import matplotlib.pyplot as plt\n",
    "\n",
    "import warnings\n",
    "warnings.filterwarnings(action='ignore')\n",
    "\n",
    "print(np.__version__)\n",
    "print(pd.__version__)\n"
   ]
  },
  {
   "cell_type": "markdown",
   "metadata": {},
   "source": [
    "#### Series 클래스\n",
    "- 넘파이 1차원배열과 비슷\n",
    "- series = index + value"
   ]
  },
  {
   "cell_type": "code",
   "execution_count": 3,
   "metadata": {},
   "outputs": [
    {
     "name": "stdout",
     "output_type": "stream",
     "text": [
      "[1 2 3 4 'jslim']\n",
      "object\n"
     ]
    }
   ],
   "source": [
    "# vector\n",
    "ary = np.array([1,2,3,4,'jslim'] , dtype=np.object)\n",
    "print(ary)\n",
    "print(ary.dtype)\n"
   ]
  },
  {
   "cell_type": "code",
   "execution_count": 8,
   "metadata": {},
   "outputs": [
    {
     "name": "stdout",
     "output_type": "stream",
     "text": [
      "0        1\n",
      "1        2\n",
      "2        3\n",
      "3        4\n",
      "4    jslim\n",
      "dtype: object\n",
      "[1 2 3 4 'jslim']\n",
      "<class 'numpy.ndarray'>\n",
      "RangeIndex(start=0, stop=5, step=1)\n",
      "<class 'pandas.core.indexes.range.RangeIndex'>\n"
     ]
    }
   ],
   "source": [
    "# series\n",
    "ary = pd.Series([1,2,3,4,'jslim'] , dtype=np.object)\n",
    "print(ary)\n",
    "print(ary.values)\n",
    "print( type(ary.values) ) \n",
    "print( ary.index ) \n",
    "print( type(ary.index) ) "
   ]
  },
  {
   "cell_type": "code",
   "execution_count": 14,
   "metadata": {},
   "outputs": [],
   "source": [
    "def seriesInfo(ary) :\n",
    "    print('index + value : \\n' , ary)\n",
    "    print('value : ' , ary.values)\n",
    "    print('value type : ' , type(ary.values) ) \n",
    "    print('index : ' , ary.index ) \n",
    "    print('index type : ' , type(ary.index) ) \n",
    "    "
   ]
  },
  {
   "cell_type": "markdown",
   "metadata": {},
   "source": [
    "- 인덱스의 라벨은 정수, 문자, 날짜, 시간"
   ]
  },
  {
   "cell_type": "code",
   "execution_count": 15,
   "metadata": {},
   "outputs": [],
   "source": [
    "ary = pd.Series([1,2,3,4,5] , \n",
    "                dtype=np.int32,\n",
    "                index = ['강남', '서초' , '방배', '동작' , '신도림'])"
   ]
  },
  {
   "cell_type": "code",
   "execution_count": 16,
   "metadata": {},
   "outputs": [
    {
     "name": "stdout",
     "output_type": "stream",
     "text": [
      "index + value : \n",
      " 강남     1\n",
      "서초     2\n",
      "방배     3\n",
      "동작     4\n",
      "신도림    5\n",
      "dtype: int32\n",
      "value :  [1 2 3 4 5]\n",
      "value type :  <class 'numpy.ndarray'>\n",
      "index :  Index(['강남', '서초', '방배', '동작', '신도림'], dtype='object')\n",
      "index type :  <class 'pandas.core.indexes.base.Index'>\n"
     ]
    }
   ],
   "source": [
    "seriesInfo(ary)"
   ]
  },
  {
   "cell_type": "code",
   "execution_count": 17,
   "metadata": {},
   "outputs": [],
   "source": [
    "ary.index.name = '구별'"
   ]
  },
  {
   "cell_type": "code",
   "execution_count": 18,
   "metadata": {},
   "outputs": [
    {
     "name": "stdout",
     "output_type": "stream",
     "text": [
      "index + value : \n",
      " 구별\n",
      "강남     1\n",
      "서초     2\n",
      "방배     3\n",
      "동작     4\n",
      "신도림    5\n",
      "dtype: int32\n",
      "value :  [1 2 3 4 5]\n",
      "value type :  <class 'numpy.ndarray'>\n",
      "index :  Index(['강남', '서초', '방배', '동작', '신도림'], dtype='object', name='구별')\n",
      "index type :  <class 'pandas.core.indexes.base.Index'>\n"
     ]
    }
   ],
   "source": [
    "seriesInfo(ary)"
   ]
  },
  {
   "cell_type": "code",
   "execution_count": 22,
   "metadata": {},
   "outputs": [
    {
     "data": {
      "text/plain": [
       "구별\n",
       "서초    2\n",
       "강남    1\n",
       "dtype: int32"
      ]
     },
     "execution_count": 22,
     "metadata": {},
     "output_type": "execute_result"
    }
   ],
   "source": [
    "ary[['서초' , '강남']]"
   ]
  },
  {
   "cell_type": "code",
   "execution_count": 23,
   "metadata": {},
   "outputs": [
    {
     "name": "stdout",
     "output_type": "stream",
     "text": [
      "idx -> 강남 , value -> 1\n",
      "idx -> 서초 , value -> 2\n",
      "idx -> 방배 , value -> 3\n",
      "idx -> 동작 , value -> 4\n",
      "idx -> 신도림 , value -> 5\n"
     ]
    }
   ],
   "source": [
    "for idx , value in ary.items() :\n",
    "    print('idx -> {} , value -> {}'.format(idx, value))"
   ]
  },
  {
   "cell_type": "code",
   "execution_count": 24,
   "metadata": {},
   "outputs": [
    {
     "name": "stdout",
     "output_type": "stream",
     "text": [
      "idx -> 강남 \n",
      "idx -> 서초 \n",
      "idx -> 방배 \n",
      "idx -> 동작 \n",
      "idx -> 신도림 \n"
     ]
    }
   ],
   "source": [
    "for idx in ary.keys() :\n",
    "    print('idx -> {} '.format(idx))"
   ]
  },
  {
   "cell_type": "code",
   "execution_count": 29,
   "metadata": {},
   "outputs": [
    {
     "name": "stdout",
     "output_type": "stream",
     "text": [
      "value -> 10 \n",
      "value -> 11 \n",
      "value -> 12 \n",
      "value -> 13 \n",
      "value -> 14 \n",
      "value -> 15 \n",
      "value -> 16 \n",
      "value -> 17 \n",
      "value -> 18 \n",
      "value -> 19 \n",
      "value -> 20 \n"
     ]
    }
   ],
   "source": [
    "for value in ary.values:\n",
    "    print('value -> {} '.format(value) ) "
   ]
  },
  {
   "cell_type": "code",
   "execution_count": 28,
   "metadata": {},
   "outputs": [
    {
     "name": "stdout",
     "output_type": "stream",
     "text": [
      "index + value : \n",
      " 0     10\n",
      "1     11\n",
      "2     12\n",
      "3     13\n",
      "4     14\n",
      "5     15\n",
      "6     16\n",
      "7     17\n",
      "8     18\n",
      "9     19\n",
      "10    20\n",
      "dtype: int64\n",
      "value :  [10 11 12 13 14 15 16 17 18 19 20]\n",
      "value type :  <class 'numpy.ndarray'>\n",
      "index :  RangeIndex(start=0, stop=11, step=1)\n",
      "index type :  <class 'pandas.core.indexes.range.RangeIndex'>\n"
     ]
    }
   ],
   "source": [
    "ary = pd.Series(range(10, 21))\n",
    "seriesInfo(ary)"
   ]
  },
  {
   "cell_type": "code",
   "execution_count": 30,
   "metadata": {},
   "outputs": [
    {
     "name": "stdout",
     "output_type": "stream",
     "text": [
      "index + value : \n",
      " c     1.0\n",
      "b     5.0\n",
      "a    -8.0\n",
      "k    10.0\n",
      "dtype: float64\n",
      "value :  [ 1.  5. -8. 10.]\n",
      "value type :  <class 'numpy.ndarray'>\n",
      "index :  Index(['c', 'b', 'a', 'k'], dtype='object')\n",
      "index type :  <class 'pandas.core.indexes.base.Index'>\n"
     ]
    }
   ],
   "source": [
    "ary = pd.Series({'c' : 1 , 'b' : 5 , 'a' : -8 , 'k' : 10 } , dtype=np.float64)\n",
    "seriesInfo(ary)"
   ]
  },
  {
   "cell_type": "code",
   "execution_count": 31,
   "metadata": {},
   "outputs": [
    {
     "data": {
      "text/plain": [
       "c     10.0\n",
       "b     50.0\n",
       "a    -80.0\n",
       "k    100.0\n",
       "dtype: float64"
      ]
     },
     "execution_count": 31,
     "metadata": {},
     "output_type": "execute_result"
    }
   ],
   "source": [
    "ary * 10"
   ]
  },
  {
   "cell_type": "markdown",
   "metadata": {},
   "source": [
    "- fancy indexing & boolean indexing"
   ]
  },
  {
   "cell_type": "code",
   "execution_count": 38,
   "metadata": {},
   "outputs": [
    {
     "name": "stdout",
     "output_type": "stream",
     "text": [
      "fancy [0,2] indexing\n",
      " c    1.0\n",
      "a   -8.0\n",
      "dtype: float64 \n"
     ]
    }
   ],
   "source": [
    "print('fancy [0,2] indexing\\n {} '.format(ary[[0,2]]))"
   ]
  },
  {
   "cell_type": "code",
   "execution_count": 37,
   "metadata": {},
   "outputs": [
    {
     "name": "stdout",
     "output_type": "stream",
     "text": [
      "boolean ary%2 == 0 indexing \n",
      " a    -8.0\n",
      "k    10.0\n",
      "dtype: float64\n"
     ]
    }
   ],
   "source": [
    "# 2의 배수인 것\n",
    "print('boolean ary%2 == 0 indexing \\n {}'.format(ary[ary%2 ==0 ]))"
   ]
  },
  {
   "cell_type": "code",
   "execution_count": 92,
   "metadata": {},
   "outputs": [],
   "source": [
    "from datetime import date, datetime, timedelta\n",
    "from dateutil.parser import parse\n",
    "strDay = datetime(2020, 2, 25)\n",
    "# print(strDay + timedelta(days=1) )"
   ]
  },
  {
   "cell_type": "code",
   "execution_count": 94,
   "metadata": {},
   "outputs": [
    {
     "name": "stdout",
     "output_type": "stream",
     "text": [
      "index + value : \n",
      " 2020-02-25    46\n",
      "2020-02-26    46\n",
      "2020-02-27    45\n",
      "2020-02-28    43\n",
      "2020-02-29    49\n",
      "2020-03-01    47\n",
      "2020-03-02    48\n",
      "2020-03-03    43\n",
      "2020-03-04    52\n",
      "2020-03-05    48\n",
      "dtype: int64\n",
      "value :  [46 46 45 43 49 47 48 43 52 48]\n",
      "value type :  <class 'numpy.ndarray'>\n",
      "index :  DatetimeIndex(['2020-02-25', '2020-02-26', '2020-02-27', '2020-02-28',\n",
      "               '2020-02-29', '2020-03-01', '2020-03-02', '2020-03-03',\n",
      "               '2020-03-04', '2020-03-05'],\n",
      "              dtype='datetime64[ns]', freq=None)\n",
      "index type :  <class 'pandas.core.indexes.datetimes.DatetimeIndex'>\n"
     ]
    }
   ],
   "source": [
    "# 평균이 50이고 편차 5 인 정규분포 데이터를 10일간 만들고 싶다면\n",
    "fac01 = pd.Series([ int(x) for x in np.random.normal(50, 5, (10,))],\n",
    "                index = [ strDay + timedelta(days = day)  for day in range(10)] )\n",
    "seriesInfo(fac01)"
   ]
  },
  {
   "cell_type": "code",
   "execution_count": 95,
   "metadata": {},
   "outputs": [
    {
     "name": "stdout",
     "output_type": "stream",
     "text": [
      "index + value : \n",
      " 2020-02-25    73\n",
      "2020-02-26    68\n",
      "2020-02-27    59\n",
      "2020-02-28    76\n",
      "2020-02-29    68\n",
      "2020-03-01    66\n",
      "2020-03-02    63\n",
      "2020-03-03    74\n",
      "2020-03-04    81\n",
      "2020-03-05    70\n",
      "dtype: int64\n",
      "value :  [73 68 59 76 68 66 63 74 81 70]\n",
      "value type :  <class 'numpy.ndarray'>\n",
      "index :  DatetimeIndex(['2020-02-25', '2020-02-26', '2020-02-27', '2020-02-28',\n",
      "               '2020-02-29', '2020-03-01', '2020-03-02', '2020-03-03',\n",
      "               '2020-03-04', '2020-03-05'],\n",
      "              dtype='datetime64[ns]', freq=None)\n",
      "index type :  <class 'pandas.core.indexes.datetimes.DatetimeIndex'>\n"
     ]
    }
   ],
   "source": [
    "# 평균이 70이고 편차 8 인 정규분포 데이터를 오늘 날짜로부터 10일간 만들고 싶다면\n",
    "fac02 = pd.Series([ int(x) for x in np.random.normal(70, 8, (10,))],\n",
    "                index = [ strDay + timedelta(days = day)  for day in range(10)] )\n",
    "seriesInfo(fac02)"
   ]
  },
  {
   "cell_type": "code",
   "execution_count": 96,
   "metadata": {},
   "outputs": [
    {
     "data": {
      "text/plain": [
       "2020-02-25    119\n",
       "2020-02-26    114\n",
       "2020-02-27    104\n",
       "2020-02-28    119\n",
       "2020-02-29    117\n",
       "2020-03-01    113\n",
       "2020-03-02    111\n",
       "2020-03-03    117\n",
       "2020-03-04    133\n",
       "2020-03-05    118\n",
       "dtype: int64"
      ]
     },
     "execution_count": 96,
     "metadata": {},
     "output_type": "execute_result"
    }
   ],
   "source": [
    "fac01 + fac02 "
   ]
  },
  {
   "cell_type": "code",
   "execution_count": 97,
   "metadata": {},
   "outputs": [
    {
     "name": "stdout",
     "output_type": "stream",
     "text": [
      "2020-02-25 00:00:00\n",
      "2020-02-26 00:00:00\n",
      "2020-02-27 00:00:00\n",
      "2020-02-28 00:00:00\n",
      "2020-02-29 00:00:00\n",
      "2020-03-01 00:00:00\n",
      "2020-03-02 00:00:00\n",
      "2020-03-03 00:00:00\n",
      "2020-03-04 00:00:00\n",
      "2020-03-05 00:00:00\n"
     ]
    }
   ],
   "source": [
    "for idx in  fac01.index :\n",
    "    print(idx)"
   ]
  },
  {
   "cell_type": "markdown",
   "metadata": {},
   "source": [
    "- 시리즈 인덱싱"
   ]
  },
  {
   "cell_type": "code",
   "execution_count": 98,
   "metadata": {},
   "outputs": [
    {
     "data": {
      "text/plain": [
       "2020-02-25    48\n",
       "2020-02-26    42\n",
       "2020-02-27    50\n",
       "2020-02-28    39\n",
       "2020-02-29    45\n",
       "2020-03-01    43\n",
       "2020-03-02    48\n",
       "2020-03-03    59\n",
       "2020-03-04    48\n",
       "2020-03-05    52\n",
       "dtype: int64"
      ]
     },
     "execution_count": 98,
     "metadata": {},
     "output_type": "execute_result"
    }
   ],
   "source": [
    "fac"
   ]
  },
  {
   "cell_type": "code",
   "execution_count": 99,
   "metadata": {},
   "outputs": [
    {
     "data": {
      "text/plain": [
       "46"
      ]
     },
     "execution_count": 99,
     "metadata": {},
     "output_type": "execute_result"
    }
   ],
   "source": [
    "fac01[1]"
   ]
  },
  {
   "cell_type": "code",
   "execution_count": 100,
   "metadata": {},
   "outputs": [
    {
     "data": {
      "text/plain": [
       "DatetimeIndex(['2020-02-25', '2020-02-26', '2020-02-27', '2020-02-28',\n",
       "               '2020-02-29', '2020-03-01', '2020-03-02', '2020-03-03',\n",
       "               '2020-03-04', '2020-03-05'],\n",
       "              dtype='datetime64[ns]', freq=None)"
      ]
     },
     "execution_count": 100,
     "metadata": {},
     "output_type": "execute_result"
    }
   ],
   "source": [
    "fac01.index"
   ]
  },
  {
   "cell_type": "code",
   "execution_count": 101,
   "metadata": {},
   "outputs": [
    {
     "data": {
      "text/plain": [
       "46"
      ]
     },
     "execution_count": 101,
     "metadata": {},
     "output_type": "execute_result"
    }
   ],
   "source": [
    "fac01[ datetime.strptime('2020-02-26', '%Y-%m-%d') ]"
   ]
  },
  {
   "cell_type": "code",
   "execution_count": 102,
   "metadata": {},
   "outputs": [
    {
     "name": "stdout",
     "output_type": "stream",
     "text": [
      "index + value : \n",
      " a    4000\n",
      "b    3000\n",
      "c    3500\n",
      "d    2000\n",
      "dtype: int64\n",
      "value :  [4000 3000 3500 2000]\n",
      "value type :  <class 'numpy.ndarray'>\n",
      "index :  Index(['a', 'b', 'c', 'd'], dtype='object')\n",
      "index type :  <class 'pandas.core.indexes.base.Index'>\n"
     ]
    }
   ],
   "source": [
    "price_series = pd.Series([4000, 3000, 3500, 2000],\n",
    "                         index = ['a', 'b', 'c', 'd'])\n",
    "seriesInfo(price_series)"
   ]
  },
  {
   "cell_type": "code",
   "execution_count": 104,
   "metadata": {},
   "outputs": [],
   "source": [
    "price_series['a'] = 5000"
   ]
  },
  {
   "cell_type": "code",
   "execution_count": 105,
   "metadata": {},
   "outputs": [
    {
     "name": "stdout",
     "output_type": "stream",
     "text": [
      "index + value : \n",
      " a    5000\n",
      "b    3000\n",
      "c    3500\n",
      "d    2000\n",
      "dtype: int64\n",
      "value :  [5000 3000 3500 2000]\n",
      "value type :  <class 'numpy.ndarray'>\n",
      "index :  Index(['a', 'b', 'c', 'd'], dtype='object')\n",
      "index type :  <class 'pandas.core.indexes.base.Index'>\n"
     ]
    }
   ],
   "source": [
    "seriesInfo(price_series)"
   ]
  },
  {
   "cell_type": "code",
   "execution_count": 106,
   "metadata": {},
   "outputs": [
    {
     "name": "stdout",
     "output_type": "stream",
     "text": [
      "index + value : \n",
      " a    6000\n",
      "b    3000\n",
      "c    3500\n",
      "d    2000\n",
      "dtype: int64\n",
      "value :  [6000 3000 3500 2000]\n",
      "value type :  <class 'numpy.ndarray'>\n",
      "index :  Index(['a', 'b', 'c', 'd'], dtype='object')\n",
      "index type :  <class 'pandas.core.indexes.base.Index'>\n"
     ]
    }
   ],
   "source": [
    "price_series[0] = 6000\n",
    "seriesInfo(price_series)"
   ]
  },
  {
   "cell_type": "code",
   "execution_count": 109,
   "metadata": {},
   "outputs": [
    {
     "name": "stdout",
     "output_type": "stream",
     "text": [
      "index + value : \n",
      " a    6000\n",
      "b    3000\n",
      "c    3500\n",
      "d    2000\n",
      "e    1000\n",
      "dtype: int64\n",
      "value :  [6000 3000 3500 2000 1000]\n",
      "value type :  <class 'numpy.ndarray'>\n",
      "index :  Index(['a', 'b', 'c', 'd', 'e'], dtype='object')\n",
      "index type :  <class 'pandas.core.indexes.base.Index'>\n"
     ]
    }
   ],
   "source": [
    "price_series['e'] = 1000\n",
    "seriesInfo(price_series)"
   ]
  },
  {
   "cell_type": "code",
   "execution_count": 110,
   "metadata": {},
   "outputs": [
    {
     "name": "stdout",
     "output_type": "stream",
     "text": [
      "index + value : \n",
      " a    6000\n",
      "b    3000\n",
      "c    3500\n",
      "d    2000\n",
      "dtype: int64\n",
      "value :  [6000 3000 3500 2000]\n",
      "value type :  <class 'numpy.ndarray'>\n",
      "index :  Index(['a', 'b', 'c', 'd'], dtype='object')\n",
      "index type :  <class 'pandas.core.indexes.base.Index'>\n"
     ]
    }
   ],
   "source": [
    "del price_series['e']\n",
    "seriesInfo(price_series)"
   ]
  },
  {
   "cell_type": "code",
   "execution_count": 112,
   "metadata": {},
   "outputs": [
    {
     "name": "stdout",
     "output_type": "stream",
     "text": [
      "index + value : \n",
      " a    6000.0\n",
      "b    3000.0\n",
      "c    3500.0\n",
      "d    2000.0\n",
      "e       NaN\n",
      "dtype: float64\n",
      "value :  [6000. 3000. 3500. 2000.   nan]\n",
      "value type :  <class 'numpy.ndarray'>\n",
      "index :  Index(['a', 'b', 'c', 'd', 'e'], dtype='object')\n",
      "index type :  <class 'pandas.core.indexes.base.Index'>\n"
     ]
    }
   ],
   "source": [
    "price_series['e'] = np.NaN\n",
    "seriesInfo(price_series)"
   ]
  },
  {
   "cell_type": "code",
   "execution_count": 113,
   "metadata": {},
   "outputs": [
    {
     "data": {
      "text/plain": [
       "a    False\n",
       "b    False\n",
       "c    False\n",
       "d    False\n",
       "e     True\n",
       "dtype: bool"
      ]
     },
     "execution_count": 113,
     "metadata": {},
     "output_type": "execute_result"
    }
   ],
   "source": [
    "pd.isnull(price_series)"
   ]
  },
  {
   "cell_type": "code",
   "execution_count": 114,
   "metadata": {},
   "outputs": [],
   "source": [
    "ser01 = pd.Series([100, 200, 300, 400],\n",
    "                  index=['a', 'o' , 'k' , 'm'])\n",
    "\n",
    "ser02 = pd.Series([500, 600, 700, 800],\n",
    "                  index=['o', 'a' , 'h' , 'm'])\n"
   ]
  },
  {
   "cell_type": "code",
   "execution_count": 119,
   "metadata": {},
   "outputs": [
    {
     "name": "stdout",
     "output_type": "stream",
     "text": [
      "index + value : \n",
      " a     700.0\n",
      "h       NaN\n",
      "k       NaN\n",
      "m    1200.0\n",
      "o     700.0\n",
      "dtype: float64\n",
      "value :  [ 700.   nan   nan 1200.  700.]\n",
      "value type :  <class 'numpy.ndarray'>\n",
      "index :  Index(['a', 'h', 'k', 'm', 'o'], dtype='object')\n",
      "index type :  <class 'pandas.core.indexes.base.Index'>\n"
     ]
    }
   ],
   "source": [
    "ser03 = ser01 + ser02 \n",
    "seriesInfo(ser03)"
   ]
  },
  {
   "cell_type": "code",
   "execution_count": 120,
   "metadata": {},
   "outputs": [
    {
     "name": "stdout",
     "output_type": "stream",
     "text": [
      "index + value : \n",
      " a     700.0\n",
      "h     700.0\n",
      "k     300.0\n",
      "m    1200.0\n",
      "o     700.0\n",
      "dtype: float64\n",
      "value :  [ 700.  700.  300. 1200.  700.]\n",
      "value type :  <class 'numpy.ndarray'>\n",
      "index :  Index(['a', 'h', 'k', 'm', 'o'], dtype='object')\n",
      "index type :  <class 'pandas.core.indexes.base.Index'>\n"
     ]
    }
   ],
   "source": [
    "ser04 = ser01.add(ser02 , fill_value=0) \n",
    "seriesInfo(ser04)"
   ]
  },
  {
   "cell_type": "code",
   "execution_count": 122,
   "metadata": {},
   "outputs": [
    {
     "name": "stdout",
     "output_type": "stream",
     "text": [
      "index + value : \n",
      " a     700.000000\n",
      "h     866.666667\n",
      "k     866.666667\n",
      "m    1200.000000\n",
      "o     700.000000\n",
      "dtype: float64\n",
      "value :  [ 700.          866.66666667  866.66666667 1200.          700.        ]\n",
      "value type :  <class 'numpy.ndarray'>\n",
      "index :  Index(['a', 'h', 'k', 'm', 'o'], dtype='object')\n",
      "index type :  <class 'pandas.core.indexes.base.Index'>\n"
     ]
    }
   ],
   "source": [
    "zser = ser03.fillna(ser03.mean())\n",
    "seriesInfo(zser)"
   ]
  },
  {
   "cell_type": "code",
   "execution_count": 125,
   "metadata": {},
   "outputs": [
    {
     "data": {
      "text/plain": [
       "a     True\n",
       "h    False\n",
       "k    False\n",
       "m     True\n",
       "o     True\n",
       "dtype: bool"
      ]
     },
     "execution_count": 125,
     "metadata": {},
     "output_type": "execute_result"
    }
   ],
   "source": [
    "# pd.isnull(ser03)\n",
    "pd.notnull(ser03)"
   ]
  },
  {
   "cell_type": "code",
   "execution_count": 126,
   "metadata": {},
   "outputs": [
    {
     "name": "stdout",
     "output_type": "stream",
     "text": [
      "index + value : \n",
      " a     700.0\n",
      "m    1200.0\n",
      "o     700.0\n",
      "dtype: float64\n",
      "value :  [ 700. 1200.  700.]\n",
      "value type :  <class 'numpy.ndarray'>\n",
      "index :  Index(['a', 'm', 'o'], dtype='object')\n",
      "index type :  <class 'pandas.core.indexes.base.Index'>\n"
     ]
    }
   ],
   "source": [
    "subset = ser03[ pd.notnull(ser03)]\n",
    "seriesInfo(subset)"
   ]
  },
  {
   "cell_type": "code",
   "execution_count": 128,
   "metadata": {},
   "outputs": [
    {
     "name": "stdout",
     "output_type": "stream",
     "text": [
      "index + value : \n",
      " a     700.0\n",
      "h     700.0\n",
      "k     300.0\n",
      "m    1200.0\n",
      "o     700.0\n",
      "dtype: float64\n",
      "value :  [ 700.  700.  300. 1200.  700.]\n",
      "value type :  <class 'numpy.ndarray'>\n",
      "index :  Index(['a', 'h', 'k', 'm', 'o'], dtype='object')\n",
      "index type :  <class 'pandas.core.indexes.base.Index'>\n"
     ]
    }
   ],
   "source": [
    "seriesInfo(ser04)"
   ]
  },
  {
   "cell_type": "code",
   "execution_count": 129,
   "metadata": {},
   "outputs": [
    {
     "data": {
      "text/plain": [
       "a    700.0\n",
       "h    700.0\n",
       "dtype: float64"
      ]
     },
     "execution_count": 129,
     "metadata": {},
     "output_type": "execute_result"
    }
   ],
   "source": [
    "ser04[0:2]"
   ]
  },
  {
   "cell_type": "code",
   "execution_count": 130,
   "metadata": {},
   "outputs": [
    {
     "data": {
      "text/plain": [
       "a    700.0\n",
       "h    700.0\n",
       "dtype: float64"
      ]
     },
     "execution_count": 130,
     "metadata": {},
     "output_type": "execute_result"
    }
   ],
   "source": [
    "ser04[['a','h']]"
   ]
  },
  {
   "cell_type": "code",
   "execution_count": 133,
   "metadata": {},
   "outputs": [
    {
     "data": {
      "text/plain": [
       "a    700.0\n",
       "h    700.0\n",
       "k    300.0\n",
       "dtype: float64"
      ]
     },
     "execution_count": 133,
     "metadata": {},
     "output_type": "execute_result"
    }
   ],
   "source": [
    "ser04['a':'k']"
   ]
  },
  {
   "cell_type": "code",
   "execution_count": 135,
   "metadata": {},
   "outputs": [
    {
     "data": {
      "text/plain": [
       "k    300.0\n",
       "a    700.0\n",
       "dtype: float64"
      ]
     },
     "execution_count": 135,
     "metadata": {},
     "output_type": "execute_result"
    }
   ],
   "source": [
    "ser04[['k','a']]"
   ]
  },
  {
   "cell_type": "code",
   "execution_count": 136,
   "metadata": {},
   "outputs": [
    {
     "data": {
      "text/plain": [
       "m    1200.0\n",
       "h     700.0\n",
       "dtype: float64"
      ]
     },
     "execution_count": 136,
     "metadata": {},
     "output_type": "execute_result"
    }
   ],
   "source": [
    "ser04[[3, 1]]"
   ]
  },
  {
   "cell_type": "code",
   "execution_count": 137,
   "metadata": {},
   "outputs": [
    {
     "name": "stdout",
     "output_type": "stream",
     "text": [
      "index + value : \n",
      " 0    10\n",
      "1    20\n",
      "2    30\n",
      "3    40\n",
      "dtype: int64\n",
      "value :  [10 20 30 40]\n",
      "value type :  <class 'numpy.ndarray'>\n",
      "index :  RangeIndex(start=0, stop=4, step=1)\n",
      "index type :  <class 'pandas.core.indexes.range.RangeIndex'>\n"
     ]
    }
   ],
   "source": [
    "tuple_ser = pd.Series((10,20,30,40))\n",
    "seriesInfo(tuple_ser)"
   ]
  },
  {
   "cell_type": "code",
   "execution_count": 141,
   "metadata": {},
   "outputs": [
    {
     "name": "stdout",
     "output_type": "stream",
     "text": [
      "index + value : \n",
      " 0    40\n",
      "1    10\n",
      "2    20\n",
      "3    30\n",
      "dtype: int64\n",
      "value :  [40 10 20 30]\n",
      "value type :  <class 'numpy.ndarray'>\n",
      "index :  RangeIndex(start=0, stop=4, step=1)\n",
      "index type :  <class 'pandas.core.indexes.range.RangeIndex'>\n"
     ]
    }
   ],
   "source": [
    "set_ser = pd.Series(list({10,20,30,40})) \n",
    "seriesInfo(set_ser)"
   ]
  },
  {
   "cell_type": "markdown",
   "metadata": {},
   "source": [
    "### DataFrame"
   ]
  },
  {
   "cell_type": "code",
   "execution_count": 144,
   "metadata": {},
   "outputs": [],
   "source": [
    "data = { 'name'  : ['서은상' , '이중현' , '최유숙' , '박우환' , '박현수'],\n",
    "         'birth' : [2000, 2001, 2002, 2003, 2004] }\n",
    "userDF = pd.DataFrame(data)"
   ]
  },
  {
   "cell_type": "code",
   "execution_count": 150,
   "metadata": {},
   "outputs": [
    {
     "data": {
      "text/plain": [
       "(5, 2)"
      ]
     },
     "execution_count": 150,
     "metadata": {},
     "output_type": "execute_result"
    }
   ],
   "source": [
    "userDF.shape"
   ]
  },
  {
   "cell_type": "code",
   "execution_count": 151,
   "metadata": {},
   "outputs": [
    {
     "data": {
      "text/plain": [
       "10"
      ]
     },
     "execution_count": 151,
     "metadata": {},
     "output_type": "execute_result"
    }
   ],
   "source": [
    "userDF.size"
   ]
  },
  {
   "cell_type": "code",
   "execution_count": 152,
   "metadata": {},
   "outputs": [
    {
     "data": {
      "text/plain": [
       "2"
      ]
     },
     "execution_count": 152,
     "metadata": {},
     "output_type": "execute_result"
    }
   ],
   "source": [
    "userDF.ndim"
   ]
  },
  {
   "cell_type": "code",
   "execution_count": 153,
   "metadata": {},
   "outputs": [
    {
     "data": {
      "text/plain": [
       "RangeIndex(start=0, stop=5, step=1)"
      ]
     },
     "execution_count": 153,
     "metadata": {},
     "output_type": "execute_result"
    }
   ],
   "source": [
    "userDF.index"
   ]
  },
  {
   "cell_type": "code",
   "execution_count": 156,
   "metadata": {},
   "outputs": [
    {
     "data": {
      "text/plain": [
       "Index(['name', 'birth'], dtype='object')"
      ]
     },
     "execution_count": 156,
     "metadata": {},
     "output_type": "execute_result"
    }
   ],
   "source": [
    "userDF.columns"
   ]
  },
  {
   "cell_type": "code",
   "execution_count": 160,
   "metadata": {},
   "outputs": [
    {
     "name": "stdout",
     "output_type": "stream",
     "text": [
      "[['서은상' 2000]\n",
      " ['이중현' 2001]\n",
      " ['최유숙' 2002]\n",
      " ['박우환' 2003]\n",
      " ['박현수' 2004]]\n",
      "<class 'numpy.ndarray'>\n"
     ]
    }
   ],
   "source": [
    "print( userDF.values)\n",
    "print( type(userDF.values) )"
   ]
  },
  {
   "cell_type": "code",
   "execution_count": 155,
   "metadata": {},
   "outputs": [],
   "source": [
    "def frameInfo(df) :\n",
    "    print('shape : {}'.format(df.shape))\n",
    "    print('size  : {}'.format(df.size))\n",
    "    print('ndim  : {}'.format(df.ndim))\n",
    "    print('index : {}'.format(df.index))\n",
    "    print('index type : {}'.format( type(df.index) ))\n",
    "    print('columns : {}'.format(df.columns))\n",
    "    print('columns type : {}'.format( type( df.columns) ))\n",
    "    "
   ]
  },
  {
   "cell_type": "code",
   "execution_count": 173,
   "metadata": {},
   "outputs": [],
   "source": [
    "data = {\n",
    "    \"2021\" : [9910293, 8384050, 2938485, 1203948],\n",
    "    \"2018\" : [8910293, 7384050, 5938485, 3203948],\n",
    "    \"2016\" : [7910293, 5384050, 7938485, 6203948],\n",
    "    \"2014\" : [5910293, 3384050, 4938485, 4203948],\n",
    "    \"지역\" : ['수도권' , '경상권' , '수도권' , '경상권'],\n",
    "    \"증가율\" : [0.2343 , 0.0434 , 0.0944 , 0.0034]\n",
    "}\n",
    "columns = [\"지역\" , \"2014\" , \"2016\" , \"2018\" , \"2021\" , \"증가율\"]\n",
    "\n",
    "popDF = pd.DataFrame(data , \n",
    "                     index = ['서울' , '부산' , '경기' , '대구'] ,\n",
    "                     columns = columns)"
   ]
  },
  {
   "cell_type": "code",
   "execution_count": 175,
   "metadata": {},
   "outputs": [
    {
     "name": "stdout",
     "output_type": "stream",
     "text": [
      "shape : (4, 6)\n",
      "size  : 24\n",
      "ndim  : 2\n",
      "index : Index(['서울', '부산', '경기', '대구'], dtype='object')\n",
      "index type : <class 'pandas.core.indexes.base.Index'>\n",
      "columns : Index(['지역', '2014', '2016', '2018', '2021', '증가율'], dtype='object')\n",
      "columns type : <class 'pandas.core.indexes.base.Index'>\n"
     ]
    }
   ],
   "source": [
    "frameInfo(popDF)"
   ]
  },
  {
   "cell_type": "code",
   "execution_count": 176,
   "metadata": {},
   "outputs": [
    {
     "data": {
      "text/plain": [
       "Index(['서울', '부산', '경기', '대구'], dtype='object')"
      ]
     },
     "execution_count": 176,
     "metadata": {},
     "output_type": "execute_result"
    }
   ],
   "source": [
    "popDF.index"
   ]
  },
  {
   "cell_type": "code",
   "execution_count": 177,
   "metadata": {},
   "outputs": [
    {
     "data": {
      "text/plain": [
       "Index(['지역', '2014', '2016', '2018', '2021', '증가율'], dtype='object')"
      ]
     },
     "execution_count": 177,
     "metadata": {},
     "output_type": "execute_result"
    }
   ],
   "source": [
    "popDF.columns"
   ]
  },
  {
   "cell_type": "code",
   "execution_count": 178,
   "metadata": {},
   "outputs": [
    {
     "data": {
      "text/html": [
       "<div>\n",
       "<style scoped>\n",
       "    .dataframe tbody tr th:only-of-type {\n",
       "        vertical-align: middle;\n",
       "    }\n",
       "\n",
       "    .dataframe tbody tr th {\n",
       "        vertical-align: top;\n",
       "    }\n",
       "\n",
       "    .dataframe thead th {\n",
       "        text-align: right;\n",
       "    }\n",
       "</style>\n",
       "<table border=\"1\" class=\"dataframe\">\n",
       "  <thead>\n",
       "    <tr style=\"text-align: right;\">\n",
       "      <th></th>\n",
       "      <th>지역</th>\n",
       "      <th>2014</th>\n",
       "      <th>2016</th>\n",
       "      <th>2018</th>\n",
       "      <th>2021</th>\n",
       "      <th>증가율</th>\n",
       "    </tr>\n",
       "  </thead>\n",
       "  <tbody>\n",
       "    <tr>\n",
       "      <th>서울</th>\n",
       "      <td>수도권</td>\n",
       "      <td>5910293</td>\n",
       "      <td>7910293</td>\n",
       "      <td>8910293</td>\n",
       "      <td>9910293</td>\n",
       "      <td>0.2343</td>\n",
       "    </tr>\n",
       "    <tr>\n",
       "      <th>부산</th>\n",
       "      <td>경상권</td>\n",
       "      <td>3384050</td>\n",
       "      <td>5384050</td>\n",
       "      <td>7384050</td>\n",
       "      <td>8384050</td>\n",
       "      <td>0.0434</td>\n",
       "    </tr>\n",
       "    <tr>\n",
       "      <th>경기</th>\n",
       "      <td>수도권</td>\n",
       "      <td>4938485</td>\n",
       "      <td>7938485</td>\n",
       "      <td>5938485</td>\n",
       "      <td>2938485</td>\n",
       "      <td>0.0944</td>\n",
       "    </tr>\n",
       "    <tr>\n",
       "      <th>대구</th>\n",
       "      <td>경상권</td>\n",
       "      <td>4203948</td>\n",
       "      <td>6203948</td>\n",
       "      <td>3203948</td>\n",
       "      <td>1203948</td>\n",
       "      <td>0.0034</td>\n",
       "    </tr>\n",
       "  </tbody>\n",
       "</table>\n",
       "</div>"
      ],
      "text/plain": [
       "     지역     2014     2016     2018     2021     증가율\n",
       "서울  수도권  5910293  7910293  8910293  9910293  0.2343\n",
       "부산  경상권  3384050  5384050  7384050  8384050  0.0434\n",
       "경기  수도권  4938485  7938485  5938485  2938485  0.0944\n",
       "대구  경상권  4203948  6203948  3203948  1203948  0.0034"
      ]
     },
     "execution_count": 178,
     "metadata": {},
     "output_type": "execute_result"
    }
   ],
   "source": [
    "popDF"
   ]
  },
  {
   "cell_type": "code",
   "execution_count": 179,
   "metadata": {},
   "outputs": [],
   "source": [
    "popDF.index.name   = 'city'\n",
    "popDF.columns.name = 'feature' "
   ]
  },
  {
   "cell_type": "code",
   "execution_count": 181,
   "metadata": {},
   "outputs": [
    {
     "data": {
      "text/html": [
       "<div>\n",
       "<style scoped>\n",
       "    .dataframe tbody tr th:only-of-type {\n",
       "        vertical-align: middle;\n",
       "    }\n",
       "\n",
       "    .dataframe tbody tr th {\n",
       "        vertical-align: top;\n",
       "    }\n",
       "\n",
       "    .dataframe thead th {\n",
       "        text-align: right;\n",
       "    }\n",
       "</style>\n",
       "<table border=\"1\" class=\"dataframe\">\n",
       "  <thead>\n",
       "    <tr style=\"text-align: right;\">\n",
       "      <th>city</th>\n",
       "      <th>서울</th>\n",
       "      <th>부산</th>\n",
       "      <th>경기</th>\n",
       "      <th>대구</th>\n",
       "    </tr>\n",
       "    <tr>\n",
       "      <th>feature</th>\n",
       "      <th></th>\n",
       "      <th></th>\n",
       "      <th></th>\n",
       "      <th></th>\n",
       "    </tr>\n",
       "  </thead>\n",
       "  <tbody>\n",
       "    <tr>\n",
       "      <th>지역</th>\n",
       "      <td>수도권</td>\n",
       "      <td>경상권</td>\n",
       "      <td>수도권</td>\n",
       "      <td>경상권</td>\n",
       "    </tr>\n",
       "    <tr>\n",
       "      <th>2014</th>\n",
       "      <td>5910293</td>\n",
       "      <td>3384050</td>\n",
       "      <td>4938485</td>\n",
       "      <td>4203948</td>\n",
       "    </tr>\n",
       "    <tr>\n",
       "      <th>2016</th>\n",
       "      <td>7910293</td>\n",
       "      <td>5384050</td>\n",
       "      <td>7938485</td>\n",
       "      <td>6203948</td>\n",
       "    </tr>\n",
       "    <tr>\n",
       "      <th>2018</th>\n",
       "      <td>8910293</td>\n",
       "      <td>7384050</td>\n",
       "      <td>5938485</td>\n",
       "      <td>3203948</td>\n",
       "    </tr>\n",
       "    <tr>\n",
       "      <th>2021</th>\n",
       "      <td>9910293</td>\n",
       "      <td>8384050</td>\n",
       "      <td>2938485</td>\n",
       "      <td>1203948</td>\n",
       "    </tr>\n",
       "    <tr>\n",
       "      <th>증가율</th>\n",
       "      <td>0.2343</td>\n",
       "      <td>0.0434</td>\n",
       "      <td>0.0944</td>\n",
       "      <td>0.0034</td>\n",
       "    </tr>\n",
       "  </tbody>\n",
       "</table>\n",
       "</div>"
      ],
      "text/plain": [
       "city          서울       부산       경기       대구\n",
       "feature                                    \n",
       "지역           수도권      경상권      수도권      경상권\n",
       "2014     5910293  3384050  4938485  4203948\n",
       "2016     7910293  5384050  7938485  6203948\n",
       "2018     8910293  7384050  5938485  3203948\n",
       "2021     9910293  8384050  2938485  1203948\n",
       "증가율       0.2343   0.0434   0.0944   0.0034"
      ]
     },
     "execution_count": 181,
     "metadata": {},
     "output_type": "execute_result"
    }
   ],
   "source": [
    "popDF.T"
   ]
  },
  {
   "cell_type": "markdown",
   "metadata": {},
   "source": [
    "### 여러분 스스로 다음 조건을 만족하는 임의의 데이터프레임을 만들어보자\n",
    "- 열의 갯수와 행의 갯수가 각각 5개 이상이여야 한다.\n",
    "- 열에는 정수, 문자열, 실수, 날짜 데이터가 각각 1개 이상 포함되어야 한다."
   ]
  },
  {
   "cell_type": "code",
   "execution_count": 183,
   "metadata": {},
   "outputs": [],
   "source": [
    "from datetime import date, datetime, timedelta\n",
    "from dateutil.parser import parse"
   ]
  },
  {
   "cell_type": "code",
   "execution_count": 184,
   "metadata": {},
   "outputs": [
    {
     "data": {
      "text/plain": [
       "array([52, 94, 43, 24,  7, 30, 84,  4, 18, 66])"
      ]
     },
     "execution_count": 184,
     "metadata": {},
     "output_type": "execute_result"
    }
   ],
   "source": [
    "# 정수 컬럼\n",
    "random_int = np.random.randint(1, 100, 10)\n",
    "random_int"
   ]
  },
  {
   "cell_type": "code",
   "execution_count": 187,
   "metadata": {},
   "outputs": [
    {
     "data": {
      "text/plain": [
       "array([-1.97646026, -0.43122012,  0.21341681, -0.02449638, -1.24274322,\n",
       "        0.88410056,  0.48366842,  0.68765338,  0.83293808, -1.14969193])"
      ]
     },
     "execution_count": 187,
     "metadata": {},
     "output_type": "execute_result"
    }
   ],
   "source": [
    "# 실수 컬럼(표준정규분포)\n",
    "random_gaussian = np.random.randn(10)\n",
    "random_gaussian"
   ]
  },
  {
   "cell_type": "code",
   "execution_count": 188,
   "metadata": {},
   "outputs": [
    {
     "data": {
      "text/plain": [
       "array([0.81562823, 0.70928975, 0.39213024, 0.98825366, 0.99373598,\n",
       "       0.6898727 , 0.59196374, 0.36392647, 0.70672008, 0.83010078])"
      ]
     },
     "execution_count": 188,
     "metadata": {},
     "output_type": "execute_result"
    }
   ],
   "source": [
    "# 실수 컬럼\n",
    "random_uniform = np.random.rand(10)\n",
    "random_uniform"
   ]
  },
  {
   "cell_type": "code",
   "execution_count": 189,
   "metadata": {},
   "outputs": [
    {
     "data": {
      "text/plain": [
       "[datetime.datetime(2021, 2, 25, 0, 0),\n",
       " datetime.datetime(2021, 2, 26, 0, 0),\n",
       " datetime.datetime(2021, 2, 27, 0, 0),\n",
       " datetime.datetime(2021, 2, 28, 0, 0),\n",
       " datetime.datetime(2021, 3, 1, 0, 0),\n",
       " datetime.datetime(2021, 3, 2, 0, 0),\n",
       " datetime.datetime(2021, 3, 3, 0, 0),\n",
       " datetime.datetime(2021, 3, 4, 0, 0),\n",
       " datetime.datetime(2021, 3, 5, 0, 0),\n",
       " datetime.datetime(2021, 3, 6, 0, 0)]"
      ]
     },
     "execution_count": 189,
     "metadata": {},
     "output_type": "execute_result"
    }
   ],
   "source": [
    "# 날짜 컬럼\n",
    "startDay = datetime(2021, 2, 25)\n",
    "years = [ startDay + timedelta(day) for day in range(0, 10)]\n",
    "years"
   ]
  },
  {
   "cell_type": "code",
   "execution_count": 190,
   "metadata": {},
   "outputs": [
    {
     "data": {
      "text/plain": [
       "['배부르다', '뭐먹지', '메뉴', '추천', '치킨', '오메가', '케바케', '알로에', '홍삼', '여사친']"
      ]
     },
     "execution_count": 190,
     "metadata": {},
     "output_type": "execute_result"
    }
   ],
   "source": [
    "# 문자 컬럼\n",
    "moonja = ['배부르다', '뭐먹지' , '메뉴', '추천', '치킨', '오메가', '케바케' , '알로에' , '홍삼' , '여사친']\n",
    "moonja"
   ]
  },
  {
   "cell_type": "code",
   "execution_count": 191,
   "metadata": {},
   "outputs": [],
   "source": [
    "data = {\n",
    "    '정수'   : random_int,\n",
    "    '실수01' : random_gaussian,\n",
    "    '실수02' : random_uniform,\n",
    "    '문자'   : moonja,\n",
    "    '날짜'   : years\n",
    "}\n",
    "\n",
    "testDF = pd.DataFrame(data)"
   ]
  },
  {
   "cell_type": "code",
   "execution_count": 192,
   "metadata": {},
   "outputs": [
    {
     "data": {
      "text/html": [
       "<div>\n",
       "<style scoped>\n",
       "    .dataframe tbody tr th:only-of-type {\n",
       "        vertical-align: middle;\n",
       "    }\n",
       "\n",
       "    .dataframe tbody tr th {\n",
       "        vertical-align: top;\n",
       "    }\n",
       "\n",
       "    .dataframe thead th {\n",
       "        text-align: right;\n",
       "    }\n",
       "</style>\n",
       "<table border=\"1\" class=\"dataframe\">\n",
       "  <thead>\n",
       "    <tr style=\"text-align: right;\">\n",
       "      <th></th>\n",
       "      <th>정수</th>\n",
       "      <th>실수01</th>\n",
       "      <th>실수02</th>\n",
       "      <th>문자</th>\n",
       "      <th>날짜</th>\n",
       "    </tr>\n",
       "  </thead>\n",
       "  <tbody>\n",
       "    <tr>\n",
       "      <th>0</th>\n",
       "      <td>52</td>\n",
       "      <td>-1.976460</td>\n",
       "      <td>0.815628</td>\n",
       "      <td>배부르다</td>\n",
       "      <td>2021-02-25</td>\n",
       "    </tr>\n",
       "    <tr>\n",
       "      <th>1</th>\n",
       "      <td>94</td>\n",
       "      <td>-0.431220</td>\n",
       "      <td>0.709290</td>\n",
       "      <td>뭐먹지</td>\n",
       "      <td>2021-02-26</td>\n",
       "    </tr>\n",
       "    <tr>\n",
       "      <th>2</th>\n",
       "      <td>43</td>\n",
       "      <td>0.213417</td>\n",
       "      <td>0.392130</td>\n",
       "      <td>메뉴</td>\n",
       "      <td>2021-02-27</td>\n",
       "    </tr>\n",
       "    <tr>\n",
       "      <th>3</th>\n",
       "      <td>24</td>\n",
       "      <td>-0.024496</td>\n",
       "      <td>0.988254</td>\n",
       "      <td>추천</td>\n",
       "      <td>2021-02-28</td>\n",
       "    </tr>\n",
       "    <tr>\n",
       "      <th>4</th>\n",
       "      <td>7</td>\n",
       "      <td>-1.242743</td>\n",
       "      <td>0.993736</td>\n",
       "      <td>치킨</td>\n",
       "      <td>2021-03-01</td>\n",
       "    </tr>\n",
       "    <tr>\n",
       "      <th>5</th>\n",
       "      <td>30</td>\n",
       "      <td>0.884101</td>\n",
       "      <td>0.689873</td>\n",
       "      <td>오메가</td>\n",
       "      <td>2021-03-02</td>\n",
       "    </tr>\n",
       "    <tr>\n",
       "      <th>6</th>\n",
       "      <td>84</td>\n",
       "      <td>0.483668</td>\n",
       "      <td>0.591964</td>\n",
       "      <td>케바케</td>\n",
       "      <td>2021-03-03</td>\n",
       "    </tr>\n",
       "    <tr>\n",
       "      <th>7</th>\n",
       "      <td>4</td>\n",
       "      <td>0.687653</td>\n",
       "      <td>0.363926</td>\n",
       "      <td>알로에</td>\n",
       "      <td>2021-03-04</td>\n",
       "    </tr>\n",
       "    <tr>\n",
       "      <th>8</th>\n",
       "      <td>18</td>\n",
       "      <td>0.832938</td>\n",
       "      <td>0.706720</td>\n",
       "      <td>홍삼</td>\n",
       "      <td>2021-03-05</td>\n",
       "    </tr>\n",
       "    <tr>\n",
       "      <th>9</th>\n",
       "      <td>66</td>\n",
       "      <td>-1.149692</td>\n",
       "      <td>0.830101</td>\n",
       "      <td>여사친</td>\n",
       "      <td>2021-03-06</td>\n",
       "    </tr>\n",
       "  </tbody>\n",
       "</table>\n",
       "</div>"
      ],
      "text/plain": [
       "   정수      실수01      실수02    문자         날짜\n",
       "0  52 -1.976460  0.815628  배부르다 2021-02-25\n",
       "1  94 -0.431220  0.709290   뭐먹지 2021-02-26\n",
       "2  43  0.213417  0.392130    메뉴 2021-02-27\n",
       "3  24 -0.024496  0.988254    추천 2021-02-28\n",
       "4   7 -1.242743  0.993736    치킨 2021-03-01\n",
       "5  30  0.884101  0.689873   오메가 2021-03-02\n",
       "6  84  0.483668  0.591964   케바케 2021-03-03\n",
       "7   4  0.687653  0.363926   알로에 2021-03-04\n",
       "8  18  0.832938  0.706720    홍삼 2021-03-05\n",
       "9  66 -1.149692  0.830101   여사친 2021-03-06"
      ]
     },
     "execution_count": 192,
     "metadata": {},
     "output_type": "execute_result"
    }
   ],
   "source": [
    "testDF"
   ]
  },
  {
   "cell_type": "code",
   "execution_count": 193,
   "metadata": {},
   "outputs": [
    {
     "data": {
      "text/html": [
       "<div>\n",
       "<style scoped>\n",
       "    .dataframe tbody tr th:only-of-type {\n",
       "        vertical-align: middle;\n",
       "    }\n",
       "\n",
       "    .dataframe tbody tr th {\n",
       "        vertical-align: top;\n",
       "    }\n",
       "\n",
       "    .dataframe thead th {\n",
       "        text-align: right;\n",
       "    }\n",
       "</style>\n",
       "<table border=\"1\" class=\"dataframe\">\n",
       "  <thead>\n",
       "    <tr style=\"text-align: right;\">\n",
       "      <th>feature</th>\n",
       "      <th>지역</th>\n",
       "      <th>2014</th>\n",
       "      <th>2016</th>\n",
       "      <th>2018</th>\n",
       "      <th>2021</th>\n",
       "      <th>증가율</th>\n",
       "    </tr>\n",
       "    <tr>\n",
       "      <th>city</th>\n",
       "      <th></th>\n",
       "      <th></th>\n",
       "      <th></th>\n",
       "      <th></th>\n",
       "      <th></th>\n",
       "      <th></th>\n",
       "    </tr>\n",
       "  </thead>\n",
       "  <tbody>\n",
       "    <tr>\n",
       "      <th>서울</th>\n",
       "      <td>수도권</td>\n",
       "      <td>5910293</td>\n",
       "      <td>7910293</td>\n",
       "      <td>8910293</td>\n",
       "      <td>9910293</td>\n",
       "      <td>0.2343</td>\n",
       "    </tr>\n",
       "    <tr>\n",
       "      <th>부산</th>\n",
       "      <td>경상권</td>\n",
       "      <td>3384050</td>\n",
       "      <td>5384050</td>\n",
       "      <td>7384050</td>\n",
       "      <td>8384050</td>\n",
       "      <td>0.0434</td>\n",
       "    </tr>\n",
       "    <tr>\n",
       "      <th>경기</th>\n",
       "      <td>수도권</td>\n",
       "      <td>4938485</td>\n",
       "      <td>7938485</td>\n",
       "      <td>5938485</td>\n",
       "      <td>2938485</td>\n",
       "      <td>0.0944</td>\n",
       "    </tr>\n",
       "    <tr>\n",
       "      <th>대구</th>\n",
       "      <td>경상권</td>\n",
       "      <td>4203948</td>\n",
       "      <td>6203948</td>\n",
       "      <td>3203948</td>\n",
       "      <td>1203948</td>\n",
       "      <td>0.0034</td>\n",
       "    </tr>\n",
       "  </tbody>\n",
       "</table>\n",
       "</div>"
      ],
      "text/plain": [
       "feature   지역     2014     2016     2018     2021     증가율\n",
       "city                                                    \n",
       "서울       수도권  5910293  7910293  8910293  9910293  0.2343\n",
       "부산       경상권  3384050  5384050  7384050  8384050  0.0434\n",
       "경기       수도권  4938485  7938485  5938485  2938485  0.0944\n",
       "대구       경상권  4203948  6203948  3203948  1203948  0.0034"
      ]
     },
     "execution_count": 193,
     "metadata": {},
     "output_type": "execute_result"
    }
   ],
   "source": [
    "popDF"
   ]
  },
  {
   "cell_type": "code",
   "execution_count": 203,
   "metadata": {},
   "outputs": [],
   "source": [
    "# 새로운 컬럼(피처) 추가\n",
    "popDF['2014-2016증가율']  =  ( (popDF['2016'] - popDF['2014']) / popDF['2014'] * 100 ).round(2)"
   ]
  },
  {
   "cell_type": "code",
   "execution_count": 204,
   "metadata": {},
   "outputs": [
    {
     "data": {
      "text/html": [
       "<div>\n",
       "<style scoped>\n",
       "    .dataframe tbody tr th:only-of-type {\n",
       "        vertical-align: middle;\n",
       "    }\n",
       "\n",
       "    .dataframe tbody tr th {\n",
       "        vertical-align: top;\n",
       "    }\n",
       "\n",
       "    .dataframe thead th {\n",
       "        text-align: right;\n",
       "    }\n",
       "</style>\n",
       "<table border=\"1\" class=\"dataframe\">\n",
       "  <thead>\n",
       "    <tr style=\"text-align: right;\">\n",
       "      <th>feature</th>\n",
       "      <th>지역</th>\n",
       "      <th>2014</th>\n",
       "      <th>2016</th>\n",
       "      <th>2018</th>\n",
       "      <th>2021</th>\n",
       "      <th>증가율</th>\n",
       "      <th>2014-2016증가율</th>\n",
       "    </tr>\n",
       "    <tr>\n",
       "      <th>city</th>\n",
       "      <th></th>\n",
       "      <th></th>\n",
       "      <th></th>\n",
       "      <th></th>\n",
       "      <th></th>\n",
       "      <th></th>\n",
       "      <th></th>\n",
       "    </tr>\n",
       "  </thead>\n",
       "  <tbody>\n",
       "    <tr>\n",
       "      <th>서울</th>\n",
       "      <td>수도권</td>\n",
       "      <td>5910293</td>\n",
       "      <td>7910293</td>\n",
       "      <td>8910293</td>\n",
       "      <td>9910293</td>\n",
       "      <td>0.2343</td>\n",
       "      <td>33.84</td>\n",
       "    </tr>\n",
       "    <tr>\n",
       "      <th>부산</th>\n",
       "      <td>경상권</td>\n",
       "      <td>3384050</td>\n",
       "      <td>5384050</td>\n",
       "      <td>7384050</td>\n",
       "      <td>8384050</td>\n",
       "      <td>0.0434</td>\n",
       "      <td>59.10</td>\n",
       "    </tr>\n",
       "    <tr>\n",
       "      <th>경기</th>\n",
       "      <td>수도권</td>\n",
       "      <td>4938485</td>\n",
       "      <td>7938485</td>\n",
       "      <td>5938485</td>\n",
       "      <td>2938485</td>\n",
       "      <td>0.0944</td>\n",
       "      <td>60.75</td>\n",
       "    </tr>\n",
       "    <tr>\n",
       "      <th>대구</th>\n",
       "      <td>경상권</td>\n",
       "      <td>4203948</td>\n",
       "      <td>6203948</td>\n",
       "      <td>3203948</td>\n",
       "      <td>1203948</td>\n",
       "      <td>0.0034</td>\n",
       "      <td>47.57</td>\n",
       "    </tr>\n",
       "  </tbody>\n",
       "</table>\n",
       "</div>"
      ],
      "text/plain": [
       "feature   지역     2014     2016     2018     2021     증가율  2014-2016증가율\n",
       "city                                                                  \n",
       "서울       수도권  5910293  7910293  8910293  9910293  0.2343         33.84\n",
       "부산       경상권  3384050  5384050  7384050  8384050  0.0434         59.10\n",
       "경기       수도권  4938485  7938485  5938485  2938485  0.0944         60.75\n",
       "대구       경상권  4203948  6203948  3203948  1203948  0.0034         47.57"
      ]
     },
     "execution_count": 204,
     "metadata": {},
     "output_type": "execute_result"
    }
   ],
   "source": [
    "popDF"
   ]
  },
  {
   "cell_type": "code",
   "execution_count": 205,
   "metadata": {},
   "outputs": [],
   "source": [
    "# 컬럼 삭제\n",
    "del popDF['2014-2016증가율']"
   ]
  },
  {
   "cell_type": "code",
   "execution_count": 206,
   "metadata": {},
   "outputs": [
    {
     "data": {
      "text/html": [
       "<div>\n",
       "<style scoped>\n",
       "    .dataframe tbody tr th:only-of-type {\n",
       "        vertical-align: middle;\n",
       "    }\n",
       "\n",
       "    .dataframe tbody tr th {\n",
       "        vertical-align: top;\n",
       "    }\n",
       "\n",
       "    .dataframe thead th {\n",
       "        text-align: right;\n",
       "    }\n",
       "</style>\n",
       "<table border=\"1\" class=\"dataframe\">\n",
       "  <thead>\n",
       "    <tr style=\"text-align: right;\">\n",
       "      <th>feature</th>\n",
       "      <th>지역</th>\n",
       "      <th>2014</th>\n",
       "      <th>2016</th>\n",
       "      <th>2018</th>\n",
       "      <th>2021</th>\n",
       "      <th>증가율</th>\n",
       "    </tr>\n",
       "    <tr>\n",
       "      <th>city</th>\n",
       "      <th></th>\n",
       "      <th></th>\n",
       "      <th></th>\n",
       "      <th></th>\n",
       "      <th></th>\n",
       "      <th></th>\n",
       "    </tr>\n",
       "  </thead>\n",
       "  <tbody>\n",
       "    <tr>\n",
       "      <th>서울</th>\n",
       "      <td>수도권</td>\n",
       "      <td>5910293</td>\n",
       "      <td>7910293</td>\n",
       "      <td>8910293</td>\n",
       "      <td>9910293</td>\n",
       "      <td>0.2343</td>\n",
       "    </tr>\n",
       "    <tr>\n",
       "      <th>부산</th>\n",
       "      <td>경상권</td>\n",
       "      <td>3384050</td>\n",
       "      <td>5384050</td>\n",
       "      <td>7384050</td>\n",
       "      <td>8384050</td>\n",
       "      <td>0.0434</td>\n",
       "    </tr>\n",
       "    <tr>\n",
       "      <th>경기</th>\n",
       "      <td>수도권</td>\n",
       "      <td>4938485</td>\n",
       "      <td>7938485</td>\n",
       "      <td>5938485</td>\n",
       "      <td>2938485</td>\n",
       "      <td>0.0944</td>\n",
       "    </tr>\n",
       "    <tr>\n",
       "      <th>대구</th>\n",
       "      <td>경상권</td>\n",
       "      <td>4203948</td>\n",
       "      <td>6203948</td>\n",
       "      <td>3203948</td>\n",
       "      <td>1203948</td>\n",
       "      <td>0.0034</td>\n",
       "    </tr>\n",
       "  </tbody>\n",
       "</table>\n",
       "</div>"
      ],
      "text/plain": [
       "feature   지역     2014     2016     2018     2021     증가율\n",
       "city                                                    \n",
       "서울       수도권  5910293  7910293  8910293  9910293  0.2343\n",
       "부산       경상권  3384050  5384050  7384050  8384050  0.0434\n",
       "경기       수도권  4938485  7938485  5938485  2938485  0.0944\n",
       "대구       경상권  4203948  6203948  3203948  1203948  0.0034"
      ]
     },
     "execution_count": 206,
     "metadata": {},
     "output_type": "execute_result"
    }
   ],
   "source": [
    "popDF"
   ]
  },
  {
   "cell_type": "code",
   "execution_count": 213,
   "metadata": {},
   "outputs": [
    {
     "data": {
      "text/html": [
       "<div>\n",
       "<style scoped>\n",
       "    .dataframe tbody tr th:only-of-type {\n",
       "        vertical-align: middle;\n",
       "    }\n",
       "\n",
       "    .dataframe tbody tr th {\n",
       "        vertical-align: top;\n",
       "    }\n",
       "\n",
       "    .dataframe thead th {\n",
       "        text-align: right;\n",
       "    }\n",
       "</style>\n",
       "<table border=\"1\" class=\"dataframe\">\n",
       "  <thead>\n",
       "    <tr style=\"text-align: right;\">\n",
       "      <th>feature</th>\n",
       "      <th>지역</th>\n",
       "      <th>증가율</th>\n",
       "    </tr>\n",
       "    <tr>\n",
       "      <th>city</th>\n",
       "      <th></th>\n",
       "      <th></th>\n",
       "    </tr>\n",
       "  </thead>\n",
       "  <tbody>\n",
       "    <tr>\n",
       "      <th>서울</th>\n",
       "      <td>수도권</td>\n",
       "      <td>0.2343</td>\n",
       "    </tr>\n",
       "    <tr>\n",
       "      <th>부산</th>\n",
       "      <td>경상권</td>\n",
       "      <td>0.0434</td>\n",
       "    </tr>\n",
       "    <tr>\n",
       "      <th>경기</th>\n",
       "      <td>수도권</td>\n",
       "      <td>0.0944</td>\n",
       "    </tr>\n",
       "    <tr>\n",
       "      <th>대구</th>\n",
       "      <td>경상권</td>\n",
       "      <td>0.0034</td>\n",
       "    </tr>\n",
       "  </tbody>\n",
       "</table>\n",
       "</div>"
      ],
      "text/plain": [
       "feature   지역     증가율\n",
       "city                \n",
       "서울       수도권  0.2343\n",
       "부산       경상권  0.0434\n",
       "경기       수도권  0.0944\n",
       "대구       경상권  0.0034"
      ]
     },
     "execution_count": 213,
     "metadata": {},
     "output_type": "execute_result"
    }
   ],
   "source": [
    "popDF[ ['지역', '증가율'] ] "
   ]
  },
  {
   "cell_type": "markdown",
   "metadata": {},
   "source": [
    "- 행(row) indexing\n",
    "- 항상 슬라이싱을 해야한다\n",
    "- 배열 인덱스, 라벨 인덱스 사용이 가능하다"
   ]
  },
  {
   "cell_type": "code",
   "execution_count": 217,
   "metadata": {},
   "outputs": [
    {
     "data": {
      "text/html": [
       "<div>\n",
       "<style scoped>\n",
       "    .dataframe tbody tr th:only-of-type {\n",
       "        vertical-align: middle;\n",
       "    }\n",
       "\n",
       "    .dataframe tbody tr th {\n",
       "        vertical-align: top;\n",
       "    }\n",
       "\n",
       "    .dataframe thead th {\n",
       "        text-align: right;\n",
       "    }\n",
       "</style>\n",
       "<table border=\"1\" class=\"dataframe\">\n",
       "  <thead>\n",
       "    <tr style=\"text-align: right;\">\n",
       "      <th>feature</th>\n",
       "      <th>지역</th>\n",
       "      <th>2014</th>\n",
       "      <th>2016</th>\n",
       "      <th>2018</th>\n",
       "      <th>2021</th>\n",
       "      <th>증가율</th>\n",
       "    </tr>\n",
       "    <tr>\n",
       "      <th>city</th>\n",
       "      <th></th>\n",
       "      <th></th>\n",
       "      <th></th>\n",
       "      <th></th>\n",
       "      <th></th>\n",
       "      <th></th>\n",
       "    </tr>\n",
       "  </thead>\n",
       "  <tbody>\n",
       "    <tr>\n",
       "      <th>서울</th>\n",
       "      <td>수도권</td>\n",
       "      <td>5910293</td>\n",
       "      <td>7910293</td>\n",
       "      <td>8910293</td>\n",
       "      <td>9910293</td>\n",
       "      <td>0.2343</td>\n",
       "    </tr>\n",
       "    <tr>\n",
       "      <th>부산</th>\n",
       "      <td>경상권</td>\n",
       "      <td>3384050</td>\n",
       "      <td>5384050</td>\n",
       "      <td>7384050</td>\n",
       "      <td>8384050</td>\n",
       "      <td>0.0434</td>\n",
       "    </tr>\n",
       "    <tr>\n",
       "      <th>경기</th>\n",
       "      <td>수도권</td>\n",
       "      <td>4938485</td>\n",
       "      <td>7938485</td>\n",
       "      <td>5938485</td>\n",
       "      <td>2938485</td>\n",
       "      <td>0.0944</td>\n",
       "    </tr>\n",
       "    <tr>\n",
       "      <th>대구</th>\n",
       "      <td>경상권</td>\n",
       "      <td>4203948</td>\n",
       "      <td>6203948</td>\n",
       "      <td>3203948</td>\n",
       "      <td>1203948</td>\n",
       "      <td>0.0034</td>\n",
       "    </tr>\n",
       "  </tbody>\n",
       "</table>\n",
       "</div>"
      ],
      "text/plain": [
       "feature   지역     2014     2016     2018     2021     증가율\n",
       "city                                                    \n",
       "서울       수도권  5910293  7910293  8910293  9910293  0.2343\n",
       "부산       경상권  3384050  5384050  7384050  8384050  0.0434\n",
       "경기       수도권  4938485  7938485  5938485  2938485  0.0944\n",
       "대구       경상권  4203948  6203948  3203948  1203948  0.0034"
      ]
     },
     "execution_count": 217,
     "metadata": {},
     "output_type": "execute_result"
    }
   ],
   "source": [
    "popDF"
   ]
  },
  {
   "cell_type": "code",
   "execution_count": 219,
   "metadata": {},
   "outputs": [
    {
     "data": {
      "text/html": [
       "<div>\n",
       "<style scoped>\n",
       "    .dataframe tbody tr th:only-of-type {\n",
       "        vertical-align: middle;\n",
       "    }\n",
       "\n",
       "    .dataframe tbody tr th {\n",
       "        vertical-align: top;\n",
       "    }\n",
       "\n",
       "    .dataframe thead th {\n",
       "        text-align: right;\n",
       "    }\n",
       "</style>\n",
       "<table border=\"1\" class=\"dataframe\">\n",
       "  <thead>\n",
       "    <tr style=\"text-align: right;\">\n",
       "      <th>feature</th>\n",
       "      <th>지역</th>\n",
       "      <th>2014</th>\n",
       "      <th>2016</th>\n",
       "      <th>2018</th>\n",
       "      <th>2021</th>\n",
       "      <th>증가율</th>\n",
       "    </tr>\n",
       "    <tr>\n",
       "      <th>city</th>\n",
       "      <th></th>\n",
       "      <th></th>\n",
       "      <th></th>\n",
       "      <th></th>\n",
       "      <th></th>\n",
       "      <th></th>\n",
       "    </tr>\n",
       "  </thead>\n",
       "  <tbody>\n",
       "    <tr>\n",
       "      <th>서울</th>\n",
       "      <td>수도권</td>\n",
       "      <td>5910293</td>\n",
       "      <td>7910293</td>\n",
       "      <td>8910293</td>\n",
       "      <td>9910293</td>\n",
       "      <td>0.2343</td>\n",
       "    </tr>\n",
       "  </tbody>\n",
       "</table>\n",
       "</div>"
      ],
      "text/plain": [
       "feature   지역     2014     2016     2018     2021     증가율\n",
       "city                                                    \n",
       "서울       수도권  5910293  7910293  8910293  9910293  0.2343"
      ]
     },
     "metadata": {},
     "output_type": "display_data"
    },
    {
     "data": {
      "text/html": [
       "<div>\n",
       "<style scoped>\n",
       "    .dataframe tbody tr th:only-of-type {\n",
       "        vertical-align: middle;\n",
       "    }\n",
       "\n",
       "    .dataframe tbody tr th {\n",
       "        vertical-align: top;\n",
       "    }\n",
       "\n",
       "    .dataframe thead th {\n",
       "        text-align: right;\n",
       "    }\n",
       "</style>\n",
       "<table border=\"1\" class=\"dataframe\">\n",
       "  <thead>\n",
       "    <tr style=\"text-align: right;\">\n",
       "      <th>feature</th>\n",
       "      <th>지역</th>\n",
       "      <th>2014</th>\n",
       "      <th>2016</th>\n",
       "      <th>2018</th>\n",
       "      <th>2021</th>\n",
       "      <th>증가율</th>\n",
       "    </tr>\n",
       "    <tr>\n",
       "      <th>city</th>\n",
       "      <th></th>\n",
       "      <th></th>\n",
       "      <th></th>\n",
       "      <th></th>\n",
       "      <th></th>\n",
       "      <th></th>\n",
       "    </tr>\n",
       "  </thead>\n",
       "  <tbody>\n",
       "    <tr>\n",
       "      <th>서울</th>\n",
       "      <td>수도권</td>\n",
       "      <td>5910293</td>\n",
       "      <td>7910293</td>\n",
       "      <td>8910293</td>\n",
       "      <td>9910293</td>\n",
       "      <td>0.2343</td>\n",
       "    </tr>\n",
       "  </tbody>\n",
       "</table>\n",
       "</div>"
      ],
      "text/plain": [
       "feature   지역     2014     2016     2018     2021     증가율\n",
       "city                                                    \n",
       "서울       수도권  5910293  7910293  8910293  9910293  0.2343"
      ]
     },
     "metadata": {},
     "output_type": "display_data"
    }
   ],
   "source": [
    "display(popDF[ : 1 ]) \n",
    "display(popDF[ : '서울' ]) "
   ]
  },
  {
   "cell_type": "code",
   "execution_count": 220,
   "metadata": {},
   "outputs": [
    {
     "data": {
      "text/html": [
       "<div>\n",
       "<style scoped>\n",
       "    .dataframe tbody tr th:only-of-type {\n",
       "        vertical-align: middle;\n",
       "    }\n",
       "\n",
       "    .dataframe tbody tr th {\n",
       "        vertical-align: top;\n",
       "    }\n",
       "\n",
       "    .dataframe thead th {\n",
       "        text-align: right;\n",
       "    }\n",
       "</style>\n",
       "<table border=\"1\" class=\"dataframe\">\n",
       "  <thead>\n",
       "    <tr style=\"text-align: right;\">\n",
       "      <th>feature</th>\n",
       "      <th>지역</th>\n",
       "      <th>2014</th>\n",
       "      <th>2016</th>\n",
       "      <th>2018</th>\n",
       "      <th>2021</th>\n",
       "      <th>증가율</th>\n",
       "    </tr>\n",
       "    <tr>\n",
       "      <th>city</th>\n",
       "      <th></th>\n",
       "      <th></th>\n",
       "      <th></th>\n",
       "      <th></th>\n",
       "      <th></th>\n",
       "      <th></th>\n",
       "    </tr>\n",
       "  </thead>\n",
       "  <tbody>\n",
       "    <tr>\n",
       "      <th>서울</th>\n",
       "      <td>수도권</td>\n",
       "      <td>5910293</td>\n",
       "      <td>7910293</td>\n",
       "      <td>8910293</td>\n",
       "      <td>9910293</td>\n",
       "      <td>0.2343</td>\n",
       "    </tr>\n",
       "    <tr>\n",
       "      <th>부산</th>\n",
       "      <td>경상권</td>\n",
       "      <td>3384050</td>\n",
       "      <td>5384050</td>\n",
       "      <td>7384050</td>\n",
       "      <td>8384050</td>\n",
       "      <td>0.0434</td>\n",
       "    </tr>\n",
       "    <tr>\n",
       "      <th>경기</th>\n",
       "      <td>수도권</td>\n",
       "      <td>4938485</td>\n",
       "      <td>7938485</td>\n",
       "      <td>5938485</td>\n",
       "      <td>2938485</td>\n",
       "      <td>0.0944</td>\n",
       "    </tr>\n",
       "  </tbody>\n",
       "</table>\n",
       "</div>"
      ],
      "text/plain": [
       "feature   지역     2014     2016     2018     2021     증가율\n",
       "city                                                    \n",
       "서울       수도권  5910293  7910293  8910293  9910293  0.2343\n",
       "부산       경상권  3384050  5384050  7384050  8384050  0.0434\n",
       "경기       수도권  4938485  7938485  5938485  2938485  0.0944"
      ]
     },
     "metadata": {},
     "output_type": "display_data"
    },
    {
     "data": {
      "text/html": [
       "<div>\n",
       "<style scoped>\n",
       "    .dataframe tbody tr th:only-of-type {\n",
       "        vertical-align: middle;\n",
       "    }\n",
       "\n",
       "    .dataframe tbody tr th {\n",
       "        vertical-align: top;\n",
       "    }\n",
       "\n",
       "    .dataframe thead th {\n",
       "        text-align: right;\n",
       "    }\n",
       "</style>\n",
       "<table border=\"1\" class=\"dataframe\">\n",
       "  <thead>\n",
       "    <tr style=\"text-align: right;\">\n",
       "      <th>feature</th>\n",
       "      <th>지역</th>\n",
       "      <th>2014</th>\n",
       "      <th>2016</th>\n",
       "      <th>2018</th>\n",
       "      <th>2021</th>\n",
       "      <th>증가율</th>\n",
       "    </tr>\n",
       "    <tr>\n",
       "      <th>city</th>\n",
       "      <th></th>\n",
       "      <th></th>\n",
       "      <th></th>\n",
       "      <th></th>\n",
       "      <th></th>\n",
       "      <th></th>\n",
       "    </tr>\n",
       "  </thead>\n",
       "  <tbody>\n",
       "    <tr>\n",
       "      <th>서울</th>\n",
       "      <td>수도권</td>\n",
       "      <td>5910293</td>\n",
       "      <td>7910293</td>\n",
       "      <td>8910293</td>\n",
       "      <td>9910293</td>\n",
       "      <td>0.2343</td>\n",
       "    </tr>\n",
       "    <tr>\n",
       "      <th>부산</th>\n",
       "      <td>경상권</td>\n",
       "      <td>3384050</td>\n",
       "      <td>5384050</td>\n",
       "      <td>7384050</td>\n",
       "      <td>8384050</td>\n",
       "      <td>0.0434</td>\n",
       "    </tr>\n",
       "    <tr>\n",
       "      <th>경기</th>\n",
       "      <td>수도권</td>\n",
       "      <td>4938485</td>\n",
       "      <td>7938485</td>\n",
       "      <td>5938485</td>\n",
       "      <td>2938485</td>\n",
       "      <td>0.0944</td>\n",
       "    </tr>\n",
       "  </tbody>\n",
       "</table>\n",
       "</div>"
      ],
      "text/plain": [
       "feature   지역     2014     2016     2018     2021     증가율\n",
       "city                                                    \n",
       "서울       수도권  5910293  7910293  8910293  9910293  0.2343\n",
       "부산       경상권  3384050  5384050  7384050  8384050  0.0434\n",
       "경기       수도권  4938485  7938485  5938485  2938485  0.0944"
      ]
     },
     "metadata": {},
     "output_type": "display_data"
    }
   ],
   "source": [
    "display(popDF[ 0 : 3 ]) \n",
    "display(popDF[ '서울': '경기' ]) "
   ]
  },
  {
   "cell_type": "markdown",
   "metadata": {},
   "source": [
    "- 개별 인덱싱(특정 행, 특정 컬럼)"
   ]
  },
  {
   "cell_type": "code",
   "execution_count": 221,
   "metadata": {},
   "outputs": [
    {
     "data": {
      "text/html": [
       "<div>\n",
       "<style scoped>\n",
       "    .dataframe tbody tr th:only-of-type {\n",
       "        vertical-align: middle;\n",
       "    }\n",
       "\n",
       "    .dataframe tbody tr th {\n",
       "        vertical-align: top;\n",
       "    }\n",
       "\n",
       "    .dataframe thead th {\n",
       "        text-align: right;\n",
       "    }\n",
       "</style>\n",
       "<table border=\"1\" class=\"dataframe\">\n",
       "  <thead>\n",
       "    <tr style=\"text-align: right;\">\n",
       "      <th>feature</th>\n",
       "      <th>지역</th>\n",
       "      <th>2014</th>\n",
       "      <th>2016</th>\n",
       "      <th>2018</th>\n",
       "      <th>2021</th>\n",
       "      <th>증가율</th>\n",
       "    </tr>\n",
       "    <tr>\n",
       "      <th>city</th>\n",
       "      <th></th>\n",
       "      <th></th>\n",
       "      <th></th>\n",
       "      <th></th>\n",
       "      <th></th>\n",
       "      <th></th>\n",
       "    </tr>\n",
       "  </thead>\n",
       "  <tbody>\n",
       "    <tr>\n",
       "      <th>서울</th>\n",
       "      <td>수도권</td>\n",
       "      <td>5910293</td>\n",
       "      <td>7910293</td>\n",
       "      <td>8910293</td>\n",
       "      <td>9910293</td>\n",
       "      <td>0.2343</td>\n",
       "    </tr>\n",
       "    <tr>\n",
       "      <th>부산</th>\n",
       "      <td>경상권</td>\n",
       "      <td>3384050</td>\n",
       "      <td>5384050</td>\n",
       "      <td>7384050</td>\n",
       "      <td>8384050</td>\n",
       "      <td>0.0434</td>\n",
       "    </tr>\n",
       "    <tr>\n",
       "      <th>경기</th>\n",
       "      <td>수도권</td>\n",
       "      <td>4938485</td>\n",
       "      <td>7938485</td>\n",
       "      <td>5938485</td>\n",
       "      <td>2938485</td>\n",
       "      <td>0.0944</td>\n",
       "    </tr>\n",
       "    <tr>\n",
       "      <th>대구</th>\n",
       "      <td>경상권</td>\n",
       "      <td>4203948</td>\n",
       "      <td>6203948</td>\n",
       "      <td>3203948</td>\n",
       "      <td>1203948</td>\n",
       "      <td>0.0034</td>\n",
       "    </tr>\n",
       "  </tbody>\n",
       "</table>\n",
       "</div>"
      ],
      "text/plain": [
       "feature   지역     2014     2016     2018     2021     증가율\n",
       "city                                                    \n",
       "서울       수도권  5910293  7910293  8910293  9910293  0.2343\n",
       "부산       경상권  3384050  5384050  7384050  8384050  0.0434\n",
       "경기       수도권  4938485  7938485  5938485  2938485  0.0944\n",
       "대구       경상권  4203948  6203948  3203948  1203948  0.0034"
      ]
     },
     "execution_count": 221,
     "metadata": {},
     "output_type": "execute_result"
    }
   ],
   "source": [
    "popDF"
   ]
  },
  {
   "cell_type": "code",
   "execution_count": 233,
   "metadata": {},
   "outputs": [
    {
     "data": {
      "text/plain": [
       "city\n",
       "서울    9910293\n",
       "대구    1203948\n",
       "Name: 2021, dtype: int64"
      ]
     },
     "execution_count": 233,
     "metadata": {},
     "output_type": "execute_result"
    }
   ],
   "source": [
    "popDF['2021'][['서울' , '대구']]"
   ]
  },
  {
   "cell_type": "code",
   "execution_count": 234,
   "metadata": {},
   "outputs": [
    {
     "data": {
      "text/html": [
       "<div>\n",
       "<style scoped>\n",
       "    .dataframe tbody tr th:only-of-type {\n",
       "        vertical-align: middle;\n",
       "    }\n",
       "\n",
       "    .dataframe tbody tr th {\n",
       "        vertical-align: top;\n",
       "    }\n",
       "\n",
       "    .dataframe thead th {\n",
       "        text-align: right;\n",
       "    }\n",
       "</style>\n",
       "<table border=\"1\" class=\"dataframe\">\n",
       "  <thead>\n",
       "    <tr style=\"text-align: right;\">\n",
       "      <th></th>\n",
       "      <th>kor</th>\n",
       "      <th>eng</th>\n",
       "      <th>math</th>\n",
       "    </tr>\n",
       "  </thead>\n",
       "  <tbody>\n",
       "    <tr>\n",
       "      <th>김지은</th>\n",
       "      <td>80</td>\n",
       "      <td>90</td>\n",
       "      <td>90</td>\n",
       "    </tr>\n",
       "    <tr>\n",
       "      <th>황인범</th>\n",
       "      <td>90</td>\n",
       "      <td>70</td>\n",
       "      <td>60</td>\n",
       "    </tr>\n",
       "    <tr>\n",
       "      <th>김정수</th>\n",
       "      <td>70</td>\n",
       "      <td>60</td>\n",
       "      <td>90</td>\n",
       "    </tr>\n",
       "    <tr>\n",
       "      <th>최호진</th>\n",
       "      <td>30</td>\n",
       "      <td>40</td>\n",
       "      <td>70</td>\n",
       "    </tr>\n",
       "  </tbody>\n",
       "</table>\n",
       "</div>"
      ],
      "text/plain": [
       "     kor  eng  math\n",
       "김지은   80   90    90\n",
       "황인범   90   70    60\n",
       "김정수   70   60    90\n",
       "최호진   30   40    70"
      ]
     },
     "execution_count": 234,
     "metadata": {},
     "output_type": "execute_result"
    }
   ],
   "source": [
    "score_data = {\n",
    "    'kor'  : [80,90,70,30],\n",
    "    'eng'  : [90,70,60,40],\n",
    "    'math' : [90,60,90,70] \n",
    "}\n",
    "columns = ['kor','eng','math']\n",
    "index   = ['김지은', '황인범', '김정수', '최호진']\n",
    "\n",
    "exec_df = pd.DataFrame(score_data , index=index , columns=columns)\n",
    "exec_df"
   ]
  },
  {
   "cell_type": "code",
   "execution_count": 240,
   "metadata": {},
   "outputs": [
    {
     "data": {
      "text/html": [
       "<div>\n",
       "<style scoped>\n",
       "    .dataframe tbody tr th:only-of-type {\n",
       "        vertical-align: middle;\n",
       "    }\n",
       "\n",
       "    .dataframe tbody tr th {\n",
       "        vertical-align: top;\n",
       "    }\n",
       "\n",
       "    .dataframe thead th {\n",
       "        text-align: right;\n",
       "    }\n",
       "</style>\n",
       "<table border=\"1\" class=\"dataframe\">\n",
       "  <thead>\n",
       "    <tr style=\"text-align: right;\">\n",
       "      <th></th>\n",
       "      <th>kor</th>\n",
       "      <th>eng</th>\n",
       "      <th>math</th>\n",
       "      <th>avg</th>\n",
       "    </tr>\n",
       "  </thead>\n",
       "  <tbody>\n",
       "    <tr>\n",
       "      <th>김지은</th>\n",
       "      <td>80</td>\n",
       "      <td>90</td>\n",
       "      <td>90</td>\n",
       "      <td>86.666667</td>\n",
       "    </tr>\n",
       "    <tr>\n",
       "      <th>황인범</th>\n",
       "      <td>90</td>\n",
       "      <td>70</td>\n",
       "      <td>60</td>\n",
       "      <td>73.333333</td>\n",
       "    </tr>\n",
       "    <tr>\n",
       "      <th>김정수</th>\n",
       "      <td>70</td>\n",
       "      <td>60</td>\n",
       "      <td>90</td>\n",
       "      <td>73.333333</td>\n",
       "    </tr>\n",
       "    <tr>\n",
       "      <th>최호진</th>\n",
       "      <td>30</td>\n",
       "      <td>40</td>\n",
       "      <td>70</td>\n",
       "      <td>46.666667</td>\n",
       "    </tr>\n",
       "  </tbody>\n",
       "</table>\n",
       "</div>"
      ],
      "text/plain": [
       "     kor  eng  math        avg\n",
       "김지은   80   90    90  86.666667\n",
       "황인범   90   70    60  73.333333\n",
       "김정수   70   60    90  73.333333\n",
       "최호진   30   40    70  46.666667"
      ]
     },
     "execution_count": 240,
     "metadata": {},
     "output_type": "execute_result"
    }
   ],
   "source": [
    "# 위 데이터를 보고 모든 학생의 수학 점수를 시리즈로 출력하라\n",
    "# 모든 학생의 국어와 영어 점수를 데이터 프레임으로  만들어라\n",
    "# 모든 학생의 각 과목 평균 점수를 새로운 열로 추가하라\n",
    "\n",
    "exec_df['avg'] = np.mean( exec_df[['kor', 'eng' , 'math']].T )\n",
    "exec_df\n",
    "\n",
    "# 최호진 학생의 영어 점수를 90점으로 수정하고 평균 점수도 다시 계산하라\n",
    "# 김지은 학생의 점수를 데이터 프레임으로 만들어라\n",
    "# 김정수 학생의 점수를 시리즈로 출력하라\n",
    "# 황인범 학생의 국어점수와 수학점수를 100점으로 수정하고 평균 점수도 다시 계산하라"
   ]
  },
  {
   "cell_type": "markdown",
   "metadata": {},
   "source": [
    "### pands 문자함수\n",
    "- 함수앞에 str"
   ]
  },
  {
   "cell_type": "code",
   "execution_count": 246,
   "metadata": {},
   "outputs": [
    {
     "data": {
      "text/html": [
       "<div>\n",
       "<style scoped>\n",
       "    .dataframe tbody tr th:only-of-type {\n",
       "        vertical-align: middle;\n",
       "    }\n",
       "\n",
       "    .dataframe tbody tr th {\n",
       "        vertical-align: top;\n",
       "    }\n",
       "\n",
       "    .dataframe thead th {\n",
       "        text-align: right;\n",
       "    }\n",
       "</style>\n",
       "<table border=\"1\" class=\"dataframe\">\n",
       "  <thead>\n",
       "    <tr style=\"text-align: right;\">\n",
       "      <th></th>\n",
       "      <th>법정동코드</th>\n",
       "      <th>법정동명</th>\n",
       "      <th>폐지여부</th>\n",
       "    </tr>\n",
       "  </thead>\n",
       "  <tbody>\n",
       "    <tr>\n",
       "      <th>0</th>\n",
       "      <td>1100000000</td>\n",
       "      <td>서울특별시</td>\n",
       "      <td>존재</td>\n",
       "    </tr>\n",
       "    <tr>\n",
       "      <th>1</th>\n",
       "      <td>1111000000</td>\n",
       "      <td>서울특별시 종로구</td>\n",
       "      <td>존재</td>\n",
       "    </tr>\n",
       "    <tr>\n",
       "      <th>2</th>\n",
       "      <td>1111010100</td>\n",
       "      <td>서울특별시 종로구 청운동</td>\n",
       "      <td>존재</td>\n",
       "    </tr>\n",
       "    <tr>\n",
       "      <th>3</th>\n",
       "      <td>1111010200</td>\n",
       "      <td>서울특별시 종로구 신교동</td>\n",
       "      <td>존재</td>\n",
       "    </tr>\n",
       "    <tr>\n",
       "      <th>4</th>\n",
       "      <td>1111010300</td>\n",
       "      <td>서울특별시 종로구 궁정동</td>\n",
       "      <td>존재</td>\n",
       "    </tr>\n",
       "  </tbody>\n",
       "</table>\n",
       "</div>"
      ],
      "text/plain": [
       "        법정동코드           법정동명 폐지여부\n",
       "0  1100000000          서울특별시   존재\n",
       "1  1111000000      서울특별시 종로구   존재\n",
       "2  1111010100  서울특별시 종로구 청운동   존재\n",
       "3  1111010200  서울특별시 종로구 신교동   존재\n",
       "4  1111010300  서울특별시 종로구 궁정동   존재"
      ]
     },
     "execution_count": 246,
     "metadata": {},
     "output_type": "execute_result"
    }
   ],
   "source": [
    "courtDF = pd.read_csv('./data/court_code.txt' , sep='\\t' , encoding='cp949')\n",
    "courtDF.head()"
   ]
  },
  {
   "cell_type": "code",
   "execution_count": 249,
   "metadata": {},
   "outputs": [],
   "source": [
    "court_subset_df = courtDF[ courtDF['폐지여부'] == '폐지' ] "
   ]
  },
  {
   "cell_type": "code",
   "execution_count": 250,
   "metadata": {},
   "outputs": [
    {
     "data": {
      "text/html": [
       "<div>\n",
       "<style scoped>\n",
       "    .dataframe tbody tr th:only-of-type {\n",
       "        vertical-align: middle;\n",
       "    }\n",
       "\n",
       "    .dataframe tbody tr th {\n",
       "        vertical-align: top;\n",
       "    }\n",
       "\n",
       "    .dataframe thead th {\n",
       "        text-align: right;\n",
       "    }\n",
       "</style>\n",
       "<table border=\"1\" class=\"dataframe\">\n",
       "  <thead>\n",
       "    <tr style=\"text-align: right;\">\n",
       "      <th></th>\n",
       "      <th>법정동코드</th>\n",
       "      <th>법정동명</th>\n",
       "      <th>폐지여부</th>\n",
       "    </tr>\n",
       "  </thead>\n",
       "  <tbody>\n",
       "    <tr>\n",
       "      <th>89</th>\n",
       "      <td>1111090100</td>\n",
       "      <td>서울특별시 종로구 창신1동</td>\n",
       "      <td>폐지</td>\n",
       "    </tr>\n",
       "    <tr>\n",
       "      <th>90</th>\n",
       "      <td>1111090200</td>\n",
       "      <td>서울특별시 종로구 창신2동</td>\n",
       "      <td>폐지</td>\n",
       "    </tr>\n",
       "    <tr>\n",
       "      <th>91</th>\n",
       "      <td>1111090300</td>\n",
       "      <td>서울특별시 종로구 창신3동</td>\n",
       "      <td>폐지</td>\n",
       "    </tr>\n",
       "    <tr>\n",
       "      <th>92</th>\n",
       "      <td>1111090400</td>\n",
       "      <td>서울특별시 종로구 숭인1동</td>\n",
       "      <td>폐지</td>\n",
       "    </tr>\n",
       "    <tr>\n",
       "      <th>93</th>\n",
       "      <td>1111090500</td>\n",
       "      <td>서울특별시 종로구 숭인2동</td>\n",
       "      <td>폐지</td>\n",
       "    </tr>\n",
       "    <tr>\n",
       "      <th>...</th>\n",
       "      <td>...</td>\n",
       "      <td>...</td>\n",
       "      <td>...</td>\n",
       "    </tr>\n",
       "    <tr>\n",
       "      <th>45962</th>\n",
       "      <td>4972032025</td>\n",
       "      <td>제주도 남제주군 표선면 세화리</td>\n",
       "      <td>폐지</td>\n",
       "    </tr>\n",
       "    <tr>\n",
       "      <th>45963</th>\n",
       "      <td>4972032026</td>\n",
       "      <td>제주도 남제주군 표선면 토산리</td>\n",
       "      <td>폐지</td>\n",
       "    </tr>\n",
       "    <tr>\n",
       "      <th>46025</th>\n",
       "      <td>5011025305</td>\n",
       "      <td>제주특별자치도 제주시 애월읍 귀일리</td>\n",
       "      <td>폐지</td>\n",
       "    </tr>\n",
       "    <tr>\n",
       "      <th>46026</th>\n",
       "      <td>5011025306</td>\n",
       "      <td>제주특별자치도 제주시 애월읍 어도리</td>\n",
       "      <td>폐지</td>\n",
       "    </tr>\n",
       "    <tr>\n",
       "      <th>46027</th>\n",
       "      <td>5011025307</td>\n",
       "      <td>제주특별자치도 제주시 애월읍 동귀리</td>\n",
       "      <td>폐지</td>\n",
       "    </tr>\n",
       "  </tbody>\n",
       "</table>\n",
       "<p>25636 rows × 3 columns</p>\n",
       "</div>"
      ],
      "text/plain": [
       "            법정동코드                 법정동명 폐지여부\n",
       "89     1111090100       서울특별시 종로구 창신1동   폐지\n",
       "90     1111090200       서울특별시 종로구 창신2동   폐지\n",
       "91     1111090300       서울특별시 종로구 창신3동   폐지\n",
       "92     1111090400       서울특별시 종로구 숭인1동   폐지\n",
       "93     1111090500       서울특별시 종로구 숭인2동   폐지\n",
       "...           ...                  ...  ...\n",
       "45962  4972032025     제주도 남제주군 표선면 세화리   폐지\n",
       "45963  4972032026     제주도 남제주군 표선면 토산리   폐지\n",
       "46025  5011025305  제주특별자치도 제주시 애월읍 귀일리   폐지\n",
       "46026  5011025306  제주특별자치도 제주시 애월읍 어도리   폐지\n",
       "46027  5011025307  제주특별자치도 제주시 애월읍 동귀리   폐지\n",
       "\n",
       "[25636 rows x 3 columns]"
      ]
     },
     "execution_count": 250,
     "metadata": {},
     "output_type": "execute_result"
    }
   ],
   "source": [
    "court_subset_df"
   ]
  },
  {
   "cell_type": "code",
   "execution_count": 251,
   "metadata": {},
   "outputs": [
    {
     "data": {
      "text/html": [
       "<div>\n",
       "<style scoped>\n",
       "    .dataframe tbody tr th:only-of-type {\n",
       "        vertical-align: middle;\n",
       "    }\n",
       "\n",
       "    .dataframe tbody tr th {\n",
       "        vertical-align: top;\n",
       "    }\n",
       "\n",
       "    .dataframe thead th {\n",
       "        text-align: right;\n",
       "    }\n",
       "</style>\n",
       "<table border=\"1\" class=\"dataframe\">\n",
       "  <thead>\n",
       "    <tr style=\"text-align: right;\">\n",
       "      <th></th>\n",
       "      <th>법정동코드</th>\n",
       "      <th>법정동명</th>\n",
       "      <th>폐지여부</th>\n",
       "    </tr>\n",
       "  </thead>\n",
       "  <tbody>\n",
       "    <tr>\n",
       "      <th>0</th>\n",
       "      <td>1100000000</td>\n",
       "      <td>서울특별시</td>\n",
       "      <td>존재</td>\n",
       "    </tr>\n",
       "    <tr>\n",
       "      <th>1</th>\n",
       "      <td>1111000000</td>\n",
       "      <td>서울특별시 종로구</td>\n",
       "      <td>존재</td>\n",
       "    </tr>\n",
       "    <tr>\n",
       "      <th>2</th>\n",
       "      <td>1111010100</td>\n",
       "      <td>서울특별시 종로구 청운동</td>\n",
       "      <td>존재</td>\n",
       "    </tr>\n",
       "    <tr>\n",
       "      <th>3</th>\n",
       "      <td>1111010200</td>\n",
       "      <td>서울특별시 종로구 신교동</td>\n",
       "      <td>존재</td>\n",
       "    </tr>\n",
       "    <tr>\n",
       "      <th>4</th>\n",
       "      <td>1111010300</td>\n",
       "      <td>서울특별시 종로구 궁정동</td>\n",
       "      <td>존재</td>\n",
       "    </tr>\n",
       "  </tbody>\n",
       "</table>\n",
       "</div>"
      ],
      "text/plain": [
       "        법정동코드           법정동명 폐지여부\n",
       "0  1100000000          서울특별시   존재\n",
       "1  1111000000      서울특별시 종로구   존재\n",
       "2  1111010100  서울특별시 종로구 청운동   존재\n",
       "3  1111010200  서울특별시 종로구 신교동   존재\n",
       "4  1111010300  서울특별시 종로구 궁정동   존재"
      ]
     },
     "execution_count": 251,
     "metadata": {},
     "output_type": "execute_result"
    }
   ],
   "source": [
    "courtDF.head()"
   ]
  },
  {
   "cell_type": "code",
   "execution_count": 255,
   "metadata": {},
   "outputs": [
    {
     "data": {
      "text/html": [
       "<div>\n",
       "<style scoped>\n",
       "    .dataframe tbody tr th:only-of-type {\n",
       "        vertical-align: middle;\n",
       "    }\n",
       "\n",
       "    .dataframe tbody tr th {\n",
       "        vertical-align: top;\n",
       "    }\n",
       "\n",
       "    .dataframe thead th {\n",
       "        text-align: right;\n",
       "    }\n",
       "</style>\n",
       "<table border=\"1\" class=\"dataframe\">\n",
       "  <thead>\n",
       "    <tr style=\"text-align: right;\">\n",
       "      <th></th>\n",
       "      <th>법정동코드</th>\n",
       "      <th>법정동명</th>\n",
       "      <th>폐지여부</th>\n",
       "    </tr>\n",
       "  </thead>\n",
       "  <tbody>\n",
       "    <tr>\n",
       "      <th>0</th>\n",
       "      <td>1100000000</td>\n",
       "      <td>서울특별시</td>\n",
       "      <td>존재</td>\n",
       "    </tr>\n",
       "    <tr>\n",
       "      <th>1</th>\n",
       "      <td>1111000000</td>\n",
       "      <td>서울특별시 종로구</td>\n",
       "      <td>존재</td>\n",
       "    </tr>\n",
       "    <tr>\n",
       "      <th>2</th>\n",
       "      <td>1111010100</td>\n",
       "      <td>서울특별시 종로구 청운동</td>\n",
       "      <td>존재</td>\n",
       "    </tr>\n",
       "    <tr>\n",
       "      <th>3</th>\n",
       "      <td>1111010200</td>\n",
       "      <td>서울특별시 종로구 신교동</td>\n",
       "      <td>존재</td>\n",
       "    </tr>\n",
       "    <tr>\n",
       "      <th>4</th>\n",
       "      <td>1111010300</td>\n",
       "      <td>서울특별시 종로구 궁정동</td>\n",
       "      <td>존재</td>\n",
       "    </tr>\n",
       "    <tr>\n",
       "      <th>...</th>\n",
       "      <td>...</td>\n",
       "      <td>...</td>\n",
       "      <td>...</td>\n",
       "    </tr>\n",
       "    <tr>\n",
       "      <th>1107</th>\n",
       "      <td>1174010600</td>\n",
       "      <td>서울특별시 강동구 둔촌동</td>\n",
       "      <td>존재</td>\n",
       "    </tr>\n",
       "    <tr>\n",
       "      <th>1108</th>\n",
       "      <td>1174010700</td>\n",
       "      <td>서울특별시 강동구 암사동</td>\n",
       "      <td>존재</td>\n",
       "    </tr>\n",
       "    <tr>\n",
       "      <th>1109</th>\n",
       "      <td>1174010800</td>\n",
       "      <td>서울특별시 강동구 성내동</td>\n",
       "      <td>존재</td>\n",
       "    </tr>\n",
       "    <tr>\n",
       "      <th>1110</th>\n",
       "      <td>1174010900</td>\n",
       "      <td>서울특별시 강동구 천호동</td>\n",
       "      <td>존재</td>\n",
       "    </tr>\n",
       "    <tr>\n",
       "      <th>1111</th>\n",
       "      <td>1174011000</td>\n",
       "      <td>서울특별시 강동구 강일동</td>\n",
       "      <td>존재</td>\n",
       "    </tr>\n",
       "  </tbody>\n",
       "</table>\n",
       "<p>1112 rows × 3 columns</p>\n",
       "</div>"
      ],
      "text/plain": [
       "           법정동코드           법정동명 폐지여부\n",
       "0     1100000000          서울특별시   존재\n",
       "1     1111000000      서울특별시 종로구   존재\n",
       "2     1111010100  서울특별시 종로구 청운동   존재\n",
       "3     1111010200  서울특별시 종로구 신교동   존재\n",
       "4     1111010300  서울특별시 종로구 궁정동   존재\n",
       "...          ...            ...  ...\n",
       "1107  1174010600  서울특별시 강동구 둔촌동   존재\n",
       "1108  1174010700  서울특별시 강동구 암사동   존재\n",
       "1109  1174010800  서울특별시 강동구 성내동   존재\n",
       "1110  1174010900  서울특별시 강동구 천호동   존재\n",
       "1111  1174011000  서울특별시 강동구 강일동   존재\n",
       "\n",
       "[1112 rows x 3 columns]"
      ]
     },
     "execution_count": 255,
     "metadata": {},
     "output_type": "execute_result"
    }
   ],
   "source": [
    "court_subset_df = courtDF[ courtDF['법정동명'].str[ : 5] == '서울특별시' ] \n",
    "court_subset_df"
   ]
  },
  {
   "cell_type": "code",
   "execution_count": 258,
   "metadata": {},
   "outputs": [
    {
     "data": {
      "text/plain": [
       "0        시\n",
       "1        구\n",
       "2        동\n",
       "3        동\n",
       "4        동\n",
       "        ..\n",
       "46175    리\n",
       "46176    리\n",
       "46177    리\n",
       "46178    리\n",
       "46179    리\n",
       "Name: 법정동명, Length: 46180, dtype: object"
      ]
     },
     "execution_count": 258,
     "metadata": {},
     "output_type": "execute_result"
    }
   ],
   "source": [
    "court_subset_df = courtDF['법정동명'].str[-1]\n",
    "court_subset_df"
   ]
  },
  {
   "cell_type": "markdown",
   "metadata": {},
   "source": [
    "- 분할 str.split()\n"
   ]
  },
  {
   "cell_type": "code",
   "execution_count": 264,
   "metadata": {},
   "outputs": [
    {
     "data": {
      "text/html": [
       "<div>\n",
       "<style scoped>\n",
       "    .dataframe tbody tr th:only-of-type {\n",
       "        vertical-align: middle;\n",
       "    }\n",
       "\n",
       "    .dataframe tbody tr th {\n",
       "        vertical-align: top;\n",
       "    }\n",
       "\n",
       "    .dataframe thead th {\n",
       "        text-align: right;\n",
       "    }\n",
       "</style>\n",
       "<table border=\"1\" class=\"dataframe\">\n",
       "  <thead>\n",
       "    <tr style=\"text-align: right;\">\n",
       "      <th></th>\n",
       "      <th>0</th>\n",
       "      <th>1</th>\n",
       "      <th>2</th>\n",
       "      <th>3</th>\n",
       "      <th>4</th>\n",
       "    </tr>\n",
       "  </thead>\n",
       "  <tbody>\n",
       "    <tr>\n",
       "      <th>0</th>\n",
       "      <td>서울특별시</td>\n",
       "      <td>None</td>\n",
       "      <td>None</td>\n",
       "      <td>None</td>\n",
       "      <td>None</td>\n",
       "    </tr>\n",
       "    <tr>\n",
       "      <th>1</th>\n",
       "      <td>서울특별시</td>\n",
       "      <td>종로구</td>\n",
       "      <td>None</td>\n",
       "      <td>None</td>\n",
       "      <td>None</td>\n",
       "    </tr>\n",
       "    <tr>\n",
       "      <th>2</th>\n",
       "      <td>서울특별시</td>\n",
       "      <td>종로구</td>\n",
       "      <td>청운동</td>\n",
       "      <td>None</td>\n",
       "      <td>None</td>\n",
       "    </tr>\n",
       "    <tr>\n",
       "      <th>3</th>\n",
       "      <td>서울특별시</td>\n",
       "      <td>종로구</td>\n",
       "      <td>신교동</td>\n",
       "      <td>None</td>\n",
       "      <td>None</td>\n",
       "    </tr>\n",
       "    <tr>\n",
       "      <th>4</th>\n",
       "      <td>서울특별시</td>\n",
       "      <td>종로구</td>\n",
       "      <td>궁정동</td>\n",
       "      <td>None</td>\n",
       "      <td>None</td>\n",
       "    </tr>\n",
       "    <tr>\n",
       "      <th>...</th>\n",
       "      <td>...</td>\n",
       "      <td>...</td>\n",
       "      <td>...</td>\n",
       "      <td>...</td>\n",
       "      <td>...</td>\n",
       "    </tr>\n",
       "    <tr>\n",
       "      <th>46175</th>\n",
       "      <td>제주특별자치도</td>\n",
       "      <td>서귀포시</td>\n",
       "      <td>표선면</td>\n",
       "      <td>하천리</td>\n",
       "      <td>None</td>\n",
       "    </tr>\n",
       "    <tr>\n",
       "      <th>46176</th>\n",
       "      <td>제주특별자치도</td>\n",
       "      <td>서귀포시</td>\n",
       "      <td>표선면</td>\n",
       "      <td>성읍리</td>\n",
       "      <td>None</td>\n",
       "    </tr>\n",
       "    <tr>\n",
       "      <th>46177</th>\n",
       "      <td>제주특별자치도</td>\n",
       "      <td>서귀포시</td>\n",
       "      <td>표선면</td>\n",
       "      <td>가시리</td>\n",
       "      <td>None</td>\n",
       "    </tr>\n",
       "    <tr>\n",
       "      <th>46178</th>\n",
       "      <td>제주특별자치도</td>\n",
       "      <td>서귀포시</td>\n",
       "      <td>표선면</td>\n",
       "      <td>세화리</td>\n",
       "      <td>None</td>\n",
       "    </tr>\n",
       "    <tr>\n",
       "      <th>46179</th>\n",
       "      <td>제주특별자치도</td>\n",
       "      <td>서귀포시</td>\n",
       "      <td>표선면</td>\n",
       "      <td>토산리</td>\n",
       "      <td>None</td>\n",
       "    </tr>\n",
       "  </tbody>\n",
       "</table>\n",
       "<p>46180 rows × 5 columns</p>\n",
       "</div>"
      ],
      "text/plain": [
       "             0     1     2     3     4\n",
       "0        서울특별시  None  None  None  None\n",
       "1        서울특별시   종로구  None  None  None\n",
       "2        서울특별시   종로구   청운동  None  None\n",
       "3        서울특별시   종로구   신교동  None  None\n",
       "4        서울특별시   종로구   궁정동  None  None\n",
       "...        ...   ...   ...   ...   ...\n",
       "46175  제주특별자치도  서귀포시   표선면   하천리  None\n",
       "46176  제주특별자치도  서귀포시   표선면   성읍리  None\n",
       "46177  제주특별자치도  서귀포시   표선면   가시리  None\n",
       "46178  제주특별자치도  서귀포시   표선면   세화리  None\n",
       "46179  제주특별자치도  서귀포시   표선면   토산리  None\n",
       "\n",
       "[46180 rows x 5 columns]"
      ]
     },
     "execution_count": 264,
     "metadata": {},
     "output_type": "execute_result"
    }
   ],
   "source": [
    "court_subset_df = courtDF['법정동명'].str.split(\" \" , expand = True)  \n",
    "court_subset_df"
   ]
  },
  {
   "cell_type": "markdown",
   "metadata": {},
   "source": [
    "- str.startswith()\n",
    "- str.endswith()\n",
    "- str.contains()\n",
    "- str.replace()"
   ]
  },
  {
   "cell_type": "code",
   "execution_count": 275,
   "metadata": {
    "collapsed": true
   },
   "outputs": [
    {
     "data": {
      "text/html": [
       "<div>\n",
       "<style scoped>\n",
       "    .dataframe tbody tr th:only-of-type {\n",
       "        vertical-align: middle;\n",
       "    }\n",
       "\n",
       "    .dataframe tbody tr th {\n",
       "        vertical-align: top;\n",
       "    }\n",
       "\n",
       "    .dataframe thead th {\n",
       "        text-align: right;\n",
       "    }\n",
       "</style>\n",
       "<table border=\"1\" class=\"dataframe\">\n",
       "  <thead>\n",
       "    <tr style=\"text-align: right;\">\n",
       "      <th></th>\n",
       "      <th>법정동코드</th>\n",
       "      <th>법정동명</th>\n",
       "      <th>폐지여부</th>\n",
       "    </tr>\n",
       "  </thead>\n",
       "  <tbody>\n",
       "    <tr>\n",
       "      <th>1541</th>\n",
       "      <td>2144000000</td>\n",
       "      <td>부산직할시 강서구</td>\n",
       "      <td>폐지</td>\n",
       "    </tr>\n",
       "    <tr>\n",
       "      <th>1542</th>\n",
       "      <td>2144010100</td>\n",
       "      <td>부산직할시 강서구 대저일동</td>\n",
       "      <td>폐지</td>\n",
       "    </tr>\n",
       "    <tr>\n",
       "      <th>1543</th>\n",
       "      <td>2144010200</td>\n",
       "      <td>부산직할시 강서구 대저이동</td>\n",
       "      <td>폐지</td>\n",
       "    </tr>\n",
       "    <tr>\n",
       "      <th>1544</th>\n",
       "      <td>2144010300</td>\n",
       "      <td>부산직할시 강서구 강동동</td>\n",
       "      <td>폐지</td>\n",
       "    </tr>\n",
       "    <tr>\n",
       "      <th>1545</th>\n",
       "      <td>2144010400</td>\n",
       "      <td>부산직할시 강서구 명지동</td>\n",
       "      <td>폐지</td>\n",
       "    </tr>\n",
       "    <tr>\n",
       "      <th>1546</th>\n",
       "      <td>2144010500</td>\n",
       "      <td>부산직할시 강서구 죽림동</td>\n",
       "      <td>폐지</td>\n",
       "    </tr>\n",
       "    <tr>\n",
       "      <th>1547</th>\n",
       "      <td>2144010600</td>\n",
       "      <td>부산직할시 강서구 식만동</td>\n",
       "      <td>폐지</td>\n",
       "    </tr>\n",
       "    <tr>\n",
       "      <th>1548</th>\n",
       "      <td>2144010700</td>\n",
       "      <td>부산직할시 강서구 죽동동</td>\n",
       "      <td>폐지</td>\n",
       "    </tr>\n",
       "    <tr>\n",
       "      <th>1549</th>\n",
       "      <td>2144010800</td>\n",
       "      <td>부산직할시 강서구 봉림동</td>\n",
       "      <td>폐지</td>\n",
       "    </tr>\n",
       "    <tr>\n",
       "      <th>1550</th>\n",
       "      <td>2144010900</td>\n",
       "      <td>부산직할시 강서구 송정동</td>\n",
       "      <td>폐지</td>\n",
       "    </tr>\n",
       "    <tr>\n",
       "      <th>1551</th>\n",
       "      <td>2144011000</td>\n",
       "      <td>부산직할시 강서구 화전동</td>\n",
       "      <td>폐지</td>\n",
       "    </tr>\n",
       "    <tr>\n",
       "      <th>1552</th>\n",
       "      <td>2144011100</td>\n",
       "      <td>부산직할시 강서구 녹산동</td>\n",
       "      <td>폐지</td>\n",
       "    </tr>\n",
       "    <tr>\n",
       "      <th>1553</th>\n",
       "      <td>2144011200</td>\n",
       "      <td>부산직할시 강서구 생곡동</td>\n",
       "      <td>폐지</td>\n",
       "    </tr>\n",
       "    <tr>\n",
       "      <th>1554</th>\n",
       "      <td>2144011300</td>\n",
       "      <td>부산직할시 강서구 구랑동</td>\n",
       "      <td>폐지</td>\n",
       "    </tr>\n",
       "    <tr>\n",
       "      <th>1555</th>\n",
       "      <td>2144011400</td>\n",
       "      <td>부산직할시 강서구 지사동</td>\n",
       "      <td>폐지</td>\n",
       "    </tr>\n",
       "    <tr>\n",
       "      <th>1556</th>\n",
       "      <td>2144011500</td>\n",
       "      <td>부산직할시 강서구 미음동</td>\n",
       "      <td>폐지</td>\n",
       "    </tr>\n",
       "    <tr>\n",
       "      <th>1557</th>\n",
       "      <td>2144011600</td>\n",
       "      <td>부산직할시 강서구 범방동</td>\n",
       "      <td>폐지</td>\n",
       "    </tr>\n",
       "    <tr>\n",
       "      <th>1558</th>\n",
       "      <td>2144011700</td>\n",
       "      <td>부산직할시 강서구 신호동</td>\n",
       "      <td>폐지</td>\n",
       "    </tr>\n",
       "    <tr>\n",
       "      <th>1559</th>\n",
       "      <td>2144011800</td>\n",
       "      <td>부산직할시 강서구 동선동</td>\n",
       "      <td>폐지</td>\n",
       "    </tr>\n",
       "    <tr>\n",
       "      <th>1560</th>\n",
       "      <td>2144011900</td>\n",
       "      <td>부산직할시 강서구 성북동</td>\n",
       "      <td>폐지</td>\n",
       "    </tr>\n",
       "    <tr>\n",
       "      <th>1561</th>\n",
       "      <td>2144012000</td>\n",
       "      <td>부산직할시 강서구 눌차동</td>\n",
       "      <td>폐지</td>\n",
       "    </tr>\n",
       "    <tr>\n",
       "      <th>1562</th>\n",
       "      <td>2144012100</td>\n",
       "      <td>부산직할시 강서구 천성동</td>\n",
       "      <td>폐지</td>\n",
       "    </tr>\n",
       "    <tr>\n",
       "      <th>1563</th>\n",
       "      <td>2144012200</td>\n",
       "      <td>부산직할시 강서구 대항동</td>\n",
       "      <td>폐지</td>\n",
       "    </tr>\n",
       "    <tr>\n",
       "      <th>1564</th>\n",
       "      <td>2144090100</td>\n",
       "      <td>부산직할시 강서구 가락동</td>\n",
       "      <td>폐지</td>\n",
       "    </tr>\n",
       "    <tr>\n",
       "      <th>1565</th>\n",
       "      <td>2144090200</td>\n",
       "      <td>부산직할시 강서구 천가동</td>\n",
       "      <td>폐지</td>\n",
       "    </tr>\n",
       "    <tr>\n",
       "      <th>2792</th>\n",
       "      <td>2644000000</td>\n",
       "      <td>부산광역시 강서구</td>\n",
       "      <td>존재</td>\n",
       "    </tr>\n",
       "    <tr>\n",
       "      <th>2793</th>\n",
       "      <td>2644010100</td>\n",
       "      <td>부산광역시 강서구 대저1동</td>\n",
       "      <td>존재</td>\n",
       "    </tr>\n",
       "    <tr>\n",
       "      <th>2794</th>\n",
       "      <td>2644010200</td>\n",
       "      <td>부산광역시 강서구 대저2동</td>\n",
       "      <td>존재</td>\n",
       "    </tr>\n",
       "    <tr>\n",
       "      <th>2795</th>\n",
       "      <td>2644010300</td>\n",
       "      <td>부산광역시 강서구 강동동</td>\n",
       "      <td>존재</td>\n",
       "    </tr>\n",
       "    <tr>\n",
       "      <th>2796</th>\n",
       "      <td>2644010400</td>\n",
       "      <td>부산광역시 강서구 명지동</td>\n",
       "      <td>존재</td>\n",
       "    </tr>\n",
       "    <tr>\n",
       "      <th>2797</th>\n",
       "      <td>2644010500</td>\n",
       "      <td>부산광역시 강서구 죽림동</td>\n",
       "      <td>존재</td>\n",
       "    </tr>\n",
       "    <tr>\n",
       "      <th>2798</th>\n",
       "      <td>2644010600</td>\n",
       "      <td>부산광역시 강서구 식만동</td>\n",
       "      <td>존재</td>\n",
       "    </tr>\n",
       "    <tr>\n",
       "      <th>2799</th>\n",
       "      <td>2644010700</td>\n",
       "      <td>부산광역시 강서구 죽동동</td>\n",
       "      <td>존재</td>\n",
       "    </tr>\n",
       "    <tr>\n",
       "      <th>2800</th>\n",
       "      <td>2644010800</td>\n",
       "      <td>부산광역시 강서구 봉림동</td>\n",
       "      <td>존재</td>\n",
       "    </tr>\n",
       "    <tr>\n",
       "      <th>2801</th>\n",
       "      <td>2644010900</td>\n",
       "      <td>부산광역시 강서구 송정동</td>\n",
       "      <td>존재</td>\n",
       "    </tr>\n",
       "    <tr>\n",
       "      <th>2802</th>\n",
       "      <td>2644011000</td>\n",
       "      <td>부산광역시 강서구 화전동</td>\n",
       "      <td>존재</td>\n",
       "    </tr>\n",
       "    <tr>\n",
       "      <th>2803</th>\n",
       "      <td>2644011100</td>\n",
       "      <td>부산광역시 강서구 녹산동</td>\n",
       "      <td>존재</td>\n",
       "    </tr>\n",
       "    <tr>\n",
       "      <th>2804</th>\n",
       "      <td>2644011200</td>\n",
       "      <td>부산광역시 강서구 생곡동</td>\n",
       "      <td>존재</td>\n",
       "    </tr>\n",
       "    <tr>\n",
       "      <th>2805</th>\n",
       "      <td>2644011300</td>\n",
       "      <td>부산광역시 강서구 구랑동</td>\n",
       "      <td>존재</td>\n",
       "    </tr>\n",
       "    <tr>\n",
       "      <th>2806</th>\n",
       "      <td>2644011400</td>\n",
       "      <td>부산광역시 강서구 지사동</td>\n",
       "      <td>존재</td>\n",
       "    </tr>\n",
       "    <tr>\n",
       "      <th>2807</th>\n",
       "      <td>2644011500</td>\n",
       "      <td>부산광역시 강서구 미음동</td>\n",
       "      <td>존재</td>\n",
       "    </tr>\n",
       "    <tr>\n",
       "      <th>2808</th>\n",
       "      <td>2644011600</td>\n",
       "      <td>부산광역시 강서구 범방동</td>\n",
       "      <td>존재</td>\n",
       "    </tr>\n",
       "    <tr>\n",
       "      <th>2809</th>\n",
       "      <td>2644011700</td>\n",
       "      <td>부산광역시 강서구 신호동</td>\n",
       "      <td>존재</td>\n",
       "    </tr>\n",
       "    <tr>\n",
       "      <th>2810</th>\n",
       "      <td>2644011800</td>\n",
       "      <td>부산광역시 강서구 동선동</td>\n",
       "      <td>존재</td>\n",
       "    </tr>\n",
       "    <tr>\n",
       "      <th>2811</th>\n",
       "      <td>2644011900</td>\n",
       "      <td>부산광역시 강서구 성북동</td>\n",
       "      <td>존재</td>\n",
       "    </tr>\n",
       "    <tr>\n",
       "      <th>2812</th>\n",
       "      <td>2644012000</td>\n",
       "      <td>부산광역시 강서구 눌차동</td>\n",
       "      <td>존재</td>\n",
       "    </tr>\n",
       "    <tr>\n",
       "      <th>2813</th>\n",
       "      <td>2644012100</td>\n",
       "      <td>부산광역시 강서구 천성동</td>\n",
       "      <td>존재</td>\n",
       "    </tr>\n",
       "    <tr>\n",
       "      <th>2814</th>\n",
       "      <td>2644012200</td>\n",
       "      <td>부산광역시 강서구 대항동</td>\n",
       "      <td>존재</td>\n",
       "    </tr>\n",
       "  </tbody>\n",
       "</table>\n",
       "</div>"
      ],
      "text/plain": [
       "           법정동코드            법정동명 폐지여부\n",
       "1541  2144000000       부산직할시 강서구   폐지\n",
       "1542  2144010100  부산직할시 강서구 대저일동   폐지\n",
       "1543  2144010200  부산직할시 강서구 대저이동   폐지\n",
       "1544  2144010300   부산직할시 강서구 강동동   폐지\n",
       "1545  2144010400   부산직할시 강서구 명지동   폐지\n",
       "1546  2144010500   부산직할시 강서구 죽림동   폐지\n",
       "1547  2144010600   부산직할시 강서구 식만동   폐지\n",
       "1548  2144010700   부산직할시 강서구 죽동동   폐지\n",
       "1549  2144010800   부산직할시 강서구 봉림동   폐지\n",
       "1550  2144010900   부산직할시 강서구 송정동   폐지\n",
       "1551  2144011000   부산직할시 강서구 화전동   폐지\n",
       "1552  2144011100   부산직할시 강서구 녹산동   폐지\n",
       "1553  2144011200   부산직할시 강서구 생곡동   폐지\n",
       "1554  2144011300   부산직할시 강서구 구랑동   폐지\n",
       "1555  2144011400   부산직할시 강서구 지사동   폐지\n",
       "1556  2144011500   부산직할시 강서구 미음동   폐지\n",
       "1557  2144011600   부산직할시 강서구 범방동   폐지\n",
       "1558  2144011700   부산직할시 강서구 신호동   폐지\n",
       "1559  2144011800   부산직할시 강서구 동선동   폐지\n",
       "1560  2144011900   부산직할시 강서구 성북동   폐지\n",
       "1561  2144012000   부산직할시 강서구 눌차동   폐지\n",
       "1562  2144012100   부산직할시 강서구 천성동   폐지\n",
       "1563  2144012200   부산직할시 강서구 대항동   폐지\n",
       "1564  2144090100   부산직할시 강서구 가락동   폐지\n",
       "1565  2144090200   부산직할시 강서구 천가동   폐지\n",
       "2792  2644000000       부산광역시 강서구   존재\n",
       "2793  2644010100  부산광역시 강서구 대저1동   존재\n",
       "2794  2644010200  부산광역시 강서구 대저2동   존재\n",
       "2795  2644010300   부산광역시 강서구 강동동   존재\n",
       "2796  2644010400   부산광역시 강서구 명지동   존재\n",
       "2797  2644010500   부산광역시 강서구 죽림동   존재\n",
       "2798  2644010600   부산광역시 강서구 식만동   존재\n",
       "2799  2644010700   부산광역시 강서구 죽동동   존재\n",
       "2800  2644010800   부산광역시 강서구 봉림동   존재\n",
       "2801  2644010900   부산광역시 강서구 송정동   존재\n",
       "2802  2644011000   부산광역시 강서구 화전동   존재\n",
       "2803  2644011100   부산광역시 강서구 녹산동   존재\n",
       "2804  2644011200   부산광역시 강서구 생곡동   존재\n",
       "2805  2644011300   부산광역시 강서구 구랑동   존재\n",
       "2806  2644011400   부산광역시 강서구 지사동   존재\n",
       "2807  2644011500   부산광역시 강서구 미음동   존재\n",
       "2808  2644011600   부산광역시 강서구 범방동   존재\n",
       "2809  2644011700   부산광역시 강서구 신호동   존재\n",
       "2810  2644011800   부산광역시 강서구 동선동   존재\n",
       "2811  2644011900   부산광역시 강서구 성북동   존재\n",
       "2812  2644012000   부산광역시 강서구 눌차동   존재\n",
       "2813  2644012100   부산광역시 강서구 천성동   존재\n",
       "2814  2644012200   부산광역시 강서구 대항동   존재"
      ]
     },
     "execution_count": 275,
     "metadata": {},
     "output_type": "execute_result"
    }
   ],
   "source": [
    "court_subset_df = courtDF[ courtDF['법정동명'].str.contains('강서') &  courtDF['법정동명'].str.contains('부산') ]\n",
    "court_subset_df"
   ]
  },
  {
   "cell_type": "code",
   "execution_count": 282,
   "metadata": {},
   "outputs": [
    {
     "data": {
      "text/plain": [
       "0                       서울특별시\n",
       "1                   서울특별시-종로구\n",
       "2               서울특별시-종로구-청운동\n",
       "3               서울특별시-종로구-신교동\n",
       "4               서울특별시-종로구-궁정동\n",
       "                 ...         \n",
       "46175    제주특별자치도-서귀포시-표선면-하천리\n",
       "46176    제주특별자치도-서귀포시-표선면-성읍리\n",
       "46177    제주특별자치도-서귀포시-표선면-가시리\n",
       "46178    제주특별자치도-서귀포시-표선면-세화리\n",
       "46179    제주특별자치도-서귀포시-표선면-토산리\n",
       "Name: 법정동명, Length: 46180, dtype: object"
      ]
     },
     "execution_count": 282,
     "metadata": {},
     "output_type": "execute_result"
    }
   ],
   "source": [
    "court_subset_df = courtDF['법정동명'].str.replace(' ' , '-' )\n",
    "court_subset_df"
   ]
  },
  {
   "cell_type": "markdown",
   "metadata": {},
   "source": [
    "- str.strip()\n",
    "- str.lstrip()\n",
    "- str.rstrip()\n",
    "- str.lower()\n",
    "- str.upper()\n",
    "- str.swapcase()"
   ]
  },
  {
   "cell_type": "code",
   "execution_count": 283,
   "metadata": {},
   "outputs": [],
   "source": [
    "emptyDF = pd.DataFrame({\n",
    "    'col01' : ['abcd   ' , ' FFFght '  , 'abCCe    '],\n",
    "    'col02' : ['   fjHij' , ' ffght '  , 'Ibcce    '],\n",
    "        \n",
    "})"
   ]
  },
  {
   "cell_type": "code",
   "execution_count": 284,
   "metadata": {},
   "outputs": [
    {
     "data": {
      "text/html": [
       "<div>\n",
       "<style scoped>\n",
       "    .dataframe tbody tr th:only-of-type {\n",
       "        vertical-align: middle;\n",
       "    }\n",
       "\n",
       "    .dataframe tbody tr th {\n",
       "        vertical-align: top;\n",
       "    }\n",
       "\n",
       "    .dataframe thead th {\n",
       "        text-align: right;\n",
       "    }\n",
       "</style>\n",
       "<table border=\"1\" class=\"dataframe\">\n",
       "  <thead>\n",
       "    <tr style=\"text-align: right;\">\n",
       "      <th></th>\n",
       "      <th>col01</th>\n",
       "      <th>col02</th>\n",
       "    </tr>\n",
       "  </thead>\n",
       "  <tbody>\n",
       "    <tr>\n",
       "      <th>0</th>\n",
       "      <td>abcd</td>\n",
       "      <td>fjHij</td>\n",
       "    </tr>\n",
       "    <tr>\n",
       "      <th>1</th>\n",
       "      <td>FFFght</td>\n",
       "      <td>ffght</td>\n",
       "    </tr>\n",
       "    <tr>\n",
       "      <th>2</th>\n",
       "      <td>abCCe</td>\n",
       "      <td>Ibcce</td>\n",
       "    </tr>\n",
       "  </tbody>\n",
       "</table>\n",
       "</div>"
      ],
      "text/plain": [
       "       col01      col02\n",
       "0    abcd         fjHij\n",
       "1    FFFght      ffght \n",
       "2  abCCe      Ibcce    "
      ]
     },
     "execution_count": 284,
     "metadata": {},
     "output_type": "execute_result"
    }
   ],
   "source": [
    "emptyDF"
   ]
  },
  {
   "cell_type": "code",
   "execution_count": 292,
   "metadata": {},
   "outputs": [
    {
     "data": {
      "text/plain": [
       "0      ABCD\n",
       "1    FFFGHT\n",
       "2     ABCCE\n",
       "Name: col01, dtype: object"
      ]
     },
     "execution_count": 292,
     "metadata": {},
     "output_type": "execute_result"
    }
   ],
   "source": [
    "emptyDF['col01'].str.strip().str.upper()"
   ]
  },
  {
   "cell_type": "code",
   "execution_count": null,
   "metadata": {},
   "outputs": [],
   "source": []
  },
  {
   "cell_type": "code",
   "execution_count": null,
   "metadata": {},
   "outputs": [],
   "source": []
  },
  {
   "cell_type": "code",
   "execution_count": null,
   "metadata": {},
   "outputs": [],
   "source": []
  },
  {
   "cell_type": "code",
   "execution_count": null,
   "metadata": {},
   "outputs": [],
   "source": []
  },
  {
   "cell_type": "code",
   "execution_count": null,
   "metadata": {},
   "outputs": [],
   "source": []
  },
  {
   "cell_type": "code",
   "execution_count": null,
   "metadata": {},
   "outputs": [],
   "source": []
  },
  {
   "cell_type": "code",
   "execution_count": null,
   "metadata": {},
   "outputs": [],
   "source": []
  }
 ],
 "metadata": {
  "kernelspec": {
   "display_name": "Python 3",
   "language": "python",
   "name": "python3"
  },
  "language_info": {
   "codemirror_mode": {
    "name": "ipython",
    "version": 3
   },
   "file_extension": ".py",
   "mimetype": "text/x-python",
   "name": "python",
   "nbconvert_exporter": "python",
   "pygments_lexer": "ipython3",
   "version": "3.8.5"
  }
 },
 "nbformat": 4,
 "nbformat_minor": 4
}
