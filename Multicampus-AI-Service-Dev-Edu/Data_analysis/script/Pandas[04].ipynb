{
 "cells": [
  {
   "cell_type": "code",
   "execution_count": 2,
   "metadata": {},
   "outputs": [],
   "source": [
    "import numpy   as np\n",
    "import pandas  as pd\n",
    "import seaborn as sns"
   ]
  },
  {
   "cell_type": "code",
   "execution_count": 3,
   "metadata": {},
   "outputs": [
    {
     "data": {
      "text/html": [
       "<div>\n",
       "<style scoped>\n",
       "    .dataframe tbody tr th:only-of-type {\n",
       "        vertical-align: middle;\n",
       "    }\n",
       "\n",
       "    .dataframe tbody tr th {\n",
       "        vertical-align: top;\n",
       "    }\n",
       "\n",
       "    .dataframe thead th {\n",
       "        text-align: right;\n",
       "    }\n",
       "</style>\n",
       "<table border=\"1\" class=\"dataframe\">\n",
       "  <thead>\n",
       "    <tr style=\"text-align: right;\">\n",
       "      <th></th>\n",
       "      <th>sepal_length</th>\n",
       "      <th>sepal_width</th>\n",
       "      <th>petal_length</th>\n",
       "      <th>petal_width</th>\n",
       "      <th>species</th>\n",
       "    </tr>\n",
       "  </thead>\n",
       "  <tbody>\n",
       "    <tr>\n",
       "      <th>0</th>\n",
       "      <td>5.1</td>\n",
       "      <td>3.5</td>\n",
       "      <td>1.4</td>\n",
       "      <td>0.2</td>\n",
       "      <td>setosa</td>\n",
       "    </tr>\n",
       "    <tr>\n",
       "      <th>1</th>\n",
       "      <td>4.9</td>\n",
       "      <td>3.0</td>\n",
       "      <td>1.4</td>\n",
       "      <td>0.2</td>\n",
       "      <td>setosa</td>\n",
       "    </tr>\n",
       "    <tr>\n",
       "      <th>2</th>\n",
       "      <td>4.7</td>\n",
       "      <td>3.2</td>\n",
       "      <td>1.3</td>\n",
       "      <td>0.2</td>\n",
       "      <td>setosa</td>\n",
       "    </tr>\n",
       "    <tr>\n",
       "      <th>3</th>\n",
       "      <td>4.6</td>\n",
       "      <td>3.1</td>\n",
       "      <td>1.5</td>\n",
       "      <td>0.2</td>\n",
       "      <td>setosa</td>\n",
       "    </tr>\n",
       "    <tr>\n",
       "      <th>4</th>\n",
       "      <td>5.0</td>\n",
       "      <td>3.6</td>\n",
       "      <td>1.4</td>\n",
       "      <td>0.2</td>\n",
       "      <td>setosa</td>\n",
       "    </tr>\n",
       "  </tbody>\n",
       "</table>\n",
       "</div>"
      ],
      "text/plain": [
       "   sepal_length  sepal_width  petal_length  petal_width species\n",
       "0           5.1          3.5           1.4          0.2  setosa\n",
       "1           4.9          3.0           1.4          0.2  setosa\n",
       "2           4.7          3.2           1.3          0.2  setosa\n",
       "3           4.6          3.1           1.5          0.2  setosa\n",
       "4           5.0          3.6           1.4          0.2  setosa"
      ]
     },
     "execution_count": 3,
     "metadata": {},
     "output_type": "execute_result"
    }
   ],
   "source": [
    "iris_datasets = sns.load_dataset('iris')\n",
    "iris_datasets.head()"
   ]
  },
  {
   "cell_type": "code",
   "execution_count": 4,
   "metadata": {},
   "outputs": [
    {
     "name": "stdout",
     "output_type": "stream",
     "text": [
      "<class 'pandas.core.frame.DataFrame'>\n",
      "RangeIndex: 150 entries, 0 to 149\n",
      "Data columns (total 5 columns):\n",
      " #   Column        Non-Null Count  Dtype  \n",
      "---  ------        --------------  -----  \n",
      " 0   sepal_length  150 non-null    float64\n",
      " 1   sepal_width   150 non-null    float64\n",
      " 2   petal_length  150 non-null    float64\n",
      " 3   petal_width   150 non-null    float64\n",
      " 4   species       150 non-null    object \n",
      "dtypes: float64(4), object(1)\n",
      "memory usage: 6.0+ KB\n"
     ]
    }
   ],
   "source": [
    "iris_datasets.info()"
   ]
  },
  {
   "cell_type": "code",
   "execution_count": 5,
   "metadata": {},
   "outputs": [
    {
     "data": {
      "text/html": [
       "<div>\n",
       "<style scoped>\n",
       "    .dataframe tbody tr th:only-of-type {\n",
       "        vertical-align: middle;\n",
       "    }\n",
       "\n",
       "    .dataframe tbody tr th {\n",
       "        vertical-align: top;\n",
       "    }\n",
       "\n",
       "    .dataframe thead th {\n",
       "        text-align: right;\n",
       "    }\n",
       "</style>\n",
       "<table border=\"1\" class=\"dataframe\">\n",
       "  <thead>\n",
       "    <tr style=\"text-align: right;\">\n",
       "      <th></th>\n",
       "      <th>sepal_length</th>\n",
       "      <th>sepal_width</th>\n",
       "      <th>petal_length</th>\n",
       "      <th>petal_width</th>\n",
       "    </tr>\n",
       "  </thead>\n",
       "  <tbody>\n",
       "    <tr>\n",
       "      <th>count</th>\n",
       "      <td>150.000000</td>\n",
       "      <td>150.000000</td>\n",
       "      <td>150.000000</td>\n",
       "      <td>150.000000</td>\n",
       "    </tr>\n",
       "    <tr>\n",
       "      <th>mean</th>\n",
       "      <td>5.843333</td>\n",
       "      <td>3.057333</td>\n",
       "      <td>3.758000</td>\n",
       "      <td>1.199333</td>\n",
       "    </tr>\n",
       "    <tr>\n",
       "      <th>std</th>\n",
       "      <td>0.828066</td>\n",
       "      <td>0.435866</td>\n",
       "      <td>1.765298</td>\n",
       "      <td>0.762238</td>\n",
       "    </tr>\n",
       "    <tr>\n",
       "      <th>min</th>\n",
       "      <td>4.300000</td>\n",
       "      <td>2.000000</td>\n",
       "      <td>1.000000</td>\n",
       "      <td>0.100000</td>\n",
       "    </tr>\n",
       "    <tr>\n",
       "      <th>25%</th>\n",
       "      <td>5.100000</td>\n",
       "      <td>2.800000</td>\n",
       "      <td>1.600000</td>\n",
       "      <td>0.300000</td>\n",
       "    </tr>\n",
       "    <tr>\n",
       "      <th>50%</th>\n",
       "      <td>5.800000</td>\n",
       "      <td>3.000000</td>\n",
       "      <td>4.350000</td>\n",
       "      <td>1.300000</td>\n",
       "    </tr>\n",
       "    <tr>\n",
       "      <th>75%</th>\n",
       "      <td>6.400000</td>\n",
       "      <td>3.300000</td>\n",
       "      <td>5.100000</td>\n",
       "      <td>1.800000</td>\n",
       "    </tr>\n",
       "    <tr>\n",
       "      <th>max</th>\n",
       "      <td>7.900000</td>\n",
       "      <td>4.400000</td>\n",
       "      <td>6.900000</td>\n",
       "      <td>2.500000</td>\n",
       "    </tr>\n",
       "  </tbody>\n",
       "</table>\n",
       "</div>"
      ],
      "text/plain": [
       "       sepal_length  sepal_width  petal_length  petal_width\n",
       "count    150.000000   150.000000    150.000000   150.000000\n",
       "mean       5.843333     3.057333      3.758000     1.199333\n",
       "std        0.828066     0.435866      1.765298     0.762238\n",
       "min        4.300000     2.000000      1.000000     0.100000\n",
       "25%        5.100000     2.800000      1.600000     0.300000\n",
       "50%        5.800000     3.000000      4.350000     1.300000\n",
       "75%        6.400000     3.300000      5.100000     1.800000\n",
       "max        7.900000     4.400000      6.900000     2.500000"
      ]
     },
     "execution_count": 5,
     "metadata": {},
     "output_type": "execute_result"
    }
   ],
   "source": [
    "iris_datasets.describe()"
   ]
  },
  {
   "cell_type": "code",
   "execution_count": 6,
   "metadata": {},
   "outputs": [],
   "source": [
    "# 각 종별로 가장 큰 값과 가장 작은 값의 비율을 구한다면?\n",
    "# agg()\n",
    "# \n",
    "def get_ratio(x) :\n",
    "    return x.max() / x.min()"
   ]
  },
  {
   "cell_type": "code",
   "execution_count": 7,
   "metadata": {},
   "outputs": [],
   "source": [
    "grp_iris_species = iris_datasets.groupby(iris_datasets['species'])"
   ]
  },
  {
   "cell_type": "code",
   "execution_count": 8,
   "metadata": {},
   "outputs": [
    {
     "name": "stdout",
     "output_type": "stream",
     "text": [
      "key :  setosa\n",
      "number :  50\n",
      "    sepal_length  sepal_width  petal_length  petal_width species\n",
      "0            5.1          3.5           1.4          0.2  setosa\n",
      "1            4.9          3.0           1.4          0.2  setosa\n",
      "2            4.7          3.2           1.3          0.2  setosa\n",
      "3            4.6          3.1           1.5          0.2  setosa\n",
      "4            5.0          3.6           1.4          0.2  setosa\n",
      "5            5.4          3.9           1.7          0.4  setosa\n",
      "6            4.6          3.4           1.4          0.3  setosa\n",
      "7            5.0          3.4           1.5          0.2  setosa\n",
      "8            4.4          2.9           1.4          0.2  setosa\n",
      "9            4.9          3.1           1.5          0.1  setosa\n",
      "10           5.4          3.7           1.5          0.2  setosa\n",
      "11           4.8          3.4           1.6          0.2  setosa\n",
      "12           4.8          3.0           1.4          0.1  setosa\n",
      "13           4.3          3.0           1.1          0.1  setosa\n",
      "14           5.8          4.0           1.2          0.2  setosa\n",
      "15           5.7          4.4           1.5          0.4  setosa\n",
      "16           5.4          3.9           1.3          0.4  setosa\n",
      "17           5.1          3.5           1.4          0.3  setosa\n",
      "18           5.7          3.8           1.7          0.3  setosa\n",
      "19           5.1          3.8           1.5          0.3  setosa\n",
      "20           5.4          3.4           1.7          0.2  setosa\n",
      "21           5.1          3.7           1.5          0.4  setosa\n",
      "22           4.6          3.6           1.0          0.2  setosa\n",
      "23           5.1          3.3           1.7          0.5  setosa\n",
      "24           4.8          3.4           1.9          0.2  setosa\n",
      "25           5.0          3.0           1.6          0.2  setosa\n",
      "26           5.0          3.4           1.6          0.4  setosa\n",
      "27           5.2          3.5           1.5          0.2  setosa\n",
      "28           5.2          3.4           1.4          0.2  setosa\n",
      "29           4.7          3.2           1.6          0.2  setosa\n",
      "30           4.8          3.1           1.6          0.2  setosa\n",
      "31           5.4          3.4           1.5          0.4  setosa\n",
      "32           5.2          4.1           1.5          0.1  setosa\n",
      "33           5.5          4.2           1.4          0.2  setosa\n",
      "34           4.9          3.1           1.5          0.2  setosa\n",
      "35           5.0          3.2           1.2          0.2  setosa\n",
      "36           5.5          3.5           1.3          0.2  setosa\n",
      "37           4.9          3.6           1.4          0.1  setosa\n",
      "38           4.4          3.0           1.3          0.2  setosa\n",
      "39           5.1          3.4           1.5          0.2  setosa\n",
      "40           5.0          3.5           1.3          0.3  setosa\n",
      "41           4.5          2.3           1.3          0.3  setosa\n",
      "42           4.4          3.2           1.3          0.2  setosa\n",
      "43           5.0          3.5           1.6          0.6  setosa\n",
      "44           5.1          3.8           1.9          0.4  setosa\n",
      "45           4.8          3.0           1.4          0.3  setosa\n",
      "46           5.1          3.8           1.6          0.2  setosa\n",
      "47           4.6          3.2           1.4          0.2  setosa\n",
      "48           5.3          3.7           1.5          0.2  setosa\n",
      "49           5.0          3.3           1.4          0.2  setosa\n",
      "\n",
      "\n",
      "key :  versicolor\n",
      "number :  50\n",
      "    sepal_length  sepal_width  petal_length  petal_width     species\n",
      "50           7.0          3.2           4.7          1.4  versicolor\n",
      "51           6.4          3.2           4.5          1.5  versicolor\n",
      "52           6.9          3.1           4.9          1.5  versicolor\n",
      "53           5.5          2.3           4.0          1.3  versicolor\n",
      "54           6.5          2.8           4.6          1.5  versicolor\n",
      "55           5.7          2.8           4.5          1.3  versicolor\n",
      "56           6.3          3.3           4.7          1.6  versicolor\n",
      "57           4.9          2.4           3.3          1.0  versicolor\n",
      "58           6.6          2.9           4.6          1.3  versicolor\n",
      "59           5.2          2.7           3.9          1.4  versicolor\n",
      "60           5.0          2.0           3.5          1.0  versicolor\n",
      "61           5.9          3.0           4.2          1.5  versicolor\n",
      "62           6.0          2.2           4.0          1.0  versicolor\n",
      "63           6.1          2.9           4.7          1.4  versicolor\n",
      "64           5.6          2.9           3.6          1.3  versicolor\n",
      "65           6.7          3.1           4.4          1.4  versicolor\n",
      "66           5.6          3.0           4.5          1.5  versicolor\n",
      "67           5.8          2.7           4.1          1.0  versicolor\n",
      "68           6.2          2.2           4.5          1.5  versicolor\n",
      "69           5.6          2.5           3.9          1.1  versicolor\n",
      "70           5.9          3.2           4.8          1.8  versicolor\n",
      "71           6.1          2.8           4.0          1.3  versicolor\n",
      "72           6.3          2.5           4.9          1.5  versicolor\n",
      "73           6.1          2.8           4.7          1.2  versicolor\n",
      "74           6.4          2.9           4.3          1.3  versicolor\n",
      "75           6.6          3.0           4.4          1.4  versicolor\n",
      "76           6.8          2.8           4.8          1.4  versicolor\n",
      "77           6.7          3.0           5.0          1.7  versicolor\n",
      "78           6.0          2.9           4.5          1.5  versicolor\n",
      "79           5.7          2.6           3.5          1.0  versicolor\n",
      "80           5.5          2.4           3.8          1.1  versicolor\n",
      "81           5.5          2.4           3.7          1.0  versicolor\n",
      "82           5.8          2.7           3.9          1.2  versicolor\n",
      "83           6.0          2.7           5.1          1.6  versicolor\n",
      "84           5.4          3.0           4.5          1.5  versicolor\n",
      "85           6.0          3.4           4.5          1.6  versicolor\n",
      "86           6.7          3.1           4.7          1.5  versicolor\n",
      "87           6.3          2.3           4.4          1.3  versicolor\n",
      "88           5.6          3.0           4.1          1.3  versicolor\n",
      "89           5.5          2.5           4.0          1.3  versicolor\n",
      "90           5.5          2.6           4.4          1.2  versicolor\n",
      "91           6.1          3.0           4.6          1.4  versicolor\n",
      "92           5.8          2.6           4.0          1.2  versicolor\n",
      "93           5.0          2.3           3.3          1.0  versicolor\n",
      "94           5.6          2.7           4.2          1.3  versicolor\n",
      "95           5.7          3.0           4.2          1.2  versicolor\n",
      "96           5.7          2.9           4.2          1.3  versicolor\n",
      "97           6.2          2.9           4.3          1.3  versicolor\n",
      "98           5.1          2.5           3.0          1.1  versicolor\n",
      "99           5.7          2.8           4.1          1.3  versicolor\n",
      "\n",
      "\n",
      "key :  virginica\n",
      "number :  50\n",
      "     sepal_length  sepal_width  petal_length  petal_width    species\n",
      "100           6.3          3.3           6.0          2.5  virginica\n",
      "101           5.8          2.7           5.1          1.9  virginica\n",
      "102           7.1          3.0           5.9          2.1  virginica\n",
      "103           6.3          2.9           5.6          1.8  virginica\n",
      "104           6.5          3.0           5.8          2.2  virginica\n",
      "105           7.6          3.0           6.6          2.1  virginica\n",
      "106           4.9          2.5           4.5          1.7  virginica\n",
      "107           7.3          2.9           6.3          1.8  virginica\n",
      "108           6.7          2.5           5.8          1.8  virginica\n",
      "109           7.2          3.6           6.1          2.5  virginica\n",
      "110           6.5          3.2           5.1          2.0  virginica\n",
      "111           6.4          2.7           5.3          1.9  virginica\n",
      "112           6.8          3.0           5.5          2.1  virginica\n",
      "113           5.7          2.5           5.0          2.0  virginica\n",
      "114           5.8          2.8           5.1          2.4  virginica\n",
      "115           6.4          3.2           5.3          2.3  virginica\n",
      "116           6.5          3.0           5.5          1.8  virginica\n",
      "117           7.7          3.8           6.7          2.2  virginica\n",
      "118           7.7          2.6           6.9          2.3  virginica\n",
      "119           6.0          2.2           5.0          1.5  virginica\n",
      "120           6.9          3.2           5.7          2.3  virginica\n",
      "121           5.6          2.8           4.9          2.0  virginica\n",
      "122           7.7          2.8           6.7          2.0  virginica\n",
      "123           6.3          2.7           4.9          1.8  virginica\n",
      "124           6.7          3.3           5.7          2.1  virginica\n",
      "125           7.2          3.2           6.0          1.8  virginica\n",
      "126           6.2          2.8           4.8          1.8  virginica\n",
      "127           6.1          3.0           4.9          1.8  virginica\n",
      "128           6.4          2.8           5.6          2.1  virginica\n",
      "129           7.2          3.0           5.8          1.6  virginica\n",
      "130           7.4          2.8           6.1          1.9  virginica\n",
      "131           7.9          3.8           6.4          2.0  virginica\n",
      "132           6.4          2.8           5.6          2.2  virginica\n",
      "133           6.3          2.8           5.1          1.5  virginica\n",
      "134           6.1          2.6           5.6          1.4  virginica\n",
      "135           7.7          3.0           6.1          2.3  virginica\n",
      "136           6.3          3.4           5.6          2.4  virginica\n",
      "137           6.4          3.1           5.5          1.8  virginica\n",
      "138           6.0          3.0           4.8          1.8  virginica\n",
      "139           6.9          3.1           5.4          2.1  virginica\n",
      "140           6.7          3.1           5.6          2.4  virginica\n",
      "141           6.9          3.1           5.1          2.3  virginica\n",
      "142           5.8          2.7           5.1          1.9  virginica\n",
      "143           6.8          3.2           5.9          2.3  virginica\n",
      "144           6.7          3.3           5.7          2.5  virginica\n",
      "145           6.7          3.0           5.2          2.3  virginica\n",
      "146           6.3          2.5           5.0          1.9  virginica\n",
      "147           6.5          3.0           5.2          2.0  virginica\n",
      "148           6.2          3.4           5.4          2.3  virginica\n",
      "149           5.9          3.0           5.1          1.8  virginica\n",
      "\n",
      "\n"
     ]
    }
   ],
   "source": [
    "for key , group in grp_iris_species :\n",
    "    print('key : ' , key)\n",
    "    print('number : ' , len(group))\n",
    "    print(group)\n",
    "    print('\\n')"
   ]
  },
  {
   "cell_type": "code",
   "execution_count": 9,
   "metadata": {},
   "outputs": [
    {
     "data": {
      "text/html": [
       "<div>\n",
       "<style scoped>\n",
       "    .dataframe tbody tr th:only-of-type {\n",
       "        vertical-align: middle;\n",
       "    }\n",
       "\n",
       "    .dataframe tbody tr th {\n",
       "        vertical-align: top;\n",
       "    }\n",
       "\n",
       "    .dataframe thead th {\n",
       "        text-align: right;\n",
       "    }\n",
       "</style>\n",
       "<table border=\"1\" class=\"dataframe\">\n",
       "  <thead>\n",
       "    <tr style=\"text-align: right;\">\n",
       "      <th></th>\n",
       "      <th>sepal_length</th>\n",
       "      <th>sepal_width</th>\n",
       "      <th>petal_length</th>\n",
       "      <th>petal_width</th>\n",
       "    </tr>\n",
       "    <tr>\n",
       "      <th>species</th>\n",
       "      <th></th>\n",
       "      <th></th>\n",
       "      <th></th>\n",
       "      <th></th>\n",
       "    </tr>\n",
       "  </thead>\n",
       "  <tbody>\n",
       "    <tr>\n",
       "      <th>setosa</th>\n",
       "      <td>1.348837</td>\n",
       "      <td>1.913043</td>\n",
       "      <td>1.900000</td>\n",
       "      <td>6.000000</td>\n",
       "    </tr>\n",
       "    <tr>\n",
       "      <th>versicolor</th>\n",
       "      <td>1.428571</td>\n",
       "      <td>1.700000</td>\n",
       "      <td>1.700000</td>\n",
       "      <td>1.800000</td>\n",
       "    </tr>\n",
       "    <tr>\n",
       "      <th>virginica</th>\n",
       "      <td>1.612245</td>\n",
       "      <td>1.727273</td>\n",
       "      <td>1.533333</td>\n",
       "      <td>1.785714</td>\n",
       "    </tr>\n",
       "  </tbody>\n",
       "</table>\n",
       "</div>"
      ],
      "text/plain": [
       "            sepal_length  sepal_width  petal_length  petal_width\n",
       "species                                                         \n",
       "setosa          1.348837     1.913043      1.900000     6.000000\n",
       "versicolor      1.428571     1.700000      1.700000     1.800000\n",
       "virginica       1.612245     1.727273      1.533333     1.785714"
      ]
     },
     "execution_count": 9,
     "metadata": {},
     "output_type": "execute_result"
    }
   ],
   "source": [
    "grp_iris_species.agg(get_ratio)"
   ]
  },
  {
   "cell_type": "code",
   "execution_count": 10,
   "metadata": {},
   "outputs": [
    {
     "data": {
      "text/html": [
       "<div>\n",
       "<style scoped>\n",
       "    .dataframe tbody tr th:only-of-type {\n",
       "        vertical-align: middle;\n",
       "    }\n",
       "\n",
       "    .dataframe tbody tr th {\n",
       "        vertical-align: top;\n",
       "    }\n",
       "\n",
       "    .dataframe thead th {\n",
       "        text-align: right;\n",
       "    }\n",
       "</style>\n",
       "<table border=\"1\" class=\"dataframe\">\n",
       "  <thead>\n",
       "    <tr style=\"text-align: right;\">\n",
       "      <th></th>\n",
       "      <th>species</th>\n",
       "      <th>setosa</th>\n",
       "      <th>versicolor</th>\n",
       "      <th>virginica</th>\n",
       "    </tr>\n",
       "  </thead>\n",
       "  <tbody>\n",
       "    <tr>\n",
       "      <th rowspan=\"8\" valign=\"top\">sepal_length</th>\n",
       "      <th>count</th>\n",
       "      <td>50.000000</td>\n",
       "      <td>50.000000</td>\n",
       "      <td>50.000000</td>\n",
       "    </tr>\n",
       "    <tr>\n",
       "      <th>mean</th>\n",
       "      <td>5.006000</td>\n",
       "      <td>5.936000</td>\n",
       "      <td>6.588000</td>\n",
       "    </tr>\n",
       "    <tr>\n",
       "      <th>std</th>\n",
       "      <td>0.352490</td>\n",
       "      <td>0.516171</td>\n",
       "      <td>0.635880</td>\n",
       "    </tr>\n",
       "    <tr>\n",
       "      <th>min</th>\n",
       "      <td>4.300000</td>\n",
       "      <td>4.900000</td>\n",
       "      <td>4.900000</td>\n",
       "    </tr>\n",
       "    <tr>\n",
       "      <th>25%</th>\n",
       "      <td>4.800000</td>\n",
       "      <td>5.600000</td>\n",
       "      <td>6.225000</td>\n",
       "    </tr>\n",
       "    <tr>\n",
       "      <th>50%</th>\n",
       "      <td>5.000000</td>\n",
       "      <td>5.900000</td>\n",
       "      <td>6.500000</td>\n",
       "    </tr>\n",
       "    <tr>\n",
       "      <th>75%</th>\n",
       "      <td>5.200000</td>\n",
       "      <td>6.300000</td>\n",
       "      <td>6.900000</td>\n",
       "    </tr>\n",
       "    <tr>\n",
       "      <th>max</th>\n",
       "      <td>5.800000</td>\n",
       "      <td>7.000000</td>\n",
       "      <td>7.900000</td>\n",
       "    </tr>\n",
       "    <tr>\n",
       "      <th rowspan=\"8\" valign=\"top\">sepal_width</th>\n",
       "      <th>count</th>\n",
       "      <td>50.000000</td>\n",
       "      <td>50.000000</td>\n",
       "      <td>50.000000</td>\n",
       "    </tr>\n",
       "    <tr>\n",
       "      <th>mean</th>\n",
       "      <td>3.428000</td>\n",
       "      <td>2.770000</td>\n",
       "      <td>2.974000</td>\n",
       "    </tr>\n",
       "    <tr>\n",
       "      <th>std</th>\n",
       "      <td>0.379064</td>\n",
       "      <td>0.313798</td>\n",
       "      <td>0.322497</td>\n",
       "    </tr>\n",
       "    <tr>\n",
       "      <th>min</th>\n",
       "      <td>2.300000</td>\n",
       "      <td>2.000000</td>\n",
       "      <td>2.200000</td>\n",
       "    </tr>\n",
       "    <tr>\n",
       "      <th>25%</th>\n",
       "      <td>3.200000</td>\n",
       "      <td>2.525000</td>\n",
       "      <td>2.800000</td>\n",
       "    </tr>\n",
       "    <tr>\n",
       "      <th>50%</th>\n",
       "      <td>3.400000</td>\n",
       "      <td>2.800000</td>\n",
       "      <td>3.000000</td>\n",
       "    </tr>\n",
       "    <tr>\n",
       "      <th>75%</th>\n",
       "      <td>3.675000</td>\n",
       "      <td>3.000000</td>\n",
       "      <td>3.175000</td>\n",
       "    </tr>\n",
       "    <tr>\n",
       "      <th>max</th>\n",
       "      <td>4.400000</td>\n",
       "      <td>3.400000</td>\n",
       "      <td>3.800000</td>\n",
       "    </tr>\n",
       "    <tr>\n",
       "      <th rowspan=\"8\" valign=\"top\">petal_length</th>\n",
       "      <th>count</th>\n",
       "      <td>50.000000</td>\n",
       "      <td>50.000000</td>\n",
       "      <td>50.000000</td>\n",
       "    </tr>\n",
       "    <tr>\n",
       "      <th>mean</th>\n",
       "      <td>1.462000</td>\n",
       "      <td>4.260000</td>\n",
       "      <td>5.552000</td>\n",
       "    </tr>\n",
       "    <tr>\n",
       "      <th>std</th>\n",
       "      <td>0.173664</td>\n",
       "      <td>0.469911</td>\n",
       "      <td>0.551895</td>\n",
       "    </tr>\n",
       "    <tr>\n",
       "      <th>min</th>\n",
       "      <td>1.000000</td>\n",
       "      <td>3.000000</td>\n",
       "      <td>4.500000</td>\n",
       "    </tr>\n",
       "    <tr>\n",
       "      <th>25%</th>\n",
       "      <td>1.400000</td>\n",
       "      <td>4.000000</td>\n",
       "      <td>5.100000</td>\n",
       "    </tr>\n",
       "    <tr>\n",
       "      <th>50%</th>\n",
       "      <td>1.500000</td>\n",
       "      <td>4.350000</td>\n",
       "      <td>5.550000</td>\n",
       "    </tr>\n",
       "    <tr>\n",
       "      <th>75%</th>\n",
       "      <td>1.575000</td>\n",
       "      <td>4.600000</td>\n",
       "      <td>5.875000</td>\n",
       "    </tr>\n",
       "    <tr>\n",
       "      <th>max</th>\n",
       "      <td>1.900000</td>\n",
       "      <td>5.100000</td>\n",
       "      <td>6.900000</td>\n",
       "    </tr>\n",
       "    <tr>\n",
       "      <th rowspan=\"8\" valign=\"top\">petal_width</th>\n",
       "      <th>count</th>\n",
       "      <td>50.000000</td>\n",
       "      <td>50.000000</td>\n",
       "      <td>50.000000</td>\n",
       "    </tr>\n",
       "    <tr>\n",
       "      <th>mean</th>\n",
       "      <td>0.246000</td>\n",
       "      <td>1.326000</td>\n",
       "      <td>2.026000</td>\n",
       "    </tr>\n",
       "    <tr>\n",
       "      <th>std</th>\n",
       "      <td>0.105386</td>\n",
       "      <td>0.197753</td>\n",
       "      <td>0.274650</td>\n",
       "    </tr>\n",
       "    <tr>\n",
       "      <th>min</th>\n",
       "      <td>0.100000</td>\n",
       "      <td>1.000000</td>\n",
       "      <td>1.400000</td>\n",
       "    </tr>\n",
       "    <tr>\n",
       "      <th>25%</th>\n",
       "      <td>0.200000</td>\n",
       "      <td>1.200000</td>\n",
       "      <td>1.800000</td>\n",
       "    </tr>\n",
       "    <tr>\n",
       "      <th>50%</th>\n",
       "      <td>0.200000</td>\n",
       "      <td>1.300000</td>\n",
       "      <td>2.000000</td>\n",
       "    </tr>\n",
       "    <tr>\n",
       "      <th>75%</th>\n",
       "      <td>0.300000</td>\n",
       "      <td>1.500000</td>\n",
       "      <td>2.300000</td>\n",
       "    </tr>\n",
       "    <tr>\n",
       "      <th>max</th>\n",
       "      <td>0.600000</td>\n",
       "      <td>1.800000</td>\n",
       "      <td>2.500000</td>\n",
       "    </tr>\n",
       "  </tbody>\n",
       "</table>\n",
       "</div>"
      ],
      "text/plain": [
       "species                setosa  versicolor  virginica\n",
       "sepal_length count  50.000000   50.000000  50.000000\n",
       "             mean    5.006000    5.936000   6.588000\n",
       "             std     0.352490    0.516171   0.635880\n",
       "             min     4.300000    4.900000   4.900000\n",
       "             25%     4.800000    5.600000   6.225000\n",
       "             50%     5.000000    5.900000   6.500000\n",
       "             75%     5.200000    6.300000   6.900000\n",
       "             max     5.800000    7.000000   7.900000\n",
       "sepal_width  count  50.000000   50.000000  50.000000\n",
       "             mean    3.428000    2.770000   2.974000\n",
       "             std     0.379064    0.313798   0.322497\n",
       "             min     2.300000    2.000000   2.200000\n",
       "             25%     3.200000    2.525000   2.800000\n",
       "             50%     3.400000    2.800000   3.000000\n",
       "             75%     3.675000    3.000000   3.175000\n",
       "             max     4.400000    3.400000   3.800000\n",
       "petal_length count  50.000000   50.000000  50.000000\n",
       "             mean    1.462000    4.260000   5.552000\n",
       "             std     0.173664    0.469911   0.551895\n",
       "             min     1.000000    3.000000   4.500000\n",
       "             25%     1.400000    4.000000   5.100000\n",
       "             50%     1.500000    4.350000   5.550000\n",
       "             75%     1.575000    4.600000   5.875000\n",
       "             max     1.900000    5.100000   6.900000\n",
       "petal_width  count  50.000000   50.000000  50.000000\n",
       "             mean    0.246000    1.326000   2.026000\n",
       "             std     0.105386    0.197753   0.274650\n",
       "             min     0.100000    1.000000   1.400000\n",
       "             25%     0.200000    1.200000   1.800000\n",
       "             50%     0.200000    1.300000   2.000000\n",
       "             75%     0.300000    1.500000   2.300000\n",
       "             max     0.600000    1.800000   2.500000"
      ]
     },
     "execution_count": 10,
     "metadata": {},
     "output_type": "execute_result"
    }
   ],
   "source": [
    "grp_iris_species.describe().T"
   ]
  },
  {
   "cell_type": "code",
   "execution_count": 11,
   "metadata": {},
   "outputs": [
    {
     "data": {
      "text/html": [
       "<div>\n",
       "<style scoped>\n",
       "    .dataframe tbody tr th:only-of-type {\n",
       "        vertical-align: middle;\n",
       "    }\n",
       "\n",
       "    .dataframe tbody tr th {\n",
       "        vertical-align: top;\n",
       "    }\n",
       "\n",
       "    .dataframe thead th {\n",
       "        text-align: right;\n",
       "    }\n",
       "</style>\n",
       "<table border=\"1\" class=\"dataframe\">\n",
       "  <thead>\n",
       "    <tr style=\"text-align: right;\">\n",
       "      <th></th>\n",
       "      <th>sepal_length</th>\n",
       "      <th>sepal_width</th>\n",
       "      <th>petal_length</th>\n",
       "      <th>petal_width</th>\n",
       "      <th>species</th>\n",
       "    </tr>\n",
       "  </thead>\n",
       "  <tbody>\n",
       "    <tr>\n",
       "      <th>118</th>\n",
       "      <td>7.7</td>\n",
       "      <td>2.6</td>\n",
       "      <td>6.9</td>\n",
       "      <td>2.3</td>\n",
       "      <td>virginica</td>\n",
       "    </tr>\n",
       "    <tr>\n",
       "      <th>122</th>\n",
       "      <td>7.7</td>\n",
       "      <td>2.8</td>\n",
       "      <td>6.7</td>\n",
       "      <td>2.0</td>\n",
       "      <td>virginica</td>\n",
       "    </tr>\n",
       "    <tr>\n",
       "      <th>117</th>\n",
       "      <td>7.7</td>\n",
       "      <td>3.8</td>\n",
       "      <td>6.7</td>\n",
       "      <td>2.2</td>\n",
       "      <td>virginica</td>\n",
       "    </tr>\n",
       "  </tbody>\n",
       "</table>\n",
       "</div>"
      ],
      "text/plain": [
       "     sepal_length  sepal_width  petal_length  petal_width    species\n",
       "118           7.7          2.6           6.9          2.3  virginica\n",
       "122           7.7          2.8           6.7          2.0  virginica\n",
       "117           7.7          3.8           6.7          2.2  virginica"
      ]
     },
     "execution_count": 11,
     "metadata": {},
     "output_type": "execute_result"
    }
   ],
   "source": [
    "# 종별로 가장 긴 꽃잎길이가 큰 3개의 데이터를 뽑아낸다면?\n",
    "# sort_values() : 내림차순정렬\n",
    "# apply() - 그룹연산이 없는 경우\n",
    "# agg() - 그룹연산\n",
    "iris_datasets.sort_values(by='petal_length' , ascending=False)[:3]"
   ]
  },
  {
   "cell_type": "code",
   "execution_count": 12,
   "metadata": {},
   "outputs": [],
   "source": [
    "def max3_petal_length(df) :\n",
    "    return df.sort_values(by='petal_length' , ascending=False)[:3]"
   ]
  },
  {
   "cell_type": "code",
   "execution_count": 13,
   "metadata": {},
   "outputs": [
    {
     "data": {
      "text/html": [
       "<div>\n",
       "<style scoped>\n",
       "    .dataframe tbody tr th:only-of-type {\n",
       "        vertical-align: middle;\n",
       "    }\n",
       "\n",
       "    .dataframe tbody tr th {\n",
       "        vertical-align: top;\n",
       "    }\n",
       "\n",
       "    .dataframe thead th {\n",
       "        text-align: right;\n",
       "    }\n",
       "</style>\n",
       "<table border=\"1\" class=\"dataframe\">\n",
       "  <thead>\n",
       "    <tr style=\"text-align: right;\">\n",
       "      <th></th>\n",
       "      <th></th>\n",
       "      <th>sepal_length</th>\n",
       "      <th>sepal_width</th>\n",
       "      <th>petal_length</th>\n",
       "      <th>petal_width</th>\n",
       "      <th>species</th>\n",
       "    </tr>\n",
       "    <tr>\n",
       "      <th>species</th>\n",
       "      <th></th>\n",
       "      <th></th>\n",
       "      <th></th>\n",
       "      <th></th>\n",
       "      <th></th>\n",
       "      <th></th>\n",
       "    </tr>\n",
       "  </thead>\n",
       "  <tbody>\n",
       "    <tr>\n",
       "      <th rowspan=\"3\" valign=\"top\">setosa</th>\n",
       "      <th>24</th>\n",
       "      <td>4.8</td>\n",
       "      <td>3.4</td>\n",
       "      <td>1.9</td>\n",
       "      <td>0.2</td>\n",
       "      <td>setosa</td>\n",
       "    </tr>\n",
       "    <tr>\n",
       "      <th>44</th>\n",
       "      <td>5.1</td>\n",
       "      <td>3.8</td>\n",
       "      <td>1.9</td>\n",
       "      <td>0.4</td>\n",
       "      <td>setosa</td>\n",
       "    </tr>\n",
       "    <tr>\n",
       "      <th>23</th>\n",
       "      <td>5.1</td>\n",
       "      <td>3.3</td>\n",
       "      <td>1.7</td>\n",
       "      <td>0.5</td>\n",
       "      <td>setosa</td>\n",
       "    </tr>\n",
       "    <tr>\n",
       "      <th rowspan=\"3\" valign=\"top\">versicolor</th>\n",
       "      <th>83</th>\n",
       "      <td>6.0</td>\n",
       "      <td>2.7</td>\n",
       "      <td>5.1</td>\n",
       "      <td>1.6</td>\n",
       "      <td>versicolor</td>\n",
       "    </tr>\n",
       "    <tr>\n",
       "      <th>77</th>\n",
       "      <td>6.7</td>\n",
       "      <td>3.0</td>\n",
       "      <td>5.0</td>\n",
       "      <td>1.7</td>\n",
       "      <td>versicolor</td>\n",
       "    </tr>\n",
       "    <tr>\n",
       "      <th>72</th>\n",
       "      <td>6.3</td>\n",
       "      <td>2.5</td>\n",
       "      <td>4.9</td>\n",
       "      <td>1.5</td>\n",
       "      <td>versicolor</td>\n",
       "    </tr>\n",
       "    <tr>\n",
       "      <th rowspan=\"3\" valign=\"top\">virginica</th>\n",
       "      <th>118</th>\n",
       "      <td>7.7</td>\n",
       "      <td>2.6</td>\n",
       "      <td>6.9</td>\n",
       "      <td>2.3</td>\n",
       "      <td>virginica</td>\n",
       "    </tr>\n",
       "    <tr>\n",
       "      <th>117</th>\n",
       "      <td>7.7</td>\n",
       "      <td>3.8</td>\n",
       "      <td>6.7</td>\n",
       "      <td>2.2</td>\n",
       "      <td>virginica</td>\n",
       "    </tr>\n",
       "    <tr>\n",
       "      <th>122</th>\n",
       "      <td>7.7</td>\n",
       "      <td>2.8</td>\n",
       "      <td>6.7</td>\n",
       "      <td>2.0</td>\n",
       "      <td>virginica</td>\n",
       "    </tr>\n",
       "  </tbody>\n",
       "</table>\n",
       "</div>"
      ],
      "text/plain": [
       "                sepal_length  sepal_width  petal_length  petal_width  \\\n",
       "species                                                                \n",
       "setosa     24            4.8          3.4           1.9          0.2   \n",
       "           44            5.1          3.8           1.9          0.4   \n",
       "           23            5.1          3.3           1.7          0.5   \n",
       "versicolor 83            6.0          2.7           5.1          1.6   \n",
       "           77            6.7          3.0           5.0          1.7   \n",
       "           72            6.3          2.5           4.9          1.5   \n",
       "virginica  118           7.7          2.6           6.9          2.3   \n",
       "           117           7.7          3.8           6.7          2.2   \n",
       "           122           7.7          2.8           6.7          2.0   \n",
       "\n",
       "                   species  \n",
       "species                     \n",
       "setosa     24       setosa  \n",
       "           44       setosa  \n",
       "           23       setosa  \n",
       "versicolor 83   versicolor  \n",
       "           77   versicolor  \n",
       "           72   versicolor  \n",
       "virginica  118   virginica  \n",
       "           117   virginica  \n",
       "           122   virginica  "
      ]
     },
     "execution_count": 13,
     "metadata": {},
     "output_type": "execute_result"
    }
   ],
   "source": [
    "iris_datasets.groupby(iris_datasets.species).apply(max3_petal_length)"
   ]
  },
  {
   "cell_type": "markdown",
   "metadata": {},
   "source": [
    "- transform() : 그룹별 계산은 동일하지만 데이터프레임 자체를 변화\n",
    "- 꽃잎길이가 해당 종 내에서 대/중/소 어느것에 해당되는지에 대한 프레임을 만들고 싶다면?\n",
    "- cut()  : 동일 길이로 나누어서 범주를 만들고 그룹에 대한 통계량\n",
    "- qcut() : 동일 갯수로 나누어서 범주를 만들고 그룹에 대한 통계량"
   ]
  },
  {
   "cell_type": "code",
   "execution_count": 14,
   "metadata": {},
   "outputs": [
    {
     "data": {
      "text/plain": [
       "<pandas.core.groupby.generic.DataFrameGroupBy object at 0x00000196E7BC19A0>"
      ]
     },
     "execution_count": 14,
     "metadata": {},
     "output_type": "execute_result"
    }
   ],
   "source": [
    "iris_datasets.groupby(iris_datasets.species)"
   ]
  },
  {
   "cell_type": "code",
   "execution_count": 15,
   "metadata": {},
   "outputs": [
    {
     "data": {
      "text/plain": [
       "<pandas.core.groupby.generic.SeriesGroupBy object at 0x00000196E7BC19D0>"
      ]
     },
     "execution_count": 15,
     "metadata": {},
     "output_type": "execute_result"
    }
   ],
   "source": [
    "iris_datasets.groupby(iris_datasets.species).petal_length"
   ]
  },
  {
   "cell_type": "code",
   "execution_count": 16,
   "metadata": {},
   "outputs": [],
   "source": [
    "def cat3_petal_length(s) : \n",
    "    return pd.qcut(s , 3 , labels=['소', '중' , '대']).astype(str) "
   ]
  },
  {
   "cell_type": "code",
   "execution_count": 17,
   "metadata": {},
   "outputs": [
    {
     "data": {
      "text/html": [
       "<div>\n",
       "<style scoped>\n",
       "    .dataframe tbody tr th:only-of-type {\n",
       "        vertical-align: middle;\n",
       "    }\n",
       "\n",
       "    .dataframe tbody tr th {\n",
       "        vertical-align: top;\n",
       "    }\n",
       "\n",
       "    .dataframe thead th {\n",
       "        text-align: right;\n",
       "    }\n",
       "</style>\n",
       "<table border=\"1\" class=\"dataframe\">\n",
       "  <thead>\n",
       "    <tr style=\"text-align: right;\">\n",
       "      <th></th>\n",
       "      <th>sepal_length</th>\n",
       "      <th>sepal_width</th>\n",
       "      <th>petal_length</th>\n",
       "      <th>petal_width</th>\n",
       "      <th>species</th>\n",
       "      <th>category</th>\n",
       "    </tr>\n",
       "  </thead>\n",
       "  <tbody>\n",
       "    <tr>\n",
       "      <th>0</th>\n",
       "      <td>5.1</td>\n",
       "      <td>3.5</td>\n",
       "      <td>1.4</td>\n",
       "      <td>0.2</td>\n",
       "      <td>setosa</td>\n",
       "      <td>소</td>\n",
       "    </tr>\n",
       "    <tr>\n",
       "      <th>1</th>\n",
       "      <td>4.9</td>\n",
       "      <td>3.0</td>\n",
       "      <td>1.4</td>\n",
       "      <td>0.2</td>\n",
       "      <td>setosa</td>\n",
       "      <td>소</td>\n",
       "    </tr>\n",
       "    <tr>\n",
       "      <th>2</th>\n",
       "      <td>4.7</td>\n",
       "      <td>3.2</td>\n",
       "      <td>1.3</td>\n",
       "      <td>0.2</td>\n",
       "      <td>setosa</td>\n",
       "      <td>소</td>\n",
       "    </tr>\n",
       "    <tr>\n",
       "      <th>3</th>\n",
       "      <td>4.6</td>\n",
       "      <td>3.1</td>\n",
       "      <td>1.5</td>\n",
       "      <td>0.2</td>\n",
       "      <td>setosa</td>\n",
       "      <td>중</td>\n",
       "    </tr>\n",
       "    <tr>\n",
       "      <th>4</th>\n",
       "      <td>5.0</td>\n",
       "      <td>3.6</td>\n",
       "      <td>1.4</td>\n",
       "      <td>0.2</td>\n",
       "      <td>setosa</td>\n",
       "      <td>소</td>\n",
       "    </tr>\n",
       "  </tbody>\n",
       "</table>\n",
       "</div>"
      ],
      "text/plain": [
       "   sepal_length  sepal_width  petal_length  petal_width species category\n",
       "0           5.1          3.5           1.4          0.2  setosa        소\n",
       "1           4.9          3.0           1.4          0.2  setosa        소\n",
       "2           4.7          3.2           1.3          0.2  setosa        소\n",
       "3           4.6          3.1           1.5          0.2  setosa        중\n",
       "4           5.0          3.6           1.4          0.2  setosa        소"
      ]
     },
     "execution_count": 17,
     "metadata": {},
     "output_type": "execute_result"
    }
   ],
   "source": [
    "# iris_datasets['category'] = iris_datasets.groupby(iris_datasets.species).petal_length.transform(cat3_petal_length)\n",
    "iris_datasets['category'] = iris_datasets.groupby(iris_datasets.species).petal_length.apply(cat3_petal_length)\n",
    "# iris_datasets['category'] = iris_datasets.groupby(iris_datasets.species).petal_length.agg(cat3_petal_length)\n",
    "iris_datasets.head()"
   ]
  },
  {
   "cell_type": "code",
   "execution_count": 18,
   "metadata": {},
   "outputs": [
    {
     "data": {
      "text/html": [
       "<div>\n",
       "<style scoped>\n",
       "    .dataframe tbody tr th:only-of-type {\n",
       "        vertical-align: middle;\n",
       "    }\n",
       "\n",
       "    .dataframe tbody tr th {\n",
       "        vertical-align: top;\n",
       "    }\n",
       "\n",
       "    .dataframe thead th {\n",
       "        text-align: right;\n",
       "    }\n",
       "</style>\n",
       "<table border=\"1\" class=\"dataframe\">\n",
       "  <thead>\n",
       "    <tr style=\"text-align: right;\">\n",
       "      <th></th>\n",
       "      <th>petal_length</th>\n",
       "      <th>petal_width</th>\n",
       "    </tr>\n",
       "    <tr>\n",
       "      <th>species</th>\n",
       "      <th></th>\n",
       "      <th></th>\n",
       "    </tr>\n",
       "  </thead>\n",
       "  <tbody>\n",
       "    <tr>\n",
       "      <th>setosa</th>\n",
       "      <td>1.462</td>\n",
       "      <td>0.246</td>\n",
       "    </tr>\n",
       "    <tr>\n",
       "      <th>versicolor</th>\n",
       "      <td>4.260</td>\n",
       "      <td>1.326</td>\n",
       "    </tr>\n",
       "    <tr>\n",
       "      <th>virginica</th>\n",
       "      <td>5.552</td>\n",
       "      <td>2.026</td>\n",
       "    </tr>\n",
       "  </tbody>\n",
       "</table>\n",
       "</div>"
      ],
      "text/plain": [
       "            petal_length  petal_width\n",
       "species                              \n",
       "setosa             1.462        0.246\n",
       "versicolor         4.260        1.326\n",
       "virginica          5.552        2.026"
      ]
     },
     "execution_count": 18,
     "metadata": {},
     "output_type": "execute_result"
    }
   ],
   "source": [
    "# 종별로 꽃잎길이, 꽃잎폭 의 평균을 구하라\n",
    "# agg()\n",
    "iris_datasets.groupby(iris_datasets.species).agg(np.mean).loc[ :  , ['petal_length' , 'petal_width']]"
   ]
  },
  {
   "cell_type": "code",
   "execution_count": 19,
   "metadata": {},
   "outputs": [
    {
     "data": {
      "text/html": [
       "<div>\n",
       "<style scoped>\n",
       "    .dataframe tbody tr th:only-of-type {\n",
       "        vertical-align: middle;\n",
       "    }\n",
       "\n",
       "    .dataframe tbody tr th {\n",
       "        vertical-align: top;\n",
       "    }\n",
       "\n",
       "    .dataframe thead tr th {\n",
       "        text-align: left;\n",
       "    }\n",
       "\n",
       "    .dataframe thead tr:last-of-type th {\n",
       "        text-align: right;\n",
       "    }\n",
       "</style>\n",
       "<table border=\"1\" class=\"dataframe\">\n",
       "  <thead>\n",
       "    <tr>\n",
       "      <th></th>\n",
       "      <th colspan=\"2\" halign=\"left\">petal_length</th>\n",
       "      <th>petal_width</th>\n",
       "    </tr>\n",
       "    <tr>\n",
       "      <th></th>\n",
       "      <th>amin</th>\n",
       "      <th>amax</th>\n",
       "      <th>mean</th>\n",
       "    </tr>\n",
       "    <tr>\n",
       "      <th>species</th>\n",
       "      <th></th>\n",
       "      <th></th>\n",
       "      <th></th>\n",
       "    </tr>\n",
       "  </thead>\n",
       "  <tbody>\n",
       "    <tr>\n",
       "      <th>setosa</th>\n",
       "      <td>1.0</td>\n",
       "      <td>1.9</td>\n",
       "      <td>0.246</td>\n",
       "    </tr>\n",
       "    <tr>\n",
       "      <th>versicolor</th>\n",
       "      <td>3.0</td>\n",
       "      <td>5.1</td>\n",
       "      <td>1.326</td>\n",
       "    </tr>\n",
       "    <tr>\n",
       "      <th>virginica</th>\n",
       "      <td>4.5</td>\n",
       "      <td>6.9</td>\n",
       "      <td>2.026</td>\n",
       "    </tr>\n",
       "  </tbody>\n",
       "</table>\n",
       "</div>"
      ],
      "text/plain": [
       "           petal_length      petal_width\n",
       "                   amin amax        mean\n",
       "species                                 \n",
       "setosa              1.0  1.9       0.246\n",
       "versicolor          3.0  5.1       1.326\n",
       "virginica           4.5  6.9       2.026"
      ]
     },
     "execution_count": 19,
     "metadata": {},
     "output_type": "execute_result"
    }
   ],
   "source": [
    "iris_datasets.groupby(iris_datasets.species).agg({'petal_length' : [np.min, np.max] , 'petal_width' : np.mean })"
   ]
  },
  {
   "cell_type": "code",
   "execution_count": 20,
   "metadata": {},
   "outputs": [
    {
     "data": {
      "text/html": [
       "<div>\n",
       "<style scoped>\n",
       "    .dataframe tbody tr th:only-of-type {\n",
       "        vertical-align: middle;\n",
       "    }\n",
       "\n",
       "    .dataframe tbody tr th {\n",
       "        vertical-align: top;\n",
       "    }\n",
       "\n",
       "    .dataframe thead tr th {\n",
       "        text-align: left;\n",
       "    }\n",
       "\n",
       "    .dataframe thead tr:last-of-type th {\n",
       "        text-align: right;\n",
       "    }\n",
       "</style>\n",
       "<table border=\"1\" class=\"dataframe\">\n",
       "  <thead>\n",
       "    <tr>\n",
       "      <th></th>\n",
       "      <th colspan=\"2\" halign=\"left\">sepal_length</th>\n",
       "      <th colspan=\"2\" halign=\"left\">sepal_width</th>\n",
       "      <th colspan=\"2\" halign=\"left\">petal_length</th>\n",
       "      <th colspan=\"2\" halign=\"left\">petal_width</th>\n",
       "      <th colspan=\"2\" halign=\"left\">category</th>\n",
       "    </tr>\n",
       "    <tr>\n",
       "      <th></th>\n",
       "      <th>min</th>\n",
       "      <th>max</th>\n",
       "      <th>min</th>\n",
       "      <th>max</th>\n",
       "      <th>min</th>\n",
       "      <th>max</th>\n",
       "      <th>min</th>\n",
       "      <th>max</th>\n",
       "      <th>min</th>\n",
       "      <th>max</th>\n",
       "    </tr>\n",
       "    <tr>\n",
       "      <th>species</th>\n",
       "      <th></th>\n",
       "      <th></th>\n",
       "      <th></th>\n",
       "      <th></th>\n",
       "      <th></th>\n",
       "      <th></th>\n",
       "      <th></th>\n",
       "      <th></th>\n",
       "      <th></th>\n",
       "      <th></th>\n",
       "    </tr>\n",
       "  </thead>\n",
       "  <tbody>\n",
       "    <tr>\n",
       "      <th>setosa</th>\n",
       "      <td>4.3</td>\n",
       "      <td>5.8</td>\n",
       "      <td>2.3</td>\n",
       "      <td>4.4</td>\n",
       "      <td>1.0</td>\n",
       "      <td>1.9</td>\n",
       "      <td>0.1</td>\n",
       "      <td>0.6</td>\n",
       "      <td>대</td>\n",
       "      <td>중</td>\n",
       "    </tr>\n",
       "    <tr>\n",
       "      <th>versicolor</th>\n",
       "      <td>4.9</td>\n",
       "      <td>7.0</td>\n",
       "      <td>2.0</td>\n",
       "      <td>3.4</td>\n",
       "      <td>3.0</td>\n",
       "      <td>5.1</td>\n",
       "      <td>1.0</td>\n",
       "      <td>1.8</td>\n",
       "      <td>대</td>\n",
       "      <td>중</td>\n",
       "    </tr>\n",
       "    <tr>\n",
       "      <th>virginica</th>\n",
       "      <td>4.9</td>\n",
       "      <td>7.9</td>\n",
       "      <td>2.2</td>\n",
       "      <td>3.8</td>\n",
       "      <td>4.5</td>\n",
       "      <td>6.9</td>\n",
       "      <td>1.4</td>\n",
       "      <td>2.5</td>\n",
       "      <td>대</td>\n",
       "      <td>중</td>\n",
       "    </tr>\n",
       "  </tbody>\n",
       "</table>\n",
       "</div>"
      ],
      "text/plain": [
       "           sepal_length      sepal_width      petal_length      petal_width  \\\n",
       "                    min  max         min  max          min  max         min   \n",
       "species                                                                       \n",
       "setosa              4.3  5.8         2.3  4.4          1.0  1.9         0.1   \n",
       "versicolor          4.9  7.0         2.0  3.4          3.0  5.1         1.0   \n",
       "virginica           4.9  7.9         2.2  3.8          4.5  6.9         1.4   \n",
       "\n",
       "                category      \n",
       "            max      min max  \n",
       "species                       \n",
       "setosa      0.6        대   중  \n",
       "versicolor  1.8        대   중  \n",
       "virginica   2.5        대   중  "
      ]
     },
     "execution_count": 20,
     "metadata": {},
     "output_type": "execute_result"
    }
   ],
   "source": [
    "iris_datasets.groupby(iris_datasets.species).agg(['min', 'max'])"
   ]
  },
  {
   "cell_type": "markdown",
   "metadata": {},
   "source": [
    "- filter() : 그룹 객체에 filter() 적용할 때 조건식을 자진 함수를 전달하면 조건이 참인 그룹만 남긴다"
   ]
  },
  {
   "cell_type": "code",
   "execution_count": 21,
   "metadata": {},
   "outputs": [],
   "source": [
    "titanic_datasets = sns.load_dataset('titanic')"
   ]
  },
  {
   "cell_type": "code",
   "execution_count": 22,
   "metadata": {},
   "outputs": [
    {
     "data": {
      "text/html": [
       "<div>\n",
       "<style scoped>\n",
       "    .dataframe tbody tr th:only-of-type {\n",
       "        vertical-align: middle;\n",
       "    }\n",
       "\n",
       "    .dataframe tbody tr th {\n",
       "        vertical-align: top;\n",
       "    }\n",
       "\n",
       "    .dataframe thead th {\n",
       "        text-align: right;\n",
       "    }\n",
       "</style>\n",
       "<table border=\"1\" class=\"dataframe\">\n",
       "  <thead>\n",
       "    <tr style=\"text-align: right;\">\n",
       "      <th></th>\n",
       "      <th>survived</th>\n",
       "      <th>pclass</th>\n",
       "      <th>sex</th>\n",
       "      <th>age</th>\n",
       "      <th>sibsp</th>\n",
       "      <th>parch</th>\n",
       "      <th>fare</th>\n",
       "      <th>embarked</th>\n",
       "      <th>class</th>\n",
       "      <th>who</th>\n",
       "      <th>adult_male</th>\n",
       "      <th>deck</th>\n",
       "      <th>embark_town</th>\n",
       "      <th>alive</th>\n",
       "      <th>alone</th>\n",
       "    </tr>\n",
       "  </thead>\n",
       "  <tbody>\n",
       "    <tr>\n",
       "      <th>0</th>\n",
       "      <td>0</td>\n",
       "      <td>3</td>\n",
       "      <td>male</td>\n",
       "      <td>22.0</td>\n",
       "      <td>1</td>\n",
       "      <td>0</td>\n",
       "      <td>7.2500</td>\n",
       "      <td>S</td>\n",
       "      <td>Third</td>\n",
       "      <td>man</td>\n",
       "      <td>True</td>\n",
       "      <td>NaN</td>\n",
       "      <td>Southampton</td>\n",
       "      <td>no</td>\n",
       "      <td>False</td>\n",
       "    </tr>\n",
       "    <tr>\n",
       "      <th>1</th>\n",
       "      <td>1</td>\n",
       "      <td>1</td>\n",
       "      <td>female</td>\n",
       "      <td>38.0</td>\n",
       "      <td>1</td>\n",
       "      <td>0</td>\n",
       "      <td>71.2833</td>\n",
       "      <td>C</td>\n",
       "      <td>First</td>\n",
       "      <td>woman</td>\n",
       "      <td>False</td>\n",
       "      <td>C</td>\n",
       "      <td>Cherbourg</td>\n",
       "      <td>yes</td>\n",
       "      <td>False</td>\n",
       "    </tr>\n",
       "    <tr>\n",
       "      <th>2</th>\n",
       "      <td>1</td>\n",
       "      <td>3</td>\n",
       "      <td>female</td>\n",
       "      <td>26.0</td>\n",
       "      <td>0</td>\n",
       "      <td>0</td>\n",
       "      <td>7.9250</td>\n",
       "      <td>S</td>\n",
       "      <td>Third</td>\n",
       "      <td>woman</td>\n",
       "      <td>False</td>\n",
       "      <td>NaN</td>\n",
       "      <td>Southampton</td>\n",
       "      <td>yes</td>\n",
       "      <td>True</td>\n",
       "    </tr>\n",
       "    <tr>\n",
       "      <th>3</th>\n",
       "      <td>1</td>\n",
       "      <td>1</td>\n",
       "      <td>female</td>\n",
       "      <td>35.0</td>\n",
       "      <td>1</td>\n",
       "      <td>0</td>\n",
       "      <td>53.1000</td>\n",
       "      <td>S</td>\n",
       "      <td>First</td>\n",
       "      <td>woman</td>\n",
       "      <td>False</td>\n",
       "      <td>C</td>\n",
       "      <td>Southampton</td>\n",
       "      <td>yes</td>\n",
       "      <td>False</td>\n",
       "    </tr>\n",
       "    <tr>\n",
       "      <th>4</th>\n",
       "      <td>0</td>\n",
       "      <td>3</td>\n",
       "      <td>male</td>\n",
       "      <td>35.0</td>\n",
       "      <td>0</td>\n",
       "      <td>0</td>\n",
       "      <td>8.0500</td>\n",
       "      <td>S</td>\n",
       "      <td>Third</td>\n",
       "      <td>man</td>\n",
       "      <td>True</td>\n",
       "      <td>NaN</td>\n",
       "      <td>Southampton</td>\n",
       "      <td>no</td>\n",
       "      <td>True</td>\n",
       "    </tr>\n",
       "  </tbody>\n",
       "</table>\n",
       "</div>"
      ],
      "text/plain": [
       "   survived  pclass     sex   age  sibsp  parch     fare embarked  class  \\\n",
       "0         0       3    male  22.0      1      0   7.2500        S  Third   \n",
       "1         1       1  female  38.0      1      0  71.2833        C  First   \n",
       "2         1       3  female  26.0      0      0   7.9250        S  Third   \n",
       "3         1       1  female  35.0      1      0  53.1000        S  First   \n",
       "4         0       3    male  35.0      0      0   8.0500        S  Third   \n",
       "\n",
       "     who  adult_male deck  embark_town alive  alone  \n",
       "0    man        True  NaN  Southampton    no  False  \n",
       "1  woman       False    C    Cherbourg   yes  False  \n",
       "2  woman       False  NaN  Southampton   yes   True  \n",
       "3  woman       False    C  Southampton   yes  False  \n",
       "4    man        True  NaN  Southampton    no   True  "
      ]
     },
     "execution_count": 22,
     "metadata": {},
     "output_type": "execute_result"
    }
   ],
   "source": [
    "titanic_datasets.head()"
   ]
  },
  {
   "cell_type": "code",
   "execution_count": 23,
   "metadata": {},
   "outputs": [
    {
     "data": {
      "text/plain": [
       "<pandas.core.groupby.generic.DataFrameGroupBy object at 0x00000196E7C40910>"
      ]
     },
     "execution_count": 23,
     "metadata": {},
     "output_type": "execute_result"
    }
   ],
   "source": [
    "grp_class_titanic = titanic_datasets.groupby(['class'])\n",
    "grp_class_titanic "
   ]
  },
  {
   "cell_type": "code",
   "execution_count": 24,
   "metadata": {},
   "outputs": [
    {
     "name": "stdout",
     "output_type": "stream",
     "text": [
      "key :  First\n",
      "number :  216\n",
      "     survived  pclass     sex   age  sibsp  parch     fare embarked  class  \\\n",
      "1           1       1  female  38.0      1      0  71.2833        C  First   \n",
      "3           1       1  female  35.0      1      0  53.1000        S  First   \n",
      "6           0       1    male  54.0      0      0  51.8625        S  First   \n",
      "11          1       1  female  58.0      0      0  26.5500        S  First   \n",
      "23          1       1    male  28.0      0      0  35.5000        S  First   \n",
      "..        ...     ...     ...   ...    ...    ...      ...      ...    ...   \n",
      "871         1       1  female  47.0      1      1  52.5542        S  First   \n",
      "872         0       1    male  33.0      0      0   5.0000        S  First   \n",
      "879         1       1  female  56.0      0      1  83.1583        C  First   \n",
      "887         1       1  female  19.0      0      0  30.0000        S  First   \n",
      "889         1       1    male  26.0      0      0  30.0000        C  First   \n",
      "\n",
      "       who  adult_male deck  embark_town alive  alone  \n",
      "1    woman       False    C    Cherbourg   yes  False  \n",
      "3    woman       False    C  Southampton   yes  False  \n",
      "6      man        True    E  Southampton    no   True  \n",
      "11   woman       False    C  Southampton   yes   True  \n",
      "23     man        True    A  Southampton   yes   True  \n",
      "..     ...         ...  ...          ...   ...    ...  \n",
      "871  woman       False    D  Southampton   yes  False  \n",
      "872    man        True    B  Southampton    no   True  \n",
      "879  woman       False    C    Cherbourg   yes  False  \n",
      "887  woman       False    B  Southampton   yes   True  \n",
      "889    man        True    C    Cherbourg   yes   True  \n",
      "\n",
      "[216 rows x 15 columns]\n",
      "\n",
      "\n",
      "key :  Second\n",
      "number :  184\n",
      "     survived  pclass     sex   age  sibsp  parch     fare embarked   class  \\\n",
      "9           1       2  female  14.0      1      0  30.0708        C  Second   \n",
      "15          1       2  female  55.0      0      0  16.0000        S  Second   \n",
      "17          1       2    male   NaN      0      0  13.0000        S  Second   \n",
      "20          0       2    male  35.0      0      0  26.0000        S  Second   \n",
      "21          1       2    male  34.0      0      0  13.0000        S  Second   \n",
      "..        ...     ...     ...   ...    ...    ...      ...      ...     ...   \n",
      "866         1       2  female  27.0      1      0  13.8583        C  Second   \n",
      "874         1       2  female  28.0      1      0  24.0000        C  Second   \n",
      "880         1       2  female  25.0      0      1  26.0000        S  Second   \n",
      "883         0       2    male  28.0      0      0  10.5000        S  Second   \n",
      "886         0       2    male  27.0      0      0  13.0000        S  Second   \n",
      "\n",
      "       who  adult_male deck  embark_town alive  alone  \n",
      "9    child       False  NaN    Cherbourg   yes  False  \n",
      "15   woman       False  NaN  Southampton   yes   True  \n",
      "17     man        True  NaN  Southampton   yes   True  \n",
      "20     man        True  NaN  Southampton    no   True  \n",
      "21     man        True    D  Southampton   yes   True  \n",
      "..     ...         ...  ...          ...   ...    ...  \n",
      "866  woman       False  NaN    Cherbourg   yes  False  \n",
      "874  woman       False  NaN    Cherbourg   yes  False  \n",
      "880  woman       False  NaN  Southampton   yes  False  \n",
      "883    man        True  NaN  Southampton    no   True  \n",
      "886    man        True  NaN  Southampton    no   True  \n",
      "\n",
      "[184 rows x 15 columns]\n",
      "\n",
      "\n",
      "key :  Third\n",
      "number :  491\n",
      "     survived  pclass     sex   age  sibsp  parch     fare embarked  class  \\\n",
      "0           0       3    male  22.0      1      0   7.2500        S  Third   \n",
      "2           1       3  female  26.0      0      0   7.9250        S  Third   \n",
      "4           0       3    male  35.0      0      0   8.0500        S  Third   \n",
      "5           0       3    male   NaN      0      0   8.4583        Q  Third   \n",
      "7           0       3    male   2.0      3      1  21.0750        S  Third   \n",
      "..        ...     ...     ...   ...    ...    ...      ...      ...    ...   \n",
      "882         0       3  female  22.0      0      0  10.5167        S  Third   \n",
      "884         0       3    male  25.0      0      0   7.0500        S  Third   \n",
      "885         0       3  female  39.0      0      5  29.1250        Q  Third   \n",
      "888         0       3  female   NaN      1      2  23.4500        S  Third   \n",
      "890         0       3    male  32.0      0      0   7.7500        Q  Third   \n",
      "\n",
      "       who  adult_male deck  embark_town alive  alone  \n",
      "0      man        True  NaN  Southampton    no  False  \n",
      "2    woman       False  NaN  Southampton   yes   True  \n",
      "4      man        True  NaN  Southampton    no   True  \n",
      "5      man        True  NaN   Queenstown    no   True  \n",
      "7    child       False  NaN  Southampton    no  False  \n",
      "..     ...         ...  ...          ...   ...    ...  \n",
      "882  woman       False  NaN  Southampton    no   True  \n",
      "884    man        True  NaN  Southampton    no   True  \n",
      "885  woman       False  NaN   Queenstown    no  False  \n",
      "888  woman       False  NaN  Southampton    no  False  \n",
      "890    man        True  NaN   Queenstown    no   True  \n",
      "\n",
      "[491 rows x 15 columns]\n",
      "\n",
      "\n"
     ]
    }
   ],
   "source": [
    "for key , group in grp_class_titanic :\n",
    "    print('key : ' , key)\n",
    "    print('number : ' , len(group))\n",
    "    print(group)\n",
    "    print('\\n')"
   ]
  },
  {
   "cell_type": "code",
   "execution_count": 25,
   "metadata": {},
   "outputs": [],
   "source": [
    "# 데이터의 갯수가 200개 이상인 그룹만 필터링한다면?\n",
    "def filter_func(x) :\n",
    "    return len(x) >= 200"
   ]
  },
  {
   "cell_type": "code",
   "execution_count": 26,
   "metadata": {},
   "outputs": [
    {
     "data": {
      "text/html": [
       "<div>\n",
       "<style scoped>\n",
       "    .dataframe tbody tr th:only-of-type {\n",
       "        vertical-align: middle;\n",
       "    }\n",
       "\n",
       "    .dataframe tbody tr th {\n",
       "        vertical-align: top;\n",
       "    }\n",
       "\n",
       "    .dataframe thead th {\n",
       "        text-align: right;\n",
       "    }\n",
       "</style>\n",
       "<table border=\"1\" class=\"dataframe\">\n",
       "  <thead>\n",
       "    <tr style=\"text-align: right;\">\n",
       "      <th></th>\n",
       "      <th>survived</th>\n",
       "      <th>pclass</th>\n",
       "      <th>sex</th>\n",
       "      <th>age</th>\n",
       "      <th>sibsp</th>\n",
       "      <th>parch</th>\n",
       "      <th>fare</th>\n",
       "      <th>embarked</th>\n",
       "      <th>class</th>\n",
       "      <th>who</th>\n",
       "      <th>adult_male</th>\n",
       "      <th>deck</th>\n",
       "      <th>embark_town</th>\n",
       "      <th>alive</th>\n",
       "      <th>alone</th>\n",
       "    </tr>\n",
       "  </thead>\n",
       "  <tbody>\n",
       "    <tr>\n",
       "      <th>0</th>\n",
       "      <td>0</td>\n",
       "      <td>3</td>\n",
       "      <td>male</td>\n",
       "      <td>22.0</td>\n",
       "      <td>1</td>\n",
       "      <td>0</td>\n",
       "      <td>7.2500</td>\n",
       "      <td>S</td>\n",
       "      <td>Third</td>\n",
       "      <td>man</td>\n",
       "      <td>True</td>\n",
       "      <td>NaN</td>\n",
       "      <td>Southampton</td>\n",
       "      <td>no</td>\n",
       "      <td>False</td>\n",
       "    </tr>\n",
       "    <tr>\n",
       "      <th>1</th>\n",
       "      <td>1</td>\n",
       "      <td>1</td>\n",
       "      <td>female</td>\n",
       "      <td>38.0</td>\n",
       "      <td>1</td>\n",
       "      <td>0</td>\n",
       "      <td>71.2833</td>\n",
       "      <td>C</td>\n",
       "      <td>First</td>\n",
       "      <td>woman</td>\n",
       "      <td>False</td>\n",
       "      <td>C</td>\n",
       "      <td>Cherbourg</td>\n",
       "      <td>yes</td>\n",
       "      <td>False</td>\n",
       "    </tr>\n",
       "    <tr>\n",
       "      <th>2</th>\n",
       "      <td>1</td>\n",
       "      <td>3</td>\n",
       "      <td>female</td>\n",
       "      <td>26.0</td>\n",
       "      <td>0</td>\n",
       "      <td>0</td>\n",
       "      <td>7.9250</td>\n",
       "      <td>S</td>\n",
       "      <td>Third</td>\n",
       "      <td>woman</td>\n",
       "      <td>False</td>\n",
       "      <td>NaN</td>\n",
       "      <td>Southampton</td>\n",
       "      <td>yes</td>\n",
       "      <td>True</td>\n",
       "    </tr>\n",
       "    <tr>\n",
       "      <th>3</th>\n",
       "      <td>1</td>\n",
       "      <td>1</td>\n",
       "      <td>female</td>\n",
       "      <td>35.0</td>\n",
       "      <td>1</td>\n",
       "      <td>0</td>\n",
       "      <td>53.1000</td>\n",
       "      <td>S</td>\n",
       "      <td>First</td>\n",
       "      <td>woman</td>\n",
       "      <td>False</td>\n",
       "      <td>C</td>\n",
       "      <td>Southampton</td>\n",
       "      <td>yes</td>\n",
       "      <td>False</td>\n",
       "    </tr>\n",
       "    <tr>\n",
       "      <th>4</th>\n",
       "      <td>0</td>\n",
       "      <td>3</td>\n",
       "      <td>male</td>\n",
       "      <td>35.0</td>\n",
       "      <td>0</td>\n",
       "      <td>0</td>\n",
       "      <td>8.0500</td>\n",
       "      <td>S</td>\n",
       "      <td>Third</td>\n",
       "      <td>man</td>\n",
       "      <td>True</td>\n",
       "      <td>NaN</td>\n",
       "      <td>Southampton</td>\n",
       "      <td>no</td>\n",
       "      <td>True</td>\n",
       "    </tr>\n",
       "    <tr>\n",
       "      <th>...</th>\n",
       "      <td>...</td>\n",
       "      <td>...</td>\n",
       "      <td>...</td>\n",
       "      <td>...</td>\n",
       "      <td>...</td>\n",
       "      <td>...</td>\n",
       "      <td>...</td>\n",
       "      <td>...</td>\n",
       "      <td>...</td>\n",
       "      <td>...</td>\n",
       "      <td>...</td>\n",
       "      <td>...</td>\n",
       "      <td>...</td>\n",
       "      <td>...</td>\n",
       "      <td>...</td>\n",
       "    </tr>\n",
       "    <tr>\n",
       "      <th>885</th>\n",
       "      <td>0</td>\n",
       "      <td>3</td>\n",
       "      <td>female</td>\n",
       "      <td>39.0</td>\n",
       "      <td>0</td>\n",
       "      <td>5</td>\n",
       "      <td>29.1250</td>\n",
       "      <td>Q</td>\n",
       "      <td>Third</td>\n",
       "      <td>woman</td>\n",
       "      <td>False</td>\n",
       "      <td>NaN</td>\n",
       "      <td>Queenstown</td>\n",
       "      <td>no</td>\n",
       "      <td>False</td>\n",
       "    </tr>\n",
       "    <tr>\n",
       "      <th>887</th>\n",
       "      <td>1</td>\n",
       "      <td>1</td>\n",
       "      <td>female</td>\n",
       "      <td>19.0</td>\n",
       "      <td>0</td>\n",
       "      <td>0</td>\n",
       "      <td>30.0000</td>\n",
       "      <td>S</td>\n",
       "      <td>First</td>\n",
       "      <td>woman</td>\n",
       "      <td>False</td>\n",
       "      <td>B</td>\n",
       "      <td>Southampton</td>\n",
       "      <td>yes</td>\n",
       "      <td>True</td>\n",
       "    </tr>\n",
       "    <tr>\n",
       "      <th>888</th>\n",
       "      <td>0</td>\n",
       "      <td>3</td>\n",
       "      <td>female</td>\n",
       "      <td>NaN</td>\n",
       "      <td>1</td>\n",
       "      <td>2</td>\n",
       "      <td>23.4500</td>\n",
       "      <td>S</td>\n",
       "      <td>Third</td>\n",
       "      <td>woman</td>\n",
       "      <td>False</td>\n",
       "      <td>NaN</td>\n",
       "      <td>Southampton</td>\n",
       "      <td>no</td>\n",
       "      <td>False</td>\n",
       "    </tr>\n",
       "    <tr>\n",
       "      <th>889</th>\n",
       "      <td>1</td>\n",
       "      <td>1</td>\n",
       "      <td>male</td>\n",
       "      <td>26.0</td>\n",
       "      <td>0</td>\n",
       "      <td>0</td>\n",
       "      <td>30.0000</td>\n",
       "      <td>C</td>\n",
       "      <td>First</td>\n",
       "      <td>man</td>\n",
       "      <td>True</td>\n",
       "      <td>C</td>\n",
       "      <td>Cherbourg</td>\n",
       "      <td>yes</td>\n",
       "      <td>True</td>\n",
       "    </tr>\n",
       "    <tr>\n",
       "      <th>890</th>\n",
       "      <td>0</td>\n",
       "      <td>3</td>\n",
       "      <td>male</td>\n",
       "      <td>32.0</td>\n",
       "      <td>0</td>\n",
       "      <td>0</td>\n",
       "      <td>7.7500</td>\n",
       "      <td>Q</td>\n",
       "      <td>Third</td>\n",
       "      <td>man</td>\n",
       "      <td>True</td>\n",
       "      <td>NaN</td>\n",
       "      <td>Queenstown</td>\n",
       "      <td>no</td>\n",
       "      <td>True</td>\n",
       "    </tr>\n",
       "  </tbody>\n",
       "</table>\n",
       "<p>707 rows × 15 columns</p>\n",
       "</div>"
      ],
      "text/plain": [
       "     survived  pclass     sex   age  sibsp  parch     fare embarked  class  \\\n",
       "0           0       3    male  22.0      1      0   7.2500        S  Third   \n",
       "1           1       1  female  38.0      1      0  71.2833        C  First   \n",
       "2           1       3  female  26.0      0      0   7.9250        S  Third   \n",
       "3           1       1  female  35.0      1      0  53.1000        S  First   \n",
       "4           0       3    male  35.0      0      0   8.0500        S  Third   \n",
       "..        ...     ...     ...   ...    ...    ...      ...      ...    ...   \n",
       "885         0       3  female  39.0      0      5  29.1250        Q  Third   \n",
       "887         1       1  female  19.0      0      0  30.0000        S  First   \n",
       "888         0       3  female   NaN      1      2  23.4500        S  Third   \n",
       "889         1       1    male  26.0      0      0  30.0000        C  First   \n",
       "890         0       3    male  32.0      0      0   7.7500        Q  Third   \n",
       "\n",
       "       who  adult_male deck  embark_town alive  alone  \n",
       "0      man        True  NaN  Southampton    no  False  \n",
       "1    woman       False    C    Cherbourg   yes  False  \n",
       "2    woman       False  NaN  Southampton   yes   True  \n",
       "3    woman       False    C  Southampton   yes  False  \n",
       "4      man        True  NaN  Southampton    no   True  \n",
       "..     ...         ...  ...          ...   ...    ...  \n",
       "885  woman       False  NaN   Queenstown    no  False  \n",
       "887  woman       False    B  Southampton   yes   True  \n",
       "888  woman       False  NaN  Southampton    no  False  \n",
       "889    man        True    C    Cherbourg   yes   True  \n",
       "890    man        True  NaN   Queenstown    no   True  \n",
       "\n",
       "[707 rows x 15 columns]"
      ]
     },
     "metadata": {},
     "output_type": "display_data"
    },
    {
     "data": {
      "text/plain": [
       "pandas.core.frame.DataFrame"
      ]
     },
     "metadata": {},
     "output_type": "display_data"
    }
   ],
   "source": [
    "# grp_filter = grp_class_titanic.filter(filter_func)\n",
    "grp_filter = grp_class_titanic.filter(lambda x : len(x) >= 200 )\n",
    "display(grp_filter)\n",
    "display( type( grp_filter ) )"
   ]
  },
  {
   "cell_type": "code",
   "execution_count": 27,
   "metadata": {},
   "outputs": [
    {
     "data": {
      "text/html": [
       "<div>\n",
       "<style scoped>\n",
       "    .dataframe tbody tr th:only-of-type {\n",
       "        vertical-align: middle;\n",
       "    }\n",
       "\n",
       "    .dataframe tbody tr th {\n",
       "        vertical-align: top;\n",
       "    }\n",
       "\n",
       "    .dataframe thead th {\n",
       "        text-align: right;\n",
       "    }\n",
       "</style>\n",
       "<table border=\"1\" class=\"dataframe\">\n",
       "  <thead>\n",
       "    <tr style=\"text-align: right;\">\n",
       "      <th></th>\n",
       "      <th>survived</th>\n",
       "      <th>pclass</th>\n",
       "      <th>sex</th>\n",
       "      <th>age</th>\n",
       "      <th>sibsp</th>\n",
       "      <th>parch</th>\n",
       "      <th>fare</th>\n",
       "      <th>embarked</th>\n",
       "      <th>class</th>\n",
       "      <th>who</th>\n",
       "      <th>adult_male</th>\n",
       "      <th>deck</th>\n",
       "      <th>embark_town</th>\n",
       "      <th>alive</th>\n",
       "      <th>alone</th>\n",
       "    </tr>\n",
       "  </thead>\n",
       "  <tbody>\n",
       "    <tr>\n",
       "      <th>0</th>\n",
       "      <td>0</td>\n",
       "      <td>3</td>\n",
       "      <td>male</td>\n",
       "      <td>22.0</td>\n",
       "      <td>1</td>\n",
       "      <td>0</td>\n",
       "      <td>7.2500</td>\n",
       "      <td>S</td>\n",
       "      <td>Third</td>\n",
       "      <td>man</td>\n",
       "      <td>True</td>\n",
       "      <td>NaN</td>\n",
       "      <td>Southampton</td>\n",
       "      <td>no</td>\n",
       "      <td>False</td>\n",
       "    </tr>\n",
       "    <tr>\n",
       "      <th>2</th>\n",
       "      <td>1</td>\n",
       "      <td>3</td>\n",
       "      <td>female</td>\n",
       "      <td>26.0</td>\n",
       "      <td>0</td>\n",
       "      <td>0</td>\n",
       "      <td>7.9250</td>\n",
       "      <td>S</td>\n",
       "      <td>Third</td>\n",
       "      <td>woman</td>\n",
       "      <td>False</td>\n",
       "      <td>NaN</td>\n",
       "      <td>Southampton</td>\n",
       "      <td>yes</td>\n",
       "      <td>True</td>\n",
       "    </tr>\n",
       "    <tr>\n",
       "      <th>4</th>\n",
       "      <td>0</td>\n",
       "      <td>3</td>\n",
       "      <td>male</td>\n",
       "      <td>35.0</td>\n",
       "      <td>0</td>\n",
       "      <td>0</td>\n",
       "      <td>8.0500</td>\n",
       "      <td>S</td>\n",
       "      <td>Third</td>\n",
       "      <td>man</td>\n",
       "      <td>True</td>\n",
       "      <td>NaN</td>\n",
       "      <td>Southampton</td>\n",
       "      <td>no</td>\n",
       "      <td>True</td>\n",
       "    </tr>\n",
       "    <tr>\n",
       "      <th>5</th>\n",
       "      <td>0</td>\n",
       "      <td>3</td>\n",
       "      <td>male</td>\n",
       "      <td>NaN</td>\n",
       "      <td>0</td>\n",
       "      <td>0</td>\n",
       "      <td>8.4583</td>\n",
       "      <td>Q</td>\n",
       "      <td>Third</td>\n",
       "      <td>man</td>\n",
       "      <td>True</td>\n",
       "      <td>NaN</td>\n",
       "      <td>Queenstown</td>\n",
       "      <td>no</td>\n",
       "      <td>True</td>\n",
       "    </tr>\n",
       "    <tr>\n",
       "      <th>7</th>\n",
       "      <td>0</td>\n",
       "      <td>3</td>\n",
       "      <td>male</td>\n",
       "      <td>2.0</td>\n",
       "      <td>3</td>\n",
       "      <td>1</td>\n",
       "      <td>21.0750</td>\n",
       "      <td>S</td>\n",
       "      <td>Third</td>\n",
       "      <td>child</td>\n",
       "      <td>False</td>\n",
       "      <td>NaN</td>\n",
       "      <td>Southampton</td>\n",
       "      <td>no</td>\n",
       "      <td>False</td>\n",
       "    </tr>\n",
       "    <tr>\n",
       "      <th>...</th>\n",
       "      <td>...</td>\n",
       "      <td>...</td>\n",
       "      <td>...</td>\n",
       "      <td>...</td>\n",
       "      <td>...</td>\n",
       "      <td>...</td>\n",
       "      <td>...</td>\n",
       "      <td>...</td>\n",
       "      <td>...</td>\n",
       "      <td>...</td>\n",
       "      <td>...</td>\n",
       "      <td>...</td>\n",
       "      <td>...</td>\n",
       "      <td>...</td>\n",
       "      <td>...</td>\n",
       "    </tr>\n",
       "    <tr>\n",
       "      <th>884</th>\n",
       "      <td>0</td>\n",
       "      <td>3</td>\n",
       "      <td>male</td>\n",
       "      <td>25.0</td>\n",
       "      <td>0</td>\n",
       "      <td>0</td>\n",
       "      <td>7.0500</td>\n",
       "      <td>S</td>\n",
       "      <td>Third</td>\n",
       "      <td>man</td>\n",
       "      <td>True</td>\n",
       "      <td>NaN</td>\n",
       "      <td>Southampton</td>\n",
       "      <td>no</td>\n",
       "      <td>True</td>\n",
       "    </tr>\n",
       "    <tr>\n",
       "      <th>885</th>\n",
       "      <td>0</td>\n",
       "      <td>3</td>\n",
       "      <td>female</td>\n",
       "      <td>39.0</td>\n",
       "      <td>0</td>\n",
       "      <td>5</td>\n",
       "      <td>29.1250</td>\n",
       "      <td>Q</td>\n",
       "      <td>Third</td>\n",
       "      <td>woman</td>\n",
       "      <td>False</td>\n",
       "      <td>NaN</td>\n",
       "      <td>Queenstown</td>\n",
       "      <td>no</td>\n",
       "      <td>False</td>\n",
       "    </tr>\n",
       "    <tr>\n",
       "      <th>886</th>\n",
       "      <td>0</td>\n",
       "      <td>2</td>\n",
       "      <td>male</td>\n",
       "      <td>27.0</td>\n",
       "      <td>0</td>\n",
       "      <td>0</td>\n",
       "      <td>13.0000</td>\n",
       "      <td>S</td>\n",
       "      <td>Second</td>\n",
       "      <td>man</td>\n",
       "      <td>True</td>\n",
       "      <td>NaN</td>\n",
       "      <td>Southampton</td>\n",
       "      <td>no</td>\n",
       "      <td>True</td>\n",
       "    </tr>\n",
       "    <tr>\n",
       "      <th>888</th>\n",
       "      <td>0</td>\n",
       "      <td>3</td>\n",
       "      <td>female</td>\n",
       "      <td>NaN</td>\n",
       "      <td>1</td>\n",
       "      <td>2</td>\n",
       "      <td>23.4500</td>\n",
       "      <td>S</td>\n",
       "      <td>Third</td>\n",
       "      <td>woman</td>\n",
       "      <td>False</td>\n",
       "      <td>NaN</td>\n",
       "      <td>Southampton</td>\n",
       "      <td>no</td>\n",
       "      <td>False</td>\n",
       "    </tr>\n",
       "    <tr>\n",
       "      <th>890</th>\n",
       "      <td>0</td>\n",
       "      <td>3</td>\n",
       "      <td>male</td>\n",
       "      <td>32.0</td>\n",
       "      <td>0</td>\n",
       "      <td>0</td>\n",
       "      <td>7.7500</td>\n",
       "      <td>Q</td>\n",
       "      <td>Third</td>\n",
       "      <td>man</td>\n",
       "      <td>True</td>\n",
       "      <td>NaN</td>\n",
       "      <td>Queenstown</td>\n",
       "      <td>no</td>\n",
       "      <td>True</td>\n",
       "    </tr>\n",
       "  </tbody>\n",
       "</table>\n",
       "<p>675 rows × 15 columns</p>\n",
       "</div>"
      ],
      "text/plain": [
       "     survived  pclass     sex   age  sibsp  parch     fare embarked   class  \\\n",
       "0           0       3    male  22.0      1      0   7.2500        S   Third   \n",
       "2           1       3  female  26.0      0      0   7.9250        S   Third   \n",
       "4           0       3    male  35.0      0      0   8.0500        S   Third   \n",
       "5           0       3    male   NaN      0      0   8.4583        Q   Third   \n",
       "7           0       3    male   2.0      3      1  21.0750        S   Third   \n",
       "..        ...     ...     ...   ...    ...    ...      ...      ...     ...   \n",
       "884         0       3    male  25.0      0      0   7.0500        S   Third   \n",
       "885         0       3  female  39.0      0      5  29.1250        Q   Third   \n",
       "886         0       2    male  27.0      0      0  13.0000        S  Second   \n",
       "888         0       3  female   NaN      1      2  23.4500        S   Third   \n",
       "890         0       3    male  32.0      0      0   7.7500        Q   Third   \n",
       "\n",
       "       who  adult_male deck  embark_town alive  alone  \n",
       "0      man        True  NaN  Southampton    no  False  \n",
       "2    woman       False  NaN  Southampton   yes   True  \n",
       "4      man        True  NaN  Southampton    no   True  \n",
       "5      man        True  NaN   Queenstown    no   True  \n",
       "7    child       False  NaN  Southampton    no  False  \n",
       "..     ...         ...  ...          ...   ...    ...  \n",
       "884    man        True  NaN  Southampton    no   True  \n",
       "885  woman       False  NaN   Queenstown    no  False  \n",
       "886    man        True  NaN  Southampton    no   True  \n",
       "888  woman       False  NaN  Southampton    no  False  \n",
       "890    man        True  NaN   Queenstown    no   True  \n",
       "\n",
       "[675 rows x 15 columns]"
      ]
     },
     "metadata": {},
     "output_type": "display_data"
    },
    {
     "data": {
      "text/plain": [
       "pandas.core.frame.DataFrame"
      ]
     },
     "metadata": {},
     "output_type": "display_data"
    }
   ],
   "source": [
    "# age 열의 평균이 30보다 작은 그룹만 필터링한다면?\n",
    "grp_filter = grp_class_titanic.filter(lambda x : x.age.mean() < 30 )\n",
    "display(grp_filter)\n",
    "display( type( grp_filter ) )"
   ]
  },
  {
   "cell_type": "code",
   "execution_count": 28,
   "metadata": {},
   "outputs": [
    {
     "data": {
      "text/plain": [
       "survived                 0\n",
       "pclass                   3\n",
       "sex                   male\n",
       "age                     22\n",
       "sibsp                    1\n",
       "parch                    0\n",
       "fare                  7.25\n",
       "embarked                 S\n",
       "class                Third\n",
       "who                    man\n",
       "adult_male            True\n",
       "deck                   NaN\n",
       "embark_town    Southampton\n",
       "alive                   no\n",
       "alone                False\n",
       "Name: 0, dtype: object"
      ]
     },
     "metadata": {},
     "output_type": "display_data"
    },
    {
     "data": {
      "text/plain": [
       "survived                 0\n",
       "pclass                   3\n",
       "sex                   male\n",
       "age                     35\n",
       "sibsp                    0\n",
       "parch                    0\n",
       "fare                  8.05\n",
       "embarked                 S\n",
       "class                Third\n",
       "who                    man\n",
       "adult_male            True\n",
       "deck                   NaN\n",
       "embark_town    Southampton\n",
       "alive                   no\n",
       "alone                 True\n",
       "Name: 4, dtype: object"
      ]
     },
     "metadata": {},
     "output_type": "display_data"
    },
    {
     "data": {
      "text/plain": [
       "survived                 0\n",
       "pclass                   3\n",
       "sex                   male\n",
       "age                      2\n",
       "sibsp                    3\n",
       "parch                    1\n",
       "fare                21.075\n",
       "embarked                 S\n",
       "class                Third\n",
       "who                  child\n",
       "adult_male           False\n",
       "deck                   NaN\n",
       "embark_town    Southampton\n",
       "alive                   no\n",
       "alone                False\n",
       "Name: 7, dtype: object"
      ]
     },
     "metadata": {},
     "output_type": "display_data"
    },
    {
     "data": {
      "text/plain": [
       "survived                 1\n",
       "pclass                   3\n",
       "sex                 female\n",
       "age                     27\n",
       "sibsp                    0\n",
       "parch                    2\n",
       "fare               11.1333\n",
       "embarked                 S\n",
       "class                Third\n",
       "who                  woman\n",
       "adult_male           False\n",
       "deck                   NaN\n",
       "embark_town    Southampton\n",
       "alive                  yes\n",
       "alone                False\n",
       "Name: 8, dtype: object"
      ]
     },
     "metadata": {},
     "output_type": "display_data"
    },
    {
     "data": {
      "text/plain": [
       "survived                 1\n",
       "pclass                   3\n",
       "sex                 female\n",
       "age                      4\n",
       "sibsp                    1\n",
       "parch                    1\n",
       "fare                  16.7\n",
       "embarked                 S\n",
       "class                Third\n",
       "who                  child\n",
       "adult_male           False\n",
       "deck                     G\n",
       "embark_town    Southampton\n",
       "alive                  yes\n",
       "alone                False\n",
       "Name: 10, dtype: object"
      ]
     },
     "metadata": {},
     "output_type": "display_data"
    },
    {
     "data": {
      "text/plain": [
       "survived                 0\n",
       "pclass                   3\n",
       "sex                   male\n",
       "age                     20\n",
       "sibsp                    0\n",
       "parch                    0\n",
       "fare                  8.05\n",
       "embarked                 S\n",
       "class                Third\n",
       "who                    man\n",
       "adult_male            True\n",
       "deck                   NaN\n",
       "embark_town    Southampton\n",
       "alive                   no\n",
       "alone                 True\n",
       "Name: 12, dtype: object"
      ]
     },
     "metadata": {},
     "output_type": "display_data"
    },
    {
     "data": {
      "text/plain": [
       "survived                 0\n",
       "pclass                   3\n",
       "sex                   male\n",
       "age                     39\n",
       "sibsp                    1\n",
       "parch                    5\n",
       "fare                31.275\n",
       "embarked                 S\n",
       "class                Third\n",
       "who                    man\n",
       "adult_male            True\n",
       "deck                   NaN\n",
       "embark_town    Southampton\n",
       "alive                   no\n",
       "alone                False\n",
       "Name: 13, dtype: object"
      ]
     },
     "metadata": {},
     "output_type": "display_data"
    },
    {
     "data": {
      "text/plain": [
       "survived                 0\n",
       "pclass                   3\n",
       "sex                 female\n",
       "age                     14\n",
       "sibsp                    0\n",
       "parch                    0\n",
       "fare                7.8542\n",
       "embarked                 S\n",
       "class                Third\n",
       "who                  child\n",
       "adult_male           False\n",
       "deck                   NaN\n",
       "embark_town    Southampton\n",
       "alive                   no\n",
       "alone                 True\n",
       "Name: 14, dtype: object"
      ]
     },
     "metadata": {},
     "output_type": "display_data"
    },
    {
     "data": {
      "text/plain": [
       "survived                0\n",
       "pclass                  3\n",
       "sex                  male\n",
       "age                     2\n",
       "sibsp                   4\n",
       "parch                   1\n",
       "fare               29.125\n",
       "embarked                Q\n",
       "class               Third\n",
       "who                 child\n",
       "adult_male          False\n",
       "deck                  NaN\n",
       "embark_town    Queenstown\n",
       "alive                  no\n",
       "alone               False\n",
       "Name: 16, dtype: object"
      ]
     },
     "metadata": {},
     "output_type": "display_data"
    },
    {
     "data": {
      "text/plain": [
       "survived                 1\n",
       "pclass                   2\n",
       "sex                   male\n",
       "age                    NaN\n",
       "sibsp                    0\n",
       "parch                    0\n",
       "fare                    13\n",
       "embarked                 S\n",
       "class               Second\n",
       "who                    man\n",
       "adult_male            True\n",
       "deck                   NaN\n",
       "embark_town    Southampton\n",
       "alive                  yes\n",
       "alone                 True\n",
       "Name: 17, dtype: object"
      ]
     },
     "metadata": {},
     "output_type": "display_data"
    },
    {
     "data": {
      "text/plain": [
       "survived                 0\n",
       "pclass                   3\n",
       "sex                 female\n",
       "age                     31\n",
       "sibsp                    1\n",
       "parch                    0\n",
       "fare                    18\n",
       "embarked                 S\n",
       "class                Third\n",
       "who                  woman\n",
       "adult_male           False\n",
       "deck                   NaN\n",
       "embark_town    Southampton\n",
       "alive                   no\n",
       "alone                False\n",
       "Name: 18, dtype: object"
      ]
     },
     "metadata": {},
     "output_type": "display_data"
    },
    {
     "data": {
      "text/plain": [
       "survived               1\n",
       "pclass                 3\n",
       "sex               female\n",
       "age                  NaN\n",
       "sibsp                  0\n",
       "parch                  0\n",
       "fare               7.225\n",
       "embarked               C\n",
       "class              Third\n",
       "who                woman\n",
       "adult_male         False\n",
       "deck                 NaN\n",
       "embark_town    Cherbourg\n",
       "alive                yes\n",
       "alone               True\n",
       "Name: 19, dtype: object"
      ]
     },
     "metadata": {},
     "output_type": "display_data"
    },
    {
     "data": {
      "text/plain": [
       "survived                 0\n",
       "pclass                   2\n",
       "sex                   male\n",
       "age                     35\n",
       "sibsp                    0\n",
       "parch                    0\n",
       "fare                    26\n",
       "embarked                 S\n",
       "class               Second\n",
       "who                    man\n",
       "adult_male            True\n",
       "deck                   NaN\n",
       "embark_town    Southampton\n",
       "alive                   no\n",
       "alone                 True\n",
       "Name: 20, dtype: object"
      ]
     },
     "metadata": {},
     "output_type": "display_data"
    },
    {
     "data": {
      "text/plain": [
       "survived                 1\n",
       "pclass                   2\n",
       "sex                   male\n",
       "age                     34\n",
       "sibsp                    0\n",
       "parch                    0\n",
       "fare                    13\n",
       "embarked                 S\n",
       "class               Second\n",
       "who                    man\n",
       "adult_male            True\n",
       "deck                     D\n",
       "embark_town    Southampton\n",
       "alive                  yes\n",
       "alone                 True\n",
       "Name: 21, dtype: object"
      ]
     },
     "metadata": {},
     "output_type": "display_data"
    },
    {
     "data": {
      "text/plain": [
       "survived                1\n",
       "pclass                  3\n",
       "sex                female\n",
       "age                    15\n",
       "sibsp                   0\n",
       "parch                   0\n",
       "fare               8.0292\n",
       "embarked                Q\n",
       "class               Third\n",
       "who                 child\n",
       "adult_male          False\n",
       "deck                  NaN\n",
       "embark_town    Queenstown\n",
       "alive                 yes\n",
       "alone                True\n",
       "Name: 22, dtype: object"
      ]
     },
     "metadata": {},
     "output_type": "display_data"
    },
    {
     "data": {
      "text/plain": [
       "survived                 0\n",
       "pclass                   3\n",
       "sex                 female\n",
       "age                      8\n",
       "sibsp                    3\n",
       "parch                    1\n",
       "fare                21.075\n",
       "embarked                 S\n",
       "class                Third\n",
       "who                  child\n",
       "adult_male           False\n",
       "deck                   NaN\n",
       "embark_town    Southampton\n",
       "alive                   no\n",
       "alone                False\n",
       "Name: 24, dtype: object"
      ]
     },
     "metadata": {},
     "output_type": "display_data"
    },
    {
     "data": {
      "text/plain": [
       "survived                 1\n",
       "pclass                   3\n",
       "sex                 female\n",
       "age                     38\n",
       "sibsp                    1\n",
       "parch                    5\n",
       "fare               31.3875\n",
       "embarked                 S\n",
       "class                Third\n",
       "who                  woman\n",
       "adult_male           False\n",
       "deck                   NaN\n",
       "embark_town    Southampton\n",
       "alive                  yes\n",
       "alone                False\n",
       "Name: 25, dtype: object"
      ]
     },
     "metadata": {},
     "output_type": "display_data"
    },
    {
     "data": {
      "text/plain": [
       "survived               0\n",
       "pclass                 3\n",
       "sex                 male\n",
       "age                  NaN\n",
       "sibsp                  0\n",
       "parch                  0\n",
       "fare               7.225\n",
       "embarked               C\n",
       "class              Third\n",
       "who                  man\n",
       "adult_male          True\n",
       "deck                 NaN\n",
       "embark_town    Cherbourg\n",
       "alive                 no\n",
       "alone               True\n",
       "Name: 26, dtype: object"
      ]
     },
     "metadata": {},
     "output_type": "display_data"
    },
    {
     "data": {
      "text/plain": [
       "survived                1\n",
       "pclass                  3\n",
       "sex                female\n",
       "age                   NaN\n",
       "sibsp                   0\n",
       "parch                   0\n",
       "fare               7.8792\n",
       "embarked                Q\n",
       "class               Third\n",
       "who                 woman\n",
       "adult_male          False\n",
       "deck                  NaN\n",
       "embark_town    Queenstown\n",
       "alive                 yes\n",
       "alone                True\n",
       "Name: 28, dtype: object"
      ]
     },
     "metadata": {},
     "output_type": "display_data"
    },
    {
     "data": {
      "text/plain": [
       "survived                1\n",
       "pclass                  3\n",
       "sex                female\n",
       "age                   NaN\n",
       "sibsp                   0\n",
       "parch                   0\n",
       "fare                 7.75\n",
       "embarked                Q\n",
       "class               Third\n",
       "who                 woman\n",
       "adult_male          False\n",
       "deck                  NaN\n",
       "embark_town    Queenstown\n",
       "alive                 yes\n",
       "alone                True\n",
       "Name: 32, dtype: object"
      ]
     },
     "metadata": {},
     "output_type": "display_data"
    },
    {
     "data": {
      "text/plain": [
       "survived                 0\n",
       "pclass                   2\n",
       "sex                   male\n",
       "age                     66\n",
       "sibsp                    0\n",
       "parch                    0\n",
       "fare                  10.5\n",
       "embarked                 S\n",
       "class               Second\n",
       "who                    man\n",
       "adult_male            True\n",
       "deck                   NaN\n",
       "embark_town    Southampton\n",
       "alive                   no\n",
       "alone                 True\n",
       "Name: 33, dtype: object"
      ]
     },
     "metadata": {},
     "output_type": "display_data"
    },
    {
     "data": {
      "text/plain": [
       "survived               1\n",
       "pclass                 3\n",
       "sex                 male\n",
       "age                  NaN\n",
       "sibsp                  0\n",
       "parch                  0\n",
       "fare              7.2292\n",
       "embarked               C\n",
       "class              Third\n",
       "who                  man\n",
       "adult_male          True\n",
       "deck                 NaN\n",
       "embark_town    Cherbourg\n",
       "alive                yes\n",
       "alone               True\n",
       "Name: 36, dtype: object"
      ]
     },
     "metadata": {},
     "output_type": "display_data"
    },
    {
     "data": {
      "text/plain": [
       "survived                 0\n",
       "pclass                   3\n",
       "sex                 female\n",
       "age                     18\n",
       "sibsp                    2\n",
       "parch                    0\n",
       "fare                    18\n",
       "embarked                 S\n",
       "class                Third\n",
       "who                  woman\n",
       "adult_male           False\n",
       "deck                   NaN\n",
       "embark_town    Southampton\n",
       "alive                   no\n",
       "alone                False\n",
       "Name: 38, dtype: object"
      ]
     },
     "metadata": {},
     "output_type": "display_data"
    },
    {
     "data": {
      "text/plain": [
       "survived               1\n",
       "pclass                 3\n",
       "sex               female\n",
       "age                   14\n",
       "sibsp                  1\n",
       "parch                  0\n",
       "fare             11.2417\n",
       "embarked               C\n",
       "class              Third\n",
       "who                child\n",
       "adult_male         False\n",
       "deck                 NaN\n",
       "embark_town    Cherbourg\n",
       "alive                yes\n",
       "alone              False\n",
       "Name: 39, dtype: object"
      ]
     },
     "metadata": {},
     "output_type": "display_data"
    },
    {
     "data": {
      "text/plain": [
       "survived               0\n",
       "pclass                 3\n",
       "sex                 male\n",
       "age                  NaN\n",
       "sibsp                  0\n",
       "parch                  0\n",
       "fare              7.8958\n",
       "embarked               C\n",
       "class              Third\n",
       "who                  man\n",
       "adult_male          True\n",
       "deck                 NaN\n",
       "embark_town    Cherbourg\n",
       "alive                 no\n",
       "alone               True\n",
       "Name: 42, dtype: object"
      ]
     },
     "metadata": {},
     "output_type": "display_data"
    },
    {
     "data": {
      "text/plain": [
       "survived               1\n",
       "pclass                 2\n",
       "sex               female\n",
       "age                    3\n",
       "sibsp                  1\n",
       "parch                  2\n",
       "fare             41.5792\n",
       "embarked               C\n",
       "class             Second\n",
       "who                child\n",
       "adult_male         False\n",
       "deck                 NaN\n",
       "embark_town    Cherbourg\n",
       "alive                yes\n",
       "alone              False\n",
       "Name: 43, dtype: object"
      ]
     },
     "metadata": {},
     "output_type": "display_data"
    },
    {
     "data": {
      "text/plain": [
       "survived                0\n",
       "pclass                  3\n",
       "sex                  male\n",
       "age                   NaN\n",
       "sibsp                   1\n",
       "parch                   0\n",
       "fare                 15.5\n",
       "embarked                Q\n",
       "class               Third\n",
       "who                   man\n",
       "adult_male           True\n",
       "deck                  NaN\n",
       "embark_town    Queenstown\n",
       "alive                  no\n",
       "alone               False\n",
       "Name: 46, dtype: object"
      ]
     },
     "metadata": {},
     "output_type": "display_data"
    },
    {
     "data": {
      "text/plain": [
       "survived                1\n",
       "pclass                  3\n",
       "sex                female\n",
       "age                   NaN\n",
       "sibsp                   0\n",
       "parch                   0\n",
       "fare                 7.75\n",
       "embarked                Q\n",
       "class               Third\n",
       "who                 woman\n",
       "adult_male          False\n",
       "deck                  NaN\n",
       "embark_town    Queenstown\n",
       "alive                 yes\n",
       "alone                True\n",
       "Name: 47, dtype: object"
      ]
     },
     "metadata": {},
     "output_type": "display_data"
    },
    {
     "data": {
      "text/plain": [
       "survived               0\n",
       "pclass                 3\n",
       "sex                 male\n",
       "age                  NaN\n",
       "sibsp                  2\n",
       "parch                  0\n",
       "fare             21.6792\n",
       "embarked               C\n",
       "class              Third\n",
       "who                  man\n",
       "adult_male          True\n",
       "deck                 NaN\n",
       "embark_town    Cherbourg\n",
       "alive                 no\n",
       "alone              False\n",
       "Name: 48, dtype: object"
      ]
     },
     "metadata": {},
     "output_type": "display_data"
    },
    {
     "data": {
      "text/plain": [
       "survived                 0\n",
       "pclass                   3\n",
       "sex                 female\n",
       "age                     18\n",
       "sibsp                    1\n",
       "parch                    0\n",
       "fare                  17.8\n",
       "embarked                 S\n",
       "class                Third\n",
       "who                  woman\n",
       "adult_male           False\n",
       "deck                   NaN\n",
       "embark_town    Southampton\n",
       "alive                   no\n",
       "alone                False\n",
       "Name: 49, dtype: object"
      ]
     },
     "metadata": {},
     "output_type": "display_data"
    },
    {
     "data": {
      "text/plain": [
       "survived                 0\n",
       "pclass                   3\n",
       "sex                   male\n",
       "age                      7\n",
       "sibsp                    4\n",
       "parch                    1\n",
       "fare               39.6875\n",
       "embarked                 S\n",
       "class                Third\n",
       "who                  child\n",
       "adult_male           False\n",
       "deck                   NaN\n",
       "embark_town    Southampton\n",
       "alive                   no\n",
       "alone                False\n",
       "Name: 50, dtype: object"
      ]
     },
     "metadata": {},
     "output_type": "display_data"
    },
    {
     "data": {
      "text/plain": [
       "survived                 0\n",
       "pclass                   3\n",
       "sex                   male\n",
       "age                     21\n",
       "sibsp                    0\n",
       "parch                    0\n",
       "fare                   7.8\n",
       "embarked                 S\n",
       "class                Third\n",
       "who                    man\n",
       "adult_male            True\n",
       "deck                   NaN\n",
       "embark_town    Southampton\n",
       "alive                   no\n",
       "alone                 True\n",
       "Name: 51, dtype: object"
      ]
     },
     "metadata": {},
     "output_type": "display_data"
    },
    {
     "data": {
      "text/plain": [
       "survived                 1\n",
       "pclass                   2\n",
       "sex                 female\n",
       "age                     29\n",
       "sibsp                    1\n",
       "parch                    0\n",
       "fare                    26\n",
       "embarked                 S\n",
       "class               Second\n",
       "who                  woman\n",
       "adult_male           False\n",
       "deck                   NaN\n",
       "embark_town    Southampton\n",
       "alive                  yes\n",
       "alone                False\n",
       "Name: 53, dtype: object"
      ]
     },
     "metadata": {},
     "output_type": "display_data"
    },
    {
     "data": {
      "text/plain": [
       "survived                 1\n",
       "pclass                   2\n",
       "sex                 female\n",
       "age                     21\n",
       "sibsp                    0\n",
       "parch                    0\n",
       "fare                  10.5\n",
       "embarked                 S\n",
       "class               Second\n",
       "who                  woman\n",
       "adult_male           False\n",
       "deck                   NaN\n",
       "embark_town    Southampton\n",
       "alive                  yes\n",
       "alone                 True\n",
       "Name: 56, dtype: object"
      ]
     },
     "metadata": {},
     "output_type": "display_data"
    },
    {
     "data": {
      "text/plain": [
       "survived               0\n",
       "pclass                 3\n",
       "sex                 male\n",
       "age                 28.5\n",
       "sibsp                  0\n",
       "parch                  0\n",
       "fare              7.2292\n",
       "embarked               C\n",
       "class              Third\n",
       "who                  man\n",
       "adult_male          True\n",
       "deck                 NaN\n",
       "embark_town    Cherbourg\n",
       "alive                 no\n",
       "alone               True\n",
       "Name: 57, dtype: object"
      ]
     },
     "metadata": {},
     "output_type": "display_data"
    },
    {
     "data": {
      "text/plain": [
       "survived                 1\n",
       "pclass                   2\n",
       "sex                 female\n",
       "age                      5\n",
       "sibsp                    1\n",
       "parch                    2\n",
       "fare                 27.75\n",
       "embarked                 S\n",
       "class               Second\n",
       "who                  child\n",
       "adult_male           False\n",
       "deck                   NaN\n",
       "embark_town    Southampton\n",
       "alive                  yes\n",
       "alone                False\n",
       "Name: 58, dtype: object"
      ]
     },
     "metadata": {},
     "output_type": "display_data"
    },
    {
     "data": {
      "text/plain": [
       "survived                 0\n",
       "pclass                   3\n",
       "sex                   male\n",
       "age                     11\n",
       "sibsp                    5\n",
       "parch                    2\n",
       "fare                  46.9\n",
       "embarked                 S\n",
       "class                Third\n",
       "who                  child\n",
       "adult_male           False\n",
       "deck                   NaN\n",
       "embark_town    Southampton\n",
       "alive                   no\n",
       "alone                False\n",
       "Name: 59, dtype: object"
      ]
     },
     "metadata": {},
     "output_type": "display_data"
    },
    {
     "data": {
      "text/plain": [
       "survived               0\n",
       "pclass                 3\n",
       "sex                 male\n",
       "age                   22\n",
       "sibsp                  0\n",
       "parch                  0\n",
       "fare              7.2292\n",
       "embarked               C\n",
       "class              Third\n",
       "who                  man\n",
       "adult_male          True\n",
       "deck                 NaN\n",
       "embark_town    Cherbourg\n",
       "alive                 no\n",
       "alone               True\n",
       "Name: 60, dtype: object"
      ]
     },
     "metadata": {},
     "output_type": "display_data"
    },
    {
     "data": {
      "text/plain": [
       "survived                 0\n",
       "pclass                   3\n",
       "sex                   male\n",
       "age                      4\n",
       "sibsp                    3\n",
       "parch                    2\n",
       "fare                  27.9\n",
       "embarked                 S\n",
       "class                Third\n",
       "who                  child\n",
       "adult_male           False\n",
       "deck                   NaN\n",
       "embark_town    Southampton\n",
       "alive                   no\n",
       "alone                False\n",
       "Name: 63, dtype: object"
      ]
     },
     "metadata": {},
     "output_type": "display_data"
    },
    {
     "data": {
      "text/plain": [
       "survived               1\n",
       "pclass                 3\n",
       "sex                 male\n",
       "age                  NaN\n",
       "sibsp                  1\n",
       "parch                  1\n",
       "fare             15.2458\n",
       "embarked               C\n",
       "class              Third\n",
       "who                  man\n",
       "adult_male          True\n",
       "deck                 NaN\n",
       "embark_town    Cherbourg\n",
       "alive                yes\n",
       "alone              False\n",
       "Name: 65, dtype: object"
      ]
     },
     "metadata": {},
     "output_type": "display_data"
    },
    {
     "data": {
      "text/plain": [
       "survived                 1\n",
       "pclass                   2\n",
       "sex                 female\n",
       "age                     29\n",
       "sibsp                    0\n",
       "parch                    0\n",
       "fare                  10.5\n",
       "embarked                 S\n",
       "class               Second\n",
       "who                  woman\n",
       "adult_male           False\n",
       "deck                     F\n",
       "embark_town    Southampton\n",
       "alive                  yes\n",
       "alone                 True\n",
       "Name: 66, dtype: object"
      ]
     },
     "metadata": {},
     "output_type": "display_data"
    },
    {
     "data": {
      "text/plain": [
       "survived                 0\n",
       "pclass                   3\n",
       "sex                   male\n",
       "age                     19\n",
       "sibsp                    0\n",
       "parch                    0\n",
       "fare                8.1583\n",
       "embarked                 S\n",
       "class                Third\n",
       "who                    man\n",
       "adult_male            True\n",
       "deck                   NaN\n",
       "embark_town    Southampton\n",
       "alive                   no\n",
       "alone                 True\n",
       "Name: 67, dtype: object"
      ]
     },
     "metadata": {},
     "output_type": "display_data"
    },
    {
     "data": {
      "text/plain": [
       "survived                 0\n",
       "pclass                   3\n",
       "sex                   male\n",
       "age                     26\n",
       "sibsp                    2\n",
       "parch                    0\n",
       "fare                8.6625\n",
       "embarked                 S\n",
       "class                Third\n",
       "who                    man\n",
       "adult_male            True\n",
       "deck                   NaN\n",
       "embark_town    Southampton\n",
       "alive                   no\n",
       "alone                False\n",
       "Name: 69, dtype: object"
      ]
     },
     "metadata": {},
     "output_type": "display_data"
    },
    {
     "data": {
      "text/plain": [
       "survived                 0\n",
       "pclass                   2\n",
       "sex                   male\n",
       "age                     21\n",
       "sibsp                    0\n",
       "parch                    0\n",
       "fare                  73.5\n",
       "embarked                 S\n",
       "class               Second\n",
       "who                    man\n",
       "adult_male            True\n",
       "deck                   NaN\n",
       "embark_town    Southampton\n",
       "alive                   no\n",
       "alone                 True\n",
       "Name: 72, dtype: object"
      ]
     },
     "metadata": {},
     "output_type": "display_data"
    },
    {
     "data": {
      "text/plain": [
       "survived               0\n",
       "pclass                 3\n",
       "sex                 male\n",
       "age                   26\n",
       "sibsp                  1\n",
       "parch                  0\n",
       "fare             14.4542\n",
       "embarked               C\n",
       "class              Third\n",
       "who                  man\n",
       "adult_male          True\n",
       "deck                 NaN\n",
       "embark_town    Cherbourg\n",
       "alive                 no\n",
       "alone              False\n",
       "Name: 73, dtype: object"
      ]
     },
     "metadata": {},
     "output_type": "display_data"
    },
    {
     "data": {
      "text/plain": [
       "survived                 1\n",
       "pclass                   3\n",
       "sex                   male\n",
       "age                     32\n",
       "sibsp                    0\n",
       "parch                    0\n",
       "fare               56.4958\n",
       "embarked                 S\n",
       "class                Third\n",
       "who                    man\n",
       "adult_male            True\n",
       "deck                   NaN\n",
       "embark_town    Southampton\n",
       "alive                  yes\n",
       "alone                 True\n",
       "Name: 74, dtype: object"
      ]
     },
     "metadata": {},
     "output_type": "display_data"
    },
    {
     "data": {
      "text/plain": [
       "survived                 0\n",
       "pclass                   3\n",
       "sex                   male\n",
       "age                     25\n",
       "sibsp                    0\n",
       "parch                    0\n",
       "fare                  7.65\n",
       "embarked                 S\n",
       "class                Third\n",
       "who                    man\n",
       "adult_male            True\n",
       "deck                     F\n",
       "embark_town    Southampton\n",
       "alive                   no\n",
       "alone                 True\n",
       "Name: 75, dtype: object"
      ]
     },
     "metadata": {},
     "output_type": "display_data"
    },
    {
     "data": {
      "text/plain": [
       "survived                 0\n",
       "pclass                   3\n",
       "sex                   male\n",
       "age                    NaN\n",
       "sibsp                    0\n",
       "parch                    0\n",
       "fare                7.8958\n",
       "embarked                 S\n",
       "class                Third\n",
       "who                    man\n",
       "adult_male            True\n",
       "deck                   NaN\n",
       "embark_town    Southampton\n",
       "alive                   no\n",
       "alone                 True\n",
       "Name: 76, dtype: object"
      ]
     },
     "metadata": {},
     "output_type": "display_data"
    },
    {
     "data": {
      "text/plain": [
       "survived                 1\n",
       "pclass                   3\n",
       "sex                 female\n",
       "age                     30\n",
       "sibsp                    0\n",
       "parch                    0\n",
       "fare                12.475\n",
       "embarked                 S\n",
       "class                Third\n",
       "who                  woman\n",
       "adult_male           False\n",
       "deck                   NaN\n",
       "embark_town    Southampton\n",
       "alive                  yes\n",
       "alone                 True\n",
       "Name: 79, dtype: object"
      ]
     },
     "metadata": {},
     "output_type": "display_data"
    },
    {
     "data": {
      "text/plain": [
       "survived                 1\n",
       "pclass                   3\n",
       "sex                   male\n",
       "age                     29\n",
       "sibsp                    0\n",
       "parch                    0\n",
       "fare                   9.5\n",
       "embarked                 S\n",
       "class                Third\n",
       "who                    man\n",
       "adult_male            True\n",
       "deck                   NaN\n",
       "embark_town    Southampton\n",
       "alive                  yes\n",
       "alone                 True\n",
       "Name: 81, dtype: object"
      ]
     },
     "metadata": {},
     "output_type": "display_data"
    },
    {
     "data": {
      "text/plain": [
       "survived                1\n",
       "pclass                  3\n",
       "sex                female\n",
       "age                   NaN\n",
       "sibsp                   0\n",
       "parch                   0\n",
       "fare               7.7875\n",
       "embarked                Q\n",
       "class               Third\n",
       "who                 woman\n",
       "adult_male          False\n",
       "deck                  NaN\n",
       "embark_town    Queenstown\n",
       "alive                 yes\n",
       "alone                True\n",
       "Name: 82, dtype: object"
      ]
     },
     "metadata": {},
     "output_type": "display_data"
    },
    {
     "data": {
      "text/plain": [
       "survived                 1\n",
       "pclass                   2\n",
       "sex                 female\n",
       "age                     17\n",
       "sibsp                    0\n",
       "parch                    0\n",
       "fare                  10.5\n",
       "embarked                 S\n",
       "class               Second\n",
       "who                  woman\n",
       "adult_male           False\n",
       "deck                   NaN\n",
       "embark_town    Southampton\n",
       "alive                  yes\n",
       "alone                 True\n",
       "Name: 84, dtype: object"
      ]
     },
     "metadata": {},
     "output_type": "display_data"
    },
    {
     "data": {
      "text/plain": [
       "survived                 1\n",
       "pclass                   3\n",
       "sex                 female\n",
       "age                     33\n",
       "sibsp                    3\n",
       "parch                    0\n",
       "fare                 15.85\n",
       "embarked                 S\n",
       "class                Third\n",
       "who                  woman\n",
       "adult_male           False\n",
       "deck                   NaN\n",
       "embark_town    Southampton\n",
       "alive                  yes\n",
       "alone                False\n",
       "Name: 85, dtype: object"
      ]
     },
     "metadata": {},
     "output_type": "display_data"
    },
    {
     "data": {
      "text/plain": [
       "survived                 0\n",
       "pclass                   3\n",
       "sex                   male\n",
       "age                     16\n",
       "sibsp                    1\n",
       "parch                    3\n",
       "fare                34.375\n",
       "embarked                 S\n",
       "class                Third\n",
       "who                    man\n",
       "adult_male            True\n",
       "deck                   NaN\n",
       "embark_town    Southampton\n",
       "alive                   no\n",
       "alone                False\n",
       "Name: 86, dtype: object"
      ]
     },
     "metadata": {},
     "output_type": "display_data"
    },
    {
     "data": {
      "text/plain": [
       "survived                 0\n",
       "pclass                   3\n",
       "sex                   male\n",
       "age                    NaN\n",
       "sibsp                    0\n",
       "parch                    0\n",
       "fare                  8.05\n",
       "embarked                 S\n",
       "class                Third\n",
       "who                    man\n",
       "adult_male            True\n",
       "deck                   NaN\n",
       "embark_town    Southampton\n",
       "alive                   no\n",
       "alone                 True\n",
       "Name: 87, dtype: object"
      ]
     },
     "metadata": {},
     "output_type": "display_data"
    },
    {
     "data": {
      "text/plain": [
       "survived                 0\n",
       "pclass                   3\n",
       "sex                   male\n",
       "age                     24\n",
       "sibsp                    0\n",
       "parch                    0\n",
       "fare                  8.05\n",
       "embarked                 S\n",
       "class                Third\n",
       "who                    man\n",
       "adult_male            True\n",
       "deck                   NaN\n",
       "embark_town    Southampton\n",
       "alive                   no\n",
       "alone                 True\n",
       "Name: 89, dtype: object"
      ]
     },
     "metadata": {},
     "output_type": "display_data"
    },
    {
     "data": {
      "text/plain": [
       "survived                 0\n",
       "pclass                   3\n",
       "sex                   male\n",
       "age                     29\n",
       "sibsp                    0\n",
       "parch                    0\n",
       "fare                  8.05\n",
       "embarked                 S\n",
       "class                Third\n",
       "who                    man\n",
       "adult_male            True\n",
       "deck                   NaN\n",
       "embark_town    Southampton\n",
       "alive                   no\n",
       "alone                 True\n",
       "Name: 90, dtype: object"
      ]
     },
     "metadata": {},
     "output_type": "display_data"
    },
    {
     "data": {
      "text/plain": [
       "survived                 0\n",
       "pclass                   3\n",
       "sex                   male\n",
       "age                     20\n",
       "sibsp                    0\n",
       "parch                    0\n",
       "fare                7.8542\n",
       "embarked                 S\n",
       "class                Third\n",
       "who                    man\n",
       "adult_male            True\n",
       "deck                   NaN\n",
       "embark_town    Southampton\n",
       "alive                   no\n",
       "alone                 True\n",
       "Name: 91, dtype: object"
      ]
     },
     "metadata": {},
     "output_type": "display_data"
    },
    {
     "data": {
      "text/plain": [
       "survived                 0\n",
       "pclass                   3\n",
       "sex                   male\n",
       "age                     26\n",
       "sibsp                    1\n",
       "parch                    2\n",
       "fare                20.575\n",
       "embarked                 S\n",
       "class                Third\n",
       "who                    man\n",
       "adult_male            True\n",
       "deck                   NaN\n",
       "embark_town    Southampton\n",
       "alive                   no\n",
       "alone                False\n",
       "Name: 93, dtype: object"
      ]
     },
     "metadata": {},
     "output_type": "display_data"
    },
    {
     "data": {
      "text/plain": [
       "survived                 0\n",
       "pclass                   3\n",
       "sex                   male\n",
       "age                     59\n",
       "sibsp                    0\n",
       "parch                    0\n",
       "fare                  7.25\n",
       "embarked                 S\n",
       "class                Third\n",
       "who                    man\n",
       "adult_male            True\n",
       "deck                   NaN\n",
       "embark_town    Southampton\n",
       "alive                   no\n",
       "alone                 True\n",
       "Name: 94, dtype: object"
      ]
     },
     "metadata": {},
     "output_type": "display_data"
    },
    {
     "data": {
      "text/plain": [
       "survived                 0\n",
       "pclass                   3\n",
       "sex                   male\n",
       "age                    NaN\n",
       "sibsp                    0\n",
       "parch                    0\n",
       "fare                  8.05\n",
       "embarked                 S\n",
       "class                Third\n",
       "who                    man\n",
       "adult_male            True\n",
       "deck                   NaN\n",
       "embark_town    Southampton\n",
       "alive                   no\n",
       "alone                 True\n",
       "Name: 95, dtype: object"
      ]
     },
     "metadata": {},
     "output_type": "display_data"
    },
    {
     "data": {
      "text/plain": [
       "survived                 1\n",
       "pclass                   2\n",
       "sex                 female\n",
       "age                     34\n",
       "sibsp                    0\n",
       "parch                    1\n",
       "fare                    23\n",
       "embarked                 S\n",
       "class               Second\n",
       "who                  woman\n",
       "adult_male           False\n",
       "deck                   NaN\n",
       "embark_town    Southampton\n",
       "alive                  yes\n",
       "alone                False\n",
       "Name: 98, dtype: object"
      ]
     },
     "metadata": {},
     "output_type": "display_data"
    },
    {
     "data": {
      "text/plain": [
       "survived                 0\n",
       "pclass                   2\n",
       "sex                   male\n",
       "age                     34\n",
       "sibsp                    1\n",
       "parch                    0\n",
       "fare                    26\n",
       "embarked                 S\n",
       "class               Second\n",
       "who                    man\n",
       "adult_male            True\n",
       "deck                   NaN\n",
       "embark_town    Southampton\n",
       "alive                   no\n",
       "alone                False\n",
       "Name: 99, dtype: object"
      ]
     },
     "metadata": {},
     "output_type": "display_data"
    },
    {
     "data": {
      "text/plain": [
       "survived                 0\n",
       "pclass                   3\n",
       "sex                 female\n",
       "age                     28\n",
       "sibsp                    0\n",
       "parch                    0\n",
       "fare                7.8958\n",
       "embarked                 S\n",
       "class                Third\n",
       "who                  woman\n",
       "adult_male           False\n",
       "deck                   NaN\n",
       "embark_town    Southampton\n",
       "alive                   no\n",
       "alone                 True\n",
       "Name: 100, dtype: object"
      ]
     },
     "metadata": {},
     "output_type": "display_data"
    },
    {
     "data": {
      "text/plain": [
       "survived                 0\n",
       "pclass                   3\n",
       "sex                   male\n",
       "age                    NaN\n",
       "sibsp                    0\n",
       "parch                    0\n",
       "fare                7.8958\n",
       "embarked                 S\n",
       "class                Third\n",
       "who                    man\n",
       "adult_male            True\n",
       "deck                   NaN\n",
       "embark_town    Southampton\n",
       "alive                   no\n",
       "alone                 True\n",
       "Name: 101, dtype: object"
      ]
     },
     "metadata": {},
     "output_type": "display_data"
    },
    {
     "data": {
      "text/plain": [
       "survived                 0\n",
       "pclass                   3\n",
       "sex                   male\n",
       "age                     33\n",
       "sibsp                    0\n",
       "parch                    0\n",
       "fare                8.6542\n",
       "embarked                 S\n",
       "class                Third\n",
       "who                    man\n",
       "adult_male            True\n",
       "deck                   NaN\n",
       "embark_town    Southampton\n",
       "alive                   no\n",
       "alone                 True\n",
       "Name: 103, dtype: object"
      ]
     },
     "metadata": {},
     "output_type": "display_data"
    },
    {
     "data": {
      "text/plain": [
       "survived                 0\n",
       "pclass                   3\n",
       "sex                   male\n",
       "age                     37\n",
       "sibsp                    2\n",
       "parch                    0\n",
       "fare                 7.925\n",
       "embarked                 S\n",
       "class                Third\n",
       "who                    man\n",
       "adult_male            True\n",
       "deck                   NaN\n",
       "embark_town    Southampton\n",
       "alive                   no\n",
       "alone                False\n",
       "Name: 104, dtype: object"
      ]
     },
     "metadata": {},
     "output_type": "display_data"
    },
    {
     "data": {
      "text/plain": [
       "survived                 1\n",
       "pclass                   3\n",
       "sex                 female\n",
       "age                     21\n",
       "sibsp                    0\n",
       "parch                    0\n",
       "fare                  7.65\n",
       "embarked                 S\n",
       "class                Third\n",
       "who                  woman\n",
       "adult_male           False\n",
       "deck                   NaN\n",
       "embark_town    Southampton\n",
       "alive                  yes\n",
       "alone                 True\n",
       "Name: 106, dtype: object"
      ]
     },
     "metadata": {},
     "output_type": "display_data"
    },
    {
     "data": {
      "text/plain": [
       "survived                 1\n",
       "pclass                   3\n",
       "sex                   male\n",
       "age                    NaN\n",
       "sibsp                    0\n",
       "parch                    0\n",
       "fare                 7.775\n",
       "embarked                 S\n",
       "class                Third\n",
       "who                    man\n",
       "adult_male            True\n",
       "deck                   NaN\n",
       "embark_town    Southampton\n",
       "alive                  yes\n",
       "alone                 True\n",
       "Name: 107, dtype: object"
      ]
     },
     "metadata": {},
     "output_type": "display_data"
    },
    {
     "data": {
      "text/plain": [
       "survived                 0\n",
       "pclass                   3\n",
       "sex                   male\n",
       "age                     38\n",
       "sibsp                    0\n",
       "parch                    0\n",
       "fare                7.8958\n",
       "embarked                 S\n",
       "class                Third\n",
       "who                    man\n",
       "adult_male            True\n",
       "deck                   NaN\n",
       "embark_town    Southampton\n",
       "alive                   no\n",
       "alone                 True\n",
       "Name: 108, dtype: object"
      ]
     },
     "metadata": {},
     "output_type": "display_data"
    },
    {
     "data": {
      "text/plain": [
       "survived                1\n",
       "pclass                  3\n",
       "sex                female\n",
       "age                   NaN\n",
       "sibsp                   1\n",
       "parch                   0\n",
       "fare                24.15\n",
       "embarked                Q\n",
       "class               Third\n",
       "who                 woman\n",
       "adult_male          False\n",
       "deck                  NaN\n",
       "embark_town    Queenstown\n",
       "alive                 yes\n",
       "alone               False\n",
       "Name: 109, dtype: object"
      ]
     },
     "metadata": {},
     "output_type": "display_data"
    },
    {
     "data": {
      "text/plain": [
       "survived                 0\n",
       "pclass                   3\n",
       "sex                   male\n",
       "age                     22\n",
       "sibsp                    0\n",
       "parch                    0\n",
       "fare                  8.05\n",
       "embarked                 S\n",
       "class                Third\n",
       "who                    man\n",
       "adult_male            True\n",
       "deck                   NaN\n",
       "embark_town    Southampton\n",
       "alive                   no\n",
       "alone                 True\n",
       "Name: 112, dtype: object"
      ]
     },
     "metadata": {},
     "output_type": "display_data"
    },
    {
     "data": {
      "text/plain": [
       "survived                 0\n",
       "pclass                   3\n",
       "sex                 female\n",
       "age                     20\n",
       "sibsp                    1\n",
       "parch                    0\n",
       "fare                 9.825\n",
       "embarked                 S\n",
       "class                Third\n",
       "who                  woman\n",
       "adult_male           False\n",
       "deck                   NaN\n",
       "embark_town    Southampton\n",
       "alive                   no\n",
       "alone                False\n",
       "Name: 113, dtype: object"
      ]
     },
     "metadata": {},
     "output_type": "display_data"
    },
    {
     "data": {
      "text/plain": [
       "survived               0\n",
       "pclass                 3\n",
       "sex               female\n",
       "age                   17\n",
       "sibsp                  0\n",
       "parch                  0\n",
       "fare             14.4583\n",
       "embarked               C\n",
       "class              Third\n",
       "who                woman\n",
       "adult_male         False\n",
       "deck                 NaN\n",
       "embark_town    Cherbourg\n",
       "alive                 no\n",
       "alone               True\n",
       "Name: 114, dtype: object"
      ]
     },
     "metadata": {},
     "output_type": "display_data"
    },
    {
     "data": {
      "text/plain": [
       "survived                0\n",
       "pclass                  3\n",
       "sex                  male\n",
       "age                  70.5\n",
       "sibsp                   0\n",
       "parch                   0\n",
       "fare                 7.75\n",
       "embarked                Q\n",
       "class               Third\n",
       "who                   man\n",
       "adult_male           True\n",
       "deck                  NaN\n",
       "embark_town    Queenstown\n",
       "alive                  no\n",
       "alone                True\n",
       "Name: 116, dtype: object"
      ]
     },
     "metadata": {},
     "output_type": "display_data"
    },
    {
     "data": {
      "text/plain": [
       "survived                 0\n",
       "pclass                   2\n",
       "sex                   male\n",
       "age                     29\n",
       "sibsp                    1\n",
       "parch                    0\n",
       "fare                    21\n",
       "embarked                 S\n",
       "class               Second\n",
       "who                    man\n",
       "adult_male            True\n",
       "deck                   NaN\n",
       "embark_town    Southampton\n",
       "alive                   no\n",
       "alone                False\n",
       "Name: 117, dtype: object"
      ]
     },
     "metadata": {},
     "output_type": "display_data"
    },
    {
     "data": {
      "text/plain": [
       "survived                 0\n",
       "pclass                   3\n",
       "sex                 female\n",
       "age                      2\n",
       "sibsp                    4\n",
       "parch                    2\n",
       "fare                31.275\n",
       "embarked                 S\n",
       "class                Third\n",
       "who                  child\n",
       "adult_male           False\n",
       "deck                   NaN\n",
       "embark_town    Southampton\n",
       "alive                   no\n",
       "alone                False\n",
       "Name: 119, dtype: object"
      ]
     },
     "metadata": {},
     "output_type": "display_data"
    },
    {
     "data": {
      "text/plain": [
       "survived               0\n",
       "pclass                 2\n",
       "sex                 male\n",
       "age                 32.5\n",
       "sibsp                  1\n",
       "parch                  0\n",
       "fare             30.0708\n",
       "embarked               C\n",
       "class             Second\n",
       "who                  man\n",
       "adult_male          True\n",
       "deck                 NaN\n",
       "embark_town    Cherbourg\n",
       "alive                 no\n",
       "alone              False\n",
       "Name: 122, dtype: object"
      ]
     },
     "metadata": {},
     "output_type": "display_data"
    },
    {
     "data": {
      "text/plain": [
       "survived                 1\n",
       "pclass                   2\n",
       "sex                 female\n",
       "age                   32.5\n",
       "sibsp                    0\n",
       "parch                    0\n",
       "fare                    13\n",
       "embarked                 S\n",
       "class               Second\n",
       "who                  woman\n",
       "adult_male           False\n",
       "deck                     E\n",
       "embark_town    Southampton\n",
       "alive                  yes\n",
       "alone                 True\n",
       "Name: 123, dtype: object"
      ]
     },
     "metadata": {},
     "output_type": "display_data"
    },
    {
     "data": {
      "text/plain": [
       "survived               1\n",
       "pclass                 3\n",
       "sex                 male\n",
       "age                   12\n",
       "sibsp                  1\n",
       "parch                  0\n",
       "fare             11.2417\n",
       "embarked               C\n",
       "class              Third\n",
       "who                child\n",
       "adult_male         False\n",
       "deck                 NaN\n",
       "embark_town    Cherbourg\n",
       "alive                yes\n",
       "alone              False\n",
       "Name: 125, dtype: object"
      ]
     },
     "metadata": {},
     "output_type": "display_data"
    },
    {
     "data": {
      "text/plain": [
       "survived                0\n",
       "pclass                  3\n",
       "sex                  male\n",
       "age                   NaN\n",
       "sibsp                   0\n",
       "parch                   0\n",
       "fare                 7.75\n",
       "embarked                Q\n",
       "class               Third\n",
       "who                   man\n",
       "adult_male           True\n",
       "deck                  NaN\n",
       "embark_town    Queenstown\n",
       "alive                  no\n",
       "alone                True\n",
       "Name: 126, dtype: object"
      ]
     },
     "metadata": {},
     "output_type": "display_data"
    },
    {
     "data": {
      "text/plain": [
       "survived               1\n",
       "pclass                 3\n",
       "sex               female\n",
       "age                  NaN\n",
       "sibsp                  1\n",
       "parch                  1\n",
       "fare             22.3583\n",
       "embarked               C\n",
       "class              Third\n",
       "who                woman\n",
       "adult_male         False\n",
       "deck                   F\n",
       "embark_town    Cherbourg\n",
       "alive                yes\n",
       "alone              False\n",
       "Name: 128, dtype: object"
      ]
     },
     "metadata": {},
     "output_type": "display_data"
    },
    {
     "data": {
      "text/plain": [
       "survived                 0\n",
       "pclass                   3\n",
       "sex                   male\n",
       "age                     45\n",
       "sibsp                    0\n",
       "parch                    0\n",
       "fare                 6.975\n",
       "embarked                 S\n",
       "class                Third\n",
       "who                    man\n",
       "adult_male            True\n",
       "deck                   NaN\n",
       "embark_town    Southampton\n",
       "alive                   no\n",
       "alone                 True\n",
       "Name: 129, dtype: object"
      ]
     },
     "metadata": {},
     "output_type": "display_data"
    },
    {
     "data": {
      "text/plain": [
       "survived               0\n",
       "pclass                 3\n",
       "sex                 male\n",
       "age                   33\n",
       "sibsp                  0\n",
       "parch                  0\n",
       "fare              7.8958\n",
       "embarked               C\n",
       "class              Third\n",
       "who                  man\n",
       "adult_male          True\n",
       "deck                 NaN\n",
       "embark_town    Cherbourg\n",
       "alive                 no\n",
       "alone               True\n",
       "Name: 130, dtype: object"
      ]
     },
     "metadata": {},
     "output_type": "display_data"
    },
    {
     "data": {
      "text/plain": [
       "survived                 0\n",
       "pclass                   3\n",
       "sex                   male\n",
       "age                     20\n",
       "sibsp                    0\n",
       "parch                    0\n",
       "fare                  7.05\n",
       "embarked                 S\n",
       "class                Third\n",
       "who                    man\n",
       "adult_male            True\n",
       "deck                   NaN\n",
       "embark_town    Southampton\n",
       "alive                   no\n",
       "alone                 True\n",
       "Name: 131, dtype: object"
      ]
     },
     "metadata": {},
     "output_type": "display_data"
    },
    {
     "data": {
      "text/plain": [
       "survived                 0\n",
       "pclass                   3\n",
       "sex                 female\n",
       "age                     47\n",
       "sibsp                    1\n",
       "parch                    0\n",
       "fare                  14.5\n",
       "embarked                 S\n",
       "class                Third\n",
       "who                  woman\n",
       "adult_male           False\n",
       "deck                   NaN\n",
       "embark_town    Southampton\n",
       "alive                   no\n",
       "alone                False\n",
       "Name: 132, dtype: object"
      ]
     },
     "metadata": {},
     "output_type": "display_data"
    },
    {
     "data": {
      "text/plain": [
       "survived                 1\n",
       "pclass                   2\n",
       "sex                 female\n",
       "age                     29\n",
       "sibsp                    1\n",
       "parch                    0\n",
       "fare                    26\n",
       "embarked                 S\n",
       "class               Second\n",
       "who                  woman\n",
       "adult_male           False\n",
       "deck                   NaN\n",
       "embark_town    Southampton\n",
       "alive                  yes\n",
       "alone                False\n",
       "Name: 133, dtype: object"
      ]
     },
     "metadata": {},
     "output_type": "display_data"
    },
    {
     "data": {
      "text/plain": [
       "survived                 0\n",
       "pclass                   2\n",
       "sex                   male\n",
       "age                     25\n",
       "sibsp                    0\n",
       "parch                    0\n",
       "fare                    13\n",
       "embarked                 S\n",
       "class               Second\n",
       "who                    man\n",
       "adult_male            True\n",
       "deck                   NaN\n",
       "embark_town    Southampton\n",
       "alive                   no\n",
       "alone                 True\n",
       "Name: 134, dtype: object"
      ]
     },
     "metadata": {},
     "output_type": "display_data"
    },
    {
     "data": {
      "text/plain": [
       "survived                 0\n",
       "pclass                   3\n",
       "sex                   male\n",
       "age                     16\n",
       "sibsp                    0\n",
       "parch                    0\n",
       "fare                9.2167\n",
       "embarked                 S\n",
       "class                Third\n",
       "who                    man\n",
       "adult_male            True\n",
       "deck                   NaN\n",
       "embark_town    Southampton\n",
       "alive                   no\n",
       "alone                 True\n",
       "Name: 138, dtype: object"
      ]
     },
     "metadata": {},
     "output_type": "display_data"
    },
    {
     "data": {
      "text/plain": [
       "survived               0\n",
       "pclass                 3\n",
       "sex               female\n",
       "age                  NaN\n",
       "sibsp                  0\n",
       "parch                  2\n",
       "fare             15.2458\n",
       "embarked               C\n",
       "class              Third\n",
       "who                woman\n",
       "adult_male         False\n",
       "deck                 NaN\n",
       "embark_town    Cherbourg\n",
       "alive                 no\n",
       "alone              False\n",
       "Name: 140, dtype: object"
      ]
     },
     "metadata": {},
     "output_type": "display_data"
    },
    {
     "data": {
      "text/plain": [
       "survived                 1\n",
       "pclass                   3\n",
       "sex                 female\n",
       "age                     22\n",
       "sibsp                    0\n",
       "parch                    0\n",
       "fare                  7.75\n",
       "embarked                 S\n",
       "class                Third\n",
       "who                  woman\n",
       "adult_male           False\n",
       "deck                   NaN\n",
       "embark_town    Southampton\n",
       "alive                  yes\n",
       "alone                 True\n",
       "Name: 141, dtype: object"
      ]
     },
     "metadata": {},
     "output_type": "display_data"
    },
    {
     "data": {
      "text/plain": [
       "survived                 1\n",
       "pclass                   3\n",
       "sex                 female\n",
       "age                     24\n",
       "sibsp                    1\n",
       "parch                    0\n",
       "fare                 15.85\n",
       "embarked                 S\n",
       "class                Third\n",
       "who                  woman\n",
       "adult_male           False\n",
       "deck                   NaN\n",
       "embark_town    Southampton\n",
       "alive                  yes\n",
       "alone                False\n",
       "Name: 142, dtype: object"
      ]
     },
     "metadata": {},
     "output_type": "display_data"
    },
    {
     "data": {
      "text/plain": [
       "survived                0\n",
       "pclass                  3\n",
       "sex                  male\n",
       "age                    19\n",
       "sibsp                   0\n",
       "parch                   0\n",
       "fare                 6.75\n",
       "embarked                Q\n",
       "class               Third\n",
       "who                   man\n",
       "adult_male           True\n",
       "deck                  NaN\n",
       "embark_town    Queenstown\n",
       "alive                  no\n",
       "alone                True\n",
       "Name: 143, dtype: object"
      ]
     },
     "metadata": {},
     "output_type": "display_data"
    },
    {
     "data": {
      "text/plain": [
       "survived                 0\n",
       "pclass                   2\n",
       "sex                   male\n",
       "age                     18\n",
       "sibsp                    0\n",
       "parch                    0\n",
       "fare                  11.5\n",
       "embarked                 S\n",
       "class               Second\n",
       "who                    man\n",
       "adult_male            True\n",
       "deck                   NaN\n",
       "embark_town    Southampton\n",
       "alive                   no\n",
       "alone                 True\n",
       "Name: 144, dtype: object"
      ]
     },
     "metadata": {},
     "output_type": "display_data"
    },
    {
     "data": {
      "text/plain": [
       "survived                 0\n",
       "pclass                   2\n",
       "sex                   male\n",
       "age                     19\n",
       "sibsp                    1\n",
       "parch                    1\n",
       "fare                 36.75\n",
       "embarked                 S\n",
       "class               Second\n",
       "who                    man\n",
       "adult_male            True\n",
       "deck                   NaN\n",
       "embark_town    Southampton\n",
       "alive                   no\n",
       "alone                False\n",
       "Name: 145, dtype: object"
      ]
     },
     "metadata": {},
     "output_type": "display_data"
    },
    {
     "data": {
      "text/plain": [
       "survived                 0\n",
       "pclass                   3\n",
       "sex                 female\n",
       "age                      9\n",
       "sibsp                    2\n",
       "parch                    2\n",
       "fare                34.375\n",
       "embarked                 S\n",
       "class                Third\n",
       "who                  child\n",
       "adult_male           False\n",
       "deck                   NaN\n",
       "embark_town    Southampton\n",
       "alive                   no\n",
       "alone                False\n",
       "Name: 147, dtype: object"
      ]
     },
     "metadata": {},
     "output_type": "display_data"
    },
    {
     "data": {
      "text/plain": [
       "survived                 0\n",
       "pclass                   2\n",
       "sex                   male\n",
       "age                   36.5\n",
       "sibsp                    0\n",
       "parch                    2\n",
       "fare                    26\n",
       "embarked                 S\n",
       "class               Second\n",
       "who                    man\n",
       "adult_male            True\n",
       "deck                     F\n",
       "embark_town    Southampton\n",
       "alive                   no\n",
       "alone                False\n",
       "Name: 148, dtype: object"
      ]
     },
     "metadata": {},
     "output_type": "display_data"
    },
    {
     "data": {
      "text/plain": [
       "survived                 0\n",
       "pclass                   2\n",
       "sex                   male\n",
       "age                     42\n",
       "sibsp                    0\n",
       "parch                    0\n",
       "fare                    13\n",
       "embarked                 S\n",
       "class               Second\n",
       "who                    man\n",
       "adult_male            True\n",
       "deck                   NaN\n",
       "embark_town    Southampton\n",
       "alive                   no\n",
       "alone                 True\n",
       "Name: 149, dtype: object"
      ]
     },
     "metadata": {},
     "output_type": "display_data"
    },
    {
     "data": {
      "text/plain": [
       "survived                 0\n",
       "pclass                   2\n",
       "sex                   male\n",
       "age                     51\n",
       "sibsp                    0\n",
       "parch                    0\n",
       "fare                12.525\n",
       "embarked                 S\n",
       "class               Second\n",
       "who                    man\n",
       "adult_male            True\n",
       "deck                   NaN\n",
       "embark_town    Southampton\n",
       "alive                   no\n",
       "alone                 True\n",
       "Name: 150, dtype: object"
      ]
     },
     "metadata": {},
     "output_type": "display_data"
    },
    {
     "data": {
      "text/plain": [
       "survived                 0\n",
       "pclass                   3\n",
       "sex                   male\n",
       "age                   55.5\n",
       "sibsp                    0\n",
       "parch                    0\n",
       "fare                  8.05\n",
       "embarked                 S\n",
       "class                Third\n",
       "who                    man\n",
       "adult_male            True\n",
       "deck                   NaN\n",
       "embark_town    Southampton\n",
       "alive                   no\n",
       "alone                 True\n",
       "Name: 152, dtype: object"
      ]
     },
     "metadata": {},
     "output_type": "display_data"
    },
    {
     "data": {
      "text/plain": [
       "survived                 0\n",
       "pclass                   3\n",
       "sex                   male\n",
       "age                    NaN\n",
       "sibsp                    0\n",
       "parch                    0\n",
       "fare                7.3125\n",
       "embarked                 S\n",
       "class                Third\n",
       "who                    man\n",
       "adult_male            True\n",
       "deck                   NaN\n",
       "embark_town    Southampton\n",
       "alive                   no\n",
       "alone                 True\n",
       "Name: 154, dtype: object"
      ]
     },
     "metadata": {},
     "output_type": "display_data"
    },
    {
     "data": {
      "text/plain": [
       "survived                1\n",
       "pclass                  3\n",
       "sex                female\n",
       "age                    16\n",
       "sibsp                   0\n",
       "parch                   0\n",
       "fare               7.7333\n",
       "embarked                Q\n",
       "class               Third\n",
       "who                 woman\n",
       "adult_male          False\n",
       "deck                  NaN\n",
       "embark_town    Queenstown\n",
       "alive                 yes\n",
       "alone                True\n",
       "Name: 156, dtype: object"
      ]
     },
     "metadata": {},
     "output_type": "display_data"
    },
    {
     "data": {
      "text/plain": [
       "survived                 0\n",
       "pclass                   3\n",
       "sex                   male\n",
       "age                     30\n",
       "sibsp                    0\n",
       "parch                    0\n",
       "fare                  8.05\n",
       "embarked                 S\n",
       "class                Third\n",
       "who                    man\n",
       "adult_male            True\n",
       "deck                   NaN\n",
       "embark_town    Southampton\n",
       "alive                   no\n",
       "alone                 True\n",
       "Name: 157, dtype: object"
      ]
     },
     "metadata": {},
     "output_type": "display_data"
    },
    {
     "data": {
      "text/plain": [
       "survived                 0\n",
       "pclass                   3\n",
       "sex                   male\n",
       "age                    NaN\n",
       "sibsp                    0\n",
       "parch                    0\n",
       "fare                8.6625\n",
       "embarked                 S\n",
       "class                Third\n",
       "who                    man\n",
       "adult_male            True\n",
       "deck                   NaN\n",
       "embark_town    Southampton\n",
       "alive                   no\n",
       "alone                 True\n",
       "Name: 158, dtype: object"
      ]
     },
     "metadata": {},
     "output_type": "display_data"
    },
    {
     "data": {
      "text/plain": [
       "survived                 0\n",
       "pclass                   3\n",
       "sex                   male\n",
       "age                    NaN\n",
       "sibsp                    8\n",
       "parch                    2\n",
       "fare                 69.55\n",
       "embarked                 S\n",
       "class                Third\n",
       "who                    man\n",
       "adult_male            True\n",
       "deck                   NaN\n",
       "embark_town    Southampton\n",
       "alive                   no\n",
       "alone                False\n",
       "Name: 159, dtype: object"
      ]
     },
     "metadata": {},
     "output_type": "display_data"
    },
    {
     "data": {
      "text/plain": [
       "survived                 0\n",
       "pclass                   3\n",
       "sex                   male\n",
       "age                     44\n",
       "sibsp                    0\n",
       "parch                    1\n",
       "fare                  16.1\n",
       "embarked                 S\n",
       "class                Third\n",
       "who                    man\n",
       "adult_male            True\n",
       "deck                   NaN\n",
       "embark_town    Southampton\n",
       "alive                   no\n",
       "alone                False\n",
       "Name: 160, dtype: object"
      ]
     },
     "metadata": {},
     "output_type": "display_data"
    },
    {
     "data": {
      "text/plain": [
       "survived                 1\n",
       "pclass                   2\n",
       "sex                 female\n",
       "age                     40\n",
       "sibsp                    0\n",
       "parch                    0\n",
       "fare                 15.75\n",
       "embarked                 S\n",
       "class               Second\n",
       "who                  woman\n",
       "adult_male           False\n",
       "deck                   NaN\n",
       "embark_town    Southampton\n",
       "alive                  yes\n",
       "alone                 True\n",
       "Name: 161, dtype: object"
      ]
     },
     "metadata": {},
     "output_type": "display_data"
    },
    {
     "data": {
      "text/plain": [
       "survived                 0\n",
       "pclass                   3\n",
       "sex                   male\n",
       "age                     26\n",
       "sibsp                    0\n",
       "parch                    0\n",
       "fare                 7.775\n",
       "embarked                 S\n",
       "class                Third\n",
       "who                    man\n",
       "adult_male            True\n",
       "deck                   NaN\n",
       "embark_town    Southampton\n",
       "alive                   no\n",
       "alone                 True\n",
       "Name: 162, dtype: object"
      ]
     },
     "metadata": {},
     "output_type": "display_data"
    },
    {
     "data": {
      "text/plain": [
       "survived                 0\n",
       "pclass                   3\n",
       "sex                   male\n",
       "age                     17\n",
       "sibsp                    0\n",
       "parch                    0\n",
       "fare                8.6625\n",
       "embarked                 S\n",
       "class                Third\n",
       "who                    man\n",
       "adult_male            True\n",
       "deck                   NaN\n",
       "embark_town    Southampton\n",
       "alive                   no\n",
       "alone                 True\n",
       "Name: 163, dtype: object"
      ]
     },
     "metadata": {},
     "output_type": "display_data"
    },
    {
     "data": {
      "text/plain": [
       "survived                 0\n",
       "pclass                   3\n",
       "sex                   male\n",
       "age                      1\n",
       "sibsp                    4\n",
       "parch                    1\n",
       "fare               39.6875\n",
       "embarked                 S\n",
       "class                Third\n",
       "who                  child\n",
       "adult_male           False\n",
       "deck                   NaN\n",
       "embark_town    Southampton\n",
       "alive                   no\n",
       "alone                False\n",
       "Name: 164, dtype: object"
      ]
     },
     "metadata": {},
     "output_type": "display_data"
    },
    {
     "data": {
      "text/plain": [
       "survived                 1\n",
       "pclass                   3\n",
       "sex                   male\n",
       "age                      9\n",
       "sibsp                    0\n",
       "parch                    2\n",
       "fare                20.525\n",
       "embarked                 S\n",
       "class                Third\n",
       "who                  child\n",
       "adult_male           False\n",
       "deck                   NaN\n",
       "embark_town    Southampton\n",
       "alive                  yes\n",
       "alone                False\n",
       "Name: 165, dtype: object"
      ]
     },
     "metadata": {},
     "output_type": "display_data"
    },
    {
     "data": {
      "text/plain": [
       "survived                0\n",
       "pclass                  3\n",
       "sex                  male\n",
       "age                     4\n",
       "sibsp                   4\n",
       "parch                   1\n",
       "fare               29.125\n",
       "embarked                Q\n",
       "class               Third\n",
       "who                 child\n",
       "adult_male          False\n",
       "deck                  NaN\n",
       "embark_town    Queenstown\n",
       "alive                  no\n",
       "alone               False\n",
       "Name: 171, dtype: object"
      ]
     },
     "metadata": {},
     "output_type": "display_data"
    },
    {
     "data": {
      "text/plain": [
       "survived                 0\n",
       "pclass                   3\n",
       "sex                   male\n",
       "age                     21\n",
       "sibsp                    0\n",
       "parch                    0\n",
       "fare                 7.925\n",
       "embarked                 S\n",
       "class                Third\n",
       "who                    man\n",
       "adult_male            True\n",
       "deck                   NaN\n",
       "embark_town    Southampton\n",
       "alive                   no\n",
       "alone                 True\n",
       "Name: 173, dtype: object"
      ]
     },
     "metadata": {},
     "output_type": "display_data"
    },
    {
     "data": {
      "text/plain": [
       "survived                 0\n",
       "pclass                   3\n",
       "sex                   male\n",
       "age                     18\n",
       "sibsp                    1\n",
       "parch                    1\n",
       "fare                7.8542\n",
       "embarked                 S\n",
       "class                Third\n",
       "who                    man\n",
       "adult_male            True\n",
       "deck                   NaN\n",
       "embark_town    Southampton\n",
       "alive                   no\n",
       "alone                False\n",
       "Name: 175, dtype: object"
      ]
     },
     "metadata": {},
     "output_type": "display_data"
    },
    {
     "data": {
      "text/plain": [
       "survived                 0\n",
       "pclass                   3\n",
       "sex                   male\n",
       "age                    NaN\n",
       "sibsp                    3\n",
       "parch                    1\n",
       "fare               25.4667\n",
       "embarked                 S\n",
       "class                Third\n",
       "who                    man\n",
       "adult_male            True\n",
       "deck                   NaN\n",
       "embark_town    Southampton\n",
       "alive                   no\n",
       "alone                False\n",
       "Name: 176, dtype: object"
      ]
     },
     "metadata": {},
     "output_type": "display_data"
    },
    {
     "data": {
      "text/plain": [
       "survived                 0\n",
       "pclass                   2\n",
       "sex                   male\n",
       "age                     30\n",
       "sibsp                    0\n",
       "parch                    0\n",
       "fare                    13\n",
       "embarked                 S\n",
       "class               Second\n",
       "who                    man\n",
       "adult_male            True\n",
       "deck                   NaN\n",
       "embark_town    Southampton\n",
       "alive                   no\n",
       "alone                 True\n",
       "Name: 178, dtype: object"
      ]
     },
     "metadata": {},
     "output_type": "display_data"
    },
    {
     "data": {
      "text/plain": [
       "survived                 0\n",
       "pclass                   3\n",
       "sex                   male\n",
       "age                     36\n",
       "sibsp                    0\n",
       "parch                    0\n",
       "fare                     0\n",
       "embarked                 S\n",
       "class                Third\n",
       "who                    man\n",
       "adult_male            True\n",
       "deck                   NaN\n",
       "embark_town    Southampton\n",
       "alive                   no\n",
       "alone                 True\n",
       "Name: 179, dtype: object"
      ]
     },
     "metadata": {},
     "output_type": "display_data"
    },
    {
     "data": {
      "text/plain": [
       "survived                 0\n",
       "pclass                   3\n",
       "sex                 female\n",
       "age                    NaN\n",
       "sibsp                    8\n",
       "parch                    2\n",
       "fare                 69.55\n",
       "embarked                 S\n",
       "class                Third\n",
       "who                  woman\n",
       "adult_male           False\n",
       "deck                   NaN\n",
       "embark_town    Southampton\n",
       "alive                   no\n",
       "alone                False\n",
       "Name: 180, dtype: object"
      ]
     },
     "metadata": {},
     "output_type": "display_data"
    },
    {
     "data": {
      "text/plain": [
       "survived               0\n",
       "pclass                 2\n",
       "sex                 male\n",
       "age                  NaN\n",
       "sibsp                  0\n",
       "parch                  0\n",
       "fare               15.05\n",
       "embarked               C\n",
       "class             Second\n",
       "who                  man\n",
       "adult_male          True\n",
       "deck                 NaN\n",
       "embark_town    Cherbourg\n",
       "alive                 no\n",
       "alone               True\n",
       "Name: 181, dtype: object"
      ]
     },
     "metadata": {},
     "output_type": "display_data"
    },
    {
     "data": {
      "text/plain": [
       "survived                 0\n",
       "pclass                   3\n",
       "sex                   male\n",
       "age                      9\n",
       "sibsp                    4\n",
       "parch                    2\n",
       "fare               31.3875\n",
       "embarked                 S\n",
       "class                Third\n",
       "who                  child\n",
       "adult_male           False\n",
       "deck                   NaN\n",
       "embark_town    Southampton\n",
       "alive                   no\n",
       "alone                False\n",
       "Name: 182, dtype: object"
      ]
     },
     "metadata": {},
     "output_type": "display_data"
    },
    {
     "data": {
      "text/plain": [
       "survived                 1\n",
       "pclass                   2\n",
       "sex                   male\n",
       "age                      1\n",
       "sibsp                    2\n",
       "parch                    1\n",
       "fare                    39\n",
       "embarked                 S\n",
       "class               Second\n",
       "who                  child\n",
       "adult_male           False\n",
       "deck                     F\n",
       "embark_town    Southampton\n",
       "alive                  yes\n",
       "alone                False\n",
       "Name: 183, dtype: object"
      ]
     },
     "metadata": {},
     "output_type": "display_data"
    },
    {
     "data": {
      "text/plain": [
       "survived                 1\n",
       "pclass                   3\n",
       "sex                 female\n",
       "age                      4\n",
       "sibsp                    0\n",
       "parch                    2\n",
       "fare                22.025\n",
       "embarked                 S\n",
       "class                Third\n",
       "who                  child\n",
       "adult_male           False\n",
       "deck                   NaN\n",
       "embark_town    Southampton\n",
       "alive                  yes\n",
       "alone                False\n",
       "Name: 184, dtype: object"
      ]
     },
     "metadata": {},
     "output_type": "display_data"
    },
    {
     "data": {
      "text/plain": [
       "survived                1\n",
       "pclass                  3\n",
       "sex                female\n",
       "age                   NaN\n",
       "sibsp                   1\n",
       "parch                   0\n",
       "fare                 15.5\n",
       "embarked                Q\n",
       "class               Third\n",
       "who                 woman\n",
       "adult_male          False\n",
       "deck                  NaN\n",
       "embark_town    Queenstown\n",
       "alive                 yes\n",
       "alone               False\n",
       "Name: 186, dtype: object"
      ]
     },
     "metadata": {},
     "output_type": "display_data"
    },
    {
     "data": {
      "text/plain": [
       "survived                 0\n",
       "pclass                   3\n",
       "sex                   male\n",
       "age                     36\n",
       "sibsp                    0\n",
       "parch                    0\n",
       "fare                7.8958\n",
       "embarked                 S\n",
       "class                Third\n",
       "who                    man\n",
       "adult_male            True\n",
       "deck                   NaN\n",
       "embark_town    Southampton\n",
       "alive                   no\n",
       "alone                 True\n",
       "Name: 189, dtype: object"
      ]
     },
     "metadata": {},
     "output_type": "display_data"
    },
    {
     "data": {
      "text/plain": [
       "survived                 1\n",
       "pclass                   2\n",
       "sex                 female\n",
       "age                     32\n",
       "sibsp                    0\n",
       "parch                    0\n",
       "fare                    13\n",
       "embarked                 S\n",
       "class               Second\n",
       "who                  woman\n",
       "adult_male           False\n",
       "deck                   NaN\n",
       "embark_town    Southampton\n",
       "alive                  yes\n",
       "alone                 True\n",
       "Name: 190, dtype: object"
      ]
     },
     "metadata": {},
     "output_type": "display_data"
    },
    {
     "data": {
      "text/plain": [
       "survived                 0\n",
       "pclass                   2\n",
       "sex                   male\n",
       "age                     19\n",
       "sibsp                    0\n",
       "parch                    0\n",
       "fare                    13\n",
       "embarked                 S\n",
       "class               Second\n",
       "who                    man\n",
       "adult_male            True\n",
       "deck                   NaN\n",
       "embark_town    Southampton\n",
       "alive                   no\n",
       "alone                 True\n",
       "Name: 191, dtype: object"
      ]
     },
     "metadata": {},
     "output_type": "display_data"
    },
    {
     "data": {
      "text/plain": [
       "survived                 1\n",
       "pclass                   2\n",
       "sex                   male\n",
       "age                      3\n",
       "sibsp                    1\n",
       "parch                    1\n",
       "fare                    26\n",
       "embarked                 S\n",
       "class               Second\n",
       "who                  child\n",
       "adult_male           False\n",
       "deck                     F\n",
       "embark_town    Southampton\n",
       "alive                  yes\n",
       "alone                False\n",
       "Name: 193, dtype: object"
      ]
     },
     "metadata": {},
     "output_type": "display_data"
    },
    {
     "data": {
      "text/plain": [
       "survived                0\n",
       "pclass                  3\n",
       "sex                  male\n",
       "age                   NaN\n",
       "sibsp                   0\n",
       "parch                   0\n",
       "fare                 7.75\n",
       "embarked                Q\n",
       "class               Third\n",
       "who                   man\n",
       "adult_male           True\n",
       "deck                  NaN\n",
       "embark_town    Queenstown\n",
       "alive                  no\n",
       "alone                True\n",
       "Name: 196, dtype: object"
      ]
     },
     "metadata": {},
     "output_type": "display_data"
    },
    {
     "data": {
      "text/plain": [
       "survived                 0\n",
       "pclass                   3\n",
       "sex                   male\n",
       "age                     42\n",
       "sibsp                    0\n",
       "parch                    1\n",
       "fare                8.4042\n",
       "embarked                 S\n",
       "class                Third\n",
       "who                    man\n",
       "adult_male            True\n",
       "deck                   NaN\n",
       "embark_town    Southampton\n",
       "alive                   no\n",
       "alone                False\n",
       "Name: 197, dtype: object"
      ]
     },
     "metadata": {},
     "output_type": "display_data"
    },
    {
     "data": {
      "text/plain": [
       "survived                1\n",
       "pclass                  3\n",
       "sex                female\n",
       "age                   NaN\n",
       "sibsp                   0\n",
       "parch                   0\n",
       "fare                 7.75\n",
       "embarked                Q\n",
       "class               Third\n",
       "who                 woman\n",
       "adult_male          False\n",
       "deck                  NaN\n",
       "embark_town    Queenstown\n",
       "alive                 yes\n",
       "alone                True\n",
       "Name: 198, dtype: object"
      ]
     },
     "metadata": {},
     "output_type": "display_data"
    },
    {
     "data": {
      "text/plain": [
       "survived                 0\n",
       "pclass                   2\n",
       "sex                 female\n",
       "age                     24\n",
       "sibsp                    0\n",
       "parch                    0\n",
       "fare                    13\n",
       "embarked                 S\n",
       "class               Second\n",
       "who                  woman\n",
       "adult_male           False\n",
       "deck                   NaN\n",
       "embark_town    Southampton\n",
       "alive                   no\n",
       "alone                 True\n",
       "Name: 199, dtype: object"
      ]
     },
     "metadata": {},
     "output_type": "display_data"
    },
    {
     "data": {
      "text/plain": [
       "survived                 0\n",
       "pclass                   3\n",
       "sex                   male\n",
       "age                     28\n",
       "sibsp                    0\n",
       "parch                    0\n",
       "fare                   9.5\n",
       "embarked                 S\n",
       "class                Third\n",
       "who                    man\n",
       "adult_male            True\n",
       "deck                   NaN\n",
       "embark_town    Southampton\n",
       "alive                   no\n",
       "alone                 True\n",
       "Name: 200, dtype: object"
      ]
     },
     "metadata": {},
     "output_type": "display_data"
    },
    {
     "data": {
      "text/plain": [
       "survived                 0\n",
       "pclass                   3\n",
       "sex                   male\n",
       "age                    NaN\n",
       "sibsp                    8\n",
       "parch                    2\n",
       "fare                 69.55\n",
       "embarked                 S\n",
       "class                Third\n",
       "who                    man\n",
       "adult_male            True\n",
       "deck                   NaN\n",
       "embark_town    Southampton\n",
       "alive                   no\n",
       "alone                False\n",
       "Name: 201, dtype: object"
      ]
     },
     "metadata": {},
     "output_type": "display_data"
    },
    {
     "data": {
      "text/plain": [
       "survived                 0\n",
       "pclass                   3\n",
       "sex                   male\n",
       "age                     34\n",
       "sibsp                    0\n",
       "parch                    0\n",
       "fare                6.4958\n",
       "embarked                 S\n",
       "class                Third\n",
       "who                    man\n",
       "adult_male            True\n",
       "deck                   NaN\n",
       "embark_town    Southampton\n",
       "alive                   no\n",
       "alone                 True\n",
       "Name: 202, dtype: object"
      ]
     },
     "metadata": {},
     "output_type": "display_data"
    },
    {
     "data": {
      "text/plain": [
       "survived               0\n",
       "pclass                 3\n",
       "sex                 male\n",
       "age                 45.5\n",
       "sibsp                  0\n",
       "parch                  0\n",
       "fare               7.225\n",
       "embarked               C\n",
       "class              Third\n",
       "who                  man\n",
       "adult_male          True\n",
       "deck                 NaN\n",
       "embark_town    Cherbourg\n",
       "alive                 no\n",
       "alone               True\n",
       "Name: 203, dtype: object"
      ]
     },
     "metadata": {},
     "output_type": "display_data"
    },
    {
     "data": {
      "text/plain": [
       "survived                 1\n",
       "pclass                   3\n",
       "sex                   male\n",
       "age                     18\n",
       "sibsp                    0\n",
       "parch                    0\n",
       "fare                  8.05\n",
       "embarked                 S\n",
       "class                Third\n",
       "who                    man\n",
       "adult_male            True\n",
       "deck                   NaN\n",
       "embark_town    Southampton\n",
       "alive                  yes\n",
       "alone                 True\n",
       "Name: 204, dtype: object"
      ]
     },
     "metadata": {},
     "output_type": "display_data"
    },
    {
     "data": {
      "text/plain": [
       "survived                 0\n",
       "pclass                   3\n",
       "sex                   male\n",
       "age                     32\n",
       "sibsp                    1\n",
       "parch                    0\n",
       "fare                 15.85\n",
       "embarked                 S\n",
       "class                Third\n",
       "who                    man\n",
       "adult_male            True\n",
       "deck                   NaN\n",
       "embark_town    Southampton\n",
       "alive                   no\n",
       "alone                False\n",
       "Name: 206, dtype: object"
      ]
     },
     "metadata": {},
     "output_type": "display_data"
    },
    {
     "data": {
      "text/plain": [
       "survived                1\n",
       "pclass                  3\n",
       "sex                female\n",
       "age                    16\n",
       "sibsp                   0\n",
       "parch                   0\n",
       "fare                 7.75\n",
       "embarked                Q\n",
       "class               Third\n",
       "who                 woman\n",
       "adult_male          False\n",
       "deck                  NaN\n",
       "embark_town    Queenstown\n",
       "alive                 yes\n",
       "alone                True\n",
       "Name: 208, dtype: object"
      ]
     },
     "metadata": {},
     "output_type": "display_data"
    },
    {
     "data": {
      "text/plain": [
       "survived                 1\n",
       "pclass                   2\n",
       "sex                 female\n",
       "age                     35\n",
       "sibsp                    0\n",
       "parch                    0\n",
       "fare                    21\n",
       "embarked                 S\n",
       "class               Second\n",
       "who                  woman\n",
       "adult_male           False\n",
       "deck                   NaN\n",
       "embark_town    Southampton\n",
       "alive                  yes\n",
       "alone                 True\n",
       "Name: 211, dtype: object"
      ]
     },
     "metadata": {},
     "output_type": "display_data"
    },
    {
     "data": {
      "text/plain": [
       "survived                 0\n",
       "pclass                   3\n",
       "sex                   male\n",
       "age                     22\n",
       "sibsp                    0\n",
       "parch                    0\n",
       "fare                  7.25\n",
       "embarked                 S\n",
       "class                Third\n",
       "who                    man\n",
       "adult_male            True\n",
       "deck                   NaN\n",
       "embark_town    Southampton\n",
       "alive                   no\n",
       "alone                 True\n",
       "Name: 212, dtype: object"
      ]
     },
     "metadata": {},
     "output_type": "display_data"
    },
    {
     "data": {
      "text/plain": [
       "survived                 0\n",
       "pclass                   2\n",
       "sex                   male\n",
       "age                     30\n",
       "sibsp                    0\n",
       "parch                    0\n",
       "fare                    13\n",
       "embarked                 S\n",
       "class               Second\n",
       "who                    man\n",
       "adult_male            True\n",
       "deck                   NaN\n",
       "embark_town    Southampton\n",
       "alive                   no\n",
       "alone                 True\n",
       "Name: 213, dtype: object"
      ]
     },
     "metadata": {},
     "output_type": "display_data"
    },
    {
     "data": {
      "text/plain": [
       "survived                 1\n",
       "pclass                   3\n",
       "sex                 female\n",
       "age                     27\n",
       "sibsp                    0\n",
       "parch                    0\n",
       "fare                 7.925\n",
       "embarked                 S\n",
       "class                Third\n",
       "who                  woman\n",
       "adult_male           False\n",
       "deck                   NaN\n",
       "embark_town    Southampton\n",
       "alive                  yes\n",
       "alone                 True\n",
       "Name: 216, dtype: object"
      ]
     },
     "metadata": {},
     "output_type": "display_data"
    },
    {
     "data": {
      "text/plain": [
       "survived                 0\n",
       "pclass                   2\n",
       "sex                   male\n",
       "age                     42\n",
       "sibsp                    1\n",
       "parch                    0\n",
       "fare                    27\n",
       "embarked                 S\n",
       "class               Second\n",
       "who                    man\n",
       "adult_male            True\n",
       "deck                   NaN\n",
       "embark_town    Southampton\n",
       "alive                   no\n",
       "alone                False\n",
       "Name: 217, dtype: object"
      ]
     },
     "metadata": {},
     "output_type": "display_data"
    },
    {
     "data": {
      "text/plain": [
       "survived                 1\n",
       "pclass                   3\n",
       "sex                   male\n",
       "age                     16\n",
       "sibsp                    0\n",
       "parch                    0\n",
       "fare                  8.05\n",
       "embarked                 S\n",
       "class                Third\n",
       "who                    man\n",
       "adult_male            True\n",
       "deck                   NaN\n",
       "embark_town    Southampton\n",
       "alive                  yes\n",
       "alone                 True\n",
       "Name: 220, dtype: object"
      ]
     },
     "metadata": {},
     "output_type": "display_data"
    },
    {
     "data": {
      "text/plain": [
       "survived                 0\n",
       "pclass                   2\n",
       "sex                   male\n",
       "age                     27\n",
       "sibsp                    0\n",
       "parch                    0\n",
       "fare                    13\n",
       "embarked                 S\n",
       "class               Second\n",
       "who                    man\n",
       "adult_male            True\n",
       "deck                   NaN\n",
       "embark_town    Southampton\n",
       "alive                   no\n",
       "alone                 True\n",
       "Name: 221, dtype: object"
      ]
     },
     "metadata": {},
     "output_type": "display_data"
    },
    {
     "data": {
      "text/plain": [
       "survived                 0\n",
       "pclass                   3\n",
       "sex                   male\n",
       "age                     51\n",
       "sibsp                    0\n",
       "parch                    0\n",
       "fare                  8.05\n",
       "embarked                 S\n",
       "class                Third\n",
       "who                    man\n",
       "adult_male            True\n",
       "deck                   NaN\n",
       "embark_town    Southampton\n",
       "alive                   no\n",
       "alone                 True\n",
       "Name: 222, dtype: object"
      ]
     },
     "metadata": {},
     "output_type": "display_data"
    },
    {
     "data": {
      "text/plain": [
       "survived                 0\n",
       "pclass                   3\n",
       "sex                   male\n",
       "age                    NaN\n",
       "sibsp                    0\n",
       "parch                    0\n",
       "fare                7.8958\n",
       "embarked                 S\n",
       "class                Third\n",
       "who                    man\n",
       "adult_male            True\n",
       "deck                   NaN\n",
       "embark_town    Southampton\n",
       "alive                   no\n",
       "alone                 True\n",
       "Name: 223, dtype: object"
      ]
     },
     "metadata": {},
     "output_type": "display_data"
    },
    {
     "data": {
      "text/plain": [
       "survived                 0\n",
       "pclass                   3\n",
       "sex                   male\n",
       "age                     22\n",
       "sibsp                    0\n",
       "parch                    0\n",
       "fare                  9.35\n",
       "embarked                 S\n",
       "class                Third\n",
       "who                    man\n",
       "adult_male            True\n",
       "deck                   NaN\n",
       "embark_town    Southampton\n",
       "alive                   no\n",
       "alone                 True\n",
       "Name: 225, dtype: object"
      ]
     },
     "metadata": {},
     "output_type": "display_data"
    },
    {
     "data": {
      "text/plain": [
       "survived                 1\n",
       "pclass                   2\n",
       "sex                   male\n",
       "age                     19\n",
       "sibsp                    0\n",
       "parch                    0\n",
       "fare                  10.5\n",
       "embarked                 S\n",
       "class               Second\n",
       "who                    man\n",
       "adult_male            True\n",
       "deck                   NaN\n",
       "embark_town    Southampton\n",
       "alive                  yes\n",
       "alone                 True\n",
       "Name: 226, dtype: object"
      ]
     },
     "metadata": {},
     "output_type": "display_data"
    },
    {
     "data": {
      "text/plain": [
       "survived                 0\n",
       "pclass                   3\n",
       "sex                   male\n",
       "age                   20.5\n",
       "sibsp                    0\n",
       "parch                    0\n",
       "fare                  7.25\n",
       "embarked                 S\n",
       "class                Third\n",
       "who                    man\n",
       "adult_male            True\n",
       "deck                   NaN\n",
       "embark_town    Southampton\n",
       "alive                   no\n",
       "alone                 True\n",
       "Name: 227, dtype: object"
      ]
     },
     "metadata": {},
     "output_type": "display_data"
    },
    {
     "data": {
      "text/plain": [
       "survived                 0\n",
       "pclass                   3\n",
       "sex                 female\n",
       "age                    NaN\n",
       "sibsp                    3\n",
       "parch                    1\n",
       "fare               25.4667\n",
       "embarked                 S\n",
       "class                Third\n",
       "who                  woman\n",
       "adult_male           False\n",
       "deck                   NaN\n",
       "embark_town    Southampton\n",
       "alive                   no\n",
       "alone                False\n",
       "Name: 229, dtype: object"
      ]
     },
     "metadata": {},
     "output_type": "display_data"
    },
    {
     "data": {
      "text/plain": [
       "survived                 0\n",
       "pclass                   2\n",
       "sex                   male\n",
       "age                     59\n",
       "sibsp                    0\n",
       "parch                    0\n",
       "fare                  13.5\n",
       "embarked                 S\n",
       "class               Second\n",
       "who                    man\n",
       "adult_male            True\n",
       "deck                   NaN\n",
       "embark_town    Southampton\n",
       "alive                   no\n",
       "alone                 True\n",
       "Name: 232, dtype: object"
      ]
     },
     "metadata": {},
     "output_type": "display_data"
    },
    {
     "data": {
      "text/plain": [
       "survived                 1\n",
       "pclass                   3\n",
       "sex                 female\n",
       "age                      5\n",
       "sibsp                    4\n",
       "parch                    2\n",
       "fare               31.3875\n",
       "embarked                 S\n",
       "class                Third\n",
       "who                  child\n",
       "adult_male           False\n",
       "deck                   NaN\n",
       "embark_town    Southampton\n",
       "alive                  yes\n",
       "alone                False\n",
       "Name: 233, dtype: object"
      ]
     },
     "metadata": {},
     "output_type": "display_data"
    },
    {
     "data": {
      "text/plain": [
       "survived                 0\n",
       "pclass                   2\n",
       "sex                   male\n",
       "age                     24\n",
       "sibsp                    0\n",
       "parch                    0\n",
       "fare                  10.5\n",
       "embarked                 S\n",
       "class               Second\n",
       "who                    man\n",
       "adult_male            True\n",
       "deck                   NaN\n",
       "embark_town    Southampton\n",
       "alive                   no\n",
       "alone                 True\n",
       "Name: 234, dtype: object"
      ]
     },
     "metadata": {},
     "output_type": "display_data"
    },
    {
     "data": {
      "text/plain": [
       "survived                 0\n",
       "pclass                   3\n",
       "sex                 female\n",
       "age                    NaN\n",
       "sibsp                    0\n",
       "parch                    0\n",
       "fare                  7.55\n",
       "embarked                 S\n",
       "class                Third\n",
       "who                  woman\n",
       "adult_male           False\n",
       "deck                   NaN\n",
       "embark_town    Southampton\n",
       "alive                   no\n",
       "alone                 True\n",
       "Name: 235, dtype: object"
      ]
     },
     "metadata": {},
     "output_type": "display_data"
    },
    {
     "data": {
      "text/plain": [
       "survived                 0\n",
       "pclass                   2\n",
       "sex                   male\n",
       "age                     44\n",
       "sibsp                    1\n",
       "parch                    0\n",
       "fare                    26\n",
       "embarked                 S\n",
       "class               Second\n",
       "who                    man\n",
       "adult_male            True\n",
       "deck                   NaN\n",
       "embark_town    Southampton\n",
       "alive                   no\n",
       "alone                False\n",
       "Name: 236, dtype: object"
      ]
     },
     "metadata": {},
     "output_type": "display_data"
    },
    {
     "data": {
      "text/plain": [
       "survived                 1\n",
       "pclass                   2\n",
       "sex                 female\n",
       "age                      8\n",
       "sibsp                    0\n",
       "parch                    2\n",
       "fare                 26.25\n",
       "embarked                 S\n",
       "class               Second\n",
       "who                  child\n",
       "adult_male           False\n",
       "deck                   NaN\n",
       "embark_town    Southampton\n",
       "alive                  yes\n",
       "alone                False\n",
       "Name: 237, dtype: object"
      ]
     },
     "metadata": {},
     "output_type": "display_data"
    },
    {
     "data": {
      "text/plain": [
       "survived               0\n",
       "pclass                 3\n",
       "sex               female\n",
       "age                  NaN\n",
       "sibsp                  1\n",
       "parch                  0\n",
       "fare             14.4542\n",
       "embarked               C\n",
       "class              Third\n",
       "who                woman\n",
       "adult_male         False\n",
       "deck                 NaN\n",
       "embark_town    Cherbourg\n",
       "alive                 no\n",
       "alone              False\n",
       "Name: 240, dtype: object"
      ]
     },
     "metadata": {},
     "output_type": "display_data"
    },
    {
     "data": {
      "text/plain": [
       "survived                1\n",
       "pclass                  3\n",
       "sex                female\n",
       "age                   NaN\n",
       "sibsp                   1\n",
       "parch                   0\n",
       "fare                 15.5\n",
       "embarked                Q\n",
       "class               Third\n",
       "who                 woman\n",
       "adult_male          False\n",
       "deck                  NaN\n",
       "embark_town    Queenstown\n",
       "alive                 yes\n",
       "alone               False\n",
       "Name: 241, dtype: object"
      ]
     },
     "metadata": {},
     "output_type": "display_data"
    },
    {
     "data": {
      "text/plain": [
       "survived                 0\n",
       "pclass                   2\n",
       "sex                   male\n",
       "age                     29\n",
       "sibsp                    0\n",
       "parch                    0\n",
       "fare                  10.5\n",
       "embarked                 S\n",
       "class               Second\n",
       "who                    man\n",
       "adult_male            True\n",
       "deck                   NaN\n",
       "embark_town    Southampton\n",
       "alive                   no\n",
       "alone                 True\n",
       "Name: 242, dtype: object"
      ]
     },
     "metadata": {},
     "output_type": "display_data"
    },
    {
     "data": {
      "text/plain": [
       "survived                 0\n",
       "pclass                   3\n",
       "sex                   male\n",
       "age                     22\n",
       "sibsp                    0\n",
       "parch                    0\n",
       "fare                 7.125\n",
       "embarked                 S\n",
       "class                Third\n",
       "who                    man\n",
       "adult_male            True\n",
       "deck                   NaN\n",
       "embark_town    Southampton\n",
       "alive                   no\n",
       "alone                 True\n",
       "Name: 243, dtype: object"
      ]
     },
     "metadata": {},
     "output_type": "display_data"
    },
    {
     "data": {
      "text/plain": [
       "survived               0\n",
       "pclass                 3\n",
       "sex                 male\n",
       "age                   30\n",
       "sibsp                  0\n",
       "parch                  0\n",
       "fare               7.225\n",
       "embarked               C\n",
       "class              Third\n",
       "who                  man\n",
       "adult_male          True\n",
       "deck                 NaN\n",
       "embark_town    Cherbourg\n",
       "alive                 no\n",
       "alone               True\n",
       "Name: 244, dtype: object"
      ]
     },
     "metadata": {},
     "output_type": "display_data"
    },
    {
     "data": {
      "text/plain": [
       "survived                 0\n",
       "pclass                   3\n",
       "sex                 female\n",
       "age                     25\n",
       "sibsp                    0\n",
       "parch                    0\n",
       "fare                 7.775\n",
       "embarked                 S\n",
       "class                Third\n",
       "who                  woman\n",
       "adult_male           False\n",
       "deck                   NaN\n",
       "embark_town    Southampton\n",
       "alive                   no\n",
       "alone                 True\n",
       "Name: 246, dtype: object"
      ]
     },
     "metadata": {},
     "output_type": "display_data"
    },
    {
     "data": {
      "text/plain": [
       "survived                 1\n",
       "pclass                   2\n",
       "sex                 female\n",
       "age                     24\n",
       "sibsp                    0\n",
       "parch                    2\n",
       "fare                  14.5\n",
       "embarked                 S\n",
       "class               Second\n",
       "who                  woman\n",
       "adult_male           False\n",
       "deck                   NaN\n",
       "embark_town    Southampton\n",
       "alive                  yes\n",
       "alone                False\n",
       "Name: 247, dtype: object"
      ]
     },
     "metadata": {},
     "output_type": "display_data"
    },
    {
     "data": {
      "text/plain": [
       "survived                 0\n",
       "pclass                   2\n",
       "sex                   male\n",
       "age                     54\n",
       "sibsp                    1\n",
       "parch                    0\n",
       "fare                    26\n",
       "embarked                 S\n",
       "class               Second\n",
       "who                    man\n",
       "adult_male            True\n",
       "deck                   NaN\n",
       "embark_town    Southampton\n",
       "alive                   no\n",
       "alone                False\n",
       "Name: 249, dtype: object"
      ]
     },
     "metadata": {},
     "output_type": "display_data"
    },
    {
     "data": {
      "text/plain": [
       "survived                 0\n",
       "pclass                   3\n",
       "sex                   male\n",
       "age                    NaN\n",
       "sibsp                    0\n",
       "parch                    0\n",
       "fare                  7.25\n",
       "embarked                 S\n",
       "class                Third\n",
       "who                    man\n",
       "adult_male            True\n",
       "deck                   NaN\n",
       "embark_town    Southampton\n",
       "alive                   no\n",
       "alone                 True\n",
       "Name: 250, dtype: object"
      ]
     },
     "metadata": {},
     "output_type": "display_data"
    },
    {
     "data": {
      "text/plain": [
       "survived                 0\n",
       "pclass                   3\n",
       "sex                 female\n",
       "age                     29\n",
       "sibsp                    1\n",
       "parch                    1\n",
       "fare               10.4625\n",
       "embarked                 S\n",
       "class                Third\n",
       "who                  woman\n",
       "adult_male           False\n",
       "deck                     G\n",
       "embark_town    Southampton\n",
       "alive                   no\n",
       "alone                False\n",
       "Name: 251, dtype: object"
      ]
     },
     "metadata": {},
     "output_type": "display_data"
    },
    {
     "data": {
      "text/plain": [
       "survived                 0\n",
       "pclass                   3\n",
       "sex                   male\n",
       "age                     30\n",
       "sibsp                    1\n",
       "parch                    0\n",
       "fare                  16.1\n",
       "embarked                 S\n",
       "class                Third\n",
       "who                    man\n",
       "adult_male            True\n",
       "deck                   NaN\n",
       "embark_town    Southampton\n",
       "alive                   no\n",
       "alone                False\n",
       "Name: 253, dtype: object"
      ]
     },
     "metadata": {},
     "output_type": "display_data"
    },
    {
     "data": {
      "text/plain": [
       "survived                 0\n",
       "pclass                   3\n",
       "sex                 female\n",
       "age                     41\n",
       "sibsp                    0\n",
       "parch                    2\n",
       "fare               20.2125\n",
       "embarked                 S\n",
       "class                Third\n",
       "who                  woman\n",
       "adult_male           False\n",
       "deck                   NaN\n",
       "embark_town    Southampton\n",
       "alive                   no\n",
       "alone                False\n",
       "Name: 254, dtype: object"
      ]
     },
     "metadata": {},
     "output_type": "display_data"
    },
    {
     "data": {
      "text/plain": [
       "survived               1\n",
       "pclass                 3\n",
       "sex               female\n",
       "age                   29\n",
       "sibsp                  0\n",
       "parch                  2\n",
       "fare             15.2458\n",
       "embarked               C\n",
       "class              Third\n",
       "who                woman\n",
       "adult_male         False\n",
       "deck                 NaN\n",
       "embark_town    Cherbourg\n",
       "alive                yes\n",
       "alone              False\n",
       "Name: 255, dtype: object"
      ]
     },
     "metadata": {},
     "output_type": "display_data"
    },
    {
     "data": {
      "text/plain": [
       "survived                0\n",
       "pclass                  3\n",
       "sex                  male\n",
       "age                   NaN\n",
       "sibsp                   0\n",
       "parch                   0\n",
       "fare                 7.75\n",
       "embarked                Q\n",
       "class               Third\n",
       "who                   man\n",
       "adult_male           True\n",
       "deck                  NaN\n",
       "embark_town    Queenstown\n",
       "alive                  no\n",
       "alone                True\n",
       "Name: 260, dtype: object"
      ]
     },
     "metadata": {},
     "output_type": "display_data"
    },
    {
     "data": {
      "text/plain": [
       "survived                 1\n",
       "pclass                   3\n",
       "sex                   male\n",
       "age                      3\n",
       "sibsp                    4\n",
       "parch                    2\n",
       "fare               31.3875\n",
       "embarked                 S\n",
       "class                Third\n",
       "who                  child\n",
       "adult_male           False\n",
       "deck                   NaN\n",
       "embark_town    Southampton\n",
       "alive                  yes\n",
       "alone                False\n",
       "Name: 261, dtype: object"
      ]
     },
     "metadata": {},
     "output_type": "display_data"
    },
    {
     "data": {
      "text/plain": [
       "survived                0\n",
       "pclass                  3\n",
       "sex                female\n",
       "age                   NaN\n",
       "sibsp                   0\n",
       "parch                   0\n",
       "fare                 7.75\n",
       "embarked                Q\n",
       "class               Third\n",
       "who                 woman\n",
       "adult_male          False\n",
       "deck                  NaN\n",
       "embark_town    Queenstown\n",
       "alive                  no\n",
       "alone                True\n",
       "Name: 264, dtype: object"
      ]
     },
     "metadata": {},
     "output_type": "display_data"
    },
    {
     "data": {
      "text/plain": [
       "survived                 0\n",
       "pclass                   2\n",
       "sex                   male\n",
       "age                     36\n",
       "sibsp                    0\n",
       "parch                    0\n",
       "fare                  10.5\n",
       "embarked                 S\n",
       "class               Second\n",
       "who                    man\n",
       "adult_male            True\n",
       "deck                   NaN\n",
       "embark_town    Southampton\n",
       "alive                   no\n",
       "alone                 True\n",
       "Name: 265, dtype: object"
      ]
     },
     "metadata": {},
     "output_type": "display_data"
    },
    {
     "data": {
      "text/plain": [
       "survived                 0\n",
       "pclass                   3\n",
       "sex                   male\n",
       "age                     16\n",
       "sibsp                    4\n",
       "parch                    1\n",
       "fare               39.6875\n",
       "embarked                 S\n",
       "class                Third\n",
       "who                    man\n",
       "adult_male            True\n",
       "deck                   NaN\n",
       "embark_town    Southampton\n",
       "alive                   no\n",
       "alone                False\n",
       "Name: 266, dtype: object"
      ]
     },
     "metadata": {},
     "output_type": "display_data"
    },
    {
     "data": {
      "text/plain": [
       "survived                 1\n",
       "pclass                   3\n",
       "sex                   male\n",
       "age                     25\n",
       "sibsp                    0\n",
       "parch                    0\n",
       "fare                     0\n",
       "embarked                 S\n",
       "class                Third\n",
       "who                    man\n",
       "adult_male            True\n",
       "deck                   NaN\n",
       "embark_town    Southampton\n",
       "alive                  yes\n",
       "alone                 True\n",
       "Name: 271, dtype: object"
      ]
     },
     "metadata": {},
     "output_type": "display_data"
    },
    {
     "data": {
      "text/plain": [
       "survived                 1\n",
       "pclass                   2\n",
       "sex                 female\n",
       "age                     41\n",
       "sibsp                    0\n",
       "parch                    1\n",
       "fare                  19.5\n",
       "embarked                 S\n",
       "class               Second\n",
       "who                  woman\n",
       "adult_male           False\n",
       "deck                   NaN\n",
       "embark_town    Southampton\n",
       "alive                  yes\n",
       "alone                False\n",
       "Name: 272, dtype: object"
      ]
     },
     "metadata": {},
     "output_type": "display_data"
    },
    {
     "data": {
      "text/plain": [
       "survived                 0\n",
       "pclass                   3\n",
       "sex                 female\n",
       "age                     45\n",
       "sibsp                    0\n",
       "parch                    0\n",
       "fare                  7.75\n",
       "embarked                 S\n",
       "class                Third\n",
       "who                  woman\n",
       "adult_male           False\n",
       "deck                   NaN\n",
       "embark_town    Southampton\n",
       "alive                   no\n",
       "alone                 True\n",
       "Name: 276, dtype: object"
      ]
     },
     "metadata": {},
     "output_type": "display_data"
    },
    {
     "data": {
      "text/plain": [
       "survived                 0\n",
       "pclass                   2\n",
       "sex                   male\n",
       "age                    NaN\n",
       "sibsp                    0\n",
       "parch                    0\n",
       "fare                     0\n",
       "embarked                 S\n",
       "class               Second\n",
       "who                    man\n",
       "adult_male            True\n",
       "deck                   NaN\n",
       "embark_town    Southampton\n",
       "alive                   no\n",
       "alone                 True\n",
       "Name: 277, dtype: object"
      ]
     },
     "metadata": {},
     "output_type": "display_data"
    },
    {
     "data": {
      "text/plain": [
       "survived                0\n",
       "pclass                  3\n",
       "sex                  male\n",
       "age                     7\n",
       "sibsp                   4\n",
       "parch                   1\n",
       "fare               29.125\n",
       "embarked                Q\n",
       "class               Third\n",
       "who                 child\n",
       "adult_male          False\n",
       "deck                  NaN\n",
       "embark_town    Queenstown\n",
       "alive                  no\n",
       "alone               False\n",
       "Name: 278, dtype: object"
      ]
     },
     "metadata": {},
     "output_type": "display_data"
    },
    {
     "data": {
      "text/plain": [
       "survived                 1\n",
       "pclass                   3\n",
       "sex                 female\n",
       "age                     35\n",
       "sibsp                    1\n",
       "parch                    1\n",
       "fare                 20.25\n",
       "embarked                 S\n",
       "class                Third\n",
       "who                  woman\n",
       "adult_male           False\n",
       "deck                   NaN\n",
       "embark_town    Southampton\n",
       "alive                  yes\n",
       "alone                False\n",
       "Name: 279, dtype: object"
      ]
     },
     "metadata": {},
     "output_type": "display_data"
    },
    {
     "data": {
      "text/plain": [
       "survived                0\n",
       "pclass                  3\n",
       "sex                  male\n",
       "age                    65\n",
       "sibsp                   0\n",
       "parch                   0\n",
       "fare                 7.75\n",
       "embarked                Q\n",
       "class               Third\n",
       "who                   man\n",
       "adult_male           True\n",
       "deck                  NaN\n",
       "embark_town    Queenstown\n",
       "alive                  no\n",
       "alone                True\n",
       "Name: 280, dtype: object"
      ]
     },
     "metadata": {},
     "output_type": "display_data"
    },
    {
     "data": {
      "text/plain": [
       "survived                 0\n",
       "pclass                   3\n",
       "sex                   male\n",
       "age                     16\n",
       "sibsp                    0\n",
       "parch                    0\n",
       "fare                   9.5\n",
       "embarked                 S\n",
       "class                Third\n",
       "who                    man\n",
       "adult_male            True\n",
       "deck                   NaN\n",
       "embark_town    Southampton\n",
       "alive                   no\n",
       "alone                 True\n",
       "Name: 282, dtype: object"
      ]
     },
     "metadata": {},
     "output_type": "display_data"
    },
    {
     "data": {
      "text/plain": [
       "survived                 1\n",
       "pclass                   3\n",
       "sex                   male\n",
       "age                     19\n",
       "sibsp                    0\n",
       "parch                    0\n",
       "fare                  8.05\n",
       "embarked                 S\n",
       "class                Third\n",
       "who                    man\n",
       "adult_male            True\n",
       "deck                   NaN\n",
       "embark_town    Southampton\n",
       "alive                  yes\n",
       "alone                 True\n",
       "Name: 283, dtype: object"
      ]
     },
     "metadata": {},
     "output_type": "display_data"
    },
    {
     "data": {
      "text/plain": [
       "survived               0\n",
       "pclass                 3\n",
       "sex                 male\n",
       "age                   33\n",
       "sibsp                  0\n",
       "parch                  0\n",
       "fare              8.6625\n",
       "embarked               C\n",
       "class              Third\n",
       "who                  man\n",
       "adult_male          True\n",
       "deck                 NaN\n",
       "embark_town    Cherbourg\n",
       "alive                 no\n",
       "alone               True\n",
       "Name: 285, dtype: object"
      ]
     },
     "metadata": {},
     "output_type": "display_data"
    },
    {
     "data": {
      "text/plain": [
       "survived                 1\n",
       "pclass                   3\n",
       "sex                   male\n",
       "age                     30\n",
       "sibsp                    0\n",
       "parch                    0\n",
       "fare                   9.5\n",
       "embarked                 S\n",
       "class                Third\n",
       "who                    man\n",
       "adult_male            True\n",
       "deck                   NaN\n",
       "embark_town    Southampton\n",
       "alive                  yes\n",
       "alone                 True\n",
       "Name: 286, dtype: object"
      ]
     },
     "metadata": {},
     "output_type": "display_data"
    },
    {
     "data": {
      "text/plain": [
       "survived                 0\n",
       "pclass                   3\n",
       "sex                   male\n",
       "age                     22\n",
       "sibsp                    0\n",
       "parch                    0\n",
       "fare                7.8958\n",
       "embarked                 S\n",
       "class                Third\n",
       "who                    man\n",
       "adult_male            True\n",
       "deck                   NaN\n",
       "embark_town    Southampton\n",
       "alive                   no\n",
       "alone                 True\n",
       "Name: 287, dtype: object"
      ]
     },
     "metadata": {},
     "output_type": "display_data"
    },
    {
     "data": {
      "text/plain": [
       "survived                1\n",
       "pclass                  3\n",
       "sex                female\n",
       "age                    22\n",
       "sibsp                   0\n",
       "parch                   0\n",
       "fare                 7.75\n",
       "embarked                Q\n",
       "class               Third\n",
       "who                 woman\n",
       "adult_male          False\n",
       "deck                  NaN\n",
       "embark_town    Queenstown\n",
       "alive                 yes\n",
       "alone                True\n",
       "Name: 289, dtype: object"
      ]
     },
     "metadata": {},
     "output_type": "display_data"
    },
    {
     "data": {
      "text/plain": [
       "survived               0\n",
       "pclass                 2\n",
       "sex                 male\n",
       "age                   36\n",
       "sibsp                  0\n",
       "parch                  0\n",
       "fare              12.875\n",
       "embarked               C\n",
       "class             Second\n",
       "who                  man\n",
       "adult_male          True\n",
       "deck                   D\n",
       "embark_town    Cherbourg\n",
       "alive                 no\n",
       "alone               True\n",
       "Name: 292, dtype: object"
      ]
     },
     "metadata": {},
     "output_type": "display_data"
    },
    {
     "data": {
      "text/plain": [
       "survived                 0\n",
       "pclass                   3\n",
       "sex                 female\n",
       "age                     24\n",
       "sibsp                    0\n",
       "parch                    0\n",
       "fare                  8.85\n",
       "embarked                 S\n",
       "class                Third\n",
       "who                  woman\n",
       "adult_male           False\n",
       "deck                   NaN\n",
       "embark_town    Southampton\n",
       "alive                   no\n",
       "alone                 True\n",
       "Name: 293, dtype: object"
      ]
     },
     "metadata": {},
     "output_type": "display_data"
    },
    {
     "data": {
      "text/plain": [
       "survived                 0\n",
       "pclass                   3\n",
       "sex                   male\n",
       "age                     24\n",
       "sibsp                    0\n",
       "parch                    0\n",
       "fare                7.8958\n",
       "embarked                 S\n",
       "class                Third\n",
       "who                    man\n",
       "adult_male            True\n",
       "deck                   NaN\n",
       "embark_town    Southampton\n",
       "alive                   no\n",
       "alone                 True\n",
       "Name: 294, dtype: object"
      ]
     },
     "metadata": {},
     "output_type": "display_data"
    },
    {
     "data": {
      "text/plain": [
       "survived               0\n",
       "pclass                 3\n",
       "sex                 male\n",
       "age                 23.5\n",
       "sibsp                  0\n",
       "parch                  0\n",
       "fare              7.2292\n",
       "embarked               C\n",
       "class              Third\n",
       "who                  man\n",
       "adult_male          True\n",
       "deck                 NaN\n",
       "embark_town    Cherbourg\n",
       "alive                 no\n",
       "alone               True\n",
       "Name: 296, dtype: object"
      ]
     },
     "metadata": {},
     "output_type": "display_data"
    },
    {
     "data": {
      "text/plain": [
       "survived                1\n",
       "pclass                  3\n",
       "sex                female\n",
       "age                   NaN\n",
       "sibsp                   0\n",
       "parch                   0\n",
       "fare                 7.75\n",
       "embarked                Q\n",
       "class               Third\n",
       "who                 woman\n",
       "adult_male          False\n",
       "deck                  NaN\n",
       "embark_town    Queenstown\n",
       "alive                 yes\n",
       "alone                True\n",
       "Name: 300, dtype: object"
      ]
     },
     "metadata": {},
     "output_type": "display_data"
    },
    {
     "data": {
      "text/plain": [
       "survived                1\n",
       "pclass                  3\n",
       "sex                  male\n",
       "age                   NaN\n",
       "sibsp                   2\n",
       "parch                   0\n",
       "fare                23.25\n",
       "embarked                Q\n",
       "class               Third\n",
       "who                   man\n",
       "adult_male           True\n",
       "deck                  NaN\n",
       "embark_town    Queenstown\n",
       "alive                 yes\n",
       "alone               False\n",
       "Name: 301, dtype: object"
      ]
     },
     "metadata": {},
     "output_type": "display_data"
    },
    {
     "data": {
      "text/plain": [
       "survived                 0\n",
       "pclass                   3\n",
       "sex                   male\n",
       "age                     19\n",
       "sibsp                    0\n",
       "parch                    0\n",
       "fare                     0\n",
       "embarked                 S\n",
       "class                Third\n",
       "who                    man\n",
       "adult_male            True\n",
       "deck                   NaN\n",
       "embark_town    Southampton\n",
       "alive                   no\n",
       "alone                 True\n",
       "Name: 302, dtype: object"
      ]
     },
     "metadata": {},
     "output_type": "display_data"
    },
    {
     "data": {
      "text/plain": [
       "survived                1\n",
       "pclass                  2\n",
       "sex                female\n",
       "age                   NaN\n",
       "sibsp                   0\n",
       "parch                   0\n",
       "fare                12.35\n",
       "embarked                Q\n",
       "class              Second\n",
       "who                 woman\n",
       "adult_male          False\n",
       "deck                    E\n",
       "embark_town    Queenstown\n",
       "alive                 yes\n",
       "alone                True\n",
       "Name: 303, dtype: object"
      ]
     },
     "metadata": {},
     "output_type": "display_data"
    },
    {
     "data": {
      "text/plain": [
       "survived                 0\n",
       "pclass                   3\n",
       "sex                   male\n",
       "age                    NaN\n",
       "sibsp                    0\n",
       "parch                    0\n",
       "fare                  8.05\n",
       "embarked                 S\n",
       "class                Third\n",
       "who                    man\n",
       "adult_male            True\n",
       "deck                   NaN\n",
       "embark_town    Southampton\n",
       "alive                   no\n",
       "alone                 True\n",
       "Name: 304, dtype: object"
      ]
     },
     "metadata": {},
     "output_type": "display_data"
    },
    {
     "data": {
      "text/plain": [
       "survived               0\n",
       "pclass                 2\n",
       "sex                 male\n",
       "age                   30\n",
       "sibsp                  1\n",
       "parch                  0\n",
       "fare                  24\n",
       "embarked               C\n",
       "class             Second\n",
       "who                  man\n",
       "adult_male          True\n",
       "deck                 NaN\n",
       "embark_town    Cherbourg\n",
       "alive                 no\n",
       "alone              False\n",
       "Name: 308, dtype: object"
      ]
     },
     "metadata": {},
     "output_type": "display_data"
    },
    {
     "data": {
      "text/plain": [
       "survived                 0\n",
       "pclass                   2\n",
       "sex                 female\n",
       "age                     26\n",
       "sibsp                    1\n",
       "parch                    1\n",
       "fare                    26\n",
       "embarked                 S\n",
       "class               Second\n",
       "who                  woman\n",
       "adult_male           False\n",
       "deck                   NaN\n",
       "embark_town    Southampton\n",
       "alive                   no\n",
       "alone                False\n",
       "Name: 312, dtype: object"
      ]
     },
     "metadata": {},
     "output_type": "display_data"
    },
    {
     "data": {
      "text/plain": [
       "survived                 0\n",
       "pclass                   3\n",
       "sex                   male\n",
       "age                     28\n",
       "sibsp                    0\n",
       "parch                    0\n",
       "fare                7.8958\n",
       "embarked                 S\n",
       "class                Third\n",
       "who                    man\n",
       "adult_male            True\n",
       "deck                   NaN\n",
       "embark_town    Southampton\n",
       "alive                   no\n",
       "alone                 True\n",
       "Name: 313, dtype: object"
      ]
     },
     "metadata": {},
     "output_type": "display_data"
    },
    {
     "data": {
      "text/plain": [
       "survived                 0\n",
       "pclass                   2\n",
       "sex                   male\n",
       "age                     43\n",
       "sibsp                    1\n",
       "parch                    1\n",
       "fare                 26.25\n",
       "embarked                 S\n",
       "class               Second\n",
       "who                    man\n",
       "adult_male            True\n",
       "deck                   NaN\n",
       "embark_town    Southampton\n",
       "alive                   no\n",
       "alone                False\n",
       "Name: 314, dtype: object"
      ]
     },
     "metadata": {},
     "output_type": "display_data"
    },
    {
     "data": {
      "text/plain": [
       "survived                 1\n",
       "pclass                   2\n",
       "sex                 female\n",
       "age                     24\n",
       "sibsp                    1\n",
       "parch                    0\n",
       "fare                    26\n",
       "embarked                 S\n",
       "class               Second\n",
       "who                  woman\n",
       "adult_male           False\n",
       "deck                   NaN\n",
       "embark_town    Southampton\n",
       "alive                  yes\n",
       "alone                False\n",
       "Name: 316, dtype: object"
      ]
     },
     "metadata": {},
     "output_type": "display_data"
    },
    {
     "data": {
      "text/plain": [
       "survived                 0\n",
       "pclass                   2\n",
       "sex                   male\n",
       "age                     54\n",
       "sibsp                    0\n",
       "parch                    0\n",
       "fare                    14\n",
       "embarked                 S\n",
       "class               Second\n",
       "who                    man\n",
       "adult_male            True\n",
       "deck                   NaN\n",
       "embark_town    Southampton\n",
       "alive                   no\n",
       "alone                 True\n",
       "Name: 317, dtype: object"
      ]
     },
     "metadata": {},
     "output_type": "display_data"
    },
    {
     "data": {
      "text/plain": [
       "survived                 0\n",
       "pclass                   3\n",
       "sex                   male\n",
       "age                     27\n",
       "sibsp                    0\n",
       "parch                    0\n",
       "fare                7.8958\n",
       "embarked                 S\n",
       "class                Third\n",
       "who                    man\n",
       "adult_male            True\n",
       "deck                   NaN\n",
       "embark_town    Southampton\n",
       "alive                   no\n",
       "alone                 True\n",
       "Name: 321, dtype: object"
      ]
     },
     "metadata": {},
     "output_type": "display_data"
    },
    {
     "data": {
      "text/plain": [
       "survived                1\n",
       "pclass                  2\n",
       "sex                female\n",
       "age                    30\n",
       "sibsp                   0\n",
       "parch                   0\n",
       "fare                12.35\n",
       "embarked                Q\n",
       "class              Second\n",
       "who                 woman\n",
       "adult_male          False\n",
       "deck                  NaN\n",
       "embark_town    Queenstown\n",
       "alive                 yes\n",
       "alone                True\n",
       "Name: 322, dtype: object"
      ]
     },
     "metadata": {},
     "output_type": "display_data"
    },
    {
     "data": {
      "text/plain": [
       "survived                 1\n",
       "pclass                   2\n",
       "sex                 female\n",
       "age                     22\n",
       "sibsp                    1\n",
       "parch                    1\n",
       "fare                    29\n",
       "embarked                 S\n",
       "class               Second\n",
       "who                  woman\n",
       "adult_male           False\n",
       "deck                   NaN\n",
       "embark_town    Southampton\n",
       "alive                  yes\n",
       "alone                False\n",
       "Name: 323, dtype: object"
      ]
     },
     "metadata": {},
     "output_type": "display_data"
    },
    {
     "data": {
      "text/plain": [
       "survived                 0\n",
       "pclass                   3\n",
       "sex                   male\n",
       "age                     61\n",
       "sibsp                    0\n",
       "parch                    0\n",
       "fare                6.2375\n",
       "embarked                 S\n",
       "class                Third\n",
       "who                    man\n",
       "adult_male            True\n",
       "deck                   NaN\n",
       "embark_town    Southampton\n",
       "alive                   no\n",
       "alone                 True\n",
       "Name: 326, dtype: object"
      ]
     },
     "metadata": {},
     "output_type": "display_data"
    },
    {
     "data": {
      "text/plain": [
       "survived                 1\n",
       "pclass                   2\n",
       "sex                 female\n",
       "age                     36\n",
       "sibsp                    0\n",
       "parch                    0\n",
       "fare                    13\n",
       "embarked                 S\n",
       "class               Second\n",
       "who                  woman\n",
       "adult_male           False\n",
       "deck                     D\n",
       "embark_town    Southampton\n",
       "alive                  yes\n",
       "alone                 True\n",
       "Name: 327, dtype: object"
      ]
     },
     "metadata": {},
     "output_type": "display_data"
    },
    {
     "data": {
      "text/plain": [
       "survived                 1\n",
       "pclass                   3\n",
       "sex                 female\n",
       "age                     31\n",
       "sibsp                    1\n",
       "parch                    1\n",
       "fare                20.525\n",
       "embarked                 S\n",
       "class                Third\n",
       "who                  woman\n",
       "adult_male           False\n",
       "deck                   NaN\n",
       "embark_town    Southampton\n",
       "alive                  yes\n",
       "alone                False\n",
       "Name: 328, dtype: object"
      ]
     },
     "metadata": {},
     "output_type": "display_data"
    },
    {
     "data": {
      "text/plain": [
       "survived                 1\n",
       "pclass                   3\n",
       "sex                   male\n",
       "age                     45\n",
       "sibsp                    0\n",
       "parch                    0\n",
       "fare                  8.05\n",
       "embarked                 S\n",
       "class                Third\n",
       "who                    man\n",
       "adult_male            True\n",
       "deck                   NaN\n",
       "embark_town    Southampton\n",
       "alive                  yes\n",
       "alone                 True\n",
       "Name: 338, dtype: object"
      ]
     },
     "metadata": {},
     "output_type": "display_data"
    },
    {
     "data": {
      "text/plain": [
       "survived                 1\n",
       "pclass                   2\n",
       "sex                   male\n",
       "age                      2\n",
       "sibsp                    1\n",
       "parch                    1\n",
       "fare                    26\n",
       "embarked                 S\n",
       "class               Second\n",
       "who                  child\n",
       "adult_male           False\n",
       "deck                     F\n",
       "embark_town    Southampton\n",
       "alive                  yes\n",
       "alone                False\n",
       "Name: 340, dtype: object"
      ]
     },
     "metadata": {},
     "output_type": "display_data"
    },
    {
     "data": {
      "text/plain": [
       "survived                 0\n",
       "pclass                   2\n",
       "sex                   male\n",
       "age                     28\n",
       "sibsp                    0\n",
       "parch                    0\n",
       "fare                    13\n",
       "embarked                 S\n",
       "class               Second\n",
       "who                    man\n",
       "adult_male            True\n",
       "deck                   NaN\n",
       "embark_town    Southampton\n",
       "alive                   no\n",
       "alone                 True\n",
       "Name: 342, dtype: object"
      ]
     },
     "metadata": {},
     "output_type": "display_data"
    },
    {
     "data": {
      "text/plain": [
       "survived                 1\n",
       "pclass                   2\n",
       "sex                 female\n",
       "age                     24\n",
       "sibsp                    0\n",
       "parch                    0\n",
       "fare                    13\n",
       "embarked                 S\n",
       "class               Second\n",
       "who                  woman\n",
       "adult_male           False\n",
       "deck                     F\n",
       "embark_town    Southampton\n",
       "alive                  yes\n",
       "alone                 True\n",
       "Name: 345, dtype: object"
      ]
     },
     "metadata": {},
     "output_type": "display_data"
    },
    {
     "data": {
      "text/plain": [
       "survived                 1\n",
       "pclass                   2\n",
       "sex                 female\n",
       "age                     40\n",
       "sibsp                    0\n",
       "parch                    0\n",
       "fare                    13\n",
       "embarked                 S\n",
       "class               Second\n",
       "who                  woman\n",
       "adult_male           False\n",
       "deck                   NaN\n",
       "embark_town    Southampton\n",
       "alive                  yes\n",
       "alone                 True\n",
       "Name: 346, dtype: object"
      ]
     },
     "metadata": {},
     "output_type": "display_data"
    },
    {
     "data": {
      "text/plain": [
       "survived                 1\n",
       "pclass                   3\n",
       "sex                 female\n",
       "age                    NaN\n",
       "sibsp                    1\n",
       "parch                    0\n",
       "fare                  16.1\n",
       "embarked                 S\n",
       "class                Third\n",
       "who                  woman\n",
       "adult_male           False\n",
       "deck                   NaN\n",
       "embark_town    Southampton\n",
       "alive                  yes\n",
       "alone                False\n",
       "Name: 347, dtype: object"
      ]
     },
     "metadata": {},
     "output_type": "display_data"
    },
    {
     "data": {
      "text/plain": [
       "survived                 1\n",
       "pclass                   3\n",
       "sex                   male\n",
       "age                      3\n",
       "sibsp                    1\n",
       "parch                    1\n",
       "fare                  15.9\n",
       "embarked                 S\n",
       "class                Third\n",
       "who                  child\n",
       "adult_male           False\n",
       "deck                   NaN\n",
       "embark_town    Southampton\n",
       "alive                  yes\n",
       "alone                False\n",
       "Name: 348, dtype: object"
      ]
     },
     "metadata": {},
     "output_type": "display_data"
    },
    {
     "data": {
      "text/plain": [
       "survived                 0\n",
       "pclass                   3\n",
       "sex                   male\n",
       "age                     25\n",
       "sibsp                    1\n",
       "parch                    0\n",
       "fare                  17.8\n",
       "embarked                 S\n",
       "class                Third\n",
       "who                    man\n",
       "adult_male            True\n",
       "deck                   NaN\n",
       "embark_town    Southampton\n",
       "alive                   no\n",
       "alone                False\n",
       "Name: 353, dtype: object"
      ]
     },
     "metadata": {},
     "output_type": "display_data"
    },
    {
     "data": {
      "text/plain": [
       "survived               0\n",
       "pclass                 3\n",
       "sex                 male\n",
       "age                  NaN\n",
       "sibsp                  0\n",
       "parch                  0\n",
       "fare               7.225\n",
       "embarked               C\n",
       "class              Third\n",
       "who                  man\n",
       "adult_male          True\n",
       "deck                 NaN\n",
       "embark_town    Cherbourg\n",
       "alive                 no\n",
       "alone               True\n",
       "Name: 354, dtype: object"
      ]
     },
     "metadata": {},
     "output_type": "display_data"
    },
    {
     "data": {
      "text/plain": [
       "survived                 0\n",
       "pclass                   2\n",
       "sex                 female\n",
       "age                     38\n",
       "sibsp                    0\n",
       "parch                    0\n",
       "fare                    13\n",
       "embarked                 S\n",
       "class               Second\n",
       "who                  woman\n",
       "adult_male           False\n",
       "deck                   NaN\n",
       "embark_town    Southampton\n",
       "alive                   no\n",
       "alone                 True\n",
       "Name: 357, dtype: object"
      ]
     },
     "metadata": {},
     "output_type": "display_data"
    },
    {
     "data": {
      "text/plain": [
       "survived                1\n",
       "pclass                  3\n",
       "sex                female\n",
       "age                   NaN\n",
       "sibsp                   0\n",
       "parch                   0\n",
       "fare               7.8792\n",
       "embarked                Q\n",
       "class               Third\n",
       "who                 woman\n",
       "adult_male          False\n",
       "deck                  NaN\n",
       "embark_town    Queenstown\n",
       "alive                 yes\n",
       "alone                True\n",
       "Name: 359, dtype: object"
      ]
     },
     "metadata": {},
     "output_type": "display_data"
    },
    {
     "data": {
      "text/plain": [
       "survived                 0\n",
       "pclass                   3\n",
       "sex                   male\n",
       "age                     40\n",
       "sibsp                    1\n",
       "parch                    4\n",
       "fare                  27.9\n",
       "embarked                 S\n",
       "class                Third\n",
       "who                    man\n",
       "adult_male            True\n",
       "deck                   NaN\n",
       "embark_town    Southampton\n",
       "alive                   no\n",
       "alone                False\n",
       "Name: 360, dtype: object"
      ]
     },
     "metadata": {},
     "output_type": "display_data"
    },
    {
     "data": {
      "text/plain": [
       "survived               0\n",
       "pclass                 2\n",
       "sex                 male\n",
       "age                   29\n",
       "sibsp                  1\n",
       "parch                  0\n",
       "fare             27.7208\n",
       "embarked               C\n",
       "class             Second\n",
       "who                  man\n",
       "adult_male          True\n",
       "deck                 NaN\n",
       "embark_town    Cherbourg\n",
       "alive                 no\n",
       "alone              False\n",
       "Name: 361, dtype: object"
      ]
     },
     "metadata": {},
     "output_type": "display_data"
    },
    {
     "data": {
      "text/plain": [
       "survived               0\n",
       "pclass                 3\n",
       "sex               female\n",
       "age                   45\n",
       "sibsp                  0\n",
       "parch                  1\n",
       "fare             14.4542\n",
       "embarked               C\n",
       "class              Third\n",
       "who                woman\n",
       "adult_male         False\n",
       "deck                 NaN\n",
       "embark_town    Cherbourg\n",
       "alive                 no\n",
       "alone              False\n",
       "Name: 362, dtype: object"
      ]
     },
     "metadata": {},
     "output_type": "display_data"
    },
    {
     "data": {
      "text/plain": [
       "survived                 0\n",
       "pclass                   3\n",
       "sex                   male\n",
       "age                     35\n",
       "sibsp                    0\n",
       "parch                    0\n",
       "fare                  7.05\n",
       "embarked                 S\n",
       "class                Third\n",
       "who                    man\n",
       "adult_male            True\n",
       "deck                   NaN\n",
       "embark_town    Southampton\n",
       "alive                   no\n",
       "alone                 True\n",
       "Name: 363, dtype: object"
      ]
     },
     "metadata": {},
     "output_type": "display_data"
    },
    {
     "data": {
      "text/plain": [
       "survived                0\n",
       "pclass                  3\n",
       "sex                  male\n",
       "age                   NaN\n",
       "sibsp                   1\n",
       "parch                   0\n",
       "fare                 15.5\n",
       "embarked                Q\n",
       "class               Third\n",
       "who                   man\n",
       "adult_male           True\n",
       "deck                  NaN\n",
       "embark_town    Queenstown\n",
       "alive                  no\n",
       "alone               False\n",
       "Name: 364, dtype: object"
      ]
     },
     "metadata": {},
     "output_type": "display_data"
    },
    {
     "data": {
      "text/plain": [
       "survived                 0\n",
       "pclass                   3\n",
       "sex                   male\n",
       "age                     30\n",
       "sibsp                    0\n",
       "parch                    0\n",
       "fare                  7.25\n",
       "embarked                 S\n",
       "class                Third\n",
       "who                    man\n",
       "adult_male            True\n",
       "deck                   NaN\n",
       "embark_town    Southampton\n",
       "alive                   no\n",
       "alone                 True\n",
       "Name: 365, dtype: object"
      ]
     },
     "metadata": {},
     "output_type": "display_data"
    },
    {
     "data": {
      "text/plain": [
       "survived               1\n",
       "pclass                 3\n",
       "sex               female\n",
       "age                  NaN\n",
       "sibsp                  0\n",
       "parch                  0\n",
       "fare              7.2292\n",
       "embarked               C\n",
       "class              Third\n",
       "who                woman\n",
       "adult_male         False\n",
       "deck                 NaN\n",
       "embark_town    Cherbourg\n",
       "alive                yes\n",
       "alone               True\n",
       "Name: 367, dtype: object"
      ]
     },
     "metadata": {},
     "output_type": "display_data"
    },
    {
     "data": {
      "text/plain": [
       "survived                 0\n",
       "pclass                   3\n",
       "sex                   male\n",
       "age                     18\n",
       "sibsp                    1\n",
       "parch                    0\n",
       "fare                6.4958\n",
       "embarked                 S\n",
       "class                Third\n",
       "who                    man\n",
       "adult_male            True\n",
       "deck                   NaN\n",
       "embark_town    Southampton\n",
       "alive                   no\n",
       "alone                False\n",
       "Name: 371, dtype: object"
      ]
     },
     "metadata": {},
     "output_type": "display_data"
    },
    {
     "data": {
      "text/plain": [
       "survived                 0\n",
       "pclass                   3\n",
       "sex                   male\n",
       "age                     19\n",
       "sibsp                    0\n",
       "parch                    0\n",
       "fare                  8.05\n",
       "embarked                 S\n",
       "class                Third\n",
       "who                    man\n",
       "adult_male            True\n",
       "deck                   NaN\n",
       "embark_town    Southampton\n",
       "alive                   no\n",
       "alone                 True\n",
       "Name: 372, dtype: object"
      ]
     },
     "metadata": {},
     "output_type": "display_data"
    },
    {
     "data": {
      "text/plain": [
       "survived                 0\n",
       "pclass                   3\n",
       "sex                 female\n",
       "age                      3\n",
       "sibsp                    3\n",
       "parch                    1\n",
       "fare                21.075\n",
       "embarked                 S\n",
       "class                Third\n",
       "who                  child\n",
       "adult_male           False\n",
       "deck                   NaN\n",
       "embark_town    Southampton\n",
       "alive                   no\n",
       "alone                False\n",
       "Name: 374, dtype: object"
      ]
     },
     "metadata": {},
     "output_type": "display_data"
    },
    {
     "data": {
      "text/plain": [
       "survived                 1\n",
       "pclass                   3\n",
       "sex                 female\n",
       "age                     22\n",
       "sibsp                    0\n",
       "parch                    0\n",
       "fare                  7.25\n",
       "embarked                 S\n",
       "class                Third\n",
       "who                  woman\n",
       "adult_male           False\n",
       "deck                   NaN\n",
       "embark_town    Southampton\n",
       "alive                  yes\n",
       "alone                 True\n",
       "Name: 376, dtype: object"
      ]
     },
     "metadata": {},
     "output_type": "display_data"
    },
    {
     "data": {
      "text/plain": [
       "survived               0\n",
       "pclass                 3\n",
       "sex                 male\n",
       "age                   20\n",
       "sibsp                  0\n",
       "parch                  0\n",
       "fare              4.0125\n",
       "embarked               C\n",
       "class              Third\n",
       "who                  man\n",
       "adult_male          True\n",
       "deck                 NaN\n",
       "embark_town    Cherbourg\n",
       "alive                 no\n",
       "alone               True\n",
       "Name: 378, dtype: object"
      ]
     },
     "metadata": {},
     "output_type": "display_data"
    },
    {
     "data": {
      "text/plain": [
       "survived                 0\n",
       "pclass                   3\n",
       "sex                   male\n",
       "age                     32\n",
       "sibsp                    0\n",
       "parch                    0\n",
       "fare                 7.925\n",
       "embarked                 S\n",
       "class                Third\n",
       "who                    man\n",
       "adult_male            True\n",
       "deck                   NaN\n",
       "embark_town    Southampton\n",
       "alive                   no\n",
       "alone                 True\n",
       "Name: 382, dtype: object"
      ]
     },
     "metadata": {},
     "output_type": "display_data"
    },
    {
     "data": {
      "text/plain": [
       "survived                 0\n",
       "pclass                   3\n",
       "sex                   male\n",
       "age                    NaN\n",
       "sibsp                    0\n",
       "parch                    0\n",
       "fare                7.8958\n",
       "embarked                 S\n",
       "class                Third\n",
       "who                    man\n",
       "adult_male            True\n",
       "deck                   NaN\n",
       "embark_town    Southampton\n",
       "alive                   no\n",
       "alone                 True\n",
       "Name: 384, dtype: object"
      ]
     },
     "metadata": {},
     "output_type": "display_data"
    },
    {
     "data": {
      "text/plain": [
       "survived                 0\n",
       "pclass                   2\n",
       "sex                   male\n",
       "age                     18\n",
       "sibsp                    0\n",
       "parch                    0\n",
       "fare                  73.5\n",
       "embarked                 S\n",
       "class               Second\n",
       "who                    man\n",
       "adult_male            True\n",
       "deck                   NaN\n",
       "embark_town    Southampton\n",
       "alive                   no\n",
       "alone                 True\n",
       "Name: 385, dtype: object"
      ]
     },
     "metadata": {},
     "output_type": "display_data"
    },
    {
     "data": {
      "text/plain": [
       "survived                 1\n",
       "pclass                   2\n",
       "sex                 female\n",
       "age                     36\n",
       "sibsp                    0\n",
       "parch                    0\n",
       "fare                    13\n",
       "embarked                 S\n",
       "class               Second\n",
       "who                  woman\n",
       "adult_male           False\n",
       "deck                   NaN\n",
       "embark_town    Southampton\n",
       "alive                  yes\n",
       "alone                 True\n",
       "Name: 387, dtype: object"
      ]
     },
     "metadata": {},
     "output_type": "display_data"
    },
    {
     "data": {
      "text/plain": [
       "survived                 0\n",
       "pclass                   3\n",
       "sex                   male\n",
       "age                     28\n",
       "sibsp                    2\n",
       "parch                    0\n",
       "fare                 7.925\n",
       "embarked                 S\n",
       "class                Third\n",
       "who                    man\n",
       "adult_male            True\n",
       "deck                   NaN\n",
       "embark_town    Southampton\n",
       "alive                   no\n",
       "alone                False\n",
       "Name: 392, dtype: object"
      ]
     },
     "metadata": {},
     "output_type": "display_data"
    },
    {
     "data": {
      "text/plain": [
       "survived                 1\n",
       "pclass                   3\n",
       "sex                 female\n",
       "age                     24\n",
       "sibsp                    0\n",
       "parch                    2\n",
       "fare                  16.7\n",
       "embarked                 S\n",
       "class                Third\n",
       "who                  woman\n",
       "adult_male           False\n",
       "deck                     G\n",
       "embark_town    Southampton\n",
       "alive                  yes\n",
       "alone                False\n",
       "Name: 394, dtype: object"
      ]
     },
     "metadata": {},
     "output_type": "display_data"
    },
    {
     "data": {
      "text/plain": [
       "survived                 0\n",
       "pclass                   3\n",
       "sex                   male\n",
       "age                     22\n",
       "sibsp                    0\n",
       "parch                    0\n",
       "fare                7.7958\n",
       "embarked                 S\n",
       "class                Third\n",
       "who                    man\n",
       "adult_male            True\n",
       "deck                   NaN\n",
       "embark_town    Southampton\n",
       "alive                   no\n",
       "alone                 True\n",
       "Name: 395, dtype: object"
      ]
     },
     "metadata": {},
     "output_type": "display_data"
    },
    {
     "data": {
      "text/plain": [
       "survived                 0\n",
       "pclass                   3\n",
       "sex                 female\n",
       "age                     31\n",
       "sibsp                    0\n",
       "parch                    0\n",
       "fare                7.8542\n",
       "embarked                 S\n",
       "class                Third\n",
       "who                  woman\n",
       "adult_male           False\n",
       "deck                   NaN\n",
       "embark_town    Southampton\n",
       "alive                   no\n",
       "alone                 True\n",
       "Name: 396, dtype: object"
      ]
     },
     "metadata": {},
     "output_type": "display_data"
    },
    {
     "data": {
      "text/plain": [
       "survived                 0\n",
       "pclass                   2\n",
       "sex                   male\n",
       "age                     46\n",
       "sibsp                    0\n",
       "parch                    0\n",
       "fare                    26\n",
       "embarked                 S\n",
       "class               Second\n",
       "who                    man\n",
       "adult_male            True\n",
       "deck                   NaN\n",
       "embark_town    Southampton\n",
       "alive                   no\n",
       "alone                 True\n",
       "Name: 397, dtype: object"
      ]
     },
     "metadata": {},
     "output_type": "display_data"
    },
    {
     "data": {
      "text/plain": [
       "survived                 0\n",
       "pclass                   3\n",
       "sex                   male\n",
       "age                     26\n",
       "sibsp                    0\n",
       "parch                    0\n",
       "fare                  8.05\n",
       "embarked                 S\n",
       "class                Third\n",
       "who                    man\n",
       "adult_male            True\n",
       "deck                   NaN\n",
       "embark_town    Southampton\n",
       "alive                   no\n",
       "alone                 True\n",
       "Name: 401, dtype: object"
      ]
     },
     "metadata": {},
     "output_type": "display_data"
    },
    {
     "data": {
      "text/plain": [
       "survived                 0\n",
       "pclass                   2\n",
       "sex                   male\n",
       "age                     34\n",
       "sibsp                    1\n",
       "parch                    0\n",
       "fare                    21\n",
       "embarked                 S\n",
       "class               Second\n",
       "who                    man\n",
       "adult_male            True\n",
       "deck                   NaN\n",
       "embark_town    Southampton\n",
       "alive                   no\n",
       "alone                False\n",
       "Name: 405, dtype: object"
      ]
     },
     "metadata": {},
     "output_type": "display_data"
    },
    {
     "data": {
      "text/plain": [
       "survived                 0\n",
       "pclass                   3\n",
       "sex                   male\n",
       "age                     51\n",
       "sibsp                    0\n",
       "parch                    0\n",
       "fare                  7.75\n",
       "embarked                 S\n",
       "class                Third\n",
       "who                    man\n",
       "adult_male            True\n",
       "deck                   NaN\n",
       "embark_town    Southampton\n",
       "alive                   no\n",
       "alone                 True\n",
       "Name: 406, dtype: object"
      ]
     },
     "metadata": {},
     "output_type": "display_data"
    },
    {
     "data": {
      "text/plain": [
       "survived                 1\n",
       "pclass                   2\n",
       "sex                   male\n",
       "age                      3\n",
       "sibsp                    1\n",
       "parch                    1\n",
       "fare                 18.75\n",
       "embarked                 S\n",
       "class               Second\n",
       "who                  child\n",
       "adult_male           False\n",
       "deck                   NaN\n",
       "embark_town    Southampton\n",
       "alive                  yes\n",
       "alone                False\n",
       "Name: 407, dtype: object"
      ]
     },
     "metadata": {},
     "output_type": "display_data"
    },
    {
     "data": {
      "text/plain": [
       "survived                 0\n",
       "pclass                   3\n",
       "sex                   male\n",
       "age                     21\n",
       "sibsp                    0\n",
       "parch                    0\n",
       "fare                 7.775\n",
       "embarked                 S\n",
       "class                Third\n",
       "who                    man\n",
       "adult_male            True\n",
       "deck                   NaN\n",
       "embark_town    Southampton\n",
       "alive                   no\n",
       "alone                 True\n",
       "Name: 408, dtype: object"
      ]
     },
     "metadata": {},
     "output_type": "display_data"
    },
    {
     "data": {
      "text/plain": [
       "survived                 0\n",
       "pclass                   3\n",
       "sex                 female\n",
       "age                    NaN\n",
       "sibsp                    3\n",
       "parch                    1\n",
       "fare               25.4667\n",
       "embarked                 S\n",
       "class                Third\n",
       "who                  woman\n",
       "adult_male           False\n",
       "deck                   NaN\n",
       "embark_town    Southampton\n",
       "alive                   no\n",
       "alone                False\n",
       "Name: 409, dtype: object"
      ]
     },
     "metadata": {},
     "output_type": "display_data"
    },
    {
     "data": {
      "text/plain": [
       "survived                 0\n",
       "pclass                   3\n",
       "sex                   male\n",
       "age                    NaN\n",
       "sibsp                    0\n",
       "parch                    0\n",
       "fare                7.8958\n",
       "embarked                 S\n",
       "class                Third\n",
       "who                    man\n",
       "adult_male            True\n",
       "deck                   NaN\n",
       "embark_town    Southampton\n",
       "alive                   no\n",
       "alone                 True\n",
       "Name: 410, dtype: object"
      ]
     },
     "metadata": {},
     "output_type": "display_data"
    },
    {
     "data": {
      "text/plain": [
       "survived                 1\n",
       "pclass                   3\n",
       "sex                   male\n",
       "age                     44\n",
       "sibsp                    0\n",
       "parch                    0\n",
       "fare                 7.925\n",
       "embarked                 S\n",
       "class                Third\n",
       "who                    man\n",
       "adult_male            True\n",
       "deck                   NaN\n",
       "embark_town    Southampton\n",
       "alive                  yes\n",
       "alone                 True\n",
       "Name: 414, dtype: object"
      ]
     },
     "metadata": {},
     "output_type": "display_data"
    },
    {
     "data": {
      "text/plain": [
       "survived                 0\n",
       "pclass                   3\n",
       "sex                 female\n",
       "age                    NaN\n",
       "sibsp                    0\n",
       "parch                    0\n",
       "fare                  8.05\n",
       "embarked                 S\n",
       "class                Third\n",
       "who                  woman\n",
       "adult_male           False\n",
       "deck                   NaN\n",
       "embark_town    Southampton\n",
       "alive                   no\n",
       "alone                 True\n",
       "Name: 415, dtype: object"
      ]
     },
     "metadata": {},
     "output_type": "display_data"
    },
    {
     "data": {
      "text/plain": [
       "survived                 1\n",
       "pclass                   2\n",
       "sex                 female\n",
       "age                     34\n",
       "sibsp                    1\n",
       "parch                    1\n",
       "fare                  32.5\n",
       "embarked                 S\n",
       "class               Second\n",
       "who                  woman\n",
       "adult_male           False\n",
       "deck                   NaN\n",
       "embark_town    Southampton\n",
       "alive                  yes\n",
       "alone                False\n",
       "Name: 416, dtype: object"
      ]
     },
     "metadata": {},
     "output_type": "display_data"
    },
    {
     "data": {
      "text/plain": [
       "survived                 1\n",
       "pclass                   2\n",
       "sex                 female\n",
       "age                     18\n",
       "sibsp                    0\n",
       "parch                    2\n",
       "fare                    13\n",
       "embarked                 S\n",
       "class               Second\n",
       "who                  woman\n",
       "adult_male           False\n",
       "deck                   NaN\n",
       "embark_town    Southampton\n",
       "alive                  yes\n",
       "alone                False\n",
       "Name: 417, dtype: object"
      ]
     },
     "metadata": {},
     "output_type": "display_data"
    },
    {
     "data": {
      "text/plain": [
       "survived                 0\n",
       "pclass                   2\n",
       "sex                   male\n",
       "age                     30\n",
       "sibsp                    0\n",
       "parch                    0\n",
       "fare                    13\n",
       "embarked                 S\n",
       "class               Second\n",
       "who                    man\n",
       "adult_male            True\n",
       "deck                   NaN\n",
       "embark_town    Southampton\n",
       "alive                   no\n",
       "alone                 True\n",
       "Name: 418, dtype: object"
      ]
     },
     "metadata": {},
     "output_type": "display_data"
    },
    {
     "data": {
      "text/plain": [
       "survived               0\n",
       "pclass                 3\n",
       "sex                 male\n",
       "age                  NaN\n",
       "sibsp                  0\n",
       "parch                  0\n",
       "fare              7.8958\n",
       "embarked               C\n",
       "class              Third\n",
       "who                  man\n",
       "adult_male          True\n",
       "deck                 NaN\n",
       "embark_town    Cherbourg\n",
       "alive                 no\n",
       "alone               True\n",
       "Name: 420, dtype: object"
      ]
     },
     "metadata": {},
     "output_type": "display_data"
    },
    {
     "data": {
      "text/plain": [
       "survived                0\n",
       "pclass                  3\n",
       "sex                  male\n",
       "age                    21\n",
       "sibsp                   0\n",
       "parch                   0\n",
       "fare               7.7333\n",
       "embarked                Q\n",
       "class               Third\n",
       "who                   man\n",
       "adult_male           True\n",
       "deck                  NaN\n",
       "embark_town    Queenstown\n",
       "alive                  no\n",
       "alone                True\n",
       "Name: 421, dtype: object"
      ]
     },
     "metadata": {},
     "output_type": "display_data"
    },
    {
     "data": {
      "text/plain": [
       "survived                 0\n",
       "pclass                   3\n",
       "sex                   male\n",
       "age                     29\n",
       "sibsp                    0\n",
       "parch                    0\n",
       "fare                 7.875\n",
       "embarked                 S\n",
       "class                Third\n",
       "who                    man\n",
       "adult_male            True\n",
       "deck                   NaN\n",
       "embark_town    Southampton\n",
       "alive                   no\n",
       "alone                 True\n",
       "Name: 422, dtype: object"
      ]
     },
     "metadata": {},
     "output_type": "display_data"
    },
    {
     "data": {
      "text/plain": [
       "survived                 0\n",
       "pclass                   3\n",
       "sex                   male\n",
       "age                     18\n",
       "sibsp                    1\n",
       "parch                    1\n",
       "fare               20.2125\n",
       "embarked                 S\n",
       "class                Third\n",
       "who                    man\n",
       "adult_male            True\n",
       "deck                   NaN\n",
       "embark_town    Southampton\n",
       "alive                   no\n",
       "alone                False\n",
       "Name: 424, dtype: object"
      ]
     },
     "metadata": {},
     "output_type": "display_data"
    },
    {
     "data": {
      "text/plain": [
       "survived                 1\n",
       "pclass                   2\n",
       "sex                 female\n",
       "age                     19\n",
       "sibsp                    0\n",
       "parch                    0\n",
       "fare                    26\n",
       "embarked                 S\n",
       "class               Second\n",
       "who                  woman\n",
       "adult_male           False\n",
       "deck                   NaN\n",
       "embark_town    Southampton\n",
       "alive                  yes\n",
       "alone                 True\n",
       "Name: 427, dtype: object"
      ]
     },
     "metadata": {},
     "output_type": "display_data"
    },
    {
     "data": {
      "text/plain": [
       "survived                 1\n",
       "pclass                   3\n",
       "sex                   male\n",
       "age                     32\n",
       "sibsp                    0\n",
       "parch                    0\n",
       "fare                  8.05\n",
       "embarked                 S\n",
       "class                Third\n",
       "who                    man\n",
       "adult_male            True\n",
       "deck                     E\n",
       "embark_town    Southampton\n",
       "alive                  yes\n",
       "alone                 True\n",
       "Name: 429, dtype: object"
      ]
     },
     "metadata": {},
     "output_type": "display_data"
    },
    {
     "data": {
      "text/plain": [
       "survived                 0\n",
       "pclass                   3\n",
       "sex                   male\n",
       "age                     17\n",
       "sibsp                    0\n",
       "parch                    0\n",
       "fare                 7.125\n",
       "embarked                 S\n",
       "class                Third\n",
       "who                    man\n",
       "adult_male            True\n",
       "deck                   NaN\n",
       "embark_town    Southampton\n",
       "alive                   no\n",
       "alone                 True\n",
       "Name: 433, dtype: object"
      ]
     },
     "metadata": {},
     "output_type": "display_data"
    },
    {
     "data": {
      "text/plain": [
       "survived                 1\n",
       "pclass                   2\n",
       "sex                 female\n",
       "age                     24\n",
       "sibsp                    2\n",
       "parch                    3\n",
       "fare                 18.75\n",
       "embarked                 S\n",
       "class               Second\n",
       "who                  woman\n",
       "adult_male           False\n",
       "deck                   NaN\n",
       "embark_town    Southampton\n",
       "alive                  yes\n",
       "alone                False\n",
       "Name: 437, dtype: object"
      ]
     },
     "metadata": {},
     "output_type": "display_data"
    },
    {
     "data": {
      "text/plain": [
       "survived                 1\n",
       "pclass                   2\n",
       "sex                 female\n",
       "age                     45\n",
       "sibsp                    1\n",
       "parch                    1\n",
       "fare                 26.25\n",
       "embarked                 S\n",
       "class               Second\n",
       "who                  woman\n",
       "adult_male           False\n",
       "deck                   NaN\n",
       "embark_town    Southampton\n",
       "alive                  yes\n",
       "alone                False\n",
       "Name: 440, dtype: object"
      ]
     },
     "metadata": {},
     "output_type": "display_data"
    },
    {
     "data": {
      "text/plain": [
       "survived                 0\n",
       "pclass                   3\n",
       "sex                   male\n",
       "age                     20\n",
       "sibsp                    0\n",
       "parch                    0\n",
       "fare                   9.5\n",
       "embarked                 S\n",
       "class                Third\n",
       "who                    man\n",
       "adult_male            True\n",
       "deck                   NaN\n",
       "embark_town    Southampton\n",
       "alive                   no\n",
       "alone                 True\n",
       "Name: 441, dtype: object"
      ]
     },
     "metadata": {},
     "output_type": "display_data"
    },
    {
     "data": {
      "text/plain": [
       "survived                 0\n",
       "pclass                   3\n",
       "sex                   male\n",
       "age                     25\n",
       "sibsp                    1\n",
       "parch                    0\n",
       "fare                 7.775\n",
       "embarked                 S\n",
       "class                Third\n",
       "who                    man\n",
       "adult_male            True\n",
       "deck                   NaN\n",
       "embark_town    Southampton\n",
       "alive                   no\n",
       "alone                False\n",
       "Name: 442, dtype: object"
      ]
     },
     "metadata": {},
     "output_type": "display_data"
    },
    {
     "data": {
      "text/plain": [
       "survived                 1\n",
       "pclass                   2\n",
       "sex                 female\n",
       "age                     28\n",
       "sibsp                    0\n",
       "parch                    0\n",
       "fare                    13\n",
       "embarked                 S\n",
       "class               Second\n",
       "who                  woman\n",
       "adult_male           False\n",
       "deck                   NaN\n",
       "embark_town    Southampton\n",
       "alive                  yes\n",
       "alone                 True\n",
       "Name: 443, dtype: object"
      ]
     },
     "metadata": {},
     "output_type": "display_data"
    },
    {
     "data": {
      "text/plain": [
       "survived                 1\n",
       "pclass                   3\n",
       "sex                   male\n",
       "age                    NaN\n",
       "sibsp                    0\n",
       "parch                    0\n",
       "fare                8.1125\n",
       "embarked                 S\n",
       "class                Third\n",
       "who                    man\n",
       "adult_male            True\n",
       "deck                   NaN\n",
       "embark_town    Southampton\n",
       "alive                  yes\n",
       "alone                 True\n",
       "Name: 444, dtype: object"
      ]
     },
     "metadata": {},
     "output_type": "display_data"
    },
    {
     "data": {
      "text/plain": [
       "survived                 1\n",
       "pclass                   2\n",
       "sex                 female\n",
       "age                     13\n",
       "sibsp                    0\n",
       "parch                    1\n",
       "fare                  19.5\n",
       "embarked                 S\n",
       "class               Second\n",
       "who                  child\n",
       "adult_male           False\n",
       "deck                   NaN\n",
       "embark_town    Southampton\n",
       "alive                  yes\n",
       "alone                False\n",
       "Name: 446, dtype: object"
      ]
     },
     "metadata": {},
     "output_type": "display_data"
    },
    {
     "data": {
      "text/plain": [
       "survived               1\n",
       "pclass                 3\n",
       "sex               female\n",
       "age                    5\n",
       "sibsp                  2\n",
       "parch                  1\n",
       "fare             19.2583\n",
       "embarked               C\n",
       "class              Third\n",
       "who                child\n",
       "adult_male         False\n",
       "deck                 NaN\n",
       "embark_town    Cherbourg\n",
       "alive                yes\n",
       "alone              False\n",
       "Name: 448, dtype: object"
      ]
     },
     "metadata": {},
     "output_type": "display_data"
    },
    {
     "data": {
      "text/plain": [
       "survived                 0\n",
       "pclass                   2\n",
       "sex                   male\n",
       "age                     36\n",
       "sibsp                    1\n",
       "parch                    2\n",
       "fare                 27.75\n",
       "embarked                 S\n",
       "class               Second\n",
       "who                    man\n",
       "adult_male            True\n",
       "deck                   NaN\n",
       "embark_town    Southampton\n",
       "alive                   no\n",
       "alone                False\n",
       "Name: 450, dtype: object"
      ]
     },
     "metadata": {},
     "output_type": "display_data"
    },
    {
     "data": {
      "text/plain": [
       "survived                 0\n",
       "pclass                   3\n",
       "sex                   male\n",
       "age                    NaN\n",
       "sibsp                    1\n",
       "parch                    0\n",
       "fare               19.9667\n",
       "embarked                 S\n",
       "class                Third\n",
       "who                    man\n",
       "adult_male            True\n",
       "deck                   NaN\n",
       "embark_town    Southampton\n",
       "alive                   no\n",
       "alone                False\n",
       "Name: 451, dtype: object"
      ]
     },
     "metadata": {},
     "output_type": "display_data"
    },
    {
     "data": {
      "text/plain": [
       "survived               1\n",
       "pclass                 3\n",
       "sex                 male\n",
       "age                   29\n",
       "sibsp                  0\n",
       "parch                  0\n",
       "fare              7.8958\n",
       "embarked               C\n",
       "class              Third\n",
       "who                  man\n",
       "adult_male          True\n",
       "deck                 NaN\n",
       "embark_town    Cherbourg\n",
       "alive                yes\n",
       "alone               True\n",
       "Name: 455, dtype: object"
      ]
     },
     "metadata": {},
     "output_type": "display_data"
    },
    {
     "data": {
      "text/plain": [
       "survived                 1\n",
       "pclass                   2\n",
       "sex                 female\n",
       "age                     50\n",
       "sibsp                    0\n",
       "parch                    0\n",
       "fare                  10.5\n",
       "embarked                 S\n",
       "class               Second\n",
       "who                  woman\n",
       "adult_male           False\n",
       "deck                   NaN\n",
       "embark_town    Southampton\n",
       "alive                  yes\n",
       "alone                 True\n",
       "Name: 458, dtype: object"
      ]
     },
     "metadata": {},
     "output_type": "display_data"
    },
    {
     "data": {
      "text/plain": [
       "survived                0\n",
       "pclass                  3\n",
       "sex                  male\n",
       "age                   NaN\n",
       "sibsp                   0\n",
       "parch                   0\n",
       "fare                 7.75\n",
       "embarked                Q\n",
       "class               Third\n",
       "who                   man\n",
       "adult_male           True\n",
       "deck                  NaN\n",
       "embark_town    Queenstown\n",
       "alive                  no\n",
       "alone                True\n",
       "Name: 459, dtype: object"
      ]
     },
     "metadata": {},
     "output_type": "display_data"
    },
    {
     "data": {
      "text/plain": [
       "survived                 0\n",
       "pclass                   3\n",
       "sex                   male\n",
       "age                     34\n",
       "sibsp                    0\n",
       "parch                    0\n",
       "fare                  8.05\n",
       "embarked                 S\n",
       "class                Third\n",
       "who                    man\n",
       "adult_male            True\n",
       "deck                   NaN\n",
       "embark_town    Southampton\n",
       "alive                   no\n",
       "alone                 True\n",
       "Name: 461, dtype: object"
      ]
     },
     "metadata": {},
     "output_type": "display_data"
    },
    {
     "data": {
      "text/plain": [
       "survived                 0\n",
       "pclass                   3\n",
       "sex                   male\n",
       "age                    NaN\n",
       "sibsp                    0\n",
       "parch                    0\n",
       "fare                  8.05\n",
       "embarked                 S\n",
       "class                Third\n",
       "who                    man\n",
       "adult_male            True\n",
       "deck                   NaN\n",
       "embark_town    Southampton\n",
       "alive                   no\n",
       "alone                 True\n",
       "Name: 464, dtype: object"
      ]
     },
     "metadata": {},
     "output_type": "display_data"
    },
    {
     "data": {
      "text/plain": [
       "survived                 0\n",
       "pclass                   3\n",
       "sex                   male\n",
       "age                     38\n",
       "sibsp                    0\n",
       "parch                    0\n",
       "fare                  7.05\n",
       "embarked                 S\n",
       "class                Third\n",
       "who                    man\n",
       "adult_male            True\n",
       "deck                   NaN\n",
       "embark_town    Southampton\n",
       "alive                   no\n",
       "alone                 True\n",
       "Name: 465, dtype: object"
      ]
     },
     "metadata": {},
     "output_type": "display_data"
    },
    {
     "data": {
      "text/plain": [
       "survived                 0\n",
       "pclass                   2\n",
       "sex                   male\n",
       "age                    NaN\n",
       "sibsp                    0\n",
       "parch                    0\n",
       "fare                     0\n",
       "embarked                 S\n",
       "class               Second\n",
       "who                    man\n",
       "adult_male            True\n",
       "deck                   NaN\n",
       "embark_town    Southampton\n",
       "alive                   no\n",
       "alone                 True\n",
       "Name: 466, dtype: object"
      ]
     },
     "metadata": {},
     "output_type": "display_data"
    },
    {
     "data": {
      "text/plain": [
       "survived                0\n",
       "pclass                  3\n",
       "sex                  male\n",
       "age                   NaN\n",
       "sibsp                   0\n",
       "parch                   0\n",
       "fare                7.725\n",
       "embarked                Q\n",
       "class               Third\n",
       "who                   man\n",
       "adult_male           True\n",
       "deck                  NaN\n",
       "embark_town    Queenstown\n",
       "alive                  no\n",
       "alone                True\n",
       "Name: 468, dtype: object"
      ]
     },
     "metadata": {},
     "output_type": "display_data"
    },
    {
     "data": {
      "text/plain": [
       "survived               1\n",
       "pclass                 3\n",
       "sex               female\n",
       "age                 0.75\n",
       "sibsp                  2\n",
       "parch                  1\n",
       "fare             19.2583\n",
       "embarked               C\n",
       "class              Third\n",
       "who                child\n",
       "adult_male         False\n",
       "deck                 NaN\n",
       "embark_town    Cherbourg\n",
       "alive                yes\n",
       "alone              False\n",
       "Name: 469, dtype: object"
      ]
     },
     "metadata": {},
     "output_type": "display_data"
    },
    {
     "data": {
      "text/plain": [
       "survived                 0\n",
       "pclass                   3\n",
       "sex                   male\n",
       "age                    NaN\n",
       "sibsp                    0\n",
       "parch                    0\n",
       "fare                  7.25\n",
       "embarked                 S\n",
       "class                Third\n",
       "who                    man\n",
       "adult_male            True\n",
       "deck                   NaN\n",
       "embark_town    Southampton\n",
       "alive                   no\n",
       "alone                 True\n",
       "Name: 470, dtype: object"
      ]
     },
     "metadata": {},
     "output_type": "display_data"
    },
    {
     "data": {
      "text/plain": [
       "survived                 0\n",
       "pclass                   3\n",
       "sex                   male\n",
       "age                     38\n",
       "sibsp                    0\n",
       "parch                    0\n",
       "fare                8.6625\n",
       "embarked                 S\n",
       "class                Third\n",
       "who                    man\n",
       "adult_male            True\n",
       "deck                   NaN\n",
       "embark_town    Southampton\n",
       "alive                   no\n",
       "alone                 True\n",
       "Name: 471, dtype: object"
      ]
     },
     "metadata": {},
     "output_type": "display_data"
    },
    {
     "data": {
      "text/plain": [
       "survived                 1\n",
       "pclass                   2\n",
       "sex                 female\n",
       "age                     33\n",
       "sibsp                    1\n",
       "parch                    2\n",
       "fare                 27.75\n",
       "embarked                 S\n",
       "class               Second\n",
       "who                  woman\n",
       "adult_male           False\n",
       "deck                   NaN\n",
       "embark_town    Southampton\n",
       "alive                  yes\n",
       "alone                False\n",
       "Name: 472, dtype: object"
      ]
     },
     "metadata": {},
     "output_type": "display_data"
    },
    {
     "data": {
      "text/plain": [
       "survived               1\n",
       "pclass                 2\n",
       "sex               female\n",
       "age                   23\n",
       "sibsp                  0\n",
       "parch                  0\n",
       "fare             13.7917\n",
       "embarked               C\n",
       "class             Second\n",
       "who                woman\n",
       "adult_male         False\n",
       "deck                   D\n",
       "embark_town    Cherbourg\n",
       "alive                yes\n",
       "alone               True\n",
       "Name: 473, dtype: object"
      ]
     },
     "metadata": {},
     "output_type": "display_data"
    },
    {
     "data": {
      "text/plain": [
       "survived                 0\n",
       "pclass                   2\n",
       "sex                   male\n",
       "age                     34\n",
       "sibsp                    1\n",
       "parch                    0\n",
       "fare                    21\n",
       "embarked                 S\n",
       "class               Second\n",
       "who                    man\n",
       "adult_male            True\n",
       "deck                   NaN\n",
       "embark_town    Southampton\n",
       "alive                   no\n",
       "alone                False\n",
       "Name: 476, dtype: object"
      ]
     },
     "metadata": {},
     "output_type": "display_data"
    },
    {
     "data": {
      "text/plain": [
       "survived                 0\n",
       "pclass                   3\n",
       "sex                   male\n",
       "age                     29\n",
       "sibsp                    1\n",
       "parch                    0\n",
       "fare                7.0458\n",
       "embarked                 S\n",
       "class                Third\n",
       "who                    man\n",
       "adult_male            True\n",
       "deck                   NaN\n",
       "embark_town    Southampton\n",
       "alive                   no\n",
       "alone                False\n",
       "Name: 477, dtype: object"
      ]
     },
     "metadata": {},
     "output_type": "display_data"
    },
    {
     "data": {
      "text/plain": [
       "survived                 0\n",
       "pclass                   3\n",
       "sex                   male\n",
       "age                      9\n",
       "sibsp                    5\n",
       "parch                    2\n",
       "fare                  46.9\n",
       "embarked                 S\n",
       "class                Third\n",
       "who                  child\n",
       "adult_male           False\n",
       "deck                   NaN\n",
       "embark_town    Southampton\n",
       "alive                   no\n",
       "alone                False\n",
       "Name: 480, dtype: object"
      ]
     },
     "metadata": {},
     "output_type": "display_data"
    },
    {
     "data": {
      "text/plain": [
       "survived                 0\n",
       "pclass                   2\n",
       "sex                   male\n",
       "age                    NaN\n",
       "sibsp                    0\n",
       "parch                    0\n",
       "fare                     0\n",
       "embarked                 S\n",
       "class               Second\n",
       "who                    man\n",
       "adult_male            True\n",
       "deck                   NaN\n",
       "embark_town    Southampton\n",
       "alive                   no\n",
       "alone                 True\n",
       "Name: 481, dtype: object"
      ]
     },
     "metadata": {},
     "output_type": "display_data"
    },
    {
     "data": {
      "text/plain": [
       "survived                 1\n",
       "pclass                   3\n",
       "sex                 female\n",
       "age                     63\n",
       "sibsp                    0\n",
       "parch                    0\n",
       "fare                9.5875\n",
       "embarked                 S\n",
       "class                Third\n",
       "who                  woman\n",
       "adult_male           False\n",
       "deck                   NaN\n",
       "embark_town    Southampton\n",
       "alive                  yes\n",
       "alone                 True\n",
       "Name: 483, dtype: object"
      ]
     },
     "metadata": {},
     "output_type": "display_data"
    },
    {
     "data": {
      "text/plain": [
       "survived                 0\n",
       "pclass                   3\n",
       "sex                   male\n",
       "age                     30\n",
       "sibsp                    0\n",
       "parch                    0\n",
       "fare                  8.05\n",
       "embarked                 S\n",
       "class                Third\n",
       "who                    man\n",
       "adult_male            True\n",
       "deck                   NaN\n",
       "embark_town    Southampton\n",
       "alive                   no\n",
       "alone                 True\n",
       "Name: 488, dtype: object"
      ]
     },
     "metadata": {},
     "output_type": "display_data"
    },
    {
     "data": {
      "text/plain": [
       "survived                 0\n",
       "pclass                   3\n",
       "sex                   male\n",
       "age                    NaN\n",
       "sibsp                    1\n",
       "parch                    0\n",
       "fare               19.9667\n",
       "embarked                 S\n",
       "class                Third\n",
       "who                    man\n",
       "adult_male            True\n",
       "deck                   NaN\n",
       "embark_town    Southampton\n",
       "alive                   no\n",
       "alone                False\n",
       "Name: 490, dtype: object"
      ]
     },
     "metadata": {},
     "output_type": "display_data"
    },
    {
     "data": {
      "text/plain": [
       "survived                 0\n",
       "pclass                   3\n",
       "sex                   male\n",
       "age                     21\n",
       "sibsp                    0\n",
       "parch                    0\n",
       "fare                  7.25\n",
       "embarked                 S\n",
       "class                Third\n",
       "who                    man\n",
       "adult_male            True\n",
       "deck                   NaN\n",
       "embark_town    Southampton\n",
       "alive                   no\n",
       "alone                 True\n",
       "Name: 491, dtype: object"
      ]
     },
     "metadata": {},
     "output_type": "display_data"
    },
    {
     "data": {
      "text/plain": [
       "survived               0\n",
       "pclass                 3\n",
       "sex                 male\n",
       "age                  NaN\n",
       "sibsp                  0\n",
       "parch                  0\n",
       "fare             14.4583\n",
       "embarked               C\n",
       "class              Third\n",
       "who                  man\n",
       "adult_male          True\n",
       "deck                 NaN\n",
       "embark_town    Cherbourg\n",
       "alive                 no\n",
       "alone               True\n",
       "Name: 495, dtype: object"
      ]
     },
     "metadata": {},
     "output_type": "display_data"
    },
    {
     "data": {
      "text/plain": [
       "survived                 0\n",
       "pclass                   3\n",
       "sex                   male\n",
       "age                    NaN\n",
       "sibsp                    0\n",
       "parch                    0\n",
       "fare                  15.1\n",
       "embarked                 S\n",
       "class                Third\n",
       "who                    man\n",
       "adult_male            True\n",
       "deck                   NaN\n",
       "embark_town    Southampton\n",
       "alive                   no\n",
       "alone                 True\n",
       "Name: 497, dtype: object"
      ]
     },
     "metadata": {},
     "output_type": "display_data"
    },
    {
     "data": {
      "text/plain": [
       "survived                 0\n",
       "pclass                   3\n",
       "sex                   male\n",
       "age                     17\n",
       "sibsp                    0\n",
       "parch                    0\n",
       "fare                8.6625\n",
       "embarked                 S\n",
       "class                Third\n",
       "who                    man\n",
       "adult_male            True\n",
       "deck                   NaN\n",
       "embark_town    Southampton\n",
       "alive                   no\n",
       "alone                 True\n",
       "Name: 500, dtype: object"
      ]
     },
     "metadata": {},
     "output_type": "display_data"
    },
    {
     "data": {
      "text/plain": [
       "survived                0\n",
       "pclass                  3\n",
       "sex                female\n",
       "age                    21\n",
       "sibsp                   0\n",
       "parch                   0\n",
       "fare                 7.75\n",
       "embarked                Q\n",
       "class               Third\n",
       "who                 woman\n",
       "adult_male          False\n",
       "deck                  NaN\n",
       "embark_town    Queenstown\n",
       "alive                  no\n",
       "alone                True\n",
       "Name: 501, dtype: object"
      ]
     },
     "metadata": {},
     "output_type": "display_data"
    },
    {
     "data": {
      "text/plain": [
       "survived                0\n",
       "pclass                  3\n",
       "sex                female\n",
       "age                   NaN\n",
       "sibsp                   0\n",
       "parch                   0\n",
       "fare               7.6292\n",
       "embarked                Q\n",
       "class               Third\n",
       "who                 woman\n",
       "adult_male          False\n",
       "deck                  NaN\n",
       "embark_town    Queenstown\n",
       "alive                  no\n",
       "alone                True\n",
       "Name: 502, dtype: object"
      ]
     },
     "metadata": {},
     "output_type": "display_data"
    },
    {
     "data": {
      "text/plain": [
       "survived                 0\n",
       "pclass                   3\n",
       "sex                 female\n",
       "age                     37\n",
       "sibsp                    0\n",
       "parch                    0\n",
       "fare                9.5875\n",
       "embarked                 S\n",
       "class                Third\n",
       "who                  woman\n",
       "adult_male           False\n",
       "deck                   NaN\n",
       "embark_town    Southampton\n",
       "alive                   no\n",
       "alone                 True\n",
       "Name: 503, dtype: object"
      ]
     },
     "metadata": {},
     "output_type": "display_data"
    },
    {
     "data": {
      "text/plain": [
       "survived                 1\n",
       "pclass                   2\n",
       "sex                 female\n",
       "age                     33\n",
       "sibsp                    0\n",
       "parch                    2\n",
       "fare                    26\n",
       "embarked                 S\n",
       "class               Second\n",
       "who                  woman\n",
       "adult_male           False\n",
       "deck                   NaN\n",
       "embark_town    Southampton\n",
       "alive                  yes\n",
       "alone                False\n",
       "Name: 506, dtype: object"
      ]
     },
     "metadata": {},
     "output_type": "display_data"
    },
    {
     "data": {
      "text/plain": [
       "survived                 0\n",
       "pclass                   3\n",
       "sex                   male\n",
       "age                     28\n",
       "sibsp                    0\n",
       "parch                    0\n",
       "fare                22.525\n",
       "embarked                 S\n",
       "class                Third\n",
       "who                    man\n",
       "adult_male            True\n",
       "deck                   NaN\n",
       "embark_town    Southampton\n",
       "alive                   no\n",
       "alone                 True\n",
       "Name: 508, dtype: object"
      ]
     },
     "metadata": {},
     "output_type": "display_data"
    },
    {
     "data": {
      "text/plain": [
       "survived                1\n",
       "pclass                  3\n",
       "sex                  male\n",
       "age                    29\n",
       "sibsp                   0\n",
       "parch                   0\n",
       "fare                 7.75\n",
       "embarked                Q\n",
       "class               Third\n",
       "who                   man\n",
       "adult_male           True\n",
       "deck                  NaN\n",
       "embark_town    Queenstown\n",
       "alive                 yes\n",
       "alone                True\n",
       "Name: 510, dtype: object"
      ]
     },
     "metadata": {},
     "output_type": "display_data"
    },
    {
     "data": {
      "text/plain": [
       "survived                 0\n",
       "pclass                   3\n",
       "sex                   male\n",
       "age                    NaN\n",
       "sibsp                    0\n",
       "parch                    0\n",
       "fare                  8.05\n",
       "embarked                 S\n",
       "class                Third\n",
       "who                    man\n",
       "adult_male            True\n",
       "deck                   NaN\n",
       "embark_town    Southampton\n",
       "alive                   no\n",
       "alone                 True\n",
       "Name: 511, dtype: object"
      ]
     },
     "metadata": {},
     "output_type": "display_data"
    },
    {
     "data": {
      "text/plain": [
       "survived                 1\n",
       "pclass                   2\n",
       "sex                 female\n",
       "age                     34\n",
       "sibsp                    0\n",
       "parch                    0\n",
       "fare                  10.5\n",
       "embarked                 S\n",
       "class               Second\n",
       "who                  woman\n",
       "adult_male           False\n",
       "deck                     F\n",
       "embark_town    Southampton\n",
       "alive                  yes\n",
       "alone                 True\n",
       "Name: 516, dtype: object"
      ]
     },
     "metadata": {},
     "output_type": "display_data"
    },
    {
     "data": {
      "text/plain": [
       "survived                0\n",
       "pclass                  3\n",
       "sex                  male\n",
       "age                   NaN\n",
       "sibsp                   0\n",
       "parch                   0\n",
       "fare                24.15\n",
       "embarked                Q\n",
       "class               Third\n",
       "who                   man\n",
       "adult_male           True\n",
       "deck                  NaN\n",
       "embark_town    Queenstown\n",
       "alive                  no\n",
       "alone                True\n",
       "Name: 517, dtype: object"
      ]
     },
     "metadata": {},
     "output_type": "display_data"
    },
    {
     "data": {
      "text/plain": [
       "survived                 1\n",
       "pclass                   2\n",
       "sex                 female\n",
       "age                     36\n",
       "sibsp                    1\n",
       "parch                    0\n",
       "fare                    26\n",
       "embarked                 S\n",
       "class               Second\n",
       "who                  woman\n",
       "adult_male           False\n",
       "deck                   NaN\n",
       "embark_town    Southampton\n",
       "alive                  yes\n",
       "alone                False\n",
       "Name: 518, dtype: object"
      ]
     },
     "metadata": {},
     "output_type": "display_data"
    },
    {
     "data": {
      "text/plain": [
       "survived                 0\n",
       "pclass                   3\n",
       "sex                   male\n",
       "age                     32\n",
       "sibsp                    0\n",
       "parch                    0\n",
       "fare                7.8958\n",
       "embarked                 S\n",
       "class                Third\n",
       "who                    man\n",
       "adult_male            True\n",
       "deck                   NaN\n",
       "embark_town    Southampton\n",
       "alive                   no\n",
       "alone                 True\n",
       "Name: 519, dtype: object"
      ]
     },
     "metadata": {},
     "output_type": "display_data"
    },
    {
     "data": {
      "text/plain": [
       "survived                 0\n",
       "pclass                   3\n",
       "sex                   male\n",
       "age                     22\n",
       "sibsp                    0\n",
       "parch                    0\n",
       "fare                7.8958\n",
       "embarked                 S\n",
       "class                Third\n",
       "who                    man\n",
       "adult_male            True\n",
       "deck                   NaN\n",
       "embark_town    Southampton\n",
       "alive                   no\n",
       "alone                 True\n",
       "Name: 521, dtype: object"
      ]
     },
     "metadata": {},
     "output_type": "display_data"
    },
    {
     "data": {
      "text/plain": [
       "survived               0\n",
       "pclass                 3\n",
       "sex                 male\n",
       "age                  NaN\n",
       "sibsp                  0\n",
       "parch                  0\n",
       "fare               7.225\n",
       "embarked               C\n",
       "class              Third\n",
       "who                  man\n",
       "adult_male          True\n",
       "deck                 NaN\n",
       "embark_town    Cherbourg\n",
       "alive                 no\n",
       "alone               True\n",
       "Name: 522, dtype: object"
      ]
     },
     "metadata": {},
     "output_type": "display_data"
    },
    {
     "data": {
      "text/plain": [
       "survived               0\n",
       "pclass                 3\n",
       "sex                 male\n",
       "age                  NaN\n",
       "sibsp                  0\n",
       "parch                  0\n",
       "fare              7.2292\n",
       "embarked               C\n",
       "class              Third\n",
       "who                  man\n",
       "adult_male          True\n",
       "deck                 NaN\n",
       "embark_town    Cherbourg\n",
       "alive                 no\n",
       "alone               True\n",
       "Name: 524, dtype: object"
      ]
     },
     "metadata": {},
     "output_type": "display_data"
    },
    {
     "data": {
      "text/plain": [
       "survived                0\n",
       "pclass                  3\n",
       "sex                  male\n",
       "age                  40.5\n",
       "sibsp                   0\n",
       "parch                   0\n",
       "fare                 7.75\n",
       "embarked                Q\n",
       "class               Third\n",
       "who                   man\n",
       "adult_male           True\n",
       "deck                  NaN\n",
       "embark_town    Queenstown\n",
       "alive                  no\n",
       "alone                True\n",
       "Name: 525, dtype: object"
      ]
     },
     "metadata": {},
     "output_type": "display_data"
    },
    {
     "data": {
      "text/plain": [
       "survived                 1\n",
       "pclass                   2\n",
       "sex                 female\n",
       "age                     50\n",
       "sibsp                    0\n",
       "parch                    0\n",
       "fare                  10.5\n",
       "embarked                 S\n",
       "class               Second\n",
       "who                  woman\n",
       "adult_male           False\n",
       "deck                   NaN\n",
       "embark_town    Southampton\n",
       "alive                  yes\n",
       "alone                 True\n",
       "Name: 526, dtype: object"
      ]
     },
     "metadata": {},
     "output_type": "display_data"
    },
    {
     "data": {
      "text/plain": [
       "survived                 0\n",
       "pclass                   3\n",
       "sex                   male\n",
       "age                     39\n",
       "sibsp                    0\n",
       "parch                    0\n",
       "fare                 7.925\n",
       "embarked                 S\n",
       "class                Third\n",
       "who                    man\n",
       "adult_male            True\n",
       "deck                   NaN\n",
       "embark_town    Southampton\n",
       "alive                   no\n",
       "alone                 True\n",
       "Name: 528, dtype: object"
      ]
     },
     "metadata": {},
     "output_type": "display_data"
    },
    {
     "data": {
      "text/plain": [
       "survived                 0\n",
       "pclass                   2\n",
       "sex                   male\n",
       "age                     23\n",
       "sibsp                    2\n",
       "parch                    1\n",
       "fare                  11.5\n",
       "embarked                 S\n",
       "class               Second\n",
       "who                    man\n",
       "adult_male            True\n",
       "deck                   NaN\n",
       "embark_town    Southampton\n",
       "alive                   no\n",
       "alone                False\n",
       "Name: 529, dtype: object"
      ]
     },
     "metadata": {},
     "output_type": "display_data"
    },
    {
     "data": {
      "text/plain": [
       "survived                 1\n",
       "pclass                   2\n",
       "sex                 female\n",
       "age                      2\n",
       "sibsp                    1\n",
       "parch                    1\n",
       "fare                    26\n",
       "embarked                 S\n",
       "class               Second\n",
       "who                  child\n",
       "adult_male           False\n",
       "deck                   NaN\n",
       "embark_town    Southampton\n",
       "alive                  yes\n",
       "alone                False\n",
       "Name: 530, dtype: object"
      ]
     },
     "metadata": {},
     "output_type": "display_data"
    },
    {
     "data": {
      "text/plain": [
       "survived               0\n",
       "pclass                 3\n",
       "sex                 male\n",
       "age                  NaN\n",
       "sibsp                  0\n",
       "parch                  0\n",
       "fare              7.2292\n",
       "embarked               C\n",
       "class              Third\n",
       "who                  man\n",
       "adult_male          True\n",
       "deck                 NaN\n",
       "embark_town    Cherbourg\n",
       "alive                 no\n",
       "alone               True\n",
       "Name: 531, dtype: object"
      ]
     },
     "metadata": {},
     "output_type": "display_data"
    },
    {
     "data": {
      "text/plain": [
       "survived               0\n",
       "pclass                 3\n",
       "sex                 male\n",
       "age                   17\n",
       "sibsp                  1\n",
       "parch                  1\n",
       "fare              7.2292\n",
       "embarked               C\n",
       "class              Third\n",
       "who                  man\n",
       "adult_male          True\n",
       "deck                 NaN\n",
       "embark_town    Cherbourg\n",
       "alive                 no\n",
       "alone              False\n",
       "Name: 532, dtype: object"
      ]
     },
     "metadata": {},
     "output_type": "display_data"
    },
    {
     "data": {
      "text/plain": [
       "survived               1\n",
       "pclass                 3\n",
       "sex               female\n",
       "age                  NaN\n",
       "sibsp                  0\n",
       "parch                  2\n",
       "fare             22.3583\n",
       "embarked               C\n",
       "class              Third\n",
       "who                woman\n",
       "adult_male         False\n",
       "deck                 NaN\n",
       "embark_town    Cherbourg\n",
       "alive                yes\n",
       "alone              False\n",
       "Name: 533, dtype: object"
      ]
     },
     "metadata": {},
     "output_type": "display_data"
    },
    {
     "data": {
      "text/plain": [
       "survived                 0\n",
       "pclass                   3\n",
       "sex                 female\n",
       "age                     30\n",
       "sibsp                    0\n",
       "parch                    0\n",
       "fare                8.6625\n",
       "embarked                 S\n",
       "class                Third\n",
       "who                  woman\n",
       "adult_male           False\n",
       "deck                   NaN\n",
       "embark_town    Southampton\n",
       "alive                   no\n",
       "alone                 True\n",
       "Name: 534, dtype: object"
      ]
     },
     "metadata": {},
     "output_type": "display_data"
    },
    {
     "data": {
      "text/plain": [
       "survived                 1\n",
       "pclass                   2\n",
       "sex                 female\n",
       "age                      7\n",
       "sibsp                    0\n",
       "parch                    2\n",
       "fare                 26.25\n",
       "embarked                 S\n",
       "class               Second\n",
       "who                  child\n",
       "adult_male           False\n",
       "deck                   NaN\n",
       "embark_town    Southampton\n",
       "alive                  yes\n",
       "alone                False\n",
       "Name: 535, dtype: object"
      ]
     },
     "metadata": {},
     "output_type": "display_data"
    },
    {
     "data": {
      "text/plain": [
       "survived                 0\n",
       "pclass                   3\n",
       "sex                   male\n",
       "age                    NaN\n",
       "sibsp                    0\n",
       "parch                    0\n",
       "fare                  14.5\n",
       "embarked                 S\n",
       "class                Third\n",
       "who                    man\n",
       "adult_male            True\n",
       "deck                   NaN\n",
       "embark_town    Southampton\n",
       "alive                   no\n",
       "alone                 True\n",
       "Name: 538, dtype: object"
      ]
     },
     "metadata": {},
     "output_type": "display_data"
    },
    {
     "data": {
      "text/plain": [
       "survived                 0\n",
       "pclass                   3\n",
       "sex                 female\n",
       "age                     11\n",
       "sibsp                    4\n",
       "parch                    2\n",
       "fare                31.275\n",
       "embarked                 S\n",
       "class                Third\n",
       "who                  child\n",
       "adult_male           False\n",
       "deck                   NaN\n",
       "embark_town    Southampton\n",
       "alive                   no\n",
       "alone                False\n",
       "Name: 542, dtype: object"
      ]
     },
     "metadata": {},
     "output_type": "display_data"
    },
    {
     "data": {
      "text/plain": [
       "survived                 1\n",
       "pclass                   2\n",
       "sex                   male\n",
       "age                     32\n",
       "sibsp                    1\n",
       "parch                    0\n",
       "fare                    26\n",
       "embarked                 S\n",
       "class               Second\n",
       "who                    man\n",
       "adult_male            True\n",
       "deck                   NaN\n",
       "embark_town    Southampton\n",
       "alive                  yes\n",
       "alone                False\n",
       "Name: 543, dtype: object"
      ]
     },
     "metadata": {},
     "output_type": "display_data"
    },
    {
     "data": {
      "text/plain": [
       "survived                 1\n",
       "pclass                   2\n",
       "sex                 female\n",
       "age                     19\n",
       "sibsp                    1\n",
       "parch                    0\n",
       "fare                    26\n",
       "embarked                 S\n",
       "class               Second\n",
       "who                  woman\n",
       "adult_male           False\n",
       "deck                   NaN\n",
       "embark_town    Southampton\n",
       "alive                  yes\n",
       "alone                False\n",
       "Name: 546, dtype: object"
      ]
     },
     "metadata": {},
     "output_type": "display_data"
    },
    {
     "data": {
      "text/plain": [
       "survived               1\n",
       "pclass                 2\n",
       "sex                 male\n",
       "age                  NaN\n",
       "sibsp                  0\n",
       "parch                  0\n",
       "fare             13.8625\n",
       "embarked               C\n",
       "class             Second\n",
       "who                  man\n",
       "adult_male          True\n",
       "deck                 NaN\n",
       "embark_town    Cherbourg\n",
       "alive                yes\n",
       "alone               True\n",
       "Name: 547, dtype: object"
      ]
     },
     "metadata": {},
     "output_type": "display_data"
    },
    {
     "data": {
      "text/plain": [
       "survived                 0\n",
       "pclass                   3\n",
       "sex                   male\n",
       "age                     33\n",
       "sibsp                    1\n",
       "parch                    1\n",
       "fare                20.525\n",
       "embarked                 S\n",
       "class                Third\n",
       "who                    man\n",
       "adult_male            True\n",
       "deck                   NaN\n",
       "embark_town    Southampton\n",
       "alive                   no\n",
       "alone                False\n",
       "Name: 548, dtype: object"
      ]
     },
     "metadata": {},
     "output_type": "display_data"
    },
    {
     "data": {
      "text/plain": [
       "survived                 1\n",
       "pclass                   2\n",
       "sex                   male\n",
       "age                      8\n",
       "sibsp                    1\n",
       "parch                    1\n",
       "fare                 36.75\n",
       "embarked                 S\n",
       "class               Second\n",
       "who                  child\n",
       "adult_male           False\n",
       "deck                   NaN\n",
       "embark_town    Southampton\n",
       "alive                  yes\n",
       "alone                False\n",
       "Name: 549, dtype: object"
      ]
     },
     "metadata": {},
     "output_type": "display_data"
    },
    {
     "data": {
      "text/plain": [
       "survived                 0\n",
       "pclass                   2\n",
       "sex                   male\n",
       "age                     27\n",
       "sibsp                    0\n",
       "parch                    0\n",
       "fare                    26\n",
       "embarked                 S\n",
       "class               Second\n",
       "who                    man\n",
       "adult_male            True\n",
       "deck                   NaN\n",
       "embark_town    Southampton\n",
       "alive                   no\n",
       "alone                 True\n",
       "Name: 551, dtype: object"
      ]
     },
     "metadata": {},
     "output_type": "display_data"
    },
    {
     "data": {
      "text/plain": [
       "survived                0\n",
       "pclass                  3\n",
       "sex                  male\n",
       "age                   NaN\n",
       "sibsp                   0\n",
       "parch                   0\n",
       "fare               7.8292\n",
       "embarked                Q\n",
       "class               Third\n",
       "who                   man\n",
       "adult_male           True\n",
       "deck                  NaN\n",
       "embark_town    Queenstown\n",
       "alive                  no\n",
       "alone                True\n",
       "Name: 552, dtype: object"
      ]
     },
     "metadata": {},
     "output_type": "display_data"
    },
    {
     "data": {
      "text/plain": [
       "survived               1\n",
       "pclass                 3\n",
       "sex                 male\n",
       "age                   22\n",
       "sibsp                  0\n",
       "parch                  0\n",
       "fare               7.225\n",
       "embarked               C\n",
       "class              Third\n",
       "who                  man\n",
       "adult_male          True\n",
       "deck                 NaN\n",
       "embark_town    Cherbourg\n",
       "alive                yes\n",
       "alone               True\n",
       "Name: 553, dtype: object"
      ]
     },
     "metadata": {},
     "output_type": "display_data"
    },
    {
     "data": {
      "text/plain": [
       "survived                 1\n",
       "pclass                   3\n",
       "sex                 female\n",
       "age                     22\n",
       "sibsp                    0\n",
       "parch                    0\n",
       "fare                 7.775\n",
       "embarked                 S\n",
       "class                Third\n",
       "who                  woman\n",
       "adult_male           False\n",
       "deck                   NaN\n",
       "embark_town    Southampton\n",
       "alive                  yes\n",
       "alone                 True\n",
       "Name: 554, dtype: object"
      ]
     },
     "metadata": {},
     "output_type": "display_data"
    },
    {
     "data": {
      "text/plain": [
       "survived                 1\n",
       "pclass                   3\n",
       "sex                 female\n",
       "age                     36\n",
       "sibsp                    1\n",
       "parch                    0\n",
       "fare                  17.4\n",
       "embarked                 S\n",
       "class                Third\n",
       "who                  woman\n",
       "adult_male           False\n",
       "deck                   NaN\n",
       "embark_town    Southampton\n",
       "alive                  yes\n",
       "alone                False\n",
       "Name: 559, dtype: object"
      ]
     },
     "metadata": {},
     "output_type": "display_data"
    },
    {
     "data": {
      "text/plain": [
       "survived                0\n",
       "pclass                  3\n",
       "sex                  male\n",
       "age                   NaN\n",
       "sibsp                   0\n",
       "parch                   0\n",
       "fare                 7.75\n",
       "embarked                Q\n",
       "class               Third\n",
       "who                   man\n",
       "adult_male           True\n",
       "deck                  NaN\n",
       "embark_town    Queenstown\n",
       "alive                  no\n",
       "alone                True\n",
       "Name: 560, dtype: object"
      ]
     },
     "metadata": {},
     "output_type": "display_data"
    },
    {
     "data": {
      "text/plain": [
       "survived                 0\n",
       "pclass                   3\n",
       "sex                   male\n",
       "age                     40\n",
       "sibsp                    0\n",
       "parch                    0\n",
       "fare                7.8958\n",
       "embarked                 S\n",
       "class                Third\n",
       "who                    man\n",
       "adult_male            True\n",
       "deck                   NaN\n",
       "embark_town    Southampton\n",
       "alive                   no\n",
       "alone                 True\n",
       "Name: 561, dtype: object"
      ]
     },
     "metadata": {},
     "output_type": "display_data"
    },
    {
     "data": {
      "text/plain": [
       "survived                 0\n",
       "pclass                   2\n",
       "sex                   male\n",
       "age                     28\n",
       "sibsp                    0\n",
       "parch                    0\n",
       "fare                  13.5\n",
       "embarked                 S\n",
       "class               Second\n",
       "who                    man\n",
       "adult_male            True\n",
       "deck                   NaN\n",
       "embark_town    Southampton\n",
       "alive                   no\n",
       "alone                 True\n",
       "Name: 562, dtype: object"
      ]
     },
     "metadata": {},
     "output_type": "display_data"
    },
    {
     "data": {
      "text/plain": [
       "survived                 0\n",
       "pclass                   3\n",
       "sex                   male\n",
       "age                    NaN\n",
       "sibsp                    0\n",
       "parch                    0\n",
       "fare                  8.05\n",
       "embarked                 S\n",
       "class                Third\n",
       "who                    man\n",
       "adult_male            True\n",
       "deck                   NaN\n",
       "embark_town    Southampton\n",
       "alive                   no\n",
       "alone                 True\n",
       "Name: 563, dtype: object"
      ]
     },
     "metadata": {},
     "output_type": "display_data"
    },
    {
     "data": {
      "text/plain": [
       "survived                 0\n",
       "pclass                   3\n",
       "sex                 female\n",
       "age                    NaN\n",
       "sibsp                    0\n",
       "parch                    0\n",
       "fare                  8.05\n",
       "embarked                 S\n",
       "class                Third\n",
       "who                  woman\n",
       "adult_male           False\n",
       "deck                   NaN\n",
       "embark_town    Southampton\n",
       "alive                   no\n",
       "alone                 True\n",
       "Name: 564, dtype: object"
      ]
     },
     "metadata": {},
     "output_type": "display_data"
    },
    {
     "data": {
      "text/plain": [
       "survived                 0\n",
       "pclass                   3\n",
       "sex                   male\n",
       "age                     24\n",
       "sibsp                    2\n",
       "parch                    0\n",
       "fare                 24.15\n",
       "embarked                 S\n",
       "class                Third\n",
       "who                    man\n",
       "adult_male            True\n",
       "deck                   NaN\n",
       "embark_town    Southampton\n",
       "alive                   no\n",
       "alone                False\n",
       "Name: 565, dtype: object"
      ]
     },
     "metadata": {},
     "output_type": "display_data"
    },
    {
     "data": {
      "text/plain": [
       "survived                 0\n",
       "pclass                   3\n",
       "sex                 female\n",
       "age                     29\n",
       "sibsp                    0\n",
       "parch                    4\n",
       "fare                21.075\n",
       "embarked                 S\n",
       "class                Third\n",
       "who                  woman\n",
       "adult_male           False\n",
       "deck                   NaN\n",
       "embark_town    Southampton\n",
       "alive                   no\n",
       "alone                False\n",
       "Name: 567, dtype: object"
      ]
     },
     "metadata": {},
     "output_type": "display_data"
    },
    {
     "data": {
      "text/plain": [
       "survived               0\n",
       "pclass                 3\n",
       "sex                 male\n",
       "age                  NaN\n",
       "sibsp                  0\n",
       "parch                  0\n",
       "fare              7.2292\n",
       "embarked               C\n",
       "class              Third\n",
       "who                  man\n",
       "adult_male          True\n",
       "deck                 NaN\n",
       "embark_town    Cherbourg\n",
       "alive                 no\n",
       "alone               True\n",
       "Name: 568, dtype: object"
      ]
     },
     "metadata": {},
     "output_type": "display_data"
    },
    {
     "data": {
      "text/plain": [
       "survived                 1\n",
       "pclass                   3\n",
       "sex                   male\n",
       "age                     32\n",
       "sibsp                    0\n",
       "parch                    0\n",
       "fare                7.8542\n",
       "embarked                 S\n",
       "class                Third\n",
       "who                    man\n",
       "adult_male            True\n",
       "deck                   NaN\n",
       "embark_town    Southampton\n",
       "alive                  yes\n",
       "alone                 True\n",
       "Name: 569, dtype: object"
      ]
     },
     "metadata": {},
     "output_type": "display_data"
    },
    {
     "data": {
      "text/plain": [
       "survived                 0\n",
       "pclass                   3\n",
       "sex                   male\n",
       "age                     16\n",
       "sibsp                    0\n",
       "parch                    0\n",
       "fare                  8.05\n",
       "embarked                 S\n",
       "class                Third\n",
       "who                    man\n",
       "adult_male            True\n",
       "deck                   NaN\n",
       "embark_town    Southampton\n",
       "alive                   no\n",
       "alone                 True\n",
       "Name: 574, dtype: object"
      ]
     },
     "metadata": {},
     "output_type": "display_data"
    },
    {
     "data": {
      "text/plain": [
       "survived                 0\n",
       "pclass                   3\n",
       "sex                   male\n",
       "age                     19\n",
       "sibsp                    0\n",
       "parch                    0\n",
       "fare                  14.5\n",
       "embarked                 S\n",
       "class                Third\n",
       "who                    man\n",
       "adult_male            True\n",
       "deck                   NaN\n",
       "embark_town    Southampton\n",
       "alive                   no\n",
       "alone                 True\n",
       "Name: 575, dtype: object"
      ]
     },
     "metadata": {},
     "output_type": "display_data"
    },
    {
     "data": {
      "text/plain": [
       "survived               0\n",
       "pclass                 3\n",
       "sex               female\n",
       "age                  NaN\n",
       "sibsp                  1\n",
       "parch                  0\n",
       "fare             14.4583\n",
       "embarked               C\n",
       "class              Third\n",
       "who                woman\n",
       "adult_male         False\n",
       "deck                 NaN\n",
       "embark_town    Cherbourg\n",
       "alive                 no\n",
       "alone              False\n",
       "Name: 578, dtype: object"
      ]
     },
     "metadata": {},
     "output_type": "display_data"
    },
    {
     "data": {
      "text/plain": [
       "survived                 1\n",
       "pclass                   3\n",
       "sex                   male\n",
       "age                     32\n",
       "sibsp                    0\n",
       "parch                    0\n",
       "fare                 7.925\n",
       "embarked                 S\n",
       "class                Third\n",
       "who                    man\n",
       "adult_male            True\n",
       "deck                   NaN\n",
       "embark_town    Southampton\n",
       "alive                  yes\n",
       "alone                 True\n",
       "Name: 579, dtype: object"
      ]
     },
     "metadata": {},
     "output_type": "display_data"
    },
    {
     "data": {
      "text/plain": [
       "survived                 1\n",
       "pclass                   2\n",
       "sex                 female\n",
       "age                     25\n",
       "sibsp                    1\n",
       "parch                    1\n",
       "fare                    30\n",
       "embarked                 S\n",
       "class               Second\n",
       "who                  woman\n",
       "adult_male           False\n",
       "deck                   NaN\n",
       "embark_town    Southampton\n",
       "alive                  yes\n",
       "alone                False\n",
       "Name: 580, dtype: object"
      ]
     },
     "metadata": {},
     "output_type": "display_data"
    },
    {
     "data": {
      "text/plain": [
       "survived                 0\n",
       "pclass                   2\n",
       "sex                   male\n",
       "age                     54\n",
       "sibsp                    0\n",
       "parch                    0\n",
       "fare                    26\n",
       "embarked                 S\n",
       "class               Second\n",
       "who                    man\n",
       "adult_male            True\n",
       "deck                   NaN\n",
       "embark_town    Southampton\n",
       "alive                   no\n",
       "alone                 True\n",
       "Name: 582, dtype: object"
      ]
     },
     "metadata": {},
     "output_type": "display_data"
    },
    {
     "data": {
      "text/plain": [
       "survived               0\n",
       "pclass                 3\n",
       "sex                 male\n",
       "age                  NaN\n",
       "sibsp                  0\n",
       "parch                  0\n",
       "fare              8.7125\n",
       "embarked               C\n",
       "class              Third\n",
       "who                  man\n",
       "adult_male          True\n",
       "deck                 NaN\n",
       "embark_town    Cherbourg\n",
       "alive                 no\n",
       "alone               True\n",
       "Name: 584, dtype: object"
      ]
     },
     "metadata": {},
     "output_type": "display_data"
    },
    {
     "data": {
      "text/plain": [
       "survived                 0\n",
       "pclass                   2\n",
       "sex                   male\n",
       "age                     47\n",
       "sibsp                    0\n",
       "parch                    0\n",
       "fare                    15\n",
       "embarked                 S\n",
       "class               Second\n",
       "who                    man\n",
       "adult_male            True\n",
       "deck                   NaN\n",
       "embark_town    Southampton\n",
       "alive                   no\n",
       "alone                 True\n",
       "Name: 586, dtype: object"
      ]
     },
     "metadata": {},
     "output_type": "display_data"
    },
    {
     "data": {
      "text/plain": [
       "survived                 0\n",
       "pclass                   3\n",
       "sex                   male\n",
       "age                    NaN\n",
       "sibsp                    0\n",
       "parch                    0\n",
       "fare                  8.05\n",
       "embarked                 S\n",
       "class                Third\n",
       "who                    man\n",
       "adult_male            True\n",
       "deck                   NaN\n",
       "embark_town    Southampton\n",
       "alive                   no\n",
       "alone                 True\n",
       "Name: 589, dtype: object"
      ]
     },
     "metadata": {},
     "output_type": "display_data"
    },
    {
     "data": {
      "text/plain": [
       "survived                 0\n",
       "pclass                   3\n",
       "sex                   male\n",
       "age                     47\n",
       "sibsp                    0\n",
       "parch                    0\n",
       "fare                  7.25\n",
       "embarked                 S\n",
       "class                Third\n",
       "who                    man\n",
       "adult_male            True\n",
       "deck                   NaN\n",
       "embark_town    Southampton\n",
       "alive                   no\n",
       "alone                 True\n",
       "Name: 592, dtype: object"
      ]
     },
     "metadata": {},
     "output_type": "display_data"
    },
    {
     "data": {
      "text/plain": [
       "survived                 0\n",
       "pclass                   2\n",
       "sex                   male\n",
       "age                     37\n",
       "sibsp                    1\n",
       "parch                    0\n",
       "fare                    26\n",
       "embarked                 S\n",
       "class               Second\n",
       "who                    man\n",
       "adult_male            True\n",
       "deck                   NaN\n",
       "embark_town    Southampton\n",
       "alive                   no\n",
       "alone                False\n",
       "Name: 594, dtype: object"
      ]
     },
     "metadata": {},
     "output_type": "display_data"
    },
    {
     "data": {
      "text/plain": [
       "survived                 0\n",
       "pclass                   3\n",
       "sex                   male\n",
       "age                     36\n",
       "sibsp                    1\n",
       "parch                    1\n",
       "fare                 24.15\n",
       "embarked                 S\n",
       "class                Third\n",
       "who                    man\n",
       "adult_male            True\n",
       "deck                   NaN\n",
       "embark_town    Southampton\n",
       "alive                   no\n",
       "alone                False\n",
       "Name: 595, dtype: object"
      ]
     },
     "metadata": {},
     "output_type": "display_data"
    },
    {
     "data": {
      "text/plain": [
       "survived               0\n",
       "pclass                 3\n",
       "sex                 male\n",
       "age                  NaN\n",
       "sibsp                  0\n",
       "parch                  0\n",
       "fare               7.225\n",
       "embarked               C\n",
       "class              Third\n",
       "who                  man\n",
       "adult_male          True\n",
       "deck                 NaN\n",
       "embark_town    Cherbourg\n",
       "alive                 no\n",
       "alone               True\n",
       "Name: 598, dtype: object"
      ]
     },
     "metadata": {},
     "output_type": "display_data"
    },
    {
     "data": {
      "text/plain": [
       "survived                 1\n",
       "pclass                   2\n",
       "sex                 female\n",
       "age                     24\n",
       "sibsp                    2\n",
       "parch                    1\n",
       "fare                    27\n",
       "embarked                 S\n",
       "class               Second\n",
       "who                  woman\n",
       "adult_male           False\n",
       "deck                   NaN\n",
       "embark_town    Southampton\n",
       "alive                  yes\n",
       "alone                False\n",
       "Name: 600, dtype: object"
      ]
     },
     "metadata": {},
     "output_type": "display_data"
    },
    {
     "data": {
      "text/plain": [
       "survived                 0\n",
       "pclass                   3\n",
       "sex                   male\n",
       "age                     36\n",
       "sibsp                    1\n",
       "parch                    0\n",
       "fare                 15.55\n",
       "embarked                 S\n",
       "class                Third\n",
       "who                    man\n",
       "adult_male            True\n",
       "deck                   NaN\n",
       "embark_town    Southampton\n",
       "alive                   no\n",
       "alone                False\n",
       "Name: 605, dtype: object"
      ]
     },
     "metadata": {},
     "output_type": "display_data"
    },
    {
     "data": {
      "text/plain": [
       "survived                 0\n",
       "pclass                   3\n",
       "sex                   male\n",
       "age                     30\n",
       "sibsp                    0\n",
       "parch                    0\n",
       "fare                7.8958\n",
       "embarked                 S\n",
       "class                Third\n",
       "who                    man\n",
       "adult_male            True\n",
       "deck                   NaN\n",
       "embark_town    Southampton\n",
       "alive                   no\n",
       "alone                 True\n",
       "Name: 606, dtype: object"
      ]
     },
     "metadata": {},
     "output_type": "display_data"
    },
    {
     "data": {
      "text/plain": [
       "survived                 0\n",
       "pclass                   3\n",
       "sex                 female\n",
       "age                     39\n",
       "sibsp                    1\n",
       "parch                    5\n",
       "fare                31.275\n",
       "embarked                 S\n",
       "class                Third\n",
       "who                  woman\n",
       "adult_male           False\n",
       "deck                   NaN\n",
       "embark_town    Southampton\n",
       "alive                   no\n",
       "alone                False\n",
       "Name: 610, dtype: object"
      ]
     },
     "metadata": {},
     "output_type": "display_data"
    },
    {
     "data": {
      "text/plain": [
       "survived                1\n",
       "pclass                  3\n",
       "sex                female\n",
       "age                   NaN\n",
       "sibsp                   1\n",
       "parch                   0\n",
       "fare                 15.5\n",
       "embarked                Q\n",
       "class               Third\n",
       "who                 woman\n",
       "adult_male          False\n",
       "deck                  NaN\n",
       "embark_town    Queenstown\n",
       "alive                 yes\n",
       "alone               False\n",
       "Name: 612, dtype: object"
      ]
     },
     "metadata": {},
     "output_type": "display_data"
    },
    {
     "data": {
      "text/plain": [
       "survived                0\n",
       "pclass                  3\n",
       "sex                  male\n",
       "age                   NaN\n",
       "sibsp                   0\n",
       "parch                   0\n",
       "fare                 7.75\n",
       "embarked                Q\n",
       "class               Third\n",
       "who                   man\n",
       "adult_male           True\n",
       "deck                  NaN\n",
       "embark_town    Queenstown\n",
       "alive                  no\n",
       "alone                True\n",
       "Name: 613, dtype: object"
      ]
     },
     "metadata": {},
     "output_type": "display_data"
    },
    {
     "data": {
      "text/plain": [
       "survived                 0\n",
       "pclass                   3\n",
       "sex                   male\n",
       "age                     35\n",
       "sibsp                    0\n",
       "parch                    0\n",
       "fare                  8.05\n",
       "embarked                 S\n",
       "class                Third\n",
       "who                    man\n",
       "adult_male            True\n",
       "deck                   NaN\n",
       "embark_town    Southampton\n",
       "alive                   no\n",
       "alone                 True\n",
       "Name: 614, dtype: object"
      ]
     },
     "metadata": {},
     "output_type": "display_data"
    },
    {
     "data": {
      "text/plain": [
       "survived                 1\n",
       "pclass                   2\n",
       "sex                 female\n",
       "age                     24\n",
       "sibsp                    1\n",
       "parch                    2\n",
       "fare                    65\n",
       "embarked                 S\n",
       "class               Second\n",
       "who                  woman\n",
       "adult_male           False\n",
       "deck                   NaN\n",
       "embark_town    Southampton\n",
       "alive                  yes\n",
       "alone                False\n",
       "Name: 615, dtype: object"
      ]
     },
     "metadata": {},
     "output_type": "display_data"
    },
    {
     "data": {
      "text/plain": [
       "survived                 0\n",
       "pclass                   3\n",
       "sex                 female\n",
       "age                     26\n",
       "sibsp                    1\n",
       "parch                    0\n",
       "fare                  16.1\n",
       "embarked                 S\n",
       "class                Third\n",
       "who                  woman\n",
       "adult_male           False\n",
       "deck                   NaN\n",
       "embark_town    Southampton\n",
       "alive                   no\n",
       "alone                False\n",
       "Name: 617, dtype: object"
      ]
     },
     "metadata": {},
     "output_type": "display_data"
    },
    {
     "data": {
      "text/plain": [
       "survived                 1\n",
       "pclass                   2\n",
       "sex                 female\n",
       "age                      4\n",
       "sibsp                    2\n",
       "parch                    1\n",
       "fare                    39\n",
       "embarked                 S\n",
       "class               Second\n",
       "who                  child\n",
       "adult_male           False\n",
       "deck                     F\n",
       "embark_town    Southampton\n",
       "alive                  yes\n",
       "alone                False\n",
       "Name: 618, dtype: object"
      ]
     },
     "metadata": {},
     "output_type": "display_data"
    },
    {
     "data": {
      "text/plain": [
       "survived                 0\n",
       "pclass                   2\n",
       "sex                   male\n",
       "age                     26\n",
       "sibsp                    0\n",
       "parch                    0\n",
       "fare                  10.5\n",
       "embarked                 S\n",
       "class               Second\n",
       "who                    man\n",
       "adult_male            True\n",
       "deck                   NaN\n",
       "embark_town    Southampton\n",
       "alive                   no\n",
       "alone                 True\n",
       "Name: 619, dtype: object"
      ]
     },
     "metadata": {},
     "output_type": "display_data"
    },
    {
     "data": {
      "text/plain": [
       "survived               0\n",
       "pclass                 3\n",
       "sex                 male\n",
       "age                   27\n",
       "sibsp                  1\n",
       "parch                  0\n",
       "fare             14.4542\n",
       "embarked               C\n",
       "class              Third\n",
       "who                  man\n",
       "adult_male          True\n",
       "deck                 NaN\n",
       "embark_town    Cherbourg\n",
       "alive                 no\n",
       "alone              False\n",
       "Name: 620, dtype: object"
      ]
     },
     "metadata": {},
     "output_type": "display_data"
    },
    {
     "data": {
      "text/plain": [
       "survived               1\n",
       "pclass                 3\n",
       "sex                 male\n",
       "age                   20\n",
       "sibsp                  1\n",
       "parch                  1\n",
       "fare             15.7417\n",
       "embarked               C\n",
       "class              Third\n",
       "who                  man\n",
       "adult_male          True\n",
       "deck                 NaN\n",
       "embark_town    Cherbourg\n",
       "alive                yes\n",
       "alone              False\n",
       "Name: 622, dtype: object"
      ]
     },
     "metadata": {},
     "output_type": "display_data"
    },
    {
     "data": {
      "text/plain": [
       "survived                 0\n",
       "pclass                   3\n",
       "sex                   male\n",
       "age                     21\n",
       "sibsp                    0\n",
       "parch                    0\n",
       "fare                7.8542\n",
       "embarked                 S\n",
       "class                Third\n",
       "who                    man\n",
       "adult_male            True\n",
       "deck                   NaN\n",
       "embark_town    Southampton\n",
       "alive                   no\n",
       "alone                 True\n",
       "Name: 623, dtype: object"
      ]
     },
     "metadata": {},
     "output_type": "display_data"
    },
    {
     "data": {
      "text/plain": [
       "survived                 0\n",
       "pclass                   3\n",
       "sex                   male\n",
       "age                     21\n",
       "sibsp                    0\n",
       "parch                    0\n",
       "fare                  16.1\n",
       "embarked                 S\n",
       "class                Third\n",
       "who                    man\n",
       "adult_male            True\n",
       "deck                   NaN\n",
       "embark_town    Southampton\n",
       "alive                   no\n",
       "alone                 True\n",
       "Name: 624, dtype: object"
      ]
     },
     "metadata": {},
     "output_type": "display_data"
    },
    {
     "data": {
      "text/plain": [
       "survived                 0\n",
       "pclass                   3\n",
       "sex                   male\n",
       "age                     26\n",
       "sibsp                    0\n",
       "parch                    0\n",
       "fare                7.8958\n",
       "embarked                 S\n",
       "class                Third\n",
       "who                    man\n",
       "adult_male            True\n",
       "deck                   NaN\n",
       "embark_town    Southampton\n",
       "alive                   no\n",
       "alone                 True\n",
       "Name: 628, dtype: object"
      ]
     },
     "metadata": {},
     "output_type": "display_data"
    },
    {
     "data": {
      "text/plain": [
       "survived                0\n",
       "pclass                  3\n",
       "sex                  male\n",
       "age                   NaN\n",
       "sibsp                   0\n",
       "parch                   0\n",
       "fare               7.7333\n",
       "embarked                Q\n",
       "class               Third\n",
       "who                   man\n",
       "adult_male           True\n",
       "deck                  NaN\n",
       "embark_town    Queenstown\n",
       "alive                  no\n",
       "alone                True\n",
       "Name: 629, dtype: object"
      ]
     },
     "metadata": {},
     "output_type": "display_data"
    },
    {
     "data": {
      "text/plain": [
       "survived                 0\n",
       "pclass                   3\n",
       "sex                   male\n",
       "age                     51\n",
       "sibsp                    0\n",
       "parch                    0\n",
       "fare                7.0542\n",
       "embarked                 S\n",
       "class                Third\n",
       "who                    man\n",
       "adult_male            True\n",
       "deck                   NaN\n",
       "embark_town    Southampton\n",
       "alive                   no\n",
       "alone                 True\n",
       "Name: 631, dtype: object"
      ]
     },
     "metadata": {},
     "output_type": "display_data"
    },
    {
     "data": {
      "text/plain": [
       "survived                 0\n",
       "pclass                   3\n",
       "sex                 female\n",
       "age                      9\n",
       "sibsp                    3\n",
       "parch                    2\n",
       "fare                  27.9\n",
       "embarked                 S\n",
       "class                Third\n",
       "who                  child\n",
       "adult_male           False\n",
       "deck                   NaN\n",
       "embark_town    Southampton\n",
       "alive                   no\n",
       "alone                False\n",
       "Name: 634, dtype: object"
      ]
     },
     "metadata": {},
     "output_type": "display_data"
    },
    {
     "data": {
      "text/plain": [
       "survived                 1\n",
       "pclass                   2\n",
       "sex                 female\n",
       "age                     28\n",
       "sibsp                    0\n",
       "parch                    0\n",
       "fare                    13\n",
       "embarked                 S\n",
       "class               Second\n",
       "who                  woman\n",
       "adult_male           False\n",
       "deck                   NaN\n",
       "embark_town    Southampton\n",
       "alive                  yes\n",
       "alone                 True\n",
       "Name: 635, dtype: object"
      ]
     },
     "metadata": {},
     "output_type": "display_data"
    },
    {
     "data": {
      "text/plain": [
       "survived                 0\n",
       "pclass                   3\n",
       "sex                   male\n",
       "age                     32\n",
       "sibsp                    0\n",
       "parch                    0\n",
       "fare                 7.925\n",
       "embarked                 S\n",
       "class                Third\n",
       "who                    man\n",
       "adult_male            True\n",
       "deck                   NaN\n",
       "embark_town    Southampton\n",
       "alive                   no\n",
       "alone                 True\n",
       "Name: 636, dtype: object"
      ]
     },
     "metadata": {},
     "output_type": "display_data"
    },
    {
     "data": {
      "text/plain": [
       "survived                 0\n",
       "pclass                   2\n",
       "sex                   male\n",
       "age                     31\n",
       "sibsp                    1\n",
       "parch                    1\n",
       "fare                 26.25\n",
       "embarked                 S\n",
       "class               Second\n",
       "who                    man\n",
       "adult_male            True\n",
       "deck                   NaN\n",
       "embark_town    Southampton\n",
       "alive                   no\n",
       "alone                False\n",
       "Name: 637, dtype: object"
      ]
     },
     "metadata": {},
     "output_type": "display_data"
    },
    {
     "data": {
      "text/plain": [
       "survived                 0\n",
       "pclass                   3\n",
       "sex                 female\n",
       "age                     41\n",
       "sibsp                    0\n",
       "parch                    5\n",
       "fare               39.6875\n",
       "embarked                 S\n",
       "class                Third\n",
       "who                  woman\n",
       "adult_male           False\n",
       "deck                   NaN\n",
       "embark_town    Southampton\n",
       "alive                   no\n",
       "alone                False\n",
       "Name: 638, dtype: object"
      ]
     },
     "metadata": {},
     "output_type": "display_data"
    },
    {
     "data": {
      "text/plain": [
       "survived                 0\n",
       "pclass                   3\n",
       "sex                   male\n",
       "age                     20\n",
       "sibsp                    0\n",
       "parch                    0\n",
       "fare                7.8542\n",
       "embarked                 S\n",
       "class                Third\n",
       "who                    man\n",
       "adult_male            True\n",
       "deck                   NaN\n",
       "embark_town    Southampton\n",
       "alive                   no\n",
       "alone                 True\n",
       "Name: 640, dtype: object"
      ]
     },
     "metadata": {},
     "output_type": "display_data"
    },
    {
     "data": {
      "text/plain": [
       "survived               1\n",
       "pclass                 3\n",
       "sex               female\n",
       "age                 0.75\n",
       "sibsp                  2\n",
       "parch                  1\n",
       "fare             19.2583\n",
       "embarked               C\n",
       "class              Third\n",
       "who                child\n",
       "adult_male         False\n",
       "deck                 NaN\n",
       "embark_town    Cherbourg\n",
       "alive                yes\n",
       "alone              False\n",
       "Name: 644, dtype: object"
      ]
     },
     "metadata": {},
     "output_type": "display_data"
    },
    {
     "data": {
      "text/plain": [
       "survived                 0\n",
       "pclass                   3\n",
       "sex                   male\n",
       "age                     19\n",
       "sibsp                    0\n",
       "parch                    0\n",
       "fare                7.8958\n",
       "embarked                 S\n",
       "class                Third\n",
       "who                    man\n",
       "adult_male            True\n",
       "deck                   NaN\n",
       "embark_town    Southampton\n",
       "alive                   no\n",
       "alone                 True\n",
       "Name: 646, dtype: object"
      ]
     },
     "metadata": {},
     "output_type": "display_data"
    },
    {
     "data": {
      "text/plain": [
       "survived                 0\n",
       "pclass                   3\n",
       "sex                   male\n",
       "age                    NaN\n",
       "sibsp                    0\n",
       "parch                    0\n",
       "fare                  7.55\n",
       "embarked                 S\n",
       "class                Third\n",
       "who                    man\n",
       "adult_male            True\n",
       "deck                   NaN\n",
       "embark_town    Southampton\n",
       "alive                   no\n",
       "alone                 True\n",
       "Name: 648, dtype: object"
      ]
     },
     "metadata": {},
     "output_type": "display_data"
    },
    {
     "data": {
      "text/plain": [
       "survived                 1\n",
       "pclass                   3\n",
       "sex                 female\n",
       "age                     23\n",
       "sibsp                    0\n",
       "parch                    0\n",
       "fare                  7.55\n",
       "embarked                 S\n",
       "class                Third\n",
       "who                  woman\n",
       "adult_male           False\n",
       "deck                   NaN\n",
       "embark_town    Southampton\n",
       "alive                  yes\n",
       "alone                 True\n",
       "Name: 649, dtype: object"
      ]
     },
     "metadata": {},
     "output_type": "display_data"
    },
    {
     "data": {
      "text/plain": [
       "survived                 0\n",
       "pclass                   3\n",
       "sex                   male\n",
       "age                     21\n",
       "sibsp                    0\n",
       "parch                    0\n",
       "fare                8.4333\n",
       "embarked                 S\n",
       "class                Third\n",
       "who                    man\n",
       "adult_male            True\n",
       "deck                   NaN\n",
       "embark_town    Southampton\n",
       "alive                   no\n",
       "alone                 True\n",
       "Name: 652, dtype: object"
      ]
     },
     "metadata": {},
     "output_type": "display_data"
    },
    {
     "data": {
      "text/plain": [
       "survived                1\n",
       "pclass                  3\n",
       "sex                female\n",
       "age                   NaN\n",
       "sibsp                   0\n",
       "parch                   0\n",
       "fare               7.8292\n",
       "embarked                Q\n",
       "class               Third\n",
       "who                 woman\n",
       "adult_male          False\n",
       "deck                  NaN\n",
       "embark_town    Queenstown\n",
       "alive                 yes\n",
       "alone                True\n",
       "Name: 653, dtype: object"
      ]
     },
     "metadata": {},
     "output_type": "display_data"
    },
    {
     "data": {
      "text/plain": [
       "survived                 0\n",
       "pclass                   2\n",
       "sex                   male\n",
       "age                     24\n",
       "sibsp                    2\n",
       "parch                    0\n",
       "fare                  73.5\n",
       "embarked                 S\n",
       "class               Second\n",
       "who                    man\n",
       "adult_male            True\n",
       "deck                   NaN\n",
       "embark_town    Southampton\n",
       "alive                   no\n",
       "alone                False\n",
       "Name: 655, dtype: object"
      ]
     },
     "metadata": {},
     "output_type": "display_data"
    },
    {
     "data": {
      "text/plain": [
       "survived                0\n",
       "pclass                  3\n",
       "sex                female\n",
       "age                    32\n",
       "sibsp                   1\n",
       "parch                   1\n",
       "fare                 15.5\n",
       "embarked                Q\n",
       "class               Third\n",
       "who                 woman\n",
       "adult_male          False\n",
       "deck                  NaN\n",
       "embark_town    Queenstown\n",
       "alive                  no\n",
       "alone               False\n",
       "Name: 657, dtype: object"
      ]
     },
     "metadata": {},
     "output_type": "display_data"
    },
    {
     "data": {
      "text/plain": [
       "survived                 0\n",
       "pclass                   2\n",
       "sex                   male\n",
       "age                     23\n",
       "sibsp                    0\n",
       "parch                    0\n",
       "fare                    13\n",
       "embarked                 S\n",
       "class               Second\n",
       "who                    man\n",
       "adult_male            True\n",
       "deck                   NaN\n",
       "embark_town    Southampton\n",
       "alive                   no\n",
       "alone                 True\n",
       "Name: 658, dtype: object"
      ]
     },
     "metadata": {},
     "output_type": "display_data"
    },
    {
     "data": {
      "text/plain": [
       "survived               0\n",
       "pclass                 3\n",
       "sex                 male\n",
       "age                   40\n",
       "sibsp                  0\n",
       "parch                  0\n",
       "fare               7.225\n",
       "embarked               C\n",
       "class              Third\n",
       "who                  man\n",
       "adult_male          True\n",
       "deck                 NaN\n",
       "embark_town    Cherbourg\n",
       "alive                 no\n",
       "alone               True\n",
       "Name: 661, dtype: object"
      ]
     },
     "metadata": {},
     "output_type": "display_data"
    },
    {
     "data": {
      "text/plain": [
       "survived                 0\n",
       "pclass                   3\n",
       "sex                   male\n",
       "age                     36\n",
       "sibsp                    0\n",
       "parch                    0\n",
       "fare                7.4958\n",
       "embarked                 S\n",
       "class                Third\n",
       "who                    man\n",
       "adult_male            True\n",
       "deck                   NaN\n",
       "embark_town    Southampton\n",
       "alive                   no\n",
       "alone                 True\n",
       "Name: 663, dtype: object"
      ]
     },
     "metadata": {},
     "output_type": "display_data"
    },
    {
     "data": {
      "text/plain": [
       "survived                 1\n",
       "pclass                   3\n",
       "sex                   male\n",
       "age                     20\n",
       "sibsp                    1\n",
       "parch                    0\n",
       "fare                 7.925\n",
       "embarked                 S\n",
       "class                Third\n",
       "who                    man\n",
       "adult_male            True\n",
       "deck                   NaN\n",
       "embark_town    Southampton\n",
       "alive                  yes\n",
       "alone                False\n",
       "Name: 664, dtype: object"
      ]
     },
     "metadata": {},
     "output_type": "display_data"
    },
    {
     "data": {
      "text/plain": [
       "survived                 0\n",
       "pclass                   3\n",
       "sex                   male\n",
       "age                    NaN\n",
       "sibsp                    0\n",
       "parch                    0\n",
       "fare                 7.775\n",
       "embarked                 S\n",
       "class                Third\n",
       "who                    man\n",
       "adult_male            True\n",
       "deck                   NaN\n",
       "embark_town    Southampton\n",
       "alive                   no\n",
       "alone                 True\n",
       "Name: 667, dtype: object"
      ]
     },
     "metadata": {},
     "output_type": "display_data"
    },
    {
     "data": {
      "text/plain": [
       "survived                 1\n",
       "pclass                   2\n",
       "sex                 female\n",
       "age                     40\n",
       "sibsp                    1\n",
       "parch                    1\n",
       "fare                    39\n",
       "embarked                 S\n",
       "class               Second\n",
       "who                  woman\n",
       "adult_male           False\n",
       "deck                   NaN\n",
       "embark_town    Southampton\n",
       "alive                  yes\n",
       "alone                False\n",
       "Name: 670, dtype: object"
      ]
     },
     "metadata": {},
     "output_type": "display_data"
    },
    {
     "data": {
      "text/plain": [
       "survived                 0\n",
       "pclass                   2\n",
       "sex                   male\n",
       "age                     70\n",
       "sibsp                    0\n",
       "parch                    0\n",
       "fare                  10.5\n",
       "embarked                 S\n",
       "class               Second\n",
       "who                    man\n",
       "adult_male            True\n",
       "deck                   NaN\n",
       "embark_town    Southampton\n",
       "alive                   no\n",
       "alone                 True\n",
       "Name: 672, dtype: object"
      ]
     },
     "metadata": {},
     "output_type": "display_data"
    },
    {
     "data": {
      "text/plain": [
       "survived                 1\n",
       "pclass                   2\n",
       "sex                   male\n",
       "age                     31\n",
       "sibsp                    0\n",
       "parch                    0\n",
       "fare                    13\n",
       "embarked                 S\n",
       "class               Second\n",
       "who                    man\n",
       "adult_male            True\n",
       "deck                   NaN\n",
       "embark_town    Southampton\n",
       "alive                  yes\n",
       "alone                 True\n",
       "Name: 673, dtype: object"
      ]
     },
     "metadata": {},
     "output_type": "display_data"
    },
    {
     "data": {
      "text/plain": [
       "survived                 0\n",
       "pclass                   2\n",
       "sex                   male\n",
       "age                    NaN\n",
       "sibsp                    0\n",
       "parch                    0\n",
       "fare                     0\n",
       "embarked                 S\n",
       "class               Second\n",
       "who                    man\n",
       "adult_male            True\n",
       "deck                   NaN\n",
       "embark_town    Southampton\n",
       "alive                   no\n",
       "alone                 True\n",
       "Name: 674, dtype: object"
      ]
     },
     "metadata": {},
     "output_type": "display_data"
    },
    {
     "data": {
      "text/plain": [
       "survived                 1\n",
       "pclass                   3\n",
       "sex                 female\n",
       "age                     18\n",
       "sibsp                    0\n",
       "parch                    0\n",
       "fare                9.8417\n",
       "embarked                 S\n",
       "class                Third\n",
       "who                  woman\n",
       "adult_male           False\n",
       "deck                   NaN\n",
       "embark_town    Southampton\n",
       "alive                  yes\n",
       "alone                 True\n",
       "Name: 677, dtype: object"
      ]
     },
     "metadata": {},
     "output_type": "display_data"
    },
    {
     "data": {
      "text/plain": [
       "survived                0\n",
       "pclass                  3\n",
       "sex                female\n",
       "age                   NaN\n",
       "sibsp                   0\n",
       "parch                   0\n",
       "fare               8.1375\n",
       "embarked                Q\n",
       "class               Third\n",
       "who                 woman\n",
       "adult_male          False\n",
       "deck                  NaN\n",
       "embark_town    Queenstown\n",
       "alive                  no\n",
       "alone                True\n",
       "Name: 680, dtype: object"
      ]
     },
     "metadata": {},
     "output_type": "display_data"
    },
    {
     "data": {
      "text/plain": [
       "survived                 0\n",
       "pclass                   3\n",
       "sex                   male\n",
       "age                     20\n",
       "sibsp                    0\n",
       "parch                    0\n",
       "fare                 9.225\n",
       "embarked                 S\n",
       "class                Third\n",
       "who                    man\n",
       "adult_male            True\n",
       "deck                   NaN\n",
       "embark_town    Southampton\n",
       "alive                   no\n",
       "alone                 True\n",
       "Name: 682, dtype: object"
      ]
     },
     "metadata": {},
     "output_type": "display_data"
    },
    {
     "data": {
      "text/plain": [
       "survived                 0\n",
       "pclass                   3\n",
       "sex                   male\n",
       "age                     14\n",
       "sibsp                    5\n",
       "parch                    2\n",
       "fare                  46.9\n",
       "embarked                 S\n",
       "class                Third\n",
       "who                  child\n",
       "adult_male           False\n",
       "deck                   NaN\n",
       "embark_town    Southampton\n",
       "alive                   no\n",
       "alone                False\n",
       "Name: 683, dtype: object"
      ]
     },
     "metadata": {},
     "output_type": "display_data"
    },
    {
     "data": {
      "text/plain": [
       "survived                 0\n",
       "pclass                   2\n",
       "sex                   male\n",
       "age                     60\n",
       "sibsp                    1\n",
       "parch                    1\n",
       "fare                    39\n",
       "embarked                 S\n",
       "class               Second\n",
       "who                    man\n",
       "adult_male            True\n",
       "deck                   NaN\n",
       "embark_town    Southampton\n",
       "alive                   no\n",
       "alone                False\n",
       "Name: 684, dtype: object"
      ]
     },
     "metadata": {},
     "output_type": "display_data"
    },
    {
     "data": {
      "text/plain": [
       "survived                 0\n",
       "pclass                   3\n",
       "sex                   male\n",
       "age                     14\n",
       "sibsp                    4\n",
       "parch                    1\n",
       "fare               39.6875\n",
       "embarked                 S\n",
       "class                Third\n",
       "who                  child\n",
       "adult_male           False\n",
       "deck                   NaN\n",
       "embark_town    Southampton\n",
       "alive                   no\n",
       "alone                False\n",
       "Name: 686, dtype: object"
      ]
     },
     "metadata": {},
     "output_type": "display_data"
    },
    {
     "data": {
      "text/plain": [
       "survived                 0\n",
       "pclass                   3\n",
       "sex                   male\n",
       "age                     19\n",
       "sibsp                    0\n",
       "parch                    0\n",
       "fare               10.1708\n",
       "embarked                 S\n",
       "class                Third\n",
       "who                    man\n",
       "adult_male            True\n",
       "deck                   NaN\n",
       "embark_town    Southampton\n",
       "alive                   no\n",
       "alone                 True\n",
       "Name: 687, dtype: object"
      ]
     },
     "metadata": {},
     "output_type": "display_data"
    },
    {
     "data": {
      "text/plain": [
       "survived               1\n",
       "pclass                 3\n",
       "sex               female\n",
       "age                    4\n",
       "sibsp                  0\n",
       "parch                  1\n",
       "fare             13.4167\n",
       "embarked               C\n",
       "class              Third\n",
       "who                child\n",
       "adult_male         False\n",
       "deck                 NaN\n",
       "embark_town    Cherbourg\n",
       "alive                yes\n",
       "alone              False\n",
       "Name: 691, dtype: object"
      ]
     },
     "metadata": {},
     "output_type": "display_data"
    },
    {
     "data": {
      "text/plain": [
       "survived                 1\n",
       "pclass                   3\n",
       "sex                   male\n",
       "age                    NaN\n",
       "sibsp                    0\n",
       "parch                    0\n",
       "fare               56.4958\n",
       "embarked                 S\n",
       "class                Third\n",
       "who                    man\n",
       "adult_male            True\n",
       "deck                   NaN\n",
       "embark_town    Southampton\n",
       "alive                  yes\n",
       "alone                 True\n",
       "Name: 692, dtype: object"
      ]
     },
     "metadata": {},
     "output_type": "display_data"
    },
    {
     "data": {
      "text/plain": [
       "survived               0\n",
       "pclass                 3\n",
       "sex                 male\n",
       "age                   25\n",
       "sibsp                  0\n",
       "parch                  0\n",
       "fare               7.225\n",
       "embarked               C\n",
       "class              Third\n",
       "who                  man\n",
       "adult_male          True\n",
       "deck                 NaN\n",
       "embark_town    Cherbourg\n",
       "alive                 no\n",
       "alone               True\n",
       "Name: 693, dtype: object"
      ]
     },
     "metadata": {},
     "output_type": "display_data"
    },
    {
     "data": {
      "text/plain": [
       "survived                 0\n",
       "pclass                   3\n",
       "sex                   male\n",
       "age                     44\n",
       "sibsp                    0\n",
       "parch                    0\n",
       "fare                  8.05\n",
       "embarked                 S\n",
       "class                Third\n",
       "who                    man\n",
       "adult_male            True\n",
       "deck                   NaN\n",
       "embark_town    Southampton\n",
       "alive                   no\n",
       "alone                 True\n",
       "Name: 696, dtype: object"
      ]
     },
     "metadata": {},
     "output_type": "display_data"
    },
    {
     "data": {
      "text/plain": [
       "survived                1\n",
       "pclass                  3\n",
       "sex                female\n",
       "age                   NaN\n",
       "sibsp                   0\n",
       "parch                   0\n",
       "fare               7.7333\n",
       "embarked                Q\n",
       "class               Third\n",
       "who                 woman\n",
       "adult_male          False\n",
       "deck                  NaN\n",
       "embark_town    Queenstown\n",
       "alive                 yes\n",
       "alone                True\n",
       "Name: 697, dtype: object"
      ]
     },
     "metadata": {},
     "output_type": "display_data"
    },
    {
     "data": {
      "text/plain": [
       "survived                 0\n",
       "pclass                   3\n",
       "sex                   male\n",
       "age                     42\n",
       "sibsp                    0\n",
       "parch                    0\n",
       "fare                  7.65\n",
       "embarked                 S\n",
       "class                Third\n",
       "who                    man\n",
       "adult_male            True\n",
       "deck                     F\n",
       "embark_town    Southampton\n",
       "alive                   no\n",
       "alone                 True\n",
       "Name: 699, dtype: object"
      ]
     },
     "metadata": {},
     "output_type": "display_data"
    },
    {
     "data": {
      "text/plain": [
       "survived               0\n",
       "pclass                 3\n",
       "sex               female\n",
       "age                   18\n",
       "sibsp                  0\n",
       "parch                  1\n",
       "fare             14.4542\n",
       "embarked               C\n",
       "class              Third\n",
       "who                woman\n",
       "adult_male         False\n",
       "deck                 NaN\n",
       "embark_town    Cherbourg\n",
       "alive                 no\n",
       "alone              False\n",
       "Name: 702, dtype: object"
      ]
     },
     "metadata": {},
     "output_type": "display_data"
    },
    {
     "data": {
      "text/plain": [
       "survived                0\n",
       "pclass                  3\n",
       "sex                  male\n",
       "age                    25\n",
       "sibsp                   0\n",
       "parch                   0\n",
       "fare               7.7417\n",
       "embarked                Q\n",
       "class               Third\n",
       "who                   man\n",
       "adult_male           True\n",
       "deck                  NaN\n",
       "embark_town    Queenstown\n",
       "alive                  no\n",
       "alone                True\n",
       "Name: 703, dtype: object"
      ]
     },
     "metadata": {},
     "output_type": "display_data"
    },
    {
     "data": {
      "text/plain": [
       "survived                 0\n",
       "pclass                   3\n",
       "sex                   male\n",
       "age                     26\n",
       "sibsp                    1\n",
       "parch                    0\n",
       "fare                7.8542\n",
       "embarked                 S\n",
       "class                Third\n",
       "who                    man\n",
       "adult_male            True\n",
       "deck                   NaN\n",
       "embark_town    Southampton\n",
       "alive                   no\n",
       "alone                False\n",
       "Name: 704, dtype: object"
      ]
     },
     "metadata": {},
     "output_type": "display_data"
    },
    {
     "data": {
      "text/plain": [
       "survived                 0\n",
       "pclass                   2\n",
       "sex                   male\n",
       "age                     39\n",
       "sibsp                    0\n",
       "parch                    0\n",
       "fare                    26\n",
       "embarked                 S\n",
       "class               Second\n",
       "who                    man\n",
       "adult_male            True\n",
       "deck                   NaN\n",
       "embark_town    Southampton\n",
       "alive                   no\n",
       "alone                 True\n",
       "Name: 705, dtype: object"
      ]
     },
     "metadata": {},
     "output_type": "display_data"
    },
    {
     "data": {
      "text/plain": [
       "survived                 1\n",
       "pclass                   2\n",
       "sex                 female\n",
       "age                     45\n",
       "sibsp                    0\n",
       "parch                    0\n",
       "fare                  13.5\n",
       "embarked                 S\n",
       "class               Second\n",
       "who                  woman\n",
       "adult_male           False\n",
       "deck                   NaN\n",
       "embark_town    Southampton\n",
       "alive                  yes\n",
       "alone                 True\n",
       "Name: 706, dtype: object"
      ]
     },
     "metadata": {},
     "output_type": "display_data"
    },
    {
     "data": {
      "text/plain": [
       "survived                 0\n",
       "pclass                   2\n",
       "sex                   male\n",
       "age                     52\n",
       "sibsp                    0\n",
       "parch                    0\n",
       "fare                    13\n",
       "embarked                 S\n",
       "class               Second\n",
       "who                    man\n",
       "adult_male            True\n",
       "deck                   NaN\n",
       "embark_town    Southampton\n",
       "alive                   no\n",
       "alone                 True\n",
       "Name: 714, dtype: object"
      ]
     },
     "metadata": {},
     "output_type": "display_data"
    },
    {
     "data": {
      "text/plain": [
       "survived                0\n",
       "pclass                  3\n",
       "sex                  male\n",
       "age                   NaN\n",
       "sibsp                   0\n",
       "parch                   0\n",
       "fare                 15.5\n",
       "embarked                Q\n",
       "class               Third\n",
       "who                   man\n",
       "adult_male           True\n",
       "deck                  NaN\n",
       "embark_town    Queenstown\n",
       "alive                  no\n",
       "alone                True\n",
       "Name: 718, dtype: object"
      ]
     },
     "metadata": {},
     "output_type": "display_data"
    },
    {
     "data": {
      "text/plain": [
       "survived                 0\n",
       "pclass                   3\n",
       "sex                   male\n",
       "age                     33\n",
       "sibsp                    0\n",
       "parch                    0\n",
       "fare                 7.775\n",
       "embarked                 S\n",
       "class                Third\n",
       "who                    man\n",
       "adult_male            True\n",
       "deck                   NaN\n",
       "embark_town    Southampton\n",
       "alive                   no\n",
       "alone                 True\n",
       "Name: 719, dtype: object"
      ]
     },
     "metadata": {},
     "output_type": "display_data"
    },
    {
     "data": {
      "text/plain": [
       "survived                 1\n",
       "pclass                   2\n",
       "sex                 female\n",
       "age                      6\n",
       "sibsp                    0\n",
       "parch                    1\n",
       "fare                    33\n",
       "embarked                 S\n",
       "class               Second\n",
       "who                  child\n",
       "adult_male           False\n",
       "deck                   NaN\n",
       "embark_town    Southampton\n",
       "alive                  yes\n",
       "alone                False\n",
       "Name: 720, dtype: object"
      ]
     },
     "metadata": {},
     "output_type": "display_data"
    },
    {
     "data": {
      "text/plain": [
       "survived                 0\n",
       "pclass                   2\n",
       "sex                   male\n",
       "age                     50\n",
       "sibsp                    0\n",
       "parch                    0\n",
       "fare                    13\n",
       "embarked                 S\n",
       "class               Second\n",
       "who                    man\n",
       "adult_male            True\n",
       "deck                   NaN\n",
       "embark_town    Southampton\n",
       "alive                   no\n",
       "alone                 True\n",
       "Name: 723, dtype: object"
      ]
     },
     "metadata": {},
     "output_type": "display_data"
    },
    {
     "data": {
      "text/plain": [
       "survived                 0\n",
       "pclass                   3\n",
       "sex                   male\n",
       "age                     20\n",
       "sibsp                    0\n",
       "parch                    0\n",
       "fare                8.6625\n",
       "embarked                 S\n",
       "class                Third\n",
       "who                    man\n",
       "adult_male            True\n",
       "deck                   NaN\n",
       "embark_town    Southampton\n",
       "alive                   no\n",
       "alone                 True\n",
       "Name: 725, dtype: object"
      ]
     },
     "metadata": {},
     "output_type": "display_data"
    },
    {
     "data": {
      "text/plain": [
       "survived                 1\n",
       "pclass                   2\n",
       "sex                 female\n",
       "age                     30\n",
       "sibsp                    3\n",
       "parch                    0\n",
       "fare                    21\n",
       "embarked                 S\n",
       "class               Second\n",
       "who                  woman\n",
       "adult_male           False\n",
       "deck                   NaN\n",
       "embark_town    Southampton\n",
       "alive                  yes\n",
       "alone                False\n",
       "Name: 726, dtype: object"
      ]
     },
     "metadata": {},
     "output_type": "display_data"
    },
    {
     "data": {
      "text/plain": [
       "survived                1\n",
       "pclass                  3\n",
       "sex                female\n",
       "age                   NaN\n",
       "sibsp                   0\n",
       "parch                   0\n",
       "fare               7.7375\n",
       "embarked                Q\n",
       "class               Third\n",
       "who                 woman\n",
       "adult_male          False\n",
       "deck                  NaN\n",
       "embark_town    Queenstown\n",
       "alive                 yes\n",
       "alone                True\n",
       "Name: 727, dtype: object"
      ]
     },
     "metadata": {},
     "output_type": "display_data"
    },
    {
     "data": {
      "text/plain": [
       "survived                 0\n",
       "pclass                   3\n",
       "sex                 female\n",
       "age                     25\n",
       "sibsp                    1\n",
       "parch                    0\n",
       "fare                 7.925\n",
       "embarked                 S\n",
       "class                Third\n",
       "who                  woman\n",
       "adult_male           False\n",
       "deck                   NaN\n",
       "embark_town    Southampton\n",
       "alive                   no\n",
       "alone                False\n",
       "Name: 729, dtype: object"
      ]
     },
     "metadata": {},
     "output_type": "display_data"
    },
    {
     "data": {
      "text/plain": [
       "survived               0\n",
       "pclass                 3\n",
       "sex                 male\n",
       "age                   11\n",
       "sibsp                  0\n",
       "parch                  0\n",
       "fare             18.7875\n",
       "embarked               C\n",
       "class              Third\n",
       "who                child\n",
       "adult_male         False\n",
       "deck                 NaN\n",
       "embark_town    Cherbourg\n",
       "alive                 no\n",
       "alone               True\n",
       "Name: 731, dtype: object"
      ]
     },
     "metadata": {},
     "output_type": "display_data"
    },
    {
     "data": {
      "text/plain": [
       "survived                 0\n",
       "pclass                   2\n",
       "sex                   male\n",
       "age                    NaN\n",
       "sibsp                    0\n",
       "parch                    0\n",
       "fare                     0\n",
       "embarked                 S\n",
       "class               Second\n",
       "who                    man\n",
       "adult_male            True\n",
       "deck                   NaN\n",
       "embark_town    Southampton\n",
       "alive                   no\n",
       "alone                 True\n",
       "Name: 732, dtype: object"
      ]
     },
     "metadata": {},
     "output_type": "display_data"
    },
    {
     "data": {
      "text/plain": [
       "survived                 0\n",
       "pclass                   2\n",
       "sex                   male\n",
       "age                     23\n",
       "sibsp                    0\n",
       "parch                    0\n",
       "fare                    13\n",
       "embarked                 S\n",
       "class               Second\n",
       "who                    man\n",
       "adult_male            True\n",
       "deck                   NaN\n",
       "embark_town    Southampton\n",
       "alive                   no\n",
       "alone                 True\n",
       "Name: 733, dtype: object"
      ]
     },
     "metadata": {},
     "output_type": "display_data"
    },
    {
     "data": {
      "text/plain": [
       "survived                 0\n",
       "pclass                   3\n",
       "sex                   male\n",
       "age                    NaN\n",
       "sibsp                    0\n",
       "parch                    0\n",
       "fare                7.8958\n",
       "embarked                 S\n",
       "class                Third\n",
       "who                    man\n",
       "adult_male            True\n",
       "deck                   NaN\n",
       "embark_town    Southampton\n",
       "alive                   no\n",
       "alone                 True\n",
       "Name: 739, dtype: object"
      ]
     },
     "metadata": {},
     "output_type": "display_data"
    },
    {
     "data": {
      "text/plain": [
       "survived                 0\n",
       "pclass                   3\n",
       "sex                   male\n",
       "age                     24\n",
       "sibsp                    1\n",
       "parch                    0\n",
       "fare                  16.1\n",
       "embarked                 S\n",
       "class                Third\n",
       "who                    man\n",
       "adult_male            True\n",
       "deck                   NaN\n",
       "embark_town    Southampton\n",
       "alive                   no\n",
       "alone                False\n",
       "Name: 743, dtype: object"
      ]
     },
     "metadata": {},
     "output_type": "display_data"
    },
    {
     "data": {
      "text/plain": [
       "survived                 1\n",
       "pclass                   3\n",
       "sex                   male\n",
       "age                     31\n",
       "sibsp                    0\n",
       "parch                    0\n",
       "fare                 7.925\n",
       "embarked                 S\n",
       "class                Third\n",
       "who                    man\n",
       "adult_male            True\n",
       "deck                   NaN\n",
       "embark_town    Southampton\n",
       "alive                  yes\n",
       "alone                 True\n",
       "Name: 744, dtype: object"
      ]
     },
     "metadata": {},
     "output_type": "display_data"
    },
    {
     "data": {
      "text/plain": [
       "survived                 0\n",
       "pclass                   3\n",
       "sex                   male\n",
       "age                     16\n",
       "sibsp                    1\n",
       "parch                    1\n",
       "fare                 20.25\n",
       "embarked                 S\n",
       "class                Third\n",
       "who                    man\n",
       "adult_male            True\n",
       "deck                   NaN\n",
       "embark_town    Southampton\n",
       "alive                   no\n",
       "alone                False\n",
       "Name: 746, dtype: object"
      ]
     },
     "metadata": {},
     "output_type": "display_data"
    },
    {
     "data": {
      "text/plain": [
       "survived                 1\n",
       "pclass                   2\n",
       "sex                 female\n",
       "age                     30\n",
       "sibsp                    0\n",
       "parch                    0\n",
       "fare                    13\n",
       "embarked                 S\n",
       "class               Second\n",
       "who                  woman\n",
       "adult_male           False\n",
       "deck                   NaN\n",
       "embark_town    Southampton\n",
       "alive                  yes\n",
       "alone                 True\n",
       "Name: 747, dtype: object"
      ]
     },
     "metadata": {},
     "output_type": "display_data"
    },
    {
     "data": {
      "text/plain": [
       "survived                0\n",
       "pclass                  3\n",
       "sex                  male\n",
       "age                    31\n",
       "sibsp                   0\n",
       "parch                   0\n",
       "fare                 7.75\n",
       "embarked                Q\n",
       "class               Third\n",
       "who                   man\n",
       "adult_male           True\n",
       "deck                  NaN\n",
       "embark_town    Queenstown\n",
       "alive                  no\n",
       "alone                True\n",
       "Name: 749, dtype: object"
      ]
     },
     "metadata": {},
     "output_type": "display_data"
    },
    {
     "data": {
      "text/plain": [
       "survived                 1\n",
       "pclass                   2\n",
       "sex                 female\n",
       "age                      4\n",
       "sibsp                    1\n",
       "parch                    1\n",
       "fare                    23\n",
       "embarked                 S\n",
       "class               Second\n",
       "who                  child\n",
       "adult_male           False\n",
       "deck                   NaN\n",
       "embark_town    Southampton\n",
       "alive                  yes\n",
       "alone                False\n",
       "Name: 750, dtype: object"
      ]
     },
     "metadata": {},
     "output_type": "display_data"
    },
    {
     "data": {
      "text/plain": [
       "survived                 1\n",
       "pclass                   3\n",
       "sex                   male\n",
       "age                      6\n",
       "sibsp                    0\n",
       "parch                    1\n",
       "fare                12.475\n",
       "embarked                 S\n",
       "class                Third\n",
       "who                  child\n",
       "adult_male           False\n",
       "deck                     E\n",
       "embark_town    Southampton\n",
       "alive                  yes\n",
       "alone                False\n",
       "Name: 751, dtype: object"
      ]
     },
     "metadata": {},
     "output_type": "display_data"
    },
    {
     "data": {
      "text/plain": [
       "survived                 0\n",
       "pclass                   3\n",
       "sex                   male\n",
       "age                     33\n",
       "sibsp                    0\n",
       "parch                    0\n",
       "fare                   9.5\n",
       "embarked                 S\n",
       "class                Third\n",
       "who                    man\n",
       "adult_male            True\n",
       "deck                   NaN\n",
       "embark_town    Southampton\n",
       "alive                   no\n",
       "alone                 True\n",
       "Name: 752, dtype: object"
      ]
     },
     "metadata": {},
     "output_type": "display_data"
    },
    {
     "data": {
      "text/plain": [
       "survived                 0\n",
       "pclass                   3\n",
       "sex                   male\n",
       "age                     23\n",
       "sibsp                    0\n",
       "parch                    0\n",
       "fare                7.8958\n",
       "embarked                 S\n",
       "class                Third\n",
       "who                    man\n",
       "adult_male            True\n",
       "deck                   NaN\n",
       "embark_town    Southampton\n",
       "alive                   no\n",
       "alone                 True\n",
       "Name: 753, dtype: object"
      ]
     },
     "metadata": {},
     "output_type": "display_data"
    },
    {
     "data": {
      "text/plain": [
       "survived                 1\n",
       "pclass                   2\n",
       "sex                 female\n",
       "age                     48\n",
       "sibsp                    1\n",
       "parch                    2\n",
       "fare                    65\n",
       "embarked                 S\n",
       "class               Second\n",
       "who                  woman\n",
       "adult_male           False\n",
       "deck                   NaN\n",
       "embark_town    Southampton\n",
       "alive                  yes\n",
       "alone                False\n",
       "Name: 754, dtype: object"
      ]
     },
     "metadata": {},
     "output_type": "display_data"
    },
    {
     "data": {
      "text/plain": [
       "survived                 1\n",
       "pclass                   2\n",
       "sex                   male\n",
       "age                   0.67\n",
       "sibsp                    1\n",
       "parch                    1\n",
       "fare                  14.5\n",
       "embarked                 S\n",
       "class               Second\n",
       "who                  child\n",
       "adult_male           False\n",
       "deck                   NaN\n",
       "embark_town    Southampton\n",
       "alive                  yes\n",
       "alone                False\n",
       "Name: 755, dtype: object"
      ]
     },
     "metadata": {},
     "output_type": "display_data"
    },
    {
     "data": {
      "text/plain": [
       "survived                 0\n",
       "pclass                   3\n",
       "sex                   male\n",
       "age                     34\n",
       "sibsp                    0\n",
       "parch                    0\n",
       "fare                  8.05\n",
       "embarked                 S\n",
       "class                Third\n",
       "who                    man\n",
       "adult_male            True\n",
       "deck                   NaN\n",
       "embark_town    Southampton\n",
       "alive                   no\n",
       "alone                 True\n",
       "Name: 758, dtype: object"
      ]
     },
     "metadata": {},
     "output_type": "display_data"
    },
    {
     "data": {
      "text/plain": [
       "survived                 0\n",
       "pclass                   3\n",
       "sex                   male\n",
       "age                    NaN\n",
       "sibsp                    0\n",
       "parch                    0\n",
       "fare                  14.5\n",
       "embarked                 S\n",
       "class                Third\n",
       "who                    man\n",
       "adult_male            True\n",
       "deck                   NaN\n",
       "embark_town    Southampton\n",
       "alive                   no\n",
       "alone                 True\n",
       "Name: 760, dtype: object"
      ]
     },
     "metadata": {},
     "output_type": "display_data"
    },
    {
     "data": {
      "text/plain": [
       "survived                 0\n",
       "pclass                   3\n",
       "sex                   male\n",
       "age                     41\n",
       "sibsp                    0\n",
       "parch                    0\n",
       "fare                 7.125\n",
       "embarked                 S\n",
       "class                Third\n",
       "who                    man\n",
       "adult_male            True\n",
       "deck                   NaN\n",
       "embark_town    Southampton\n",
       "alive                   no\n",
       "alone                 True\n",
       "Name: 761, dtype: object"
      ]
     },
     "metadata": {},
     "output_type": "display_data"
    },
    {
     "data": {
      "text/plain": [
       "survived               1\n",
       "pclass                 3\n",
       "sex                 male\n",
       "age                   20\n",
       "sibsp                  0\n",
       "parch                  0\n",
       "fare              7.2292\n",
       "embarked               C\n",
       "class              Third\n",
       "who                  man\n",
       "adult_male          True\n",
       "deck                 NaN\n",
       "embark_town    Cherbourg\n",
       "alive                yes\n",
       "alone               True\n",
       "Name: 762, dtype: object"
      ]
     },
     "metadata": {},
     "output_type": "display_data"
    },
    {
     "data": {
      "text/plain": [
       "survived                0\n",
       "pclass                  3\n",
       "sex                female\n",
       "age                  30.5\n",
       "sibsp                   0\n",
       "parch                   0\n",
       "fare                 7.75\n",
       "embarked                Q\n",
       "class               Third\n",
       "who                 woman\n",
       "adult_male          False\n",
       "deck                  NaN\n",
       "embark_town    Queenstown\n",
       "alive                  no\n",
       "alone                True\n",
       "Name: 767, dtype: object"
      ]
     },
     "metadata": {},
     "output_type": "display_data"
    },
    {
     "data": {
      "text/plain": [
       "survived                0\n",
       "pclass                  3\n",
       "sex                  male\n",
       "age                   NaN\n",
       "sibsp                   1\n",
       "parch                   0\n",
       "fare                24.15\n",
       "embarked                Q\n",
       "class               Third\n",
       "who                   man\n",
       "adult_male           True\n",
       "deck                  NaN\n",
       "embark_town    Queenstown\n",
       "alive                  no\n",
       "alone               False\n",
       "Name: 768, dtype: object"
      ]
     },
     "metadata": {},
     "output_type": "display_data"
    },
    {
     "data": {
      "text/plain": [
       "survived                 0\n",
       "pclass                   3\n",
       "sex                   male\n",
       "age                     32\n",
       "sibsp                    0\n",
       "parch                    0\n",
       "fare                8.3625\n",
       "embarked                 S\n",
       "class                Third\n",
       "who                    man\n",
       "adult_male            True\n",
       "deck                   NaN\n",
       "embark_town    Southampton\n",
       "alive                   no\n",
       "alone                 True\n",
       "Name: 769, dtype: object"
      ]
     },
     "metadata": {},
     "output_type": "display_data"
    },
    {
     "data": {
      "text/plain": [
       "survived                 0\n",
       "pclass                   3\n",
       "sex                   male\n",
       "age                     48\n",
       "sibsp                    0\n",
       "parch                    0\n",
       "fare                7.8542\n",
       "embarked                 S\n",
       "class                Third\n",
       "who                    man\n",
       "adult_male            True\n",
       "deck                   NaN\n",
       "embark_town    Southampton\n",
       "alive                   no\n",
       "alone                 True\n",
       "Name: 771, dtype: object"
      ]
     },
     "metadata": {},
     "output_type": "display_data"
    },
    {
     "data": {
      "text/plain": [
       "survived               0\n",
       "pclass                 3\n",
       "sex                 male\n",
       "age                  NaN\n",
       "sibsp                  0\n",
       "parch                  0\n",
       "fare               7.225\n",
       "embarked               C\n",
       "class              Third\n",
       "who                  man\n",
       "adult_male          True\n",
       "deck                 NaN\n",
       "embark_town    Cherbourg\n",
       "alive                 no\n",
       "alone               True\n",
       "Name: 773, dtype: object"
      ]
     },
     "metadata": {},
     "output_type": "display_data"
    },
    {
     "data": {
      "text/plain": [
       "survived                 0\n",
       "pclass                   3\n",
       "sex                   male\n",
       "age                     18\n",
       "sibsp                    0\n",
       "parch                    0\n",
       "fare                  7.75\n",
       "embarked                 S\n",
       "class                Third\n",
       "who                    man\n",
       "adult_male            True\n",
       "deck                   NaN\n",
       "embark_town    Southampton\n",
       "alive                   no\n",
       "alone                 True\n",
       "Name: 775, dtype: object"
      ]
     },
     "metadata": {},
     "output_type": "display_data"
    },
    {
     "data": {
      "text/plain": [
       "survived                 1\n",
       "pclass                   3\n",
       "sex                 female\n",
       "age                      5\n",
       "sibsp                    0\n",
       "parch                    0\n",
       "fare                12.475\n",
       "embarked                 S\n",
       "class                Third\n",
       "who                  child\n",
       "adult_male           False\n",
       "deck                   NaN\n",
       "embark_town    Southampton\n",
       "alive                  yes\n",
       "alone                 True\n",
       "Name: 777, dtype: object"
      ]
     },
     "metadata": {},
     "output_type": "display_data"
    },
    {
     "data": {
      "text/plain": [
       "survived                0\n",
       "pclass                  3\n",
       "sex                  male\n",
       "age                   NaN\n",
       "sibsp                   0\n",
       "parch                   0\n",
       "fare               7.7375\n",
       "embarked                Q\n",
       "class               Third\n",
       "who                   man\n",
       "adult_male           True\n",
       "deck                  NaN\n",
       "embark_town    Queenstown\n",
       "alive                  no\n",
       "alone                True\n",
       "Name: 778, dtype: object"
      ]
     },
     "metadata": {},
     "output_type": "display_data"
    },
    {
     "data": {
      "text/plain": [
       "survived               1\n",
       "pclass                 3\n",
       "sex               female\n",
       "age                   13\n",
       "sibsp                  0\n",
       "parch                  0\n",
       "fare              7.2292\n",
       "embarked               C\n",
       "class              Third\n",
       "who                child\n",
       "adult_male         False\n",
       "deck                 NaN\n",
       "embark_town    Cherbourg\n",
       "alive                yes\n",
       "alone               True\n",
       "Name: 780, dtype: object"
      ]
     },
     "metadata": {},
     "output_type": "display_data"
    },
    {
     "data": {
      "text/plain": [
       "survived                 0\n",
       "pclass                   3\n",
       "sex                   male\n",
       "age                     25\n",
       "sibsp                    0\n",
       "parch                    0\n",
       "fare                  7.05\n",
       "embarked                 S\n",
       "class                Third\n",
       "who                    man\n",
       "adult_male            True\n",
       "deck                   NaN\n",
       "embark_town    Southampton\n",
       "alive                   no\n",
       "alone                 True\n",
       "Name: 784, dtype: object"
      ]
     },
     "metadata": {},
     "output_type": "display_data"
    },
    {
     "data": {
      "text/plain": [
       "survived                 0\n",
       "pclass                   3\n",
       "sex                   male\n",
       "age                     25\n",
       "sibsp                    0\n",
       "parch                    0\n",
       "fare                  7.25\n",
       "embarked                 S\n",
       "class                Third\n",
       "who                    man\n",
       "adult_male            True\n",
       "deck                   NaN\n",
       "embark_town    Southampton\n",
       "alive                   no\n",
       "alone                 True\n",
       "Name: 785, dtype: object"
      ]
     },
     "metadata": {},
     "output_type": "display_data"
    },
    {
     "data": {
      "text/plain": [
       "survived                 1\n",
       "pclass                   3\n",
       "sex                 female\n",
       "age                     18\n",
       "sibsp                    0\n",
       "parch                    0\n",
       "fare                7.4958\n",
       "embarked                 S\n",
       "class                Third\n",
       "who                  woman\n",
       "adult_male           False\n",
       "deck                   NaN\n",
       "embark_town    Southampton\n",
       "alive                  yes\n",
       "alone                 True\n",
       "Name: 786, dtype: object"
      ]
     },
     "metadata": {},
     "output_type": "display_data"
    },
    {
     "data": {
      "text/plain": [
       "survived                0\n",
       "pclass                  3\n",
       "sex                  male\n",
       "age                     8\n",
       "sibsp                   4\n",
       "parch                   1\n",
       "fare               29.125\n",
       "embarked                Q\n",
       "class               Third\n",
       "who                 child\n",
       "adult_male          False\n",
       "deck                  NaN\n",
       "embark_town    Queenstown\n",
       "alive                  no\n",
       "alone               False\n",
       "Name: 787, dtype: object"
      ]
     },
     "metadata": {},
     "output_type": "display_data"
    },
    {
     "data": {
      "text/plain": [
       "survived                 1\n",
       "pclass                   3\n",
       "sex                   male\n",
       "age                      1\n",
       "sibsp                    1\n",
       "parch                    2\n",
       "fare                20.575\n",
       "embarked                 S\n",
       "class                Third\n",
       "who                  child\n",
       "adult_male           False\n",
       "deck                   NaN\n",
       "embark_town    Southampton\n",
       "alive                  yes\n",
       "alone                False\n",
       "Name: 788, dtype: object"
      ]
     },
     "metadata": {},
     "output_type": "display_data"
    },
    {
     "data": {
      "text/plain": [
       "survived                0\n",
       "pclass                  3\n",
       "sex                  male\n",
       "age                   NaN\n",
       "sibsp                   0\n",
       "parch                   0\n",
       "fare                 7.75\n",
       "embarked                Q\n",
       "class               Third\n",
       "who                   man\n",
       "adult_male           True\n",
       "deck                  NaN\n",
       "embark_town    Queenstown\n",
       "alive                  no\n",
       "alone                True\n",
       "Name: 790, dtype: object"
      ]
     },
     "metadata": {},
     "output_type": "display_data"
    },
    {
     "data": {
      "text/plain": [
       "survived                 0\n",
       "pclass                   2\n",
       "sex                   male\n",
       "age                     16\n",
       "sibsp                    0\n",
       "parch                    0\n",
       "fare                    26\n",
       "embarked                 S\n",
       "class               Second\n",
       "who                    man\n",
       "adult_male            True\n",
       "deck                   NaN\n",
       "embark_town    Southampton\n",
       "alive                   no\n",
       "alone                 True\n",
       "Name: 791, dtype: object"
      ]
     },
     "metadata": {},
     "output_type": "display_data"
    },
    {
     "data": {
      "text/plain": [
       "survived                 0\n",
       "pclass                   3\n",
       "sex                   male\n",
       "age                     25\n",
       "sibsp                    0\n",
       "parch                    0\n",
       "fare                7.8958\n",
       "embarked                 S\n",
       "class                Third\n",
       "who                    man\n",
       "adult_male            True\n",
       "deck                   NaN\n",
       "embark_town    Southampton\n",
       "alive                   no\n",
       "alone                 True\n",
       "Name: 794, dtype: object"
      ]
     },
     "metadata": {},
     "output_type": "display_data"
    },
    {
     "data": {
      "text/plain": [
       "survived                 0\n",
       "pclass                   2\n",
       "sex                   male\n",
       "age                     39\n",
       "sibsp                    0\n",
       "parch                    0\n",
       "fare                    13\n",
       "embarked                 S\n",
       "class               Second\n",
       "who                    man\n",
       "adult_male            True\n",
       "deck                   NaN\n",
       "embark_town    Southampton\n",
       "alive                   no\n",
       "alone                 True\n",
       "Name: 795, dtype: object"
      ]
     },
     "metadata": {},
     "output_type": "display_data"
    },
    {
     "data": {
      "text/plain": [
       "survived               0\n",
       "pclass                 3\n",
       "sex                 male\n",
       "age                   30\n",
       "sibsp                  0\n",
       "parch                  0\n",
       "fare              7.2292\n",
       "embarked               C\n",
       "class              Third\n",
       "who                  man\n",
       "adult_male          True\n",
       "deck                 NaN\n",
       "embark_town    Cherbourg\n",
       "alive                 no\n",
       "alone               True\n",
       "Name: 798, dtype: object"
      ]
     },
     "metadata": {},
     "output_type": "display_data"
    },
    {
     "data": {
      "text/plain": [
       "survived                 0\n",
       "pclass                   2\n",
       "sex                   male\n",
       "age                     34\n",
       "sibsp                    0\n",
       "parch                    0\n",
       "fare                    13\n",
       "embarked                 S\n",
       "class               Second\n",
       "who                    man\n",
       "adult_male            True\n",
       "deck                   NaN\n",
       "embark_town    Southampton\n",
       "alive                   no\n",
       "alone                 True\n",
       "Name: 800, dtype: object"
      ]
     },
     "metadata": {},
     "output_type": "display_data"
    },
    {
     "data": {
      "text/plain": [
       "survived                 1\n",
       "pclass                   2\n",
       "sex                 female\n",
       "age                     31\n",
       "sibsp                    1\n",
       "parch                    1\n",
       "fare                 26.25\n",
       "embarked                 S\n",
       "class               Second\n",
       "who                  woman\n",
       "adult_male           False\n",
       "deck                   NaN\n",
       "embark_town    Southampton\n",
       "alive                  yes\n",
       "alone                False\n",
       "Name: 801, dtype: object"
      ]
     },
     "metadata": {},
     "output_type": "display_data"
    },
    {
     "data": {
      "text/plain": [
       "survived                 1\n",
       "pclass                   3\n",
       "sex                   male\n",
       "age                     27\n",
       "sibsp                    0\n",
       "parch                    0\n",
       "fare                 6.975\n",
       "embarked                 S\n",
       "class                Third\n",
       "who                    man\n",
       "adult_male            True\n",
       "deck                   NaN\n",
       "embark_town    Southampton\n",
       "alive                  yes\n",
       "alone                 True\n",
       "Name: 804, dtype: object"
      ]
     },
     "metadata": {},
     "output_type": "display_data"
    },
    {
     "data": {
      "text/plain": [
       "survived                 0\n",
       "pclass                   3\n",
       "sex                 female\n",
       "age                     18\n",
       "sibsp                    0\n",
       "parch                    0\n",
       "fare                 7.775\n",
       "embarked                 S\n",
       "class                Third\n",
       "who                  woman\n",
       "adult_male           False\n",
       "deck                   NaN\n",
       "embark_town    Southampton\n",
       "alive                   no\n",
       "alone                 True\n",
       "Name: 807, dtype: object"
      ]
     },
     "metadata": {},
     "output_type": "display_data"
    },
    {
     "data": {
      "text/plain": [
       "survived                 0\n",
       "pclass                   2\n",
       "sex                   male\n",
       "age                     39\n",
       "sibsp                    0\n",
       "parch                    0\n",
       "fare                    13\n",
       "embarked                 S\n",
       "class               Second\n",
       "who                    man\n",
       "adult_male            True\n",
       "deck                   NaN\n",
       "embark_town    Southampton\n",
       "alive                   no\n",
       "alone                 True\n",
       "Name: 808, dtype: object"
      ]
     },
     "metadata": {},
     "output_type": "display_data"
    },
    {
     "data": {
      "text/plain": [
       "survived                 0\n",
       "pclass                   3\n",
       "sex                   male\n",
       "age                     26\n",
       "sibsp                    0\n",
       "parch                    0\n",
       "fare                7.8875\n",
       "embarked                 S\n",
       "class                Third\n",
       "who                    man\n",
       "adult_male            True\n",
       "deck                   NaN\n",
       "embark_town    Southampton\n",
       "alive                   no\n",
       "alone                 True\n",
       "Name: 810, dtype: object"
      ]
     },
     "metadata": {},
     "output_type": "display_data"
    },
    {
     "data": {
      "text/plain": [
       "survived                 0\n",
       "pclass                   3\n",
       "sex                   male\n",
       "age                     39\n",
       "sibsp                    0\n",
       "parch                    0\n",
       "fare                 24.15\n",
       "embarked                 S\n",
       "class                Third\n",
       "who                    man\n",
       "adult_male            True\n",
       "deck                   NaN\n",
       "embark_town    Southampton\n",
       "alive                   no\n",
       "alone                 True\n",
       "Name: 811, dtype: object"
      ]
     },
     "metadata": {},
     "output_type": "display_data"
    },
    {
     "data": {
      "text/plain": [
       "survived                 0\n",
       "pclass                   2\n",
       "sex                   male\n",
       "age                     35\n",
       "sibsp                    0\n",
       "parch                    0\n",
       "fare                  10.5\n",
       "embarked                 S\n",
       "class               Second\n",
       "who                    man\n",
       "adult_male            True\n",
       "deck                   NaN\n",
       "embark_town    Southampton\n",
       "alive                   no\n",
       "alone                 True\n",
       "Name: 812, dtype: object"
      ]
     },
     "metadata": {},
     "output_type": "display_data"
    },
    {
     "data": {
      "text/plain": [
       "survived                 0\n",
       "pclass                   3\n",
       "sex                 female\n",
       "age                      6\n",
       "sibsp                    4\n",
       "parch                    2\n",
       "fare                31.275\n",
       "embarked                 S\n",
       "class                Third\n",
       "who                  child\n",
       "adult_male           False\n",
       "deck                   NaN\n",
       "embark_town    Southampton\n",
       "alive                   no\n",
       "alone                False\n",
       "Name: 813, dtype: object"
      ]
     },
     "metadata": {},
     "output_type": "display_data"
    },
    {
     "data": {
      "text/plain": [
       "survived                 0\n",
       "pclass                   3\n",
       "sex                   male\n",
       "age                   30.5\n",
       "sibsp                    0\n",
       "parch                    0\n",
       "fare                  8.05\n",
       "embarked                 S\n",
       "class                Third\n",
       "who                    man\n",
       "adult_male            True\n",
       "deck                   NaN\n",
       "embark_town    Southampton\n",
       "alive                   no\n",
       "alone                 True\n",
       "Name: 814, dtype: object"
      ]
     },
     "metadata": {},
     "output_type": "display_data"
    },
    {
     "data": {
      "text/plain": [
       "survived                 0\n",
       "pclass                   3\n",
       "sex                 female\n",
       "age                     23\n",
       "sibsp                    0\n",
       "parch                    0\n",
       "fare                 7.925\n",
       "embarked                 S\n",
       "class                Third\n",
       "who                  woman\n",
       "adult_male           False\n",
       "deck                   NaN\n",
       "embark_town    Southampton\n",
       "alive                   no\n",
       "alone                 True\n",
       "Name: 816, dtype: object"
      ]
     },
     "metadata": {},
     "output_type": "display_data"
    },
    {
     "data": {
      "text/plain": [
       "survived               0\n",
       "pclass                 2\n",
       "sex                 male\n",
       "age                   31\n",
       "sibsp                  1\n",
       "parch                  1\n",
       "fare             37.0042\n",
       "embarked               C\n",
       "class             Second\n",
       "who                  man\n",
       "adult_male          True\n",
       "deck                 NaN\n",
       "embark_town    Cherbourg\n",
       "alive                 no\n",
       "alone              False\n",
       "Name: 817, dtype: object"
      ]
     },
     "metadata": {},
     "output_type": "display_data"
    },
    {
     "data": {
      "text/plain": [
       "survived                 0\n",
       "pclass                   3\n",
       "sex                   male\n",
       "age                     43\n",
       "sibsp                    0\n",
       "parch                    0\n",
       "fare                  6.45\n",
       "embarked                 S\n",
       "class                Third\n",
       "who                    man\n",
       "adult_male            True\n",
       "deck                   NaN\n",
       "embark_town    Southampton\n",
       "alive                   no\n",
       "alone                 True\n",
       "Name: 818, dtype: object"
      ]
     },
     "metadata": {},
     "output_type": "display_data"
    },
    {
     "data": {
      "text/plain": [
       "survived                 0\n",
       "pclass                   3\n",
       "sex                   male\n",
       "age                     10\n",
       "sibsp                    3\n",
       "parch                    2\n",
       "fare                  27.9\n",
       "embarked                 S\n",
       "class                Third\n",
       "who                  child\n",
       "adult_male           False\n",
       "deck                   NaN\n",
       "embark_town    Southampton\n",
       "alive                   no\n",
       "alone                False\n",
       "Name: 819, dtype: object"
      ]
     },
     "metadata": {},
     "output_type": "display_data"
    },
    {
     "data": {
      "text/plain": [
       "survived                 1\n",
       "pclass                   3\n",
       "sex                 female\n",
       "age                     27\n",
       "sibsp                    0\n",
       "parch                    1\n",
       "fare                12.475\n",
       "embarked                 S\n",
       "class                Third\n",
       "who                  woman\n",
       "adult_male           False\n",
       "deck                     E\n",
       "embark_town    Southampton\n",
       "alive                  yes\n",
       "alone                False\n",
       "Name: 823, dtype: object"
      ]
     },
     "metadata": {},
     "output_type": "display_data"
    },
    {
     "data": {
      "text/plain": [
       "survived                 0\n",
       "pclass                   3\n",
       "sex                   male\n",
       "age                      2\n",
       "sibsp                    4\n",
       "parch                    1\n",
       "fare               39.6875\n",
       "embarked                 S\n",
       "class                Third\n",
       "who                  child\n",
       "adult_male           False\n",
       "deck                   NaN\n",
       "embark_town    Southampton\n",
       "alive                   no\n",
       "alone                False\n",
       "Name: 824, dtype: object"
      ]
     },
     "metadata": {},
     "output_type": "display_data"
    },
    {
     "data": {
      "text/plain": [
       "survived                0\n",
       "pclass                  3\n",
       "sex                  male\n",
       "age                   NaN\n",
       "sibsp                   0\n",
       "parch                   0\n",
       "fare                 6.95\n",
       "embarked                Q\n",
       "class               Third\n",
       "who                   man\n",
       "adult_male           True\n",
       "deck                  NaN\n",
       "embark_town    Queenstown\n",
       "alive                  no\n",
       "alone                True\n",
       "Name: 825, dtype: object"
      ]
     },
     "metadata": {},
     "output_type": "display_data"
    },
    {
     "data": {
      "text/plain": [
       "survived               1\n",
       "pclass                 2\n",
       "sex                 male\n",
       "age                    1\n",
       "sibsp                  0\n",
       "parch                  2\n",
       "fare             37.0042\n",
       "embarked               C\n",
       "class             Second\n",
       "who                child\n",
       "adult_male         False\n",
       "deck                 NaN\n",
       "embark_town    Cherbourg\n",
       "alive                yes\n",
       "alone              False\n",
       "Name: 827, dtype: object"
      ]
     },
     "metadata": {},
     "output_type": "display_data"
    },
    {
     "data": {
      "text/plain": [
       "survived               1\n",
       "pclass                 3\n",
       "sex               female\n",
       "age                   15\n",
       "sibsp                  1\n",
       "parch                  0\n",
       "fare             14.4542\n",
       "embarked               C\n",
       "class              Third\n",
       "who                child\n",
       "adult_male         False\n",
       "deck                 NaN\n",
       "embark_town    Cherbourg\n",
       "alive                yes\n",
       "alone              False\n",
       "Name: 830, dtype: object"
      ]
     },
     "metadata": {},
     "output_type": "display_data"
    },
    {
     "data": {
      "text/plain": [
       "survived                 1\n",
       "pclass                   2\n",
       "sex                   male\n",
       "age                   0.83\n",
       "sibsp                    1\n",
       "parch                    1\n",
       "fare                 18.75\n",
       "embarked                 S\n",
       "class               Second\n",
       "who                  child\n",
       "adult_male           False\n",
       "deck                   NaN\n",
       "embark_town    Southampton\n",
       "alive                  yes\n",
       "alone                False\n",
       "Name: 831, dtype: object"
      ]
     },
     "metadata": {},
     "output_type": "display_data"
    },
    {
     "data": {
      "text/plain": [
       "survived                 0\n",
       "pclass                   3\n",
       "sex                   male\n",
       "age                     23\n",
       "sibsp                    0\n",
       "parch                    0\n",
       "fare                7.8542\n",
       "embarked                 S\n",
       "class                Third\n",
       "who                    man\n",
       "adult_male            True\n",
       "deck                   NaN\n",
       "embark_town    Southampton\n",
       "alive                   no\n",
       "alone                 True\n",
       "Name: 833, dtype: object"
      ]
     },
     "metadata": {},
     "output_type": "display_data"
    },
    {
     "data": {
      "text/plain": [
       "survived                 0\n",
       "pclass                   3\n",
       "sex                   male\n",
       "age                    NaN\n",
       "sibsp                    0\n",
       "parch                    0\n",
       "fare                  8.05\n",
       "embarked                 S\n",
       "class                Third\n",
       "who                    man\n",
       "adult_male            True\n",
       "deck                   NaN\n",
       "embark_town    Southampton\n",
       "alive                   no\n",
       "alone                 True\n",
       "Name: 837, dtype: object"
      ]
     },
     "metadata": {},
     "output_type": "display_data"
    },
    {
     "data": {
      "text/plain": [
       "survived                 1\n",
       "pclass                   3\n",
       "sex                   male\n",
       "age                     32\n",
       "sibsp                    0\n",
       "parch                    0\n",
       "fare               56.4958\n",
       "embarked                 S\n",
       "class                Third\n",
       "who                    man\n",
       "adult_male            True\n",
       "deck                   NaN\n",
       "embark_town    Southampton\n",
       "alive                  yes\n",
       "alone                 True\n",
       "Name: 838, dtype: object"
      ]
     },
     "metadata": {},
     "output_type": "display_data"
    },
    {
     "data": {
      "text/plain": [
       "survived                 0\n",
       "pclass                   3\n",
       "sex                   male\n",
       "age                     20\n",
       "sibsp                    0\n",
       "parch                    0\n",
       "fare                 7.925\n",
       "embarked                 S\n",
       "class                Third\n",
       "who                    man\n",
       "adult_male            True\n",
       "deck                   NaN\n",
       "embark_town    Southampton\n",
       "alive                   no\n",
       "alone                 True\n",
       "Name: 840, dtype: object"
      ]
     },
     "metadata": {},
     "output_type": "display_data"
    },
    {
     "data": {
      "text/plain": [
       "survived                 0\n",
       "pclass                   2\n",
       "sex                   male\n",
       "age                     16\n",
       "sibsp                    0\n",
       "parch                    0\n",
       "fare                  10.5\n",
       "embarked                 S\n",
       "class               Second\n",
       "who                    man\n",
       "adult_male            True\n",
       "deck                   NaN\n",
       "embark_town    Southampton\n",
       "alive                   no\n",
       "alone                 True\n",
       "Name: 841, dtype: object"
      ]
     },
     "metadata": {},
     "output_type": "display_data"
    },
    {
     "data": {
      "text/plain": [
       "survived               0\n",
       "pclass                 3\n",
       "sex                 male\n",
       "age                 34.5\n",
       "sibsp                  0\n",
       "parch                  0\n",
       "fare              6.4375\n",
       "embarked               C\n",
       "class              Third\n",
       "who                  man\n",
       "adult_male          True\n",
       "deck                 NaN\n",
       "embark_town    Cherbourg\n",
       "alive                 no\n",
       "alone               True\n",
       "Name: 843, dtype: object"
      ]
     },
     "metadata": {},
     "output_type": "display_data"
    },
    {
     "data": {
      "text/plain": [
       "survived                 0\n",
       "pclass                   3\n",
       "sex                   male\n",
       "age                     17\n",
       "sibsp                    0\n",
       "parch                    0\n",
       "fare                8.6625\n",
       "embarked                 S\n",
       "class                Third\n",
       "who                    man\n",
       "adult_male            True\n",
       "deck                   NaN\n",
       "embark_town    Southampton\n",
       "alive                   no\n",
       "alone                 True\n",
       "Name: 844, dtype: object"
      ]
     },
     "metadata": {},
     "output_type": "display_data"
    },
    {
     "data": {
      "text/plain": [
       "survived                 0\n",
       "pclass                   3\n",
       "sex                   male\n",
       "age                     42\n",
       "sibsp                    0\n",
       "parch                    0\n",
       "fare                  7.55\n",
       "embarked                 S\n",
       "class                Third\n",
       "who                    man\n",
       "adult_male            True\n",
       "deck                   NaN\n",
       "embark_town    Southampton\n",
       "alive                   no\n",
       "alone                 True\n",
       "Name: 845, dtype: object"
      ]
     },
     "metadata": {},
     "output_type": "display_data"
    },
    {
     "data": {
      "text/plain": [
       "survived               0\n",
       "pclass                 3\n",
       "sex                 male\n",
       "age                   35\n",
       "sibsp                  0\n",
       "parch                  0\n",
       "fare              7.8958\n",
       "embarked               C\n",
       "class              Third\n",
       "who                  man\n",
       "adult_male          True\n",
       "deck                 NaN\n",
       "embark_town    Cherbourg\n",
       "alive                 no\n",
       "alone               True\n",
       "Name: 847, dtype: object"
      ]
     },
     "metadata": {},
     "output_type": "display_data"
    },
    {
     "data": {
      "text/plain": [
       "survived                 0\n",
       "pclass                   2\n",
       "sex                   male\n",
       "age                     28\n",
       "sibsp                    0\n",
       "parch                    1\n",
       "fare                    33\n",
       "embarked                 S\n",
       "class               Second\n",
       "who                    man\n",
       "adult_male            True\n",
       "deck                   NaN\n",
       "embark_town    Southampton\n",
       "alive                   no\n",
       "alone                False\n",
       "Name: 848, dtype: object"
      ]
     },
     "metadata": {},
     "output_type": "display_data"
    },
    {
     "data": {
      "text/plain": [
       "survived                 0\n",
       "pclass                   3\n",
       "sex                   male\n",
       "age                      4\n",
       "sibsp                    4\n",
       "parch                    2\n",
       "fare                31.275\n",
       "embarked                 S\n",
       "class                Third\n",
       "who                  child\n",
       "adult_male           False\n",
       "deck                   NaN\n",
       "embark_town    Southampton\n",
       "alive                   no\n",
       "alone                False\n",
       "Name: 850, dtype: object"
      ]
     },
     "metadata": {},
     "output_type": "display_data"
    },
    {
     "data": {
      "text/plain": [
       "survived               0\n",
       "pclass                 3\n",
       "sex               female\n",
       "age                    9\n",
       "sibsp                  1\n",
       "parch                  1\n",
       "fare             15.2458\n",
       "embarked               C\n",
       "class              Third\n",
       "who                child\n",
       "adult_male         False\n",
       "deck                 NaN\n",
       "embark_town    Cherbourg\n",
       "alive                 no\n",
       "alone              False\n",
       "Name: 852, dtype: object"
      ]
     },
     "metadata": {},
     "output_type": "display_data"
    },
    {
     "data": {
      "text/plain": [
       "survived                 1\n",
       "pclass                   3\n",
       "sex                 female\n",
       "age                     18\n",
       "sibsp                    0\n",
       "parch                    1\n",
       "fare                  9.35\n",
       "embarked                 S\n",
       "class                Third\n",
       "who                  woman\n",
       "adult_male           False\n",
       "deck                   NaN\n",
       "embark_town    Southampton\n",
       "alive                  yes\n",
       "alone                False\n",
       "Name: 855, dtype: object"
      ]
     },
     "metadata": {},
     "output_type": "display_data"
    },
    {
     "data": {
      "text/plain": [
       "survived               1\n",
       "pclass                 3\n",
       "sex               female\n",
       "age                   24\n",
       "sibsp                  0\n",
       "parch                  3\n",
       "fare             19.2583\n",
       "embarked               C\n",
       "class              Third\n",
       "who                woman\n",
       "adult_male         False\n",
       "deck                 NaN\n",
       "embark_town    Cherbourg\n",
       "alive                yes\n",
       "alone              False\n",
       "Name: 858, dtype: object"
      ]
     },
     "metadata": {},
     "output_type": "display_data"
    },
    {
     "data": {
      "text/plain": [
       "survived               0\n",
       "pclass                 3\n",
       "sex                 male\n",
       "age                  NaN\n",
       "sibsp                  0\n",
       "parch                  0\n",
       "fare              7.2292\n",
       "embarked               C\n",
       "class              Third\n",
       "who                  man\n",
       "adult_male          True\n",
       "deck                 NaN\n",
       "embark_town    Cherbourg\n",
       "alive                 no\n",
       "alone               True\n",
       "Name: 859, dtype: object"
      ]
     },
     "metadata": {},
     "output_type": "display_data"
    },
    {
     "data": {
      "text/plain": [
       "survived                 0\n",
       "pclass                   3\n",
       "sex                   male\n",
       "age                     41\n",
       "sibsp                    2\n",
       "parch                    0\n",
       "fare               14.1083\n",
       "embarked                 S\n",
       "class                Third\n",
       "who                    man\n",
       "adult_male            True\n",
       "deck                   NaN\n",
       "embark_town    Southampton\n",
       "alive                   no\n",
       "alone                False\n",
       "Name: 860, dtype: object"
      ]
     },
     "metadata": {},
     "output_type": "display_data"
    },
    {
     "data": {
      "text/plain": [
       "survived                 0\n",
       "pclass                   2\n",
       "sex                   male\n",
       "age                     21\n",
       "sibsp                    1\n",
       "parch                    0\n",
       "fare                  11.5\n",
       "embarked                 S\n",
       "class               Second\n",
       "who                    man\n",
       "adult_male            True\n",
       "deck                   NaN\n",
       "embark_town    Southampton\n",
       "alive                   no\n",
       "alone                False\n",
       "Name: 861, dtype: object"
      ]
     },
     "metadata": {},
     "output_type": "display_data"
    },
    {
     "data": {
      "text/plain": [
       "survived                 0\n",
       "pclass                   3\n",
       "sex                 female\n",
       "age                    NaN\n",
       "sibsp                    8\n",
       "parch                    2\n",
       "fare                 69.55\n",
       "embarked                 S\n",
       "class                Third\n",
       "who                  woman\n",
       "adult_male           False\n",
       "deck                   NaN\n",
       "embark_town    Southampton\n",
       "alive                   no\n",
       "alone                False\n",
       "Name: 863, dtype: object"
      ]
     },
     "metadata": {},
     "output_type": "display_data"
    },
    {
     "data": {
      "text/plain": [
       "survived                 0\n",
       "pclass                   2\n",
       "sex                   male\n",
       "age                     24\n",
       "sibsp                    0\n",
       "parch                    0\n",
       "fare                    13\n",
       "embarked                 S\n",
       "class               Second\n",
       "who                    man\n",
       "adult_male            True\n",
       "deck                   NaN\n",
       "embark_town    Southampton\n",
       "alive                   no\n",
       "alone                 True\n",
       "Name: 864, dtype: object"
      ]
     },
     "metadata": {},
     "output_type": "display_data"
    },
    {
     "data": {
      "text/plain": [
       "survived                 1\n",
       "pclass                   2\n",
       "sex                 female\n",
       "age                     42\n",
       "sibsp                    0\n",
       "parch                    0\n",
       "fare                    13\n",
       "embarked                 S\n",
       "class               Second\n",
       "who                  woman\n",
       "adult_male           False\n",
       "deck                   NaN\n",
       "embark_town    Southampton\n",
       "alive                  yes\n",
       "alone                 True\n",
       "Name: 865, dtype: object"
      ]
     },
     "metadata": {},
     "output_type": "display_data"
    },
    {
     "data": {
      "text/plain": [
       "survived               1\n",
       "pclass                 2\n",
       "sex               female\n",
       "age                   27\n",
       "sibsp                  1\n",
       "parch                  0\n",
       "fare             13.8583\n",
       "embarked               C\n",
       "class             Second\n",
       "who                woman\n",
       "adult_male         False\n",
       "deck                 NaN\n",
       "embark_town    Cherbourg\n",
       "alive                yes\n",
       "alone              False\n",
       "Name: 866, dtype: object"
      ]
     },
     "metadata": {},
     "output_type": "display_data"
    },
    {
     "data": {
      "text/plain": [
       "survived                 0\n",
       "pclass                   3\n",
       "sex                   male\n",
       "age                    NaN\n",
       "sibsp                    0\n",
       "parch                    0\n",
       "fare                   9.5\n",
       "embarked                 S\n",
       "class                Third\n",
       "who                    man\n",
       "adult_male            True\n",
       "deck                   NaN\n",
       "embark_town    Southampton\n",
       "alive                   no\n",
       "alone                 True\n",
       "Name: 868, dtype: object"
      ]
     },
     "metadata": {},
     "output_type": "display_data"
    },
    {
     "data": {
      "text/plain": [
       "survived                 1\n",
       "pclass                   3\n",
       "sex                   male\n",
       "age                      4\n",
       "sibsp                    1\n",
       "parch                    1\n",
       "fare               11.1333\n",
       "embarked                 S\n",
       "class                Third\n",
       "who                  child\n",
       "adult_male           False\n",
       "deck                   NaN\n",
       "embark_town    Southampton\n",
       "alive                  yes\n",
       "alone                False\n",
       "Name: 869, dtype: object"
      ]
     },
     "metadata": {},
     "output_type": "display_data"
    },
    {
     "data": {
      "text/plain": [
       "survived               1\n",
       "pclass                 2\n",
       "sex               female\n",
       "age                   28\n",
       "sibsp                  1\n",
       "parch                  0\n",
       "fare                  24\n",
       "embarked               C\n",
       "class             Second\n",
       "who                woman\n",
       "adult_male         False\n",
       "deck                 NaN\n",
       "embark_town    Cherbourg\n",
       "alive                yes\n",
       "alone              False\n",
       "Name: 874, dtype: object"
      ]
     },
     "metadata": {},
     "output_type": "display_data"
    },
    {
     "data": {
      "text/plain": [
       "survived                 0\n",
       "pclass                   3\n",
       "sex                   male\n",
       "age                     20\n",
       "sibsp                    0\n",
       "parch                    0\n",
       "fare                9.8458\n",
       "embarked                 S\n",
       "class                Third\n",
       "who                    man\n",
       "adult_male            True\n",
       "deck                   NaN\n",
       "embark_town    Southampton\n",
       "alive                   no\n",
       "alone                 True\n",
       "Name: 876, dtype: object"
      ]
     },
     "metadata": {},
     "output_type": "display_data"
    },
    {
     "data": {
      "text/plain": [
       "survived                 0\n",
       "pclass                   3\n",
       "sex                   male\n",
       "age                     19\n",
       "sibsp                    0\n",
       "parch                    0\n",
       "fare                7.8958\n",
       "embarked                 S\n",
       "class                Third\n",
       "who                    man\n",
       "adult_male            True\n",
       "deck                   NaN\n",
       "embark_town    Southampton\n",
       "alive                   no\n",
       "alone                 True\n",
       "Name: 877, dtype: object"
      ]
     },
     "metadata": {},
     "output_type": "display_data"
    },
    {
     "data": {
      "text/plain": [
       "survived                 0\n",
       "pclass                   3\n",
       "sex                   male\n",
       "age                    NaN\n",
       "sibsp                    0\n",
       "parch                    0\n",
       "fare                7.8958\n",
       "embarked                 S\n",
       "class                Third\n",
       "who                    man\n",
       "adult_male            True\n",
       "deck                   NaN\n",
       "embark_town    Southampton\n",
       "alive                   no\n",
       "alone                 True\n",
       "Name: 878, dtype: object"
      ]
     },
     "metadata": {},
     "output_type": "display_data"
    },
    {
     "data": {
      "text/plain": [
       "survived                 1\n",
       "pclass                   2\n",
       "sex                 female\n",
       "age                     25\n",
       "sibsp                    0\n",
       "parch                    1\n",
       "fare                    26\n",
       "embarked                 S\n",
       "class               Second\n",
       "who                  woman\n",
       "adult_male           False\n",
       "deck                   NaN\n",
       "embark_town    Southampton\n",
       "alive                  yes\n",
       "alone                False\n",
       "Name: 880, dtype: object"
      ]
     },
     "metadata": {},
     "output_type": "display_data"
    },
    {
     "data": {
      "text/plain": [
       "survived                 0\n",
       "pclass                   3\n",
       "sex                   male\n",
       "age                     33\n",
       "sibsp                    0\n",
       "parch                    0\n",
       "fare                7.8958\n",
       "embarked                 S\n",
       "class                Third\n",
       "who                    man\n",
       "adult_male            True\n",
       "deck                   NaN\n",
       "embark_town    Southampton\n",
       "alive                   no\n",
       "alone                 True\n",
       "Name: 881, dtype: object"
      ]
     },
     "metadata": {},
     "output_type": "display_data"
    },
    {
     "data": {
      "text/plain": [
       "survived                 0\n",
       "pclass                   3\n",
       "sex                 female\n",
       "age                     22\n",
       "sibsp                    0\n",
       "parch                    0\n",
       "fare               10.5167\n",
       "embarked                 S\n",
       "class                Third\n",
       "who                  woman\n",
       "adult_male           False\n",
       "deck                   NaN\n",
       "embark_town    Southampton\n",
       "alive                   no\n",
       "alone                 True\n",
       "Name: 882, dtype: object"
      ]
     },
     "metadata": {},
     "output_type": "display_data"
    },
    {
     "data": {
      "text/plain": [
       "survived                 0\n",
       "pclass                   3\n",
       "sex                   male\n",
       "age                     25\n",
       "sibsp                    0\n",
       "parch                    0\n",
       "fare                  7.05\n",
       "embarked                 S\n",
       "class                Third\n",
       "who                    man\n",
       "adult_male            True\n",
       "deck                   NaN\n",
       "embark_town    Southampton\n",
       "alive                   no\n",
       "alone                 True\n",
       "Name: 884, dtype: object"
      ]
     },
     "metadata": {},
     "output_type": "display_data"
    },
    {
     "data": {
      "text/plain": [
       "survived                 0\n",
       "pclass                   2\n",
       "sex                   male\n",
       "age                     27\n",
       "sibsp                    0\n",
       "parch                    0\n",
       "fare                    13\n",
       "embarked                 S\n",
       "class               Second\n",
       "who                    man\n",
       "adult_male            True\n",
       "deck                   NaN\n",
       "embark_town    Southampton\n",
       "alive                   no\n",
       "alone                 True\n",
       "Name: 886, dtype: object"
      ]
     },
     "metadata": {},
     "output_type": "display_data"
    },
    {
     "data": {
      "text/plain": [
       "survived                 0\n",
       "pclass                   3\n",
       "sex                 female\n",
       "age                    NaN\n",
       "sibsp                    1\n",
       "parch                    2\n",
       "fare                 23.45\n",
       "embarked                 S\n",
       "class                Third\n",
       "who                  woman\n",
       "adult_male           False\n",
       "deck                   NaN\n",
       "embark_town    Southampton\n",
       "alive                   no\n",
       "alone                False\n",
       "Name: 888, dtype: object"
      ]
     },
     "metadata": {},
     "output_type": "display_data"
    },
    {
     "data": {
      "text/plain": [
       "survived                0\n",
       "pclass                  3\n",
       "sex                  male\n",
       "age                    32\n",
       "sibsp                   0\n",
       "parch                   0\n",
       "fare                 7.75\n",
       "embarked                Q\n",
       "class               Third\n",
       "who                   man\n",
       "adult_male           True\n",
       "deck                  NaN\n",
       "embark_town    Queenstown\n",
       "alive                  no\n",
       "alone                True\n",
       "Name: 890, dtype: object"
      ]
     },
     "metadata": {},
     "output_type": "display_data"
    },
    {
     "ename": "IndexError",
     "evalue": "single positional indexer is out-of-bounds",
     "output_type": "error",
     "traceback": [
      "\u001b[1;31m---------------------------------------------------------------------------\u001b[0m",
      "\u001b[1;31mIndexError\u001b[0m                                Traceback (most recent call last)",
      "\u001b[1;32m<ipython-input-28-148f80620543>\u001b[0m in \u001b[0;36m<module>\u001b[1;34m\u001b[0m\n\u001b[0;32m      1\u001b[0m \u001b[1;31m# 반복문을 이용하여 출력을 한다면?\u001b[0m\u001b[1;33m\u001b[0m\u001b[1;33m\u001b[0m\u001b[1;33m\u001b[0m\u001b[0m\n\u001b[0;32m      2\u001b[0m \u001b[1;32mfor\u001b[0m \u001b[0midx\u001b[0m \u001b[1;32min\u001b[0m \u001b[0mgrp_filter\u001b[0m\u001b[1;33m.\u001b[0m\u001b[0mindex\u001b[0m \u001b[1;33m:\u001b[0m\u001b[1;33m\u001b[0m\u001b[1;33m\u001b[0m\u001b[0m\n\u001b[1;32m----> 3\u001b[1;33m     \u001b[0mdisplay\u001b[0m\u001b[1;33m(\u001b[0m\u001b[0mgrp_filter\u001b[0m\u001b[1;33m.\u001b[0m\u001b[0miloc\u001b[0m\u001b[1;33m[\u001b[0m\u001b[0midx\u001b[0m\u001b[1;33m]\u001b[0m\u001b[1;33m)\u001b[0m\u001b[1;33m\u001b[0m\u001b[1;33m\u001b[0m\u001b[0m\n\u001b[0m\u001b[0;32m      4\u001b[0m \u001b[1;33m\u001b[0m\u001b[0m\n",
      "\u001b[1;32m~\\anaconda3\\lib\\site-packages\\pandas\\core\\indexing.py\u001b[0m in \u001b[0;36m__getitem__\u001b[1;34m(self, key)\u001b[0m\n\u001b[0;32m    877\u001b[0m \u001b[1;33m\u001b[0m\u001b[0m\n\u001b[0;32m    878\u001b[0m             \u001b[0mmaybe_callable\u001b[0m \u001b[1;33m=\u001b[0m \u001b[0mcom\u001b[0m\u001b[1;33m.\u001b[0m\u001b[0mapply_if_callable\u001b[0m\u001b[1;33m(\u001b[0m\u001b[0mkey\u001b[0m\u001b[1;33m,\u001b[0m \u001b[0mself\u001b[0m\u001b[1;33m.\u001b[0m\u001b[0mobj\u001b[0m\u001b[1;33m)\u001b[0m\u001b[1;33m\u001b[0m\u001b[1;33m\u001b[0m\u001b[0m\n\u001b[1;32m--> 879\u001b[1;33m             \u001b[1;32mreturn\u001b[0m \u001b[0mself\u001b[0m\u001b[1;33m.\u001b[0m\u001b[0m_getitem_axis\u001b[0m\u001b[1;33m(\u001b[0m\u001b[0mmaybe_callable\u001b[0m\u001b[1;33m,\u001b[0m \u001b[0maxis\u001b[0m\u001b[1;33m=\u001b[0m\u001b[0maxis\u001b[0m\u001b[1;33m)\u001b[0m\u001b[1;33m\u001b[0m\u001b[1;33m\u001b[0m\u001b[0m\n\u001b[0m\u001b[0;32m    880\u001b[0m \u001b[1;33m\u001b[0m\u001b[0m\n\u001b[0;32m    881\u001b[0m     \u001b[1;32mdef\u001b[0m \u001b[0m_is_scalar_access\u001b[0m\u001b[1;33m(\u001b[0m\u001b[0mself\u001b[0m\u001b[1;33m,\u001b[0m \u001b[0mkey\u001b[0m\u001b[1;33m:\u001b[0m \u001b[0mTuple\u001b[0m\u001b[1;33m)\u001b[0m\u001b[1;33m:\u001b[0m\u001b[1;33m\u001b[0m\u001b[1;33m\u001b[0m\u001b[0m\n",
      "\u001b[1;32m~\\anaconda3\\lib\\site-packages\\pandas\\core\\indexing.py\u001b[0m in \u001b[0;36m_getitem_axis\u001b[1;34m(self, key, axis)\u001b[0m\n\u001b[0;32m   1494\u001b[0m \u001b[1;33m\u001b[0m\u001b[0m\n\u001b[0;32m   1495\u001b[0m             \u001b[1;31m# validate the location\u001b[0m\u001b[1;33m\u001b[0m\u001b[1;33m\u001b[0m\u001b[1;33m\u001b[0m\u001b[0m\n\u001b[1;32m-> 1496\u001b[1;33m             \u001b[0mself\u001b[0m\u001b[1;33m.\u001b[0m\u001b[0m_validate_integer\u001b[0m\u001b[1;33m(\u001b[0m\u001b[0mkey\u001b[0m\u001b[1;33m,\u001b[0m \u001b[0maxis\u001b[0m\u001b[1;33m)\u001b[0m\u001b[1;33m\u001b[0m\u001b[1;33m\u001b[0m\u001b[0m\n\u001b[0m\u001b[0;32m   1497\u001b[0m \u001b[1;33m\u001b[0m\u001b[0m\n\u001b[0;32m   1498\u001b[0m             \u001b[1;32mreturn\u001b[0m \u001b[0mself\u001b[0m\u001b[1;33m.\u001b[0m\u001b[0mobj\u001b[0m\u001b[1;33m.\u001b[0m\u001b[0m_ixs\u001b[0m\u001b[1;33m(\u001b[0m\u001b[0mkey\u001b[0m\u001b[1;33m,\u001b[0m \u001b[0maxis\u001b[0m\u001b[1;33m=\u001b[0m\u001b[0maxis\u001b[0m\u001b[1;33m)\u001b[0m\u001b[1;33m\u001b[0m\u001b[1;33m\u001b[0m\u001b[0m\n",
      "\u001b[1;32m~\\anaconda3\\lib\\site-packages\\pandas\\core\\indexing.py\u001b[0m in \u001b[0;36m_validate_integer\u001b[1;34m(self, key, axis)\u001b[0m\n\u001b[0;32m   1435\u001b[0m         \u001b[0mlen_axis\u001b[0m \u001b[1;33m=\u001b[0m \u001b[0mlen\u001b[0m\u001b[1;33m(\u001b[0m\u001b[0mself\u001b[0m\u001b[1;33m.\u001b[0m\u001b[0mobj\u001b[0m\u001b[1;33m.\u001b[0m\u001b[0m_get_axis\u001b[0m\u001b[1;33m(\u001b[0m\u001b[0maxis\u001b[0m\u001b[1;33m)\u001b[0m\u001b[1;33m)\u001b[0m\u001b[1;33m\u001b[0m\u001b[1;33m\u001b[0m\u001b[0m\n\u001b[0;32m   1436\u001b[0m         \u001b[1;32mif\u001b[0m \u001b[0mkey\u001b[0m \u001b[1;33m>=\u001b[0m \u001b[0mlen_axis\u001b[0m \u001b[1;32mor\u001b[0m \u001b[0mkey\u001b[0m \u001b[1;33m<\u001b[0m \u001b[1;33m-\u001b[0m\u001b[0mlen_axis\u001b[0m\u001b[1;33m:\u001b[0m\u001b[1;33m\u001b[0m\u001b[1;33m\u001b[0m\u001b[0m\n\u001b[1;32m-> 1437\u001b[1;33m             \u001b[1;32mraise\u001b[0m \u001b[0mIndexError\u001b[0m\u001b[1;33m(\u001b[0m\u001b[1;34m\"single positional indexer is out-of-bounds\"\u001b[0m\u001b[1;33m)\u001b[0m\u001b[1;33m\u001b[0m\u001b[1;33m\u001b[0m\u001b[0m\n\u001b[0m\u001b[0;32m   1438\u001b[0m \u001b[1;33m\u001b[0m\u001b[0m\n\u001b[0;32m   1439\u001b[0m     \u001b[1;31m# -------------------------------------------------------------------\u001b[0m\u001b[1;33m\u001b[0m\u001b[1;33m\u001b[0m\u001b[1;33m\u001b[0m\u001b[0m\n",
      "\u001b[1;31mIndexError\u001b[0m: single positional indexer is out-of-bounds"
     ]
    }
   ],
   "source": [
    "# 반복문을 이용하여 출력을 한다면?\n",
    "for idx in grp_filter.index : \n",
    "    display(grp_filter.iloc[idx])\n",
    "        "
   ]
  },
  {
   "cell_type": "markdown",
   "metadata": {},
   "source": [
    "### pivot(index , columns , value)\n",
    "### pivot_table(data , values , index , columns , aggfunc='mean')"
   ]
  },
  {
   "cell_type": "code",
   "execution_count": null,
   "metadata": {},
   "outputs": [],
   "source": [
    "# sex,  pclass\n",
    "df = titanic_datasets.loc[ :  , ['sex', 'pclass']] \n",
    "type( df )"
   ]
  },
  {
   "cell_type": "code",
   "execution_count": null,
   "metadata": {},
   "outputs": [],
   "source": [
    "df = pd.DataFrame(titanic_datasets , columns=['sex' , 'pclass']) \n",
    "type( df )"
   ]
  },
  {
   "cell_type": "code",
   "execution_count": null,
   "metadata": {},
   "outputs": [],
   "source": [
    "# 성별과 객실등급에 따른 승객 수 집계하고 싶다면?\n",
    "# groupby\n",
    "df = titanic_datasets.groupby(['sex' , 'pclass']).size()\n",
    "df"
   ]
  },
  {
   "cell_type": "code",
   "execution_count": null,
   "metadata": {},
   "outputs": [],
   "source": [
    "df = titanic_datasets.groupby(['sex' , 'pclass']).size().reset_index(name='cnt')\n",
    "# type(df)\n",
    "\n",
    "df\n"
   ]
  },
  {
   "cell_type": "code",
   "execution_count": null,
   "metadata": {},
   "outputs": [],
   "source": [
    "df.pivot('sex' , 'pclass' , 'cnt')  "
   ]
  },
  {
   "cell_type": "code",
   "execution_count": null,
   "metadata": {},
   "outputs": [],
   "source": [
    "# 성별과 생존여부에 따른 승객 수 집계한다면?\n",
    "df = titanic_datasets.groupby(['sex' , 'survived']).size().reset_index(name='cnt')\n",
    "df.pivot('sex' , 'survived' , 'cnt')  \n"
   ]
  },
  {
   "cell_type": "code",
   "execution_count": null,
   "metadata": {},
   "outputs": [],
   "source": [
    "# 성별과 객식등급('pclass')에 따른 승객 수 집계\n",
    "# pivot_table(  , aggfunc = mean | sum) \n",
    "\n",
    "titanic_datasets['cnt'] = 1 \n",
    "titanic_datasets"
   ]
  },
  {
   "cell_type": "code",
   "execution_count": null,
   "metadata": {},
   "outputs": [],
   "source": [
    "# titanic_datasets.pivot_table(index='sex' , columns='pclass' , values='cnt' , aggfunc=np.sum)\n",
    "# titanic_datasets.pivot_table(index='sex' , columns='survived' , values='cnt' , aggfunc=np.sum)\n",
    "titanic_datasets.pivot_table(index='sex' , columns='pclass' , values='cnt' , aggfunc=[np.sum , np.mean])"
   ]
  },
  {
   "cell_type": "code",
   "execution_count": null,
   "metadata": {},
   "outputs": [],
   "source": [
    "tips_datasets = sns.load_dataset('tips')\n",
    "tips_datasets.info()"
   ]
  },
  {
   "cell_type": "code",
   "execution_count": null,
   "metadata": {},
   "outputs": [],
   "source": [
    "# 식사대금 대비 팁의 비율이 어떤 경우에 가장 높은지를 찾는다면?\n",
    "tips_datasets['tip_pct'] = tips_datasets['tip'] / tips_datasets['total_bill']\n",
    "tips_datasets"
   ]
  },
  {
   "cell_type": "code",
   "execution_count": 29,
   "metadata": {},
   "outputs": [
    {
     "ename": "NameError",
     "evalue": "name 'tips_datasets' is not defined",
     "output_type": "error",
     "traceback": [
      "\u001b[1;31m---------------------------------------------------------------------------\u001b[0m",
      "\u001b[1;31mNameError\u001b[0m                                 Traceback (most recent call last)",
      "\u001b[1;32m<ipython-input-29-b4bd735e9c2e>\u001b[0m in \u001b[0;36m<module>\u001b[1;34m\u001b[0m\n\u001b[1;32m----> 1\u001b[1;33m \u001b[0mtips_datasets\u001b[0m\u001b[1;33m.\u001b[0m\u001b[0mdescribe\u001b[0m\u001b[1;33m(\u001b[0m\u001b[1;33m)\u001b[0m\u001b[1;33m\u001b[0m\u001b[1;33m\u001b[0m\u001b[0m\n\u001b[0m",
      "\u001b[1;31mNameError\u001b[0m: name 'tips_datasets' is not defined"
     ]
    }
   ],
   "source": [
    "tips_datasets.describe()"
   ]
  },
  {
   "cell_type": "code",
   "execution_count": 30,
   "metadata": {},
   "outputs": [
    {
     "ename": "NameError",
     "evalue": "name 'tips_datasets' is not defined",
     "output_type": "error",
     "traceback": [
      "\u001b[1;31m---------------------------------------------------------------------------\u001b[0m",
      "\u001b[1;31mNameError\u001b[0m                                 Traceback (most recent call last)",
      "\u001b[1;32m<ipython-input-30-50fd6f9fbf76>\u001b[0m in \u001b[0;36m<module>\u001b[1;34m\u001b[0m\n\u001b[1;32m----> 1\u001b[1;33m \u001b[0mtips_datasets\u001b[0m\u001b[1;33m\u001b[0m\u001b[1;33m\u001b[0m\u001b[0m\n\u001b[0m",
      "\u001b[1;31mNameError\u001b[0m: name 'tips_datasets' is not defined"
     ]
    }
   ],
   "source": [
    "tips_datasets"
   ]
  },
  {
   "cell_type": "code",
   "execution_count": 31,
   "metadata": {},
   "outputs": [
    {
     "ename": "NameError",
     "evalue": "name 'tips_datasets' is not defined",
     "output_type": "error",
     "traceback": [
      "\u001b[1;31m---------------------------------------------------------------------------\u001b[0m",
      "\u001b[1;31mNameError\u001b[0m                                 Traceback (most recent call last)",
      "\u001b[1;32m<ipython-input-31-fdc38366021c>\u001b[0m in \u001b[0;36m<module>\u001b[1;34m\u001b[0m\n\u001b[1;32m----> 1\u001b[1;33m \u001b[0mtips_datasets\u001b[0m\u001b[1;33m.\u001b[0m\u001b[0mgroupby\u001b[0m\u001b[1;33m(\u001b[0m\u001b[1;34m'sex'\u001b[0m\u001b[1;33m)\u001b[0m\u001b[1;33m.\u001b[0m\u001b[0msize\u001b[0m\u001b[1;33m(\u001b[0m\u001b[1;33m)\u001b[0m\u001b[1;33m\u001b[0m\u001b[1;33m\u001b[0m\u001b[0m\n\u001b[0m",
      "\u001b[1;31mNameError\u001b[0m: name 'tips_datasets' is not defined"
     ]
    }
   ],
   "source": [
    "tips_datasets.groupby('sex').size()"
   ]
  },
  {
   "cell_type": "code",
   "execution_count": 32,
   "metadata": {},
   "outputs": [
    {
     "ename": "NameError",
     "evalue": "name 'tips_datasets' is not defined",
     "output_type": "error",
     "traceback": [
      "\u001b[1;31m---------------------------------------------------------------------------\u001b[0m",
      "\u001b[1;31mNameError\u001b[0m                                 Traceback (most recent call last)",
      "\u001b[1;32m<ipython-input-32-47e983708771>\u001b[0m in \u001b[0;36m<module>\u001b[1;34m\u001b[0m\n\u001b[1;32m----> 1\u001b[1;33m \u001b[0mtips_datasets\u001b[0m\u001b[1;33m.\u001b[0m\u001b[0mgroupby\u001b[0m\u001b[1;33m(\u001b[0m\u001b[1;33m[\u001b[0m\u001b[1;34m'sex'\u001b[0m \u001b[1;33m,\u001b[0m \u001b[1;34m'smoker'\u001b[0m\u001b[1;33m]\u001b[0m \u001b[1;33m)\u001b[0m\u001b[1;33m.\u001b[0m\u001b[0mcount\u001b[0m\u001b[1;33m(\u001b[0m\u001b[1;33m)\u001b[0m\u001b[1;33m\u001b[0m\u001b[1;33m\u001b[0m\u001b[0m\n\u001b[0m",
      "\u001b[1;31mNameError\u001b[0m: name 'tips_datasets' is not defined"
     ]
    }
   ],
   "source": [
    "tips_datasets.groupby(['sex' , 'smoker'] ).count()"
   ]
  },
  {
   "cell_type": "code",
   "execution_count": 33,
   "metadata": {},
   "outputs": [
    {
     "ename": "NameError",
     "evalue": "name 'tips_datasets' is not defined",
     "output_type": "error",
     "traceback": [
      "\u001b[1;31m---------------------------------------------------------------------------\u001b[0m",
      "\u001b[1;31mNameError\u001b[0m                                 Traceback (most recent call last)",
      "\u001b[1;32m<ipython-input-33-4665b2ebaff6>\u001b[0m in \u001b[0;36m<module>\u001b[1;34m\u001b[0m\n\u001b[1;32m----> 1\u001b[1;33m pd.pivot_table(data    = tips_datasets , \n\u001b[0m\u001b[0;32m      2\u001b[0m                \u001b[0mindex\u001b[0m   \u001b[1;33m=\u001b[0m \u001b[1;34m'sex'\u001b[0m \u001b[1;33m,\u001b[0m\u001b[1;33m\u001b[0m\u001b[1;33m\u001b[0m\u001b[0m\n\u001b[0;32m      3\u001b[0m                \u001b[0mcolumns\u001b[0m \u001b[1;33m=\u001b[0m \u001b[1;34m'smoker'\u001b[0m \u001b[1;33m,\u001b[0m\u001b[1;33m\u001b[0m\u001b[1;33m\u001b[0m\u001b[0m\n\u001b[0;32m      4\u001b[0m                \u001b[0mvalues\u001b[0m  \u001b[1;33m=\u001b[0m \u001b[1;34m'tip_pct'\u001b[0m \u001b[1;33m,\u001b[0m\u001b[1;33m\u001b[0m\u001b[1;33m\u001b[0m\u001b[0m\n\u001b[0;32m      5\u001b[0m                \u001b[0maggfunc\u001b[0m \u001b[1;33m=\u001b[0m \u001b[1;34m'count'\u001b[0m \u001b[1;33m,\u001b[0m\u001b[1;33m\u001b[0m\u001b[1;33m\u001b[0m\u001b[0m\n",
      "\u001b[1;31mNameError\u001b[0m: name 'tips_datasets' is not defined"
     ]
    }
   ],
   "source": [
    "pd.pivot_table(data    = tips_datasets , \n",
    "               index   = 'sex' , \n",
    "               columns = 'smoker' , \n",
    "               values  = 'tip_pct' , \n",
    "               aggfunc = 'count' , \n",
    "               margins = True)"
   ]
  },
  {
   "cell_type": "code",
   "execution_count": 34,
   "metadata": {},
   "outputs": [
    {
     "ename": "NameError",
     "evalue": "name 'tips_datasets' is not defined",
     "output_type": "error",
     "traceback": [
      "\u001b[1;31m---------------------------------------------------------------------------\u001b[0m",
      "\u001b[1;31mNameError\u001b[0m                                 Traceback (most recent call last)",
      "\u001b[1;32m<ipython-input-34-08795e090ea4>\u001b[0m in \u001b[0;36m<module>\u001b[1;34m\u001b[0m\n\u001b[0;32m      1\u001b[0m \u001b[1;31m# 성별과 흡연여부에 따른 평균 팁 비율을 살펴본다면?\u001b[0m\u001b[1;33m\u001b[0m\u001b[1;33m\u001b[0m\u001b[1;33m\u001b[0m\u001b[0m\n\u001b[0;32m      2\u001b[0m \u001b[1;31m# groupby\u001b[0m\u001b[1;33m\u001b[0m\u001b[1;33m\u001b[0m\u001b[1;33m\u001b[0m\u001b[0m\n\u001b[1;32m----> 3\u001b[1;33m \u001b[0mtips_datasets\u001b[0m\u001b[1;33m.\u001b[0m\u001b[0mgroupby\u001b[0m\u001b[1;33m(\u001b[0m\u001b[1;33m[\u001b[0m\u001b[1;34m'sex'\u001b[0m\u001b[1;33m,\u001b[0m \u001b[1;34m'smoker'\u001b[0m\u001b[1;33m]\u001b[0m\u001b[1;33m)\u001b[0m\u001b[1;33m[\u001b[0m\u001b[1;33m[\u001b[0m\u001b[1;34m'tip_pct'\u001b[0m\u001b[1;33m]\u001b[0m\u001b[1;33m]\u001b[0m\u001b[1;33m.\u001b[0m\u001b[0mmean\u001b[0m\u001b[1;33m(\u001b[0m\u001b[1;33m)\u001b[0m\u001b[1;33m\u001b[0m\u001b[1;33m\u001b[0m\u001b[0m\n\u001b[0m\u001b[0;32m      4\u001b[0m \u001b[1;31m# pivot_table\u001b[0m\u001b[1;33m\u001b[0m\u001b[1;33m\u001b[0m\u001b[1;33m\u001b[0m\u001b[0m\n",
      "\u001b[1;31mNameError\u001b[0m: name 'tips_datasets' is not defined"
     ]
    }
   ],
   "source": [
    "# 성별과 흡연여부에 따른 평균 팁 비율을 살펴본다면?\n",
    "# groupby\n",
    "tips_datasets.groupby(['sex', 'smoker'])[['tip_pct']].mean()\n",
    "# pivot_table"
   ]
  },
  {
   "cell_type": "code",
   "execution_count": 35,
   "metadata": {},
   "outputs": [
    {
     "ename": "NameError",
     "evalue": "name 'tips_datasets' is not defined",
     "output_type": "error",
     "traceback": [
      "\u001b[1;31m---------------------------------------------------------------------------\u001b[0m",
      "\u001b[1;31mNameError\u001b[0m                                 Traceback (most recent call last)",
      "\u001b[1;32m<ipython-input-35-cedec95c4e1f>\u001b[0m in \u001b[0;36m<module>\u001b[1;34m\u001b[0m\n\u001b[1;32m----> 1\u001b[1;33m pd.pivot_table(data    = tips_datasets , \n\u001b[0m\u001b[0;32m      2\u001b[0m                \u001b[0mindex\u001b[0m   \u001b[1;33m=\u001b[0m \u001b[1;34m'sex'\u001b[0m \u001b[1;33m,\u001b[0m\u001b[1;33m\u001b[0m\u001b[1;33m\u001b[0m\u001b[0m\n\u001b[0;32m      3\u001b[0m                \u001b[0mcolumns\u001b[0m \u001b[1;33m=\u001b[0m \u001b[1;34m'smoker'\u001b[0m \u001b[1;33m,\u001b[0m\u001b[1;33m\u001b[0m\u001b[1;33m\u001b[0m\u001b[0m\n\u001b[0;32m      4\u001b[0m                \u001b[0mvalues\u001b[0m  \u001b[1;33m=\u001b[0m \u001b[1;34m'tip_pct'\u001b[0m \u001b[1;33m,\u001b[0m\u001b[1;33m\u001b[0m\u001b[1;33m\u001b[0m\u001b[0m\n\u001b[0;32m      5\u001b[0m                \u001b[0maggfunc\u001b[0m \u001b[1;33m=\u001b[0m \u001b[1;34m'mean'\u001b[0m \u001b[1;33m,\u001b[0m\u001b[1;33m\u001b[0m\u001b[1;33m\u001b[0m\u001b[0m\n",
      "\u001b[1;31mNameError\u001b[0m: name 'tips_datasets' is not defined"
     ]
    }
   ],
   "source": [
    "pd.pivot_table(data    = tips_datasets , \n",
    "               index   = 'sex' , \n",
    "               columns = 'smoker' , \n",
    "               values  = 'tip_pct' , \n",
    "               aggfunc = 'mean' , \n",
    "               margins = True)"
   ]
  },
  {
   "cell_type": "code",
   "execution_count": 36,
   "metadata": {},
   "outputs": [
    {
     "data": {
      "text/html": [
       "<div>\n",
       "<style scoped>\n",
       "    .dataframe tbody tr th:only-of-type {\n",
       "        vertical-align: middle;\n",
       "    }\n",
       "\n",
       "    .dataframe tbody tr th {\n",
       "        vertical-align: top;\n",
       "    }\n",
       "\n",
       "    .dataframe thead th {\n",
       "        text-align: right;\n",
       "    }\n",
       "</style>\n",
       "<table border=\"1\" class=\"dataframe\">\n",
       "  <thead>\n",
       "    <tr style=\"text-align: right;\">\n",
       "      <th></th>\n",
       "      <th>survived</th>\n",
       "      <th>pclass</th>\n",
       "      <th>sex</th>\n",
       "      <th>age</th>\n",
       "      <th>sibsp</th>\n",
       "      <th>parch</th>\n",
       "      <th>fare</th>\n",
       "      <th>embarked</th>\n",
       "      <th>class</th>\n",
       "      <th>who</th>\n",
       "      <th>adult_male</th>\n",
       "      <th>deck</th>\n",
       "      <th>embark_town</th>\n",
       "      <th>alive</th>\n",
       "      <th>alone</th>\n",
       "    </tr>\n",
       "  </thead>\n",
       "  <tbody>\n",
       "    <tr>\n",
       "      <th>0</th>\n",
       "      <td>0</td>\n",
       "      <td>3</td>\n",
       "      <td>male</td>\n",
       "      <td>22.0</td>\n",
       "      <td>1</td>\n",
       "      <td>0</td>\n",
       "      <td>7.2500</td>\n",
       "      <td>S</td>\n",
       "      <td>Third</td>\n",
       "      <td>man</td>\n",
       "      <td>True</td>\n",
       "      <td>NaN</td>\n",
       "      <td>Southampton</td>\n",
       "      <td>no</td>\n",
       "      <td>False</td>\n",
       "    </tr>\n",
       "    <tr>\n",
       "      <th>1</th>\n",
       "      <td>1</td>\n",
       "      <td>1</td>\n",
       "      <td>female</td>\n",
       "      <td>38.0</td>\n",
       "      <td>1</td>\n",
       "      <td>0</td>\n",
       "      <td>71.2833</td>\n",
       "      <td>C</td>\n",
       "      <td>First</td>\n",
       "      <td>woman</td>\n",
       "      <td>False</td>\n",
       "      <td>C</td>\n",
       "      <td>Cherbourg</td>\n",
       "      <td>yes</td>\n",
       "      <td>False</td>\n",
       "    </tr>\n",
       "    <tr>\n",
       "      <th>2</th>\n",
       "      <td>1</td>\n",
       "      <td>3</td>\n",
       "      <td>female</td>\n",
       "      <td>26.0</td>\n",
       "      <td>0</td>\n",
       "      <td>0</td>\n",
       "      <td>7.9250</td>\n",
       "      <td>S</td>\n",
       "      <td>Third</td>\n",
       "      <td>woman</td>\n",
       "      <td>False</td>\n",
       "      <td>NaN</td>\n",
       "      <td>Southampton</td>\n",
       "      <td>yes</td>\n",
       "      <td>True</td>\n",
       "    </tr>\n",
       "    <tr>\n",
       "      <th>3</th>\n",
       "      <td>1</td>\n",
       "      <td>1</td>\n",
       "      <td>female</td>\n",
       "      <td>35.0</td>\n",
       "      <td>1</td>\n",
       "      <td>0</td>\n",
       "      <td>53.1000</td>\n",
       "      <td>S</td>\n",
       "      <td>First</td>\n",
       "      <td>woman</td>\n",
       "      <td>False</td>\n",
       "      <td>C</td>\n",
       "      <td>Southampton</td>\n",
       "      <td>yes</td>\n",
       "      <td>False</td>\n",
       "    </tr>\n",
       "    <tr>\n",
       "      <th>4</th>\n",
       "      <td>0</td>\n",
       "      <td>3</td>\n",
       "      <td>male</td>\n",
       "      <td>35.0</td>\n",
       "      <td>0</td>\n",
       "      <td>0</td>\n",
       "      <td>8.0500</td>\n",
       "      <td>S</td>\n",
       "      <td>Third</td>\n",
       "      <td>man</td>\n",
       "      <td>True</td>\n",
       "      <td>NaN</td>\n",
       "      <td>Southampton</td>\n",
       "      <td>no</td>\n",
       "      <td>True</td>\n",
       "    </tr>\n",
       "    <tr>\n",
       "      <th>...</th>\n",
       "      <td>...</td>\n",
       "      <td>...</td>\n",
       "      <td>...</td>\n",
       "      <td>...</td>\n",
       "      <td>...</td>\n",
       "      <td>...</td>\n",
       "      <td>...</td>\n",
       "      <td>...</td>\n",
       "      <td>...</td>\n",
       "      <td>...</td>\n",
       "      <td>...</td>\n",
       "      <td>...</td>\n",
       "      <td>...</td>\n",
       "      <td>...</td>\n",
       "      <td>...</td>\n",
       "    </tr>\n",
       "    <tr>\n",
       "      <th>886</th>\n",
       "      <td>0</td>\n",
       "      <td>2</td>\n",
       "      <td>male</td>\n",
       "      <td>27.0</td>\n",
       "      <td>0</td>\n",
       "      <td>0</td>\n",
       "      <td>13.0000</td>\n",
       "      <td>S</td>\n",
       "      <td>Second</td>\n",
       "      <td>man</td>\n",
       "      <td>True</td>\n",
       "      <td>NaN</td>\n",
       "      <td>Southampton</td>\n",
       "      <td>no</td>\n",
       "      <td>True</td>\n",
       "    </tr>\n",
       "    <tr>\n",
       "      <th>887</th>\n",
       "      <td>1</td>\n",
       "      <td>1</td>\n",
       "      <td>female</td>\n",
       "      <td>19.0</td>\n",
       "      <td>0</td>\n",
       "      <td>0</td>\n",
       "      <td>30.0000</td>\n",
       "      <td>S</td>\n",
       "      <td>First</td>\n",
       "      <td>woman</td>\n",
       "      <td>False</td>\n",
       "      <td>B</td>\n",
       "      <td>Southampton</td>\n",
       "      <td>yes</td>\n",
       "      <td>True</td>\n",
       "    </tr>\n",
       "    <tr>\n",
       "      <th>888</th>\n",
       "      <td>0</td>\n",
       "      <td>3</td>\n",
       "      <td>female</td>\n",
       "      <td>NaN</td>\n",
       "      <td>1</td>\n",
       "      <td>2</td>\n",
       "      <td>23.4500</td>\n",
       "      <td>S</td>\n",
       "      <td>Third</td>\n",
       "      <td>woman</td>\n",
       "      <td>False</td>\n",
       "      <td>NaN</td>\n",
       "      <td>Southampton</td>\n",
       "      <td>no</td>\n",
       "      <td>False</td>\n",
       "    </tr>\n",
       "    <tr>\n",
       "      <th>889</th>\n",
       "      <td>1</td>\n",
       "      <td>1</td>\n",
       "      <td>male</td>\n",
       "      <td>26.0</td>\n",
       "      <td>0</td>\n",
       "      <td>0</td>\n",
       "      <td>30.0000</td>\n",
       "      <td>C</td>\n",
       "      <td>First</td>\n",
       "      <td>man</td>\n",
       "      <td>True</td>\n",
       "      <td>C</td>\n",
       "      <td>Cherbourg</td>\n",
       "      <td>yes</td>\n",
       "      <td>True</td>\n",
       "    </tr>\n",
       "    <tr>\n",
       "      <th>890</th>\n",
       "      <td>0</td>\n",
       "      <td>3</td>\n",
       "      <td>male</td>\n",
       "      <td>32.0</td>\n",
       "      <td>0</td>\n",
       "      <td>0</td>\n",
       "      <td>7.7500</td>\n",
       "      <td>Q</td>\n",
       "      <td>Third</td>\n",
       "      <td>man</td>\n",
       "      <td>True</td>\n",
       "      <td>NaN</td>\n",
       "      <td>Queenstown</td>\n",
       "      <td>no</td>\n",
       "      <td>True</td>\n",
       "    </tr>\n",
       "  </tbody>\n",
       "</table>\n",
       "<p>891 rows × 15 columns</p>\n",
       "</div>"
      ],
      "text/plain": [
       "     survived  pclass     sex   age  sibsp  parch     fare embarked   class  \\\n",
       "0           0       3    male  22.0      1      0   7.2500        S   Third   \n",
       "1           1       1  female  38.0      1      0  71.2833        C   First   \n",
       "2           1       3  female  26.0      0      0   7.9250        S   Third   \n",
       "3           1       1  female  35.0      1      0  53.1000        S   First   \n",
       "4           0       3    male  35.0      0      0   8.0500        S   Third   \n",
       "..        ...     ...     ...   ...    ...    ...      ...      ...     ...   \n",
       "886         0       2    male  27.0      0      0  13.0000        S  Second   \n",
       "887         1       1  female  19.0      0      0  30.0000        S   First   \n",
       "888         0       3  female   NaN      1      2  23.4500        S   Third   \n",
       "889         1       1    male  26.0      0      0  30.0000        C   First   \n",
       "890         0       3    male  32.0      0      0   7.7500        Q   Third   \n",
       "\n",
       "       who  adult_male deck  embark_town alive  alone  \n",
       "0      man        True  NaN  Southampton    no  False  \n",
       "1    woman       False    C    Cherbourg   yes  False  \n",
       "2    woman       False  NaN  Southampton   yes   True  \n",
       "3    woman       False    C  Southampton   yes  False  \n",
       "4      man        True  NaN  Southampton    no   True  \n",
       "..     ...         ...  ...          ...   ...    ...  \n",
       "886    man        True  NaN  Southampton    no   True  \n",
       "887  woman       False    B  Southampton   yes   True  \n",
       "888  woman       False  NaN  Southampton    no  False  \n",
       "889    man        True    C    Cherbourg   yes   True  \n",
       "890    man        True  NaN   Queenstown    no   True  \n",
       "\n",
       "[891 rows x 15 columns]"
      ]
     },
     "execution_count": 36,
     "metadata": {},
     "output_type": "execute_result"
    }
   ],
   "source": [
    "titanic_datasets"
   ]
  },
  {
   "cell_type": "code",
   "execution_count": 37,
   "metadata": {},
   "outputs": [
    {
     "data": {
      "text/html": [
       "<div>\n",
       "<style scoped>\n",
       "    .dataframe tbody tr th:only-of-type {\n",
       "        vertical-align: middle;\n",
       "    }\n",
       "\n",
       "    .dataframe tbody tr th {\n",
       "        vertical-align: top;\n",
       "    }\n",
       "\n",
       "    .dataframe thead th {\n",
       "        text-align: right;\n",
       "    }\n",
       "</style>\n",
       "<table border=\"1\" class=\"dataframe\">\n",
       "  <thead>\n",
       "    <tr style=\"text-align: right;\">\n",
       "      <th></th>\n",
       "      <th>survived</th>\n",
       "      <th>pclass</th>\n",
       "      <th>sex</th>\n",
       "      <th>age</th>\n",
       "      <th>sibsp</th>\n",
       "      <th>parch</th>\n",
       "      <th>fare</th>\n",
       "      <th>embarked</th>\n",
       "      <th>class</th>\n",
       "      <th>who</th>\n",
       "      <th>adult_male</th>\n",
       "      <th>deck</th>\n",
       "      <th>embark_town</th>\n",
       "      <th>alive</th>\n",
       "      <th>alone</th>\n",
       "      <th>age_qcut</th>\n",
       "    </tr>\n",
       "  </thead>\n",
       "  <tbody>\n",
       "    <tr>\n",
       "      <th>0</th>\n",
       "      <td>0</td>\n",
       "      <td>3</td>\n",
       "      <td>male</td>\n",
       "      <td>22.0</td>\n",
       "      <td>1</td>\n",
       "      <td>0</td>\n",
       "      <td>7.2500</td>\n",
       "      <td>S</td>\n",
       "      <td>Third</td>\n",
       "      <td>man</td>\n",
       "      <td>True</td>\n",
       "      <td>NaN</td>\n",
       "      <td>Southampton</td>\n",
       "      <td>no</td>\n",
       "      <td>False</td>\n",
       "      <td>A</td>\n",
       "    </tr>\n",
       "    <tr>\n",
       "      <th>1</th>\n",
       "      <td>1</td>\n",
       "      <td>1</td>\n",
       "      <td>female</td>\n",
       "      <td>38.0</td>\n",
       "      <td>1</td>\n",
       "      <td>0</td>\n",
       "      <td>71.2833</td>\n",
       "      <td>C</td>\n",
       "      <td>First</td>\n",
       "      <td>woman</td>\n",
       "      <td>False</td>\n",
       "      <td>C</td>\n",
       "      <td>Cherbourg</td>\n",
       "      <td>yes</td>\n",
       "      <td>False</td>\n",
       "      <td>C</td>\n",
       "    </tr>\n",
       "    <tr>\n",
       "      <th>2</th>\n",
       "      <td>1</td>\n",
       "      <td>3</td>\n",
       "      <td>female</td>\n",
       "      <td>26.0</td>\n",
       "      <td>0</td>\n",
       "      <td>0</td>\n",
       "      <td>7.9250</td>\n",
       "      <td>S</td>\n",
       "      <td>Third</td>\n",
       "      <td>woman</td>\n",
       "      <td>False</td>\n",
       "      <td>NaN</td>\n",
       "      <td>Southampton</td>\n",
       "      <td>yes</td>\n",
       "      <td>True</td>\n",
       "      <td>B</td>\n",
       "    </tr>\n",
       "    <tr>\n",
       "      <th>3</th>\n",
       "      <td>1</td>\n",
       "      <td>1</td>\n",
       "      <td>female</td>\n",
       "      <td>35.0</td>\n",
       "      <td>1</td>\n",
       "      <td>0</td>\n",
       "      <td>53.1000</td>\n",
       "      <td>S</td>\n",
       "      <td>First</td>\n",
       "      <td>woman</td>\n",
       "      <td>False</td>\n",
       "      <td>C</td>\n",
       "      <td>Southampton</td>\n",
       "      <td>yes</td>\n",
       "      <td>False</td>\n",
       "      <td>C</td>\n",
       "    </tr>\n",
       "    <tr>\n",
       "      <th>4</th>\n",
       "      <td>0</td>\n",
       "      <td>3</td>\n",
       "      <td>male</td>\n",
       "      <td>35.0</td>\n",
       "      <td>0</td>\n",
       "      <td>0</td>\n",
       "      <td>8.0500</td>\n",
       "      <td>S</td>\n",
       "      <td>Third</td>\n",
       "      <td>man</td>\n",
       "      <td>True</td>\n",
       "      <td>NaN</td>\n",
       "      <td>Southampton</td>\n",
       "      <td>no</td>\n",
       "      <td>True</td>\n",
       "      <td>C</td>\n",
       "    </tr>\n",
       "    <tr>\n",
       "      <th>...</th>\n",
       "      <td>...</td>\n",
       "      <td>...</td>\n",
       "      <td>...</td>\n",
       "      <td>...</td>\n",
       "      <td>...</td>\n",
       "      <td>...</td>\n",
       "      <td>...</td>\n",
       "      <td>...</td>\n",
       "      <td>...</td>\n",
       "      <td>...</td>\n",
       "      <td>...</td>\n",
       "      <td>...</td>\n",
       "      <td>...</td>\n",
       "      <td>...</td>\n",
       "      <td>...</td>\n",
       "      <td>...</td>\n",
       "    </tr>\n",
       "    <tr>\n",
       "      <th>886</th>\n",
       "      <td>0</td>\n",
       "      <td>2</td>\n",
       "      <td>male</td>\n",
       "      <td>27.0</td>\n",
       "      <td>0</td>\n",
       "      <td>0</td>\n",
       "      <td>13.0000</td>\n",
       "      <td>S</td>\n",
       "      <td>Second</td>\n",
       "      <td>man</td>\n",
       "      <td>True</td>\n",
       "      <td>NaN</td>\n",
       "      <td>Southampton</td>\n",
       "      <td>no</td>\n",
       "      <td>True</td>\n",
       "      <td>B</td>\n",
       "    </tr>\n",
       "    <tr>\n",
       "      <th>887</th>\n",
       "      <td>1</td>\n",
       "      <td>1</td>\n",
       "      <td>female</td>\n",
       "      <td>19.0</td>\n",
       "      <td>0</td>\n",
       "      <td>0</td>\n",
       "      <td>30.0000</td>\n",
       "      <td>S</td>\n",
       "      <td>First</td>\n",
       "      <td>woman</td>\n",
       "      <td>False</td>\n",
       "      <td>B</td>\n",
       "      <td>Southampton</td>\n",
       "      <td>yes</td>\n",
       "      <td>True</td>\n",
       "      <td>A</td>\n",
       "    </tr>\n",
       "    <tr>\n",
       "      <th>888</th>\n",
       "      <td>0</td>\n",
       "      <td>3</td>\n",
       "      <td>female</td>\n",
       "      <td>NaN</td>\n",
       "      <td>1</td>\n",
       "      <td>2</td>\n",
       "      <td>23.4500</td>\n",
       "      <td>S</td>\n",
       "      <td>Third</td>\n",
       "      <td>woman</td>\n",
       "      <td>False</td>\n",
       "      <td>NaN</td>\n",
       "      <td>Southampton</td>\n",
       "      <td>no</td>\n",
       "      <td>False</td>\n",
       "      <td>nan</td>\n",
       "    </tr>\n",
       "    <tr>\n",
       "      <th>889</th>\n",
       "      <td>1</td>\n",
       "      <td>1</td>\n",
       "      <td>male</td>\n",
       "      <td>26.0</td>\n",
       "      <td>0</td>\n",
       "      <td>0</td>\n",
       "      <td>30.0000</td>\n",
       "      <td>C</td>\n",
       "      <td>First</td>\n",
       "      <td>man</td>\n",
       "      <td>True</td>\n",
       "      <td>C</td>\n",
       "      <td>Cherbourg</td>\n",
       "      <td>yes</td>\n",
       "      <td>True</td>\n",
       "      <td>B</td>\n",
       "    </tr>\n",
       "    <tr>\n",
       "      <th>890</th>\n",
       "      <td>0</td>\n",
       "      <td>3</td>\n",
       "      <td>male</td>\n",
       "      <td>32.0</td>\n",
       "      <td>0</td>\n",
       "      <td>0</td>\n",
       "      <td>7.7500</td>\n",
       "      <td>Q</td>\n",
       "      <td>Third</td>\n",
       "      <td>man</td>\n",
       "      <td>True</td>\n",
       "      <td>NaN</td>\n",
       "      <td>Queenstown</td>\n",
       "      <td>no</td>\n",
       "      <td>True</td>\n",
       "      <td>B</td>\n",
       "    </tr>\n",
       "  </tbody>\n",
       "</table>\n",
       "<p>891 rows × 16 columns</p>\n",
       "</div>"
      ],
      "text/plain": [
       "     survived  pclass     sex   age  sibsp  parch     fare embarked   class  \\\n",
       "0           0       3    male  22.0      1      0   7.2500        S   Third   \n",
       "1           1       1  female  38.0      1      0  71.2833        C   First   \n",
       "2           1       3  female  26.0      0      0   7.9250        S   Third   \n",
       "3           1       1  female  35.0      1      0  53.1000        S   First   \n",
       "4           0       3    male  35.0      0      0   8.0500        S   Third   \n",
       "..        ...     ...     ...   ...    ...    ...      ...      ...     ...   \n",
       "886         0       2    male  27.0      0      0  13.0000        S  Second   \n",
       "887         1       1  female  19.0      0      0  30.0000        S   First   \n",
       "888         0       3  female   NaN      1      2  23.4500        S   Third   \n",
       "889         1       1    male  26.0      0      0  30.0000        C   First   \n",
       "890         0       3    male  32.0      0      0   7.7500        Q   Third   \n",
       "\n",
       "       who  adult_male deck  embark_town alive  alone age_qcut  \n",
       "0      man        True  NaN  Southampton    no  False        A  \n",
       "1    woman       False    C    Cherbourg   yes  False        C  \n",
       "2    woman       False  NaN  Southampton   yes   True        B  \n",
       "3    woman       False    C  Southampton   yes  False        C  \n",
       "4      man        True  NaN  Southampton    no   True        C  \n",
       "..     ...         ...  ...          ...   ...    ...      ...  \n",
       "886    man        True  NaN  Southampton    no   True        B  \n",
       "887  woman       False    B  Southampton   yes   True        A  \n",
       "888  woman       False  NaN  Southampton    no  False      nan  \n",
       "889    man        True    C    Cherbourg   yes   True        B  \n",
       "890    man        True  NaN   Queenstown    no   True        B  \n",
       "\n",
       "[891 rows x 16 columns]"
      ]
     },
     "execution_count": 37,
     "metadata": {},
     "output_type": "execute_result"
    }
   ],
   "source": [
    "# 나이에 대한 범주\n",
    "titanic_datasets['age_qcut'] = pd.qcut(titanic_datasets['age'] , 3 , labels=['A', 'B', 'C']).astype(str)\n",
    "titanic_datasets"
   ]
  },
  {
   "cell_type": "code",
   "execution_count": 38,
   "metadata": {},
   "outputs": [],
   "source": [
    "# 성별, 선실, 나이그룹(age_qcut) 의한 생존율을 데이터프레임으로 생성하고\n",
    "# 행에는 성별 및 나이그룹에 대한 다중 인덱스를 사용하고 열에는 선실 인덱스를 사용한다\n",
    "\n",
    "resultDF = titanic_datasets.pivot_table(index   = ['sex', 'age_qcut'] , \n",
    "                             columns = 'pclass' , \n",
    "                             values  = 'survived' , \n",
    "                             margins = True , \n",
    "                             margins_name = 'survived_ratio' , \n",
    "                             aggfunc = 'count')"
   ]
  },
  {
   "cell_type": "code",
   "execution_count": 39,
   "metadata": {},
   "outputs": [],
   "source": [
    "all_cnt = resultDF.loc['survived_ratio' , 'survived_ratio'][0]"
   ]
  },
  {
   "cell_type": "code",
   "execution_count": 40,
   "metadata": {},
   "outputs": [],
   "source": [
    "survived_ration_df = resultDF/ all_cnt"
   ]
  },
  {
   "cell_type": "code",
   "execution_count": 41,
   "metadata": {},
   "outputs": [
    {
     "data": {
      "text/html": [
       "<div>\n",
       "<style scoped>\n",
       "    .dataframe tbody tr th:only-of-type {\n",
       "        vertical-align: middle;\n",
       "    }\n",
       "\n",
       "    .dataframe tbody tr th {\n",
       "        vertical-align: top;\n",
       "    }\n",
       "\n",
       "    .dataframe thead th {\n",
       "        text-align: right;\n",
       "    }\n",
       "</style>\n",
       "<table border=\"1\" class=\"dataframe\">\n",
       "  <thead>\n",
       "    <tr style=\"text-align: right;\">\n",
       "      <th></th>\n",
       "      <th>pclass</th>\n",
       "      <th>1</th>\n",
       "      <th>2</th>\n",
       "      <th>3</th>\n",
       "      <th>survived_ratio</th>\n",
       "    </tr>\n",
       "    <tr>\n",
       "      <th>sex</th>\n",
       "      <th>age_qcut</th>\n",
       "      <th></th>\n",
       "      <th></th>\n",
       "      <th></th>\n",
       "      <th></th>\n",
       "    </tr>\n",
       "  </thead>\n",
       "  <tbody>\n",
       "    <tr>\n",
       "      <th rowspan=\"4\" valign=\"top\">female</th>\n",
       "      <th>A</th>\n",
       "      <td>0.024691</td>\n",
       "      <td>0.022447</td>\n",
       "      <td>0.066218</td>\n",
       "      <td>0.113356</td>\n",
       "    </tr>\n",
       "    <tr>\n",
       "      <th>B</th>\n",
       "      <td>0.021324</td>\n",
       "      <td>0.037037</td>\n",
       "      <td>0.030303</td>\n",
       "      <td>0.088664</td>\n",
       "    </tr>\n",
       "    <tr>\n",
       "      <th>C</th>\n",
       "      <td>0.049383</td>\n",
       "      <td>0.023569</td>\n",
       "      <td>0.017957</td>\n",
       "      <td>0.090909</td>\n",
       "    </tr>\n",
       "    <tr>\n",
       "      <th>nan</th>\n",
       "      <td>0.010101</td>\n",
       "      <td>0.002245</td>\n",
       "      <td>0.047138</td>\n",
       "      <td>0.059484</td>\n",
       "    </tr>\n",
       "    <tr>\n",
       "      <th rowspan=\"4\" valign=\"top\">male</th>\n",
       "      <th>A</th>\n",
       "      <td>0.011223</td>\n",
       "      <td>0.031425</td>\n",
       "      <td>0.120090</td>\n",
       "      <td>0.162738</td>\n",
       "    </tr>\n",
       "    <tr>\n",
       "      <th>B</th>\n",
       "      <td>0.024691</td>\n",
       "      <td>0.043771</td>\n",
       "      <td>0.103255</td>\n",
       "      <td>0.171717</td>\n",
       "    </tr>\n",
       "    <tr>\n",
       "      <th>C</th>\n",
       "      <td>0.077441</td>\n",
       "      <td>0.035915</td>\n",
       "      <td>0.060606</td>\n",
       "      <td>0.173962</td>\n",
       "    </tr>\n",
       "    <tr>\n",
       "      <th>nan</th>\n",
       "      <td>0.023569</td>\n",
       "      <td>0.010101</td>\n",
       "      <td>0.105499</td>\n",
       "      <td>0.139169</td>\n",
       "    </tr>\n",
       "    <tr>\n",
       "      <th>survived_ratio</th>\n",
       "      <th></th>\n",
       "      <td>0.242424</td>\n",
       "      <td>0.206510</td>\n",
       "      <td>0.551066</td>\n",
       "      <td>1.000000</td>\n",
       "    </tr>\n",
       "  </tbody>\n",
       "</table>\n",
       "</div>"
      ],
      "text/plain": [
       "pclass                          1         2         3  survived_ratio\n",
       "sex            age_qcut                                              \n",
       "female         A         0.024691  0.022447  0.066218        0.113356\n",
       "               B         0.021324  0.037037  0.030303        0.088664\n",
       "               C         0.049383  0.023569  0.017957        0.090909\n",
       "               nan       0.010101  0.002245  0.047138        0.059484\n",
       "male           A         0.011223  0.031425  0.120090        0.162738\n",
       "               B         0.024691  0.043771  0.103255        0.171717\n",
       "               C         0.077441  0.035915  0.060606        0.173962\n",
       "               nan       0.023569  0.010101  0.105499        0.139169\n",
       "survived_ratio           0.242424  0.206510  0.551066        1.000000"
      ]
     },
     "execution_count": 41,
     "metadata": {},
     "output_type": "execute_result"
    }
   ],
   "source": [
    "survived_ration_df"
   ]
  },
  {
   "cell_type": "code",
   "execution_count": 42,
   "metadata": {},
   "outputs": [
    {
     "name": "stderr",
     "output_type": "stream",
     "text": [
      "<ipython-input-42-9930062ccee2>:1: ParserWarning: Falling back to the 'python' engine because the 'c' engine does not support regex separators (separators > 1 char and different from '\\s+' are interpreted as regex); you can avoid this warning by specifying engine='python'.\n",
      "  ratingsDF = pd.read_csv('./data/users.dat' , sep='::' , header=None)\n"
     ]
    }
   ],
   "source": [
    "ratingsDF = pd.read_csv('./data/users.dat' , sep='::' , header=None)"
   ]
  },
  {
   "cell_type": "code",
   "execution_count": 43,
   "metadata": {},
   "outputs": [
    {
     "data": {
      "text/html": [
       "<div>\n",
       "<style scoped>\n",
       "    .dataframe tbody tr th:only-of-type {\n",
       "        vertical-align: middle;\n",
       "    }\n",
       "\n",
       "    .dataframe tbody tr th {\n",
       "        vertical-align: top;\n",
       "    }\n",
       "\n",
       "    .dataframe thead th {\n",
       "        text-align: right;\n",
       "    }\n",
       "</style>\n",
       "<table border=\"1\" class=\"dataframe\">\n",
       "  <thead>\n",
       "    <tr style=\"text-align: right;\">\n",
       "      <th></th>\n",
       "      <th>0</th>\n",
       "      <th>1</th>\n",
       "      <th>2</th>\n",
       "      <th>3</th>\n",
       "      <th>4</th>\n",
       "    </tr>\n",
       "  </thead>\n",
       "  <tbody>\n",
       "    <tr>\n",
       "      <th>0</th>\n",
       "      <td>1</td>\n",
       "      <td>F</td>\n",
       "      <td>1</td>\n",
       "      <td>10</td>\n",
       "      <td>48067</td>\n",
       "    </tr>\n",
       "    <tr>\n",
       "      <th>1</th>\n",
       "      <td>2</td>\n",
       "      <td>M</td>\n",
       "      <td>56</td>\n",
       "      <td>16</td>\n",
       "      <td>70072</td>\n",
       "    </tr>\n",
       "    <tr>\n",
       "      <th>2</th>\n",
       "      <td>3</td>\n",
       "      <td>M</td>\n",
       "      <td>25</td>\n",
       "      <td>15</td>\n",
       "      <td>55117</td>\n",
       "    </tr>\n",
       "    <tr>\n",
       "      <th>3</th>\n",
       "      <td>4</td>\n",
       "      <td>M</td>\n",
       "      <td>45</td>\n",
       "      <td>7</td>\n",
       "      <td>02460</td>\n",
       "    </tr>\n",
       "    <tr>\n",
       "      <th>4</th>\n",
       "      <td>5</td>\n",
       "      <td>M</td>\n",
       "      <td>25</td>\n",
       "      <td>20</td>\n",
       "      <td>55455</td>\n",
       "    </tr>\n",
       "  </tbody>\n",
       "</table>\n",
       "</div>"
      ],
      "text/plain": [
       "   0  1   2   3      4\n",
       "0  1  F   1  10  48067\n",
       "1  2  M  56  16  70072\n",
       "2  3  M  25  15  55117\n",
       "3  4  M  45   7  02460\n",
       "4  5  M  25  20  55455"
      ]
     },
     "execution_count": 43,
     "metadata": {},
     "output_type": "execute_result"
    }
   ],
   "source": [
    "ratingsDF.head()"
   ]
  },
  {
   "cell_type": "code",
   "execution_count": null,
   "metadata": {},
   "outputs": [],
   "source": []
  },
  {
   "cell_type": "code",
   "execution_count": null,
   "metadata": {},
   "outputs": [],
   "source": []
  },
  {
   "cell_type": "code",
   "execution_count": null,
   "metadata": {},
   "outputs": [],
   "source": []
  },
  {
   "cell_type": "code",
   "execution_count": null,
   "metadata": {},
   "outputs": [],
   "source": []
  },
  {
   "cell_type": "code",
   "execution_count": null,
   "metadata": {},
   "outputs": [],
   "source": []
  },
  {
   "cell_type": "code",
   "execution_count": null,
   "metadata": {},
   "outputs": [],
   "source": []
  },
  {
   "cell_type": "code",
   "execution_count": null,
   "metadata": {},
   "outputs": [],
   "source": []
  },
  {
   "cell_type": "code",
   "execution_count": null,
   "metadata": {},
   "outputs": [],
   "source": []
  },
  {
   "cell_type": "code",
   "execution_count": null,
   "metadata": {},
   "outputs": [],
   "source": []
  },
  {
   "cell_type": "code",
   "execution_count": null,
   "metadata": {},
   "outputs": [],
   "source": []
  }
 ],
 "metadata": {
  "kernelspec": {
   "display_name": "Python 3",
   "language": "python",
   "name": "python3"
  }
 },
 "nbformat": 4,
 "nbformat_minor": 4
}
