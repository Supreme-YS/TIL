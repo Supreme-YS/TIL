{
 "cells": [
  {
   "cell_type": "markdown",
   "metadata": {},
   "source": [
    "알고리즘 문제 해결 과정\n",
    "1. 지문 읽기 및 컴퓨터적 사고\n",
    "2. 요구사항(복잡도) 분석\n",
    "3. 문제 해결을 위한 아이디어 찾기\n",
    "4. 소스코드 설계 및 코딩"
   ]
  },
  {
   "cell_type": "code",
   "execution_count": 1,
   "metadata": {},
   "outputs": [
    {
     "name": "stdout",
     "output_type": "stream",
     "text": [
      "time 0.0\n"
     ]
    }
   ],
   "source": [
    "import time\n",
    "start_time = time.time() # 측정 시작\n",
    "\n",
    "# 프로그램 소스코드\n",
    "end_time = time.time() # 측정 종료\n",
    "print(\"time\", end_time - start_time) # 수행 시간 출력"
   ]
  },
  {
   "cell_type": "markdown",
   "metadata": {},
   "source": [
    "### 자료형\n",
    "- 정수형, 실수형, 복소수형, 문자열, 리스트, 튜플, 사전"
   ]
  },
  {
   "cell_type": "code",
   "execution_count": 4,
   "metadata": {},
   "outputs": [
    {
     "name": "stdout",
     "output_type": "stream",
     "text": [
      "1000000000.0\n",
      "3.954\n"
     ]
    }
   ],
   "source": [
    "# 소문자 e나 대문자 E를 활용해서 지수 표현 방식을 사용할 수 있음\n",
    "\n",
    "print(1e9) # 10의 9 제곱\n",
    "print(3954e-3) # 3954의 -3 승"
   ]
  },
  {
   "cell_type": "code",
   "execution_count": 11,
   "metadata": {},
   "outputs": [
    {
     "name": "stdout",
     "output_type": "stream",
     "text": [
      "0.8999999999999999\n",
      "False\n",
      "0.9\n",
      "True\n"
     ]
    }
   ],
   "source": [
    "# 컴퓨터 시스템은 실수 정보를 표현하는 정확도에 한계를 가진다.\n",
    "a = 0.3 + 0.6\n",
    "print(a)\n",
    "\n",
    "if a == 0.9:\n",
    "    print(True)\n",
    "else:\n",
    "    print(False)\n",
    "# 따라서 round() 함수를 권장함\n",
    "\n",
    "round(123.456, 2) #소수점 아래 둘째자리까지 표현, 셋째자리에서 반올림\n",
    "\n",
    "b = 0.3 + 0.6\n",
    "print(round(b,4))\n",
    "\n",
    "if round(b, 4) == 0.9:\n",
    "    print(True)\n",
    "else:\n",
    "    print(False)"
   ]
  },
  {
   "cell_type": "code",
   "execution_count": 13,
   "metadata": {},
   "outputs": [
    {
     "name": "stdout",
     "output_type": "stream",
     "text": [
      "2.3333333333333335\n",
      "1\n",
      "2\n",
      "343\n",
      "2.6457513110645907\n"
     ]
    }
   ],
   "source": [
    "a = 7\n",
    "b = 3\n",
    "\n",
    "# 나누기 (실수형으로 반환)\n",
    "print(a / b)\n",
    "\n",
    "# 나머지 \n",
    "print(a % b)\n",
    "\n",
    "# 몫\n",
    "print(a // b)\n",
    "\n",
    "# 거듭 제곱\n",
    "print(a ** b)\n",
    "\n",
    "# 제곱근\n",
    "\n",
    "print(a ** 0.5)\n"
   ]
  },
  {
   "cell_type": "markdown",
   "metadata": {},
   "source": [
    "### 리스트 자료형\n",
    "- 인덱스, 위치값이 있으며 0부터 시작한다\n",
    "- [] 를 통해 리스트 생성가능\n",
    "- list() 를 통해 리스트 생성가능\n",
    "- 인덱스 값을 입력하여 리스트 특정 원소에 접근가능(인덱싱)\n",
    "- 인덱싱을 통해 원소 값을 변경할 수 있다. \n",
    "- 연속적인 위치를 갖는 우너소들을 가져올 때 슬라이싱 이용( 대괄호안에 콜론(:)을 이용해서 사용가능"
   ]
  },
  {
   "cell_type": "code",
   "execution_count": 14,
   "metadata": {},
   "outputs": [
    {
     "name": "stdout",
     "output_type": "stream",
     "text": [
      "[0, 0, 0, 0, 0, 0, 0, 0, 0, 0]\n"
     ]
    }
   ],
   "source": [
    "# 크기가 N이고, 모든 값이 0인 1차원 리스트 초기화\n",
    "\n",
    "n = 10\n",
    "a = [0] * n\n",
    "print(a)"
   ]
  },
  {
   "cell_type": "code",
   "execution_count": 15,
   "metadata": {},
   "outputs": [
    {
     "name": "stdout",
     "output_type": "stream",
     "text": [
      "[2, 3, 4]\n"
     ]
    }
   ],
   "source": [
    "a = [1,2,3,4,5,6,7,8,9]\n",
    "# 두 번째 원소부터 네 번째 원소까지\n",
    "print(a[1:4])"
   ]
  },
  {
   "cell_type": "code",
   "execution_count": 26,
   "metadata": {},
   "outputs": [
    {
     "name": "stdout",
     "output_type": "stream",
     "text": [
      "[0, 1, 2, 3, 4, 5, 6, 7, 8, 9]\n",
      "[0, 0, 0, 0, 0, 0, 0, 0, 0, 0]\n",
      "[1, 3, 5, 7, 9, 11, 13, 15, 17, 19]\n",
      "[1, 4, 9, 16, 25, 36, 49, 64, 81]\n"
     ]
    }
   ],
   "source": [
    "# list comprehension \n",
    "# 리스트를 초기화하는 방법 중 하나이다.\n",
    "# 대괄호에 반복문 먼저 넣고 사용하는 것을 권장한다.\n",
    "\n",
    "array =[i for i in range(10)]\n",
    "zero_array = [ i*0 for i in range(10)]\n",
    "print(array)\n",
    "print(zero_array)\n",
    "\n",
    "# 0부터 19까지의 수 중에서 홀수만 포함하는 리스트를 만들어보자\n",
    "\n",
    "odd_list = [i for i in range(20) if i % 2 == 1]\n",
    "print(odd_list)\n",
    "\n",
    "# 1부터 9까지의 수들의 제곱 값을 포함하는 리스트\n",
    "square_list = [ i*i for i in range(1, 10)]\n",
    "print(square_list)"
   ]
  },
  {
   "cell_type": "code",
   "execution_count": 33,
   "metadata": {},
   "outputs": [
    {
     "name": "stdout",
     "output_type": "stream",
     "text": [
      "[[0, 0, 0], [0, 0, 0], [0, 0, 0], [0, 0, 0]]\n",
      "[[0, 0, 0], [0, 0, 0], [0, 0, 0], [0, 0, 0]]\n",
      "[[0, 0, 0], [0, 5, 0], [0, 0, 0], [0, 0, 0]]\n",
      "[[0, 5, 0], [0, 5, 0], [0, 5, 0], [0, 5, 0]]\n"
     ]
    }
   ],
   "source": [
    "# 리스트 컴프리헨션은 2차원 리스트를 초기화할 때 효과적으로 사용할 수 있다.\n",
    "n = 4\n",
    "m = 3\n",
    "\n",
    "array = [[0]*m for _ in range(n)]\n",
    "print(array)\n",
    "\n",
    "# 잘못된 방법\n",
    "\n",
    "array_error = [[0] * m] * n\n",
    "print(array_error)\n",
    "\n",
    "# 모양은 똑같지만 내부 구조가 다르다\n",
    "\n",
    "array[1][1] = 5\n",
    "print(array)\n",
    "\n",
    "array_error[1][1] = 5\n",
    "print(array_error) # 내부가 같은 객체로 인식되기 때문이다."
   ]
  },
  {
   "cell_type": "code",
   "execution_count": 35,
   "metadata": {},
   "outputs": [
    {
     "name": "stdout",
     "output_type": "stream",
     "text": [
      "45\n",
      "hello\n",
      "hello\n",
      "hello\n",
      "hello\n",
      "hello\n"
     ]
    }
   ],
   "source": [
    "# _언더바는 반복을 위한 변수의 값을 무시하고자 할 때 언더바를 사용한다.\n",
    "\n",
    "summary = 0\n",
    "for i in range(1, 10):\n",
    "    summary += i\n",
    "print(summary)\n",
    "\n",
    "for _ in range(5):\n",
    "    print(\"hello\") # 그냥 다섯번 반복해"
   ]
  },
  {
   "cell_type": "markdown",
   "metadata": {},
   "source": [
    "- append() : 리스트에 원소를 하나 삽입 , O(1)\n",
    "- sort() : 기본 정렬 기능으로 오름차순으로 정렬 , O(NlogN)\n",
    "- sort(reverse=True) : 내림차순정렬 , O(NlogN)\n",
    "- insert() : 특정 인덱스 위치에 원소를 삽입, O(N)\n",
    "- count() : 리스트에서 특정한 값을 가지는 데이터 개수, O(N)\n",
    "- remove() : 특정한 값을 갖는 원소 제거, 값을 가진 원소가 여러 개면 하나만 제거, O(N)"
   ]
  },
  {
   "cell_type": "code",
   "execution_count": 37,
   "metadata": {},
   "outputs": [
    {
     "name": "stdout",
     "output_type": "stream",
     "text": [
      "[1, 4, 3, 2]\n",
      "[1, 2, 3, 4]\n",
      "[4, 3, 2, 1]\n",
      "[1, 2, 3, 4]\n",
      "[1, 2, 3, 3, 4]\n",
      "2\n",
      "[2, 3, 3, 4]\n",
      "[1, 2, 4]\n"
     ]
    }
   ],
   "source": [
    "a = [1, 4, 3]\n",
    "# 원소 삽입\n",
    "a.append(2)\n",
    "print(a)\n",
    "\n",
    "#  오름차순 정렬\n",
    "a.sort()\n",
    "print(a)\n",
    "\n",
    "# 내림차순 정렬\n",
    "a.sort(reverse=True)\n",
    "print(a)\n",
    "\n",
    "# 원소 뒤집기 \n",
    "a.reverse()\n",
    "print(a)\n",
    "\n",
    "# 특정 인덱스에 데이터 추가\n",
    "a.insert(2, 3) # 인덱스 2에 3 추가\n",
    "print(a)\n",
    "\n",
    "# 특정 값인 데이터 개수 세기\n",
    "print(a.count(3))\n",
    "\n",
    "# 특정 값 데이터 삭제\n",
    "a.remove(1)\n",
    "print(a)\n",
    "\n",
    "# 리스트에서 특정 값을 가지는 원소를 모두 제거한다면?\n",
    "a = [1, 2, 3, 4, 5, 5, 5]\n",
    "remove_set = {3, 5} # 특정값 존재유무 파악할 때 유용하게 쓰인다.\n",
    "\n",
    "result = [i for i in a if i not in remove_set]\n",
    "print(result)\n",
    "\n"
   ]
  },
  {
   "cell_type": "markdown",
   "metadata": {},
   "source": [
    "### 문자열 자료형, 튜플 자료형\n",
    "- '', \"\" 를 사용해서표현\n",
    "- 백슬래쉬를 사용해서 표현가능\n",
    "- 슬라이싱은 가능하나 특정 인덱스의 값 변경은 불가능"
   ]
  },
  {
   "cell_type": "code",
   "execution_count": 39,
   "metadata": {},
   "outputs": [
    {
     "name": "stdout",
     "output_type": "stream",
     "text": [
      "Hello World\n",
      "Don't you know \"Python\"?\n"
     ]
    }
   ],
   "source": [
    "data = 'Hello World'\n",
    "print(data)\n",
    "\n",
    "data = \"Don't you know \\\"Python\\\"?\"\n",
    "print(data)"
   ]
  },
  {
   "cell_type": "code",
   "execution_count": 42,
   "metadata": {
    "collapsed": true
   },
   "outputs": [
    {
     "name": "stdout",
     "output_type": "stream",
     "text": [
      "hello python\n",
      "StringStringString\n",
      "CD\n"
     ]
    },
    {
     "ename": "TypeError",
     "evalue": "'str' object does not support item assignment",
     "output_type": "error",
     "traceback": [
      "\u001b[1;31m---------------------------------------------------------------------------\u001b[0m",
      "\u001b[1;31mTypeError\u001b[0m                                 Traceback (most recent call last)",
      "\u001b[1;32m<ipython-input-42-55efaa61a11f>\u001b[0m in \u001b[0;36m<module>\u001b[1;34m\u001b[0m\n\u001b[0;32m     10\u001b[0m \u001b[0mprint\u001b[0m\u001b[1;33m(\u001b[0m\u001b[0ma\u001b[0m\u001b[1;33m[\u001b[0m\u001b[1;36m2\u001b[0m\u001b[1;33m:\u001b[0m\u001b[1;36m4\u001b[0m\u001b[1;33m]\u001b[0m\u001b[1;33m)\u001b[0m\u001b[1;33m\u001b[0m\u001b[1;33m\u001b[0m\u001b[0m\n\u001b[0;32m     11\u001b[0m \u001b[1;33m\u001b[0m\u001b[0m\n\u001b[1;32m---> 12\u001b[1;33m \u001b[0ma\u001b[0m\u001b[1;33m[\u001b[0m\u001b[1;36m2\u001b[0m\u001b[1;33m]\u001b[0m \u001b[1;33m=\u001b[0m \u001b[1;34m'd'\u001b[0m\u001b[1;33m\u001b[0m\u001b[1;33m\u001b[0m\u001b[0m\n\u001b[0m\u001b[0;32m     13\u001b[0m \u001b[0mprint\u001b[0m\u001b[1;33m(\u001b[0m\u001b[0ma\u001b[0m\u001b[1;33m)\u001b[0m \u001b[1;31m# str 객체는 원소 할당을 지원하지 않는다.\u001b[0m\u001b[1;33m\u001b[0m\u001b[1;33m\u001b[0m\u001b[0m\n",
      "\u001b[1;31mTypeError\u001b[0m: 'str' object does not support item assignment"
     ]
    }
   ],
   "source": [
    "# 문자열 연산\n",
    "a = \"hello\"\n",
    "b = \"python\"\n",
    "print(a+\" \"+b)\n",
    "\n",
    "a =\"String\"\n",
    "print(a*3)\n",
    "\n",
    "a = \"ABCDEF\"\n",
    "print(a[2:4])\n",
    "\n",
    "a[2] = 'd'\n",
    "print(a) # str 객체는 원소 할당을 지원하지 않는다."
   ]
  },
  {
   "cell_type": "code",
   "execution_count": 45,
   "metadata": {
    "collapsed": true
   },
   "outputs": [
    {
     "name": "stdout",
     "output_type": "stream",
     "text": [
      "4\n",
      "(2, 3, 4)\n"
     ]
    },
    {
     "ename": "TypeError",
     "evalue": "'tuple' object does not support item assignment",
     "output_type": "error",
     "traceback": [
      "\u001b[1;31m---------------------------------------------------------------------------\u001b[0m",
      "\u001b[1;31mTypeError\u001b[0m                                 Traceback (most recent call last)",
      "\u001b[1;32m<ipython-input-45-d23032dec790>\u001b[0m in \u001b[0;36m<module>\u001b[1;34m\u001b[0m\n\u001b[0;32m      9\u001b[0m \u001b[1;33m\u001b[0m\u001b[0m\n\u001b[0;32m     10\u001b[0m \u001b[1;31m# 값 변경\u001b[0m\u001b[1;33m\u001b[0m\u001b[1;33m\u001b[0m\u001b[1;33m\u001b[0m\u001b[0m\n\u001b[1;32m---> 11\u001b[1;33m \u001b[0ma\u001b[0m\u001b[1;33m[\u001b[0m\u001b[1;36m2\u001b[0m\u001b[1;33m]\u001b[0m \u001b[1;33m=\u001b[0m \u001b[1;36m7\u001b[0m\u001b[1;33m\u001b[0m\u001b[1;33m\u001b[0m\u001b[0m\n\u001b[0m",
      "\u001b[1;31mTypeError\u001b[0m: 'tuple' object does not support item assignment"
     ]
    }
   ],
   "source": [
    "# 튜플은 한 번 선언된 값을 변경할 수 없다. (Immutable)\n",
    "\n",
    "a = (1,2,3,4,5,6,7,8,9)\n",
    "# 네번째 원소만 출력\n",
    "print(a[3])\n",
    "\n",
    "# 두 번째 원소부터 네 번째 원소까지\n",
    "print(a[1 : 4])\n",
    "\n",
    "# 값 변경\n",
    "a[2] = 7 # 튜플은 할당 불가능"
   ]
  },
  {
   "cell_type": "markdown",
   "metadata": {},
   "source": [
    "### 튜플을 사용하기 좋은 경우\n",
    "- 서로 다른 성질의 데이터를 묶어서 관리할 때\n",
    "- 최단 경로 알고리즘에서는 (비용, 노드번호)의 형태로 튜플 자료형 사용\n",
    "- 데이터의 나열을 해싱의 키 값으로 사용해야 할 때\n",
    "- 리스트보다 메모리를 효율적으로 사용해야 할 때\n"
   ]
  },
  {
   "cell_type": "markdown",
   "metadata": {},
   "source": [
    "### 사전 자료형, 집합 자료형\n",
    "- 키와 값의 쌍을 데이터로 가지는 자료형\n",
    "- 변경 불가능한 자료형을 key로 사용 할 수 있다.\n",
    "- 파이썬의 사전 자료형은 해시 테이블을 이용하므로 데이터의 조회 및 수정에 있어서 O(1)의 시간에 처리할 수 있다."
   ]
  },
  {
   "cell_type": "code",
   "execution_count": 46,
   "metadata": {},
   "outputs": [
    {
     "name": "stdout",
     "output_type": "stream",
     "text": [
      "{'사과': 'Apple', '바나나': 'Banana', '코코넛': 'Coconut'}\n",
      "'사과'를 키값으로 가지는 데이터가 존재합니다.\n"
     ]
    }
   ],
   "source": [
    "data = dict()\n",
    "data['사과'] = 'Apple'\n",
    "data['바나나'] = 'Banana'\n",
    "data['코코넛'] = 'Coconut'\n",
    "\n",
    "print(data)\n",
    "\n",
    "if '사과' in data:\n",
    "    print(\"'사과'를 키값으로 가지는 데이터가 존재합니다.\")"
   ]
  },
  {
   "cell_type": "code",
   "execution_count": 49,
   "metadata": {},
   "outputs": [
    {
     "name": "stdout",
     "output_type": "stream",
     "text": [
      "['사과', '바나나', '코코넛']\n",
      "['Apple', 'Banana', 'Coconut']\n"
     ]
    }
   ],
   "source": [
    "key_list = list(data.keys())\n",
    "value_list = list(data.values())\n",
    "\n",
    "print(key_list)\n",
    "print(value_list)\n",
    "\n",
    "# 리스트로 사용하고 싶으면 list로 casting을 해주면 된다."
   ]
  },
  {
   "cell_type": "code",
   "execution_count": 48,
   "metadata": {},
   "outputs": [
    {
     "name": "stdout",
     "output_type": "stream",
     "text": [
      "Apple\n",
      "Banana\n",
      "Coconut\n"
     ]
    }
   ],
   "source": [
    "for key in key_list:\n",
    "    print(data[key])"
   ]
  },
  {
   "cell_type": "code",
   "execution_count": 53,
   "metadata": {},
   "outputs": [
    {
     "name": "stdout",
     "output_type": "stream",
     "text": [
      "{1, 2, 3, 4, 5}\n",
      "{1, 2, 3, 4, 5}\n"
     ]
    }
   ],
   "source": [
    "# 집합 자료형( 중복 , 순서 X )\n",
    "# set()함수 및 중괄호안에 ,(콤마)를 사용해서 초기화 가능\n",
    "\n",
    "data = set([1,1,2,3,4,4,5])\n",
    "print(data)\n",
    "\n",
    "data = {1,1,2,3,4,4,5}\n",
    "print(data)"
   ]
  },
  {
   "cell_type": "code",
   "execution_count": 56,
   "metadata": {},
   "outputs": [
    {
     "name": "stdout",
     "output_type": "stream",
     "text": [
      "{1, 2, 3, 4, 5, 6, 7}\n",
      "{3, 4, 5}\n",
      "{1, 2}\n",
      "{1, 2, 3, 4}\n",
      "{1, 2, 3, 4, 5, 6}\n",
      "{1, 2, 4, 5, 6}\n"
     ]
    }
   ],
   "source": [
    "# 합집합, 교집합, 차집합 등을 사용할 수 있다.\n",
    "\n",
    "a = set([1,2,3,4,5])\n",
    "b = {3,4,5,6,7}\n",
    "\n",
    "# 합집합\n",
    "print(a | b)\n",
    "# 교집합\n",
    "print(a & b)\n",
    "# 차집합 \n",
    "print(a - b)\n",
    "\n",
    "data = set([1,2,3])\n",
    "#  새로운 원소 추가\n",
    "data.add(4)\n",
    "print(data)\n",
    "\n",
    "# 새로운 원소 여러 개 추가\n",
    "data.update([5,6])\n",
    "print(data)\n",
    "\n",
    "# 특정값을 갖는 원소 삭제\n",
    "data.remove(3)\n",
    "print(data)"
   ]
  },
  {
   "cell_type": "markdown",
   "metadata": {},
   "source": [
    "### 파이썬의 기본 입출력\n",
    "- 프로그램 동작의 첫 번째 단계는 데이터를 입력 받거나 생성하는 것이다.\n",
    "- 예) 학생의 성적 데이터가 주어지고, 이를 내림차순으로 정렬한 결과를 출력하는 프로그램"
   ]
  },
  {
   "cell_type": "markdown",
   "metadata": {},
   "source": [
    "- input() 한 줄의 문자열을 입력 받는 함수\n",
    "- map() 리스트의 모든 원소에 각각 특정한 함수를 적용할 때 사용\n",
    "- 예시) 공백을 기준으로 구분된 데이터를 입력 받을 때는 다음과 같이 사용\n",
    "- list(map(int, input().split()))\n",
    "- 예시) 공백을 기준으로 구분된 데이터의 개수가 많지 않다면, 다음과 같이 사용\n",
    "- a, b, c = map(int, input().split())"
   ]
  },
  {
   "cell_type": "code",
   "execution_count": 58,
   "metadata": {},
   "outputs": [
    {
     "name": "stdout",
     "output_type": "stream",
     "text": [
      "5\n",
      "10 20 30 40 50\n",
      "[10, 20, 30, 40, 50]\n"
     ]
    }
   ],
   "source": [
    "# 데이터 개수 입력\n",
    "n = int(input())\n",
    "# 각 데이터를 공백을 기준으로 구분하여 입력\n",
    "data = list(map(int, input().split()))\n",
    "print(data)"
   ]
  },
  {
   "cell_type": "code",
   "execution_count": 59,
   "metadata": {},
   "outputs": [
    {
     "name": "stdout",
     "output_type": "stream",
     "text": [
      "1 2 3\n",
      "1 2 3\n"
     ]
    }
   ],
   "source": [
    "a, b, c = map(int, input().split()) # 패킹\n",
    "print(a, b, c)"
   ]
  },
  {
   "cell_type": "code",
   "execution_count": 61,
   "metadata": {},
   "outputs": [
    {
     "name": "stdout",
     "output_type": "stream",
     "text": [
      "1 2 3 4\n"
     ]
    },
    {
     "ename": "ValueError",
     "evalue": "too many values to unpack (expected 3)",
     "output_type": "error",
     "traceback": [
      "\u001b[1;31m---------------------------------------------------------------------------\u001b[0m",
      "\u001b[1;31mValueError\u001b[0m                                Traceback (most recent call last)",
      "\u001b[1;32m<ipython-input-61-3815175f6df7>\u001b[0m in \u001b[0;36m<module>\u001b[1;34m\u001b[0m\n\u001b[1;32m----> 1\u001b[1;33m \u001b[0ma\u001b[0m\u001b[1;33m,\u001b[0m \u001b[0mb\u001b[0m\u001b[1;33m,\u001b[0m \u001b[0mc\u001b[0m \u001b[1;33m=\u001b[0m \u001b[0mmap\u001b[0m\u001b[1;33m(\u001b[0m\u001b[0mint\u001b[0m\u001b[1;33m,\u001b[0m \u001b[0minput\u001b[0m\u001b[1;33m(\u001b[0m\u001b[1;33m)\u001b[0m\u001b[1;33m.\u001b[0m\u001b[0msplit\u001b[0m\u001b[1;33m(\u001b[0m\u001b[1;33m)\u001b[0m\u001b[1;33m)\u001b[0m \u001b[1;31m# 만약 4개라면?\u001b[0m\u001b[1;33m\u001b[0m\u001b[1;33m\u001b[0m\u001b[0m\n\u001b[0m\u001b[0;32m      2\u001b[0m \u001b[0mprint\u001b[0m\u001b[1;33m(\u001b[0m\u001b[0ma\u001b[0m\u001b[1;33m,\u001b[0m \u001b[0mb\u001b[0m\u001b[1;33m,\u001b[0m \u001b[0mc\u001b[0m\u001b[1;33m)\u001b[0m \u001b[1;31m# 오류 발생, 3개의 변수를 언패킹해야하는데 너무 많은 데이터가 들어가서 오류\u001b[0m\u001b[1;33m\u001b[0m\u001b[1;33m\u001b[0m\u001b[0m\n",
      "\u001b[1;31mValueError\u001b[0m: too many values to unpack (expected 3)"
     ]
    }
   ],
   "source": [
    "a, b, c = map(int, input().split()) # 만약 4개라면?\n",
    "print(a, b, c) # 오류 발생, 3개의 변수를 언패킹해야하는데 너무 많은 데이터가 들어가서 오류 "
   ]
  },
  {
   "cell_type": "markdown",
   "metadata": {},
   "source": [
    "- 사용자로부터 입력을 최대한 빠르게 받아야 하는 경우도 있다.\n",
    "- 파이썬 sys 라이브러리에 정의되어 있는 sys.stdin.readline() 메서드 이용\n",
    "- 단, 입력 후 엔터가 줄 바꿈 기호로 입력되므로 rstrip() 메서드를 함께 사용"
   ]
  },
  {
   "cell_type": "code",
   "execution_count": 62,
   "metadata": {},
   "outputs": [
    {
     "name": "stdout",
     "output_type": "stream",
     "text": [
      "\n"
     ]
    }
   ],
   "source": [
    "import sys\n",
    "\n",
    "# 문자열 입력 받기\n",
    "data = sys.stdin.readline().rstrip()\n",
    "print(data)"
   ]
  },
  {
   "cell_type": "markdown",
   "metadata": {},
   "source": [
    "- 표준 출력 방법\n",
    "- print() 함수, 기본적으로 출력 이후에 줄 바꿈을 수행한다.\n",
    "- end 속성을 이용해서 줄바꿈을 취소할 수 있다."
   ]
  },
  {
   "cell_type": "code",
   "execution_count": 63,
   "metadata": {},
   "outputs": [
    {
     "name": "stdout",
     "output_type": "stream",
     "text": [
      "1 2\n",
      "7 8 정답은7입니다.\n"
     ]
    }
   ],
   "source": [
    "a = 1\n",
    "b = 2\n",
    "print(a, b)\n",
    "print(7, end = \" \")\n",
    "print(8, end = \" \")\n",
    "\n",
    "# 출력할 변수\n",
    "answer = 7\n",
    "print(\"정답은\" + str(answer) + \"입니다.\")"
   ]
  },
  {
   "cell_type": "code",
   "execution_count": 64,
   "metadata": {},
   "outputs": [
    {
     "name": "stdout",
     "output_type": "stream",
     "text": [
      "정답은 7입니다.\n"
     ]
    }
   ],
   "source": [
    "# f-string 예제\n",
    "answer = 7\n",
    "print(f\"정답은 {answer}입니다.\") # 문자열과 숫자 데이터를 함께 출력하기 위함"
   ]
  },
  {
   "cell_type": "code",
   "execution_count": null,
   "metadata": {},
   "outputs": [],
   "source": []
  }
 ],
 "metadata": {
  "kernelspec": {
   "display_name": "Python 3",
   "language": "python",
   "name": "python3"
  },
  "language_info": {
   "codemirror_mode": {
    "name": "ipython",
    "version": 3
   },
   "file_extension": ".py",
   "mimetype": "text/x-python",
   "name": "python",
   "nbconvert_exporter": "python",
   "pygments_lexer": "ipython3",
   "version": "3.8.5"
  }
 },
 "nbformat": 4,
 "nbformat_minor": 4
}
