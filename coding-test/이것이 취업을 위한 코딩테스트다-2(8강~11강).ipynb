{
 "cells": [
  {
   "cell_type": "markdown",
   "metadata": {},
   "source": [
    "### 조건문과 반복문\n",
    "- 프로그램의 흐름을 제어하는 문법"
   ]
  },
  {
   "cell_type": "code",
   "execution_count": 2,
   "metadata": {},
   "outputs": [
    {
     "name": "stdout",
     "output_type": "stream",
     "text": [
      "x >= 10\n",
      "x >= 0\n"
     ]
    }
   ],
   "source": [
    "x = 15\n",
    "\n",
    "if x >= 10:\n",
    "    print(\"x >= 10\")\n",
    "\n",
    "if x >= 0:\n",
    "    print(\"x >= 0\")\n",
    "\n",
    "if x >= 30:\n",
    "    print(\"x >= 30\")"
   ]
  },
  {
   "cell_type": "code",
   "execution_count": 4,
   "metadata": {},
   "outputs": [
    {
     "name": "stdout",
     "output_type": "stream",
     "text": [
      "성적이 70점 이상\n",
      "프로그램을 종료합니다.\n"
     ]
    }
   ],
   "source": [
    "# 코드의 블록을 들여쓰기(indent)로 지정\n",
    "score = 85\n",
    "\n",
    "if score >= 70:\n",
    "    print('성적이 70점 이상')\n",
    "    if score >= 90:\n",
    "        print('우수한 성적')\n",
    "\n",
    "else :\n",
    "    print('성적이 70점 미만')\n",
    "    print('분발하세요.')\n",
    "\n",
    "print('프로그램을 종료합니다.') # 무조건 실행됨"
   ]
  },
  {
   "cell_type": "code",
   "execution_count": 7,
   "metadata": {},
   "outputs": [
    {
     "name": "stdout",
     "output_type": "stream",
     "text": [
      "0 > a >= -10\n"
     ]
    }
   ],
   "source": [
    "a = -5\n",
    "\n",
    "if a >= 0 :\n",
    "    print(\"a >= 0\")\n",
    "\n",
    "elif a >= -10:\n",
    "    print(\"0 > a >= -10\")\n",
    "\n",
    "else:\n",
    "    print(\"-10 > a\")"
   ]
  },
  {
   "cell_type": "markdown",
   "metadata": {},
   "source": [
    "### 비교연산자\n",
    "- == 같을 때 참\n",
    "- != 다를 때 참\n",
    "- X > Y : X가 Y보다 클 때 참\n",
    "- X < Y : X가 Y보다 작을 때 참\n",
    "- X >= Y : X가 Y보다 크거나 같을 때 참\n",
    "- X <= Y : X가 Y보다 작거나 같을 떄 참"
   ]
  },
  {
   "cell_type": "markdown",
   "metadata": {},
   "source": [
    "### 논리 연산자\n",
    "- X and Y :  X가 Y가 모두 참일 때 참\n",
    "- X or Y : X가 Y중 하나만 참이어도 참\n",
    "- not X : X가 거짓일 때 참"
   ]
  },
  {
   "cell_type": "code",
   "execution_count": 8,
   "metadata": {},
   "outputs": [
    {
     "name": "stdout",
     "output_type": "stream",
     "text": [
      "Yes\n"
     ]
    }
   ],
   "source": [
    "if True or False :\n",
    "    print(\"Yes\")"
   ]
  },
  {
   "cell_type": "code",
   "execution_count": 10,
   "metadata": {},
   "outputs": [
    {
     "name": "stdout",
     "output_type": "stream",
     "text": [
      "YES\n"
     ]
    }
   ],
   "source": [
    "a = 16\n",
    "if a <= 20 and a >= 0 : # 20이하 0이상\n",
    "    print(\"YES\")"
   ]
  },
  {
   "cell_type": "markdown",
   "metadata": {},
   "source": [
    "### 기타 연산자\n",
    "- x in 리스트 : 리스트 안에 x가 들어가 있을 때 참\n",
    "- x not in 문자열 : 문자열 안에 x가 들어 있지 않을 때 참\n",
    "- 아무것도 처리하고 싶지 않을 때 pass 키워드 사용"
   ]
  },
  {
   "cell_type": "markdown",
   "metadata": {},
   "source": [
    "### 조건문의 간소화\n",
    "- 조건문에서 실행될 소스코드가 한 줄인 경우, 줄 바꿈 하지 않고도 표현 가능"
   ]
  },
  {
   "cell_type": "code",
   "execution_count": 13,
   "metadata": {},
   "outputs": [],
   "source": [
    "score = 85\n",
    "\n",
    "if score >= 80: result = \"success\"\n",
    "else: result = \"Fail\""
   ]
  },
  {
   "cell_type": "code",
   "execution_count": 15,
   "metadata": {},
   "outputs": [
    {
     "name": "stdout",
     "output_type": "stream",
     "text": [
      "success\n"
     ]
    }
   ],
   "source": [
    "# 조건부 표현식은 if-else문을 한 줄에 작성할 수 있도록 해준다.\n",
    "score = 85\n",
    "result = \"success\" if score >= 80 else \"fail\"\n",
    "print(result)"
   ]
  },
  {
   "cell_type": "code",
   "execution_count": 17,
   "metadata": {},
   "outputs": [
    {
     "name": "stdout",
     "output_type": "stream",
     "text": [
      "x는 0 이상 20 미만의 수\n",
      "x는 0 이상 20 미만의 수\n"
     ]
    }
   ],
   "source": [
    "# 코드 스타일 1\n",
    "x = 15\n",
    "if x > 0 and x < 20 :\n",
    "    print(\"x는 0 이상 20 미만의 수\")\n",
    "    \n",
    "# 코드 스타일 2\n",
    "if 0< x < 20:\n",
    "    print(\"x는 0 이상 20 미만의 수\")\n",
    "    \n",
    "# 코드 스타일 1로 사용하면 범용성이 뛰어남."
   ]
  },
  {
   "cell_type": "markdown",
   "metadata": {},
   "source": [
    "### 반복문 \n",
    "- 특정 코드를 반복적으로 실행하고자 할 때 사용하는 문법\n",
    "- for 문이 더 간결한 경우가 많다.\n",
    "- 반복문을 작성한 뒤에는 항상 반복문을 탈출할 수 있는지 확인이 필요함"
   ]
  },
  {
   "cell_type": "code",
   "execution_count": 19,
   "metadata": {},
   "outputs": [
    {
     "name": "stdout",
     "output_type": "stream",
     "text": [
      "45\n"
     ]
    }
   ],
   "source": [
    "i = 1\n",
    "result = 0\n",
    "\n",
    "# i 가 9보다 작거나 같을 때 아래 코드를 반복적으로 실행\n",
    "\n",
    "while i <= 9 :\n",
    "    result += i\n",
    "    i += 1\n",
    "\n",
    "print(result)"
   ]
  },
  {
   "cell_type": "code",
   "execution_count": 23,
   "metadata": {},
   "outputs": [
    {
     "name": "stdout",
     "output_type": "stream",
     "text": [
      "9 8 7 6 5 "
     ]
    }
   ],
   "source": [
    "array = [9, 8, 7, 6, 5]\n",
    "\n",
    "for x in array :\n",
    "    print(x, end = \" \")"
   ]
  },
  {
   "cell_type": "code",
   "execution_count": 24,
   "metadata": {},
   "outputs": [
    {
     "name": "stdout",
     "output_type": "stream",
     "text": [
      "90\n"
     ]
    }
   ],
   "source": [
    "for i in range(1, 10):\n",
    "    result += i\n",
    "print(result)"
   ]
  },
  {
   "cell_type": "code",
   "execution_count": 1,
   "metadata": {},
   "outputs": [
    {
     "name": "stdout",
     "output_type": "stream",
     "text": [
      "465\n"
     ]
    }
   ],
   "source": [
    "# 1부터 30까지 모든 정수의 합 구하기\n",
    "result = 0\n",
    "\n",
    "for i in range(1,31):\n",
    "    result += i\n",
    "    \n",
    "print(result)"
   ]
  },
  {
   "cell_type": "code",
   "execution_count": 2,
   "metadata": {},
   "outputs": [
    {
     "name": "stdout",
     "output_type": "stream",
     "text": [
      "25\n"
     ]
    }
   ],
   "source": [
    "# continue 키워드\n",
    "# 남은 코드의 실행을 건너뛰고, 다음 반복을 진행하고자 할 때 continue 사용\n",
    "\n",
    "result = 0\n",
    "\n",
    "for i in range(1, 10):\n",
    "    if i % 2 == 0:\n",
    "        continue\n",
    "    result += i\n",
    "\n",
    "print(result)"
   ]
  },
  {
   "cell_type": "code",
   "execution_count": 3,
   "metadata": {},
   "outputs": [
    {
     "name": "stdout",
     "output_type": "stream",
     "text": [
      "1 번 학생은 합격입니다.\n",
      "2 번 학생은 합격입니다.\n",
      "5 번 학생은 합격입니다.\n"
     ]
    }
   ],
   "source": [
    "scores = [90, 85, 77, 65, 97]\n",
    "\n",
    "for i in range(5):\n",
    "    if scores[i] >= 80:\n",
    "        print(i + 1, \"번 학생은 합격입니다.\")"
   ]
  },
  {
   "cell_type": "code",
   "execution_count": 4,
   "metadata": {},
   "outputs": [
    {
     "name": "stdout",
     "output_type": "stream",
     "text": [
      "1 번 학생은 합격입니다.\n",
      "5 번 학생은 합격입니다.\n"
     ]
    }
   ],
   "source": [
    "scores = [90, 85, 77, 65, 97]\n",
    "cheating_student_list = {2, 4}\n",
    "\n",
    "for i in range(5):\n",
    "    if i + 1 in cheating_student_list:\n",
    "        continue\n",
    "    \n",
    "    if scores[i] >= 80:\n",
    "        print(i + 1, \"번 학생은 합격입니다.\")"
   ]
  },
  {
   "cell_type": "code",
   "execution_count": 5,
   "metadata": {
    "collapsed": true
   },
   "outputs": [
    {
     "name": "stdout",
     "output_type": "stream",
     "text": [
      "2 X 1 = 2\n",
      "2 X 2 = 4\n",
      "2 X 3 = 6\n",
      "2 X 4 = 8\n",
      "2 X 5 = 10\n",
      "2 X 6 = 12\n",
      "2 X 7 = 14\n",
      "2 X 8 = 16\n",
      "2 X 9 = 18\n",
      "\n",
      "3 X 1 = 3\n",
      "3 X 2 = 6\n",
      "3 X 3 = 9\n",
      "3 X 4 = 12\n",
      "3 X 5 = 15\n",
      "3 X 6 = 18\n",
      "3 X 7 = 21\n",
      "3 X 8 = 24\n",
      "3 X 9 = 27\n",
      "\n",
      "4 X 1 = 4\n",
      "4 X 2 = 8\n",
      "4 X 3 = 12\n",
      "4 X 4 = 16\n",
      "4 X 5 = 20\n",
      "4 X 6 = 24\n",
      "4 X 7 = 28\n",
      "4 X 8 = 32\n",
      "4 X 9 = 36\n",
      "\n",
      "5 X 1 = 5\n",
      "5 X 2 = 10\n",
      "5 X 3 = 15\n",
      "5 X 4 = 20\n",
      "5 X 5 = 25\n",
      "5 X 6 = 30\n",
      "5 X 7 = 35\n",
      "5 X 8 = 40\n",
      "5 X 9 = 45\n",
      "\n",
      "6 X 1 = 6\n",
      "6 X 2 = 12\n",
      "6 X 3 = 18\n",
      "6 X 4 = 24\n",
      "6 X 5 = 30\n",
      "6 X 6 = 36\n",
      "6 X 7 = 42\n",
      "6 X 8 = 48\n",
      "6 X 9 = 54\n",
      "\n",
      "7 X 1 = 7\n",
      "7 X 2 = 14\n",
      "7 X 3 = 21\n",
      "7 X 4 = 28\n",
      "7 X 5 = 35\n",
      "7 X 6 = 42\n",
      "7 X 7 = 49\n",
      "7 X 8 = 56\n",
      "7 X 9 = 63\n",
      "\n",
      "8 X 1 = 8\n",
      "8 X 2 = 16\n",
      "8 X 3 = 24\n",
      "8 X 4 = 32\n",
      "8 X 5 = 40\n",
      "8 X 6 = 48\n",
      "8 X 7 = 56\n",
      "8 X 8 = 64\n",
      "8 X 9 = 72\n",
      "\n",
      "9 X 1 = 9\n",
      "9 X 2 = 18\n",
      "9 X 3 = 27\n",
      "9 X 4 = 36\n",
      "9 X 5 = 45\n",
      "9 X 6 = 54\n",
      "9 X 7 = 63\n",
      "9 X 8 = 72\n",
      "9 X 9 = 81\n",
      "\n"
     ]
    }
   ],
   "source": [
    "# 구구단 예제\n",
    "for i in range(2, 10):\n",
    "    for j in range(1, 10):\n",
    "        print(i, \"X\", j, \"=\", i*j)\n",
    "    print()"
   ]
  },
  {
   "cell_type": "markdown",
   "metadata": {},
   "source": [
    "### 함수와 람다 표현식\n",
    "- 함수란 특정한 작업을 하나의 단위로 묶어 놓은 것\n",
    "- 함수를 사용하면 불필요한 소스코드의 반복을 줄일 수 있다.\n",
    "- 내장 함수(파이썬이 기본적으로 제공) vs 사용자 정의 함수(개발자가 직접 정의)\n",
    "- 파이썬에서 함수는 여러 개의 반환값을 가질 수 있다."
   ]
  },
  {
   "cell_type": "markdown",
   "metadata": {},
   "source": [
    "- 매개변수(parameter) : 함수 내부에서 사용할 변수\n",
    "- 반환 값 : 함수에서 처리된 결과를 반환\n",
    "- 파라미터의 변수를 직접 지정할 수도 있는데, 순서는 달라도 상관이 없다"
   ]
  },
  {
   "cell_type": "code",
   "execution_count": 6,
   "metadata": {},
   "outputs": [],
   "source": [
    "# def 함수명(매개변수):\n",
    "#     실행할 소스코드\n",
    "#     return 반환 값"
   ]
  },
  {
   "cell_type": "code",
   "execution_count": 9,
   "metadata": {},
   "outputs": [
    {
     "name": "stdout",
     "output_type": "stream",
     "text": [
      "10\n"
     ]
    }
   ],
   "source": [
    "# 더하기 함수 \n",
    "def add(a, b): # 매개변수에 3과 7이 들어옴 parameter\n",
    "    return a + b\n",
    "\n",
    "print(add(3, 7)) # 3과 7을 인자로 넣어줌 argument"
   ]
  },
  {
   "cell_type": "code",
   "execution_count": 10,
   "metadata": {},
   "outputs": [
    {
     "name": "stdout",
     "output_type": "stream",
     "text": [
      "함수의 결과 10\n"
     ]
    }
   ],
   "source": [
    "def add(a, b):\n",
    "    print('함수의 결과: ', a + b)\n",
    "    \n",
    "add(3, 7) # 꼭 return 이 존재하지 않아도 된다."
   ]
  },
  {
   "cell_type": "markdown",
   "metadata": {},
   "source": [
    "- global 키워드로 변수를 지정하면 해당 함수에서는 지역 변수를 만들지 않고, 함수 바깥에 선언된 변수를 바로 참조"
   ]
  },
  {
   "cell_type": "code",
   "execution_count": 15,
   "metadata": {},
   "outputs": [
    {
     "name": "stdout",
     "output_type": "stream",
     "text": [
      "20\n"
     ]
    }
   ],
   "source": [
    "a = 10\n",
    "\n",
    "def func():\n",
    "    global a # 바깥쪽 a를 참조하겠다라고 명시\n",
    "    a += 1\n",
    "    \n",
    "for i in range(10):\n",
    "    func()\n",
    "    \n",
    "print(a)"
   ]
  },
  {
   "cell_type": "code",
   "execution_count": 22,
   "metadata": {},
   "outputs": [
    {
     "name": "stdout",
     "output_type": "stream",
     "text": [
      "[3, 4, 5, 6] 지역변수사용\n",
      "[1, 2, 3, 4, 5] 전역변수사용\n"
     ]
    }
   ],
   "source": [
    "# 함수안에 전역변수와 같은 변수명이 있다면 우선순위로 내부적으로 선언된 \n",
    "# 지역변수를 참조한다. \n",
    "\n",
    "array = [1,2,3,4,5]\n",
    "\n",
    "def func():\n",
    "    array = [3,4,5]\n",
    "    array.append(6)\n",
    "    print(array, \"지역변수사용\")\n",
    "    \n",
    "func()\n",
    "print(array, '전역변수사용')"
   ]
  },
  {
   "cell_type": "code",
   "execution_count": 24,
   "metadata": {},
   "outputs": [
    {
     "name": "stdout",
     "output_type": "stream",
     "text": [
      "10 4 21 2.3333333333333335\n"
     ]
    }
   ],
   "source": [
    "# 파이썬에서 함수는 여러 개의 반환값을 가질 수 있다.\n",
    "def operator(a, b):\n",
    "    add_var = a + b\n",
    "    substract_var = a - b\n",
    "    multiply_var = a * b\n",
    "    divide_var = a / b\n",
    "    return add_var, substract_var, multiply_var, divide_var\n",
    "\n",
    "a, b, c, d = operator(7, 3)\n",
    "print(a, b, c, d)"
   ]
  },
  {
   "cell_type": "markdown",
   "metadata": {},
   "source": [
    "### 람다 표현식\n",
    "- 람다 표현식을 사용하면 함수를 간단하게 작성할 수 있다.\n",
    "- 특정한 기능을 수행하는 함수를 한 줄에 작성\n",
    "- 형태 = lambda 매개변수 : 반환값"
   ]
  },
  {
   "cell_type": "code",
   "execution_count": 25,
   "metadata": {},
   "outputs": [
    {
     "name": "stdout",
     "output_type": "stream",
     "text": [
      "10\n",
      "10\n"
     ]
    }
   ],
   "source": [
    "# 일반적인 add() 메서드 사용\n",
    "def add(a,b):\n",
    "    return a+b\n",
    "\n",
    "print(add(3,7))\n",
    "\n",
    "# 람다 표현식으로 구현한 add() 메서드\n",
    "print((lambda a, b : a + b)(3, 7))"
   ]
  },
  {
   "cell_type": "code",
   "execution_count": 28,
   "metadata": {},
   "outputs": [
    {
     "name": "stdout",
     "output_type": "stream",
     "text": [
      "[('이순신', 32), ('홍길동', 50), ('아무개', 74)]\n",
      "[('이순신', 32), ('홍길동', 50), ('아무개', 74)]\n"
     ]
    }
   ],
   "source": [
    "# 내장 함수에서 자주 사용되는 람다 함수\n",
    "array = [('홍길동', 50), ('이순신', 32), ('아무개', 74)]\n",
    "\n",
    "# 점수 순으로 오름차순 한다면?\n",
    "\n",
    "def my_key(x) :\n",
    "    return x[1] # 이순신을 기준으로 값 정렬\n",
    "\n",
    "print(sorted(array, key=my_key))\n",
    "print(sorted(array, key=lambda x: x[1])) "
   ]
  },
  {
   "cell_type": "code",
   "execution_count": 29,
   "metadata": {},
   "outputs": [
    {
     "name": "stdout",
     "output_type": "stream",
     "text": [
      "[7, 9, 11, 13, 15]\n"
     ]
    }
   ],
   "source": [
    "# 여러 개의 리스트에 적용\n",
    "list1 = [1,2,3,4,5]\n",
    "list2 = [6,7,8,9,10]\n",
    "\n",
    "result = map(lambda a, b : a + b, list1, list2)\n",
    "print(list(result))"
   ]
  },
  {
   "cell_type": "markdown",
   "metadata": {},
   "source": [
    "### 실전에서 유용한 표준 라이브러리\n",
    "\n",
    "- 내장 함수 : 기본 입출력 함수부터 정렬 등등 \n",
    "- itertools : 파이썬에서 반복되는 형태의 데이터를 처리하기 위한 기능\n",
    "- heapq : 힙(Heap) 자료구조를 제공 , 일반적으로 우선순위 큐 기능을 구현하기 위해 사용\n",
    "- bisect : 이진 탐색 기능 제공\n",
    "- collections : 덱(deque), 카운터(Counter) 등의 유용한 자료구조를 포함\n",
    "- math : 필수적인 수학 기능을 제공(팩토리얼, 제곱급, 최대공약수(GCD), 삼각함수, 파이(pi)같은 상수를 포함한다)"
   ]
  },
  {
   "cell_type": "code",
   "execution_count": 33,
   "metadata": {},
   "outputs": [
    {
     "name": "stdout",
     "output_type": "stream",
     "text": [
      "15\n",
      "2 7\n",
      "56\n",
      "[1, 4, 5, 8, 9]\n",
      "[9, 8, 5, 4, 1]\n",
      "[('아무개', 74), ('홍길동', 50), ('이순신', 32)]\n"
     ]
    }
   ],
   "source": [
    "# 1. 내장함수\n",
    "# sum()\n",
    "result = sum([1,2,3,4,5])\n",
    "print(result)\n",
    "\n",
    "# min(), max()\n",
    "min_result = min(7, 3, 5, 2)\n",
    "max_result = max(7, 3, 5, 2)\n",
    "print(min_result, max_result)\n",
    "\n",
    "# eval() : 사람의 입장에서 수식표현되어 있는 식을 연산\n",
    "result = eval(\"(3+5)*7\")\n",
    "print(result)\n",
    "\n",
    "# sorted()\n",
    "result = sorted([9, 1, 8, 5, 4]) # 오름차순\n",
    "reverse_result = sorted([9, 1, 8, 5, 4], reverse=True) # 내림차순\n",
    "print(result)\n",
    "print(reverse_result)\n",
    "\n",
    "# sorted() with key\n",
    "array = [('홍길동', 50), ('이순신', 32), ('아무개', 74)]\n",
    "# 두번째 원소(이순신 값)을 기준으로 내림차순 정렬\n",
    "result = sorted(array, key=lambda x: x[1], reverse=True)\n",
    "print(result)"
   ]
  },
  {
   "cell_type": "code",
   "execution_count": 40,
   "metadata": {},
   "outputs": [
    {
     "name": "stdout",
     "output_type": "stream",
     "text": [
      "[('A', 'B', 'C'), ('A', 'C', 'B'), ('B', 'A', 'C'), ('B', 'C', 'A'), ('C', 'A', 'B'), ('C', 'B', 'A')]\n",
      "**************************************************\n",
      "[('A', 'B'), ('A', 'C'), ('B', 'C')]\n",
      "**************************************************\n",
      "[('A', 'A'), ('A', 'B'), ('A', 'C'), ('B', 'A'), ('B', 'B'), ('B', 'C'), ('C', 'A'), ('C', 'B'), ('C', 'C')]\n",
      "**************************************************\n",
      "[('A', 'A'), ('A', 'B'), ('A', 'C'), ('B', 'B'), ('B', 'C'), ('C', 'C')]\n",
      "**************************************************\n"
     ]
    }
   ],
   "source": [
    "# 2. 순열과 조합\n",
    "# 순열 : 서로 다른 n 개에서 서로 다른 r개를 선택하여 일렬로 나열\n",
    "# 조합 : 서로 다른 n 개에서 순서에 상관 없이 서로 다른 r개를 선택\n",
    "\n",
    "# 2-1 순열\n",
    "\n",
    "from itertools import permutations\n",
    "\n",
    "data = ['A', 'B', 'C'] # 데이터 준비\n",
    "result = list(permutations(data, 3)) # 모든 순열 구하기\n",
    "print(result)\n",
    "print('*'* 50)\n",
    "\n",
    "# 2-2 조합\n",
    "\n",
    "from itertools import combinations\n",
    "\n",
    "data = ['A', 'B', 'C'] # 데이터 준비\n",
    "result = list(combinations(data, 2)) # 2개를 뽑는 모든 조합 구하기\n",
    "print(result)\n",
    "print('*'* 50)\n",
    "\n",
    "# 2-3 중복 순열\n",
    "\n",
    "from itertools import product\n",
    "\n",
    "data = ['A', 'B', 'C'] # 데이터 준비\n",
    "result = list(product(data, repeat=2)) # 2개를 뽑는 모든 순열 구하기 (중복 허용)\n",
    "print(result)\n",
    "print('*'* 50)\n",
    "\n",
    "# 2-4 중복 조합\n",
    "from itertools import combinations_with_replacement\n",
    "\n",
    "data = ['A', 'B', 'C'] # 데이터 준비\n",
    "result = list(combinations_with_replacement(data, 2)) # 2개를 뽑는 모든 조합 구하기 (중복 허용)\n",
    "print(result)\n",
    "\n",
    "print('*'* 50)"
   ]
  },
  {
   "cell_type": "code",
   "execution_count": 42,
   "metadata": {},
   "outputs": [
    {
     "name": "stdout",
     "output_type": "stream",
     "text": [
      "3\n",
      "1\n",
      "{'red': 2, 'blue': 3, 'green': 1}\n"
     ]
    }
   ],
   "source": [
    "# 3. Counter : 등장 횟수를 세는 기능 \n",
    "# 리스트와 같은 반복 가능한 객체가 주어졌을 때 내부의 원소가 몇 번씩 등장했는지를 알려준다\n",
    "\n",
    "from collections import Counter\n",
    "\n",
    "counter = Counter(['red', 'blue', 'red', 'green', 'blue', 'blue'])\n",
    "\n",
    "print(counter['blue']) # blue가 등장한 횟수 출력\n",
    "print(counter['green']) # green이 등장한 횟수 출력\n",
    "\n",
    "print(dict(counter)) # 사전 자료형으로 반환"
   ]
  },
  {
   "cell_type": "code",
   "execution_count": 43,
   "metadata": {},
   "outputs": [
    {
     "name": "stdout",
     "output_type": "stream",
     "text": [
      "7\n",
      "42\n"
     ]
    }
   ],
   "source": [
    "# 4. 최대 공약수와 최소 공배수\n",
    "# math 라이브러리의 gcd()함수 이용\n",
    "import math\n",
    "\n",
    "# 최소 공배수(LCM)를 구하는 함수\n",
    "def lcm(a, b):\n",
    "    return a * b // math.gcd(a,b)\n",
    "\n",
    "a = 21\n",
    "b = 14\n",
    "\n",
    "print(math.gcd(21, 14)) # 최대 공약수(GCD) 계산\n",
    "print(lcm(21, 14)) # 최소 공배수(LCM) 계산\n"
   ]
  },
  {
   "cell_type": "code",
   "execution_count": null,
   "metadata": {},
   "outputs": [],
   "source": []
  }
 ],
 "metadata": {
  "kernelspec": {
   "display_name": "Python 3",
   "language": "python",
   "name": "python3"
  },
  "language_info": {
   "codemirror_mode": {
    "name": "ipython",
    "version": 3
   },
   "file_extension": ".py",
   "mimetype": "text/x-python",
   "name": "python",
   "nbconvert_exporter": "python",
   "pygments_lexer": "ipython3",
   "version": "3.8.5"
  }
 },
 "nbformat": 4,
 "nbformat_minor": 4
}
