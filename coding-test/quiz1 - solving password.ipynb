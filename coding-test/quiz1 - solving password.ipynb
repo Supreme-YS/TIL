{
 "cells": [
  {
   "cell_type": "markdown",
   "metadata": {},
   "source": [
    "섬으로 향하라!\n",
    "\n",
    "'   + -- + - + -   '\n",
    "'   + --- + - +   '\n",
    "'   + -- + - + -   '\n",
    "'   + - + - + - +   '\n",
    "\n",
    "해(1)와 달(0),\n",
    "Code의 세상 안으로!(En-Coding)"
   ]
  },
  {
   "cell_type": "code",
   "execution_count": 7,
   "metadata": {},
   "outputs": [],
   "source": [
    "text = ['   + -- + - + -   ',\n",
    "        '   + --- + - +   ',\n",
    "        '   + -- + - + -   ',\n",
    "        '   + - + - + - +   ']"
   ]
  },
  {
   "cell_type": "code",
   "execution_count": 10,
   "metadata": {},
   "outputs": [
    {
     "name": "stdout",
     "output_type": "stream",
     "text": [
      "74\n",
      "69\n",
      "74\n",
      "85\n"
     ]
    }
   ],
   "source": [
    "for i in text:\n",
    "    print(int(i.strip().replace(' ', '').replace('+', '1').replace('-', '0'), 2)) # 2는 2진법을 인식해서 10진수로 바꿔준다."
   ]
  },
  {
   "cell_type": "code",
   "execution_count": 14,
   "metadata": {},
   "outputs": [],
   "source": [
    "#ord() : 문자 -> 숫자\n",
    "#chr() : 숫자 -> 문자\n",
    "l = []\n",
    "for i in text:\n",
    "    l.append(chr(int(i.strip().replace(' ', '').replace('+', '1').replace('-', '0'), 2)))"
   ]
  },
  {
   "cell_type": "code",
   "execution_count": 15,
   "metadata": {},
   "outputs": [
    {
     "name": "stdout",
     "output_type": "stream",
     "text": [
      "['J', 'E', 'J', 'U']\n"
     ]
    }
   ],
   "source": [
    "print(l)"
   ]
  },
  {
   "cell_type": "code",
   "execution_count": 18,
   "metadata": {},
   "outputs": [
    {
     "data": {
      "text/plain": [
       "'JEJU'"
      ]
     },
     "execution_count": 18,
     "metadata": {},
     "output_type": "execute_result"
    }
   ],
   "source": [
    "''.join(l)"
   ]
  },
  {
   "cell_type": "code",
   "execution_count": 20,
   "metadata": {},
   "outputs": [
    {
     "data": {
      "text/plain": [
       "'JEJU'"
      ]
     },
     "execution_count": 20,
     "metadata": {},
     "output_type": "execute_result"
    }
   ],
   "source": [
    "# list comprehension을 이용한 한 줄 코딩\n",
    "''.join([ chr(int(i.strip().replace(' ', '').replace('+', '1').replace('-', '0'), 2))for i in text])"
   ]
  },
  {
   "cell_type": "code",
   "execution_count": 23,
   "metadata": {},
   "outputs": [
    {
     "data": {
      "text/plain": [
       "[0, 2, 4, 6, 8]"
      ]
     },
     "execution_count": 23,
     "metadata": {},
     "output_type": "execute_result"
    }
   ],
   "source": [
    "# list comprehension \n",
    "[i for i in range(10) if i % 2 == 0]"
   ]
  },
  {
   "cell_type": "code",
   "execution_count": 25,
   "metadata": {},
   "outputs": [
    {
     "data": {
      "text/plain": [
       "['2 X 1 = 2',\n",
       " '2 X 2 = 4',\n",
       " '2 X 3 = 6',\n",
       " '2 X 4 = 8',\n",
       " '2 X 5 = 10',\n",
       " '2 X 6 = 12',\n",
       " '2 X 7 = 14',\n",
       " '2 X 8 = 16',\n",
       " '2 X 9 = 18',\n",
       " '3 X 1 = 3',\n",
       " '3 X 2 = 6',\n",
       " '3 X 3 = 9',\n",
       " '3 X 4 = 12',\n",
       " '3 X 5 = 15',\n",
       " '3 X 6 = 18',\n",
       " '3 X 7 = 21',\n",
       " '3 X 8 = 24',\n",
       " '3 X 9 = 27',\n",
       " '4 X 1 = 4',\n",
       " '4 X 2 = 8',\n",
       " '4 X 3 = 12',\n",
       " '4 X 4 = 16',\n",
       " '4 X 5 = 20',\n",
       " '4 X 6 = 24',\n",
       " '4 X 7 = 28',\n",
       " '4 X 8 = 32',\n",
       " '4 X 9 = 36',\n",
       " '5 X 1 = 5',\n",
       " '5 X 2 = 10',\n",
       " '5 X 3 = 15',\n",
       " '5 X 4 = 20',\n",
       " '5 X 5 = 25',\n",
       " '5 X 6 = 30',\n",
       " '5 X 7 = 35',\n",
       " '5 X 8 = 40',\n",
       " '5 X 9 = 45',\n",
       " '6 X 1 = 6',\n",
       " '6 X 2 = 12',\n",
       " '6 X 3 = 18',\n",
       " '6 X 4 = 24',\n",
       " '6 X 5 = 30',\n",
       " '6 X 6 = 36',\n",
       " '6 X 7 = 42',\n",
       " '6 X 8 = 48',\n",
       " '6 X 9 = 54',\n",
       " '7 X 1 = 7',\n",
       " '7 X 2 = 14',\n",
       " '7 X 3 = 21',\n",
       " '7 X 4 = 28',\n",
       " '7 X 5 = 35',\n",
       " '7 X 6 = 42',\n",
       " '7 X 7 = 49',\n",
       " '7 X 8 = 56',\n",
       " '7 X 9 = 63',\n",
       " '8 X 1 = 8',\n",
       " '8 X 2 = 16',\n",
       " '8 X 3 = 24',\n",
       " '8 X 4 = 32',\n",
       " '8 X 5 = 40',\n",
       " '8 X 6 = 48',\n",
       " '8 X 7 = 56',\n",
       " '8 X 8 = 64',\n",
       " '8 X 9 = 72',\n",
       " '9 X 1 = 9',\n",
       " '9 X 2 = 18',\n",
       " '9 X 3 = 27',\n",
       " '9 X 4 = 36',\n",
       " '9 X 5 = 45',\n",
       " '9 X 6 = 54',\n",
       " '9 X 7 = 63',\n",
       " '9 X 8 = 72',\n",
       " '9 X 9 = 81']"
      ]
     },
     "execution_count": 25,
     "metadata": {},
     "output_type": "execute_result"
    }
   ],
   "source": [
    "# 구구단 출력\n",
    "\n",
    "[f'{i} X {j} = {i*j}' for i in range(2, 10) for j in range(1, 10)]"
   ]
  },
  {
   "cell_type": "code",
   "execution_count": 27,
   "metadata": {},
   "outputs": [
    {
     "data": {
      "text/plain": [
       "'~11~11~11'"
      ]
     },
     "execution_count": 27,
     "metadata": {},
     "output_type": "execute_result"
    }
   ],
   "source": [
    "# replace \n",
    "# replace는 중첩도 가능하고 여러번 사용가능하다.\n",
    "'011011011'.replace('0', '!').replace('!', '+').replace('+', '~') "
   ]
  },
  {
   "cell_type": "code",
   "execution_count": 30,
   "metadata": {},
   "outputs": [
    {
     "data": {
      "text/plain": [
       "'0000000111'"
      ]
     },
     "execution_count": 30,
     "metadata": {},
     "output_type": "execute_result"
    }
   ],
   "source": [
    "# 자릿수 맞춰주는 것 \n",
    "'111'.zfill(10)"
   ]
  },
  {
   "cell_type": "code",
   "execution_count": 34,
   "metadata": {},
   "outputs": [],
   "source": [
    "s = ([i.strip().replace(' ', '').replace('+', '1').replace('-', '0') for i in text])"
   ]
  },
  {
   "cell_type": "code",
   "execution_count": 35,
   "metadata": {},
   "outputs": [
    {
     "data": {
      "text/plain": [
       "['1001010', '1000101', '1001010', '1010101']"
      ]
     },
     "execution_count": 35,
     "metadata": {},
     "output_type": "execute_result"
    }
   ],
   "source": [
    "s"
   ]
  },
  {
   "cell_type": "code",
   "execution_count": 38,
   "metadata": {},
   "outputs": [
    {
     "data": {
      "text/plain": [
       "'JEJU'"
      ]
     },
     "execution_count": 38,
     "metadata": {},
     "output_type": "execute_result"
    }
   ],
   "source": [
    "# 풀이 1\n",
    "''.join(list(map( lambda x : chr(int(x, 2)), s)))"
   ]
  },
  {
   "cell_type": "code",
   "execution_count": 39,
   "metadata": {},
   "outputs": [
    {
     "data": {
      "text/plain": [
       "'JEJU'"
      ]
     },
     "execution_count": 39,
     "metadata": {},
     "output_type": "execute_result"
    }
   ],
   "source": [
    "# 풀이 2\n",
    "\n",
    "def f(x) :\n",
    "    return chr(int(x, 2))\n",
    "\n",
    "''.join(list(map(f, s)))\n",
    "\n",
    "#zip 공부하기"
   ]
  },
  {
   "cell_type": "code",
   "execution_count": null,
   "metadata": {},
   "outputs": [],
   "source": []
  }
 ],
 "metadata": {
  "kernelspec": {
   "display_name": "Python 3",
   "language": "python",
   "name": "python3"
  },
  "language_info": {
   "codemirror_mode": {
    "name": "ipython",
    "version": 3
   },
   "file_extension": ".py",
   "mimetype": "text/x-python",
   "name": "python",
   "nbconvert_exporter": "python",
   "pygments_lexer": "ipython3",
   "version": "3.8.5"
  }
 },
 "nbformat": 4,
 "nbformat_minor": 4
}
