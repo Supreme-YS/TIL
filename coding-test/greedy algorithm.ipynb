{
 "cells": [
  {
   "cell_type": "markdown",
   "metadata": {},
   "source": [
    "### 그리디 알고리즘\n",
    "- 현재 상황에서 지금 당장 좋은 것만 고르는 방법\n",
    "- 일반적인 그리디 알고리즘은 문제를 풀기 위한 최소한의 아이디어를 떠올릴 수 있는 능력을 요구\n",
    "- 그리디 해법은 정당성 분석이 중요하다.( 단순히 가장 좋아 보이는 것을 반복적으로 선택해도 최적해를 구할 수 있는지를 검토 )\n",
    "- 대부분 코딩테스트에서는 탐욕법으로 얻은 해가 최적의 해가 되는 상황에서, 이를 추론할 수 있어야 풀리도록 출제된다."
   ]
  },
  {
   "cell_type": "markdown",
   "metadata": {},
   "source": [
    "#### 문제\n",
    "카운터에는 거스름돈으로 사용할 500원, 100원, 50원, 10원짜리 동전히 무한히 존재한다고 가정. 손님에게 거슬러 주어야 할 돈이 N원일 때 거슬러 주어야 할 동전의 최소 개수를 구하세요. 단, 거슬러 줘야 할 돈 N은 항상 10의 배수\n",
    "\n",
    "#### 해결 idea\n",
    "- 1. 가장 큰 화폐 단위부터 돈을 거슬러 줌\n",
    "- 2. N원을 거슬러 줘야 할 때, 가장 먼저 500원으로 거슬러 줄 수 있을 만큼 거슬러 줌. 이후 100원, 50원, 10원...\n",
    "\n",
    "#### 큰 화폐 단위부터 돈을 거슬러 주는 것이 최적 해를 보장하는 이유?\n",
    "- 가지고 있는 동전 중에서 큰 단위가 항상 작은 단위의 배수이므로 작은 단위의 동전들을 종합해 다른 해가 나올 수 없기 때문이다.\n",
    "- 만약 800원을 거슬러 주어야 하는데 화폐 단위가 500원, 400원, 100원 이라면?"
   ]
  },
  {
   "cell_type": "code",
   "execution_count": 3,
   "metadata": {},
   "outputs": [
    {
     "name": "stdout",
     "output_type": "stream",
     "text": [
      "6\n"
     ]
    }
   ],
   "source": [
    "# 1260원 이라면?\n",
    "# 500원 2개, 100원 2개, 50원 1개, 10원 1개\n",
    "\n",
    "n = 1260\n",
    "count = 0\n",
    "\n",
    "# 큰 단위의 화페부터 차례대로 확인하기\n",
    "array = [500, 100, 50, 10]\n",
    "\n",
    "for coin in array:\n",
    "    count += n // coin # 해당 화폐로 거슬러 줄 수 있는 동전의 개수 세기\n",
    "    n %= coin\n",
    "    \n",
    "print(count)\n"
   ]
  },
  {
   "cell_type": "markdown",
   "metadata": {},
   "source": [
    "#### 복잡도 계산\n",
    "- 화폐의 개수가 K라고 할 때, 소스코드의 시간 복잡도는 O(K)\n",
    "- 금액 자체와는 무관하며, 동전의 총 종류에만 연관이 있다는 점을 알 수 있다."
   ]
  },
  {
   "cell_type": "code",
   "execution_count": null,
   "metadata": {},
   "outputs": [],
   "source": []
  }
 ],
 "metadata": {
  "kernelspec": {
   "display_name": "Python 3",
   "language": "python",
   "name": "python3"
  },
  "language_info": {
   "codemirror_mode": {
    "name": "ipython",
    "version": 3
   },
   "file_extension": ".py",
   "mimetype": "text/x-python",
   "name": "python",
   "nbconvert_exporter": "python",
   "pygments_lexer": "ipython3",
   "version": "3.8.5"
  }
 },
 "nbformat": 4,
 "nbformat_minor": 4
}
